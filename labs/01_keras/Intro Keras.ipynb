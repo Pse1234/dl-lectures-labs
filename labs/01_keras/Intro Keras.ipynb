{
 "cells": [
  {
   "cell_type": "markdown",
   "metadata": {},
   "source": [
    "# Training Neural Networks with Keras\n",
    "\n",
    "### Goals: \n",
    "- Intro: train a neural network with `tensorflow` and the Keras layers\n",
    "\n",
    "### Dataset:\n",
    "- Digits: 10 class handwritten digits\n",
    "- http://scikit-learn.org/stable/modules/generated/sklearn.datasets.load_digits.html#sklearn.datasets.load_digits"
   ]
  },
  {
   "cell_type": "code",
   "execution_count": 1,
   "metadata": {},
   "outputs": [],
   "source": [
    "import matplotlib.pyplot as plt\n",
    "import numpy as np\n",
    "from sklearn.datasets import load_digits\n",
    "\n",
    "digits = load_digits()"
   ]
  },
  {
   "cell_type": "code",
   "execution_count": 2,
   "metadata": {},
   "outputs": [
    {
     "data": {
      "text/plain": [
       "(1797, 8, 8)"
      ]
     },
     "execution_count": 2,
     "metadata": {},
     "output_type": "execute_result"
    }
   ],
   "source": [
    "digits.images.shape"
   ]
  },
  {
   "cell_type": "code",
   "execution_count": 3,
   "metadata": {},
   "outputs": [
    {
     "data": {
      "text/plain": [
       "(1797, 64)"
      ]
     },
     "execution_count": 3,
     "metadata": {},
     "output_type": "execute_result"
    }
   ],
   "source": [
    "digits.data.shape"
   ]
  },
  {
   "cell_type": "code",
   "execution_count": 4,
   "metadata": {},
   "outputs": [
    {
     "data": {
      "text/plain": [
       "(1797,)"
      ]
     },
     "execution_count": 4,
     "metadata": {},
     "output_type": "execute_result"
    }
   ],
   "source": [
    "digits.target.shape"
   ]
  },
  {
   "cell_type": "code",
   "execution_count": 5,
   "metadata": {},
   "outputs": [
    {
     "data": {
      "image/png": "[encoded data removed]",
      "text/plain": [
       "<Figure size 300x300 with 1 Axes>"
      ]
     },
     "metadata": {},
     "output_type": "display_data"
    }
   ],
   "source": [
    "sample_index = 45\n",
    "plt.figure(figsize=(3, 3))\n",
    "plt.imshow(digits.images[sample_index], cmap=plt.cm.gray_r,\n",
    "           interpolation='nearest')\n",
    "plt.title(\"image label: %d\" % digits.target[sample_index]);"
   ]
  },
  {
   "cell_type": "markdown",
   "metadata": {},
   "source": [
    "## Train / Test Split\n",
    "\n",
    "Let's keep some held-out data to be able to measure the generalization performance of our model."
   ]
  },
  {
   "cell_type": "code",
   "execution_count": 6,
   "metadata": {},
   "outputs": [],
   "source": [
    "from sklearn.model_selection import train_test_split\n",
    "\n",
    "\n",
    "data = np.asarray(digits.data, dtype='float32')\n",
    "target = np.asarray(digits.target, dtype='int32')\n",
    "\n",
    "X_train, X_test, y_train, y_test = train_test_split(\n",
    "    data, target, test_size=0.15, random_state=37)"
   ]
  },
  {
   "cell_type": "code",
   "execution_count": 7,
   "metadata": {},
   "outputs": [
    {
     "data": {
      "text/plain": [
       "(1527, 64)"
      ]
     },
     "execution_count": 7,
     "metadata": {},
     "output_type": "execute_result"
    }
   ],
   "source": [
    "X_train.shape"
   ]
  },
  {
   "cell_type": "code",
   "execution_count": 8,
   "metadata": {},
   "outputs": [
    {
     "data": {
      "text/plain": [
       "(270, 64)"
      ]
     },
     "execution_count": 8,
     "metadata": {},
     "output_type": "execute_result"
    }
   ],
   "source": [
    "X_test.shape"
   ]
  },
  {
   "cell_type": "code",
   "execution_count": 9,
   "metadata": {},
   "outputs": [
    {
     "data": {
      "text/plain": [
       "(1527,)"
      ]
     },
     "execution_count": 9,
     "metadata": {},
     "output_type": "execute_result"
    }
   ],
   "source": [
    "y_train.shape"
   ]
  },
  {
   "cell_type": "code",
   "execution_count": 10,
   "metadata": {},
   "outputs": [
    {
     "data": {
      "text/plain": [
       "(270,)"
      ]
     },
     "execution_count": 10,
     "metadata": {},
     "output_type": "execute_result"
    }
   ],
   "source": [
    "y_test.shape"
   ]
  },
  {
   "cell_type": "markdown",
   "metadata": {},
   "source": [
    "## Preprocessing of the Input Data\n",
    "\n",
    "\n",
    "Make sure that all input variables are approximately on the same scale via input normalization:"
   ]
  },
  {
   "cell_type": "code",
   "execution_count": 11,
   "metadata": {},
   "outputs": [],
   "source": [
    "from sklearn import preprocessing\n",
    "\n",
    "\n",
    "# mean = 0 ; standard deviation = 1.0\n",
    "scaler = preprocessing.StandardScaler()\n",
    "X_train = scaler.fit_transform(X_train)\n",
    "X_test = scaler.transform(X_test)\n",
    "\n",
    "# print(scaler.mean_)\n",
    "# print(scaler.scale_)"
   ]
  },
  {
   "cell_type": "code",
   "execution_count": 12,
   "metadata": {},
   "outputs": [
    {
     "data": {
      "text/plain": [
       "(1527, 64)"
      ]
     },
     "execution_count": 12,
     "metadata": {},
     "output_type": "execute_result"
    }
   ],
   "source": [
    "X_train.shape"
   ]
  },
  {
   "cell_type": "code",
   "execution_count": 13,
   "metadata": {},
   "outputs": [
    {
     "data": {
      "text/plain": [
       "array([ 0.00000000e+00,  1.82717315e-07,  1.44815475e-08, -3.13441575e-08,\n",
       "       -7.49449391e-09, -9.50473567e-09, -7.10805850e-08,  6.18783673e-08,\n",
       "       -3.06025143e-08,  1.31056055e-07,  3.27103429e-08, -3.59111163e-09,\n",
       "       -4.29372049e-09, -1.07733342e-08, -1.92827070e-08, -7.90239696e-08,\n",
       "        1.56408518e-07, -2.18589391e-09,  2.89630950e-08, -1.74090840e-08,\n",
       "        6.71381741e-08,  5.87068669e-08, -9.85213617e-08, -4.79598782e-07,\n",
       "       -2.98413561e-08, -4.19223234e-08, -1.82522143e-07,  1.79555570e-08,\n",
       "       -3.11294706e-08,  2.08440607e-08, -6.83091841e-08,  9.33420665e-07,\n",
       "        0.00000000e+00,  1.78774897e-08,  1.50670544e-07, -3.45839659e-08,\n",
       "       -1.02463780e-08, -3.66137236e-08, -5.67551766e-08,  0.00000000e+00,\n",
       "       -2.17120757e-07, -6.30981702e-08, -1.81116935e-08, -2.62307278e-08,\n",
       "       -7.95509294e-08, -1.95169103e-09, -8.23613622e-09,  4.77871538e-08,\n",
       "       -1.66303593e-07, -1.25688899e-07, -2.30299548e-08, -1.13198082e-08,\n",
       "        2.51387576e-07, -9.99265826e-09,  3.74724678e-08, -1.85410653e-09,\n",
       "        2.62295089e-07, -8.66550849e-08,  1.06952669e-08,  1.99462828e-08,\n",
       "        4.32494751e-08,  1.00551127e-07, -1.32480793e-07, -7.56280301e-08],\n",
       "      dtype=float32)"
      ]
     },
     "execution_count": 13,
     "metadata": {},
     "output_type": "execute_result"
    }
   ],
   "source": [
    "X_train.mean(axis=0)"
   ]
  },
  {
   "cell_type": "code",
   "execution_count": 14,
   "metadata": {},
   "outputs": [
    {
     "data": {
      "text/plain": [
       "array([0.        , 0.99999774, 0.9999994 , 1.0000005 , 0.9999989 ,\n",
       "       0.9999988 , 1.0000077 , 0.9999965 , 1.0000098 , 0.9999947 ,\n",
       "       1.0000007 , 0.9999992 , 0.9999999 , 0.99999684, 0.9999984 ,\n",
       "       0.99999887, 0.9999969 , 1.000001  , 1.0000002 , 1.0000025 ,\n",
       "       0.99999905, 1.000004  , 1.0000008 , 0.9999972 , 0.9999967 ,\n",
       "       0.99999726, 1.        , 1.0000007 , 1.0000029 , 0.9999996 ,\n",
       "       0.99999696, 1.0000001 , 0.        , 1.0000007 , 1.0000023 ,\n",
       "       0.9999993 , 0.9999994 , 0.9999997 , 0.9999955 , 0.        ,\n",
       "       0.9999891 , 0.99999785, 1.0000032 , 0.9999999 , 0.99999756,\n",
       "       1.000001  , 0.999996  , 0.9999987 , 1.0000006 , 0.9999936 ,\n",
       "       1.0000038 , 1.0000004 , 1.0000012 , 0.999997  , 0.99999785,\n",
       "       0.9999988 , 0.9999857 , 1.0000073 , 0.9999967 , 1.0000031 ,\n",
       "       0.9999993 , 1.        , 0.999996  , 0.9999977 ], dtype=float32)"
      ]
     },
     "execution_count": 14,
     "metadata": {},
     "output_type": "execute_result"
    }
   ],
   "source": [
    "X_train.std(axis=0)"
   ]
  },
  {
   "cell_type": "markdown",
   "metadata": {},
   "source": [
    "Let's display the one of the transformed sample (after feature standardization):"
   ]
  },
  {
   "cell_type": "code",
   "execution_count": 16,
   "metadata": {},
   "outputs": [
    {
     "data": {
      "image/png": "[encoded data removed]",
      "text/plain": [
       "<Figure size 300x300 with 1 Axes>"
      ]
     },
     "metadata": {},
     "output_type": "display_data"
    }
   ],
   "source": [
    "# pour les modèles de DL c'est mieux de StandardScale\n",
    "\n",
    "sample_index = 45\n",
    "plt.figure(figsize=(3, 3))\n",
    "plt.imshow(X_train[sample_index].reshape(8, 8),\n",
    "           cmap=plt.cm.gray_r, interpolation='nearest')\n",
    "plt.title(\"transformed sample\\n(standardization)\");"
   ]
  },
  {
   "cell_type": "markdown",
   "metadata": {},
   "source": [
    "The scaler objects makes it possible to recover the original sample:"
   ]
  },
  {
   "cell_type": "code",
   "execution_count": 20,
   "metadata": {},
   "outputs": [
    {
     "data": {
      "image/png": "[encoded data removed]",
      "text/plain": [
       "<Figure size 300x300 with 1 Axes>"
      ]
     },
     "metadata": {},
     "output_type": "display_data"
    }
   ],
   "source": [
    "# appliquer a la transformation et pas a l'image initial\n",
    "\n",
    "plt.figure(figsize=(3, 3))\n",
    "plt.imshow(scaler.inverse_transform(X_train[sample_index:sample_index+1]).reshape(8, 8),\n",
    "           cmap=plt.cm.gray_r, interpolation='nearest')\n",
    "plt.title(\"original sample\");"
   ]
  },
  {
   "cell_type": "code",
   "execution_count": 21,
   "metadata": {},
   "outputs": [
    {
     "name": "stdout",
     "output_type": "stream",
     "text": [
      "(1527, 64) (1527,)\n"
     ]
    }
   ],
   "source": [
    "print(X_train.shape, y_train.shape)"
   ]
  },
  {
   "cell_type": "code",
   "execution_count": 22,
   "metadata": {},
   "outputs": [
    {
     "name": "stdout",
     "output_type": "stream",
     "text": [
      "(270, 64) (270,)\n"
     ]
    }
   ],
   "source": [
    "print(X_test.shape, y_test.shape)"
   ]
  },
  {
   "cell_type": "markdown",
   "metadata": {},
   "source": [
    "## Preprocessing of the Target Data\n",
    "\n",
    "\n",
    "To train a first neural network we also need to turn the target variable into a vector \"one-hot-encoding\" representation. Here are the labels of the first samples in the training set encoded as integers:"
   ]
  },
  {
   "cell_type": "code",
   "execution_count": 23,
   "metadata": {},
   "outputs": [
    {
     "data": {
      "text/plain": [
       "array([2, 9, 5], dtype=int32)"
      ]
     },
     "execution_count": 23,
     "metadata": {},
     "output_type": "execute_result"
    }
   ],
   "source": [
    "y_train[:3]"
   ]
  },
  {
   "cell_type": "markdown",
   "metadata": {},
   "source": [
    "Keras provides a utility function to convert integer-encoded categorical variables as one-hot encoded values:"
   ]
  },
  {
   "cell_type": "code",
   "execution_count": 26,
   "metadata": {},
   "outputs": [
    {
     "data": {
      "text/plain": [
       "array([[0., 0., 1., 0., 0., 0., 0., 0., 0., 0.],\n",
       "       [0., 0., 0., 0., 0., 0., 0., 0., 0., 1.],\n",
       "       [0., 0., 0., 0., 0., 1., 0., 0., 0., 0.]], dtype=float32)"
      ]
     },
     "execution_count": 26,
     "metadata": {},
     "output_type": "execute_result"
    }
   ],
   "source": [
    "from tensorflow.keras.utils import to_categorical\n",
    "\n",
    "Y_train = to_categorical(y_train)\n",
    "Y_train[:3]"
   ]
  },
  {
   "cell_type": "code",
   "execution_count": 27,
   "metadata": {},
   "outputs": [
    {
     "data": {
      "text/plain": [
       "(1527, 10)"
      ]
     },
     "execution_count": 27,
     "metadata": {},
     "output_type": "execute_result"
    }
   ],
   "source": [
    "Y_train.shape"
   ]
  },
  {
   "cell_type": "markdown",
   "metadata": {},
   "source": [
    "## Feed Forward Neural Networks with Keras\n",
    "\n",
    "Objectives of this section:\n",
    "\n",
    "- Build and train a first feedforward network using `Keras`\n",
    "    - https://www.tensorflow.org/guide/keras/overview\n",
    "- Experiment with different optimizers, activations, size of layers, initializations\n",
    "\n",
    "### A First Keras Model"
   ]
  },
  {
   "cell_type": "markdown",
   "metadata": {},
   "source": [
    "We can now build an train a our first feed forward neural network using the high level API from keras:\n",
    "\n",
    "- first we define the model by stacking layers with the right dimensions\n",
    "- then we define a loss function and plug the SGD optimizer\n",
    "- then we feed the model the training data for fixed number of epochs"
   ]
  },
  {
   "cell_type": "code",
   "execution_count": 32,
   "metadata": {},
   "outputs": [
    {
     "name": "stdout",
     "output_type": "stream",
     "text": [
      "Epoch 1/15\n",
      "39/39 [==============================] - 0s 4ms/step - loss: 0.9609 - accuracy: 0.7469 - val_loss: 0.4409 - val_accuracy: 0.9020\n",
      "Epoch 2/15\n",
      "39/39 [==============================] - 0s 2ms/step - loss: 0.3160 - accuracy: 0.9402 - val_loss: 0.2797 - val_accuracy: 0.9281\n",
      "Epoch 3/15\n",
      "39/39 [==============================] - 0s 2ms/step - loss: 0.2116 - accuracy: 0.9631 - val_loss: 0.2244 - val_accuracy: 0.9477\n",
      "Epoch 4/15\n",
      "39/39 [==============================] - 0s 2ms/step - loss: 0.1650 - accuracy: 0.9713 - val_loss: 0.1912 - val_accuracy: 0.9641\n",
      "Epoch 5/15\n",
      "39/39 [==============================] - 0s 2ms/step - loss: 0.1361 - accuracy: 0.9762 - val_loss: 0.1764 - val_accuracy: 0.9641\n",
      "Epoch 6/15\n",
      "39/39 [==============================] - 0s 2ms/step - loss: 0.1166 - accuracy: 0.9795 - val_loss: 0.1578 - val_accuracy: 0.9641\n",
      "Epoch 7/15\n",
      "39/39 [==============================] - 0s 1ms/step - loss: 0.1023 - accuracy: 0.9812 - val_loss: 0.1468 - val_accuracy: 0.9706\n",
      "Epoch 8/15\n",
      "39/39 [==============================] - 0s 2ms/step - loss: 0.0912 - accuracy: 0.9836 - val_loss: 0.1404 - val_accuracy: 0.9739\n",
      "Epoch 9/15\n",
      "39/39 [==============================] - 0s 2ms/step - loss: 0.0823 - accuracy: 0.9877 - val_loss: 0.1412 - val_accuracy: 0.9641\n",
      "Epoch 10/15\n",
      "39/39 [==============================] - 0s 2ms/step - loss: 0.0751 - accuracy: 0.9885 - val_loss: 0.1261 - val_accuracy: 0.9706\n",
      "Epoch 11/15\n",
      "39/39 [==============================] - 0s 2ms/step - loss: 0.0683 - accuracy: 0.9910 - val_loss: 0.1220 - val_accuracy: 0.9739\n",
      "Epoch 12/15\n",
      "39/39 [==============================] - 0s 2ms/step - loss: 0.0629 - accuracy: 0.9918 - val_loss: 0.1197 - val_accuracy: 0.9739\n",
      "Epoch 13/15\n",
      "39/39 [==============================] - 0s 2ms/step - loss: 0.0581 - accuracy: 0.9926 - val_loss: 0.1180 - val_accuracy: 0.9739\n",
      "Epoch 14/15\n",
      "39/39 [==============================] - 0s 2ms/step - loss: 0.0539 - accuracy: 0.9934 - val_loss: 0.1127 - val_accuracy: 0.9739\n",
      "Epoch 15/15\n",
      "39/39 [==============================] - 0s 2ms/step - loss: 0.0501 - accuracy: 0.9951 - val_loss: 0.1094 - val_accuracy: 0.9739\n"
     ]
    }
   ],
   "source": [
    "# EPOCH, nombre de fois qu'on parcours le jeu de données. On split en batch, et on refait avec l'ensemble de batch. \n",
    "# 1 epoch, on a fini les batch et on recommence jusqu'a 15\n",
    "# batch fixé par mémoire et par convergence \n",
    "# validation split -> pour les metriques\n",
    "\n",
    "from tensorflow.keras.models import Sequential\n",
    "from tensorflow.keras.layers import Dense\n",
    "from tensorflow.keras import optimizers\n",
    "\n",
    "input_dim = X_train.shape[1]\n",
    "hidden_dim = 100\n",
    "output_dim = Y_train.shape[1]\n",
    "\n",
    "model = Sequential()\n",
    "model.add(Dense(hidden_dim, input_dim=input_dim, activation=\"tanh\"))\n",
    "model.add(Dense(output_dim, activation=\"softmax\"))\n",
    "\n",
    "model.compile(optimizer=optimizers.SGD(learning_rate=0.1),\n",
    "              loss='categorical_crossentropy', metrics=['accuracy'])\n",
    "\n",
    "history = model.fit(X_train, Y_train, validation_split=0.2, epochs=15, batch_size=32)"
   ]
  },
  {
   "cell_type": "markdown",
   "metadata": {},
   "source": [
    "### Visualizing the Convergence\n",
    "\n",
    "Let's wrap the keras history info into a pandas dataframe for easier plotting:"
   ]
  },
  {
   "cell_type": "code",
   "execution_count": 33,
   "metadata": {},
   "outputs": [],
   "source": [
    "import pandas as pd\n",
    "\n",
    "history_df = pd.DataFrame(history.history)\n",
    "history_df[\"epoch\"] = history.epoch"
   ]
  },
  {
   "cell_type": "code",
   "execution_count": 34,
   "metadata": {},
   "outputs": [
    {
     "data": {
      "image/png": "[encoded data removed]",
      "text/plain": [
       "<Figure size 1200x600 with 2 Axes>"
      ]
     },
     "metadata": {},
     "output_type": "display_data"
    }
   ],
   "source": [
    "# ici c'est nous qui regardons la convergence et on l'arrete, et ça prend du temps, \n",
    "# donc si on met 100 epochs alors que a 3 il converge ça sert a rien.\n",
    "\n",
    "fig, (ax0, ax1) = plt.subplots(nrows=2, sharex=True, figsize=(12, 6))\n",
    "history_df.plot(x=\"epoch\", y=[\"loss\", \"val_loss\"], ax=ax0)\n",
    "history_df.plot(x=\"epoch\", y=[\"accuracy\", \"val_accuracy\"], ax=ax1);"
   ]
  },
  {
   "cell_type": "markdown",
   "metadata": {},
   "source": [
    "### Monitoring Convergence with Tensorboard\n",
    "\n",
    "Tensorboard is a built-in neural network monitoring tool. "
   ]
  },
  {
   "cell_type": "code",
   "execution_count": 35,
   "metadata": {},
   "outputs": [],
   "source": [
    "%load_ext tensorboard"
   ]
  },
  {
   "cell_type": "code",
   "execution_count": 36,
   "metadata": {},
   "outputs": [],
   "source": [
    "!rm -rf tensorboard_logs"
   ]
  },
  {
   "cell_type": "code",
   "execution_count": 37,
   "metadata": {},
   "outputs": [
    {
     "name": "stdout",
     "output_type": "stream",
     "text": [
      "Epoch 1/15\n",
      "39/39 [==============================] - 0s 6ms/step - loss: 0.9189 - accuracy: 0.7658 - val_loss: 0.4011 - val_accuracy: 0.9183\n",
      "Epoch 2/15\n",
      "39/39 [==============================] - 0s 2ms/step - loss: 0.3211 - accuracy: 0.9369 - val_loss: 0.2648 - val_accuracy: 0.9542\n",
      "Epoch 3/15\n",
      "39/39 [==============================] - 0s 2ms/step - loss: 0.2175 - accuracy: 0.9550 - val_loss: 0.2087 - val_accuracy: 0.9608\n",
      "Epoch 4/15\n",
      "39/39 [==============================] - 0s 2ms/step - loss: 0.1692 - accuracy: 0.9697 - val_loss: 0.1736 - val_accuracy: 0.9673\n",
      "Epoch 5/15\n",
      "39/39 [==============================] - 0s 2ms/step - loss: 0.1397 - accuracy: 0.9779 - val_loss: 0.1535 - val_accuracy: 0.9673\n",
      "Epoch 6/15\n",
      "39/39 [==============================] - 0s 2ms/step - loss: 0.1199 - accuracy: 0.9803 - val_loss: 0.1413 - val_accuracy: 0.9706\n",
      "Epoch 7/15\n",
      "39/39 [==============================] - 0s 2ms/step - loss: 0.1058 - accuracy: 0.9869 - val_loss: 0.1335 - val_accuracy: 0.9673\n",
      "Epoch 8/15\n",
      "39/39 [==============================] - 0s 2ms/step - loss: 0.0938 - accuracy: 0.9877 - val_loss: 0.1247 - val_accuracy: 0.9706\n",
      "Epoch 9/15\n",
      "39/39 [==============================] - 0s 2ms/step - loss: 0.0845 - accuracy: 0.9869 - val_loss: 0.1196 - val_accuracy: 0.9706\n",
      "Epoch 10/15\n",
      "39/39 [==============================] - 0s 2ms/step - loss: 0.0770 - accuracy: 0.9885 - val_loss: 0.1143 - val_accuracy: 0.9739\n",
      "Epoch 11/15\n",
      "39/39 [==============================] - 0s 2ms/step - loss: 0.0703 - accuracy: 0.9885 - val_loss: 0.1098 - val_accuracy: 0.9739\n",
      "Epoch 12/15\n",
      "39/39 [==============================] - 0s 2ms/step - loss: 0.0652 - accuracy: 0.9902 - val_loss: 0.1061 - val_accuracy: 0.9739\n",
      "Epoch 13/15\n",
      "39/39 [==============================] - 0s 2ms/step - loss: 0.0605 - accuracy: 0.9910 - val_loss: 0.1038 - val_accuracy: 0.9739\n",
      "Epoch 14/15\n",
      "39/39 [==============================] - 0s 2ms/step - loss: 0.0557 - accuracy: 0.9918 - val_loss: 0.1021 - val_accuracy: 0.9771\n",
      "Epoch 15/15\n",
      "39/39 [==============================] - 0s 2ms/step - loss: 0.0518 - accuracy: 0.9926 - val_loss: 0.0991 - val_accuracy: 0.9771\n"
     ]
    }
   ],
   "source": [
    "import datetime\n",
    "from tensorflow.keras.callbacks import TensorBoard\n",
    "\n",
    "model = Sequential()\n",
    "model.add(Dense(hidden_dim, input_dim=input_dim, activation=\"tanh\"))\n",
    "model.add(Dense(output_dim, activation=\"softmax\"))\n",
    "\n",
    "model.compile(optimizer=optimizers.SGD(learning_rate=0.1),\n",
    "              loss='categorical_crossentropy', metrics=['accuracy'])\n",
    "\n",
    "timestamp =  datetime.datetime.now().strftime(\"%Y%m%d-%H%M%S\")\n",
    "log_dir = \"tensorboard_logs/\" + timestamp\n",
    "tensorboard_callback = TensorBoard(log_dir=log_dir, histogram_freq=1)\n",
    "\n",
    "model.fit(x=X_train, y=Y_train, validation_split=0.2, epochs=15,\n",
    "          callbacks=[tensorboard_callback]);"
   ]
  },
  {
   "cell_type": "code",
   "execution_count": 38,
   "metadata": {},
   "outputs": [
    {
     "data": {
      "text/html": [
       "\n",
       "      <iframe id=\"tensorboard-frame-cbeb1e7e23e913ac\" width=\"100%\" height=\"800\" frameborder=\"0\">\n",
       "      </iframe>\n",
       "      <script>\n",
       "        (function() {\n",
       "          const frame = document.getElementById(\"tensorboard-frame-cbeb1e7e23e913ac\");\n",
       "          const url = new URL(\"/\", window.location);\n",
       "          const port = 6006;\n",
       "          if (port) {\n",
       "            url.port = port;\n",
       "          }\n",
       "          frame.src = url;\n",
       "        })();\n",
       "      </script>\n",
       "    "
      ],
      "text/plain": [
       "<IPython.core.display.HTML object>"
      ]
     },
     "metadata": {},
     "output_type": "display_data"
    }
   ],
   "source": [
    "%tensorboard --logdir tensorboard_logs"
   ]
  },
  {
   "cell_type": "markdown",
   "metadata": {
    "tags": []
   },
   "source": [
    "### b) Exercises: Impact of the Optimizer\n",
    "\n",
    "- Try to decrease the learning rate value by 10 or 100. What do you observe?\n",
    "\n",
    "- Try to increase the learning rate value to make the optimization diverge.\n",
    "\n",
    "- Configure the SGD optimizer to enable a Nesterov momentum of 0.9\n",
    "  \n",
    "**Notes**: \n",
    "\n",
    "The keras API documentation is available at:\n",
    "\n",
    "https://www.tensorflow.org/api_docs/python/tf/keras\n",
    "\n",
    "It is also possible to learn more about the parameters of a class by using the question mark: type and evaluate:\n",
    "\n",
    "```python\n",
    "optimizers.SGD?\n",
    "```\n",
    "\n",
    "in a jupyter notebook cell.\n",
    "\n",
    "It is also possible to type the beginning of a function call / constructor and type \"shift-tab\" after the opening paren:\n",
    "\n",
    "```python\n",
    "optimizers.SGD(<shiff-tab>\n",
    "```"
   ]
  },
  {
   "cell_type": "code",
   "execution_count": 42,
   "metadata": {},
   "outputs": [
    {
     "data": {
      "text/plain": [
       "\u001b[0;31mInit signature:\u001b[0m\n",
       "\u001b[0moptimizers\u001b[0m\u001b[0;34m.\u001b[0m\u001b[0mSGD\u001b[0m\u001b[0;34m(\u001b[0m\u001b[0;34m\u001b[0m\n",
       "\u001b[0;34m\u001b[0m    \u001b[0mlearning_rate\u001b[0m\u001b[0;34m=\u001b[0m\u001b[0;36m0.01\u001b[0m\u001b[0;34m,\u001b[0m\u001b[0;34m\u001b[0m\n",
       "\u001b[0;34m\u001b[0m    \u001b[0mmomentum\u001b[0m\u001b[0;34m=\u001b[0m\u001b[0;36m0.0\u001b[0m\u001b[0;34m,\u001b[0m\u001b[0;34m\u001b[0m\n",
       "\u001b[0;34m\u001b[0m    \u001b[0mnesterov\u001b[0m\u001b[0;34m=\u001b[0m\u001b[0;32mFalse\u001b[0m\u001b[0;34m,\u001b[0m\u001b[0;34m\u001b[0m\n",
       "\u001b[0;34m\u001b[0m    \u001b[0mname\u001b[0m\u001b[0;34m=\u001b[0m\u001b[0;34m'SGD'\u001b[0m\u001b[0;34m,\u001b[0m\u001b[0;34m\u001b[0m\n",
       "\u001b[0;34m\u001b[0m    \u001b[0;34m**\u001b[0m\u001b[0mkwargs\u001b[0m\u001b[0;34m,\u001b[0m\u001b[0;34m\u001b[0m\n",
       "\u001b[0;34m\u001b[0m\u001b[0;34m)\u001b[0m\u001b[0;34m\u001b[0m\u001b[0;34m\u001b[0m\u001b[0m\n",
       "\u001b[0;31mDocstring:\u001b[0m     \n",
       "Gradient descent (with momentum) optimizer.\n",
       "\n",
       "Update rule for parameter `w` with gradient `g` when `momentum` is 0:\n",
       "\n",
       "```python\n",
       "w = w - learning_rate * g\n",
       "```\n",
       "\n",
       "Update rule when `momentum` is larger than 0:\n",
       "\n",
       "```python\n",
       "velocity = momentum * velocity - learning_rate * g\n",
       "w = w + velocity\n",
       "```\n",
       "\n",
       "When `nesterov=True`, this rule becomes:\n",
       "\n",
       "```python\n",
       "velocity = momentum * velocity - learning_rate * g\n",
       "w = w + momentum * velocity - learning_rate * g\n",
       "```\n",
       "\n",
       "Args:\n",
       "  learning_rate: A `Tensor`, floating point value, or a schedule that is a\n",
       "    `tf.keras.optimizers.schedules.LearningRateSchedule`, or a callable\n",
       "    that takes no arguments and returns the actual value to use. The\n",
       "    learning rate. Defaults to 0.01.\n",
       "  momentum: float hyperparameter >= 0 that accelerates gradient descent in\n",
       "    the relevant direction and dampens oscillations. Defaults to 0, i.e.,\n",
       "    vanilla gradient descent.\n",
       "  nesterov: boolean. Whether to apply Nesterov momentum.\n",
       "    Defaults to `False`.\n",
       "  name: Optional name prefix for the operations created when applying\n",
       "    gradients.  Defaults to `\"SGD\"`.\n",
       "  **kwargs: keyword arguments. Allowed arguments are `clipvalue`,\n",
       "    `clipnorm`, `global_clipnorm`.\n",
       "    If `clipvalue` (float) is set, the gradient of each weight\n",
       "    is clipped to be no higher than this value.\n",
       "    If `clipnorm` (float) is set, the gradient of each weight\n",
       "    is individually clipped so that its norm is no higher than this value.\n",
       "    If `global_clipnorm` (float) is set the gradient of all weights is\n",
       "    clipped so that their global norm is no higher than this value.\n",
       "\n",
       "Usage:\n",
       "\n",
       ">>> opt = tf.keras.optimizers.SGD(learning_rate=0.1)\n",
       ">>> var = tf.Variable(1.0)\n",
       ">>> loss = lambda: (var ** 2)/2.0         # d(loss)/d(var1) = var1\n",
       ">>> step_count = opt.minimize(loss, [var]).numpy()\n",
       ">>> # Step is `- learning_rate * grad`\n",
       ">>> var.numpy()\n",
       "0.9\n",
       "\n",
       ">>> opt = tf.keras.optimizers.SGD(learning_rate=0.1, momentum=0.9)\n",
       ">>> var = tf.Variable(1.0)\n",
       ">>> val0 = var.value()\n",
       ">>> loss = lambda: (var ** 2)/2.0         # d(loss)/d(var1) = var1\n",
       ">>> # First step is `- learning_rate * grad`\n",
       ">>> step_count = opt.minimize(loss, [var]).numpy()\n",
       ">>> val1 = var.value()\n",
       ">>> (val0 - val1).numpy()\n",
       "0.1\n",
       ">>> # On later steps, step-size increases because of momentum\n",
       ">>> step_count = opt.minimize(loss, [var]).numpy()\n",
       ">>> val2 = var.value()\n",
       ">>> (val1 - val2).numpy()\n",
       "0.18\n",
       "\n",
       "Reference:\n",
       "    - For `nesterov=True`, See [Sutskever et al., 2013](\n",
       "      http://jmlr.org/proceedings/papers/v28/sutskever13.pdf).\n",
       "\u001b[0;31mInit docstring:\u001b[0m\n",
       "Create a new Optimizer.\n",
       "\n",
       "This must be called by the constructors of subclasses.\n",
       "Note that Optimizer instances should not bind to a single graph,\n",
       "and so shouldn't keep Tensors as member variables. Generally\n",
       "you should be able to use the _set_hyper()/state.get_hyper()\n",
       "facility instead.\n",
       "\n",
       "This class is stateful and thread-compatible.\n",
       "\n",
       "Example of custom gradient transformations:\n",
       "\n",
       "```python\n",
       "def my_gradient_transformer(grads_and_vars):\n",
       "  # Simple example, double the gradients.\n",
       "  return [(2. * g, v) for g, v in grads_and_vars]\n",
       "\n",
       "optimizer = tf.keras.optimizers.SGD(\n",
       "    1e-3, gradient_transformers=[my_gradient_transformer])\n",
       "```\n",
       "\n",
       "Args:\n",
       "  name: String. The name to use for momentum accumulator weights created\n",
       "    by the optimizer.\n",
       "  gradient_aggregator: The function to use to aggregate gradients across\n",
       "    devices (when using `tf.distribute.Strategy`). If `None`, defaults\n",
       "    to summing the gradients across devices. The function should accept\n",
       "    and return a list of `(gradient, variable)` tuples.\n",
       "  gradient_transformers: Optional. List of functions to use to transform\n",
       "    gradients before applying updates to Variables. The functions are\n",
       "    applied after `gradient_aggregator`. The functions should accept and\n",
       "    return a list of `(gradient, variable)` tuples.\n",
       "  **kwargs: keyword arguments. Allowed arguments are `clipvalue`,\n",
       "    `clipnorm`, `global_clipnorm`.\n",
       "    If `clipvalue` (float) is set, the gradient of each weight\n",
       "    is clipped to be no higher than this value.\n",
       "    If `clipnorm` (float) is set, the gradient of each weight\n",
       "    is individually clipped so that its norm is no higher than this\n",
       "    value. If `global_clipnorm` (float) is set the gradient of all\n",
       "    weights is clipped so that their global norm is no higher than this\n",
       "    value.\n",
       "\n",
       "Raises:\n",
       "  ValueError: in case of any invalid argument.\n",
       "\u001b[0;31mFile:\u001b[0m           ~/opt/anaconda3/envs/dlclass/lib/python3.9/site-packages/keras/optimizers/optimizer_v2/gradient_descent.py\n",
       "\u001b[0;31mType:\u001b[0m           type\n",
       "\u001b[0;31mSubclasses:\u001b[0m     SGD"
      ]
     },
     "metadata": {},
     "output_type": "display_data"
    }
   ],
   "source": [
    "optimizers.SGD?"
   ]
  },
  {
   "cell_type": "code",
   "execution_count": 56,
   "metadata": {},
   "outputs": [
    {
     "name": "stdout",
     "output_type": "stream",
     "text": [
      "Epoch 1/15\n",
      "39/39 [==============================] - 0s 5ms/step - loss: 0.9114 - accuracy: 0.7625 - val_loss: 0.3924 - val_accuracy: 0.9150\n",
      "Epoch 2/15\n",
      "39/39 [==============================] - 0s 2ms/step - loss: 0.3126 - accuracy: 0.9320 - val_loss: 0.2663 - val_accuracy: 0.9510\n",
      "Epoch 3/15\n",
      "39/39 [==============================] - 0s 2ms/step - loss: 0.2145 - accuracy: 0.9533 - val_loss: 0.2109 - val_accuracy: 0.9641\n",
      "Epoch 4/15\n",
      "39/39 [==============================] - 0s 2ms/step - loss: 0.1674 - accuracy: 0.9623 - val_loss: 0.1787 - val_accuracy: 0.9673\n",
      "Epoch 5/15\n",
      "39/39 [==============================] - 0s 2ms/step - loss: 0.1402 - accuracy: 0.9730 - val_loss: 0.1613 - val_accuracy: 0.9706\n",
      "Epoch 6/15\n",
      "39/39 [==============================] - 0s 2ms/step - loss: 0.1203 - accuracy: 0.9779 - val_loss: 0.1515 - val_accuracy: 0.9673\n",
      "Epoch 7/15\n",
      "39/39 [==============================] - 0s 2ms/step - loss: 0.1058 - accuracy: 0.9812 - val_loss: 0.1412 - val_accuracy: 0.9673\n",
      "Epoch 8/15\n",
      "39/39 [==============================] - 0s 2ms/step - loss: 0.0936 - accuracy: 0.9820 - val_loss: 0.1320 - val_accuracy: 0.9673\n",
      "Epoch 9/15\n",
      "39/39 [==============================] - 0s 2ms/step - loss: 0.0847 - accuracy: 0.9877 - val_loss: 0.1279 - val_accuracy: 0.9706\n",
      "Epoch 10/15\n",
      "39/39 [==============================] - 0s 2ms/step - loss: 0.0770 - accuracy: 0.9894 - val_loss: 0.1218 - val_accuracy: 0.9706\n",
      "Epoch 11/15\n",
      "39/39 [==============================] - 0s 2ms/step - loss: 0.0704 - accuracy: 0.9910 - val_loss: 0.1185 - val_accuracy: 0.9706\n",
      "Epoch 12/15\n",
      "39/39 [==============================] - 0s 2ms/step - loss: 0.0651 - accuracy: 0.9910 - val_loss: 0.1138 - val_accuracy: 0.9739\n",
      "Epoch 13/15\n",
      "39/39 [==============================] - 0s 2ms/step - loss: 0.0599 - accuracy: 0.9943 - val_loss: 0.1106 - val_accuracy: 0.9739\n",
      "Epoch 14/15\n",
      "39/39 [==============================] - 0s 2ms/step - loss: 0.0558 - accuracy: 0.9943 - val_loss: 0.1083 - val_accuracy: 0.9739\n",
      "Epoch 15/15\n",
      "39/39 [==============================] - 0s 2ms/step - loss: 0.0519 - accuracy: 0.9934 - val_loss: 0.1069 - val_accuracy: 0.9771\n"
     ]
    },
    {
     "data": {
      "image/png": "[encoded data removed]",
      "text/plain": [
       "<Figure size 1200x600 with 2 Axes>"
      ]
     },
     "metadata": {},
     "output_type": "display_data"
    }
   ],
   "source": [
    "# EPOCH, nombre de fois qu'on parcours le jeu de données. On split en batch, et on refait avec l'ensemble de batch. \n",
    "# 1 epoch, on a fini les batch et on recommence jusqu'a 15\n",
    "# batch fixé par mémoire et par convergence \n",
    "# validation split -> pour les metriques\n",
    "\n",
    "from tensorflow.keras.models import Sequential\n",
    "from tensorflow.keras.layers import Dense\n",
    "from tensorflow.keras import optimizers\n",
    "\n",
    "input_dim = X_train.shape[1]\n",
    "hidden_dim = 100\n",
    "output_dim = Y_train.shape[1]\n",
    "\n",
    "model = Sequential()\n",
    "model.add(Dense(hidden_dim, input_dim=input_dim, activation=\"tanh\"))\n",
    "model.add(Dense(output_dim, activation=\"softmax\"))\n",
    "\n",
    "model.compile(optimizer=optimizers.SGD(learning_rate=0.1),\n",
    "              loss='categorical_crossentropy', metrics=['accuracy'])\n",
    "\n",
    "history = model.fit(X_train, Y_train, validation_split=0.2, epochs=15, batch_size=32)\n",
    "\n",
    "history_df = pd.DataFrame(history.history)\n",
    "history_df[\"epoch\"] = history.epoch\n",
    "\n",
    "# ici c'est nous qui regardons la convergence et on l'arrete, et ça prend du temps, \n",
    "# donc si on met 100 epochs alors que a 3 il converge ça sert a rien.\n",
    "\n",
    "fig, (ax0, ax1) = plt.subplots(nrows=2, sharex=True, figsize=(12, 6))\n",
    "history_df.plot(x=\"epoch\", y=[\"loss\", \"val_loss\"], ax=ax0)\n",
    "history_df.plot(x=\"epoch\", y=[\"accuracy\", \"val_accuracy\"], ax=ax1);"
   ]
  },
  {
   "cell_type": "code",
   "execution_count": 57,
   "metadata": {},
   "outputs": [],
   "source": [
    "# %load solutions/keras_sgd_and_momentum.py"
   ]
  },
  {
   "cell_type": "markdown",
   "metadata": {},
   "source": [
    "- Replace the SGD optimizer by the Adam optimizer from keras and run it\n",
    "  with the default parameters.\n",
    "\n",
    "  Hint: use `optimizers.<TAB>` to tab-complete the list of implemented optimizers in Keras.\n",
    "\n",
    "- Add another hidden layer and use the \"Rectified Linear Unit\" for each\n",
    "  hidden layer. Can you still train the model with Adam with its default global\n",
    "  learning rate?"
   ]
  },
  {
   "cell_type": "code",
   "execution_count": null,
   "metadata": {},
   "outputs": [],
   "source": []
  },
  {
   "cell_type": "code",
   "execution_count": null,
   "metadata": {},
   "outputs": [],
   "source": [
    "# %load solutions/keras_adam.py"
   ]
  },
  {
   "cell_type": "markdown",
   "metadata": {},
   "source": [
    "### Exercises: Forward Pass and Generalization\n",
    "\n",
    "- Compute predictions on test set using `model.predict(...)`\n",
    "- Compute average accuracy of the model on the test set: the fraction of test samples for which the model makes a prediction that matches the true label."
   ]
  },
  {
   "cell_type": "code",
   "execution_count": null,
   "metadata": {},
   "outputs": [],
   "source": []
  },
  {
   "cell_type": "code",
   "execution_count": null,
   "metadata": {},
   "outputs": [],
   "source": [
    "# %load solutions/keras_accuracy_on_test_set.py"
   ]
  },
  {
   "cell_type": "markdown",
   "metadata": {},
   "source": [
    "Let us decompose how we got the predictions. First, we call the model on the data to get the laster layer (softmax) outputs directly as a tensorflow Tensor:"
   ]
  },
  {
   "cell_type": "code",
   "execution_count": null,
   "metadata": {},
   "outputs": [],
   "source": [
    "predictions_tf = model(X_test)\n",
    "predictions_tf[:5]"
   ]
  },
  {
   "cell_type": "code",
   "execution_count": null,
   "metadata": {},
   "outputs": [],
   "source": [
    "type(predictions_tf), predictions_tf.shape"
   ]
  },
  {
   "cell_type": "markdown",
   "metadata": {},
   "source": [
    "We can use the tensorflow API to check that for each row, the probabilities sum to 1:"
   ]
  },
  {
   "cell_type": "code",
   "execution_count": null,
   "metadata": {},
   "outputs": [],
   "source": [
    "import tensorflow as tf\n",
    "\n",
    "tf.reduce_sum(predictions_tf, axis=1)[:5]"
   ]
  },
  {
   "cell_type": "markdown",
   "metadata": {},
   "source": [
    "We can also extract the label with the highest probability using the tensorflow API:"
   ]
  },
  {
   "cell_type": "code",
   "execution_count": null,
   "metadata": {},
   "outputs": [],
   "source": [
    "predicted_labels_tf = tf.argmax(predictions_tf, axis=1)\n",
    "predicted_labels_tf[:5]"
   ]
  },
  {
   "cell_type": "markdown",
   "metadata": {},
   "source": [
    "We can compare those labels to the expected labels to compute the accuracy with the Tensorflow API. Note however that we need an explicit cast from boolean to floating point values to be able to compute the mean accuracy when using the tensorflow tensors:"
   ]
  },
  {
   "cell_type": "code",
   "execution_count": null,
   "metadata": {},
   "outputs": [],
   "source": [
    "accuracy_tf = tf.reduce_mean(tf.cast(predicted_labels_tf == y_test, tf.float64))\n",
    "accuracy_tf"
   ]
  },
  {
   "cell_type": "markdown",
   "metadata": {},
   "source": [
    "Also note that it is possible to convert tensors to numpy array if one prefer to use numpy:"
   ]
  },
  {
   "cell_type": "code",
   "execution_count": null,
   "metadata": {},
   "outputs": [],
   "source": [
    "accuracy_tf.numpy()"
   ]
  },
  {
   "cell_type": "code",
   "execution_count": null,
   "metadata": {},
   "outputs": [],
   "source": [
    "predicted_labels_tf[:5]"
   ]
  },
  {
   "cell_type": "code",
   "execution_count": null,
   "metadata": {},
   "outputs": [],
   "source": [
    "predicted_labels_tf.numpy()[:5]"
   ]
  },
  {
   "cell_type": "code",
   "execution_count": null,
   "metadata": {},
   "outputs": [],
   "source": [
    "(predicted_labels_tf.numpy() == y_test).mean()"
   ]
  },
  {
   "cell_type": "markdown",
   "metadata": {},
   "source": [
    "## Home Assignment: Impact of Initialization\n",
    "\n",
    "Let us now study the impact of a bad initialization when training\n",
    "a deep feed forward network.\n",
    "\n",
    "By default Keras dense layers use the \"Glorot Uniform\" initialization\n",
    "strategy to initialize the weight matrices:\n",
    "\n",
    "- each weight coefficient is randomly sampled from [-scale, scale]\n",
    "- scale is proportional to $\\frac{1}{\\sqrt{n_{in} + n_{out}}}$\n",
    "\n",
    "This strategy is known to work well to initialize deep neural networks\n",
    "with \"tanh\" or \"relu\" activation functions and then trained with\n",
    "standard SGD.\n",
    "\n",
    "To assess the impact of initialization let us plug an alternative init\n",
    "scheme into a 2 hidden layers networks with \"tanh\" activations.\n",
    "For the sake of the example let's use normal distributed weights\n",
    "with a manually adjustable scale (standard deviation) and see the\n",
    "impact the scale value:"
   ]
  },
  {
   "cell_type": "code",
   "execution_count": 58,
   "metadata": {},
   "outputs": [
    {
     "name": "stderr",
     "output_type": "stream",
     "text": [
      "/Users/pepegarcia/opt/anaconda3/envs/dlclass/lib/python3.9/site-packages/keras/initializers/initializers_v2.py:120: UserWarning: The initializer TruncatedNormal is unseeded and being called multiple times, which will return identical values  each time (even if the initializer is unseeded). Please update your code to provide a seed to the initializer, or avoid using the same initalizer instance more than once.\n",
      "  warnings.warn(\n"
     ]
    }
   ],
   "source": [
    "from tensorflow.keras import initializers\n",
    "\n",
    "normal_init = initializers.TruncatedNormal(stddev=0.01)\n",
    "\n",
    "\n",
    "model = Sequential()\n",
    "model.add(Dense(hidden_dim, input_dim=input_dim, activation=\"tanh\",\n",
    "                kernel_initializer=normal_init))\n",
    "model.add(Dense(hidden_dim, activation=\"tanh\",\n",
    "                kernel_initializer=normal_init))\n",
    "model.add(Dense(output_dim, activation=\"softmax\",\n",
    "                kernel_initializer=normal_init))\n",
    "\n",
    "model.compile(optimizer=optimizers.SGD(learning_rate=0.1),\n",
    "              loss='categorical_crossentropy', metrics=['accuracy'])"
   ]
  },
  {
   "cell_type": "code",
   "execution_count": 59,
   "metadata": {},
   "outputs": [
    {
     "data": {
      "text/plain": [
       "[<keras.layers.core.dense.Dense at 0x7fe895d62f10>,\n",
       " <keras.layers.core.dense.Dense at 0x7fe893dcfd90>,\n",
       " <keras.layers.core.dense.Dense at 0x7fe893dcf9a0>]"
      ]
     },
     "execution_count": 59,
     "metadata": {},
     "output_type": "execute_result"
    }
   ],
   "source": [
    "model.layers"
   ]
  },
  {
   "cell_type": "markdown",
   "metadata": {},
   "source": [
    "Let's have a look at the parameters of the first layer after initialization but before any training has happened:"
   ]
  },
  {
   "cell_type": "code",
   "execution_count": 60,
   "metadata": {},
   "outputs": [
    {
     "data": {
      "text/plain": [
       "[<tf.Variable 'dense_44/kernel:0' shape=(64, 100) dtype=float32, numpy=\n",
       " array([[ 0.01481933, -0.01038546, -0.00826313, ..., -0.00187195,\n",
       "          0.00123586, -0.00489025],\n",
       "        [-0.01154655,  0.01664387,  0.00231943, ...,  0.00173561,\n",
       "         -0.01707027, -0.00415202],\n",
       "        [ 0.00564451,  0.01681787, -0.01045081, ..., -0.00777208,\n",
       "         -0.01869288,  0.00487392],\n",
       "        ...,\n",
       "        [ 0.01181641, -0.00721002,  0.01022363, ..., -0.01473854,\n",
       "         -0.00660799, -0.01391911],\n",
       "        [ 0.00946804,  0.00837885, -0.00380087, ..., -0.01496557,\n",
       "         -0.0049283 ,  0.01316149],\n",
       "        [ 0.01294302,  0.00924516,  0.00267534, ...,  0.0024943 ,\n",
       "          0.00681807,  0.0039414 ]], dtype=float32)>,\n",
       " <tf.Variable 'dense_44/bias:0' shape=(100,) dtype=float32, numpy=\n",
       " array([0., 0., 0., 0., 0., 0., 0., 0., 0., 0., 0., 0., 0., 0., 0., 0., 0.,\n",
       "        0., 0., 0., 0., 0., 0., 0., 0., 0., 0., 0., 0., 0., 0., 0., 0., 0.,\n",
       "        0., 0., 0., 0., 0., 0., 0., 0., 0., 0., 0., 0., 0., 0., 0., 0., 0.,\n",
       "        0., 0., 0., 0., 0., 0., 0., 0., 0., 0., 0., 0., 0., 0., 0., 0., 0.,\n",
       "        0., 0., 0., 0., 0., 0., 0., 0., 0., 0., 0., 0., 0., 0., 0., 0., 0.,\n",
       "        0., 0., 0., 0., 0., 0., 0., 0., 0., 0., 0., 0., 0., 0., 0.],\n",
       "       dtype=float32)>]"
      ]
     },
     "execution_count": 60,
     "metadata": {},
     "output_type": "execute_result"
    }
   ],
   "source": [
    "model.layers[0].weights"
   ]
  },
  {
   "cell_type": "code",
   "execution_count": 61,
   "metadata": {},
   "outputs": [
    {
     "data": {
      "text/plain": [
       "array([[ 0.01481933, -0.01038546, -0.00826313, ..., -0.00187195,\n",
       "         0.00123586, -0.00489025],\n",
       "       [-0.01154655,  0.01664387,  0.00231943, ...,  0.00173561,\n",
       "        -0.01707027, -0.00415202],\n",
       "       [ 0.00564451,  0.01681787, -0.01045081, ..., -0.00777208,\n",
       "        -0.01869288,  0.00487392],\n",
       "       ...,\n",
       "       [ 0.01181641, -0.00721002,  0.01022363, ..., -0.01473854,\n",
       "        -0.00660799, -0.01391911],\n",
       "       [ 0.00946804,  0.00837885, -0.00380087, ..., -0.01496557,\n",
       "        -0.0049283 ,  0.01316149],\n",
       "       [ 0.01294302,  0.00924516,  0.00267534, ...,  0.0024943 ,\n",
       "         0.00681807,  0.0039414 ]], dtype=float32)"
      ]
     },
     "execution_count": 61,
     "metadata": {},
     "output_type": "execute_result"
    }
   ],
   "source": [
    "w = model.layers[0].weights[0].numpy()\n",
    "w"
   ]
  },
  {
   "cell_type": "code",
   "execution_count": 62,
   "metadata": {},
   "outputs": [
    {
     "data": {
      "text/plain": [
       "0.00881146"
      ]
     },
     "execution_count": 62,
     "metadata": {},
     "output_type": "execute_result"
    }
   ],
   "source": [
    "w.std()"
   ]
  },
  {
   "cell_type": "code",
   "execution_count": 63,
   "metadata": {},
   "outputs": [
    {
     "data": {
      "text/plain": [
       "array([0., 0., 0., 0., 0., 0., 0., 0., 0., 0., 0., 0., 0., 0., 0., 0., 0.,\n",
       "       0., 0., 0., 0., 0., 0., 0., 0., 0., 0., 0., 0., 0., 0., 0., 0., 0.,\n",
       "       0., 0., 0., 0., 0., 0., 0., 0., 0., 0., 0., 0., 0., 0., 0., 0., 0.,\n",
       "       0., 0., 0., 0., 0., 0., 0., 0., 0., 0., 0., 0., 0., 0., 0., 0., 0.,\n",
       "       0., 0., 0., 0., 0., 0., 0., 0., 0., 0., 0., 0., 0., 0., 0., 0., 0.,\n",
       "       0., 0., 0., 0., 0., 0., 0., 0., 0., 0., 0., 0., 0., 0., 0.],\n",
       "      dtype=float32)"
      ]
     },
     "execution_count": 63,
     "metadata": {},
     "output_type": "execute_result"
    }
   ],
   "source": [
    "b = model.layers[0].weights[1].numpy()\n",
    "b"
   ]
  },
  {
   "cell_type": "code",
   "execution_count": 64,
   "metadata": {},
   "outputs": [
    {
     "name": "stdout",
     "output_type": "stream",
     "text": [
      "Epoch 1/15\n",
      "48/48 [==============================] - 0s 1ms/step - loss: 2.3027 - accuracy: 0.1028\n",
      "Epoch 2/15\n",
      "48/48 [==============================] - 0s 919us/step - loss: 2.2996 - accuracy: 0.1087\n",
      "Epoch 3/15\n",
      "48/48 [==============================] - 0s 918us/step - loss: 2.2859 - accuracy: 0.1604\n",
      "Epoch 4/15\n",
      "48/48 [==============================] - 0s 1ms/step - loss: 2.0480 - accuracy: 0.2292\n",
      "Epoch 5/15\n",
      "48/48 [==============================] - 0s 886us/step - loss: 1.5508 - accuracy: 0.4152\n",
      "Epoch 6/15\n",
      "48/48 [==============================] - 0s 1ms/step - loss: 0.9338 - accuracy: 0.7223\n",
      "Epoch 7/15\n",
      "48/48 [==============================] - 0s 1ms/step - loss: 0.6459 - accuracy: 0.8127\n",
      "Epoch 8/15\n",
      "48/48 [==============================] - 0s 967us/step - loss: 0.4873 - accuracy: 0.8605\n",
      "Epoch 9/15\n",
      "48/48 [==============================] - 0s 1ms/step - loss: 0.3931 - accuracy: 0.8854\n",
      "Epoch 10/15\n",
      "48/48 [==============================] - 0s 1ms/step - loss: 0.3160 - accuracy: 0.9142\n",
      "Epoch 11/15\n",
      "48/48 [==============================] - 0s 927us/step - loss: 0.2575 - accuracy: 0.9325\n",
      "Epoch 12/15\n",
      "48/48 [==============================] - 0s 957us/step - loss: 0.2126 - accuracy: 0.9411\n",
      "Epoch 13/15\n",
      "48/48 [==============================] - 0s 1ms/step - loss: 0.1861 - accuracy: 0.9489\n",
      "Epoch 14/15\n",
      "48/48 [==============================] - 0s 920us/step - loss: 0.1600 - accuracy: 0.9555\n",
      "Epoch 15/15\n",
      "48/48 [==============================] - 0s 944us/step - loss: 0.1436 - accuracy: 0.9607\n"
     ]
    },
    {
     "data": {
      "image/png": "[encoded data removed]",
      "text/plain": [
       "<Figure size 1200x400 with 1 Axes>"
      ]
     },
     "metadata": {},
     "output_type": "display_data"
    }
   ],
   "source": [
    "history = model.fit(X_train, Y_train, epochs=15, batch_size=32)\n",
    "\n",
    "plt.figure(figsize=(12, 4))\n",
    "plt.plot(history.history['loss'], label=\"Truncated Normal init\")\n",
    "plt.legend();"
   ]
  },
  {
   "cell_type": "markdown",
   "metadata": {},
   "source": [
    "Once the model has been fit, the weights have been updated and notably the biases are no longer 0:"
   ]
  },
  {
   "cell_type": "code",
   "execution_count": 65,
   "metadata": {},
   "outputs": [
    {
     "data": {
      "text/plain": [
       "[<tf.Variable 'dense_44/kernel:0' shape=(64, 100) dtype=float32, numpy=\n",
       " array([[ 0.01481933, -0.01038546, -0.00826313, ..., -0.00187195,\n",
       "          0.00123586, -0.00489025],\n",
       "        [-0.01634865,  0.01494591, -0.00157891, ...,  0.0222208 ,\n",
       "         -0.01942283, -0.0040563 ],\n",
       "        [-0.02531079, -0.00611114, -0.03961009, ...,  0.01875075,\n",
       "          0.00324655,  0.00671767],\n",
       "        ...,\n",
       "        [ 0.09716789,  0.03701298,  0.03284005, ..., -0.07717021,\n",
       "         -0.08112278, -0.06233737],\n",
       "        [ 0.06235613,  0.02720984,  0.0050134 , ..., -0.04708096,\n",
       "         -0.06187857, -0.02429014],\n",
       "        [ 0.09538977,  0.0512566 ,  0.01301539, ..., -0.08414188,\n",
       "         -0.03100615, -0.05270467]], dtype=float32)>,\n",
       " <tf.Variable 'dense_44/bias:0' shape=(100,) dtype=float32, numpy=\n",
       " array([-0.00107529,  0.05598241,  0.02142826, -0.02362352, -0.0245872 ,\n",
       "        -0.0629698 ,  0.02593534, -0.00878939,  0.04026596, -0.05842018,\n",
       "         0.03840028,  0.04356781,  0.00746574, -0.00472771, -0.0736169 ,\n",
       "        -0.04015188, -0.05118461,  0.03506077, -0.03380895, -0.05070907,\n",
       "        -0.01725414, -0.03668252,  0.01916095,  0.01728476,  0.0174751 ,\n",
       "        -0.05338499,  0.04278539,  0.02743352, -0.0223221 , -0.01899867,\n",
       "        -0.03283335, -0.00822336,  0.01550324,  0.05468368,  0.01450827,\n",
       "         0.08423361,  0.0200275 , -0.02420887, -0.01595617,  0.04680343,\n",
       "        -0.05425908, -0.00665268,  0.05277754, -0.04115706,  0.00331766,\n",
       "        -0.0104888 , -0.06827509, -0.01525226,  0.01543183,  0.05740226,\n",
       "         0.00903464, -0.05535292, -0.03087607,  0.04505707,  0.12238713,\n",
       "         0.01385846,  0.03202909,  0.01913126,  0.07133409, -0.03625707,\n",
       "        -0.09480082, -0.00454943,  0.01742833, -0.01106308, -0.03718524,\n",
       "         0.02859097,  0.01073742, -0.042083  , -0.00778921,  0.01663654,\n",
       "        -0.0591585 , -0.03932929,  0.03666498,  0.00948173, -0.0061396 ,\n",
       "        -0.01885095, -0.00430797,  0.01940378, -0.00575009,  0.00974929,\n",
       "        -0.02411341,  0.05106443, -0.02347544,  0.02019993,  0.0295885 ,\n",
       "         0.01166501,  0.08768742,  0.12599885, -0.02269305, -0.03902242,\n",
       "         0.03640194,  0.02822222,  0.07760017,  0.00722688,  0.10681834,\n",
       "        -0.05017246, -0.02860124, -0.02843783,  0.00532077, -0.02307188],\n",
       "       dtype=float32)>]"
      ]
     },
     "execution_count": 65,
     "metadata": {},
     "output_type": "execute_result"
    }
   ],
   "source": [
    "model.layers[0].weights"
   ]
  },
  {
   "cell_type": "markdown",
   "metadata": {},
   "source": [
    "#### Questions:\n",
    "\n",
    "- Try the following initialization schemes and see whether\n",
    "  the SGD algorithm can successfully train the network or\n",
    "  not:\n",
    "  \n",
    "  - a very small e.g. `stddev=1e-3`\n",
    "  - a larger scale e.g. `stddev=1` or `10`\n",
    "  - initialize all weights to 0 (constant initialization)\n",
    "  \n",
    "- What do you observe? Can you find an explanation for those\n",
    "  outcomes?\n",
    "\n",
    "- Are more advanced solvers such as SGD with momentum or Adam able\n",
    "  to deal better with such bad initializations?"
   ]
  },
  {
   "cell_type": "code",
   "execution_count": null,
   "metadata": {},
   "outputs": [],
   "source": []
  },
  {
   "cell_type": "code",
   "execution_count": 66,
   "metadata": {},
   "outputs": [],
   "source": [
    "# %load solutions/keras_initializations.py"
   ]
  },
  {
   "cell_type": "code",
   "execution_count": null,
   "metadata": {},
   "outputs": [],
   "source": [
    "# %load solutions/keras_initializations_analysis.py"
   ]
  }
 ],
 "metadata": {
  "file_extension": ".py",
  "kernelspec": {
   "display_name": "Python 3 (ipykernel)",
   "language": "python",
   "name": "python3"
  },
  "language_info": {
   "codemirror_mode": {
    "name": "ipython",
    "version": 3
   },
   "file_extension": ".py",
   "mimetype": "text/x-python",
   "name": "python",
   "nbconvert_exporter": "python",
   "pygments_lexer": "ipython3",
   "version": "3.9.16"
  },
  "mimetype": "text/x-python",
  "name": "python",
  "npconvert_exporter": "python",
  "pygments_lexer": "ipython3",
  "toc": {
   "base_numbering": 1,
   "nav_menu": {},
   "number_sections": true,
   "sideBar": true,
   "skip_h1_title": false,
   "title_cell": "Table of Contents",
   "title_sidebar": "Contents",
   "toc_cell": false,
   "toc_position": {},
   "toc_section_display": true,
   "toc_window_display": false
  },
  "version": 3
 },
 "nbformat": 4,
 "nbformat_minor": 4
}
