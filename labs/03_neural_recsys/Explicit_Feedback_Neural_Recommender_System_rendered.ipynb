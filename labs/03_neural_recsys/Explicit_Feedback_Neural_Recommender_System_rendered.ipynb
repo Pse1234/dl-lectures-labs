{
 "cells": [
  {
   "cell_type": "markdown",
   "metadata": {},
   "source": [
    "# Explicit Feedback Neural Recommender Systems\n",
    "\n",
    "Goals:\n",
    "- Understand recommender data\n",
    "- Build different models architectures using Keras\n",
    "- Retrieve Embeddings and visualize them\n",
    "- Add metadata information as input to the model"
   ]
  },
  {
   "cell_type": "code",
   "execution_count": 1,
   "metadata": {},
   "outputs": [],
   "source": [
    "%matplotlib inline\n",
    "import matplotlib.pyplot as plt\n",
    "import numpy as np\n",
    "import os.path as op\n",
    "\n",
    "from zipfile import ZipFile\n",
    "try:\n",
    "    from urllib.request import urlretrieve\n",
    "except ImportError:  # Python 2 compat\n",
    "    from urllib import urlretrieve\n",
    "\n",
    "\n",
    "ML_100K_URL = \"http://files.grouplens.org/datasets/movielens/ml-100k.zip\"\n",
    "ML_100K_FILENAME = ML_100K_URL.rsplit('/', 1)[1]\n",
    "ML_100K_FOLDER = 'ml-100k'\n",
    "\n",
    "if not op.exists(ML_100K_FILENAME):\n",
    "    print('Downloading %s to %s...' % (ML_100K_URL, ML_100K_FILENAME))\n",
    "    urlretrieve(ML_100K_URL, ML_100K_FILENAME)\n",
    "\n",
    "if not op.exists(ML_100K_FOLDER):\n",
    "    print('Extracting %s to %s...' % (ML_100K_FILENAME, ML_100K_FOLDER))\n",
    "    ZipFile(ML_100K_FILENAME).extractall('.')"
   ]
  },
  {
   "cell_type": "markdown",
   "metadata": {},
   "source": [
    "### Ratings file\n",
    "\n",
    "Each line contains a rated movie: \n",
    "- a user\n",
    "- an item\n",
    "- a rating from 1 to 5 stars"
   ]
  },
  {
   "cell_type": "code",
   "execution_count": 2,
   "metadata": {},
   "outputs": [
    {
     "data": {
      "text/html": [
       "<div>\n",
       "<style scoped>\n",
       "    .dataframe tbody tr th:only-of-type {\n",
       "        vertical-align: middle;\n",
       "    }\n",
       "\n",
       "    .dataframe tbody tr th {\n",
       "        vertical-align: top;\n",
       "    }\n",
       "\n",
       "    .dataframe thead th {\n",
       "        text-align: right;\n",
       "    }\n",
       "</style>\n",
       "<table border=\"1\" class=\"dataframe\">\n",
       "  <thead>\n",
       "    <tr style=\"text-align: right;\">\n",
       "      <th></th>\n",
       "      <th>user_id</th>\n",
       "      <th>item_id</th>\n",
       "      <th>rating</th>\n",
       "      <th>timestamp</th>\n",
       "    </tr>\n",
       "  </thead>\n",
       "  <tbody>\n",
       "    <tr>\n",
       "      <th>0</th>\n",
       "      <td>196</td>\n",
       "      <td>242</td>\n",
       "      <td>3</td>\n",
       "      <td>881250949</td>\n",
       "    </tr>\n",
       "    <tr>\n",
       "      <th>1</th>\n",
       "      <td>186</td>\n",
       "      <td>302</td>\n",
       "      <td>3</td>\n",
       "      <td>891717742</td>\n",
       "    </tr>\n",
       "    <tr>\n",
       "      <th>2</th>\n",
       "      <td>22</td>\n",
       "      <td>377</td>\n",
       "      <td>1</td>\n",
       "      <td>878887116</td>\n",
       "    </tr>\n",
       "    <tr>\n",
       "      <th>3</th>\n",
       "      <td>244</td>\n",
       "      <td>51</td>\n",
       "      <td>2</td>\n",
       "      <td>880606923</td>\n",
       "    </tr>\n",
       "    <tr>\n",
       "      <th>4</th>\n",
       "      <td>166</td>\n",
       "      <td>346</td>\n",
       "      <td>1</td>\n",
       "      <td>886397596</td>\n",
       "    </tr>\n",
       "  </tbody>\n",
       "</table>\n",
       "</div>"
      ],
      "text/plain": [
       "   user_id  item_id  rating  timestamp\n",
       "0      196      242       3  881250949\n",
       "1      186      302       3  891717742\n",
       "2       22      377       1  878887116\n",
       "3      244       51       2  880606923\n",
       "4      166      346       1  886397596"
      ]
     },
     "execution_count": 2,
     "metadata": {},
     "output_type": "execute_result"
    }
   ],
   "source": [
    "import pandas as pd\n",
    "\n",
    "raw_ratings = pd.read_csv(op.join(ML_100K_FOLDER, 'u.data'), sep='\\t',\n",
    "                      names=[\"user_id\", \"item_id\", \"rating\", \"timestamp\"])\n",
    "raw_ratings.head()"
   ]
  },
  {
   "cell_type": "markdown",
   "metadata": {},
   "source": [
    "### Item metadata file\n",
    "\n",
    "The item metadata file contains metadata like the name of the movie or the date it was released. The movies file contains columns indicating the movie's genres. Let's only load the first five columns of the file with `usecols`."
   ]
  },
  {
   "cell_type": "code",
   "execution_count": 3,
   "metadata": {},
   "outputs": [
    {
     "data": {
      "text/html": [
       "<div>\n",
       "<style scoped>\n",
       "    .dataframe tbody tr th:only-of-type {\n",
       "        vertical-align: middle;\n",
       "    }\n",
       "\n",
       "    .dataframe tbody tr th {\n",
       "        vertical-align: top;\n",
       "    }\n",
       "\n",
       "    .dataframe thead th {\n",
       "        text-align: right;\n",
       "    }\n",
       "</style>\n",
       "<table border=\"1\" class=\"dataframe\">\n",
       "  <thead>\n",
       "    <tr style=\"text-align: right;\">\n",
       "      <th></th>\n",
       "      <th>item_id</th>\n",
       "      <th>title</th>\n",
       "      <th>release_date</th>\n",
       "      <th>video_release_date</th>\n",
       "      <th>imdb_url</th>\n",
       "    </tr>\n",
       "  </thead>\n",
       "  <tbody>\n",
       "    <tr>\n",
       "      <th>0</th>\n",
       "      <td>1</td>\n",
       "      <td>Toy Story (1995)</td>\n",
       "      <td>01-Jan-1995</td>\n",
       "      <td>NaN</td>\n",
       "      <td>http://us.imdb.com/M/title-exact?Toy%20Story%2...</td>\n",
       "    </tr>\n",
       "    <tr>\n",
       "      <th>1</th>\n",
       "      <td>2</td>\n",
       "      <td>GoldenEye (1995)</td>\n",
       "      <td>01-Jan-1995</td>\n",
       "      <td>NaN</td>\n",
       "      <td>http://us.imdb.com/M/title-exact?GoldenEye%20(...</td>\n",
       "    </tr>\n",
       "    <tr>\n",
       "      <th>2</th>\n",
       "      <td>3</td>\n",
       "      <td>Four Rooms (1995)</td>\n",
       "      <td>01-Jan-1995</td>\n",
       "      <td>NaN</td>\n",
       "      <td>http://us.imdb.com/M/title-exact?Four%20Rooms%...</td>\n",
       "    </tr>\n",
       "    <tr>\n",
       "      <th>3</th>\n",
       "      <td>4</td>\n",
       "      <td>Get Shorty (1995)</td>\n",
       "      <td>01-Jan-1995</td>\n",
       "      <td>NaN</td>\n",
       "      <td>http://us.imdb.com/M/title-exact?Get%20Shorty%...</td>\n",
       "    </tr>\n",
       "    <tr>\n",
       "      <th>4</th>\n",
       "      <td>5</td>\n",
       "      <td>Copycat (1995)</td>\n",
       "      <td>01-Jan-1995</td>\n",
       "      <td>NaN</td>\n",
       "      <td>http://us.imdb.com/M/title-exact?Copycat%20(1995)</td>\n",
       "    </tr>\n",
       "  </tbody>\n",
       "</table>\n",
       "</div>"
      ],
      "text/plain": [
       "   item_id              title release_date  video_release_date  \\\n",
       "0        1   Toy Story (1995)  01-Jan-1995                 NaN   \n",
       "1        2   GoldenEye (1995)  01-Jan-1995                 NaN   \n",
       "2        3  Four Rooms (1995)  01-Jan-1995                 NaN   \n",
       "3        4  Get Shorty (1995)  01-Jan-1995                 NaN   \n",
       "4        5     Copycat (1995)  01-Jan-1995                 NaN   \n",
       "\n",
       "                                            imdb_url  \n",
       "0  http://us.imdb.com/M/title-exact?Toy%20Story%2...  \n",
       "1  http://us.imdb.com/M/title-exact?GoldenEye%20(...  \n",
       "2  http://us.imdb.com/M/title-exact?Four%20Rooms%...  \n",
       "3  http://us.imdb.com/M/title-exact?Get%20Shorty%...  \n",
       "4  http://us.imdb.com/M/title-exact?Copycat%20(1995)  "
      ]
     },
     "execution_count": 3,
     "metadata": {},
     "output_type": "execute_result"
    }
   ],
   "source": [
    "m_cols = ['item_id', 'title', 'release_date', 'video_release_date', 'imdb_url']\n",
    "items = pd.read_csv(op.join(ML_100K_FOLDER, 'u.item'), sep='|',\n",
    "                    names=m_cols, usecols=range(5), encoding='latin-1')\n",
    "items.head()"
   ]
  },
  {
   "cell_type": "markdown",
   "metadata": {},
   "source": [
    "Let's write a bit of Python preprocessing code to extract the release year as an integer value:"
   ]
  },
  {
   "cell_type": "code",
   "execution_count": 4,
   "metadata": {},
   "outputs": [
    {
     "data": {
      "image/png": "[encoded data removed]",
      "text/plain": [
       "<Figure size 640x480 with 1 Axes>"
      ]
     },
     "metadata": {},
     "output_type": "display_data"
    }
   ],
   "source": [
    "def extract_year(release_date):\n",
    "    if hasattr(release_date, 'split'):\n",
    "        components = release_date.split('-')\n",
    "        if len(components) == 3:\n",
    "            return int(components[2])\n",
    "    # Missing value marker\n",
    "    return 1920\n",
    "\n",
    "\n",
    "items['release_year'] = items['release_date'].map(extract_year)\n",
    "items.hist('release_year', bins=50);"
   ]
  },
  {
   "cell_type": "markdown",
   "metadata": {},
   "source": [
    "Enrich the raw ratings data with the collected items metadata:"
   ]
  },
  {
   "cell_type": "code",
   "execution_count": 5,
   "metadata": {},
   "outputs": [],
   "source": [
    "all_ratings = pd.merge(items, raw_ratings)"
   ]
  },
  {
   "cell_type": "code",
   "execution_count": 6,
   "metadata": {},
   "outputs": [
    {
     "data": {
      "text/html": [
       "<div>\n",
       "<style scoped>\n",
       "    .dataframe tbody tr th:only-of-type {\n",
       "        vertical-align: middle;\n",
       "    }\n",
       "\n",
       "    .dataframe tbody tr th {\n",
       "        vertical-align: top;\n",
       "    }\n",
       "\n",
       "    .dataframe thead th {\n",
       "        text-align: right;\n",
       "    }\n",
       "</style>\n",
       "<table border=\"1\" class=\"dataframe\">\n",
       "  <thead>\n",
       "    <tr style=\"text-align: right;\">\n",
       "      <th></th>\n",
       "      <th>item_id</th>\n",
       "      <th>title</th>\n",
       "      <th>release_date</th>\n",
       "      <th>video_release_date</th>\n",
       "      <th>imdb_url</th>\n",
       "      <th>release_year</th>\n",
       "      <th>user_id</th>\n",
       "      <th>rating</th>\n",
       "      <th>timestamp</th>\n",
       "    </tr>\n",
       "  </thead>\n",
       "  <tbody>\n",
       "    <tr>\n",
       "      <th>0</th>\n",
       "      <td>1</td>\n",
       "      <td>Toy Story (1995)</td>\n",
       "      <td>01-Jan-1995</td>\n",
       "      <td>NaN</td>\n",
       "      <td>http://us.imdb.com/M/title-exact?Toy%20Story%2...</td>\n",
       "      <td>1995</td>\n",
       "      <td>308</td>\n",
       "      <td>4</td>\n",
       "      <td>887736532</td>\n",
       "    </tr>\n",
       "    <tr>\n",
       "      <th>1</th>\n",
       "      <td>1</td>\n",
       "      <td>Toy Story (1995)</td>\n",
       "      <td>01-Jan-1995</td>\n",
       "      <td>NaN</td>\n",
       "      <td>http://us.imdb.com/M/title-exact?Toy%20Story%2...</td>\n",
       "      <td>1995</td>\n",
       "      <td>287</td>\n",
       "      <td>5</td>\n",
       "      <td>875334088</td>\n",
       "    </tr>\n",
       "    <tr>\n",
       "      <th>2</th>\n",
       "      <td>1</td>\n",
       "      <td>Toy Story (1995)</td>\n",
       "      <td>01-Jan-1995</td>\n",
       "      <td>NaN</td>\n",
       "      <td>http://us.imdb.com/M/title-exact?Toy%20Story%2...</td>\n",
       "      <td>1995</td>\n",
       "      <td>148</td>\n",
       "      <td>4</td>\n",
       "      <td>877019411</td>\n",
       "    </tr>\n",
       "    <tr>\n",
       "      <th>3</th>\n",
       "      <td>1</td>\n",
       "      <td>Toy Story (1995)</td>\n",
       "      <td>01-Jan-1995</td>\n",
       "      <td>NaN</td>\n",
       "      <td>http://us.imdb.com/M/title-exact?Toy%20Story%2...</td>\n",
       "      <td>1995</td>\n",
       "      <td>280</td>\n",
       "      <td>4</td>\n",
       "      <td>891700426</td>\n",
       "    </tr>\n",
       "    <tr>\n",
       "      <th>4</th>\n",
       "      <td>1</td>\n",
       "      <td>Toy Story (1995)</td>\n",
       "      <td>01-Jan-1995</td>\n",
       "      <td>NaN</td>\n",
       "      <td>http://us.imdb.com/M/title-exact?Toy%20Story%2...</td>\n",
       "      <td>1995</td>\n",
       "      <td>66</td>\n",
       "      <td>3</td>\n",
       "      <td>883601324</td>\n",
       "    </tr>\n",
       "  </tbody>\n",
       "</table>\n",
       "</div>"
      ],
      "text/plain": [
       "   item_id             title release_date  video_release_date  \\\n",
       "0        1  Toy Story (1995)  01-Jan-1995                 NaN   \n",
       "1        1  Toy Story (1995)  01-Jan-1995                 NaN   \n",
       "2        1  Toy Story (1995)  01-Jan-1995                 NaN   \n",
       "3        1  Toy Story (1995)  01-Jan-1995                 NaN   \n",
       "4        1  Toy Story (1995)  01-Jan-1995                 NaN   \n",
       "\n",
       "                                            imdb_url  release_year  user_id  \\\n",
       "0  http://us.imdb.com/M/title-exact?Toy%20Story%2...          1995      308   \n",
       "1  http://us.imdb.com/M/title-exact?Toy%20Story%2...          1995      287   \n",
       "2  http://us.imdb.com/M/title-exact?Toy%20Story%2...          1995      148   \n",
       "3  http://us.imdb.com/M/title-exact?Toy%20Story%2...          1995      280   \n",
       "4  http://us.imdb.com/M/title-exact?Toy%20Story%2...          1995       66   \n",
       "\n",
       "   rating  timestamp  \n",
       "0       4  887736532  \n",
       "1       5  875334088  \n",
       "2       4  877019411  \n",
       "3       4  891700426  \n",
       "4       3  883601324  "
      ]
     },
     "execution_count": 6,
     "metadata": {},
     "output_type": "execute_result"
    }
   ],
   "source": [
    "all_ratings.head()"
   ]
  },
  {
   "cell_type": "markdown",
   "metadata": {},
   "source": [
    "### Data preprocessing\n",
    "\n",
    "To understand well the distribution of the data, the following statistics are computed:\n",
    "- the number of users\n",
    "- the number of items\n",
    "- the rating distribution\n",
    "- the popularity of each movie"
   ]
  },
  {
   "cell_type": "code",
   "execution_count": 7,
   "metadata": {},
   "outputs": [
    {
     "data": {
      "text/plain": [
       "1"
      ]
     },
     "execution_count": 7,
     "metadata": {},
     "output_type": "execute_result"
    }
   ],
   "source": [
    "min_user_id = all_ratings['user_id'].min()\n",
    "min_user_id"
   ]
  },
  {
   "cell_type": "code",
   "execution_count": 8,
   "metadata": {},
   "outputs": [
    {
     "data": {
      "text/plain": [
       "943"
      ]
     },
     "execution_count": 8,
     "metadata": {},
     "output_type": "execute_result"
    }
   ],
   "source": [
    "max_user_id = all_ratings['user_id'].max()\n",
    "max_user_id"
   ]
  },
  {
   "cell_type": "code",
   "execution_count": 9,
   "metadata": {},
   "outputs": [
    {
     "data": {
      "text/plain": [
       "1"
      ]
     },
     "execution_count": 9,
     "metadata": {},
     "output_type": "execute_result"
    }
   ],
   "source": [
    "min_item_id = all_ratings['item_id'].min()\n",
    "min_item_id"
   ]
  },
  {
   "cell_type": "code",
   "execution_count": 10,
   "metadata": {},
   "outputs": [
    {
     "data": {
      "text/plain": [
       "1682"
      ]
     },
     "execution_count": 10,
     "metadata": {},
     "output_type": "execute_result"
    }
   ],
   "source": [
    "max_item_id = all_ratings['item_id'].max()\n",
    "max_item_id"
   ]
  },
  {
   "cell_type": "code",
   "execution_count": 11,
   "metadata": {},
   "outputs": [
    {
     "data": {
      "text/plain": [
       "count    100000.000000\n",
       "mean          3.529860\n",
       "std           1.125674\n",
       "min           1.000000\n",
       "25%           3.000000\n",
       "50%           4.000000\n",
       "75%           4.000000\n",
       "max           5.000000\n",
       "Name: rating, dtype: float64"
      ]
     },
     "execution_count": 11,
     "metadata": {},
     "output_type": "execute_result"
    }
   ],
   "source": [
    "all_ratings['rating'].describe()"
   ]
  },
  {
   "cell_type": "markdown",
   "metadata": {},
   "source": [
    "Let's do a bit more pandas magic compute the popularity of each movie (number of ratings):"
   ]
  },
  {
   "cell_type": "code",
   "execution_count": 12,
   "metadata": {},
   "outputs": [
    {
     "data": {
      "text/html": [
       "<div>\n",
       "<style scoped>\n",
       "    .dataframe tbody tr th:only-of-type {\n",
       "        vertical-align: middle;\n",
       "    }\n",
       "\n",
       "    .dataframe tbody tr th {\n",
       "        vertical-align: top;\n",
       "    }\n",
       "\n",
       "    .dataframe thead th {\n",
       "        text-align: right;\n",
       "    }\n",
       "</style>\n",
       "<table border=\"1\" class=\"dataframe\">\n",
       "  <thead>\n",
       "    <tr style=\"text-align: right;\">\n",
       "      <th></th>\n",
       "      <th>item_id</th>\n",
       "      <th>popularity</th>\n",
       "      <th>title</th>\n",
       "      <th>release_date</th>\n",
       "      <th>video_release_date</th>\n",
       "      <th>imdb_url</th>\n",
       "      <th>release_year</th>\n",
       "    </tr>\n",
       "  </thead>\n",
       "  <tbody>\n",
       "    <tr>\n",
       "      <th>49</th>\n",
       "      <td>50</td>\n",
       "      <td>583</td>\n",
       "      <td>Star Wars (1977)</td>\n",
       "      <td>01-Jan-1977</td>\n",
       "      <td>NaN</td>\n",
       "      <td>http://us.imdb.com/M/title-exact?Star%20Wars%2...</td>\n",
       "      <td>1977</td>\n",
       "    </tr>\n",
       "    <tr>\n",
       "      <th>257</th>\n",
       "      <td>258</td>\n",
       "      <td>509</td>\n",
       "      <td>Contact (1997)</td>\n",
       "      <td>11-Jul-1997</td>\n",
       "      <td>NaN</td>\n",
       "      <td>http://us.imdb.com/Title?Contact+(1997/I)</td>\n",
       "      <td>1997</td>\n",
       "    </tr>\n",
       "    <tr>\n",
       "      <th>99</th>\n",
       "      <td>100</td>\n",
       "      <td>508</td>\n",
       "      <td>Fargo (1996)</td>\n",
       "      <td>14-Feb-1997</td>\n",
       "      <td>NaN</td>\n",
       "      <td>http://us.imdb.com/M/title-exact?Fargo%20(1996)</td>\n",
       "      <td>1997</td>\n",
       "    </tr>\n",
       "    <tr>\n",
       "      <th>180</th>\n",
       "      <td>181</td>\n",
       "      <td>507</td>\n",
       "      <td>Return of the Jedi (1983)</td>\n",
       "      <td>14-Mar-1997</td>\n",
       "      <td>NaN</td>\n",
       "      <td>http://us.imdb.com/M/title-exact?Return%20of%2...</td>\n",
       "      <td>1997</td>\n",
       "    </tr>\n",
       "    <tr>\n",
       "      <th>293</th>\n",
       "      <td>294</td>\n",
       "      <td>485</td>\n",
       "      <td>Liar Liar (1997)</td>\n",
       "      <td>21-Mar-1997</td>\n",
       "      <td>NaN</td>\n",
       "      <td>http://us.imdb.com/Title?Liar+Liar+(1997)</td>\n",
       "      <td>1997</td>\n",
       "    </tr>\n",
       "    <tr>\n",
       "      <th>285</th>\n",
       "      <td>286</td>\n",
       "      <td>481</td>\n",
       "      <td>English Patient, The (1996)</td>\n",
       "      <td>15-Nov-1996</td>\n",
       "      <td>NaN</td>\n",
       "      <td>http://us.imdb.com/M/title-exact?English%20Pat...</td>\n",
       "      <td>1996</td>\n",
       "    </tr>\n",
       "    <tr>\n",
       "      <th>287</th>\n",
       "      <td>288</td>\n",
       "      <td>478</td>\n",
       "      <td>Scream (1996)</td>\n",
       "      <td>20-Dec-1996</td>\n",
       "      <td>NaN</td>\n",
       "      <td>http://us.imdb.com/M/title-exact?Scream%20(1996)</td>\n",
       "      <td>1996</td>\n",
       "    </tr>\n",
       "    <tr>\n",
       "      <th>0</th>\n",
       "      <td>1</td>\n",
       "      <td>452</td>\n",
       "      <td>Toy Story (1995)</td>\n",
       "      <td>01-Jan-1995</td>\n",
       "      <td>NaN</td>\n",
       "      <td>http://us.imdb.com/M/title-exact?Toy%20Story%2...</td>\n",
       "      <td>1995</td>\n",
       "    </tr>\n",
       "    <tr>\n",
       "      <th>299</th>\n",
       "      <td>300</td>\n",
       "      <td>431</td>\n",
       "      <td>Air Force One (1997)</td>\n",
       "      <td>01-Jan-1997</td>\n",
       "      <td>NaN</td>\n",
       "      <td>http://us.imdb.com/M/title-exact?Air+Force+One...</td>\n",
       "      <td>1997</td>\n",
       "    </tr>\n",
       "    <tr>\n",
       "      <th>120</th>\n",
       "      <td>121</td>\n",
       "      <td>429</td>\n",
       "      <td>Independence Day (ID4) (1996)</td>\n",
       "      <td>03-Jul-1996</td>\n",
       "      <td>NaN</td>\n",
       "      <td>http://us.imdb.com/M/title-exact?Independence%...</td>\n",
       "      <td>1996</td>\n",
       "    </tr>\n",
       "  </tbody>\n",
       "</table>\n",
       "</div>"
      ],
      "text/plain": [
       "     item_id  popularity                          title release_date  \\\n",
       "49        50         583               Star Wars (1977)  01-Jan-1977   \n",
       "257      258         509                 Contact (1997)  11-Jul-1997   \n",
       "99       100         508                   Fargo (1996)  14-Feb-1997   \n",
       "180      181         507      Return of the Jedi (1983)  14-Mar-1997   \n",
       "293      294         485               Liar Liar (1997)  21-Mar-1997   \n",
       "285      286         481    English Patient, The (1996)  15-Nov-1996   \n",
       "287      288         478                  Scream (1996)  20-Dec-1996   \n",
       "0          1         452               Toy Story (1995)  01-Jan-1995   \n",
       "299      300         431           Air Force One (1997)  01-Jan-1997   \n",
       "120      121         429  Independence Day (ID4) (1996)  03-Jul-1996   \n",
       "\n",
       "     video_release_date                                           imdb_url  \\\n",
       "49                  NaN  http://us.imdb.com/M/title-exact?Star%20Wars%2...   \n",
       "257                 NaN          http://us.imdb.com/Title?Contact+(1997/I)   \n",
       "99                  NaN    http://us.imdb.com/M/title-exact?Fargo%20(1996)   \n",
       "180                 NaN  http://us.imdb.com/M/title-exact?Return%20of%2...   \n",
       "293                 NaN          http://us.imdb.com/Title?Liar+Liar+(1997)   \n",
       "285                 NaN  http://us.imdb.com/M/title-exact?English%20Pat...   \n",
       "287                 NaN   http://us.imdb.com/M/title-exact?Scream%20(1996)   \n",
       "0                   NaN  http://us.imdb.com/M/title-exact?Toy%20Story%2...   \n",
       "299                 NaN  http://us.imdb.com/M/title-exact?Air+Force+One...   \n",
       "120                 NaN  http://us.imdb.com/M/title-exact?Independence%...   \n",
       "\n",
       "     release_year  \n",
       "49           1977  \n",
       "257          1997  \n",
       "99           1997  \n",
       "180          1997  \n",
       "293          1997  \n",
       "285          1996  \n",
       "287          1996  \n",
       "0            1995  \n",
       "299          1997  \n",
       "120          1996  "
      ]
     },
     "execution_count": 12,
     "metadata": {},
     "output_type": "execute_result"
    }
   ],
   "source": [
    "popularity = all_ratings.groupby('item_id').size().reset_index(name='popularity')\n",
    "items = pd.merge(popularity, items)\n",
    "items.nlargest(10, 'popularity')"
   ]
  },
  {
   "cell_type": "code",
   "execution_count": 13,
   "metadata": {},
   "outputs": [
    {
     "data": {
      "text/plain": [
       "'GoodFellas (1990)'"
      ]
     },
     "execution_count": 13,
     "metadata": {},
     "output_type": "execute_result"
    }
   ],
   "source": [
    "items[\"title\"][181]"
   ]
  },
  {
   "cell_type": "code",
   "execution_count": 14,
   "metadata": {},
   "outputs": [
    {
     "data": {
      "text/plain": [
       "'Return of the Jedi (1983)'"
      ]
     },
     "execution_count": 14,
     "metadata": {},
     "output_type": "execute_result"
    }
   ],
   "source": [
    "indexed_items = items.set_index('item_id')\n",
    "indexed_items[\"title\"][181]"
   ]
  },
  {
   "cell_type": "code",
   "execution_count": 15,
   "metadata": {},
   "outputs": [
    {
     "data": {
      "text/html": [
       "<div>\n",
       "<style scoped>\n",
       "    .dataframe tbody tr th:only-of-type {\n",
       "        vertical-align: middle;\n",
       "    }\n",
       "\n",
       "    .dataframe tbody tr th {\n",
       "        vertical-align: top;\n",
       "    }\n",
       "\n",
       "    .dataframe thead th {\n",
       "        text-align: right;\n",
       "    }\n",
       "</style>\n",
       "<table border=\"1\" class=\"dataframe\">\n",
       "  <thead>\n",
       "    <tr style=\"text-align: right;\">\n",
       "      <th></th>\n",
       "      <th>item_id</th>\n",
       "      <th>popularity</th>\n",
       "      <th>video_release_date</th>\n",
       "      <th>release_year</th>\n",
       "      <th>user_id</th>\n",
       "      <th>rating</th>\n",
       "      <th>timestamp</th>\n",
       "    </tr>\n",
       "  </thead>\n",
       "  <tbody>\n",
       "    <tr>\n",
       "      <th>count</th>\n",
       "      <td>100000.000000</td>\n",
       "      <td>100000.000000</td>\n",
       "      <td>0.0</td>\n",
       "      <td>100000.000000</td>\n",
       "      <td>100000.00000</td>\n",
       "      <td>100000.000000</td>\n",
       "      <td>1.000000e+05</td>\n",
       "    </tr>\n",
       "    <tr>\n",
       "      <th>mean</th>\n",
       "      <td>425.530130</td>\n",
       "      <td>168.071900</td>\n",
       "      <td>NaN</td>\n",
       "      <td>1987.950100</td>\n",
       "      <td>462.48475</td>\n",
       "      <td>3.529860</td>\n",
       "      <td>8.835289e+08</td>\n",
       "    </tr>\n",
       "    <tr>\n",
       "      <th>std</th>\n",
       "      <td>330.798356</td>\n",
       "      <td>121.784558</td>\n",
       "      <td>NaN</td>\n",
       "      <td>14.169558</td>\n",
       "      <td>266.61442</td>\n",
       "      <td>1.125674</td>\n",
       "      <td>5.343856e+06</td>\n",
       "    </tr>\n",
       "    <tr>\n",
       "      <th>min</th>\n",
       "      <td>1.000000</td>\n",
       "      <td>1.000000</td>\n",
       "      <td>NaN</td>\n",
       "      <td>1920.000000</td>\n",
       "      <td>1.00000</td>\n",
       "      <td>1.000000</td>\n",
       "      <td>8.747247e+08</td>\n",
       "    </tr>\n",
       "    <tr>\n",
       "      <th>25%</th>\n",
       "      <td>175.000000</td>\n",
       "      <td>71.000000</td>\n",
       "      <td>NaN</td>\n",
       "      <td>1986.000000</td>\n",
       "      <td>254.00000</td>\n",
       "      <td>3.000000</td>\n",
       "      <td>8.794487e+08</td>\n",
       "    </tr>\n",
       "    <tr>\n",
       "      <th>50%</th>\n",
       "      <td>322.000000</td>\n",
       "      <td>145.000000</td>\n",
       "      <td>NaN</td>\n",
       "      <td>1994.000000</td>\n",
       "      <td>447.00000</td>\n",
       "      <td>4.000000</td>\n",
       "      <td>8.828269e+08</td>\n",
       "    </tr>\n",
       "    <tr>\n",
       "      <th>75%</th>\n",
       "      <td>631.000000</td>\n",
       "      <td>239.000000</td>\n",
       "      <td>NaN</td>\n",
       "      <td>1996.000000</td>\n",
       "      <td>682.00000</td>\n",
       "      <td>4.000000</td>\n",
       "      <td>8.882600e+08</td>\n",
       "    </tr>\n",
       "    <tr>\n",
       "      <th>max</th>\n",
       "      <td>1682.000000</td>\n",
       "      <td>583.000000</td>\n",
       "      <td>NaN</td>\n",
       "      <td>1998.000000</td>\n",
       "      <td>943.00000</td>\n",
       "      <td>5.000000</td>\n",
       "      <td>8.932866e+08</td>\n",
       "    </tr>\n",
       "  </tbody>\n",
       "</table>\n",
       "</div>"
      ],
      "text/plain": [
       "             item_id     popularity  video_release_date   release_year  \\\n",
       "count  100000.000000  100000.000000                 0.0  100000.000000   \n",
       "mean      425.530130     168.071900                 NaN    1987.950100   \n",
       "std       330.798356     121.784558                 NaN      14.169558   \n",
       "min         1.000000       1.000000                 NaN    1920.000000   \n",
       "25%       175.000000      71.000000                 NaN    1986.000000   \n",
       "50%       322.000000     145.000000                 NaN    1994.000000   \n",
       "75%       631.000000     239.000000                 NaN    1996.000000   \n",
       "max      1682.000000     583.000000                 NaN    1998.000000   \n",
       "\n",
       "            user_id         rating     timestamp  \n",
       "count  100000.00000  100000.000000  1.000000e+05  \n",
       "mean      462.48475       3.529860  8.835289e+08  \n",
       "std       266.61442       1.125674  5.343856e+06  \n",
       "min         1.00000       1.000000  8.747247e+08  \n",
       "25%       254.00000       3.000000  8.794487e+08  \n",
       "50%       447.00000       4.000000  8.828269e+08  \n",
       "75%       682.00000       4.000000  8.882600e+08  \n",
       "max       943.00000       5.000000  8.932866e+08  "
      ]
     },
     "execution_count": 15,
     "metadata": {},
     "output_type": "execute_result"
    }
   ],
   "source": [
    "all_ratings = pd.merge(popularity, all_ratings)\n",
    "all_ratings.describe()"
   ]
  },
  {
   "cell_type": "code",
   "execution_count": 16,
   "metadata": {},
   "outputs": [
    {
     "data": {
      "text/html": [
       "<div>\n",
       "<style scoped>\n",
       "    .dataframe tbody tr th:only-of-type {\n",
       "        vertical-align: middle;\n",
       "    }\n",
       "\n",
       "    .dataframe tbody tr th {\n",
       "        vertical-align: top;\n",
       "    }\n",
       "\n",
       "    .dataframe thead th {\n",
       "        text-align: right;\n",
       "    }\n",
       "</style>\n",
       "<table border=\"1\" class=\"dataframe\">\n",
       "  <thead>\n",
       "    <tr style=\"text-align: right;\">\n",
       "      <th></th>\n",
       "      <th>item_id</th>\n",
       "      <th>popularity</th>\n",
       "      <th>title</th>\n",
       "      <th>release_date</th>\n",
       "      <th>video_release_date</th>\n",
       "      <th>imdb_url</th>\n",
       "      <th>release_year</th>\n",
       "      <th>user_id</th>\n",
       "      <th>rating</th>\n",
       "      <th>timestamp</th>\n",
       "    </tr>\n",
       "  </thead>\n",
       "  <tbody>\n",
       "    <tr>\n",
       "      <th>0</th>\n",
       "      <td>1</td>\n",
       "      <td>452</td>\n",
       "      <td>Toy Story (1995)</td>\n",
       "      <td>01-Jan-1995</td>\n",
       "      <td>NaN</td>\n",
       "      <td>http://us.imdb.com/M/title-exact?Toy%20Story%2...</td>\n",
       "      <td>1995</td>\n",
       "      <td>308</td>\n",
       "      <td>4</td>\n",
       "      <td>887736532</td>\n",
       "    </tr>\n",
       "    <tr>\n",
       "      <th>1</th>\n",
       "      <td>1</td>\n",
       "      <td>452</td>\n",
       "      <td>Toy Story (1995)</td>\n",
       "      <td>01-Jan-1995</td>\n",
       "      <td>NaN</td>\n",
       "      <td>http://us.imdb.com/M/title-exact?Toy%20Story%2...</td>\n",
       "      <td>1995</td>\n",
       "      <td>287</td>\n",
       "      <td>5</td>\n",
       "      <td>875334088</td>\n",
       "    </tr>\n",
       "    <tr>\n",
       "      <th>2</th>\n",
       "      <td>1</td>\n",
       "      <td>452</td>\n",
       "      <td>Toy Story (1995)</td>\n",
       "      <td>01-Jan-1995</td>\n",
       "      <td>NaN</td>\n",
       "      <td>http://us.imdb.com/M/title-exact?Toy%20Story%2...</td>\n",
       "      <td>1995</td>\n",
       "      <td>148</td>\n",
       "      <td>4</td>\n",
       "      <td>877019411</td>\n",
       "    </tr>\n",
       "    <tr>\n",
       "      <th>3</th>\n",
       "      <td>1</td>\n",
       "      <td>452</td>\n",
       "      <td>Toy Story (1995)</td>\n",
       "      <td>01-Jan-1995</td>\n",
       "      <td>NaN</td>\n",
       "      <td>http://us.imdb.com/M/title-exact?Toy%20Story%2...</td>\n",
       "      <td>1995</td>\n",
       "      <td>280</td>\n",
       "      <td>4</td>\n",
       "      <td>891700426</td>\n",
       "    </tr>\n",
       "    <tr>\n",
       "      <th>4</th>\n",
       "      <td>1</td>\n",
       "      <td>452</td>\n",
       "      <td>Toy Story (1995)</td>\n",
       "      <td>01-Jan-1995</td>\n",
       "      <td>NaN</td>\n",
       "      <td>http://us.imdb.com/M/title-exact?Toy%20Story%2...</td>\n",
       "      <td>1995</td>\n",
       "      <td>66</td>\n",
       "      <td>3</td>\n",
       "      <td>883601324</td>\n",
       "    </tr>\n",
       "  </tbody>\n",
       "</table>\n",
       "</div>"
      ],
      "text/plain": [
       "   item_id  popularity             title release_date  video_release_date  \\\n",
       "0        1         452  Toy Story (1995)  01-Jan-1995                 NaN   \n",
       "1        1         452  Toy Story (1995)  01-Jan-1995                 NaN   \n",
       "2        1         452  Toy Story (1995)  01-Jan-1995                 NaN   \n",
       "3        1         452  Toy Story (1995)  01-Jan-1995                 NaN   \n",
       "4        1         452  Toy Story (1995)  01-Jan-1995                 NaN   \n",
       "\n",
       "                                            imdb_url  release_year  user_id  \\\n",
       "0  http://us.imdb.com/M/title-exact?Toy%20Story%2...          1995      308   \n",
       "1  http://us.imdb.com/M/title-exact?Toy%20Story%2...          1995      287   \n",
       "2  http://us.imdb.com/M/title-exact?Toy%20Story%2...          1995      148   \n",
       "3  http://us.imdb.com/M/title-exact?Toy%20Story%2...          1995      280   \n",
       "4  http://us.imdb.com/M/title-exact?Toy%20Story%2...          1995       66   \n",
       "\n",
       "   rating  timestamp  \n",
       "0       4  887736532  \n",
       "1       5  875334088  \n",
       "2       4  877019411  \n",
       "3       4  891700426  \n",
       "4       3  883601324  "
      ]
     },
     "execution_count": 16,
     "metadata": {},
     "output_type": "execute_result"
    }
   ],
   "source": [
    "all_ratings.head()"
   ]
  },
  {
   "cell_type": "markdown",
   "metadata": {},
   "source": [
    "Later in the analysis we will assume that this popularity does not come from the ratings themselves but from an external metadata, e.g. box office numbers in the month after the release in movie theaters.\n",
    "\n",
    "Let's split the enriched data in a train / test split to make it possible to do predictive modeling:"
   ]
  },
  {
   "cell_type": "code",
   "execution_count": 17,
   "metadata": {},
   "outputs": [],
   "source": [
    "from sklearn.model_selection import train_test_split\n",
    "\n",
    "ratings_train, ratings_test = train_test_split(\n",
    "    all_ratings, test_size=0.2, random_state=0)\n",
    "\n",
    "user_id_train = np.array(ratings_train['user_id'])\n",
    "item_id_train = np.array(ratings_train['item_id'])\n",
    "rating_train = np.array(ratings_train['rating'])\n",
    "\n",
    "user_id_test = np.array(ratings_test['user_id'])\n",
    "item_id_test = np.array(ratings_test['item_id'])\n",
    "rating_test = np.array(ratings_test['rating'])"
   ]
  },
  {
   "cell_type": "markdown",
   "metadata": {},
   "source": [
    "# Explicit feedback: supervised ratings prediction\n",
    "\n",
    "For each pair of (user, item) try to predict the rating the user would give to the item.\n",
    "\n",
    "This is the classical setup for building recommender systems from offline data with explicit supervision signal. "
   ]
  },
  {
   "cell_type": "markdown",
   "metadata": {},
   "source": [
    "## Predictive ratings  as a regression problem\n",
    "\n",
    "The following code implements the following architecture:\n",
    "\n",
    "<img src=\"images/rec_archi_1.svg\" style=\"width: 600px;\" />"
   ]
  },
  {
   "cell_type": "code",
   "execution_count": 18,
   "metadata": {},
   "outputs": [
    {
     "name": "stderr",
     "output_type": "stream",
     "text": [
      "2023-02-23 15:46:10.364789: I tensorflow/core/platform/cpu_feature_guard.cc:193] This TensorFlow binary is optimized with oneAPI Deep Neural Network Library (oneDNN) to use the following CPU instructions in performance-critical operations:  SSE4.1 SSE4.2 AVX AVX2 FMA\n",
      "To enable them in other operations, rebuild TensorFlow with the appropriate compiler flags.\n"
     ]
    }
   ],
   "source": [
    "from tensorflow.keras.layers import Embedding, Flatten, Dense, Dropout\n",
    "from tensorflow.keras.layers import Dot\n",
    "from tensorflow.keras.models import Model"
   ]
  },
  {
   "cell_type": "code",
   "execution_count": 19,
   "metadata": {},
   "outputs": [
    {
     "name": "stderr",
     "output_type": "stream",
     "text": [
      "2023-02-23 15:46:14.374924: I tensorflow/core/platform/cpu_feature_guard.cc:193] This TensorFlow binary is optimized with oneAPI Deep Neural Network Library (oneDNN) to use the following CPU instructions in performance-critical operations:  SSE4.1 SSE4.2 AVX AVX2 FMA\n",
      "To enable them in other operations, rebuild TensorFlow with the appropriate compiler flags.\n"
     ]
    }
   ],
   "source": [
    "# For each sample we input the integer identifiers\n",
    "# of a single user and a single item\n",
    "class RegressionModel(Model):\n",
    "    def __init__(self, embedding_size, max_user_id, max_item_id):\n",
    "        super().__init__()\n",
    "        \n",
    "        self.user_embedding = Embedding(output_dim=embedding_size,\n",
    "                                        input_dim=max_user_id + 1,\n",
    "                                        input_length=1,\n",
    "                                        name='user_embedding')\n",
    "        self.item_embedding = Embedding(output_dim=embedding_size,\n",
    "                                        input_dim=max_item_id + 1,\n",
    "                                        input_length=1,\n",
    "                                        name='item_embedding')\n",
    "        \n",
    "        # The following two layers don't have parameters.\n",
    "        self.flatten = Flatten()\n",
    "        self.dot = Dot(axes=1)\n",
    "        \n",
    "    def call(self, inputs):\n",
    "        user_inputs = inputs[0]\n",
    "        item_inputs = inputs[1]\n",
    "        \n",
    "        user_vecs = self.flatten(self.user_embedding(user_inputs))\n",
    "        item_vecs = self.flatten(self.item_embedding(item_inputs))\n",
    "        \n",
    "        y = self.dot([user_vecs, item_vecs])\n",
    "        return y\n",
    "\n",
    "\n",
    "model = RegressionModel(64, max_user_id, max_item_id)\n",
    "model.compile(optimizer=\"adam\", loss='mae')"
   ]
  },
  {
   "cell_type": "code",
   "execution_count": 20,
   "metadata": {},
   "outputs": [
    {
     "name": "stdout",
     "output_type": "stream",
     "text": [
      "2500/2500 [==============================] - 2s 591us/step\n"
     ]
    },
    {
     "data": {
      "text/plain": [
       "(80000, 1)"
      ]
     },
     "execution_count": 20,
     "metadata": {},
     "output_type": "execute_result"
    }
   ],
   "source": [
    "# Useful for debugging the output shape of model\n",
    "initial_train_preds = model.predict([user_id_train, item_id_train])\n",
    "initial_train_preds.shape"
   ]
  },
  {
   "cell_type": "markdown",
   "metadata": {},
   "source": [
    "### Model error\n",
    "\n",
    "Using `initial_train_preds`, compute the model errors:\n",
    "- mean absolute error\n",
    "- mean squared error\n",
    "\n",
    "Converting a pandas Series to numpy array is usually implicit, but you may use `rating_train.values` to do so explicitly. Be sure to monitor the shapes of each object you deal with by using `object.shape`."
   ]
  },
  {
   "cell_type": "code",
   "execution_count": 21,
   "metadata": {},
   "outputs": [
    {
     "name": "stdout",
     "output_type": "stream",
     "text": [
      "Random init MSE: 13.719\n",
      "Random init MAE: 3.529\n",
      "Random init RMSE: 3.704\n",
      "Random init MAE: 3.529\n"
     ]
    }
   ],
   "source": [
    "# %load solutions/compute_errors.py\n",
    "squared_differences = np.square(initial_train_preds[:,0] - rating_train)\n",
    "absolute_differences = np.abs(initial_train_preds[:,0] - rating_train)\n",
    "\n",
    "print(\"Random init MSE: %0.3f\" % np.mean(squared_differences))\n",
    "print(\"Random init MAE: %0.3f\" % np.mean(absolute_differences))\n",
    "\n",
    "# You may also use sklearn metrics to do so using scikit-learn:\n",
    "\n",
    "from sklearn.metrics import mean_absolute_error, mean_squared_error\n",
    "\n",
    "print(\"Random init RMSE: %0.3f\" % mean_squared_error(initial_train_preds, rating_train, squared=False))\n",
    "print(\"Random init MAE: %0.3f\" % mean_absolute_error(initial_train_preds, rating_train))\n"
   ]
  },
  {
   "cell_type": "markdown",
   "metadata": {},
   "source": [
    "### Monitoring runs\n",
    "\n",
    "Keras enables to monitor various variables during training. \n",
    "\n",
    "`history.history` returned by the `model.fit` function is a dictionary\n",
    "containing the `'loss'` and validation loss `'val_loss'` after each epoch"
   ]
  },
  {
   "cell_type": "code",
   "execution_count": 22,
   "metadata": {},
   "outputs": [
    {
     "name": "stdout",
     "output_type": "stream",
     "text": [
      "Epoch 1/10\n",
      "1125/1125 [==============================] - 2s 1ms/step - loss: 2.6302 - val_loss: 1.0520\n",
      "Epoch 2/10\n",
      "1125/1125 [==============================] - 1s 1ms/step - loss: 0.8507 - val_loss: 0.7945\n",
      "Epoch 3/10\n",
      "1125/1125 [==============================] - 1s 1ms/step - loss: 0.7506 - val_loss: 0.7638\n",
      "Epoch 4/10\n",
      "1125/1125 [==============================] - 1s 1ms/step - loss: 0.7207 - val_loss: 0.7497\n",
      "Epoch 5/10\n",
      "1125/1125 [==============================] - 1s 1ms/step - loss: 0.6957 - val_loss: 0.7465\n",
      "Epoch 6/10\n",
      "1125/1125 [==============================] - 1s 1ms/step - loss: 0.6727 - val_loss: 0.7381\n",
      "Epoch 7/10\n",
      "1125/1125 [==============================] - 1s 1ms/step - loss: 0.6498 - val_loss: 0.7390\n",
      "Epoch 8/10\n",
      "1125/1125 [==============================] - 1s 1ms/step - loss: 0.6280 - val_loss: 0.7386\n",
      "Epoch 9/10\n",
      "1125/1125 [==============================] - 1s 1ms/step - loss: 0.6051 - val_loss: 0.7401\n",
      "Epoch 10/10\n",
      "1125/1125 [==============================] - 1s 1ms/step - loss: 0.5822 - val_loss: 0.7393\n",
      "CPU times: user 27.3 s, sys: 4.65 s, total: 32 s\n",
      "Wall time: 14.4 s\n"
     ]
    }
   ],
   "source": [
    "%%time\n",
    "# shuffle = batch par tirar aléatoire\n",
    "# Training the model\n",
    "history = model.fit([user_id_train, item_id_train], rating_train,\n",
    "                    batch_size=64, epochs=10, validation_split=0.1,\n",
    "                    shuffle=True)"
   ]
  },
  {
   "cell_type": "code",
   "execution_count": 23,
   "metadata": {},
   "outputs": [
    {
     "data": {
      "image/png": "[encoded data removed]",
      "text/plain": [
       "<Figure size 640x480 with 1 Axes>"
      ]
     },
     "metadata": {},
     "output_type": "display_data"
    }
   ],
   "source": [
    "plt.plot(history.history['loss'], label='train')\n",
    "plt.plot(history.history['val_loss'], label='validation')\n",
    "plt.ylim(0, 2)\n",
    "plt.legend(loc='best')\n",
    "plt.title('Loss');"
   ]
  },
  {
   "cell_type": "markdown",
   "metadata": {},
   "source": [
    "**Questions**:\n",
    "\n",
    "- Why is the train loss higher than the first loss in the first few epochs?\n",
    "- Why is Keras not computing the train loss on the full training set at the end of each epoch as it does on the validation set?\n",
    "\n",
    "\n",
    "Now that the model is trained, the model MSE and MAE look nicer:"
   ]
  },
  {
   "cell_type": "markdown",
   "metadata": {},
   "source": [
    "**Réponses**\n",
    "- le score de train s'améliore avec les batch, le score de validation est calculé à la fin d'une epoch et donc on a un peu convergé. Pourquoi? pas recalculer la loss de train a la fin de chaque epoch? cela prend du temps\n",
    "- "
   ]
  },
  {
   "cell_type": "code",
   "execution_count": 24,
   "metadata": {},
   "outputs": [],
   "source": [
    "def plot_predictions(y_true, y_pred):\n",
    "    plt.figure(figsize=(4, 4))\n",
    "    plt.xlim(-1, 6)\n",
    "    plt.xlabel(\"True rating\")\n",
    "    plt.ylim(-1, 6)\n",
    "    plt.xlabel(\"Predicted rating\")\n",
    "    plt.scatter(y_true, y_pred, s=60, alpha=0.01)"
   ]
  },
  {
   "cell_type": "code",
   "execution_count": 25,
   "metadata": {},
   "outputs": [
    {
     "name": "stdout",
     "output_type": "stream",
     "text": [
      "625/625 [==============================] - 0s 600us/step\n",
      "Final test MSE: 0.900\n",
      "Final test MAE: 0.732\n"
     ]
    },
    {
     "data": {
      "image/png": "[encoded data removed]",
      "text/plain": [
       "<Figure size 400x400 with 1 Axes>"
      ]
     },
     "metadata": {},
     "output_type": "display_data"
    }
   ],
   "source": [
    "from sklearn.metrics import mean_squared_error\n",
    "from sklearn.metrics import mean_absolute_error\n",
    "\n",
    "test_preds = model.predict([user_id_test, item_id_test])\n",
    "print(\"Final test MSE: %0.3f\" % mean_squared_error(test_preds, rating_test))\n",
    "print(\"Final test MAE: %0.3f\" % mean_absolute_error(test_preds, rating_test))\n",
    "plot_predictions(rating_test, test_preds)"
   ]
  },
  {
   "cell_type": "code",
   "execution_count": 26,
   "metadata": {},
   "outputs": [
    {
     "name": "stdout",
     "output_type": "stream",
     "text": [
      "2500/2500 [==============================] - 2s 602us/step\n",
      "Final train MSE: 0.605\n",
      "Final train MAE: 0.565\n"
     ]
    },
    {
     "data": {
      "image/png": "[encoded data removed]",
      "text/plain": [
       "<Figure size 400x400 with 1 Axes>"
      ]
     },
     "metadata": {},
     "output_type": "display_data"
    }
   ],
   "source": [
    "train_preds = model.predict([user_id_train, item_id_train])\n",
    "print(\"Final train MSE: %0.3f\" % mean_squared_error(train_preds, rating_train))\n",
    "print(\"Final train MAE: %0.3f\" % mean_absolute_error(train_preds, rating_train))\n",
    "plot_predictions(rating_train, train_preds)"
   ]
  },
  {
   "cell_type": "markdown",
   "metadata": {},
   "source": [
    "### Model Embeddings\n",
    "\n",
    "- It is possible to retrieve the embeddings by simply using the Keras function `model.get_weights` which returns all the model learnable parameters.\n",
    "- The weights are returned the same order as they were build in the model\n",
    "- What is the total number of parameters?"
   ]
  },
  {
   "cell_type": "code",
   "execution_count": 27,
   "metadata": {},
   "outputs": [
    {
     "data": {
      "text/plain": [
       "[(944, 64), (1683, 64)]"
      ]
     },
     "execution_count": 27,
     "metadata": {},
     "output_type": "execute_result"
    }
   ],
   "source": [
    "# weights and shape\n",
    "weights = model.get_weights()\n",
    "[w.shape for w in weights]"
   ]
  },
  {
   "cell_type": "code",
   "execution_count": 28,
   "metadata": {},
   "outputs": [],
   "source": [
    "# Solution: \n",
    "# model.summary()"
   ]
  },
  {
   "cell_type": "code",
   "execution_count": 29,
   "metadata": {},
   "outputs": [],
   "source": [
    "user_embeddings = weights[0]\n",
    "item_embeddings = weights[1]"
   ]
  },
  {
   "cell_type": "code",
   "execution_count": 30,
   "metadata": {},
   "outputs": [
    {
     "name": "stdout",
     "output_type": "stream",
     "text": [
      "Title for item_id=181: Return of the Jedi (1983)\n"
     ]
    }
   ],
   "source": [
    "item_id = 181\n",
    "print(f\"Title for item_id={item_id}: {indexed_items['title'][item_id]}\")"
   ]
  },
  {
   "cell_type": "code",
   "execution_count": 31,
   "metadata": {},
   "outputs": [
    {
     "name": "stdout",
     "output_type": "stream",
     "text": [
      "Embedding vector for item_id=181\n",
      "[ 0.46562913  0.51646507  0.39519376 -0.30937544  0.46295315 -0.35833743\n",
      "  0.19969803 -0.22916381 -0.26557106  0.32093272  0.26556808  0.25251204\n",
      "  0.14487879 -0.20649543  0.14388469 -0.13388897 -0.3377313  -0.11307928\n",
      "  0.28526863  0.16720474  0.210498    0.23661049 -0.26474047 -0.23214726\n",
      "  0.06191863 -0.16749257 -0.50800693 -0.45967013  0.11633983  0.45747218\n",
      " -0.12847906  0.11654389 -0.4753416   0.2720422  -0.39744368 -0.40662676\n",
      " -0.30257973 -0.5539544  -0.2018668  -0.547963   -0.31497929 -0.427884\n",
      "  0.16536917  0.354198    0.48749426 -0.0692906   0.09935489 -0.4941509\n",
      "  0.01579702  0.05165562  0.44088802 -0.5217472  -0.41757327  0.13743788\n",
      "  0.18603626 -0.33235976  0.37399673  0.43639606  0.7092816   0.27352166\n",
      " -0.22939198  0.23159443  0.0711136   0.13021137]\n",
      "shape: (64,)\n"
     ]
    }
   ],
   "source": [
    "print(f\"Embedding vector for item_id={item_id}\")\n",
    "print(item_embeddings[item_id])\n",
    "print(\"shape:\", item_embeddings[item_id].shape)"
   ]
  },
  {
   "cell_type": "markdown",
   "metadata": {},
   "source": [
    "### Finding most similar items\n",
    "\n",
    "Finding k most similar items to a point in embedding space\n",
    "\n",
    "- Write in numpy a function to compute the cosine similarity between two points in embedding space.\n",
    "- Test it on the following cells to check the similarities between popular movies.\n",
    "- Bonus: try to generalize the function to compute the similarities between one movie and all the others and return the most related movies.\n",
    "\n",
    "Notes:\n",
    "- you may use `np.linalg.norm` to compute the norm of vector, and you may specify the `axis=`\n",
    "- the numpy function `np.argsort(...)` enables to compute the sorted indices of a vector\n",
    "- `items[\"name\"][idxs]` returns the names of the items indexed by array idxs"
   ]
  },
  {
   "cell_type": "code",
   "execution_count": 32,
   "metadata": {},
   "outputs": [],
   "source": [
    "EPSILON = 1e-07  # to avoid division by 0.\n",
    "\n",
    "\n",
    "def cosine(x, y):\n",
    "    # TODO: implement me!\n",
    "    \n",
    "    return 0."
   ]
  },
  {
   "cell_type": "code",
   "execution_count": 33,
   "metadata": {},
   "outputs": [],
   "source": [
    "# %load solutions/similarity.py\n",
    "EPSILON = 1e-07\n",
    "\n",
    "\n",
    "def cosine(x, y):\n",
    "    dot_products = np.dot(x, y.T)\n",
    "    norm_products = np.linalg.norm(x) * np.linalg.norm(y)\n",
    "    return dot_products / (norm_products + EPSILON)\n"
   ]
  },
  {
   "cell_type": "code",
   "execution_count": 34,
   "metadata": {},
   "outputs": [
    {
     "name": "stdout",
     "output_type": "stream",
     "text": [
      "Star Wars (1977)\n",
      "Return of the Jedi (1983)\n",
      "Cosine similarity: 0.917\n"
     ]
    }
   ],
   "source": [
    "def print_similarity(item_a, item_b, item_embeddings, titles):\n",
    "    print(titles[item_a])\n",
    "    print(titles[item_b])\n",
    "    similarity = cosine(item_embeddings[item_a],\n",
    "                        item_embeddings[item_b])\n",
    "    print(f\"Cosine similarity: {similarity:.3}\")\n",
    "    \n",
    "print_similarity(50, 181, item_embeddings, indexed_items[\"title\"])"
   ]
  },
  {
   "cell_type": "code",
   "execution_count": 35,
   "metadata": {},
   "outputs": [
    {
     "name": "stdout",
     "output_type": "stream",
     "text": [
      "Return of the Jedi (1983)\n",
      "Scream (1996)\n",
      "Cosine similarity: 0.722\n"
     ]
    }
   ],
   "source": [
    "print_similarity(181, 288, item_embeddings, indexed_items[\"title\"])"
   ]
  },
  {
   "cell_type": "code",
   "execution_count": 36,
   "metadata": {},
   "outputs": [
    {
     "name": "stdout",
     "output_type": "stream",
     "text": [
      "Return of the Jedi (1983)\n",
      "Toy Story (1995)\n",
      "Cosine similarity: 0.851\n"
     ]
    }
   ],
   "source": [
    "print_similarity(181, 1, item_embeddings, indexed_items[\"title\"])"
   ]
  },
  {
   "cell_type": "code",
   "execution_count": 37,
   "metadata": {},
   "outputs": [
    {
     "name": "stdout",
     "output_type": "stream",
     "text": [
      "Return of the Jedi (1983)\n",
      "Return of the Jedi (1983)\n",
      "Cosine similarity: 1.0\n"
     ]
    }
   ],
   "source": [
    "print_similarity(181, 181, item_embeddings, indexed_items[\"title\"])"
   ]
  },
  {
   "cell_type": "code",
   "execution_count": 38,
   "metadata": {},
   "outputs": [
    {
     "data": {
      "text/plain": [
       "array([0.06663588, 0.85072875, 0.75449216, ..., 0.6396843 , 0.72763145,\n",
       "       0.66212296], dtype=float32)"
      ]
     },
     "execution_count": 38,
     "metadata": {},
     "output_type": "execute_result"
    }
   ],
   "source": [
    "def cosine_similarities(item_id, item_embeddings):\n",
    "    \"\"\"Compute similarities between item_id and all items embeddings\"\"\"\n",
    "    query_vector = item_embeddings[item_id]\n",
    "    dot_products = item_embeddings @ query_vector\n",
    "\n",
    "    query_vector_norm = np.linalg.norm(query_vector)\n",
    "    all_item_norms = np.linalg.norm(item_embeddings, axis=1)\n",
    "    norm_products = query_vector_norm * all_item_norms\n",
    "    return dot_products / (norm_products + EPSILON)\n",
    "\n",
    "\n",
    "similarities = cosine_similarities(181, item_embeddings)\n",
    "similarities"
   ]
  },
  {
   "cell_type": "code",
   "execution_count": 39,
   "metadata": {},
   "outputs": [
    {
     "data": {
      "image/png": "[encoded data removed]",
      "text/plain": [
       "<Figure size 640x480 with 1 Axes>"
      ]
     },
     "metadata": {},
     "output_type": "display_data"
    }
   ],
   "source": [
    "plt.hist(similarities, bins=30);"
   ]
  },
  {
   "cell_type": "code",
   "execution_count": 40,
   "metadata": {},
   "outputs": [
    {
     "data": {
      "text/plain": [
       "[(50, 'Star Wars (1977)', 1.0000001),\n",
       " (174, 'Raiders of the Lost Ark (1981)', 0.9189112),\n",
       " (181, 'Return of the Jedi (1983)', 0.9168472),\n",
       " (172, 'Empire Strikes Back, The (1980)', 0.9141575),\n",
       " (194, 'Sting, The (1973)', 0.8820569),\n",
       " (204, 'Back to the Future (1985)', 0.8742643),\n",
       " (96, 'Terminator 2: Judgment Day (1991)', 0.8720791),\n",
       " (210, 'Indiana Jones and the Last Crusade (1989)', 0.85630906),\n",
       " (211, 'M*A*S*H (1970)', 0.8511677),\n",
       " (144, 'Die Hard (1988)', 0.8460967)]"
      ]
     },
     "execution_count": 40,
     "metadata": {},
     "output_type": "execute_result"
    }
   ],
   "source": [
    "def most_similar(item_id, item_embeddings, titles,\n",
    "                 top_n=30):\n",
    "    sims = cosine_similarities(item_id, item_embeddings)\n",
    "    # [::-1] makes it possible to reverse the order of a numpy\n",
    "    # array, this is required because most similar items have\n",
    "    # a larger cosine similarity value\n",
    "    sorted_indexes = np.argsort(sims)[::-1]\n",
    "    idxs = sorted_indexes[0:top_n]\n",
    "    return list(zip(idxs, titles[idxs], sims[idxs]))\n",
    "\n",
    "\n",
    "most_similar(50, item_embeddings, indexed_items[\"title\"], top_n=10)"
   ]
  },
  {
   "cell_type": "code",
   "execution_count": 41,
   "metadata": {},
   "outputs": [],
   "source": [
    "# items[items['title'].str.contains(\"Star Trek\")]"
   ]
  },
  {
   "cell_type": "code",
   "execution_count": 42,
   "metadata": {},
   "outputs": [
    {
     "data": {
      "text/plain": [
       "[(227, 'Star Trek VI: The Undiscovered Country (1991)', 1.0000001),\n",
       " (230, 'Star Trek IV: The Voyage Home (1986)', 0.89170116),\n",
       " (228, 'Star Trek: The Wrath of Khan (1982)', 0.88443446),\n",
       " (164, 'Abyss, The (1989)', 0.87653726),\n",
       " (222, 'Star Trek: First Contact (1996)', 0.86610395),\n",
       " (129, 'Bound (1996)', 0.8498298),\n",
       " (186, 'Blues Brothers, The (1980)', 0.8464227),\n",
       " (778, 'Don Juan DeMarco (1995)', 0.8451501),\n",
       " (566, 'Clear and Present Danger (1994)', 0.84462696),\n",
       " (809, 'Rising Sun (1993)', 0.83939385)]"
      ]
     },
     "execution_count": 42,
     "metadata": {},
     "output_type": "execute_result"
    }
   ],
   "source": [
    "most_similar(227, item_embeddings, indexed_items[\"title\"], top_n=10)"
   ]
  },
  {
   "cell_type": "markdown",
   "metadata": {},
   "source": [
    "The similarities do not always make sense: the number of ratings is low and the embedding  does not automatically capture semantic relationships in that context. Better representations arise with higher number of ratings, and less overfitting  in models or maybe better loss function, such as those based on implicit feedback."
   ]
  },
  {
   "cell_type": "markdown",
   "metadata": {},
   "source": [
    "### Visualizing embeddings using TSNE\n",
    "\n",
    "- we use scikit learn to visualize items embeddings\n",
    "- Try different perplexities, and visualize user embeddings as well\n",
    "- What can you conclude ?"
   ]
  },
  {
   "cell_type": "code",
   "execution_count": 64,
   "metadata": {},
   "outputs": [],
   "source": [
    "from sklearn.manifold import TSNE\n",
    "\n",
    "item_tsne = TSNE(perplexity=30).fit_transform(item_embeddings)"
   ]
  },
  {
   "cell_type": "code",
   "execution_count": 65,
   "metadata": {},
   "outputs": [
    {
     "data": {
      "image/png": "[encoded data removed]",
      "text/plain": [
       "<Figure size 1000x1000 with 1 Axes>"
      ]
     },
     "metadata": {},
     "output_type": "display_data"
    }
   ],
   "source": [
    "import matplotlib.pyplot as plt\n",
    "\n",
    "plt.figure(figsize=(10, 10))\n",
    "plt.scatter(item_tsne[:, 0], item_tsne[:, 1]);\n",
    "plt.xticks(()); plt.yticks(());\n",
    "plt.show()"
   ]
  },
  {
   "cell_type": "code",
   "execution_count": 66,
   "metadata": {},
   "outputs": [
    {
     "name": "stdout",
     "output_type": "stream",
     "text": [
      "Note: you may need to restart the kernel to use updated packages.\n"
     ]
    }
   ],
   "source": [
    "%pip install -q plotly"
   ]
  },
  {
   "cell_type": "code",
   "execution_count": 67,
   "metadata": {},
   "outputs": [
    {
     "data": {
      "application/vnd.plotly.v1+json": {
       "config": {
        "plotlyServerURL": "https://plot.ly"
       },
       "data": [
        {
         "customdata": [
          [
           1,
           "Toy Story (1995)",
           1995,
           452
          ],
          [
           2,
           "GoldenEye (1995)",
           1995,
           131
          ],
          [
           3,
           "Four Rooms (1995)",
           1995,
           90
          ],
          [
           4,
           "Get Shorty (1995)",
           1995,
           209
          ],
          [
           5,
           "Copycat (1995)",
           1995,
           86
          ],
          [
           6,
           "Shanghai Triad (Yao a yao yao dao waipo qiao) (1995)",
           1995,
           26
          ],
          [
           7,
           "Twelve Monkeys (1995)",
           1995,
           392
          ],
          [
           8,
           "Babe (1995)",
           1995,
           219
          ],
          [
           9,
           "Dead Man Walking (1995)",
           1995,
           299
          ],
          [
           10,
           "Richard III (1995)",
           1996,
           89
          ],
          [
           11,
           "Seven (Se7en) (1995)",
           1995,
           236
          ],
          [
           12,
           "Usual Suspects, The (1995)",
           1995,
           267
          ],
          [
           13,
           "Mighty Aphrodite (1995)",
           1995,
           184
          ],
          [
           14,
           "Postino, Il (1994)",
           1994,
           183
          ],
          [
           15,
           "Mr. Holland's Opus (1995)",
           1996,
           293
          ],
          [
           16,
           "French Twist (Gazon maudit) (1995)",
           1995,
           39
          ],
          [
           17,
           "From Dusk Till Dawn (1996)",
           1996,
           92
          ],
          [
           18,
           "White Balloon, The (1995)",
           1995,
           10
          ],
          [
           19,
           "Antonia's Line (1995)",
           1995,
           69
          ],
          [
           20,
           "Angels and Insects (1995)",
           1995,
           72
          ],
          [
           21,
           "Muppet Treasure Island (1996)",
           1996,
           84
          ],
          [
           22,
           "Braveheart (1995)",
           1996,
           297
          ],
          [
           23,
           "Taxi Driver (1976)",
           1996,
           182
          ],
          [
           24,
           "Rumble in the Bronx (1995)",
           1996,
           174
          ],
          [
           25,
           "Birdcage, The (1996)",
           1996,
           293
          ],
          [
           26,
           "Brothers McMullen, The (1995)",
           1995,
           73
          ],
          [
           27,
           "Bad Boys (1995)",
           1995,
           57
          ],
          [
           28,
           "Apollo 13 (1995)",
           1995,
           276
          ],
          [
           29,
           "Batman Forever (1995)",
           1995,
           114
          ],
          [
           30,
           "Belle de jour (1967)",
           1967,
           37
          ],
          [
           31,
           "Crimson Tide (1995)",
           1995,
           154
          ],
          [
           32,
           "Crumb (1994)",
           1994,
           81
          ],
          [
           33,
           "Desperado (1995)",
           1995,
           97
          ],
          [
           34,
           "Doom Generation, The (1995)",
           1995,
           7
          ],
          [
           35,
           "Free Willy 2: The Adventure Home (1995)",
           1995,
           11
          ],
          [
           36,
           "Mad Love (1995)",
           1995,
           13
          ],
          [
           37,
           "Nadja (1994)",
           1994,
           8
          ],
          [
           38,
           "Net, The (1995)",
           1995,
           120
          ],
          [
           39,
           "Strange Days (1995)",
           1995,
           87
          ],
          [
           40,
           "To Wong Foo, Thanks for Everything! Julie Newmar (1995)",
           1995,
           57
          ],
          [
           41,
           "Billy Madison (1995)",
           1995,
           37
          ],
          [
           42,
           "Clerks (1994)",
           1994,
           148
          ],
          [
           43,
           "Disclosure (1994)",
           1994,
           40
          ],
          [
           44,
           "Dolores Claiborne (1994)",
           1994,
           79
          ],
          [
           45,
           "Eat Drink Man Woman (1994)",
           1994,
           80
          ],
          [
           46,
           "Exotica (1994)",
           1994,
           27
          ],
          [
           47,
           "Ed Wood (1994)",
           1994,
           133
          ],
          [
           48,
           "Hoop Dreams (1994)",
           1994,
           117
          ],
          [
           49,
           "I.Q. (1994)",
           1994,
           81
          ],
          [
           50,
           "Star Wars (1977)",
           1977,
           583
          ],
          [
           51,
           "Legends of the Fall (1994)",
           1994,
           81
          ],
          [
           52,
           "Madness of King George, The (1994)",
           1994,
           91
          ],
          [
           53,
           "Natural Born Killers (1994)",
           1994,
           128
          ],
          [
           54,
           "Outbreak (1995)",
           1995,
           104
          ],
          [
           55,
           "Professional, The (1994)",
           1994,
           149
          ],
          [
           56,
           "Pulp Fiction (1994)",
           1994,
           394
          ],
          [
           57,
           "Priest (1994)",
           1994,
           40
          ],
          [
           58,
           "Quiz Show (1994)",
           1994,
           175
          ],
          [
           59,
           "Three Colors: Red (1994)",
           1994,
           83
          ],
          [
           60,
           "Three Colors: Blue (1993)",
           1993,
           64
          ],
          [
           61,
           "Three Colors: White (1994)",
           1994,
           59
          ],
          [
           62,
           "Stargate (1994)",
           1994,
           127
          ],
          [
           63,
           "Santa Clause, The (1994)",
           1994,
           82
          ],
          [
           64,
           "Shawshank Redemption, The (1994)",
           1994,
           283
          ],
          [
           65,
           "What's Eating Gilbert Grape (1993)",
           1993,
           115
          ],
          [
           66,
           "While You Were Sleeping (1995)",
           1995,
           162
          ],
          [
           67,
           "Ace Ventura: Pet Detective (1994)",
           1994,
           103
          ],
          [
           68,
           "Crow, The (1994)",
           1994,
           134
          ],
          [
           69,
           "Forrest Gump (1994)",
           1994,
           321
          ],
          [
           70,
           "Four Weddings and a Funeral (1994)",
           1994,
           251
          ],
          [
           71,
           "Lion King, The (1994)",
           1994,
           220
          ],
          [
           72,
           "Mask, The (1994)",
           1994,
           129
          ],
          [
           73,
           "Maverick (1994)",
           1994,
           128
          ],
          [
           74,
           "Faster Pussycat! Kill! Kill! (1965)",
           1965,
           7
          ],
          [
           75,
           "Brother Minister: The Assassination of Malcolm X (1994)",
           1994,
           5
          ],
          [
           76,
           "Carlito's Way (1993)",
           1993,
           54
          ],
          [
           77,
           "Firm, The (1993)",
           1993,
           151
          ],
          [
           78,
           "Free Willy (1993)",
           1993,
           33
          ],
          [
           79,
           "Fugitive, The (1993)",
           1993,
           336
          ],
          [
           80,
           "Hot Shots! Part Deux (1993)",
           1993,
           68
          ],
          [
           81,
           "Hudsucker Proxy, The (1994)",
           1994,
           110
          ],
          [
           82,
           "Jurassic Park (1993)",
           1993,
           261
          ],
          [
           83,
           "Much Ado About Nothing (1993)",
           1993,
           176
          ],
          [
           84,
           "Robert A. Heinlein's The Puppet Masters (1994)",
           1994,
           18
          ],
          [
           85,
           "Ref, The (1994)",
           1994,
           58
          ],
          [
           86,
           "Remains of the Day, The (1993)",
           1993,
           150
          ],
          [
           87,
           "Searching for Bobby Fischer (1993)",
           1993,
           138
          ],
          [
           88,
           "Sleepless in Seattle (1993)",
           1993,
           213
          ],
          [
           89,
           "Blade Runner (1982)",
           1982,
           275
          ],
          [
           90,
           "So I Married an Axe Murderer (1993)",
           1993,
           95
          ],
          [
           91,
           "Nightmare Before Christmas, The (1993)",
           1993,
           143
          ],
          [
           92,
           "True Romance (1993)",
           1993,
           104
          ],
          [
           93,
           "Welcome to the Dollhouse (1995)",
           1996,
           112
          ],
          [
           94,
           "Home Alone (1990)",
           1990,
           137
          ],
          [
           95,
           "Aladdin (1992)",
           1992,
           219
          ],
          [
           96,
           "Terminator 2: Judgment Day (1991)",
           1991,
           295
          ],
          [
           97,
           "Dances with Wolves (1990)",
           1990,
           256
          ],
          [
           98,
           "Silence of the Lambs, The (1991)",
           1991,
           390
          ],
          [
           99,
           "Snow White and the Seven Dwarfs (1937)",
           1937,
           172
          ],
          [
           100,
           "Fargo (1996)",
           1997,
           508
          ],
          [
           101,
           "Heavy Metal (1981)",
           1981,
           73
          ],
          [
           102,
           "Aristocats, The (1970)",
           1970,
           54
          ],
          [
           103,
           "All Dogs Go to Heaven 2 (1996)",
           1996,
           15
          ],
          [
           104,
           "Theodore Rex (1995)",
           1996,
           5
          ],
          [
           105,
           "Sgt. Bilko (1996)",
           1996,
           74
          ],
          [
           106,
           "Diabolique (1996)",
           1996,
           71
          ],
          [
           107,
           "Moll Flanders (1996)",
           1996,
           42
          ],
          [
           108,
           "Kids in the Hall: Brain Candy (1996)",
           1996,
           65
          ],
          [
           109,
           "Mystery Science Theater 3000: The Movie (1996)",
           1996,
           130
          ],
          [
           110,
           "Operation Dumbo Drop (1995)",
           1995,
           31
          ],
          [
           111,
           "Truth About Cats & Dogs, The (1996)",
           1996,
           272
          ],
          [
           112,
           "Flipper (1996)",
           1996,
           20
          ],
          [
           113,
           "Horseman on the Roof, The (Hussard sur le toit, Le) (1995)",
           1996,
           9
          ],
          [
           114,
           "Wallace & Gromit: The Best of Aardman Animation (1996)",
           1996,
           67
          ],
          [
           115,
           "Haunted World of Edward D. Wood Jr., The (1995)",
           1996,
           15
          ],
          [
           116,
           "Cold Comfort Farm (1995)",
           1996,
           125
          ],
          [
           117,
           "Rock, The (1996)",
           1996,
           378
          ],
          [
           118,
           "Twister (1996)",
           1996,
           293
          ],
          [
           119,
           "Maya Lin: A Strong Clear Vision (1994)",
           1994,
           4
          ],
          [
           120,
           "Striptease (1996)",
           1996,
           67
          ],
          [
           121,
           "Independence Day (ID4) (1996)",
           1996,
           429
          ],
          [
           122,
           "Cable Guy, The (1996)",
           1996,
           106
          ],
          [
           123,
           "Frighteners, The (1996)",
           1996,
           115
          ],
          [
           124,
           "Lone Star (1996)",
           1996,
           187
          ],
          [
           125,
           "Phenomenon (1996)",
           1996,
           244
          ],
          [
           126,
           "Spitfire Grill, The (1996)",
           1996,
           97
          ],
          [
           127,
           "Godfather, The (1972)",
           1972,
           413
          ],
          [
           128,
           "Supercop (1992)",
           1996,
           65
          ],
          [
           129,
           "Bound (1996)",
           1996,
           129
          ],
          [
           130,
           "Kansas City (1996)",
           1996,
           23
          ],
          [
           131,
           "Breakfast at Tiffany's (1961)",
           1961,
           95
          ],
          [
           132,
           "Wizard of Oz, The (1939)",
           1939,
           246
          ],
          [
           133,
           "Gone with the Wind (1939)",
           1939,
           171
          ],
          [
           134,
           "Citizen Kane (1941)",
           1941,
           198
          ],
          [
           135,
           "2001: A Space Odyssey (1968)",
           1968,
           259
          ],
          [
           136,
           "Mr. Smith Goes to Washington (1939)",
           1939,
           105
          ],
          [
           137,
           "Big Night (1996)",
           1996,
           171
          ],
          [
           138,
           "D3: The Mighty Ducks (1996)",
           1996,
           19
          ],
          [
           139,
           "Love Bug, The (1969)",
           1969,
           50
          ],
          [
           140,
           "Homeward Bound: The Incredible Journey (1993)",
           1993,
           61
          ],
          [
           141,
           "20,000 Leagues Under the Sea (1954)",
           1954,
           72
          ],
          [
           142,
           "Bedknobs and Broomsticks (1971)",
           1971,
           57
          ],
          [
           143,
           "Sound of Music, The (1965)",
           1965,
           222
          ],
          [
           144,
           "Die Hard (1988)",
           1988,
           243
          ],
          [
           145,
           "Lawnmower Man, The (1992)",
           1992,
           65
          ],
          [
           146,
           "Unhook the Stars (1996)",
           1996,
           10
          ],
          [
           147,
           "Long Kiss Goodnight, The (1996)",
           1996,
           185
          ],
          [
           148,
           "Ghost and the Darkness, The (1996)",
           1996,
           128
          ],
          [
           149,
           "Jude (1996)",
           1996,
           23
          ],
          [
           150,
           "Swingers (1996)",
           1996,
           157
          ],
          [
           151,
           "Willy Wonka and the Chocolate Factory (1971)",
           1971,
           326
          ],
          [
           152,
           "Sleeper (1973)",
           1973,
           82
          ],
          [
           153,
           "Fish Called Wanda, A (1988)",
           1988,
           247
          ],
          [
           154,
           "Monty Python's Life of Brian (1979)",
           1979,
           174
          ],
          [
           155,
           "Dirty Dancing (1987)",
           1987,
           98
          ],
          [
           156,
           "Reservoir Dogs (1992)",
           1992,
           148
          ],
          [
           157,
           "Platoon (1986)",
           1986,
           127
          ],
          [
           158,
           "Weekend at Bernie's (1989)",
           1989,
           60
          ],
          [
           159,
           "Basic Instinct (1992)",
           1992,
           101
          ],
          [
           160,
           "Glengarry Glen Ross (1992)",
           1992,
           69
          ],
          [
           161,
           "Top Gun (1986)",
           1986,
           220
          ],
          [
           162,
           "On Golden Pond (1981)",
           1981,
           106
          ],
          [
           163,
           "Return of the Pink Panther, The (1974)",
           1974,
           92
          ],
          [
           164,
           "Abyss, The (1989)",
           1989,
           151
          ],
          [
           165,
           "Jean de Florette (1986)",
           1986,
           64
          ],
          [
           166,
           "Manon of the Spring (Manon des sources) (1986)",
           1986,
           58
          ],
          [
           167,
           "Private Benjamin (1980)",
           1980,
           67
          ],
          [
           168,
           "Monty Python and the Holy Grail (1974)",
           1974,
           316
          ],
          [
           169,
           "Wrong Trousers, The (1993)",
           1993,
           118
          ],
          [
           170,
           "Cinema Paradiso (1988)",
           1988,
           121
          ],
          [
           171,
           "Delicatessen (1991)",
           1991,
           65
          ],
          [
           172,
           "Empire Strikes Back, The (1980)",
           1980,
           367
          ],
          [
           173,
           "Princess Bride, The (1987)",
           1987,
           324
          ],
          [
           174,
           "Raiders of the Lost Ark (1981)",
           1981,
           420
          ],
          [
           175,
           "Brazil (1985)",
           1985,
           208
          ],
          [
           176,
           "Aliens (1986)",
           1986,
           284
          ],
          [
           177,
           "Good, The Bad and The Ugly, The (1966)",
           1966,
           137
          ],
          [
           178,
           "12 Angry Men (1957)",
           1957,
           125
          ],
          [
           179,
           "Clockwork Orange, A (1971)",
           1971,
           221
          ],
          [
           180,
           "Apocalypse Now (1979)",
           1979,
           221
          ],
          [
           181,
           "Return of the Jedi (1983)",
           1997,
           507
          ],
          [
           182,
           "GoodFellas (1990)",
           1990,
           226
          ],
          [
           183,
           "Alien (1979)",
           1979,
           291
          ],
          [
           184,
           "Army of Darkness (1993)",
           1993,
           116
          ],
          [
           185,
           "Psycho (1960)",
           1960,
           239
          ],
          [
           186,
           "Blues Brothers, The (1980)",
           1980,
           251
          ],
          [
           187,
           "Godfather: Part II, The (1974)",
           1974,
           209
          ],
          [
           188,
           "Full Metal Jacket (1987)",
           1987,
           170
          ],
          [
           189,
           "Grand Day Out, A (1992)",
           1992,
           66
          ],
          [
           190,
           "Henry V (1989)",
           1989,
           124
          ],
          [
           191,
           "Amadeus (1984)",
           1984,
           276
          ],
          [
           192,
           "Raging Bull (1980)",
           1980,
           116
          ],
          [
           193,
           "Right Stuff, The (1983)",
           1983,
           157
          ],
          [
           194,
           "Sting, The (1973)",
           1973,
           241
          ],
          [
           195,
           "Terminator, The (1984)",
           1984,
           301
          ],
          [
           196,
           "Dead Poets Society (1989)",
           1989,
           251
          ],
          [
           197,
           "Graduate, The (1967)",
           1967,
           239
          ],
          [
           198,
           "Nikita (La Femme Nikita) (1990)",
           1990,
           127
          ],
          [
           199,
           "Bridge on the River Kwai, The (1957)",
           1957,
           165
          ],
          [
           200,
           "Shining, The (1980)",
           1980,
           206
          ],
          [
           201,
           "Evil Dead II (1987)",
           1987,
           89
          ],
          [
           202,
           "Groundhog Day (1993)",
           1993,
           280
          ],
          [
           203,
           "Unforgiven (1992)",
           1992,
           182
          ],
          [
           204,
           "Back to the Future (1985)",
           1985,
           350
          ],
          [
           205,
           "Patton (1970)",
           1970,
           136
          ],
          [
           206,
           "Akira (1988)",
           1988,
           50
          ],
          [
           207,
           "Cyrano de Bergerac (1990)",
           1990,
           66
          ],
          [
           208,
           "Young Frankenstein (1974)",
           1974,
           200
          ],
          [
           209,
           "This Is Spinal Tap (1984)",
           1984,
           191
          ],
          [
           210,
           "Indiana Jones and the Last Crusade (1989)",
           1989,
           331
          ],
          [
           211,
           "M*A*S*H (1970)",
           1970,
           206
          ],
          [
           212,
           "Unbearable Lightness of Being, The (1988)",
           1988,
           92
          ],
          [
           213,
           "Room with a View, A (1986)",
           1986,
           134
          ],
          [
           214,
           "Pink Floyd - The Wall (1982)",
           1982,
           114
          ],
          [
           215,
           "Field of Dreams (1989)",
           1989,
           212
          ],
          [
           216,
           "When Harry Met Sally... (1989)",
           1989,
           290
          ],
          [
           217,
           "Bram Stoker's Dracula (1992)",
           1992,
           120
          ],
          [
           218,
           "Cape Fear (1991)",
           1991,
           171
          ],
          [
           219,
           "Nightmare on Elm Street, A (1984)",
           1984,
           111
          ],
          [
           220,
           "Mirror Has Two Faces, The (1996)",
           1996,
           66
          ],
          [
           221,
           "Breaking the Waves (1996)",
           1996,
           74
          ],
          [
           222,
           "Star Trek: First Contact (1996)",
           1996,
           365
          ],
          [
           223,
           "Sling Blade (1996)",
           1996,
           136
          ],
          [
           224,
           "Ridicule (1996)",
           1996,
           44
          ],
          [
           225,
           "101 Dalmatians (1996)",
           1996,
           109
          ],
          [
           226,
           "Die Hard 2 (1990)",
           1990,
           166
          ],
          [
           227,
           "Star Trek VI: The Undiscovered Country (1991)",
           1991,
           161
          ],
          [
           228,
           "Star Trek: The Wrath of Khan (1982)",
           1982,
           244
          ],
          [
           229,
           "Star Trek III: The Search for Spock (1984)",
           1984,
           171
          ],
          [
           230,
           "Star Trek IV: The Voyage Home (1986)",
           1986,
           199
          ],
          [
           231,
           "Batman Returns (1992)",
           1992,
           142
          ],
          [
           232,
           "Young Guns (1988)",
           1988,
           101
          ],
          [
           233,
           "Under Siege (1992)",
           1992,
           124
          ],
          [
           234,
           "Jaws (1975)",
           1975,
           280
          ],
          [
           235,
           "Mars Attacks! (1996)",
           1996,
           217
          ],
          [
           236,
           "Citizen Ruth (1996)",
           1996,
           45
          ],
          [
           237,
           "Jerry Maguire (1996)",
           1996,
           384
          ],
          [
           238,
           "Raising Arizona (1987)",
           1987,
           256
          ],
          [
           239,
           "Sneakers (1992)",
           1992,
           150
          ],
          [
           240,
           "Beavis and Butt-head Do America (1996)",
           1996,
           156
          ],
          [
           241,
           "Last of the Mohicans, The (1992)",
           1992,
           128
          ],
          [
           242,
           "Kolya (1996)",
           1997,
           117
          ],
          [
           243,
           "Jungle2Jungle (1997)",
           1997,
           132
          ],
          [
           244,
           "Smilla's Sense of Snow (1997)",
           1997,
           48
          ],
          [
           245,
           "Devil's Own, The (1997)",
           1997,
           240
          ],
          [
           246,
           "Chasing Amy (1997)",
           1997,
           124
          ],
          [
           247,
           "Turbo: A Power Rangers Movie (1997)",
           1997,
           5
          ],
          [
           248,
           "Grosse Pointe Blank (1997)",
           1997,
           160
          ],
          [
           249,
           "Austin Powers: International Man of Mystery (1997)",
           1997,
           130
          ],
          [
           250,
           "Fifth Element, The (1997)",
           1997,
           197
          ],
          [
           251,
           "Shall We Dance? (1996)",
           1997,
           46
          ],
          [
           252,
           "Lost World: Jurassic Park, The (1997)",
           1997,
           158
          ],
          [
           253,
           "Pillow Book, The (1995)",
           1997,
           26
          ],
          [
           254,
           "Batman & Robin (1997)",
           1997,
           62
          ],
          [
           255,
           "My Best Friend's Wedding (1997)",
           1997,
           172
          ],
          [
           256,
           "When the Cats Away (Chacun cherche son chat) (1996)",
           1997,
           16
          ],
          [
           257,
           "Men in Black (1997)",
           1997,
           303
          ],
          [
           258,
           "Contact (1997)",
           1997,
           509
          ],
          [
           259,
           "George of the Jungle (1997)",
           1997,
           162
          ],
          [
           260,
           "Event Horizon (1997)",
           1997,
           127
          ],
          [
           261,
           "Air Bud (1997)",
           1997,
           43
          ],
          [
           262,
           "In the Company of Men (1997)",
           1997,
           66
          ],
          [
           263,
           "Steel (1997)",
           1997,
           19
          ],
          [
           264,
           "Mimic (1997)",
           1997,
           101
          ],
          [
           265,
           "Hunt for Red October, The (1990)",
           1990,
           227
          ],
          [
           266,
           "Kull the Conqueror (1997)",
           1997,
           35
          ],
          [
           267,
           "unknown",
           1920,
           9
          ],
          [
           268,
           "Chasing Amy (1997)",
           1997,
           255
          ],
          [
           269,
           "Full Monty, The (1997)",
           1997,
           315
          ],
          [
           270,
           "Gattaca (1997)",
           1997,
           136
          ],
          [
           271,
           "Starship Troopers (1997)",
           1997,
           211
          ],
          [
           272,
           "Good Will Hunting (1997)",
           1997,
           198
          ],
          [
           273,
           "Heat (1995)",
           1995,
           223
          ],
          [
           274,
           "Sabrina (1995)",
           1995,
           190
          ],
          [
           275,
           "Sense and Sensibility (1995)",
           1995,
           268
          ],
          [
           276,
           "Leaving Las Vegas (1995)",
           1995,
           298
          ],
          [
           277,
           "Restoration (1995)",
           1995,
           71
          ],
          [
           278,
           "Bed of Roses (1996)",
           1996,
           60
          ],
          [
           279,
           "Once Upon a Time... When We Were Colored (1995)",
           1995,
           28
          ],
          [
           280,
           "Up Close and Personal (1996)",
           1996,
           85
          ],
          [
           281,
           "River Wild, The (1994)",
           1994,
           146
          ],
          [
           282,
           "Time to Kill, A (1996)",
           1996,
           232
          ],
          [
           283,
           "Emma (1996)",
           1996,
           177
          ],
          [
           284,
           "Tin Cup (1996)",
           1996,
           193
          ],
          [
           285,
           "Secrets & Lies (1996)",
           1996,
           162
          ],
          [
           286,
           "English Patient, The (1996)",
           1996,
           481
          ],
          [
           287,
           "Marvin's Room (1996)",
           1996,
           78
          ],
          [
           288,
           "Scream (1996)",
           1996,
           478
          ],
          [
           289,
           "Evita (1996)",
           1996,
           259
          ],
          [
           290,
           "Fierce Creatures (1997)",
           1997,
           96
          ],
          [
           291,
           "Absolute Power (1997)",
           1997,
           127
          ],
          [
           292,
           "Rosewood (1997)",
           1997,
           114
          ],
          [
           293,
           "Donnie Brasco (1997)",
           1997,
           147
          ],
          [
           294,
           "Liar Liar (1997)",
           1997,
           485
          ],
          [
           295,
           "Breakdown (1997)",
           1997,
           77
          ],
          [
           296,
           "Promesse, La (1996)",
           1997,
           6
          ],
          [
           297,
           "Ulee's Gold (1997)",
           1997,
           50
          ],
          [
           298,
           "Face/Off (1997)",
           1997,
           194
          ],
          [
           299,
           "Hoodlum (1997)",
           1997,
           73
          ],
          [
           300,
           "Air Force One (1997)",
           1997,
           431
          ],
          [
           301,
           "In & Out (1997)",
           1997,
           230
          ],
          [
           302,
           "L.A. Confidential (1997)",
           1997,
           297
          ],
          [
           303,
           "Ulee's Gold (1997)",
           1997,
           134
          ],
          [
           304,
           "Fly Away Home (1996)",
           1996,
           149
          ],
          [
           305,
           "Ice Storm, The (1997)",
           1997,
           87
          ],
          [
           306,
           "Mrs. Brown (Her Majesty, Mrs. Brown) (1997)",
           1997,
           96
          ],
          [
           307,
           "Devil's Advocate, The (1997)",
           1997,
           188
          ],
          [
           308,
           "FairyTale: A True Story (1997)",
           1997,
           30
          ],
          [
           309,
           "Deceiver (1997)",
           1997,
           28
          ],
          [
           310,
           "Rainmaker, The (1997)",
           1997,
           145
          ],
          [
           311,
           "Wings of the Dove, The (1997)",
           1997,
           75
          ],
          [
           312,
           "Midnight in the Garden of Good and Evil (1997)",
           1997,
           80
          ],
          [
           313,
           "Titanic (1997)",
           1997,
           350
          ],
          [
           314,
           "3 Ninjas: High Noon At Mega Mountain (1998)",
           1997,
           5
          ],
          [
           315,
           "Apt Pupil (1998)",
           1998,
           160
          ],
          [
           316,
           "As Good As It Gets (1997)",
           1997,
           112
          ],
          [
           317,
           "In the Name of the Father (1993)",
           1993,
           102
          ],
          [
           318,
           "Schindler's List (1993)",
           1993,
           298
          ],
          [
           319,
           "Everyone Says I Love You (1996)",
           1996,
           168
          ],
          [
           320,
           "Paradise Lost: The Child Murders at Robin Hood Hills (1996)",
           1996,
           20
          ],
          [
           321,
           "Mother (1996)",
           1996,
           169
          ],
          [
           322,
           "Murder at 1600 (1997)",
           1997,
           218
          ],
          [
           323,
           "Dante's Peak (1997)",
           1997,
           240
          ],
          [
           324,
           "Lost Highway (1997)",
           1997,
           125
          ],
          [
           325,
           "Crash (1996)",
           1997,
           128
          ],
          [
           326,
           "G.I. Jane (1997)",
           1997,
           175
          ],
          [
           327,
           "Cop Land (1997)",
           1997,
           175
          ],
          [
           328,
           "Conspiracy Theory (1997)",
           1997,
           295
          ],
          [
           329,
           "Desperate Measures (1998)",
           1998,
           45
          ],
          [
           330,
           "187 (1997)",
           1997,
           41
          ],
          [
           331,
           "Edge, The (1997)",
           1997,
           113
          ],
          [
           332,
           "Kiss the Girls (1997)",
           1997,
           143
          ],
          [
           333,
           "Game, The (1997)",
           1997,
           251
          ],
          [
           334,
           "U Turn (1997)",
           1997,
           64
          ],
          [
           335,
           "How to Be a Player (1997)",
           1997,
           21
          ],
          [
           336,
           "Playing God (1997)",
           1997,
           43
          ],
          [
           337,
           "House of Yes, The (1997)",
           1997,
           18
          ],
          [
           338,
           "Bean (1997)",
           1997,
           91
          ],
          [
           339,
           "Mad City (1997)",
           1997,
           47
          ],
          [
           340,
           "Boogie Nights (1997)",
           1997,
           189
          ],
          [
           341,
           "Critical Care (1997)",
           1997,
           11
          ],
          [
           342,
           "Man Who Knew Too Little, The (1997)",
           1997,
           52
          ],
          [
           343,
           "Alien: Resurrection (1997)",
           1997,
           124
          ],
          [
           344,
           "Apostle, The (1997)",
           1997,
           55
          ],
          [
           345,
           "Deconstructing Harry (1997)",
           1997,
           65
          ],
          [
           346,
           "Jackie Brown (1997)",
           1997,
           126
          ],
          [
           347,
           "Wag the Dog (1997)",
           1998,
           137
          ],
          [
           348,
           "Desperate Measures (1998)",
           1998,
           27
          ],
          [
           349,
           "Hard Rain (1998)",
           1998,
           31
          ],
          [
           350,
           "Fallen (1998)",
           1998,
           41
          ],
          [
           351,
           "Prophecy II, The (1998)",
           1998,
           20
          ],
          [
           352,
           "Spice World (1997)",
           1997,
           26
          ],
          [
           353,
           "Deep Rising (1998)",
           1998,
           14
          ],
          [
           354,
           "Wedding Singer, The (1998)",
           1998,
           72
          ],
          [
           355,
           "Sphere (1998)",
           1998,
           41
          ],
          [
           356,
           "Client, The (1994)",
           1994,
           97
          ],
          [
           357,
           "One Flew Over the Cuckoo's Nest (1975)",
           1975,
           264
          ],
          [
           358,
           "Spawn (1997)",
           1997,
           143
          ],
          [
           359,
           "Assignment, The (1997)",
           1997,
           18
          ],
          [
           360,
           "Wonderland (1997)",
           1997,
           10
          ],
          [
           361,
           "Incognito (1997)",
           1997,
           10
          ],
          [
           362,
           "Blues Brothers 2000 (1998)",
           1998,
           28
          ],
          [
           363,
           "Sudden Death (1995)",
           1995,
           47
          ],
          [
           364,
           "Ace Ventura: When Nature Calls (1995)",
           1995,
           37
          ],
          [
           365,
           "Powder (1995)",
           1995,
           48
          ],
          [
           366,
           "Dangerous Minds (1995)",
           1995,
           47
          ],
          [
           367,
           "Clueless (1995)",
           1995,
           170
          ],
          [
           368,
           "Bio-Dome (1996)",
           1996,
           31
          ],
          [
           369,
           "Black Sheep (1996)",
           1996,
           55
          ],
          [
           370,
           "Mary Reilly (1996)",
           1996,
           39
          ],
          [
           371,
           "Bridges of Madison County, The (1995)",
           1996,
           67
          ],
          [
           372,
           "Jeffrey (1995)",
           1995,
           34
          ],
          [
           373,
           "Judge Dredd (1995)",
           1995,
           39
          ],
          [
           374,
           "Mighty Morphin Power Rangers: The Movie (1995)",
           1995,
           11
          ],
          [
           375,
           "Showgirls (1995)",
           1995,
           23
          ],
          [
           376,
           "Houseguest (1994)",
           1994,
           24
          ],
          [
           377,
           "Heavyweights (1994)",
           1994,
           13
          ],
          [
           378,
           "Miracle on 34th Street (1994)",
           1994,
           101
          ],
          [
           379,
           "Tales From the Crypt Presents: Demon Knight (1995)",
           1995,
           43
          ],
          [
           380,
           "Star Trek: Generations (1994)",
           1994,
           116
          ],
          [
           381,
           "Muriel's Wedding (1994)",
           1994,
           100
          ],
          [
           382,
           "Adventures of Priscilla, Queen of the Desert, The (1994)",
           1994,
           111
          ],
          [
           383,
           "Flintstones, The (1994)",
           1994,
           31
          ],
          [
           384,
           "Naked Gun 33 1/3: The Final Insult (1994)",
           1994,
           69
          ],
          [
           385,
           "True Lies (1994)",
           1994,
           208
          ],
          [
           386,
           "Addams Family Values (1993)",
           1993,
           87
          ],
          [
           387,
           "Age of Innocence, The (1993)",
           1993,
           65
          ],
          [
           388,
           "Beverly Hills Cop III (1994)",
           1994,
           28
          ],
          [
           389,
           "Black Beauty (1994)",
           1994,
           27
          ],
          [
           390,
           "Fear of a Black Hat (1993)",
           1993,
           10
          ],
          [
           391,
           "Last Action Hero (1993)",
           1993,
           59
          ],
          [
           392,
           "Man Without a Face, The (1993)",
           1993,
           68
          ],
          [
           393,
           "Mrs. Doubtfire (1993)",
           1993,
           192
          ],
          [
           394,
           "Radioland Murders (1994)",
           1994,
           12
          ],
          [
           395,
           "Robin Hood: Men in Tights (1993)",
           1993,
           56
          ],
          [
           396,
           "Serial Mom (1994)",
           1994,
           54
          ],
          [
           397,
           "Striking Distance (1993)",
           1993,
           12
          ],
          [
           398,
           "Super Mario Bros. (1993)",
           1993,
           26
          ],
          [
           399,
           "Three Musketeers, The (1993)",
           1993,
           89
          ],
          [
           400,
           "Little Rascals, The (1994)",
           1994,
           18
          ],
          [
           401,
           "Brady Bunch Movie, The (1995)",
           1995,
           76
          ],
          [
           402,
           "Ghost (1990)",
           1990,
           170
          ],
          [
           403,
           "Batman (1989)",
           1989,
           201
          ],
          [
           404,
           "Pinocchio (1940)",
           1940,
           101
          ],
          [
           405,
           "Mission: Impossible (1996)",
           1996,
           344
          ],
          [
           406,
           "Thinner (1996)",
           1996,
           49
          ],
          [
           407,
           "Spy Hard (1996)",
           1996,
           43
          ],
          [
           408,
           "Close Shave, A (1995)",
           1996,
           112
          ],
          [
           409,
           "Jack (1996)",
           1996,
           70
          ],
          [
           410,
           "Kingpin (1996)",
           1996,
           162
          ],
          [
           411,
           "Nutty Professor, The (1996)",
           1996,
           163
          ],
          [
           412,
           "Very Brady Sequel, A (1996)",
           1996,
           93
          ],
          [
           413,
           "Tales from the Crypt Presents: Bordello of Blood (1996)",
           1996,
           55
          ],
          [
           414,
           "My Favorite Year (1982)",
           1982,
           62
          ],
          [
           415,
           "Apple Dumpling Gang, The (1975)",
           1975,
           25
          ],
          [
           416,
           "Old Yeller (1957)",
           1957,
           64
          ],
          [
           417,
           "Parent Trap, The (1961)",
           1961,
           73
          ],
          [
           418,
           "Cinderella (1950)",
           1950,
           129
          ],
          [
           419,
           "Mary Poppins (1964)",
           1964,
           178
          ],
          [
           420,
           "Alice in Wonderland (1951)",
           1951,
           81
          ],
          [
           421,
           "William Shakespeare's Romeo and Juliet (1996)",
           1996,
           106
          ],
          [
           422,
           "Aladdin and the King of Thieves (1996)",
           1996,
           26
          ],
          [
           423,
           "E.T. the Extra-Terrestrial (1982)",
           1982,
           300
          ],
          [
           424,
           "Children of the Corn: The Gathering (1996)",
           1996,
           19
          ],
          [
           425,
           "Bob Roberts (1992)",
           1992,
           85
          ],
          [
           426,
           "Transformers: The Movie, The (1986)",
           1986,
           32
          ],
          [
           427,
           "To Kill a Mockingbird (1962)",
           1962,
           219
          ],
          [
           428,
           "Harold and Maude (1971)",
           1971,
           121
          ],
          [
           429,
           "Day the Earth Stood Still, The (1951)",
           1951,
           97
          ],
          [
           430,
           "Duck Soup (1933)",
           1933,
           93
          ],
          [
           431,
           "Highlander (1986)",
           1986,
           153
          ],
          [
           432,
           "Fantasia (1940)",
           1940,
           174
          ],
          [
           433,
           "Heathers (1989)",
           1989,
           171
          ],
          [
           434,
           "Forbidden Planet (1956)",
           1956,
           67
          ],
          [
           435,
           "Butch Cassidy and the Sundance Kid (1969)",
           1969,
           216
          ],
          [
           436,
           "American Werewolf in London, An (1981)",
           1981,
           99
          ],
          [
           437,
           "Amityville 1992: It's About Time (1992)",
           1992,
           5
          ],
          [
           438,
           "Amityville 3-D (1983)",
           1983,
           6
          ],
          [
           439,
           "Amityville: A New Generation (1993)",
           1993,
           5
          ],
          [
           440,
           "Amityville II: The Possession (1982)",
           1982,
           14
          ],
          [
           441,
           "Amityville Horror, The (1979)",
           1979,
           53
          ],
          [
           442,
           "Amityville Curse, The (1990)",
           1990,
           4
          ],
          [
           443,
           "Birds, The (1963)",
           1963,
           162
          ],
          [
           444,
           "Blob, The (1958)",
           1958,
           46
          ],
          [
           445,
           "Body Snatcher, The (1945)",
           1945,
           22
          ],
          [
           446,
           "Burnt Offerings (1976)",
           1976,
           9
          ],
          [
           447,
           "Carrie (1976)",
           1976,
           121
          ],
          [
           448,
           "Omen, The (1976)",
           1976,
           85
          ],
          [
           449,
           "Star Trek: The Motion Picture (1979)",
           1979,
           117
          ],
          [
           450,
           "Star Trek V: The Final Frontier (1989)",
           1989,
           63
          ],
          [
           451,
           "Grease (1978)",
           1978,
           170
          ],
          [
           452,
           "Jaws 2 (1978)",
           1978,
           66
          ],
          [
           453,
           "Jaws 3-D (1983)",
           1983,
           16
          ],
          [
           454,
           "Bastard Out of Carolina (1996)",
           1996,
           16
          ],
          [
           455,
           "Jackie Chan's First Strike (1996)",
           1997,
           145
          ],
          [
           456,
           "Beverly Hills Ninja (1997)",
           1997,
           48
          ],
          [
           457,
           "Free Willy 3: The Rescue (1997)",
           1997,
           27
          ],
          [
           458,
           "Nixon (1995)",
           1995,
           90
          ],
          [
           459,
           "Cry, the Beloved Country (1995)",
           1995,
           24
          ],
          [
           460,
           "Crossing Guard, The (1995)",
           1995,
           28
          ],
          [
           461,
           "Smoke (1995)",
           1995,
           74
          ],
          [
           462,
           "Like Water For Chocolate (Como agua para chocolate) (1992)",
           1992,
           148
          ],
          [
           463,
           "Secret of Roan Inish, The (1994)",
           1994,
           71
          ],
          [
           464,
           "Vanya on 42nd Street (1994)",
           1994,
           27
          ],
          [
           465,
           "Jungle Book, The (1994)",
           1994,
           85
          ],
          [
           466,
           "Red Rock West (1992)",
           1992,
           52
          ],
          [
           467,
           "Bronx Tale, A (1993)",
           1993,
           48
          ],
          [
           468,
           "Rudy (1993)",
           1993,
           64
          ],
          [
           469,
           "Short Cuts (1993)",
           1993,
           67
          ],
          [
           470,
           "Tombstone (1993)",
           1993,
           108
          ],
          [
           471,
           "Courage Under Fire (1996)",
           1996,
           221
          ],
          [
           472,
           "Dragonheart (1996)",
           1996,
           158
          ],
          [
           473,
           "James and the Giant Peach (1996)",
           1996,
           126
          ],
          [
           474,
           "Dr. Strangelove or: How I Learned to Stop Worrying and Love the Bomb (1963)",
           1963,
           194
          ],
          [
           475,
           "Trainspotting (1996)",
           1996,
           250
          ],
          [
           476,
           "First Wives Club, The (1996)",
           1996,
           160
          ],
          [
           477,
           "Matilda (1996)",
           1996,
           95
          ],
          [
           478,
           "Philadelphia Story, The (1940)",
           1940,
           104
          ],
          [
           479,
           "Vertigo (1958)",
           1958,
           179
          ],
          [
           480,
           "North by Northwest (1959)",
           1959,
           179
          ],
          [
           481,
           "Apartment, The (1960)",
           1960,
           63
          ],
          [
           482,
           "Some Like It Hot (1959)",
           1959,
           128
          ],
          [
           483,
           "Casablanca (1942)",
           1942,
           243
          ],
          [
           484,
           "Maltese Falcon, The (1941)",
           1941,
           138
          ],
          [
           485,
           "My Fair Lady (1964)",
           1964,
           125
          ],
          [
           486,
           "Sabrina (1954)",
           1954,
           64
          ],
          [
           487,
           "Roman Holiday (1953)",
           1953,
           68
          ],
          [
           488,
           "Sunset Blvd. (1950)",
           1950,
           65
          ],
          [
           489,
           "Notorious (1946)",
           1946,
           52
          ],
          [
           490,
           "To Catch a Thief (1955)",
           1955,
           50
          ],
          [
           491,
           "Adventures of Robin Hood, The (1938)",
           1938,
           67
          ],
          [
           492,
           "East of Eden (1955)",
           1955,
           59
          ],
          [
           493,
           "Thin Man, The (1934)",
           1934,
           60
          ],
          [
           494,
           "His Girl Friday (1940)",
           1940,
           56
          ],
          [
           495,
           "Around the World in 80 Days (1956)",
           1956,
           59
          ],
          [
           496,
           "It's a Wonderful Life (1946)",
           1946,
           231
          ],
          [
           497,
           "Bringing Up Baby (1938)",
           1938,
           68
          ],
          [
           498,
           "African Queen, The (1951)",
           1951,
           152
          ],
          [
           499,
           "Cat on a Hot Tin Roof (1958)",
           1958,
           62
          ],
          [
           500,
           "Fly Away Home (1996)",
           1996,
           31
          ],
          [
           501,
           "Dumbo (1941)",
           1941,
           123
          ],
          [
           502,
           "Bananas (1971)",
           1971,
           57
          ],
          [
           503,
           "Candidate, The (1972)",
           1972,
           39
          ],
          [
           504,
           "Bonnie and Clyde (1967)",
           1967,
           122
          ],
          [
           505,
           "Dial M for Murder (1954)",
           1954,
           68
          ],
          [
           506,
           "Rebel Without a Cause (1955)",
           1955,
           90
          ],
          [
           507,
           "Streetcar Named Desire, A (1951)",
           1951,
           98
          ],
          [
           508,
           "People vs. Larry Flynt, The (1996)",
           1996,
           215
          ],
          [
           509,
           "My Left Foot (1989)",
           1989,
           121
          ],
          [
           510,
           "Magnificent Seven, The (1954)",
           1954,
           121
          ],
          [
           511,
           "Lawrence of Arabia (1962)",
           1962,
           173
          ],
          [
           512,
           "Wings of Desire (1987)",
           1987,
           57
          ],
          [
           513,
           "Third Man, The (1949)",
           1949,
           72
          ],
          [
           514,
           "Annie Hall (1977)",
           1977,
           180
          ],
          [
           515,
           "Boot, Das (1981)",
           1997,
           201
          ],
          [
           516,
           "Local Hero (1983)",
           1983,
           63
          ],
          [
           517,
           "Manhattan (1979)",
           1979,
           91
          ],
          [
           518,
           "Miller's Crossing (1990)",
           1990,
           89
          ],
          [
           519,
           "Treasure of the Sierra Madre, The (1948)",
           1948,
           80
          ],
          [
           520,
           "Great Escape, The (1963)",
           1963,
           124
          ],
          [
           521,
           "Deer Hunter, The (1978)",
           1978,
           120
          ],
          [
           522,
           "Down by Law (1986)",
           1986,
           35
          ],
          [
           523,
           "Cool Hand Luke (1967)",
           1967,
           164
          ],
          [
           524,
           "Great Dictator, The (1940)",
           1940,
           46
          ],
          [
           525,
           "Big Sleep, The (1946)",
           1946,
           73
          ],
          [
           526,
           "Ben-Hur (1959)",
           1959,
           124
          ],
          [
           527,
           "Gandhi (1982)",
           1982,
           195
          ],
          [
           528,
           "Killing Fields, The (1984)",
           1984,
           121
          ],
          [
           529,
           "My Life as a Dog (Mitt liv som hund) (1985)",
           1985,
           93
          ],
          [
           530,
           "Man Who Would Be King, The (1975)",
           1975,
           80
          ],
          [
           531,
           "Shine (1996)",
           1996,
           129
          ],
          [
           532,
           "Kama Sutra: A Tale of Love (1996)",
           1997,
           22
          ],
          [
           533,
           "Daytrippers, The (1996)",
           1997,
           15
          ],
          [
           534,
           "Traveller (1997)",
           1997,
           13
          ],
          [
           535,
           "Addicted to Love (1997)",
           1997,
           54
          ],
          [
           536,
           "Ponette (1996)",
           1997,
           10
          ],
          [
           537,
           "My Own Private Idaho (1991)",
           1991,
           30
          ],
          [
           538,
           "Anastasia (1997)",
           1997,
           66
          ],
          [
           539,
           "Mouse Hunt (1997)",
           1997,
           44
          ],
          [
           540,
           "Money Train (1995)",
           1995,
           43
          ],
          [
           541,
           "Mortal Kombat (1995)",
           1995,
           49
          ],
          [
           542,
           "Pocahontas (1995)",
           1995,
           51
          ],
          [
           543,
           "Misérables, Les (1995)",
           1995,
           21
          ],
          [
           544,
           "Things to Do in Denver when You're Dead (1995)",
           1996,
           71
          ],
          [
           545,
           "Vampire in Brooklyn (1995)",
           1995,
           12
          ],
          [
           546,
           "Broken Arrow (1996)",
           1996,
           254
          ],
          [
           547,
           "Young Poisoner's Handbook, The (1995)",
           1996,
           41
          ],
          [
           548,
           "NeverEnding Story III, The (1994)",
           1996,
           12
          ],
          [
           549,
           "Rob Roy (1995)",
           1995,
           92
          ],
          [
           550,
           "Die Hard: With a Vengeance (1995)",
           1995,
           151
          ],
          [
           551,
           "Lord of Illusions (1995)",
           1995,
           24
          ],
          [
           552,
           "Species (1995)",
           1995,
           45
          ],
          [
           553,
           "Walk in the Clouds, A (1995)",
           1995,
           63
          ],
          [
           554,
           "Waterworld (1995)",
           1995,
           102
          ],
          [
           555,
           "White Man's Burden (1995)",
           1995,
           10
          ],
          [
           556,
           "Wild Bill (1995)",
           1995,
           12
          ],
          [
           557,
           "Farinelli: il castrato (1994)",
           1994,
           17
          ],
          [
           558,
           "Heavenly Creatures (1994)",
           1994,
           70
          ],
          [
           559,
           "Interview with the Vampire (1994)",
           1994,
           137
          ],
          [
           560,
           "Kid in King Arthur's Court, A (1995)",
           1995,
           22
          ],
          [
           561,
           "Mary Shelley's Frankenstein (1994)",
           1994,
           59
          ],
          [
           562,
           "Quick and the Dead, The (1995)",
           1995,
           48
          ],
          [
           563,
           "Stephen King's The Langoliers (1995)",
           1995,
           29
          ],
          [
           564,
           "Tales from the Hood (1995)",
           1995,
           27
          ],
          [
           565,
           "Village of the Damned (1995)",
           1995,
           22
          ],
          [
           566,
           "Clear and Present Danger (1994)",
           1994,
           179
          ],
          [
           567,
           "Wes Craven's New Nightmare (1994)",
           1994,
           35
          ],
          [
           568,
           "Speed (1994)",
           1994,
           230
          ],
          [
           569,
           "Wolf (1994)",
           1994,
           67
          ],
          [
           570,
           "Wyatt Earp (1994)",
           1994,
           50
          ],
          [
           571,
           "Another Stakeout (1993)",
           1993,
           28
          ],
          [
           572,
           "Blown Away (1994)",
           1994,
           29
          ],
          [
           573,
           "Body Snatchers (1993)",
           1993,
           33
          ],
          [
           574,
           "Boxing Helena (1993)",
           1993,
           15
          ],
          [
           575,
           "City Slickers II: The Legend of Curly's Gold (1994)",
           1994,
           44
          ],
          [
           576,
           "Cliffhanger (1993)",
           1993,
           93
          ],
          [
           577,
           "Coneheads (1993)",
           1993,
           41
          ],
          [
           578,
           "Demolition Man (1993)",
           1993,
           92
          ],
          [
           579,
           "Fatal Instinct (1993)",
           1993,
           19
          ],
          [
           580,
           "Englishman Who Went Up a Hill, But Came Down a Mountain, The (1995)",
           1995,
           32
          ],
          [
           581,
           "Kalifornia (1993)",
           1993,
           59
          ],
          [
           582,
           "Piano, The (1993)",
           1993,
           168
          ],
          [
           583,
           "Romeo Is Bleeding (1993)",
           1993,
           37
          ],
          [
           584,
           "Secret Garden, The (1993)",
           1993,
           79
          ],
          [
           585,
           "Son in Law (1993)",
           1993,
           39
          ],
          [
           586,
           "Terminal Velocity (1994)",
           1994,
           34
          ],
          [
           587,
           "Hour of the Pig, The (1993)",
           1993,
           14
          ],
          [
           588,
           "Beauty and the Beast (1991)",
           1991,
           202
          ],
          [
           589,
           "Wild Bunch, The (1969)",
           1969,
           43
          ],
          [
           590,
           "Hellraiser: Bloodline (1996)",
           1996,
           18
          ],
          [
           591,
           "Primal Fear (1996)",
           1996,
           178
          ],
          [
           592,
           "True Crime (1995)",
           1995,
           9
          ],
          [
           593,
           "Stalingrad (1993)",
           1993,
           12
          ],
          [
           594,
           "Heavy (1995)",
           1996,
           5
          ],
          [
           595,
           "Fan, The (1996)",
           1996,
           64
          ],
          [
           596,
           "Hunchback of Notre Dame, The (1996)",
           1996,
           127
          ],
          [
           597,
           "Eraser (1996)",
           1996,
           206
          ],
          [
           598,
           "Big Squeeze, The (1996)",
           1996,
           4
          ],
          [
           599,
           "Police Story 4: Project S (Chao ji ji hua) (1993)",
           1996,
           1
          ],
          [
           600,
           "Daniel Defoe's Robinson Crusoe (1996)",
           1996,
           2
          ],
          [
           601,
           "For Whom the Bell Tolls (1943)",
           1943,
           20
          ],
          [
           602,
           "American in Paris, An (1951)",
           1951,
           50
          ],
          [
           603,
           "Rear Window (1954)",
           1954,
           209
          ],
          [
           604,
           "It Happened One Night (1934)",
           1934,
           81
          ],
          [
           605,
           "Meet Me in St. Louis (1944)",
           1944,
           31
          ],
          [
           606,
           "All About Eve (1950)",
           1950,
           66
          ],
          [
           607,
           "Rebecca (1940)",
           1940,
           66
          ],
          [
           608,
           "Spellbound (1945)",
           1945,
           30
          ],
          [
           609,
           "Father of the Bride (1950)",
           1950,
           60
          ],
          [
           610,
           "Gigi (1958)",
           1958,
           41
          ],
          [
           611,
           "Laura (1944)",
           1944,
           40
          ],
          [
           612,
           "Lost Horizon (1937)",
           1937,
           34
          ],
          [
           613,
           "My Man Godfrey (1936)",
           1936,
           27
          ],
          [
           614,
           "Giant (1956)",
           1956,
           51
          ],
          [
           615,
           "39 Steps, The (1935)",
           1935,
           59
          ],
          [
           616,
           "Night of the Living Dead (1968)",
           1968,
           64
          ],
          [
           617,
           "Blue Angel, The (Blaue Engel, Der) (1930)",
           1930,
           18
          ],
          [
           618,
           "Picnic (1955)",
           1955,
           18
          ],
          [
           619,
           "Extreme Measures (1996)",
           1996,
           64
          ],
          [
           620,
           "Chamber, The (1996)",
           1996,
           43
          ],
          [
           621,
           "Davy Crockett, King of the Wild Frontier (1955)",
           1955,
           11
          ],
          [
           622,
           "Swiss Family Robinson (1960)",
           1960,
           39
          ],
          [
           623,
           "Angels in the Outfield (1994)",
           1994,
           39
          ],
          [
           624,
           "Three Caballeros, The (1945)",
           1945,
           22
          ],
          [
           625,
           "Sword in the Stone, The (1963)",
           1963,
           82
          ],
          [
           626,
           "So Dear to My Heart (1949)",
           1949,
           4
          ],
          [
           627,
           "Robin Hood: Prince of Thieves (1991)",
           1991,
           75
          ],
          [
           628,
           "Sleepers (1996)",
           1996,
           169
          ],
          [
           629,
           "Victor/Victoria (1982)",
           1982,
           77
          ],
          [
           630,
           "Great Race, The (1965)",
           1965,
           31
          ],
          [
           631,
           "Crying Game, The (1992)",
           1992,
           119
          ],
          [
           632,
           "Sophie's Choice (1982)",
           1982,
           58
          ],
          [
           633,
           "Christmas Carol, A (1938)",
           1938,
           69
          ],
          [
           634,
           "Microcosmos: Le peuple de l'herbe (1996)",
           1996,
           24
          ],
          [
           635,
           "Fog, The (1980)",
           1980,
           23
          ],
          [
           636,
           "Escape from New York (1981)",
           1981,
           91
          ],
          [
           637,
           "Howling, The (1981)",
           1981,
           38
          ],
          [
           638,
           "Return of Martin Guerre, The (Retour de Martin Guerre, Le) (1982)",
           1982,
           44
          ],
          [
           639,
           "Tin Drum, The (Blechtrommel, Die) (1979)",
           1979,
           40
          ],
          [
           640,
           "Cook the Thief His Wife & Her Lover, The (1989)",
           1989,
           82
          ],
          [
           641,
           "Paths of Glory (1957)",
           1957,
           33
          ],
          [
           642,
           "Grifters, The (1990)",
           1990,
           89
          ],
          [
           643,
           "The Innocent (1994)",
           1994,
           4
          ],
          [
           644,
           "Thin Blue Line, The (1988)",
           1988,
           35
          ],
          [
           645,
           "Paris Is Burning (1990)",
           1990,
           27
          ],
          [
           646,
           "Once Upon a Time in the West (1969)",
           1969,
           38
          ],
          [
           647,
           "Ran (1985)",
           1985,
           70
          ],
          [
           648,
           "Quiet Man, The (1952)",
           1952,
           67
          ],
          [
           649,
           "Once Upon a Time in America (1984)",
           1984,
           50
          ],
          [
           650,
           "Seventh Seal, The (Sjunde inseglet, Det) (1957)",
           1957,
           72
          ],
          [
           651,
           "Glory (1989)",
           1989,
           171
          ],
          [
           652,
           "Rosencrantz and Guildenstern Are Dead (1990)",
           1990,
           90
          ],
          [
           653,
           "Touch of Evil (1958)",
           1958,
           34
          ],
          [
           654,
           "Chinatown (1974)",
           1974,
           147
          ],
          [
           655,
           "Stand by Me (1986)",
           1986,
           227
          ],
          [
           656,
           "M (1931)",
           1931,
           44
          ],
          [
           657,
           "Manchurian Candidate, The (1962)",
           1962,
           131
          ],
          [
           658,
           "Pump Up the Volume (1990)",
           1990,
           79
          ],
          [
           659,
           "Arsenic and Old Lace (1944)",
           1944,
           115
          ],
          [
           660,
           "Fried Green Tomatoes (1991)",
           1991,
           153
          ],
          [
           661,
           "High Noon (1952)",
           1952,
           88
          ],
          [
           662,
           "Somewhere in Time (1980)",
           1980,
           82
          ],
          [
           663,
           "Being There (1979)",
           1979,
           116
          ],
          [
           664,
           "Paris, Texas (1984)",
           1984,
           46
          ],
          [
           665,
           "Alien 3 (1992)",
           1992,
           100
          ],
          [
           666,
           "Blood For Dracula (Andy Warhol's Dracula) (1974)",
           1974,
           5
          ],
          [
           667,
           "Audrey Rose (1977)",
           1977,
           12
          ],
          [
           668,
           "Blood Beach (1981)",
           1981,
           6
          ],
          [
           669,
           "Body Parts (1991)",
           1991,
           13
          ],
          [
           670,
           "Body Snatchers (1993)",
           1993,
           36
          ],
          [
           671,
           "Bride of Frankenstein (1935)",
           1935,
           46
          ],
          [
           672,
           "Candyman (1992)",
           1992,
           65
          ],
          [
           673,
           "Cape Fear (1962)",
           1962,
           86
          ],
          [
           674,
           "Cat People (1982)",
           1982,
           48
          ],
          [
           675,
           "Nosferatu (Nosferatu, eine Symphonie des Grauens) (1922)",
           1922,
           54
          ],
          [
           676,
           "Crucible, The (1996)",
           1996,
           77
          ],
          [
           677,
           "Fire on the Mountain (1996)",
           1997,
           1
          ],
          [
           678,
           "Volcano (1997)",
           1997,
           219
          ],
          [
           679,
           "Conan the Barbarian (1981)",
           1981,
           107
          ],
          [
           680,
           "Kull the Conqueror (1997)",
           1997,
           34
          ],
          [
           681,
           "Wishmaster (1997)",
           1997,
           27
          ],
          [
           682,
           "I Know What You Did Last Summer (1997)",
           1997,
           100
          ],
          [
           683,
           "Rocket Man (1997)",
           1997,
           49
          ],
          [
           684,
           "In the Line of Fire (1993)",
           1993,
           169
          ],
          [
           685,
           "Executive Decision (1996)",
           1996,
           157
          ],
          [
           686,
           "Perfect World, A (1993)",
           1993,
           50
          ],
          [
           687,
           "McHale's Navy (1997)",
           1997,
           69
          ],
          [
           688,
           "Leave It to Beaver (1997)",
           1997,
           44
          ],
          [
           689,
           "Jackal, The (1997)",
           1997,
           87
          ],
          [
           690,
           "Seven Years in Tibet (1997)",
           1997,
           155
          ],
          [
           691,
           "Dark City (1998)",
           1998,
           16
          ],
          [
           692,
           "American President, The (1995)",
           1995,
           164
          ],
          [
           693,
           "Casino (1995)",
           1995,
           91
          ],
          [
           694,
           "Persuasion (1995)",
           1995,
           44
          ],
          [
           695,
           "Kicking and Screaming (1995)",
           1995,
           13
          ],
          [
           696,
           "City Hall (1996)",
           1996,
           79
          ],
          [
           697,
           "Basketball Diaries, The (1995)",
           1995,
           40
          ],
          [
           698,
           "Browning Version, The (1994)",
           1994,
           10
          ],
          [
           699,
           "Little Women (1994)",
           1994,
           102
          ],
          [
           700,
           "Miami Rhapsody (1995)",
           1995,
           15
          ],
          [
           701,
           "Wonderful, Horrible Life of Leni Riefenstahl, The (1993)",
           1993,
           10
          ],
          [
           702,
           "Barcelona (1994)",
           1994,
           53
          ],
          [
           703,
           "Widows' Peak (1994)",
           1994,
           19
          ],
          [
           704,
           "House of the Spirits, The (1993)",
           1993,
           24
          ],
          [
           705,
           "Singin' in the Rain (1952)",
           1952,
           137
          ],
          [
           706,
           "Bad Moon (1996)",
           1996,
           6
          ],
          [
           707,
           "Enchanted April (1991)",
           1991,
           70
          ],
          [
           708,
           "Sex, Lies, and Videotape (1989)",
           1989,
           101
          ],
          [
           709,
           "Strictly Ballroom (1992)",
           1992,
           104
          ],
          [
           710,
           "Better Off Dead... (1985)",
           1985,
           79
          ],
          [
           711,
           "Substance of Fire, The (1996)",
           1996,
           1
          ],
          [
           712,
           "Tin Men (1987)",
           1987,
           51
          ],
          [
           713,
           "Othello (1995)",
           1995,
           72
          ],
          [
           714,
           "Carrington (1995)",
           1995,
           13
          ],
          [
           715,
           "To Die For (1995)",
           1995,
           87
          ],
          [
           716,
           "Home for the Holidays (1995)",
           1995,
           58
          ],
          [
           717,
           "Juror, The (1996)",
           1996,
           82
          ],
          [
           718,
           "In the Bleak Midwinter (1995)",
           1996,
           16
          ],
          [
           719,
           "Canadian Bacon (1994)",
           1994,
           29
          ],
          [
           720,
           "First Knight (1995)",
           1995,
           86
          ],
          [
           721,
           "Mallrats (1995)",
           1995,
           54
          ],
          [
           722,
           "Nine Months (1995)",
           1995,
           58
          ],
          [
           723,
           "Boys on the Side (1995)",
           1995,
           34
          ],
          [
           724,
           "Circle of Friends (1995)",
           1995,
           76
          ],
          [
           725,
           "Exit to Eden (1994)",
           1994,
           16
          ],
          [
           726,
           "Fluke (1995)",
           1995,
           14
          ],
          [
           727,
           "Immortal Beloved (1994)",
           1994,
           63
          ],
          [
           728,
           "Junior (1994)",
           1994,
           45
          ],
          [
           729,
           "Nell (1994)",
           1994,
           81
          ],
          [
           730,
           "Queen Margot (Reine Margot, La) (1994)",
           1996,
           24
          ],
          [
           731,
           "Corrina, Corrina (1994)",
           1994,
           39
          ],
          [
           732,
           "Dave (1993)",
           1993,
           180
          ],
          [
           733,
           "Go Fish (1994)",
           1994,
           15
          ],
          [
           734,
           "Made in America (1993)",
           1993,
           27
          ],
          [
           735,
           "Philadelphia (1993)",
           1993,
           137
          ],
          [
           736,
           "Shadowlands (1993)",
           1993,
           78
          ],
          [
           737,
           "Sirens (1994)",
           1994,
           59
          ],
          [
           738,
           "Threesome (1994)",
           1994,
           31
          ],
          [
           739,
           "Pretty Woman (1990)",
           1990,
           164
          ],
          [
           740,
           "Jane Eyre (1996)",
           1996,
           63
          ],
          [
           741,
           "Last Supper, The (1995)",
           1996,
           58
          ],
          [
           742,
           "Ransom (1996)",
           1996,
           267
          ],
          [
           743,
           "Crow: City of Angels, The (1996)",
           1996,
           39
          ],
          [
           744,
           "Michael Collins (1996)",
           1996,
           92
          ],
          [
           745,
           "Ruling Class, The (1972)",
           1972,
           16
          ],
          [
           746,
           "Real Genius (1985)",
           1985,
           119
          ],
          [
           747,
           "Benny & Joon (1993)",
           1993,
           102
          ],
          [
           748,
           "Saint, The (1997)",
           1997,
           316
          ],
          [
           749,
           "MatchMaker, The (1997)",
           1997,
           51
          ],
          [
           750,
           "Amistad (1997)",
           1997,
           124
          ],
          [
           751,
           "Tomorrow Never Dies (1997)",
           1997,
           180
          ],
          [
           752,
           "Replacement Killers, The (1998)",
           1998,
           39
          ],
          [
           753,
           "Burnt By the Sun (1994)",
           1994,
           24
          ],
          [
           754,
           "Red Corner (1997)",
           1997,
           57
          ],
          [
           755,
           "Jumanji (1995)",
           1995,
           96
          ],
          [
           756,
           "Father of the Bride Part II (1995)",
           1995,
           128
          ],
          [
           757,
           "Across the Sea of Time (1995)",
           1995,
           4
          ],
          [
           758,
           "Lawnmower Man 2: Beyond Cyberspace (1996)",
           1996,
           21
          ],
          [
           759,
           "Fair Game (1995)",
           1995,
           11
          ],
          [
           760,
           "Screamers (1995)",
           1995,
           46
          ],
          [
           761,
           "Nick of Time (1995)",
           1995,
           44
          ],
          [
           762,
           "Beautiful Girls (1996)",
           1996,
           115
          ],
          [
           763,
           "Happy Gilmore (1996)",
           1996,
           149
          ],
          [
           764,
           "If Lucy Fell (1996)",
           1996,
           29
          ],
          [
           765,
           "Boomerang (1992)",
           1992,
           32
          ],
          [
           766,
           "Man of the Year (1995)",
           1996,
           9
          ],
          [
           767,
           "Addiction, The (1995)",
           1995,
           11
          ],
          [
           768,
           "Casper (1995)",
           1995,
           52
          ],
          [
           769,
           "Congo (1995)",
           1995,
           42
          ],
          [
           770,
           "Devil in a Blue Dress (1995)",
           1995,
           57
          ],
          [
           771,
           "Johnny Mnemonic (1995)",
           1995,
           41
          ],
          [
           772,
           "Kids (1995)",
           1995,
           49
          ],
          [
           773,
           "Mute Witness (1994)",
           1994,
           17
          ],
          [
           774,
           "Prophecy, The (1995)",
           1995,
           32
          ],
          [
           775,
           "Something to Talk About (1995)",
           1995,
           26
          ],
          [
           776,
           "Three Wishes (1995)",
           1995,
           9
          ],
          [
           777,
           "Castle Freak (1995)",
           1995,
           4
          ],
          [
           778,
           "Don Juan DeMarco (1995)",
           1995,
           76
          ],
          [
           779,
           "Drop Zone (1994)",
           1994,
           31
          ],
          [
           780,
           "Dumb & Dumber (1994)",
           1994,
           69
          ],
          [
           781,
           "French Kiss (1995)",
           1995,
           84
          ],
          [
           782,
           "Little Odessa (1994)",
           1994,
           10
          ],
          [
           783,
           "Milk Money (1994)",
           1994,
           37
          ],
          [
           784,
           "Beyond Bedlam (1993)",
           1993,
           2
          ],
          [
           785,
           "Only You (1994)",
           1994,
           39
          ],
          [
           786,
           "Perez Family, The (1995)",
           1995,
           14
          ],
          [
           787,
           "Roommates (1995)",
           1995,
           13
          ],
          [
           788,
           "Relative Fear (1994)",
           1994,
           3
          ],
          [
           789,
           "Swimming with Sharks (1995)",
           1995,
           47
          ],
          [
           790,
           "Tommy Boy (1995)",
           1995,
           66
          ],
          [
           791,
           "Baby-Sitters Club, The (1995)",
           1995,
           10
          ],
          [
           792,
           "Bullets Over Broadway (1994)",
           1994,
           86
          ],
          [
           793,
           "Crooklyn (1994)",
           1994,
           10
          ],
          [
           794,
           "It Could Happen to You (1994)",
           1994,
           46
          ],
          [
           795,
           "Richie Rich (1994)",
           1994,
           21
          ],
          [
           796,
           "Speechless (1994)",
           1994,
           36
          ],
          [
           797,
           "Timecop (1994)",
           1994,
           31
          ],
          [
           798,
           "Bad Company (1995)",
           1995,
           9
          ],
          [
           799,
           "Boys Life (1995)",
           1995,
           5
          ],
          [
           800,
           "In the Mouth of Madness (1995)",
           1995,
           26
          ],
          [
           801,
           "Air Up There, The (1994)",
           1994,
           16
          ],
          [
           802,
           "Hard Target (1993)",
           1993,
           40
          ],
          [
           803,
           "Heaven & Earth (1993)",
           1993,
           9
          ],
          [
           804,
           "Jimmy Hollywood (1994)",
           1994,
           8
          ],
          [
           805,
           "Manhattan Murder Mystery (1993)",
           1993,
           27
          ],
          [
           806,
           "Menace II Society (1993)",
           1993,
           50
          ],
          [
           807,
           "Poetic Justice (1993)",
           1993,
           9
          ],
          [
           808,
           "Program, The (1993)",
           1993,
           31
          ],
          [
           809,
           "Rising Sun (1993)",
           1993,
           43
          ],
          [
           810,
           "Shadow, The (1994)",
           1994,
           45
          ],
          [
           811,
           "Thirty-Two Short Films About Glenn Gould (1993)",
           1993,
           18
          ],
          [
           812,
           "Andre (1994)",
           1994,
           18
          ],
          [
           813,
           "Celluloid Closet, The (1995)",
           1996,
           56
          ],
          [
           814,
           "Great Day in Harlem, A (1994)",
           1994,
           1
          ],
          [
           815,
           "One Fine Day (1996)",
           1996,
           112
          ],
          [
           816,
           "Candyman: Farewell to the Flesh (1995)",
           1995,
           21
          ],
          [
           817,
           "Frisk (1995)",
           1996,
           3
          ],
          [
           818,
           "Girl 6 (1996)",
           1996,
           25
          ],
          [
           819,
           "Eddie (1996)",
           1996,
           40
          ],
          [
           820,
           "Space Jam (1996)",
           1996,
           93
          ],
          [
           821,
           "Mrs. Winterbourne (1996)",
           1996,
           22
          ],
          [
           822,
           "Faces (1968)",
           1968,
           4
          ],
          [
           823,
           "Mulholland Falls (1996)",
           1996,
           82
          ],
          [
           824,
           "Great White Hype, The (1996)",
           1996,
           49
          ],
          [
           825,
           "Arrival, The (1996)",
           1996,
           83
          ],
          [
           826,
           "Phantom, The (1996)",
           1996,
           80
          ],
          [
           827,
           "Daylight (1996)",
           1996,
           57
          ],
          [
           828,
           "Alaska (1996)",
           1996,
           13
          ],
          [
           829,
           "Fled (1996)",
           1996,
           34
          ],
          [
           830,
           "Power 98 (1995)",
           1996,
           1
          ],
          [
           831,
           "Escape from L.A. (1996)",
           1996,
           91
          ],
          [
           832,
           "Bogus (1996)",
           1996,
           22
          ],
          [
           833,
           "Bulletproof (1996)",
           1996,
           49
          ],
          [
           834,
           "Halloween: The Curse of Michael Myers (1995)",
           1995,
           25
          ],
          [
           835,
           "Gay Divorcee, The (1934)",
           1934,
           15
          ],
          [
           836,
           "Ninotchka (1939)",
           1939,
           26
          ],
          [
           837,
           "Meet John Doe (1941)",
           1941,
           25
          ],
          [
           838,
           "In the Line of Duty 2 (1987)",
           1996,
           4
          ],
          [
           839,
           "Loch Ness (1995)",
           1995,
           4
          ],
          [
           840,
           "Last Man Standing (1996)",
           1996,
           53
          ],
          [
           841,
           "Glimmer Man, The (1996)",
           1996,
           48
          ],
          [
           842,
           "Pollyanna (1960)",
           1960,
           27
          ],
          [
           843,
           "Shaggy Dog, The (1959)",
           1959,
           30
          ],
          [
           844,
           "Freeway (1996)",
           1996,
           42
          ],
          [
           845,
           "That Thing You Do! (1996)",
           1996,
           176
          ],
          [
           846,
           "To Gillian on Her 37th Birthday (1996)",
           1996,
           44
          ],
          [
           847,
           "Looking for Richard (1996)",
           1996,
           55
          ],
          [
           848,
           "Murder, My Sweet (1944)",
           1944,
           9
          ],
          [
           849,
           "Days of Thunder (1990)",
           1990,
           53
          ],
          [
           850,
           "Perfect Candidate, A (1996)",
           1996,
           4
          ],
          [
           851,
           "Two or Three Things I Know About Her (1966)",
           1966,
           4
          ],
          [
           852,
           "Bloody Child, The (1996)",
           1996,
           1
          ],
          [
           853,
           "Braindead (1992)",
           1992,
           14
          ],
          [
           854,
           "Bad Taste (1987)",
           1987,
           16
          ],
          [
           855,
           "Diva (1981)",
           1981,
           66
          ],
          [
           856,
           "Night on Earth (1991)",
           1991,
           36
          ],
          [
           857,
           "Paris Was a Woman (1995)",
           1996,
           1
          ],
          [
           858,
           "Amityville: Dollhouse (1996)",
           1996,
           3
          ],
          [
           859,
           "April Fool's Day (1986)",
           1986,
           15
          ],
          [
           860,
           "Believers, The (1987)",
           1987,
           16
          ],
          [
           861,
           "Nosferatu a Venezia (1986)",
           1986,
           3
          ],
          [
           862,
           "Jingle All the Way (1996)",
           1996,
           18
          ],
          [
           863,
           "Garden of Finzi-Contini, The (Giardino dei Finzi-Contini, Il) (1970)",
           1996,
           24
          ],
          [
           864,
           "My Fellow Americans (1996)",
           1996,
           86
          ],
          [
           865,
           "Ice Storm, The (1997)",
           1997,
           21
          ],
          [
           866,
           "Michael (1996)",
           1996,
           119
          ],
          [
           867,
           "Whole Wide World, The (1996)",
           1996,
           6
          ],
          [
           868,
           "Hearts and Minds (1996)",
           1997,
           5
          ],
          [
           869,
           "Fools Rush In (1997)",
           1997,
           24
          ],
          [
           870,
           "Touch (1997)",
           1997,
           9
          ],
          [
           871,
           "Vegas Vacation (1997)",
           1997,
           75
          ],
          [
           872,
           "Love Jones (1997)",
           1997,
           42
          ],
          [
           873,
           "Picture Perfect (1997)",
           1997,
           81
          ],
          [
           874,
           "Career Girls (1997)",
           1997,
           39
          ],
          [
           875,
           "She's So Lovely (1997)",
           1997,
           53
          ],
          [
           876,
           "Money Talks (1997)",
           1997,
           47
          ],
          [
           877,
           "Excess Baggage (1997)",
           1997,
           52
          ],
          [
           878,
           "That Darn Cat! (1997)",
           1997,
           33
          ],
          [
           879,
           "Peacemaker, The (1997)",
           1997,
           136
          ],
          [
           880,
           "Soul Food (1997)",
           1997,
           59
          ],
          [
           881,
           "Money Talks (1997)",
           1997,
           45
          ],
          [
           882,
           "Washington Square (1997)",
           1997,
           34
          ],
          [
           883,
           "Telling Lies in America (1997)",
           1997,
           13
          ],
          [
           884,
           "Year of the Horse (1997)",
           1997,
           7
          ],
          [
           885,
           "Phantoms (1998)",
           1998,
           13
          ],
          [
           886,
           "Life Less Ordinary, A (1997)",
           1997,
           53
          ],
          [
           887,
           "Eve's Bayou (1997)",
           1997,
           64
          ],
          [
           888,
           "One Night Stand (1997)",
           1997,
           15
          ],
          [
           889,
           "Tango Lesson, The (1997)",
           1997,
           13
          ],
          [
           890,
           "Mortal Kombat: Annihilation (1997)",
           1997,
           43
          ],
          [
           891,
           "Bent (1997)",
           1997,
           6
          ],
          [
           892,
           "Flubber (1997)",
           1997,
           53
          ],
          [
           893,
           "For Richer or Poorer (1997)",
           1997,
           14
          ],
          [
           894,
           "Home Alone 3 (1997)",
           1997,
           19
          ],
          [
           895,
           "Scream 2 (1997)",
           1997,
           106
          ],
          [
           896,
           "Sweet Hereafter, The (1997)",
           1997,
           44
          ],
          [
           897,
           "Time Tracers (1995)",
           1995,
           2
          ],
          [
           898,
           "Postman, The (1997)",
           1997,
           58
          ],
          [
           899,
           "Winter Guest, The (1997)",
           1997,
           9
          ],
          [
           900,
           "Kundun (1997)",
           1997,
           42
          ],
          [
           901,
           "Mr. Magoo (1997)",
           1997,
           12
          ],
          [
           902,
           "Big Lebowski, The (1998)",
           1997,
           42
          ],
          [
           903,
           "Afterglow (1997)",
           1997,
           18
          ],
          [
           904,
           "Ma vie en rose (My Life in Pink) (1997)",
           1997,
           20
          ],
          [
           905,
           "Great Expectations (1998)",
           1998,
           27
          ],
          [
           906,
           "Oscar & Lucinda (1997)",
           1997,
           21
          ],
          [
           907,
           "Vermin (1998)",
           1997,
           2
          ],
          [
           908,
           "Half Baked (1998)",
           1998,
           20
          ],
          [
           909,
           "Dangerous Beauty (1998)",
           1998,
           13
          ],
          [
           910,
           "Nil By Mouth (1997)",
           1998,
           4
          ],
          [
           911,
           "Twilight (1998)",
           1998,
           4
          ],
          [
           912,
           "U.S. Marshalls (1998)",
           1998,
           9
          ],
          [
           913,
           "Love and Death on Long Island (1997)",
           1998,
           2
          ],
          [
           914,
           "Wild Things (1998)",
           1998,
           11
          ],
          [
           915,
           "Primary Colors (1998)",
           1998,
           13
          ],
          [
           916,
           "Lost in Space (1998)",
           1998,
           18
          ],
          [
           917,
           "Mercury Rising (1998)",
           1998,
           7
          ],
          [
           918,
           "City of Angels (1998)",
           1998,
           8
          ],
          [
           919,
           "City of Lost Children, The (1995)",
           1995,
           96
          ],
          [
           920,
           "Two Bits (1995)",
           1995,
           5
          ],
          [
           921,
           "Farewell My Concubine (1993)",
           1993,
           46
          ],
          [
           922,
           "Dead Man (1995)",
           1996,
           34
          ],
          [
           923,
           "Raise the Red Lantern (1991)",
           1991,
           58
          ],
          [
           924,
           "White Squall (1996)",
           1996,
           85
          ],
          [
           925,
           "Unforgettable (1996)",
           1996,
           34
          ],
          [
           926,
           "Down Periscope (1996)",
           1996,
           101
          ],
          [
           927,
           "Flower of My Secret, The (Flor de mi secreto, La) (1995)",
           1996,
           6
          ],
          [
           928,
           "Craft, The (1996)",
           1996,
           104
          ],
          [
           929,
           "Harriet the Spy (1996)",
           1996,
           40
          ],
          [
           930,
           "Chain Reaction (1996)",
           1996,
           80
          ],
          [
           931,
           "Island of Dr. Moreau, The (1996)",
           1996,
           57
          ],
          [
           932,
           "First Kid (1996)",
           1996,
           40
          ],
          [
           933,
           "Funeral, The (1996)",
           1996,
           21
          ],
          [
           934,
           "Preacher's Wife, The (1996)",
           1996,
           68
          ],
          [
           935,
           "Paradise Road (1997)",
           1997,
           7
          ],
          [
           936,
           "Brassed Off (1996)",
           1997,
           32
          ],
          [
           937,
           "Thousand Acres, A (1997)",
           1997,
           37
          ],
          [
           938,
           "Smile Like Yours, A (1997)",
           1997,
           25
          ],
          [
           939,
           "Murder in the First (1995)",
           1995,
           60
          ],
          [
           940,
           "Airheads (1994)",
           1994,
           32
          ],
          [
           941,
           "With Honors (1994)",
           1994,
           46
          ],
          [
           942,
           "What's Love Got to Do with It (1993)",
           1993,
           45
          ],
          [
           943,
           "Killing Zoe (1994)",
           1994,
           40
          ],
          [
           944,
           "Renaissance Man (1994)",
           1994,
           43
          ],
          [
           945,
           "Charade (1963)",
           1963,
           40
          ],
          [
           946,
           "Fox and the Hound, The (1981)",
           1981,
           61
          ],
          [
           947,
           "Big Blue, The (Grand bleu, Le) (1988)",
           1988,
           17
          ],
          [
           948,
           "Booty Call (1997)",
           1997,
           48
          ],
          [
           949,
           "How to Make an American Quilt (1995)",
           1995,
           71
          ],
          [
           950,
           "Georgia (1995)",
           1995,
           30
          ],
          [
           951,
           "Indian in the Cupboard, The (1995)",
           1995,
           39
          ],
          [
           952,
           "Blue in the Face (1995)",
           1995,
           45
          ],
          [
           953,
           "Unstrung Heroes (1995)",
           1995,
           22
          ],
          [
           954,
           "Unzipped (1995)",
           1995,
           11
          ],
          [
           955,
           "Before Sunrise (1995)",
           1995,
           49
          ],
          [
           956,
           "Nobody's Fool (1994)",
           1994,
           46
          ],
          [
           957,
           "Pushing Hands (1992)",
           1992,
           2
          ],
          [
           958,
           "To Live (Huozhe) (1994)",
           1994,
           14
          ],
          [
           959,
           "Dazed and Confused (1993)",
           1993,
           64
          ],
          [
           960,
           "Naked (1993)",
           1993,
           25
          ],
          [
           961,
           "Orlando (1993)",
           1993,
           34
          ],
          [
           962,
           "Ruby in Paradise (1993)",
           1993,
           23
          ],
          [
           963,
           "Some Folks Call It a Sling Blade (1993)",
           1993,
           41
          ],
          [
           964,
           "Month by the Lake, A (1995)",
           1995,
           9
          ],
          [
           965,
           "Funny Face (1957)",
           1957,
           21
          ],
          [
           966,
           "Affair to Remember, An (1957)",
           1957,
           26
          ],
          [
           967,
           "Little Lord Fauntleroy (1936)",
           1936,
           12
          ],
          [
           968,
           "Inspector General, The (1949)",
           1949,
           18
          ],
          [
           969,
           "Winnie the Pooh and the Blustery Day (1968)",
           1968,
           75
          ],
          [
           970,
           "Hear My Song (1991)",
           1991,
           8
          ],
          [
           971,
           "Mediterraneo (1991)",
           1991,
           34
          ],
          [
           972,
           "Passion Fish (1992)",
           1992,
           28
          ],
          [
           973,
           "Grateful Dead (1995)",
           1996,
           4
          ],
          [
           974,
           "Eye for an Eye (1996)",
           1996,
           32
          ],
          [
           975,
           "Fear (1996)",
           1996,
           44
          ],
          [
           976,
           "Solo (1996)",
           1996,
           12
          ],
          [
           977,
           "Substitute, The (1996)",
           1996,
           49
          ],
          [
           978,
           "Heaven's Prisoners (1996)",
           1996,
           27
          ],
          [
           979,
           "Trigger Effect, The (1996)",
           1996,
           35
          ],
          [
           980,
           "Mother Night (1996)",
           1996,
           22
          ],
          [
           981,
           "Dangerous Ground (1997)",
           1996,
           8
          ],
          [
           982,
           "Maximum Risk (1996)",
           1996,
           20
          ],
          [
           983,
           "Rich Man's Wife, The (1996)",
           1996,
           15
          ],
          [
           984,
           "Shadow Conspiracy (1997)",
           1997,
           44
          ],
          [
           985,
           "Blood & Wine (1997)",
           1996,
           22
          ],
          [
           986,
           "Turbulence (1997)",
           1997,
           23
          ],
          [
           987,
           "Underworld (1997)",
           1997,
           4
          ],
          [
           988,
           "Beautician and the Beast, The (1997)",
           1997,
           86
          ],
          [
           989,
           "Cats Don't Dance (1997)",
           1997,
           32
          ],
          [
           990,
           "Anna Karenina (1997)",
           1997,
           33
          ],
          [
           991,
           "Keys to Tulsa (1997)",
           1997,
           25
          ],
          [
           992,
           "Head Above Water (1996)",
           1997,
           4
          ],
          [
           993,
           "Hercules (1997)",
           1997,
           66
          ],
          [
           994,
           "Last Time I Committed Suicide, The (1997)",
           1997,
           7
          ],
          [
           995,
           "Kiss Me, Guido (1997)",
           1997,
           31
          ],
          [
           996,
           "Big Green, The (1995)",
           1995,
           14
          ],
          [
           997,
           "Stuart Saves His Family (1995)",
           1995,
           16
          ],
          [
           998,
           "Cabin Boy (1994)",
           1994,
           16
          ],
          [
           999,
           "Clean Slate (1994)",
           1994,
           10
          ],
          [
           1000,
           "Lightning Jack (1994)",
           1994,
           10
          ],
          [
           1001,
           "Stupids, The (1996)",
           1996,
           17
          ],
          [
           1002,
           "Pest, The (1997)",
           1997,
           8
          ],
          [
           1003,
           "That Darn Cat! (1997)",
           1997,
           8
          ],
          [
           1004,
           "Geronimo: An American Legend (1993)",
           1993,
           9
          ],
          [
           1005,
           "Double vie de Véronique, La (Double Life of Veronique, The) (1991)",
           1991,
           22
          ],
          [
           1006,
           "Until the End of the World (Bis ans Ende der Welt) (1991)",
           1991,
           23
          ],
          [
           1007,
           "Waiting for Guffman (1996)",
           1997,
           47
          ],
          [
           1008,
           "I Shot Andy Warhol (1996)",
           1996,
           37
          ],
          [
           1009,
           "Stealing Beauty (1996)",
           1996,
           64
          ],
          [
           1010,
           "Basquiat (1996)",
           1996,
           44
          ],
          [
           1011,
           "2 Days in the Valley (1996)",
           1996,
           93
          ],
          [
           1012,
           "Private Parts (1997)",
           1997,
           100
          ],
          [
           1013,
           "Anaconda (1997)",
           1997,
           38
          ],
          [
           1014,
           "Romy and Michele's High School Reunion (1997)",
           1997,
           98
          ],
          [
           1015,
           "Shiloh (1997)",
           1997,
           12
          ],
          [
           1016,
           "Con Air (1997)",
           1997,
           137
          ],
          [
           1017,
           "Trees Lounge (1996)",
           1996,
           50
          ],
          [
           1018,
           "Tie Me Up! Tie Me Down! (1990)",
           1990,
           32
          ],
          [
           1019,
           "Die xue shuang xiong (Killer, The) (1989)",
           1989,
           31
          ],
          [
           1020,
           "Gaslight (1944)",
           1944,
           35
          ],
          [
           1021,
           "8 1/2 (1963)",
           1963,
           38
          ],
          [
           1022,
           "Fast, Cheap & Out of Control (1997)",
           1997,
           32
          ],
          [
           1023,
           "Fathers' Day (1997)",
           1997,
           31
          ],
          [
           1024,
           "Mrs. Dalloway (1997)",
           1997,
           15
          ],
          [
           1025,
           "Fire Down Below (1997)",
           1997,
           44
          ],
          [
           1026,
           "Lay of the Land, The (1997)",
           1997,
           4
          ],
          [
           1027,
           "Shooter, The (1995)",
           1995,
           3
          ],
          [
           1028,
           "Grumpier Old Men (1995)",
           1995,
           148
          ],
          [
           1029,
           "Jury Duty (1995)",
           1995,
           14
          ],
          [
           1030,
           "Beverly Hillbillies, The (1993)",
           1993,
           20
          ],
          [
           1031,
           "Lassie (1994)",
           1994,
           7
          ],
          [
           1032,
           "Little Big League (1994)",
           1994,
           16
          ],
          [
           1033,
           "Homeward Bound II: Lost in San Francisco (1996)",
           1996,
           32
          ],
          [
           1034,
           "Quest, The (1996)",
           1996,
           27
          ],
          [
           1035,
           "Cool Runnings (1993)",
           1993,
           68
          ],
          [
           1036,
           "Drop Dead Fred (1991)",
           1991,
           24
          ],
          [
           1037,
           "Grease 2 (1982)",
           1982,
           24
          ],
          [
           1038,
           "Switchback (1997)",
           1997,
           17
          ],
          [
           1039,
           "Hamlet (1996)",
           1997,
           90
          ],
          [
           1040,
           "Two if by Sea (1996)",
           1996,
           25
          ],
          [
           1041,
           "Forget Paris (1995)",
           1995,
           62
          ],
          [
           1042,
           "Just Cause (1995)",
           1995,
           28
          ],
          [
           1043,
           "Rent-a-Kid (1995)",
           1995,
           8
          ],
          [
           1044,
           "Paper, The (1994)",
           1994,
           40
          ],
          [
           1045,
           "Fearless (1993)",
           1993,
           25
          ],
          [
           1046,
           "Malice (1993)",
           1993,
           46
          ],
          [
           1047,
           "Multiplicity (1996)",
           1996,
           134
          ],
          [
           1048,
           "She's the One (1996)",
           1996,
           73
          ],
          [
           1049,
           "House Arrest (1996)",
           1996,
           25
          ],
          [
           1050,
           "Ghost and Mrs. Muir, The (1947)",
           1947,
           43
          ],
          [
           1051,
           "Associate, The (1996)",
           1996,
           41
          ],
          [
           1052,
           "Dracula: Dead and Loving It (1995)",
           1995,
           25
          ],
          [
           1053,
           "Now and Then (1995)",
           1995,
           24
          ],
          [
           1054,
           "Mr. Wrong (1996)",
           1996,
           23
          ],
          [
           1055,
           "Simple Twist of Fate, A (1994)",
           1994,
           10
          ],
          [
           1056,
           "Cronos (1992)",
           1992,
           10
          ],
          [
           1057,
           "Pallbearer, The (1996)",
           1996,
           22
          ],
          [
           1058,
           "War, The (1994)",
           1994,
           15
          ],
          [
           1059,
           "Don't Be a Menace to South Central While Drinking Your Juice in the Hood (1996)",
           1996,
           35
          ],
          [
           1060,
           "Adventures of Pinocchio, The (1996)",
           1996,
           39
          ],
          [
           1061,
           "Evening Star, The (1996)",
           1996,
           29
          ],
          [
           1062,
           "Four Days in September (1997)",
           1998,
           12
          ],
          [
           1063,
           "Little Princess, A (1995)",
           1995,
           41
          ],
          [
           1064,
           "Crossfire (1947)",
           1947,
           4
          ],
          [
           1065,
           "Koyaanisqatsi (1983)",
           1983,
           53
          ],
          [
           1066,
           "Balto (1995)",
           1995,
           16
          ],
          [
           1067,
           "Bottle Rocket (1996)",
           1996,
           44
          ],
          [
           1068,
           "Star Maker, The (Uomo delle stelle, L') (1995)",
           1996,
           12
          ],
          [
           1069,
           "Amateur (1994)",
           1994,
           18
          ],
          [
           1070,
           "Living in Oblivion (1995)",
           1995,
           27
          ],
          [
           1071,
           "Party Girl (1995)",
           1995,
           16
          ],
          [
           1072,
           "Pyromaniac's Love Story, A (1995)",
           1995,
           7
          ],
          [
           1073,
           "Shallow Grave (1994)",
           1994,
           66
          ],
          [
           1074,
           "Reality Bites (1994)",
           1994,
           77
          ],
          [
           1075,
           "Man of No Importance, A (1994)",
           1994,
           7
          ],
          [
           1076,
           "Pagemaster, The (1994)",
           1994,
           12
          ],
          [
           1077,
           "Love and a .45 (1994)",
           1994,
           8
          ],
          [
           1078,
           "Oliver & Company (1988)",
           1988,
           22
          ],
          [
           1079,
           "Joe's Apartment (1996)",
           1996,
           45
          ],
          [
           1080,
           "Celestial Clockwork (1994)",
           1996,
           2
          ],
          [
           1081,
           "Curdled (1996)",
           1996,
           8
          ],
          [
           1082,
           "Female Perversions (1996)",
           1997,
           8
          ],
          [
           1083,
           "Albino Alligator (1996)",
           1997,
           6
          ],
          [
           1084,
           "Anne Frank Remembered (1995)",
           1996,
           21
          ],
          [
           1085,
           "Carried Away (1996)",
           1996,
           11
          ],
          [
           1086,
           "It's My Party (1995)",
           1996,
           21
          ],
          [
           1087,
           "Bloodsport 2 (1995)",
           1996,
           10
          ],
          [
           1088,
           "Double Team (1997)",
           1997,
           13
          ],
          [
           1089,
           "Speed 2: Cruise Control (1997)",
           1997,
           38
          ],
          [
           1090,
           "Sliver (1993)",
           1993,
           37
          ],
          [
           1091,
           "Pete's Dragon (1977)",
           1977,
           43
          ],
          [
           1092,
           "Dear God (1996)",
           1996,
           12
          ],
          [
           1093,
           "Live Nude Girls (1995)",
           1996,
           23
          ],
          [
           1094,
           "Thin Line Between Love and Hate, A (1996)",
           1996,
           12
          ],
          [
           1095,
           "High School High (1996)",
           1996,
           29
          ],
          [
           1096,
           "Commandments (1997)",
           1997,
           3
          ],
          [
           1097,
           "Hate (Haine, La) (1995)",
           1996,
           18
          ],
          [
           1098,
           "Flirting With Disaster (1996)",
           1996,
           42
          ],
          [
           1099,
           "Red Firecracker, Green Firecracker (1994)",
           1994,
           13
          ],
          [
           1100,
           "What Happened Was... (1994)",
           1994,
           8
          ],
          [
           1101,
           "Six Degrees of Separation (1993)",
           1993,
           74
          ],
          [
           1102,
           "Two Much (1996)",
           1996,
           7
          ],
          [
           1103,
           "Trust (1990)",
           1990,
           19
          ],
          [
           1104,
           "C'est arrivé près de chez vous (1992)",
           1992,
           4
          ],
          [
           1105,
           "Firestorm (1998)",
           1998,
           18
          ],
          [
           1106,
           "Newton Boys, The (1998)",
           1998,
           4
          ],
          [
           1107,
           "Beyond Rangoon (1995)",
           1995,
           18
          ],
          [
           1108,
           "Feast of July (1995)",
           1995,
           5
          ],
          [
           1109,
           "Death and the Maiden (1994)",
           1994,
           28
          ],
          [
           1110,
           "Tank Girl (1995)",
           1995,
           41
          ],
          [
           1111,
           "Double Happiness (1994)",
           1996,
           7
          ],
          [
           1112,
           "Cobb (1994)",
           1994,
           15
          ],
          [
           1113,
           "Mrs. Parker and the Vicious Circle (1994)",
           1994,
           22
          ],
          [
           1114,
           "Faithful (1996)",
           1996,
           10
          ],
          [
           1115,
           "Twelfth Night (1996)",
           1996,
           29
          ],
          [
           1116,
           "Mark of Zorro, The (1940)",
           1940,
           13
          ],
          [
           1117,
           "Surviving Picasso (1996)",
           1996,
           19
          ],
          [
           1118,
           "Up in Smoke (1978)",
           1978,
           47
          ],
          [
           1119,
           "Some Kind of Wonderful (1987)",
           1987,
           59
          ],
          [
           1120,
           "I'm Not Rappaport (1996)",
           1996,
           17
          ],
          [
           1121,
           "Umbrellas of Cherbourg, The (Parapluies de Cherbourg, Les) (1964)",
           1996,
           21
          ],
          [
           1122,
           "They Made Me a Criminal (1939)",
           1939,
           1
          ],
          [
           1123,
           "Last Time I Saw Paris, The (1954)",
           1954,
           3
          ],
          [
           1124,
           "Farewell to Arms, A (1932)",
           1932,
           12
          ],
          [
           1125,
           "Innocents, The (1961)",
           1961,
           4
          ],
          [
           1126,
           "Old Man and the Sea, The (1958)",
           1958,
           32
          ],
          [
           1127,
           "Truman Show, The (1998)",
           1998,
           11
          ],
          [
           1128,
           "Heidi Fleiss: Hollywood Madam (1995) ",
           1996,
           13
          ],
          [
           1129,
           "Chungking Express (1994)",
           1996,
           28
          ],
          [
           1130,
           "Jupiter's Wife (1994)",
           1996,
           1
          ],
          [
           1131,
           "Safe (1995)",
           1995,
           13
          ],
          [
           1132,
           "Feeling Minnesota (1996)",
           1996,
           32
          ],
          [
           1133,
           "Escape to Witch Mountain (1975)",
           1975,
           30
          ],
          [
           1134,
           "Get on the Bus (1996)",
           1996,
           38
          ],
          [
           1135,
           "Doors, The (1991)",
           1991,
           46
          ],
          [
           1136,
           "Ghosts of Mississippi (1996)",
           1996,
           29
          ],
          [
           1137,
           "Beautiful Thing (1996)",
           1996,
           29
          ],
          [
           1138,
           "Best Men (1997)",
           1997,
           5
          ],
          [
           1139,
           "Hackers (1995)",
           1995,
           33
          ],
          [
           1140,
           "Road to Wellville, The (1994)",
           1994,
           17
          ],
          [
           1141,
           "War Room, The (1993)",
           1993,
           9
          ],
          [
           1142,
           "When We Were Kings (1996)",
           1997,
           44
          ],
          [
           1143,
           "Hard Eight (1996)",
           1997,
           15
          ],
          [
           1144,
           "Quiet Room, The (1996)",
           1997,
           3
          ],
          [
           1145,
           "Blue Chips (1994)",
           1994,
           9
          ],
          [
           1146,
           "Calendar Girl (1993)",
           1993,
           3
          ],
          [
           1147,
           "My Family (1995)",
           1995,
           21
          ],
          [
           1148,
           "Tom & Viv (1994)",
           1994,
           9
          ],
          [
           1149,
           "Walkabout (1971)",
           1971,
           26
          ],
          [
           1150,
           "Last Dance (1996)",
           1996,
           9
          ],
          [
           1151,
           "Original Gangstas (1996)",
           1996,
           7
          ],
          [
           1152,
           "In Love and War (1996)",
           1997,
           28
          ],
          [
           1153,
           "Backbeat (1993)",
           1993,
           19
          ],
          [
           1154,
           "Alphaville (1965)",
           1965,
           12
          ],
          [
           1155,
           "Rendezvous in Paris (Rendez-vous de Paris, Les) (1995)",
           1996,
           3
          ],
          [
           1156,
           "Cyclo (1995)",
           1996,
           1
          ],
          [
           1157,
           "Relic, The (1997)",
           1997,
           25
          ],
          [
           1158,
           "Fille seule, La (A Single Girl) (1995)",
           1996,
           4
          ],
          [
           1159,
           "Stalker (1979)",
           1979,
           11
          ],
          [
           1160,
           "Love! Valour! Compassion! (1997)",
           1997,
           26
          ],
          [
           1161,
           "Palookaville (1996)",
           1996,
           13
          ],
          [
           1162,
           "Phat Beach (1996)",
           1996,
           5
          ],
          [
           1163,
           "Portrait of a Lady, The (1996)",
           1996,
           25
          ],
          [
           1164,
           "Zeus and Roxanne (1997)",
           1997,
           6
          ],
          [
           1165,
           "Big Bully (1996)",
           1996,
           14
          ],
          [
           1166,
           "Love & Human Remains (1993)",
           1993,
           12
          ],
          [
           1167,
           "Sum of Us, The (1994)",
           1994,
           11
          ],
          [
           1168,
           "Little Buddha (1993)",
           1993,
           22
          ],
          [
           1169,
           "Fresh (1994)",
           1994,
           10
          ],
          [
           1170,
           "Spanking the Monkey (1994)",
           1994,
           27
          ],
          [
           1171,
           "Wild Reeds (1994)",
           1994,
           14
          ],
          [
           1172,
           "Women, The (1939)",
           1939,
           15
          ],
          [
           1173,
           "Bliss (1997)",
           1997,
           7
          ],
          [
           1174,
           "Caught (1996)",
           1996,
           8
          ],
          [
           1175,
           "Hugo Pool (1997)",
           1997,
           5
          ],
          [
           1176,
           "Welcome To Sarajevo (1997)",
           1997,
           22
          ],
          [
           1177,
           "Dunston Checks In (1996)",
           1996,
           7
          ],
          [
           1178,
           "Major Payne (1994)",
           1994,
           19
          ],
          [
           1179,
           "Man of the House (1995)",
           1995,
           9
          ],
          [
           1180,
           "I Love Trouble (1994)",
           1994,
           10
          ],
          [
           1181,
           "Low Down Dirty Shame, A (1994)",
           1994,
           10
          ],
          [
           1182,
           "Cops and Robbersons (1994)",
           1994,
           13
          ],
          [
           1183,
           "Cowboy Way, The (1994)",
           1994,
           19
          ],
          [
           1184,
           "Endless Summer 2, The (1994)",
           1994,
           10
          ],
          [
           1185,
           "In the Army Now (1994)",
           1994,
           18
          ],
          [
           1186,
           "Inkwell, The (1994)",
           1994,
           3
          ],
          [
           1187,
           "Switchblade Sisters (1975)",
           1975,
           13
          ],
          [
           1188,
           "Young Guns II (1990)",
           1990,
           44
          ],
          [
           1189,
           "Prefontaine (1997)",
           1997,
           3
          ],
          [
           1190,
           "That Old Feeling (1997)",
           1997,
           11
          ],
          [
           1191,
           "Letter From Death Row, A (1998)",
           1998,
           3
          ],
          [
           1192,
           "Boys of St. Vincent, The (1993)",
           1993,
           13
          ],
          [
           1193,
           "Before the Rain (Pred dozhdot) (1994)",
           1994,
           10
          ],
          [
           1194,
           "Once Were Warriors (1994)",
           1994,
           31
          ],
          [
           1195,
           "Strawberry and Chocolate (Fresa y chocolate) (1993)",
           1993,
           11
          ],
          [
           1196,
           "Savage Nights (Nuits fauves, Les) (1992)",
           1992,
           3
          ],
          [
           1197,
           "Family Thing, A (1996)",
           1996,
           45
          ],
          [
           1198,
           "Purple Noon (1960)",
           1960,
           7
          ],
          [
           1199,
           "Cemetery Man (Dellamorte Dellamore) (1994)",
           1996,
           23
          ],
          [
           1200,
           "Kim (1950)",
           1950,
           7
          ],
          [
           1201,
           "Marlene Dietrich: Shadow and Light (1996) ",
           1996,
           1
          ],
          [
           1202,
           "Maybe, Maybe Not (Bewegte Mann, Der) (1994)",
           1996,
           8
          ],
          [
           1203,
           "Top Hat (1935)",
           1935,
           21
          ],
          [
           1204,
           "To Be or Not to Be (1942)",
           1942,
           18
          ],
          [
           1205,
           "Secret Agent, The (1996)",
           1996,
           6
          ],
          [
           1206,
           "Amos & Andrew (1993)",
           1993,
           19
          ],
          [
           1207,
           "Jade (1995)",
           1995,
           17
          ],
          [
           1208,
           "Kiss of Death (1995)",
           1995,
           20
          ],
          [
           1209,
           "Mixed Nuts (1994)",
           1994,
           15
          ],
          [
           1210,
           "Virtuosity (1995)",
           1995,
           38
          ],
          [
           1211,
           "Blue Sky (1994)",
           1994,
           12
          ],
          [
           1212,
           "Flesh and Bone (1993)",
           1993,
           6
          ],
          [
           1213,
           "Guilty as Sin (1993)",
           1993,
           6
          ],
          [
           1214,
           "In the Realm of the Senses (Ai no corrida) (1976)",
           1976,
           9
          ],
          [
           1215,
           "Barb Wire (1996)",
           1996,
           30
          ],
          [
           1216,
           "Kissed (1996)",
           1997,
           6
          ],
          [
           1217,
           "Assassins (1995)",
           1995,
           39
          ],
          [
           1218,
           "Friday (1995)",
           1995,
           26
          ],
          [
           1219,
           "Goofy Movie, A (1995)",
           1995,
           20
          ],
          [
           1220,
           "Higher Learning (1995)",
           1995,
           30
          ],
          [
           1221,
           "When a Man Loves a Woman (1994)",
           1994,
           39
          ],
          [
           1222,
           "Judgment Night (1993)",
           1993,
           25
          ],
          [
           1223,
           "King of the Hill (1993)",
           1993,
           4
          ],
          [
           1224,
           "Scout, The (1994)",
           1994,
           12
          ],
          [
           1225,
           "Angus (1995)",
           1995,
           14
          ],
          [
           1226,
           "Night Falls on Manhattan (1997)",
           1997,
           32
          ],
          [
           1227,
           "Awfully Big Adventure, An (1995)",
           1995,
           8
          ],
          [
           1228,
           "Under Siege 2: Dark Territory (1995)",
           1995,
           48
          ],
          [
           1229,
           "Poison Ivy II (1995)",
           1995,
           13
          ],
          [
           1230,
           "Ready to Wear (Pret-A-Porter) (1994)",
           1994,
           18
          ],
          [
           1231,
           "Marked for Death (1990)",
           1990,
           22
          ],
          [
           1232,
           "Madonna: Truth or Dare (1991)",
           1991,
           17
          ],
          [
           1233,
           "Nénette et Boni (1996)",
           1996,
           6
          ],
          [
           1234,
           "Chairman of the Board (1998)",
           1998,
           8
          ],
          [
           1235,
           "Big Bang Theory, The (1994)",
           1994,
           1
          ],
          [
           1236,
           "Other Voices, Other Rooms (1997)",
           1997,
           1
          ],
          [
           1237,
           "Twisted (1996)",
           1996,
           6
          ],
          [
           1238,
           "Full Speed (1996)",
           1996,
           8
          ],
          [
           1239,
           "Cutthroat Island (1995)",
           1995,
           18
          ],
          [
           1240,
           "Ghost in the Shell (Kokaku kidotai) (1995)",
           1996,
           26
          ],
          [
           1241,
           "Van, The (1996)",
           1997,
           6
          ],
          [
           1242,
           "Old Lady Who Walked in the Sea, The (Vieille qui marchait dans la mer, La) (1991)",
           1991,
           5
          ],
          [
           1243,
           "Night Flier (1997)",
           1998,
           7
          ],
          [
           1244,
           "Metro (1997)",
           1997,
           36
          ],
          [
           1245,
           "Gridlock'd (1997)",
           1997,
           19
          ],
          [
           1246,
           "Bushwhacked (1995)",
           1995,
           7
          ],
          [
           1247,
           "Bad Girls (1994)",
           1994,
           6
          ],
          [
           1248,
           "Blink (1994)",
           1994,
           19
          ],
          [
           1249,
           "For Love or Money (1993)",
           1993,
           12
          ],
          [
           1250,
           "Best of the Best 3: No Turning Back (1995)",
           1995,
           6
          ],
          [
           1251,
           "A Chef in Love (1996)",
           1997,
           8
          ],
          [
           1252,
           "Contempt (Mépris, Le) (1963)",
           1997,
           9
          ],
          [
           1253,
           "Tie That Binds, The (1995)",
           1995,
           7
          ],
          [
           1254,
           "Gone Fishin' (1997)",
           1997,
           11
          ],
          [
           1255,
           "Broken English (1996)",
           1997,
           8
          ],
          [
           1256,
           "Designated Mourner, The (1997)",
           1997,
           3
          ],
          [
           1257,
           "Designated Mourner, The (1997)",
           1997,
           4
          ],
          [
           1258,
           "Trial and Error (1997)",
           1997,
           23
          ],
          [
           1259,
           "Pie in the Sky (1995)",
           1996,
           4
          ],
          [
           1260,
           "Total Eclipse (1995)",
           1995,
           4
          ],
          [
           1261,
           "Run of the Country, The (1995)",
           1995,
           4
          ],
          [
           1262,
           "Walking and Talking (1996)",
           1996,
           8
          ],
          [
           1263,
           "Foxfire (1996)",
           1996,
           15
          ],
          [
           1264,
           "Nothing to Lose (1994)",
           1996,
           7
          ],
          [
           1265,
           "Star Maps (1997)",
           1997,
           19
          ],
          [
           1266,
           "Bread and Chocolate (Pane e cioccolata) (1973)",
           1973,
           12
          ],
          [
           1267,
           "Clockers (1995)",
           1995,
           33
          ],
          [
           1268,
           "Bitter Moon (1992)",
           1992,
           10
          ],
          [
           1269,
           "Love in the Afternoon (1957)",
           1957,
           10
          ],
          [
           1270,
           "Life with Mikey (1993)",
           1993,
           7
          ],
          [
           1271,
           "North (1994)",
           1994,
           7
          ],
          [
           1272,
           "Talking About Sex (1994)",
           1994,
           5
          ],
          [
           1273,
           "Color of Night (1994)",
           1994,
           15
          ],
          [
           1274,
           "Robocop 3 (1993)",
           1993,
           11
          ],
          [
           1275,
           "Killer (Bulletproof Heart) (1994)",
           1994,
           4
          ],
          [
           1276,
           "Sunset Park (1996)",
           1996,
           8
          ],
          [
           1277,
           "Set It Off (1996)",
           1996,
           19
          ],
          [
           1278,
           "Selena (1997)",
           1997,
           16
          ],
          [
           1279,
           "Wild America (1997)",
           1997,
           9
          ],
          [
           1280,
           "Gang Related (1997)",
           1997,
           16
          ],
          [
           1281,
           "Manny & Lo (1996)",
           1996,
           13
          ],
          [
           1282,
           "Grass Harp, The (1995)",
           1996,
           9
          ],
          [
           1283,
           "Out to Sea (1997)",
           1997,
           19
          ],
          [
           1284,
           "Before and After (1996)",
           1996,
           26
          ],
          [
           1285,
           "Princess Caraboo (1994)",
           1994,
           15
          ],
          [
           1286,
           "Shall We Dance? (1937)",
           1937,
           17
          ],
          [
           1287,
           "Ed (1996)",
           1996,
           6
          ],
          [
           1288,
           "Denise Calls Up (1995)",
           1996,
           7
          ],
          [
           1289,
           "Jack and Sarah (1995)",
           1996,
           7
          ],
          [
           1290,
           "Country Life (1994)",
           1994,
           2
          ],
          [
           1291,
           "Celtic Pride (1996)",
           1996,
           15
          ],
          [
           1292,
           "Simple Wish, A (1997)",
           1997,
           3
          ],
          [
           1293,
           "Star Kid (1997)",
           1998,
           3
          ],
          [
           1294,
           "Ayn Rand: A Sense of Life (1997)",
           1998,
           7
          ],
          [
           1295,
           "Kicked in the Head (1997)",
           1997,
           7
          ],
          [
           1296,
           "Indian Summer (1996)",
           1996,
           20
          ],
          [
           1297,
           "Love Affair (1994)",
           1994,
           12
          ],
          [
           1298,
           "Band Wagon, The (1953)",
           1953,
           9
          ],
          [
           1299,
           "Penny Serenade (1941)",
           1941,
           8
          ],
          [
           1300,
           "'Til There Was You (1997)",
           1997,
           9
          ],
          [
           1301,
           "Stripes (1981)",
           1981,
           5
          ],
          [
           1302,
           "Late Bloomers (1996)",
           1997,
           5
          ],
          [
           1303,
           "Getaway, The (1994)",
           1994,
           18
          ],
          [
           1304,
           "New York Cop (1996)",
           1996,
           2
          ],
          [
           1305,
           "National Lampoon's Senior Trip (1995)",
           1995,
           7
          ],
          [
           1306,
           "Delta of Venus (1994)",
           1994,
           2
          ],
          [
           1307,
           "Carmen Miranda: Bananas Is My Business (1994)",
           1994,
           2
          ],
          [
           1308,
           "Babyfever (1994)",
           1994,
           2
          ],
          [
           1309,
           "Very Natural Thing, A (1974)",
           1974,
           1
          ],
          [
           1310,
           "Walk in the Sun, A (1945)",
           1945,
           1
          ],
          [
           1311,
           "Waiting to Exhale (1995)",
           1996,
           16
          ],
          [
           1312,
           "Pompatus of Love, The (1996)",
           1996,
           7
          ],
          [
           1313,
           "Palmetto (1998)",
           1998,
           14
          ],
          [
           1314,
           "Surviving the Game (1994)",
           1994,
           11
          ],
          [
           1315,
           "Inventing the Abbotts (1997)",
           1997,
           23
          ],
          [
           1316,
           "Horse Whisperer, The (1998)",
           1997,
           7
          ],
          [
           1317,
           "Journey of August King, The (1995)",
           1996,
           4
          ],
          [
           1318,
           "Catwalk (1995)",
           1996,
           3
          ],
          [
           1319,
           "Neon Bible, The (1995)",
           1996,
           4
          ],
          [
           1320,
           "Homage (1995)",
           1996,
           1
          ],
          [
           1321,
           "Open Season (1996)",
           1996,
           2
          ],
          [
           1322,
           "Metisse (Café au Lait) (1993)",
           1993,
           6
          ],
          [
           1323,
           "Wooden Man's Bride, The (Wu Kui) (1994)",
           1994,
           3
          ],
          [
           1324,
           "Loaded (1994)",
           1996,
           5
          ],
          [
           1325,
           "August (1996)",
           1996,
           1
          ],
          [
           1326,
           "Boys (1996)",
           1996,
           6
          ],
          [
           1327,
           "Captives (1994)",
           1994,
           3
          ],
          [
           1328,
           "Of Love and Shadows (1994)",
           1996,
           6
          ],
          [
           1329,
           "Low Life, The (1994)",
           1996,
           1
          ],
          [
           1330,
           "An Unforgettable Summer (1994)",
           1994,
           4
          ],
          [
           1331,
           "Last Klezmer: Leopold Kozlowski, His Life and Music, The (1995)",
           1995,
           4
          ],
          [
           1332,
           "My Life and Times With Antonin Artaud (En compagnie d'Antonin Artaud) (1993)",
           1993,
           2
          ],
          [
           1333,
           "Midnight Dancers (Sibak) (1994)",
           1994,
           5
          ],
          [
           1334,
           "Somebody to Love (1994)",
           1996,
           2
          ],
          [
           1335,
           "American Buffalo (1996)",
           1996,
           11
          ],
          [
           1336,
           "Kazaam (1996)",
           1996,
           10
          ],
          [
           1337,
           "Larger Than Life (1996)",
           1996,
           9
          ],
          [
           1338,
           "Two Deaths (1995)",
           1996,
           4
          ],
          [
           1339,
           "Stefano Quantestorie (1993)",
           1993,
           1
          ],
          [
           1340,
           "Crude Oasis, The (1995)",
           1995,
           1
          ],
          [
           1341,
           "Hedd Wyn (1992)",
           1992,
           1
          ],
          [
           1342,
           "Convent, The (Convento, O) (1995)",
           1996,
           2
          ],
          [
           1343,
           "Lotto Land (1995)",
           1995,
           1
          ],
          [
           1344,
           "Story of Xinghua, The (1993)",
           1993,
           5
          ],
          [
           1345,
           "Day the Sun Turned Cold, The (Tianguo niezi) (1994)",
           1994,
           2
          ],
          [
           1346,
           "Dingo (1992)",
           1992,
           5
          ],
          [
           1347,
           "Ballad of Narayama, The (Narayama Bushiko) (1958)",
           1958,
           4
          ],
          [
           1348,
           "Every Other Weekend (1990)",
           1990,
           1
          ],
          [
           1349,
           "Mille bolle blu (1993)",
           1993,
           1
          ],
          [
           1350,
           "Crows and Sparrows (1949)",
           1949,
           2
          ],
          [
           1351,
           "Lover's Knot (1996)",
           1996,
           3
          ],
          [
           1352,
           "Shadow of Angels (Schatten der Engel) (1976)",
           1976,
           1
          ],
          [
           1353,
           "1-900 (1994)",
           1994,
           5
          ],
          [
           1354,
           "Venice/Venice (1992)",
           1992,
           2
          ],
          [
           1355,
           "Infinity (1996)",
           1996,
           6
          ],
          [
           1356,
           "Ed's Next Move (1996)",
           1996,
           3
          ],
          [
           1357,
           "For the Moment (1994)",
           1994,
           3
          ],
          [
           1358,
           "The Deadly Cure (1996)",
           1996,
           2
          ],
          [
           1359,
           "Boys in Venice (1996)",
           1996,
           2
          ],
          [
           1360,
           "Sexual Life of the Belgians, The (1994)",
           1994,
           2
          ],
          [
           1361,
           "Search for One-eye Jimmy, The (1996)",
           1996,
           3
          ],
          [
           1362,
           "American Strays (1996)",
           1996,
           2
          ],
          [
           1363,
           "Leopard Son, The (1996)",
           1996,
           1
          ],
          [
           1364,
           "Bird of Prey (1996)",
           1996,
           1
          ],
          [
           1365,
           "Johnny 100 Pesos (1993)",
           1993,
           2
          ],
          [
           1366,
           "JLG/JLG - autoportrait de décembre (1994)",
           1994,
           1
          ],
          [
           1367,
           "Faust (1994)",
           1994,
           5
          ],
          [
           1368,
           "Mina Tannenbaum (1994)",
           1994,
           6
          ],
          [
           1369,
           "Forbidden Christ, The (Cristo proibito, Il) (1950)",
           1950,
           4
          ],
          [
           1370,
           "I Can't Sleep (J'ai pas sommeil) (1994)",
           1994,
           3
          ],
          [
           1371,
           "Machine, The (1994)",
           1994,
           2
          ],
          [
           1372,
           "Stranger, The (1994)",
           1994,
           3
          ],
          [
           1373,
           "Good Morning (1971)",
           1971,
           1
          ],
          [
           1374,
           "Falling in Love Again (1980)",
           1980,
           2
          ],
          [
           1375,
           "Cement Garden, The (1993)",
           1993,
           10
          ],
          [
           1376,
           "Meet Wally Sparks (1997)",
           1997,
           7
          ],
          [
           1377,
           "Hotel de Love (1996)",
           1997,
           4
          ],
          [
           1378,
           "Rhyme & Reason (1997)",
           1997,
           5
          ],
          [
           1379,
           "Love and Other Catastrophes (1996)",
           1997,
           7
          ],
          [
           1380,
           "Hollow Reed (1996)",
           1997,
           6
          ],
          [
           1381,
           "Losing Chase (1996)",
           1996,
           8
          ],
          [
           1382,
           "Bonheur, Le (1965)",
           1997,
           4
          ],
          [
           1383,
           "Second Jungle Book: Mowgli & Baloo, The (1997)",
           1997,
           6
          ],
          [
           1384,
           "Squeeze (1996)",
           1997,
           3
          ],
          [
           1385,
           "Roseanna's Grave (For Roseanna) (1997)",
           1997,
           5
          ],
          [
           1386,
           "Tetsuo II: Body Hammer (1992)",
           1997,
           6
          ],
          [
           1387,
           "Fall (1997)",
           1997,
           3
          ],
          [
           1388,
           "Gabbeh (1996)",
           1997,
           6
          ],
          [
           1389,
           "Mondo (1996)",
           1997,
           3
          ],
          [
           1390,
           "Innocent Sleep, The (1995)",
           1997,
           2
          ],
          [
           1391,
           "For Ever Mozart (1996)",
           1997,
           3
          ],
          [
           1392,
           "Locusts, The (1997)",
           1997,
           5
          ],
          [
           1393,
           "Stag (1997)",
           1997,
           9
          ],
          [
           1394,
           "Swept from the Sea (1997)",
           1997,
           7
          ],
          [
           1395,
           "Hurricane Streets (1998)",
           1998,
           6
          ],
          [
           1396,
           "Stonewall (1995)",
           1996,
           5
          ],
          [
           1397,
           "Of Human Bondage (1934)",
           1934,
           5
          ],
          [
           1398,
           "Anna (1996)",
           1996,
           2
          ],
          [
           1399,
           "Stranger in the House (1997)",
           1997,
           7
          ],
          [
           1400,
           "Picture Bride (1995)",
           1995,
           10
          ],
          [
           1401,
           "M. Butterfly (1993)",
           1993,
           18
          ],
          [
           1402,
           "Ciao, Professore! (1993)",
           1993,
           4
          ],
          [
           1403,
           "Caro Diario (Dear Diary) (1994)",
           1994,
           4
          ],
          [
           1404,
           "Withnail and I (1987)",
           1987,
           13
          ],
          [
           1405,
           "Boy's Life 2 (1997)",
           1997,
           6
          ],
          [
           1406,
           "When Night Is Falling (1995)",
           1995,
           5
          ],
          [
           1407,
           "Specialist, The (1994)",
           1994,
           20
          ],
          [
           1408,
           "Gordy (1995)",
           1995,
           3
          ],
          [
           1409,
           "Swan Princess, The (1994)",
           1994,
           7
          ],
          [
           1410,
           "Harlem (1993)",
           1993,
           4
          ],
          [
           1411,
           "Barbarella (1968)",
           1968,
           28
          ],
          [
           1412,
           "Land Before Time III: The Time of the Great Giving (1995) (V)",
           1995,
           6
          ],
          [
           1413,
           "Street Fighter (1994)",
           1994,
           8
          ],
          [
           1414,
           "Coldblooded (1995)",
           1995,
           1
          ],
          [
           1415,
           "Next Karate Kid, The (1994)",
           1994,
           9
          ],
          [
           1416,
           "No Escape (1994)",
           1994,
           5
          ],
          [
           1417,
           "Turning, The (1992)",
           1997,
           2
          ],
          [
           1418,
           "Joy Luck Club, The (1993)",
           1993,
           3
          ],
          [
           1419,
           "Highlander III: The Sorcerer (1994)",
           1994,
           16
          ],
          [
           1420,
           "Gilligan's Island: The Movie (1998)",
           1997,
           3
          ],
          [
           1421,
           "My Crazy Life (Mi vida loca) (1993)",
           1993,
           11
          ],
          [
           1422,
           "Suture (1993)",
           1993,
           4
          ],
          [
           1423,
           "Walking Dead, The (1995)",
           1995,
           4
          ],
          [
           1424,
           "I Like It Like That (1994)",
           1994,
           3
          ],
          [
           1425,
           "I'll Do Anything (1994)",
           1994,
           10
          ],
          [
           1426,
           "Grace of My Heart (1996)",
           1996,
           8
          ],
          [
           1427,
           "Drunks (1995)",
           1996,
           5
          ],
          [
           1428,
           "SubUrbia (1997)",
           1997,
           12
          ],
          [
           1429,
           "Sliding Doors (1998)",
           1998,
           4
          ],
          [
           1430,
           "Ill Gotten Gains (1997)",
           1997,
           3
          ],
          [
           1431,
           "Legal Deceit (1997)",
           1997,
           5
          ],
          [
           1432,
           "Mighty, The (1998)",
           1998,
           3
          ],
          [
           1433,
           "Men of Means (1998)",
           1997,
           2
          ],
          [
           1434,
           "Shooting Fish (1997)",
           1998,
           10
          ],
          [
           1435,
           "Steal Big, Steal Little (1995)",
           1995,
           7
          ],
          [
           1436,
           "Mr. Jones (1993)",
           1993,
           2
          ],
          [
           1437,
           "House Party 3 (1994)",
           1994,
           9
          ],
          [
           1438,
           "Panther (1995)",
           1995,
           5
          ],
          [
           1439,
           "Jason's Lyric (1994)",
           1994,
           8
          ],
          [
           1440,
           "Above the Rim (1994)",
           1994,
           5
          ],
          [
           1441,
           "Moonlight and Valentino (1995)",
           1995,
           7
          ],
          [
           1442,
           "Scarlet Letter, The (1995)",
           1995,
           5
          ],
          [
           1443,
           "8 Seconds (1994)",
           1994,
           4
          ],
          [
           1444,
           "That Darn Cat! (1965)",
           1965,
           19
          ],
          [
           1445,
           "Ladybird Ladybird (1994)",
           1994,
           4
          ],
          [
           1446,
           "Bye Bye, Love (1995)",
           1995,
           15
          ],
          [
           1447,
           "Century (1993)",
           1993,
           1
          ],
          [
           1448,
           "My Favorite Season (1993)",
           1996,
           3
          ],
          [
           1449,
           "Pather Panchali (1955)",
           1996,
           8
          ],
          [
           1450,
           "Golden Earrings (1947)",
           1947,
           2
          ],
          [
           1451,
           "Foreign Correspondent (1940)",
           1940,
           15
          ],
          [
           1452,
           "Lady of Burlesque (1943)",
           1943,
           1
          ],
          [
           1453,
           "Angel on My Shoulder (1946)",
           1946,
           1
          ],
          [
           1454,
           "Angel and the Badman (1947)",
           1947,
           6
          ],
          [
           1455,
           "Outlaw, The (1943)",
           1943,
           2
          ],
          [
           1456,
           "Beat the Devil (1954)",
           1954,
           7
          ],
          [
           1457,
           "Love Is All There Is (1996)",
           1996,
           1
          ],
          [
           1458,
           "Damsel in Distress, A (1937)",
           1937,
           1
          ],
          [
           1459,
           "Madame Butterfly (1995)",
           1996,
           7
          ],
          [
           1460,
           "Sleepover (1995)",
           1996,
           1
          ],
          [
           1461,
           "Here Comes Cookie (1935)",
           1935,
           1
          ],
          [
           1462,
           "Thieves (Voleurs, Les) (1996)",
           1996,
           7
          ],
          [
           1463,
           "Boys, Les (1997)",
           1997,
           3
          ],
          [
           1464,
           "Stars Fell on Henrietta, The (1995)",
           1995,
           3
          ],
          [
           1465,
           "Last Summer in the Hamptons (1995)",
           1995,
           3
          ],
          [
           1466,
           "Margaret's Museum (1995)",
           1995,
           6
          ],
          [
           1467,
           "Saint of Fort Washington, The (1993)",
           1993,
           2
          ],
          [
           1468,
           "Cure, The (1995)",
           1995,
           6
          ],
          [
           1469,
           "Tom and Huck (1995)",
           1995,
           12
          ],
          [
           1470,
           "Gumby: The Movie (1995)",
           1995,
           5
          ],
          [
           1471,
           "Hideaway (1995)",
           1995,
           9
          ],
          [
           1472,
           "Visitors, The (Visiteurs, Les) (1993)",
           1996,
           2
          ],
          [
           1473,
           "Little Princess, The (1939)",
           1939,
           9
          ],
          [
           1474,
           "Nina Takes a Lover (1994)",
           1994,
           6
          ],
          [
           1475,
           "Bhaji on the Beach (1993)",
           1993,
           8
          ],
          [
           1476,
           "Raw Deal (1948)",
           1948,
           1
          ],
          [
           1477,
           "Nightwatch (1997)",
           1997,
           2
          ],
          [
           1478,
           "Dead Presidents (1995)",
           1995,
           18
          ],
          [
           1479,
           "Reckless (1995)",
           1995,
           8
          ],
          [
           1480,
           "Herbie Rides Again (1974)",
           1974,
           11
          ],
          [
           1481,
           "S.F.W. (1994)",
           1994,
           2
          ],
          [
           1482,
           "Gate of Heavenly Peace, The (1995)",
           1996,
           1
          ],
          [
           1483,
           "Man in the Iron Mask, The (1998)",
           1998,
           12
          ],
          [
           1484,
           "Jerky Boys, The (1994)",
           1994,
           3
          ],
          [
           1485,
           "Colonel Chabert, Le (1994)",
           1994,
           4
          ],
          [
           1486,
           "Girl in the Cadillac (1995)",
           1995,
           1
          ],
          [
           1487,
           "Even Cowgirls Get the Blues (1993)",
           1993,
           5
          ],
          [
           1488,
           "Germinal (1993)",
           1993,
           4
          ],
          [
           1489,
           "Chasers (1994)",
           1994,
           5
          ],
          [
           1490,
           "Fausto (1993)",
           1993,
           3
          ],
          [
           1491,
           "Tough and Deadly (1995)",
           1995,
           2
          ],
          [
           1492,
           "Window to Paris (1994)",
           1994,
           1
          ],
          [
           1493,
           "Modern Affair, A (1995)",
           1996,
           1
          ],
          [
           1494,
           "Mostro, Il (1994)",
           1996,
           1
          ],
          [
           1495,
           "Flirt (1995)",
           1996,
           5
          ],
          [
           1496,
           "Carpool (1996)",
           1996,
           5
          ],
          [
           1497,
           "Line King: Al Hirschfeld, The (1996)",
           1996,
           2
          ],
          [
           1498,
           "Farmer & Chase (1995)",
           1997,
           1
          ],
          [
           1499,
           "Grosse Fatigue (1994)",
           1994,
           4
          ],
          [
           1500,
           "Santa with Muscles (1996)",
           1996,
           2
          ],
          [
           1501,
           "Prisoner of the Mountains (Kavkazsky Plennik) (1996)",
           1997,
           5
          ],
          [
           1502,
           "Naked in New York (1994)",
           1994,
           2
          ],
          [
           1503,
           "Gold Diggers: The Secret of Bear Mountain (1995)",
           1995,
           10
          ],
          [
           1504,
           "Bewegte Mann, Der (1994)",
           1996,
           3
          ],
          [
           1505,
           "Killer: A Journal of Murder (1995)",
           1996,
           1
          ],
          [
           1506,
           "Nelly & Monsieur Arnaud (1995)",
           1996,
           3
          ],
          [
           1507,
           "Three Lives and Only One Death (1996)",
           1996,
           1
          ],
          [
           1508,
           "Babysitter, The (1995)",
           1995,
           3
          ],
          [
           1509,
           "Getting Even with Dad (1994)",
           1994,
           5
          ],
          [
           1510,
           "Mad Dog Time (1996)",
           1996,
           1
          ],
          [
           1511,
           "Children of the Revolution (1996)",
           1997,
           5
          ],
          [
           1512,
           "World of Apu, The (Apur Sansar) (1959)",
           1996,
           6
          ],
          [
           1513,
           "Sprung (1997)",
           1997,
           3
          ],
          [
           1514,
           "Dream With the Fishes (1997)",
           1997,
           7
          ],
          [
           1515,
           "Wings of Courage (1995)",
           1995,
           1
          ],
          [
           1516,
           "Wedding Gift, The (1994)",
           1994,
           3
          ],
          [
           1517,
           "Race the Sun (1996)",
           1996,
           5
          ],
          [
           1518,
           "Losing Isaiah (1995)",
           1995,
           12
          ],
          [
           1519,
           "New Jersey Drive (1995)",
           1995,
           2
          ],
          [
           1520,
           "Fear, The (1995)",
           1995,
           1
          ],
          [
           1521,
           "Mr. Wonderful (1993)",
           1993,
           4
          ],
          [
           1522,
           "Trial by Jury (1994)",
           1994,
           7
          ],
          [
           1523,
           "Good Man in Africa, A (1994)",
           1994,
           2
          ],
          [
           1524,
           "Kaspar Hauser (1993)",
           1996,
           8
          ],
          [
           1525,
           "Object of My Affection, The (1998)",
           1998,
           1
          ],
          [
           1526,
           "Witness (1985)",
           1985,
           1
          ],
          [
           1527,
           "Senseless (1998)",
           1998,
           7
          ],
          [
           1528,
           "Nowhere (1997)",
           1997,
           3
          ],
          [
           1529,
           "Underground (1995)",
           1996,
           5
          ],
          [
           1530,
           "Jefferson in Paris (1995)",
           1995,
           5
          ],
          [
           1531,
           "Far From Home: The Adventures of Yellow Dog (1995)",
           1995,
           7
          ],
          [
           1532,
           "Foreign Student (1994)",
           1994,
           2
          ],
          [
           1533,
           "I Don't Want to Talk About It (De eso no se habla) (1993)",
           1993,
           1
          ],
          [
           1534,
           "Twin Town (1997)",
           1997,
           6
          ],
          [
           1535,
           "Enfer, L' (1994)",
           1994,
           4
          ],
          [
           1536,
           "Aiqing wansui (1994)",
           1996,
           1
          ],
          [
           1537,
           "Cosi (1996)",
           1997,
           4
          ],
          [
           1538,
           "All Over Me (1997)",
           1997,
           3
          ],
          [
           1539,
           "Being Human (1993)",
           1993,
           4
          ],
          [
           1540,
           "Amazing Panda Adventure, The (1995)",
           1995,
           10
          ],
          [
           1541,
           "Beans of Egypt, Maine, The (1994)",
           1994,
           2
          ],
          [
           1542,
           "Scarlet Letter, The (1926)",
           1926,
           2
          ],
          [
           1543,
           "Johns (1996)",
           1996,
           1
          ],
          [
           1544,
           "It Takes Two (1995)",
           1995,
           3
          ],
          [
           1545,
           "Frankie Starlight (1995)",
           1995,
           4
          ],
          [
           1546,
           "Shadows (Cienie) (1988)",
           1988,
           1
          ],
          [
           1547,
           "Show, The (1995)",
           1995,
           2
          ],
          [
           1548,
           "The Courtyard (1995)",
           1995,
           1
          ],
          [
           1549,
           "Dream Man (1995)",
           1995,
           2
          ],
          [
           1550,
           "Destiny Turns on the Radio (1995)",
           1995,
           2
          ],
          [
           1551,
           "Glass Shield, The (1994)",
           1994,
           2
          ],
          [
           1552,
           "Hunted, The (1995)",
           1995,
           3
          ],
          [
           1553,
           "Underneath, The (1995)",
           1995,
           4
          ],
          [
           1554,
           "Safe Passage (1994)",
           1994,
           2
          ],
          [
           1555,
           "Secret Adventures of Tom Thumb, The (1993)",
           1993,
           5
          ],
          [
           1556,
           "Condition Red (1995)",
           1995,
           2
          ],
          [
           1557,
           "Yankee Zulu (1994)",
           1996,
           1
          ],
          [
           1558,
           "Aparajito (1956)",
           1996,
           7
          ],
          [
           1559,
           "Hostile Intentions (1994)",
           1994,
           1
          ],
          [
           1560,
           "Clean Slate (Coup de Torchon) (1981)",
           1981,
           4
          ],
          [
           1561,
           "Tigrero: A Film That Was Never Made (1994)",
           1994,
           1
          ],
          [
           1562,
           "Eye of Vichy, The (Oeil de Vichy, L') (1993)",
           1993,
           1
          ],
          [
           1563,
           "Promise, The (Versprechen, Das) (1994)",
           1994,
           1
          ],
          [
           1564,
           "To Cross the Rubicon (1991)",
           1991,
           1
          ],
          [
           1565,
           "Daens (1992)",
           1992,
           1
          ],
          [
           1566,
           "Man from Down Under, The (1943)",
           1943,
           1
          ],
          [
           1567,
           "Careful (1992)",
           1992,
           1
          ],
          [
           1568,
           "Vermont Is For Lovers (1992)",
           1992,
           1
          ],
          [
           1569,
           "Vie est belle, La (Life is Rosey) (1987)",
           1987,
           1
          ],
          [
           1570,
           "Quartier Mozart (1992)",
           1992,
           1
          ],
          [
           1571,
           "Touki Bouki (Journey of the Hyena) (1973)",
           1973,
           1
          ],
          [
           1572,
           "Wend Kuuni (God's Gift) (1982)",
           1982,
           1
          ],
          [
           1573,
           "Spirits of the Dead (Tre passi nel delirio) (1968)",
           1968,
           2
          ],
          [
           1574,
           "Pharaoh's Army (1995)",
           1995,
           1
          ],
          [
           1575,
           "I, Worst of All (Yo, la peor de todas) (1990)",
           1990,
           1
          ],
          [
           1576,
           "Hungarian Fairy Tale, A (1987)",
           1987,
           1
          ],
          [
           1577,
           "Death in the Garden (Mort en ce jardin, La) (1956)",
           1956,
           1
          ],
          [
           1578,
           "Collectionneuse, La (1967)",
           1967,
           2
          ],
          [
           1579,
           "Baton Rouge (1988)",
           1988,
           1
          ],
          [
           1580,
           "Liebelei (1933)",
           1933,
           1
          ],
          [
           1581,
           "Woman in Question, The (1950)",
           1950,
           1
          ],
          [
           1582,
           "T-Men (1947)",
           1947,
           1
          ],
          [
           1583,
           "Invitation, The (Zaproszenie) (1986)",
           1986,
           1
          ],
          [
           1584,
           "Symphonie pastorale, La (1946)",
           1946,
           1
          ],
          [
           1585,
           "American Dream (1990)",
           1990,
           2
          ],
          [
           1586,
           "Lashou shentan (1992)",
           1992,
           1
          ],
          [
           1587,
           "Terror in a Texas Town (1958)",
           1958,
           1
          ],
          [
           1588,
           "Salut cousin! (1996)",
           1997,
           2
          ],
          [
           1589,
           "Schizopolis (1996)",
           1997,
           4
          ],
          [
           1590,
           "To Have, or Not (1995)",
           1997,
           2
          ],
          [
           1591,
           "Duoluo tianshi (1995)",
           1998,
           6
          ],
          [
           1592,
           "Magic Hour, The (1998)",
           1998,
           5
          ],
          [
           1593,
           "Death in Brunswick (1991)",
           1996,
           1
          ],
          [
           1594,
           "Everest (1998)",
           1998,
           2
          ],
          [
           1595,
           "Shopping (1994)",
           1996,
           1
          ],
          [
           1596,
           "Nemesis 2: Nebula (1995)",
           1995,
           1
          ],
          [
           1597,
           "Romper Stomper (1992)",
           1992,
           5
          ],
          [
           1598,
           "City of Industry (1997)",
           1997,
           6
          ],
          [
           1599,
           "Someone Else's America (1995)",
           1996,
           1
          ],
          [
           1600,
           "Guantanamera (1994)",
           1997,
           4
          ],
          [
           1601,
           "Office Killer (1997)",
           1997,
           1
          ],
          [
           1602,
           "Price Above Rubies, A (1998)",
           1998,
           3
          ],
          [
           1603,
           "Angela (1995)",
           1996,
           1
          ],
          [
           1604,
           "He Walked by Night (1948)",
           1948,
           1
          ],
          [
           1605,
           "Love Serenade (1996)",
           1997,
           4
          ],
          [
           1606,
           "Deceiver (1997)",
           1997,
           1
          ],
          [
           1607,
           "Hurricane Streets (1998)",
           1998,
           3
          ],
          [
           1608,
           "Buddy (1997)",
           1997,
           4
          ],
          [
           1609,
           "B*A*P*S (1997)",
           1997,
           3
          ],
          [
           1610,
           "Truth or Consequences, N.M. (1997)",
           1997,
           3
          ],
          [
           1611,
           "Intimate Relations (1996)",
           1997,
           2
          ],
          [
           1612,
           "Leading Man, The (1996)",
           1998,
           4
          ],
          [
           1613,
           "Tokyo Fist (1995)",
           1998,
           1
          ],
          [
           1614,
           "Reluctant Debutante, The (1958)",
           1958,
           1
          ],
          [
           1615,
           "Warriors of Virtue (1997)",
           1997,
           10
          ],
          [
           1616,
           "Desert Winds (1995)",
           1995,
           1
          ],
          [
           1617,
           "Hugo Pool (1997)",
           1997,
           2
          ],
          [
           1618,
           "King of New York (1990)",
           1990,
           1
          ],
          [
           1619,
           "All Things Fair (1996)",
           1996,
           1
          ],
          [
           1620,
           "Sixth Man, The (1997)",
           1997,
           9
          ],
          [
           1621,
           "Butterfly Kiss (1995)",
           1996,
           1
          ],
          [
           1622,
           "Paris, France (1993)",
           1993,
           3
          ],
          [
           1623,
           "Cérémonie, La (1995)",
           1996,
           3
          ],
          [
           1624,
           "Hush (1998)",
           1998,
           1
          ],
          [
           1625,
           "Nightwatch (1997)",
           1997,
           1
          ],
          [
           1626,
           "Nobody Loves Me (Keiner liebt mich) (1994)",
           1996,
           1
          ],
          [
           1627,
           "Wife, The (1995)",
           1996,
           1
          ],
          [
           1628,
           "Lamerica (1994)",
           1994,
           4
          ],
          [
           1629,
           "Nico Icon (1995)",
           1995,
           2
          ],
          [
           1630,
           "Silence of the Palace, The (Saimt el Qusur) (1994)",
           1996,
           1
          ],
          [
           1631,
           "Slingshot, The (1993)",
           1993,
           2
          ],
          [
           1632,
           "Land and Freedom (Tierra y libertad) (1995)",
           1996,
           1
          ],
          [
           1633,
           "Á köldum klaka (Cold Fever) (1994)",
           1996,
           1
          ],
          [
           1634,
           "Etz Hadomim Tafus (Under the Domin Tree) (1994)",
           1996,
           1
          ],
          [
           1635,
           "Two Friends (1986) ",
           1986,
           1
          ],
          [
           1636,
           "Brothers in Trouble (1995)",
           1996,
           1
          ],
          [
           1637,
           "Girls Town (1996)",
           1996,
           1
          ],
          [
           1638,
           "Normal Life (1996)",
           1996,
           1
          ],
          [
           1639,
           "Bitter Sugar (Azucar Amargo) (1996)",
           1996,
           3
          ],
          [
           1640,
           "Eighth Day, The (1996)",
           1996,
           1
          ],
          [
           1641,
           "Dadetown (1995)",
           1996,
           1
          ],
          [
           1642,
           "Some Mother's Son (1996)",
           1996,
           2
          ],
          [
           1643,
           "Angel Baby (1995)",
           1997,
           4
          ],
          [
           1644,
           "Sudden Manhattan (1996)",
           1997,
           2
          ],
          [
           1645,
           "Butcher Boy, The (1998)",
           1998,
           1
          ],
          [
           1646,
           "Men With Guns (1997)",
           1998,
           2
          ],
          [
           1647,
           "Hana-bi (1997)",
           1998,
           1
          ],
          [
           1648,
           "Niagara, Niagara (1997)",
           1998,
           1
          ],
          [
           1649,
           "Big One, The (1997)",
           1998,
           1
          ],
          [
           1650,
           "Butcher Boy, The (1998)",
           1998,
           1
          ],
          [
           1651,
           "Spanish Prisoner, The (1997)",
           1998,
           1
          ],
          [
           1652,
           "Temptress Moon (Feng Yue) (1996)",
           1997,
           3
          ],
          [
           1653,
           "Entertaining Angels: The Dorothy Day Story (1996)",
           1996,
           1
          ],
          [
           1654,
           "Chairman of the Board (1998)",
           1998,
           1
          ],
          [
           1655,
           "Favor, The (1994)",
           1994,
           1
          ],
          [
           1656,
           "Little City (1998)",
           1998,
           2
          ],
          [
           1657,
           "Target (1995)",
           1996,
           1
          ],
          [
           1658,
           "Substance of Fire, The (1996)",
           1996,
           3
          ],
          [
           1659,
           "Getting Away With Murder (1996)",
           1996,
           1
          ],
          [
           1660,
           "Small Faces (1995)",
           1996,
           1
          ],
          [
           1661,
           "New Age, The (1994)",
           1994,
           1
          ],
          [
           1662,
           "Rough Magic (1995)",
           1997,
           2
          ],
          [
           1663,
           "Nothing Personal (1995)",
           1997,
           1
          ],
          [
           1664,
           "8 Heads in a Duffel Bag (1997)",
           1997,
           4
          ],
          [
           1665,
           "Brother's Kiss, A (1997)",
           1997,
           1
          ],
          [
           1666,
           "Ripe (1996)",
           1997,
           1
          ],
          [
           1667,
           "Next Step, The (1995)",
           1997,
           1
          ],
          [
           1668,
           "Wedding Bell Blues (1996)",
           1997,
           1
          ],
          [
           1669,
           "MURDER and murder (1996)",
           1997,
           1
          ],
          [
           1670,
           "Tainted (1998)",
           1998,
           1
          ],
          [
           1671,
           "Further Gesture, A (1996)",
           1998,
           1
          ],
          [
           1672,
           "Kika (1993)",
           1993,
           2
          ],
          [
           1673,
           "Mirage (1995)",
           1995,
           1
          ],
          [
           1674,
           "Mamma Roma (1962)",
           1962,
           1
          ],
          [
           1675,
           "Sunchaser, The (1996)",
           1996,
           1
          ],
          [
           1676,
           "War at Home, The (1996)",
           1996,
           1
          ],
          [
           1677,
           "Sweet Nothing (1995)",
           1996,
           1
          ],
          [
           1678,
           "Mat' i syn (1997)",
           1998,
           1
          ],
          [
           1679,
           "B. Monkey (1998)",
           1998,
           1
          ],
          [
           1680,
           "Sliding Doors (1998)",
           1998,
           1
          ],
          [
           1681,
           "You So Crazy (1994)",
           1994,
           1
          ],
          [
           1682,
           "Scream of Stone (Schrei aus Stein) (1991)",
           1996,
           1
          ]
         ],
         "hovertemplate": "tsne_1=%{x}<br>tsne_2=%{y}<br>item_id=%{customdata[0]}<br>title=%{customdata[1]}<br>release_year=%{customdata[2]}<br>popularity=%{marker.color}<extra></extra>",
         "legendgroup": "",
         "marker": {
          "color": [
           452,
           131,
           90,
           209,
           86,
           26,
           392,
           219,
           299,
           89,
           236,
           267,
           184,
           183,
           293,
           39,
           92,
           10,
           69,
           72,
           84,
           297,
           182,
           174,
           293,
           73,
           57,
           276,
           114,
           37,
           154,
           81,
           97,
           7,
           11,
           13,
           8,
           120,
           87,
           57,
           37,
           148,
           40,
           79,
           80,
           27,
           133,
           117,
           81,
           583,
           81,
           91,
           128,
           104,
           149,
           394,
           40,
           175,
           83,
           64,
           59,
           127,
           82,
           283,
           115,
           162,
           103,
           134,
           321,
           251,
           220,
           129,
           128,
           7,
           5,
           54,
           151,
           33,
           336,
           68,
           110,
           261,
           176,
           18,
           58,
           150,
           138,
           213,
           275,
           95,
           143,
           104,
           112,
           137,
           219,
           295,
           256,
           390,
           172,
           508,
           73,
           54,
           15,
           5,
           74,
           71,
           42,
           65,
           130,
           31,
           272,
           20,
           9,
           67,
           15,
           125,
           378,
           293,
           4,
           67,
           429,
           106,
           115,
           187,
           244,
           97,
           413,
           65,
           129,
           23,
           95,
           246,
           171,
           198,
           259,
           105,
           171,
           19,
           50,
           61,
           72,
           57,
           222,
           243,
           65,
           10,
           185,
           128,
           23,
           157,
           326,
           82,
           247,
           174,
           98,
           148,
           127,
           60,
           101,
           69,
           220,
           106,
           92,
           151,
           64,
           58,
           67,
           316,
           118,
           121,
           65,
           367,
           324,
           420,
           208,
           284,
           137,
           125,
           221,
           221,
           507,
           226,
           291,
           116,
           239,
           251,
           209,
           170,
           66,
           124,
           276,
           116,
           157,
           241,
           301,
           251,
           239,
           127,
           165,
           206,
           89,
           280,
           182,
           350,
           136,
           50,
           66,
           200,
           191,
           331,
           206,
           92,
           134,
           114,
           212,
           290,
           120,
           171,
           111,
           66,
           74,
           365,
           136,
           44,
           109,
           166,
           161,
           244,
           171,
           199,
           142,
           101,
           124,
           280,
           217,
           45,
           384,
           256,
           150,
           156,
           128,
           117,
           132,
           48,
           240,
           124,
           5,
           160,
           130,
           197,
           46,
           158,
           26,
           62,
           172,
           16,
           303,
           509,
           162,
           127,
           43,
           66,
           19,
           101,
           227,
           35,
           9,
           255,
           315,
           136,
           211,
           198,
           223,
           190,
           268,
           298,
           71,
           60,
           28,
           85,
           146,
           232,
           177,
           193,
           162,
           481,
           78,
           478,
           259,
           96,
           127,
           114,
           147,
           485,
           77,
           6,
           50,
           194,
           73,
           431,
           230,
           297,
           134,
           149,
           87,
           96,
           188,
           30,
           28,
           145,
           75,
           80,
           350,
           5,
           160,
           112,
           102,
           298,
           168,
           20,
           169,
           218,
           240,
           125,
           128,
           175,
           175,
           295,
           45,
           41,
           113,
           143,
           251,
           64,
           21,
           43,
           18,
           91,
           47,
           189,
           11,
           52,
           124,
           55,
           65,
           126,
           137,
           27,
           31,
           41,
           20,
           26,
           14,
           72,
           41,
           97,
           264,
           143,
           18,
           10,
           10,
           28,
           47,
           37,
           48,
           47,
           170,
           31,
           55,
           39,
           67,
           34,
           39,
           11,
           23,
           24,
           13,
           101,
           43,
           116,
           100,
           111,
           31,
           69,
           208,
           87,
           65,
           28,
           27,
           10,
           59,
           68,
           192,
           12,
           56,
           54,
           12,
           26,
           89,
           18,
           76,
           170,
           201,
           101,
           344,
           49,
           43,
           112,
           70,
           162,
           163,
           93,
           55,
           62,
           25,
           64,
           73,
           129,
           178,
           81,
           106,
           26,
           300,
           19,
           85,
           32,
           219,
           121,
           97,
           93,
           153,
           174,
           171,
           67,
           216,
           99,
           5,
           6,
           5,
           14,
           53,
           4,
           162,
           46,
           22,
           9,
           121,
           85,
           117,
           63,
           170,
           66,
           16,
           16,
           145,
           48,
           27,
           90,
           24,
           28,
           74,
           148,
           71,
           27,
           85,
           52,
           48,
           64,
           67,
           108,
           221,
           158,
           126,
           194,
           250,
           160,
           95,
           104,
           179,
           179,
           63,
           128,
           243,
           138,
           125,
           64,
           68,
           65,
           52,
           50,
           67,
           59,
           60,
           56,
           59,
           231,
           68,
           152,
           62,
           31,
           123,
           57,
           39,
           122,
           68,
           90,
           98,
           215,
           121,
           121,
           173,
           57,
           72,
           180,
           201,
           63,
           91,
           89,
           80,
           124,
           120,
           35,
           164,
           46,
           73,
           124,
           195,
           121,
           93,
           80,
           129,
           22,
           15,
           13,
           54,
           10,
           30,
           66,
           44,
           43,
           49,
           51,
           21,
           71,
           12,
           254,
           41,
           12,
           92,
           151,
           24,
           45,
           63,
           102,
           10,
           12,
           17,
           70,
           137,
           22,
           59,
           48,
           29,
           27,
           22,
           179,
           35,
           230,
           67,
           50,
           28,
           29,
           33,
           15,
           44,
           93,
           41,
           92,
           19,
           32,
           59,
           168,
           37,
           79,
           39,
           34,
           14,
           202,
           43,
           18,
           178,
           9,
           12,
           5,
           64,
           127,
           206,
           4,
           1,
           2,
           20,
           50,
           209,
           81,
           31,
           66,
           66,
           30,
           60,
           41,
           40,
           34,
           27,
           51,
           59,
           64,
           18,
           18,
           64,
           43,
           11,
           39,
           39,
           22,
           82,
           4,
           75,
           169,
           77,
           31,
           119,
           58,
           69,
           24,
           23,
           91,
           38,
           44,
           40,
           82,
           33,
           89,
           4,
           35,
           27,
           38,
           70,
           67,
           50,
           72,
           171,
           90,
           34,
           147,
           227,
           44,
           131,
           79,
           115,
           153,
           88,
           82,
           116,
           46,
           100,
           5,
           12,
           6,
           13,
           36,
           46,
           65,
           86,
           48,
           54,
           77,
           1,
           219,
           107,
           34,
           27,
           100,
           49,
           169,
           157,
           50,
           69,
           44,
           87,
           155,
           16,
           164,
           91,
           44,
           13,
           79,
           40,
           10,
           102,
           15,
           10,
           53,
           19,
           24,
           137,
           6,
           70,
           101,
           104,
           79,
           1,
           51,
           72,
           13,
           87,
           58,
           82,
           16,
           29,
           86,
           54,
           58,
           34,
           76,
           16,
           14,
           63,
           45,
           81,
           24,
           39,
           180,
           15,
           27,
           137,
           78,
           59,
           31,
           164,
           63,
           58,
           267,
           39,
           92,
           16,
           119,
           102,
           316,
           51,
           124,
           180,
           39,
           24,
           57,
           96,
           128,
           4,
           21,
           11,
           46,
           44,
           115,
           149,
           29,
           32,
           9,
           11,
           52,
           42,
           57,
           41,
           49,
           17,
           32,
           26,
           9,
           4,
           76,
           31,
           69,
           84,
           10,
           37,
           2,
           39,
           14,
           13,
           3,
           47,
           66,
           10,
           86,
           10,
           46,
           21,
           36,
           31,
           9,
           5,
           26,
           16,
           40,
           9,
           8,
           27,
           50,
           9,
           31,
           43,
           45,
           18,
           18,
           56,
           1,
           112,
           21,
           3,
           25,
           40,
           93,
           22,
           4,
           82,
           49,
           83,
           80,
           57,
           13,
           34,
           1,
           91,
           22,
           49,
           25,
           15,
           26,
           25,
           4,
           4,
           53,
           48,
           27,
           30,
           42,
           176,
           44,
           55,
           9,
           53,
           4,
           4,
           1,
           14,
           16,
           66,
           36,
           1,
           3,
           15,
           16,
           3,
           18,
           24,
           86,
           21,
           119,
           6,
           5,
           24,
           9,
           75,
           42,
           81,
           39,
           53,
           47,
           52,
           33,
           136,
           59,
           45,
           34,
           13,
           7,
           13,
           53,
           64,
           15,
           13,
           43,
           6,
           53,
           14,
           19,
           106,
           44,
           2,
           58,
           9,
           42,
           12,
           42,
           18,
           20,
           27,
           21,
           2,
           20,
           13,
           4,
           4,
           9,
           2,
           11,
           13,
           18,
           7,
           8,
           96,
           5,
           46,
           34,
           58,
           85,
           34,
           101,
           6,
           104,
           40,
           80,
           57,
           40,
           21,
           68,
           7,
           32,
           37,
           25,
           60,
           32,
           46,
           45,
           40,
           43,
           40,
           61,
           17,
           48,
           71,
           30,
           39,
           45,
           22,
           11,
           49,
           46,
           2,
           14,
           64,
           25,
           34,
           23,
           41,
           9,
           21,
           26,
           12,
           18,
           75,
           8,
           34,
           28,
           4,
           32,
           44,
           12,
           49,
           27,
           35,
           22,
           8,
           20,
           15,
           44,
           22,
           23,
           4,
           86,
           32,
           33,
           25,
           4,
           66,
           7,
           31,
           14,
           16,
           16,
           10,
           10,
           17,
           8,
           8,
           9,
           22,
           23,
           47,
           37,
           64,
           44,
           93,
           100,
           38,
           98,
           12,
           137,
           50,
           32,
           31,
           35,
           38,
           32,
           31,
           15,
           44,
           4,
           3,
           148,
           14,
           20,
           7,
           16,
           32,
           27,
           68,
           24,
           24,
           17,
           90,
           25,
           62,
           28,
           8,
           40,
           25,
           46,
           134,
           73,
           25,
           43,
           41,
           25,
           24,
           23,
           10,
           10,
           22,
           15,
           35,
           39,
           29,
           12,
           41,
           4,
           53,
           16,
           44,
           12,
           18,
           27,
           16,
           7,
           66,
           77,
           7,
           12,
           8,
           22,
           45,
           2,
           8,
           8,
           6,
           21,
           11,
           21,
           10,
           13,
           38,
           37,
           43,
           12,
           23,
           12,
           29,
           3,
           18,
           42,
           13,
           8,
           74,
           7,
           19,
           4,
           18,
           4,
           18,
           5,
           28,
           41,
           7,
           15,
           22,
           10,
           29,
           13,
           19,
           47,
           59,
           17,
           21,
           1,
           3,
           12,
           4,
           32,
           11,
           13,
           28,
           1,
           13,
           32,
           30,
           38,
           46,
           29,
           29,
           5,
           33,
           17,
           9,
           44,
           15,
           3,
           9,
           3,
           21,
           9,
           26,
           9,
           7,
           28,
           19,
           12,
           3,
           1,
           25,
           4,
           11,
           26,
           13,
           5,
           25,
           6,
           14,
           12,
           11,
           22,
           10,
           27,
           14,
           15,
           7,
           8,
           5,
           22,
           7,
           19,
           9,
           10,
           10,
           13,
           19,
           10,
           18,
           3,
           13,
           44,
           3,
           11,
           3,
           13,
           10,
           31,
           11,
           3,
           45,
           7,
           23,
           7,
           1,
           8,
           21,
           18,
           6,
           19,
           17,
           20,
           15,
           38,
           12,
           6,
           6,
           9,
           30,
           6,
           39,
           26,
           20,
           30,
           39,
           25,
           4,
           12,
           14,
           32,
           8,
           48,
           13,
           18,
           22,
           17,
           6,
           8,
           1,
           1,
           6,
           8,
           18,
           26,
           6,
           5,
           7,
           36,
           19,
           7,
           6,
           19,
           12,
           6,
           8,
           9,
           7,
           11,
           8,
           3,
           4,
           23,
           4,
           4,
           4,
           8,
           15,
           7,
           19,
           12,
           33,
           10,
           10,
           7,
           7,
           5,
           15,
           11,
           4,
           8,
           19,
           16,
           9,
           16,
           13,
           9,
           19,
           26,
           15,
           17,
           6,
           7,
           7,
           2,
           15,
           3,
           3,
           7,
           7,
           20,
           12,
           9,
           8,
           9,
           5,
           5,
           18,
           2,
           7,
           2,
           2,
           2,
           1,
           1,
           16,
           7,
           14,
           11,
           23,
           7,
           4,
           3,
           4,
           1,
           2,
           6,
           3,
           5,
           1,
           6,
           3,
           6,
           1,
           4,
           4,
           2,
           5,
           2,
           11,
           10,
           9,
           4,
           1,
           1,
           1,
           2,
           1,
           5,
           2,
           5,
           4,
           1,
           1,
           2,
           3,
           1,
           5,
           2,
           6,
           3,
           3,
           2,
           2,
           2,
           3,
           2,
           1,
           1,
           2,
           1,
           5,
           6,
           4,
           3,
           2,
           3,
           1,
           2,
           10,
           7,
           4,
           5,
           7,
           6,
           8,
           4,
           6,
           3,
           5,
           6,
           3,
           6,
           3,
           2,
           3,
           5,
           9,
           7,
           6,
           5,
           5,
           2,
           7,
           10,
           18,
           4,
           4,
           13,
           6,
           5,
           20,
           3,
           7,
           4,
           28,
           6,
           8,
           1,
           9,
           5,
           2,
           3,
           16,
           3,
           11,
           4,
           4,
           3,
           10,
           8,
           5,
           12,
           4,
           3,
           5,
           3,
           2,
           10,
           7,
           2,
           9,
           5,
           8,
           5,
           7,
           5,
           4,
           19,
           4,
           15,
           1,
           3,
           8,
           2,
           15,
           1,
           1,
           6,
           2,
           7,
           1,
           1,
           7,
           1,
           1,
           7,
           3,
           3,
           3,
           6,
           2,
           6,
           12,
           5,
           9,
           2,
           9,
           6,
           8,
           1,
           2,
           18,
           8,
           11,
           2,
           1,
           12,
           3,
           4,
           1,
           5,
           4,
           5,
           3,
           2,
           1,
           1,
           1,
           5,
           5,
           2,
           1,
           4,
           2,
           5,
           2,
           10,
           3,
           1,
           3,
           1,
           3,
           5,
           1,
           5,
           6,
           3,
           7,
           1,
           3,
           5,
           12,
           2,
           1,
           4,
           7,
           2,
           8,
           1,
           1,
           7,
           3,
           5,
           5,
           7,
           2,
           1,
           6,
           4,
           1,
           4,
           3,
           4,
           10,
           2,
           2,
           1,
           3,
           4,
           1,
           2,
           1,
           2,
           2,
           2,
           3,
           4,
           2,
           5,
           2,
           1,
           7,
           1,
           4,
           1,
           1,
           1,
           1,
           1,
           1,
           1,
           1,
           1,
           1,
           1,
           1,
           2,
           1,
           1,
           1,
           1,
           2,
           1,
           1,
           1,
           1,
           1,
           1,
           2,
           1,
           1,
           2,
           4,
           2,
           6,
           5,
           1,
           2,
           1,
           1,
           5,
           6,
           1,
           4,
           1,
           3,
           1,
           1,
           4,
           1,
           3,
           4,
           3,
           3,
           2,
           4,
           1,
           1,
           10,
           1,
           2,
           1,
           1,
           9,
           1,
           3,
           3,
           1,
           1,
           1,
           1,
           4,
           2,
           1,
           2,
           1,
           1,
           1,
           1,
           1,
           1,
           1,
           3,
           1,
           1,
           2,
           4,
           2,
           1,
           2,
           1,
           1,
           1,
           1,
           1,
           3,
           1,
           1,
           1,
           2,
           1,
           3,
           1,
           1,
           1,
           2,
           1,
           4,
           1,
           1,
           1,
           1,
           1,
           1,
           1,
           2,
           1,
           1,
           1,
           1,
           1,
           1,
           1,
           1,
           1,
           1
          ],
          "coloraxis": "coloraxis",
          "symbol": "circle"
         },
         "mode": "markers",
         "name": "",
         "showlegend": false,
         "type": "scattergl",
         "x": [
          -11.04897403717041,
          13.029210090637207,
          12.19970417022705,
          -22.498172760009766,
          4.625154972076416,
          -9.77253532409668,
          -21.702709197998047,
          -30.93461799621582,
          -13.981858253479004,
          -9.68647575378418,
          -22.65087127685547,
          -28.844676971435547,
          -22.12158966064453,
          -14.707242012023926,
          -6.296448707580566,
          -10.450872421264648,
          10.680602073669434,
          -5.807240009307861,
          -9.90071964263916,
          -7.150410175323486,
          13.37552261352539,
          -9.080097198486328,
          -23.854604721069336,
          10.072120666503906,
          3.872257709503174,
          -19.927671432495117,
          -7.198630332946777,
          -7.717521667480469,
          17.6928768157959,
          -19.26749038696289,
          -3.3675217628479004,
          -23.4447078704834,
          8.559951782226562,
          12.679206848144531,
          24.429237365722656,
          14.859808921813965,
          -0.14980703592300415,
          9.115933418273926,
          -3.938215970993042,
          14.138178825378418,
          7.657934188842773,
          -24.976675033569336,
          -2.6376330852508545,
          -0.5413957834243774,
          -14.857985496520996,
          -23.230533599853516,
          -10.256693840026855,
          -33.33584213256836,
          6.155951499938965,
          -12.258054733276367,
          -1.5813343524932861,
          -25.57302474975586,
          5.793332576751709,
          -0.23002450168132782,
          -22.633312225341797,
          -25.781070709228516,
          -15.284998893737793,
          -25.81435203552246,
          -16.220346450805664,
          -16.37090301513672,
          -15.996748924255371,
          12.321127891540527,
          11.24519157409668,
          -30.754762649536133,
          -7.963547706604004,
          -4.748106479644775,
          10.683222770690918,
          9.40648078918457,
          -9.99740219116211,
          -24.230993270874023,
          -15.133597373962402,
          5.975096225738525,
          3.916215658187866,
          -5.186159610748291,
          9.634193420410156,
          -18.343469619750977,
          -2.9600439071655273,
          23.278268814086914,
          -10.13892936706543,
          14.44421672821045,
          -14.943583488464355,
          -4.97290563583374,
          -25.03987693786621,
          -2.3951926231384277,
          9.714885711669922,
          -21.93462371826172,
          -6.833723068237305,
          -7.045543670654297,
          -20.386728286743164,
          4.531955718994141,
          -9.025640487670898,
          -21.36043357849121,
          -11.387782096862793,
          8.536788940429688,
          -10.091968536376953,
          -11.328438758850098,
          -24.813173294067383,
          -28.584989547729492,
          -16.939878463745117,
          -28.59173011779785,
          6.534116268157959,
          13.60433578491211,
          35.125492095947266,
          31.914981842041016,
          12.862222671508789,
          4.488419055938721,
          -9.526488304138184,
          -16.19409942626953,
          9.870828628540039,
          16.210739135742188,
          -0.4700962007045746,
          13.424586296081543,
          -11.204955101013184,
          -17.667964935302734,
          10.977703094482422,
          -12.870601654052734,
          3.6742043495178223,
          2.503779172897339,
          -13.4127836227417,
          24.453624725341797,
          3.244835138320923,
          11.643952369689941,
          6.277987957000732,
          -14.838397979736328,
          1.9649553298950195,
          1.4451569318771362,
          -27.449047088623047,
          8.063066482543945,
          -20.98813247680664,
          25.993083953857422,
          -25.02861213684082,
          -29.980833053588867,
          -30.02220916748047,
          -23.75845718383789,
          -32.97396469116211,
          -30.4538516998291,
          -12.462644577026367,
          18.37797737121582,
          8.90820598602295,
          -3.810088872909546,
          -19.179733276367188,
          -2.9830949306488037,
          -8.58598804473877,
          -10.883941650390625,
          13.200417518615723,
          3.501847982406616,
          -6.2528157234191895,
          4.076295852661133,
          -9.244848251342773,
          -13.898215293884277,
          -22.963327407836914,
          -20.378305435180664,
          -22.665246963500977,
          -10.22011661529541,
          -3.2228734493255615,
          -25.256845474243164,
          -27.88621711730957,
          20.135446548461914,
          2.5249557495117188,
          -11.795496940612793,
          2.56722092628479,
          -32.18950653076172,
          -19.57668113708496,
          -4.1335530281066895,
          -18.032588958740234,
          -24.857641220092773,
          -6.922647953033447,
          -21.558879852294922,
          -14.354843139648438,
          -20.211299896240234,
          -16.431352615356445,
          -12.1160306930542,
          -8.965774536132812,
          -11.774419784545898,
          -15.081284523010254,
          -21.44595718383789,
          -21.866016387939453,
          -31.667137145996094,
          -17.552160263061523,
          -25.19243049621582,
          -12.117457389831543,
          -22.7802734375,
          -21.596527099609375,
          -17.005311965942383,
          -32.705162048339844,
          -14.318680763244629,
          -27.152475357055664,
          -23.019018173217773,
          -13.501791000366211,
          -26.80362319946289,
          -28.654678344726562,
          -10.733099937438965,
          -26.100257873535156,
          -28.337356567382812,
          -13.930582046508789,
          -32.51039123535156,
          -27.566390991210938,
          -18.267364501953125,
          -27.712915420532227,
          -21.428136825561523,
          -12.119138717651367,
          -8.119607925415039,
          -21.130041122436523,
          -10.849602699279785,
          -21.22240447998047,
          -16.79161834716797,
          -12.873993873596191,
          -21.477983474731445,
          -18.961349487304688,
          -10.513348579406738,
          -27.692102432250977,
          -4.244631767272949,
          -31.305490493774414,
          -23.66072654724121,
          -9.140223503112793,
          -32.50537872314453,
          9.401876449584961,
          1.2671586275100708,
          6.208186149597168,
          -3.2156782150268555,
          -12.924031257629395,
          -2.7471654415130615,
          -20.81099510192871,
          -13.51722526550293,
          0.9712047576904297,
          -1.7892663478851318,
          -3.777344226837158,
          -4.088671684265137,
          12.265535354614258,
          -3.822256326675415,
          21.489416122436523,
          -7.619865894317627,
          -1.744876503944397,
          -26.828615188598633,
          5.38584566116333,
          -18.531742095947266,
          -8.674468040466309,
          -27.243337631225586,
          -7.7187113761901855,
          10.142826080322266,
          0.7285972237586975,
          -13.807018280029297,
          4.274492263793945,
          1.3650970458984375,
          2.2006475925445557,
          -17.618345260620117,
          24.449220657348633,
          -18.33052635192871,
          10.262785911560059,
          10.137210845947266,
          -15.876606941223145,
          8.715250968933105,
          -3.868452310562134,
          17.642017364501953,
          -0.5171890258789062,
          -12.222593307495117,
          -8.222108840942383,
          -16.76529884338379,
          2.499497890472412,
          9.190110206604004,
          22.395957946777344,
          -12.46584701538086,
          30.918092727661133,
          19.186620712280273,
          -9.917512893676758,
          4.380921840667725,
          0.3008175492286682,
          -17.6075496673584,
          -13.614432334899902,
          0.2164917290210724,
          9.725468635559082,
          -14.969533920288086,
          11.489639282226562,
          -0.2700112462043762,
          -26.433565139770508,
          -24.91038703918457,
          -12.626249313354492,
          -3.9920787811279297,
          -22.929012298583984,
          6.762686729431152,
          2.4485509395599365,
          1.562119483947754,
          -20.979541778564453,
          7.1925272941589355,
          -16.847766876220703,
          -7.596545219421387,
          2.5238451957702637,
          4.750815391540527,
          -3.221909761428833,
          10.224462509155273,
          1.9908467531204224,
          -25.37253189086914,
          -10.848447799682617,
          2.62113881111145,
          -3.535125970840454,
          0.8932584524154663,
          -18.73577117919922,
          1.1463119983673096,
          11.990711212158203,
          1.6460316181182861,
          6.821274280548096,
          -15.832755088806152,
          -11.998641014099121,
          -11.48609447479248,
          -9.810891151428223,
          -10.369126319885254,
          6.622443199157715,
          3.1417672634124756,
          4.8406662940979,
          -11.474809646606445,
          -7.460304260253906,
          3.6985323429107666,
          -11.410636901855469,
          34.61420440673828,
          -15.304892539978027,
          -15.405579566955566,
          -14.66684341430664,
          -29.6748104095459,
          -10.595067024230957,
          -9.453861236572266,
          0.8533456921577454,
          2.759249448776245,
          3.006338357925415,
          -4.221773624420166,
          14.28951644897461,
          4.4106221199035645,
          -13.721893310546875,
          3.1970467567443848,
          8.506612777709961,
          6.952296733856201,
          4.7482500076293945,
          -11.243528366088867,
          3.2571582794189453,
          -0.9498559236526489,
          5.892765045166016,
          11.556772232055664,
          -7.1599225997924805,
          7.131345272064209,
          2.112643003463745,
          -9.826095581054688,
          0.04075801372528076,
          17.500823974609375,
          6.430510520935059,
          -12.728824615478516,
          -10.080282211303711,
          -12.595695495605469,
          -24.771535873413086,
          8.942765235900879,
          2.4587905406951904,
          1.4133425951004028,
          19.563587188720703,
          20.91580581665039,
          19.621959686279297,
          0.1919674277305603,
          12.18289566040039,
          -11.67414379119873,
          -31.119953155517578,
          11.896111488342285,
          -7.400312900543213,
          -16.541955947875977,
          -4.743020534515381,
          -3.7142937183380127,
          9.892790794372559,
          15.416302680969238,
          10.781023025512695,
          7.578157424926758,
          -24.192100524902344,
          14.496417999267578,
          3.6137936115264893,
          4.486015319824219,
          -9.889969825744629,
          -10.856298446655273,
          20.88361930847168,
          13.532483100891113,
          29.22869110107422,
          17.423866271972656,
          7.5889410972595215,
          -15.081491470336914,
          2.4104466438293457,
          7.464622974395752,
          -3.5853402614593506,
          -10.830891609191895,
          23.59682846069336,
          22.488088607788086,
          -2.046529531478882,
          15.206262588500977,
          -2.308011054992676,
          21.555728912353516,
          -5.780694007873535,
          -6.324523448944092,
          15.040183067321777,
          0.06907623261213303,
          -5.825469017028809,
          6.9795379638671875,
          21.762840270996094,
          -8.636457443237305,
          15.574505805969238,
          19.432376861572266,
          9.107501029968262,
          20.722375869750977,
          -6.792532920837402,
          -6.637566089630127,
          -7.318063735961914,
          -25.72041130065918,
          5.8742146492004395,
          14.932299613952637,
          16.905500411987305,
          -14.492097854614258,
          -2.6616623401641846,
          9.367734909057617,
          2.2349259853363037,
          21.272022247314453,
          7.179088115692139,
          -20.887187957763672,
          -4.059865951538086,
          -16.5111083984375,
          -4.036917686462402,
          -15.179040908813477,
          -24.385168075561523,
          -22.81777000427246,
          -1.2108068466186523,
          -2.1151397228240967,
          -29.407384872436523,
          34.744590759277344,
          -16.221460342407227,
          4.573369026184082,
          -30.366764068603516,
          -24.141977310180664,
          -17.096235275268555,
          -20.656692504882812,
          7.015604496002197,
          -32.528846740722656,
          -10.196808815002441,
          -13.932361602783203,
          -20.348665237426758,
          -1.5878280401229858,
          35.39665985107422,
          33.29996871948242,
          34.77094650268555,
          29.91661834716797,
          8.671958923339844,
          24.44196891784668,
          -25.83932113647461,
          -8.1179838180542,
          -20.35555076599121,
          5.949582099914551,
          -23.759965896606445,
          -12.748745918273926,
          -5.211722373962402,
          16.114376068115234,
          -2.7073497772216797,
          9.116280555725098,
          16.411529541015625,
          1.7141051292419434,
          8.200618743896484,
          10.127524375915527,
          22.584184646606445,
          -1.6391912698745728,
          -8.147536277770996,
          -17.365327835083008,
          -9.09727954864502,
          -26.713851928710938,
          -15.837059020996094,
          -13.470298767089844,
          -15.452329635620117,
          -25.070159912109375,
          -7.756485462188721,
          -3.781259775161743,
          -12.091253280639648,
          -2.055691719055176,
          -5.826142311096191,
          -1.8532930612564087,
          -5.647537708282471,
          -20.332021713256836,
          -24.5185546875,
          0.9614881277084351,
          -11.858882904052734,
          -21.670894622802734,
          -28.8597354888916,
          -31.53736114501953,
          -18.72304916381836,
          -25.92229461669922,
          -28.74823760986328,
          -32.27605438232422,
          -28.009578704833984,
          -10.958100318908691,
          -31.008441925048828,
          -17.788408279418945,
          -14.634194374084473,
          -28.151718139648438,
          -19.446401596069336,
          -20.124311447143555,
          -28.698945999145508,
          -25.712709426879883,
          -19.767534255981445,
          -26.132022857666016,
          -20.826953887939453,
          -25.33469009399414,
          -17.89447021484375,
          -20.02860450744629,
          -25.723886489868164,
          -22.063098907470703,
          -18.5687198638916,
          -21.764123916625977,
          -17.09406280517578,
          -23.336149215698242,
          -28.57706069946289,
          -24.966943740844727,
          -26.359750747680664,
          -27.42234230041504,
          -28.904462814331055,
          -12.248794555664062,
          -13.314618110656738,
          -12.47403335571289,
          -30.26579475402832,
          -13.155132293701172,
          -20.94790267944336,
          -15.000786781311035,
          -30.005786895751953,
          -26.39805793762207,
          -19.31139373779297,
          -30.257429122924805,
          -28.63090705871582,
          -13.698603630065918,
          -15.545197486877441,
          -25.55340003967285,
          -29.731063842773438,
          -28.851072311401367,
          -24.2283878326416,
          -17.00505256652832,
          -7.628520488739014,
          -3.631976842880249,
          -16.845054626464844,
          -21.10759925842285,
          3.9884464740753174,
          -27.340246200561523,
          -22.946041107177734,
          3.737447500228882,
          5.8794121742248535,
          3.6299877166748047,
          7.7113165855407715,
          23.63724708557129,
          -24.292678833007812,
          -1.608168601989746,
          33.88380813598633,
          12.18319034576416,
          -3.0201022624969482,
          27.290769577026367,
          -6.660984039306641,
          -1.7135114669799805,
          -2.621032238006592,
          6.331001281738281,
          -1.0081747770309448,
          10.18427848815918,
          15.480878829956055,
          -7.395676612854004,
          -26.249309539794922,
          -14.007230758666992,
          20.08613395690918,
          17.15240478515625,
          7.222996234893799,
          14.051417350769043,
          -3.086423397064209,
          24.105039596557617,
          14.413398742675781,
          -4.496934413909912,
          7.237318992614746,
          -5.226491451263428,
          9.994890213012695,
          -8.07898998260498,
          22.969633102416992,
          9.683547019958496,
          12.763775825500488,
          24.336286544799805,
          17.788402557373047,
          9.906183242797852,
          32.32414245605469,
          2.0747578144073486,
          8.949786186218262,
          -14.831114768981934,
          -11.314138412475586,
          -15.107341766357422,
          -6.29012393951416,
          -13.003101348876953,
          21.63636016845703,
          23.210983276367188,
          -9.14632511138916,
          -9.278919219970703,
          -18.876201629638672,
          25.454465866088867,
          -4.388776779174805,
          -14.893776893615723,
          -15.293915748596191,
          -9.641691207885742,
          5.599187850952148,
          9.804000854492188,
          5.31296968460083,
          19.89647102355957,
          36.223670959472656,
          -6.220564365386963,
          -19.203948974609375,
          -15.116399765014648,
          -30.0577449798584,
          -26.337846755981445,
          -16.748464584350586,
          -25.39389991760254,
          -29.477413177490234,
          -14.472700119018555,
          -1.77070951461792,
          -28.604509353637695,
          -29.999507904052734,
          -17.796497344970703,
          -21.424144744873047,
          -19.22121238708496,
          -19.42244529724121,
          -18.275836944580078,
          -19.53598403930664,
          -18.250431060791016,
          1.3088958263397217,
          9.01268482208252,
          -18.766803741455078,
          -4.925772666931152,
          7.602950096130371,
          8.432395935058594,
          -3.0456836223602295,
          -28.239404678344727,
          10.866472244262695,
          1.5253525972366333,
          -5.942972660064697,
          -4.629668712615967,
          -24.19240379333496,
          -20.78859519958496,
          -27.5388126373291,
          -18.80814552307129,
          8.359310150146484,
          13.830849647521973,
          -6.739007472991943,
          -28.13239288330078,
          -18.604555130004883,
          -9.972951889038086,
          -25.656980514526367,
          -22.521533966064453,
          -9.443766593933105,
          -19.29232406616211,
          -14.79167652130127,
          -14.119241714477539,
          -18.976139068603516,
          -23.089914321899414,
          -17.593406677246094,
          -15.164258003234863,
          -25.44401741027832,
          -18.026634216308594,
          -23.501392364501953,
          -19.383440017700195,
          -27.740999221801758,
          -17.06170082092285,
          -28.164400100708008,
          -1.7017232179641724,
          -28.61646842956543,
          -20.391740798950195,
          -26.18448829650879,
          -7.026849746704102,
          -16.00433349609375,
          -26.958114624023438,
          11.082355499267578,
          20.883380889892578,
          18.961090087890625,
          -6.668158054351807,
          25.850128173828125,
          -1.5478861331939697,
          -17.554107666015625,
          -0.42890408635139465,
          -13.648528099060059,
          8.53726577758789,
          -28.958459854125977,
          5.223107814788818,
          49.50688934326172,
          3.4775443077087402,
          -4.8952460289001465,
          4.404806137084961,
          12.607975006103516,
          1.0914877653121948,
          8.604679107666016,
          -10.4717378616333,
          1.7072752714157104,
          -8.684326171875,
          8.459368705749512,
          24.49205207824707,
          2.491607904434204,
          5.38499116897583,
          -15.750223159790039,
          -6.111861705780029,
          -25.158245086669922,
          -30.635753631591797,
          -9.357057571411133,
          5.305632591247559,
          -5.098702907562256,
          -12.337156295776367,
          -10.478830337524414,
          6.555970668792725,
          -16.746356964111328,
          11.24111557006836,
          -4.622705936431885,
          -7.939156532287598,
          -30.512630462646484,
          5.8104166984558105,
          -8.14109992980957,
          -24.567676544189453,
          -15.088279724121094,
          -21.54271697998047,
          50.067230224609375,
          -11.399903297424316,
          2.461752414703369,
          -9.163076400756836,
          -20.518924713134766,
          -0.9865612387657166,
          6.743217945098877,
          -9.629356384277344,
          14.292581558227539,
          7.237716197967529,
          10.70982837677002,
          0.40128931403160095,
          3.2091970443725586,
          -18.065792083740234,
          13.062383651733398,
          -13.96663761138916,
          -12.420470237731934,
          19.630796432495117,
          -4.2489142417907715,
          -15.026241302490234,
          -0.3474288582801819,
          -8.229044914245605,
          -16.0950984954834,
          16.344228744506836,
          -19.06614875793457,
          -12.21096420288086,
          -7.68773889541626,
          15.530973434448242,
          -5.84087610244751,
          -1.7491884231567383,
          4.747815132141113,
          2.813426971435547,
          21.529199600219727,
          1.2258821725845337,
          -9.853650093078613,
          -20.394271850585938,
          -9.70416259765625,
          3.691751480102539,
          22.42638397216797,
          -14.070277214050293,
          11.138581275939941,
          8.787644386291504,
          -17.893314361572266,
          -0.3239959180355072,
          11.96529769897461,
          5.870584487915039,
          -14.050789833068848,
          31.63597869873047,
          18.812456130981445,
          1.305051565170288,
          8.896173477172852,
          10.793744087219238,
          10.017786026000977,
          -0.5625616312026978,
          8.516438484191895,
          -16.627412796020508,
          15.051924705505371,
          14.853784561157227,
          13.40319538116455,
          -13.425392150878906,
          20.81107521057129,
          -12.337749481201172,
          -8.166767120361328,
          11.276442527770996,
          -2.4833264350891113,
          3.4376814365386963,
          19.622745513916016,
          -16.018428802490234,
          9.806879997253418,
          9.395577430725098,
          10.179430961608887,
          -15.085652351379395,
          18.281906127929688,
          49.62517547607422,
          2.0615429878234863,
          -2.9936418533325195,
          8.098228454589844,
          47.81817626953125,
          -18.643230438232422,
          10.294053077697754,
          21.965410232543945,
          -22.75181770324707,
          -23.996362686157227,
          -2.360891103744507,
          17.291458129882812,
          11.11874008178711,
          9.088883399963379,
          26.681398391723633,
          -18.109954833984375,
          6.23159122467041,
          12.786760330200195,
          18.514320373535156,
          -9.32412338256836,
          13.319498062133789,
          -18.960712432861328,
          -21.405202865600586,
          2.694295644760132,
          5.647361755371094,
          6.000182151794434,
          -3.5778961181640625,
          -11.402091979980469,
          8.941974639892578,
          -10.652619361877441,
          51.02705383300781,
          19.564556121826172,
          17.171598434448242,
          11.753920555114746,
          -2.737677574157715,
          4.974040508270264,
          1.3529349565505981,
          -1.1884419918060303,
          -13.721086502075195,
          7.9133734703063965,
          -3.6996264457702637,
          11.661478042602539,
          19.234621047973633,
          7.081833362579346,
          5.908087253570557,
          5.338113307952881,
          36.54754638671875,
          19.01699447631836,
          -6.148359775543213,
          5.832955360412598,
          15.468168258666992,
          -0.811845600605011,
          -16.74103546142578,
          -16.97494125366211,
          22.282703399658203,
          34.80730056762695,
          11.910224914550781,
          7.569397449493408,
          -15.46652889251709,
          -6.376585483551025,
          -12.277542114257812,
          -1.2800652980804443,
          4.447407245635986,
          -10.726266860961914,
          -18.82163429260254,
          10.830117225646973,
          -15.181218147277832,
          -17.121992111206055,
          35.941471099853516,
          -9.330222129821777,
          -8.637630462646484,
          -12.251810073852539,
          -16.472923278808594,
          28.24953269958496,
          36.27036666870117,
          6.813953876495361,
          10.526762962341309,
          -6.926435947418213,
          22.39912986755371,
          -19.558320999145508,
          9.848725318908691,
          -10.472809791564941,
          2.934119939804077,
          -27.86747169494629,
          -16.52101707458496,
          0.5280680060386658,
          6.373086452484131,
          10.213394165039062,
          -7.312226295471191,
          21.33119773864746,
          -9.84864616394043,
          -4.2147626876831055,
          12.624275207519531,
          24.46471405029297,
          25.318660736083984,
          3.4676513671875,
          -8.788995742797852,
          12.607884407043457,
          -6.865297794342041,
          -8.30789566040039,
          -8.13890266418457,
          22.479516983032227,
          1.3125908374786377,
          -10.059941291809082,
          0.15081502497196198,
          -8.1285982131958,
          23.72507667541504,
          19.58761978149414,
          7.298839569091797,
          0.6116782426834106,
          25.392866134643555,
          0.9537840485572815,
          -11.409125328063965,
          22.46787452697754,
          -7.406536102294922,
          -0.9660443663597107,
          -8.43108081817627,
          25.28163719177246,
          -11.977582931518555,
          -10.389270782470703,
          -0.7994853854179382,
          4.732452392578125,
          3.1291394233703613,
          15.093003273010254,
          7.909821033477783,
          -13.496715545654297,
          29.135478973388672,
          28.544940948486328,
          2.6797292232513428,
          35.68766784667969,
          20.409351348876953,
          -24.01651382446289,
          -2.3423213958740234,
          -11.306554794311523,
          -4.036712169647217,
          -16.40226936340332,
          -18.206369400024414,
          -16.482908248901367,
          -19.035863876342773,
          -14.72886848449707,
          0.007060345262289047,
          3.7876782417297363,
          10.16273021697998,
          32.05867004394531,
          9.236322402954102,
          -3.762514114379883,
          5.712024688720703,
          20.032323837280273,
          18.94637680053711,
          8.868276596069336,
          1.9229037761688232,
          -16.203426361083984,
          -2.737818717956543,
          -9.464255332946777,
          22.149646759033203,
          3.8720595836639404,
          17.609153747558594,
          15.547101020812988,
          -19.62638282775879,
          -13.62511920928955,
          11.336349487304688,
          -6.43324089050293,
          -15.369573593139648,
          -13.525132179260254,
          11.992643356323242,
          -7.43446683883667,
          -7.669265270233154,
          2.50846791267395,
          -4.967282295227051,
          -22.201236724853516,
          -16.395370483398438,
          -20.01668357849121,
          -22.40403175354004,
          21.480186462402344,
          -10.15247631072998,
          -14.254349708557129,
          -21.66547203063965,
          -16.271913528442383,
          -8.534478187561035,
          -18.81451988220215,
          -28.272430419921875,
          -16.371734619140625,
          -9.163323402404785,
          -4.0341315269470215,
          -14.502209663391113,
          -21.433103561401367,
          -28.118083953857422,
          -10.929993629455566,
          -23.70298957824707,
          -13.540366172790527,
          -5.006452560424805,
          -19.612993240356445,
          22.65850067138672,
          7.100860595703125,
          1.6669797897338867,
          2.3087308406829834,
          -10.957807540893555,
          17.28217124938965,
          18.592327117919922,
          5.876204013824463,
          4.156691551208496,
          -0.4544205069541931,
          7.561239242553711,
          27.12110710144043,
          4.76080322265625,
          5.467827796936035,
          0.9168871641159058,
          23.7591552734375,
          21.342628479003906,
          3.7750325202941895,
          1.1652830839157104,
          -7.0970458984375,
          15.325492858886719,
          22.741662979125977,
          16.907690048217773,
          10.675444602966309,
          15.017539978027344,
          31.87689781188965,
          7.955371379852295,
          25.78228759765625,
          4.327801704406738,
          -10.769424438476562,
          -0.6446629762649536,
          -24.314605712890625,
          -13.25743293762207,
          -0.32757464051246643,
          -6.463059902191162,
          -24.819053649902344,
          -17.489276885986328,
          24.09463882446289,
          0.7074899077415466,
          3.437674045562744,
          5.868119716644287,
          -4.938161849975586,
          -10.941951751708984,
          -11.881425857543945,
          -27.21892547607422,
          -15.49209213256836,
          -1.4865814447402954,
          5.639206886291504,
          -17.814889907836914,
          3.2435450553894043,
          0.3821864426136017,
          35.25261306762695,
          3.225607395172119,
          21.770042419433594,
          18.512361526489258,
          13.993546485900879,
          13.61644172668457,
          13.854991912841797,
          16.061433792114258,
          8.88077163696289,
          14.883822441101074,
          33.288978576660156,
          1.5323511362075806,
          -26.21050453186035,
          14.035775184631348,
          20.150850296020508,
          7.326392650604248,
          5.2890825271606445,
          -3.2761104106903076,
          -10.796647071838379,
          10.675110816955566,
          10.017057418823242,
          -6.3272294998168945,
          16.955808639526367,
          -13.366279602050781,
          5.27151346206665,
          16.880104064941406,
          -0.7717236280441284,
          14.577455520629883,
          10.543559074401855,
          -10.921351432800293,
          11.503791809082031,
          -3.5803165435791016,
          5.546511173248291,
          -17.384851455688477,
          10.066563606262207,
          -11.965271949768066,
          -11.138702392578125,
          -27.486604690551758,
          -13.307753562927246,
          -14.370648384094238,
          4.606473922729492,
          -20.523778915405273,
          -6.757967472076416,
          -20.170421600341797,
          6.944521903991699,
          15.096206665039062,
          -17.285905838012695,
          7.528645992279053,
          0.09587171673774719,
          21.057037353515625,
          4.879785060882568,
          11.185786247253418,
          20.850683212280273,
          -10.13536262512207,
          7.060827732086182,
          23.226924896240234,
          -2.9641923904418945,
          -19.987077713012695,
          -7.427725791931152,
          -12.746379852294922,
          31.0049991607666,
          21.98116111755371,
          25.97999382019043,
          15.491043090820312,
          4.067768096923828,
          14.987508773803711,
          -7.599851131439209,
          15.528464317321777,
          21.508419036865234,
          4.470810413360596,
          -9.832968711853027,
          -10.251664161682129,
          -15.52714729309082,
          -8.59234619140625,
          -13.678961753845215,
          14.706622123718262,
          -24.848060607910156,
          24.277568817138672,
          2.101612091064453,
          -1.5686618089675903,
          -11.244818687438965,
          -24.2824649810791,
          -4.265714645385742,
          -5.639986991882324,
          -18.87455177307129,
          2.326078176498413,
          -2.852633237838745,
          -5.767552852630615,
          -9.029047012329102,
          -22.383089065551758,
          -4.822764873504639,
          -18.14252281188965,
          -7.098438739776611,
          -14.240862846374512,
          -19.014184951782227,
          -23.74880599975586,
          -17.915433883666992,
          -15.639131546020508,
          -14.002453804016113,
          -31.134899139404297,
          25.083433151245117,
          -7.761500358581543,
          -14.37076187133789,
          -21.77785301208496,
          -23.33827018737793,
          -1.2758768796920776,
          -4.7082295417785645,
          -9.791988372802734,
          -14.287933349609375,
          1.6803603172302246,
          -15.790186882019043,
          -5.772570610046387,
          17.948585510253906,
          27.166213989257812,
          -13.080331802368164,
          -19.193584442138672,
          -14.838671684265137,
          -13.74345874786377,
          0.5497134923934937,
          32.72423553466797,
          -18.21750259399414,
          -23.65371322631836,
          -24.347946166992188,
          -12.34416675567627,
          19.803634643554688,
          2.6681392192840576,
          -12.911705017089844,
          -0.41727617383003235,
          49.37868881225586,
          0.011649619787931442,
          15.788349151611328,
          -20.595020294189453,
          -13.993695259094238,
          -7.593864440917969,
          -12.905610084533691,
          20.2512149810791,
          14.142789840698242,
          10.394330024719238,
          18.862886428833008,
          0.2099887728691101,
          -11.147300720214844,
          -4.728721618652344,
          -25.35041618347168,
          -9.440467834472656,
          -12.98314094543457,
          -26.819211959838867,
          -4.824648380279541,
          -11.2906494140625,
          -7.430469036102295,
          -8.566267967224121,
          25.389741897583008,
          16.071556091308594,
          17.88349723815918,
          16.079713821411133,
          20.717803955078125,
          18.585742950439453,
          23.12215232849121,
          -5.626734733581543,
          17.85218620300293,
          -15.310629844665527,
          -8.472190856933594,
          10.0004243850708,
          -8.203680038452148,
          2.160379648208618,
          -9.476248741149902,
          -24.678356170654297,
          -18.7369441986084,
          -14.4833345413208,
          -25.103328704833984,
          -11.635616302490234,
          -10.994504928588867,
          -14.375293731689453,
          -4.897964954376221,
          -12.11689281463623,
          49.87482452392578,
          -25.273958206176758,
          -26.430442810058594,
          -16.476360321044922,
          15.196798324584961,
          14.263689041137695,
          15.064242362976074,
          -5.105545520782471,
          17.70213508605957,
          17.515941619873047,
          -22.609569549560547,
          14.781312942504883,
          13.9207763671875,
          28.780282974243164,
          27.18575668334961,
          -7.471851825714111,
          9.150064468383789,
          18.893604278564453,
          11.529996871948242,
          7.777431488037109,
          -2.9320051670074463,
          0.4386860728263855,
          -18.40021514892578,
          13.652892112731934,
          12.494089126586914,
          -8.608803749084473,
          20.766141891479492,
          15.437135696411133,
          16.196691513061523,
          22.695297241210938,
          15.368461608886719,
          -9.92671012878418,
          -9.265350341796875,
          -5.890445709228516,
          5.65403938293457,
          50.53807067871094,
          3.241762638092041,
          2.9964263439178467,
          13.003044128417969,
          -3.2102255821228027,
          -4.565094470977783,
          -6.965677261352539,
          5.20039701461792,
          12.806205749511719,
          -8.829902648925781,
          25.571943283081055,
          19.038259506225586,
          -11.272526741027832,
          10.148710250854492,
          33.560157775878906,
          -9.99884033203125,
          -0.13893915712833405,
          5.754983425140381,
          25.070812225341797,
          -8.891461372375488,
          29.319534301757812,
          23.962732315063477,
          11.655434608459473,
          2.6907143592834473,
          23.85375213623047,
          -11.918302536010742,
          -11.938485145568848,
          -23.15876007080078,
          -3.8144068717956543,
          0.3928452730178833,
          -23.532867431640625,
          -7.790013790130615,
          -13.312057495117188,
          -8.313260078430176,
          16.642454147338867,
          20.95803451538086,
          16.329004287719727,
          24.98029899597168,
          18.322967529296875,
          13.615631103515625,
          7.057143211364746,
          -10.426270484924316,
          -8.558293342590332,
          16.81493377685547,
          20.257661819458008,
          4.871918678283691,
          -3.264131784439087,
          14.990382194519043,
          6.504068851470947,
          -4.701393127441406,
          -27.55916404724121,
          32.799835205078125,
          -13.613607406616211,
          15.10416030883789,
          49.887855529785156,
          5.503387451171875,
          25.189050674438477,
          -4.048469543457031,
          5.52830696105957,
          23.082311630249023,
          -6.298655033111572,
          11.762883186340332,
          -16.42064094543457,
          -2.3555281162261963,
          13.943443298339844,
          1.2206342220306396,
          -8.720993041992188,
          16.035982131958008,
          47.373050689697266,
          22.428857803344727,
          -3.7856905460357666,
          24.548418045043945,
          36.96976089477539,
          49.02564239501953,
          -3.7914071083068848,
          18.72519302368164,
          -10.18134880065918,
          1.8105429410934448,
          12.342795372009277,
          -0.06236335262656212,
          2.446014404296875,
          32.613128662109375,
          22.54344367980957,
          -9.642658233642578,
          33.17384719848633,
          14.502429962158203,
          -3.3105576038360596,
          -8.387722969055176,
          -4.31943416595459,
          32.96843338012695,
          -2.102752923965454,
          32.16328048706055,
          -6.181716442108154,
          48.594268798828125,
          -15.009788513183594,
          -15.153011322021484,
          1.8907428979873657,
          -19.08885383605957,
          32.26203536987305,
          19.87005615234375,
          30.567562103271484,
          17.15867042541504,
          -0.2894692122936249,
          32.61078643798828,
          33.087120056152344,
          32.965572357177734,
          2.3283698558807373,
          32.64952087402344,
          -12.049094200134277,
          14.759647369384766,
          0.9957221150398254,
          19.767620086669922,
          32.81675720214844,
          48.35680389404297,
          33.33523178100586,
          -9.42822551727295,
          33.71664047241211,
          -1.6092005968093872,
          32.3581657409668,
          4.833966255187988,
          -10.317658424377441,
          24.86361312866211,
          -10.601941108703613,
          32.79843521118164,
          22.888290405273438,
          -19.145906448364258,
          33.32583236694336,
          33.2106819152832,
          50.78664779663086,
          23.519147872924805,
          32.90264892578125,
          -12.920464515686035,
          -24.366451263427734,
          -15.702592849731445,
          -11.03602409362793,
          22.846345901489258,
          -11.358748435974121,
          32.31144332885742,
          33.79545593261719,
          -11.699872016906738,
          32.54791259765625,
          -1.273799180984497,
          -11.209883689880371,
          -10.237685203552246,
          -11.33674144744873,
          2.294194459915161,
          -0.7588270902633667,
          24.763967514038086,
          34.976776123046875,
          -8.544206619262695,
          34.02717971801758,
          22.33881187438965,
          -9.673407554626465,
          22.58470344543457,
          22.538604736328125,
          22.078262329101562,
          22.497026443481445,
          14.615872383117676,
          -6.3892598152160645,
          -22.052309036254883,
          -14.865913391113281,
          -28.292373657226562,
          -21.649030685424805,
          23.981765747070312,
          -5.424129009246826,
          -8.897186279296875,
          23.833267211914062,
          -9.08557415008545,
          -13.078653335571289,
          -6.334347724914551,
          -14.970638275146484,
          15.44675350189209,
          35.554656982421875,
          15.38540267944336,
          7.017491817474365,
          15.150346755981445,
          25.3530330657959,
          6.937076568603516,
          23.218448638916016,
          17.58306121826172,
          11.544548034667969,
          -13.827957153320312,
          -24.658187866210938,
          18.206912994384766,
          21.696762084960938,
          5.901175022125244,
          -2.957385540008545,
          26.635555267333984,
          -7.36653470993042,
          -2.2870073318481445,
          -0.43222010135650635,
          21.316165924072266,
          -24.462390899658203,
          2.112705945968628,
          3.331712484359741,
          -5.001904010772705,
          31.677597045898438,
          2.6455557346343994,
          -7.091041088104248,
          17.96170425415039,
          28.726661682128906,
          15.274164199829102,
          -6.91139030456543,
          5.167803764343262,
          -4.865389347076416,
          1.2561627626419067,
          14.170933723449707,
          -4.918729305267334,
          5.861542224884033,
          -27.931861877441406,
          19.87950325012207,
          -14.796813011169434,
          47.46125411987305,
          -25.278303146362305,
          -14.711822509765625,
          -26.42633819580078,
          -15.615180015563965,
          49.00701141357422,
          -18.863101959228516,
          16.45975685119629,
          -23.63912010192871,
          -14.793492317199707,
          -15.602799415588379,
          -13.778660774230957,
          51.73244094848633,
          23.653257369995117,
          -12.768189430236816,
          21.49949073791504,
          -11.379312515258789,
          0.7217997908592224,
          -12.942704200744629,
          -13.200119018554688,
          11.55571460723877,
          7.877524375915527,
          18.670473098754883,
          11.777055740356445,
          48.98094940185547,
          -22.767690658569336,
          -13.353919982910156,
          -10.473910331726074,
          48.38735580444336,
          22.703107833862305,
          -3.05124568939209,
          13.863659858703613,
          23.081148147583008,
          17.012313842773438,
          -21.34634780883789,
          6.238779544830322,
          -14.26662826538086,
          -12.277338027954102,
          35.821144104003906,
          24.630830764770508,
          -19.020732879638672,
          17.15521812438965,
          15.072260856628418,
          47.25477600097656,
          14.377690315246582,
          48.56081008911133,
          35.8658561706543,
          -4.657153606414795,
          19.662641525268555,
          23.936979293823242,
          14.698039054870605,
          -16.91510581970215,
          -18.5250301361084,
          -9.482336044311523,
          46.126712799072266,
          -12.645600318908691,
          -3.216780424118042,
          50.277565002441406,
          -19.727636337280273,
          -8.081934928894043,
          13.155233383178711,
          23.54133415222168,
          -6.294511318206787,
          -7.7787370681762695,
          -27.164718627929688,
          20.462745666503906,
          -1.7928422689437866,
          -5.522251605987549,
          -7.721076011657715,
          10.42186450958252,
          9.73413372039795,
          0.1973986029624939,
          15.155842781066895,
          0.9786310791969299,
          13.862872123718262,
          -2.680865526199341,
          -10.535079002380371,
          -23.601682662963867,
          50.468475341796875,
          26.238645553588867,
          -7.892434120178223,
          -1.312205195426941,
          24.21808624267578,
          -14.184892654418945,
          28.42976951599121,
          -12.99732494354248,
          17.415176391601562,
          -21.052579879760742,
          -11.36255168914795,
          -9.341732025146484,
          -10.480602264404297,
          23.553096771240234,
          19.95005226135254,
          -15.474230766296387,
          12.487380027770996,
          48.90202713012695,
          3.7341272830963135,
          2.2130393981933594,
          33.65424346923828,
          49.690006256103516,
          35.1254997253418,
          33.62681198120117,
          30.905166625976562,
          48.86070251464844,
          12.558770179748535,
          -0.8571280837059021,
          30.815675735473633,
          -21.934362411499023,
          12.680962562561035,
          33.56368637084961,
          -20.188417434692383,
          34.41437911987305,
          -14.186636924743652,
          33.88166809082031,
          34.555721282958984,
          34.71096420288086,
          49.42287826538086,
          37.76415252685547,
          47.731346130371094,
          47.58726119995117,
          33.97837829589844,
          34.785213470458984,
          49.163822174072266,
          34.361976623535156,
          35.280357360839844,
          34.363258361816406,
          35.31779098510742,
          34.660858154296875,
          33.699012756347656,
          37.748661041259766,
          -11.42128849029541,
          34.52906799316406,
          37.664756774902344,
          48.136627197265625,
          35.82293701171875,
          49.16814041137695,
          51.56571960449219,
          -11.368753433227539,
          35.529788970947266,
          35.21145248413086,
          22.469602584838867,
          -5.650664329528809,
          22.146392822265625,
          -10.339978218078613,
          -16.009334564208984,
          49.371456146240234,
          -7.564798355102539,
          49.52297592163086,
          20.520944595336914,
          -8.8312349319458,
          23.55144691467285,
          -26.106285095214844,
          -24.57185173034668,
          27.67081069946289,
          -12.523953437805176,
          50.336341857910156,
          -14.34367561340332,
          -4.519806385040283,
          23.066444396972656,
          -15.362347602844238,
          24.448535919189453,
          36.37459945678711,
          18.329126358032227,
          0.9736633896827698,
          -8.904091835021973,
          1.3832156658172607,
          48.63235092163086,
          16.79239845275879,
          51.53956604003906,
          -9.038673400878906,
          49.679344177246094,
          -3.9834184646606445,
          4.493782997131348,
          45.59955978393555,
          16.56378173828125,
          -20.3973445892334,
          22.71003532409668,
          4.542534351348877,
          34.33929443359375,
          -4.388433456420898,
          -0.03831400349736214,
          -17.09396743774414,
          -9.990817070007324,
          20.758333206176758,
          -10.022234916687012,
          -10.583914756774902,
          28.602598190307617,
          -10.521950721740723,
          48.58601760864258,
          -10.71184253692627,
          50.73506546020508,
          -11.285150527954102,
          -10.4773530960083,
          48.2031135559082,
          -18.077354431152344,
          -0.2802177369594574,
          47.76735305786133,
          48.42525863647461,
          -21.531034469604492,
          -10.416869163513184,
          50.45194625854492,
          -10.750351905822754,
          47.742332458496094,
          51.07284927368164,
          18.348567962646484,
          50.5098762512207,
          48.472373962402344,
          50.59385681152344,
          21.226858139038086,
          18.96580696105957,
          -0.817828357219696,
          35.92277908325195,
          27.46133804321289,
          36.187686920166016,
          25.277690887451172,
          24.153100967407227,
          -24.79347038269043,
          49.51219940185547,
          23.216938018798828,
          22.807647705078125,
          22.951244354248047,
          23.882612228393555,
          22.940378189086914,
          31.51363182067871,
          20.17967987060547,
          22.848129272460938,
          -18.86577796936035,
          50.33916473388672,
          24.876646041870117,
          -8.08890151977539,
          31.644765853881836,
          24.43360710144043,
          24.351118087768555,
          -6.235579967498779,
          -7.434821128845215
         ],
         "xaxis": "x",
         "y": [
          -22.445627212524414,
          -21.953519821166992,
          -5.949471950531006,
          -0.3693741261959076,
          -18.307416915893555,
          21.10889434814453,
          -1.924351453781128,
          -3.8778679370880127,
          23.882604598999023,
          16.140275955200195,
          -5.852769374847412,
          -0.8129596710205078,
          3.1740543842315674,
          23.597562789916992,
          -18.577430725097656,
          9.256746292114258,
          5.658565044403076,
          8.406906127929688,
          22.578744888305664,
          24.31279945373535,
          -10.852937698364258,
          -22.27006721496582,
          19.47638511657715,
          7.6399126052856445,
          -5.6302337646484375,
          -6.329462051391602,
          -14.228854179382324,
          -18.181777954101562,
          -11.173755645751953,
          3.598778009414673,
          -23.103515625,
          19.01393699645996,
          20.293123245239258,
          -1.7415019273757935,
          -16.547819137573242,
          3.691657304763794,
          10.325700759887695,
          -18.470449447631836,
          10.879610061645508,
          1.9052046537399292,
          -3.8338510990142822,
          22.847562789916992,
          -8.441465377807617,
          5.206902980804443,
          20.10760498046875,
          12.24423599243164,
          6.5057196617126465,
          -1.1196138858795166,
          -4.780727386474609,
          -24.565351486206055,
          -14.833959579467773,
          5.360158920288086,
          22.08794403076172,
          -21.23210906982422,
          7.578011512756348,
          23.315553665161133,
          15.456046104431152,
          -2.829817295074463,
          21.61814308166504,
          21.51727294921875,
          21.5952091217041,
          -14.246233940124512,
          -20.538429260253906,
          -0.8437545299530029,
          18.036590576171875,
          -18.925662994384766,
          5.625085353851318,
          -12.009689331054688,
          -21.133913040161133,
          2.877761125564575,
          -15.758621215820312,
          -26.358797073364258,
          -19.027324676513672,
          5.461409568786621,
          13.982665061950684,
          -5.3032355308532715,
          -22.543500900268555,
          -16.794538497924805,
          -24.24419593811035,
          -6.198249816894531,
          8.457541465759277,
          -24.067832946777344,
          -0.7115066647529602,
          -10.931146621704102,
          -4.998761177062988,
          13.759284019470215,
          -18.446462631225586,
          -19.548324584960938,
          1.6461200714111328,
          6.4889044761657715,
          10.327616691589355,
          0.6276832222938538,
          19.592912673950195,
          -20.033349990844727,
          -22.6297550201416,
          -24.619871139526367,
          -11.976336479187012,
          -6.869192123413086,
          -14.748883247375488,
          0.8799729943275452,
          -25.403121948242188,
          -5.877070426940918,
          -8.774346351623535,
          -12.703877449035645,
          -9.299519538879395,
          -5.367977142333984,
          -0.5788074731826782,
          -2.492973804473877,
          12.325023651123047,
          -22.711410522460938,
          -11.698339462280273,
          4.309245586395264,
          21.55042266845703,
          8.637566566467285,
          -5.635453701019287,
          23.876821517944336,
          -21.935314178466797,
          -20.289020538330078,
          17.350324630737305,
          -6.471724510192871,
          -20.401336669921875,
          10.02505111694336,
          -9.774394035339355,
          26.357006072998047,
          -21.527132034301758,
          -4.44297456741333,
          -3.7460780143737793,
          20.05063819885254,
          -7.401851654052734,
          -1.3107675313949585,
          14.79704475402832,
          -4.138694763183594,
          -4.8808274269104,
          4.430439472198486,
          5.77499532699585,
          3.761500597000122,
          28.331058502197266,
          -16.392253875732422,
          -25.066055297851562,
          -2.0517756938934326,
          -11.345318794250488,
          -15.751194953918457,
          -19.551908493041992,
          -25.37624168395996,
          -12.189064979553223,
          7.687217712402344,
          -23.410747528076172,
          -11.081361770629883,
          4.147632598876953,
          10.943548202514648,
          -0.3707279562950134,
          -2.2111330032348633,
          -9.710058212280273,
          6.424090385437012,
          -19.342538833618164,
          22.68146514892578,
          -6.0416035652160645,
          -8.500468254089355,
          -3.3861889839172363,
          8.859930992126465,
          -19.230716705322266,
          -3.7343013286590576,
          -11.48046588897705,
          -26.107336044311523,
          19.92324447631836,
          1.7738616466522217,
          -11.328722953796387,
          -3.6349849700927734,
          18.64072608947754,
          18.87503433227539,
          18.258333206176758,
          -24.51837730407715,
          -26.48710060119629,
          -24.418615341186523,
          9.560639381408691,
          -12.850330352783203,
          -5.852545738220215,
          2.7788894176483154,
          7.463450908660889,
          22.12024688720703,
          -24.53739356994629,
          -4.838048458099365,
          -12.76008415222168,
          -4.36099100112915,
          5.7337422370910645,
          -23.692859649658203,
          -4.0895466804504395,
          -3.976968765258789,
          15.668778419494629,
          0.3811120092868805,
          -2.8601067066192627,
          10.76177978515625,
          -7.975449085235596,
          -9.002547264099121,
          -23.97296714782715,
          -1.9504395723342896,
          13.818384170532227,
          22.06812858581543,
          -7.720128536224365,
          2.5547080039978027,
          7.8256072998046875,
          -24.324535369873047,
          0.8266816735267639,
          -25.22507667541504,
          -12.464112281799316,
          3.009618043899536,
          19.384052276611328,
          -10.343456268310547,
          6.991385459899902,
          -22.72295570373535,
          -7.740051746368408,
          27.278520584106445,
          -3.4357457160949707,
          -8.75948429107666,
          -20.17193603515625,
          -1.6858609914779663,
          13.751925468444824,
          -1.5623670816421509,
          -23.125375747680664,
          -5.661393642425537,
          24.733427047729492,
          -27.711875915527344,
          2.355290174484253,
          20.579452514648438,
          -13.085431098937988,
          -24.52663803100586,
          -27.68344497680664,
          -27.803720474243164,
          -22.52018165588379,
          -27.690937042236328,
          -11.868400573730469,
          -26.15679168701172,
          -24.844449996948242,
          -8.113006591796875,
          5.399109840393066,
          18.08696937561035,
          -22.227569580078125,
          21.159570693969727,
          -26.223796844482422,
          8.244457244873047,
          -18.29802894592285,
          26.158113479614258,
          -16.1602783203125,
          7.944973945617676,
          -7.791540145874023,
          27.776737213134766,
          -16.564502716064453,
          23.83075523376465,
          11.967789649963379,
          14.004108428955078,
          19.97696876525879,
          -20.920425415039062,
          21.534414291381836,
          -18.414512634277344,
          -19.536592483520508,
          11.012118339538574,
          -23.720012664794922,
          29.682254791259766,
          -9.11887264251709,
          16.704652786254883,
          7.683783054351807,
          28.25071907043457,
          3.061394214630127,
          10.53913688659668,
          -21.534442901611328,
          2.758634328842163,
          -9.93830394744873,
          27.750709533691406,
          26.167402267456055,
          -21.132753372192383,
          14.817363739013672,
          30.390777587890625,
          13.271514892578125,
          -12.247268676757812,
          16.08336067199707,
          24.544357299804688,
          1.6755009889602661,
          -20.511756896972656,
          -7.93022346496582,
          -18.401447296142578,
          -5.088953971862793,
          -24.16653823852539,
          22.360618591308594,
          -8.150924682617188,
          18.126033782958984,
          26.66680145263672,
          15.895874977111816,
          -26.28690528869629,
          13.820170402526855,
          -4.910276412963867,
          -22.05850601196289,
          11.73229694366455,
          -4.925467014312744,
          -25.06458282470703,
          -22.842098236083984,
          7.12598991394043,
          17.877378463745117,
          -22.94786834716797,
          18.319305419921875,
          -24.722015380859375,
          17.460468292236328,
          29.614587783813477,
          25.720779418945312,
          -13.788488388061523,
          28.720523834228516,
          23.640657424926758,
          17.17833137512207,
          18.50008201599121,
          -8.741327285766602,
          -13.769196510314941,
          26.160675048828125,
          13.831718444824219,
          -19.889019012451172,
          -0.5290582180023193,
          29.970333099365234,
          29.889755249023438,
          19.478195190429688,
          -2.8520092964172363,
          28.9921817779541,
          3.559717893600464,
          11.677330017089844,
          -7.725837707519531,
          -9.12045669555664,
          23.979148864746094,
          6.963675498962402,
          -25.132102966308594,
          30.839401245117188,
          -26.318784713745117,
          16.060266494750977,
          7.100311756134033,
          17.40769386291504,
          -13.344036102294922,
          -26.32203483581543,
          14.534645080566406,
          10.794981956481934,
          -12.482863426208496,
          13.536906242370605,
          -2.2644405364990234,
          14.767928123474121,
          26.56990623474121,
          18.429983139038086,
          -8.768988609313965,
          5.021904468536377,
          22.147884368896484,
          28.843690872192383,
          25.28740882873535,
          -5.126748085021973,
          15.685380935668945,
          -8.664093971252441,
          19.20026206970215,
          12.971723556518555,
          -2.785465955734253,
          2.914154529571533,
          -9.982088088989258,
          -4.847965240478516,
          -15.985097885131836,
          -0.10779502242803574,
          -6.896620273590088,
          19.391857147216797,
          12.768360137939453,
          18.760318756103516,
          1.0858038663864136,
          -0.4363107681274414,
          -2.175701141357422,
          -21.565757751464844,
          -21.570789337158203,
          1.147734522819519,
          -14.918963432312012,
          4.421097755432129,
          -10.734223365783691,
          -1.2141618728637695,
          18.292142868041992,
          -16.126537322998047,
          -13.85547924041748,
          -0.4380592405796051,
          -2.3813183307647705,
          -12.970481872558594,
          -12.904170989990234,
          2.4240543842315674,
          -18.634958267211914,
          8.526870727539062,
          18.29665756225586,
          -5.267675399780273,
          -10.53088092803955,
          -24.060209274291992,
          10.300544738769531,
          20.25095558166504,
          -9.584134101867676,
          -16.352378845214844,
          3.7504637241363525,
          -0.9542344808578491,
          -15.182137489318848,
          -14.904399871826172,
          -12.187068939208984,
          -12.961114883422852,
          5.921168327331543,
          -6.551884651184082,
          -6.364777088165283,
          -22.288005828857422,
          -3.724362373352051,
          2.294609785079956,
          -20.47231101989746,
          -27.100025177001953,
          -10.715801239013672,
          -18.630992889404297,
          -0.9361284971237183,
          2.458799362182617,
          18.666202545166016,
          -8.47024917602539,
          2.850977897644043,
          -12.543594360351562,
          -1.2764408588409424,
          3.707141637802124,
          3.940049171447754,
          -16.29508399963379,
          -8.108043670654297,
          -14.518553733825684,
          -15.700044631958008,
          -8.73991870880127,
          -2.4360618591308594,
          -7.60636043548584,
          6.270242691040039,
          -6.673813819885254,
          -11.36001205444336,
          17.895761489868164,
          0.9744406938552856,
          1.1484307050704956,
          9.34911823272705,
          -12.439943313598633,
          -4.216535568237305,
          -25.241050720214844,
          2.9738941192626953,
          9.788395881652832,
          -13.945182800292969,
          -5.388289451599121,
          -21.76750373840332,
          -3.8718342781066895,
          -5.845125198364258,
          -3.9738495349884033,
          -2.8304061889648438,
          -0.6625499129295349,
          -1.8681663274765015,
          -10.021571159362793,
          -7.831367015838623,
          -9.618961334228516,
          -1.0900814533233643,
          -3.3593382835388184,
          -9.4174222946167,
          -10.683135032653809,
          0.3393896818161011,
          -17.337133407592773,
          -6.864921569824219,
          -17.749614715576172,
          -17.666732788085938,
          20.153316497802734,
          -13.606282234191895,
          7.579917907714844,
          -2.710400104522705,
          14.804644584655762,
          -3.1789510250091553,
          10.472790718078613,
          4.657919406890869,
          15.680023193359375,
          9.390740394592285,
          -11.996800422668457,
          5.642450332641602,
          -4.019274711608887,
          -18.22865104675293,
          8.89084529876709,
          -9.359882354736328,
          -4.453322410583496,
          -19.029993057250977,
          22.277969360351562,
          10.095303535461426,
          23.60622787475586,
          -8.559467315673828,
          12.663727760314941,
          5.301456451416016,
          7.589071273803711,
          2.6857528686523438,
          9.999161720275879,
          -5.766843795776367,
          4.944046974182129,
          5.66898250579834,
          15.790407180786133,
          -16.501754760742188,
          -0.369804710149765,
          11.221936225891113,
          13.654894828796387,
          6.710170269012451,
          -8.83039379119873,
          6.017777919769287,
          5.773172855377197,
          -5.686304569244385,
          -9.827505111694336,
          -12.385385513305664,
          -8.88622760772705,
          3.2670862674713135,
          14.27504825592041,
          -12.725019454956055,
          -10.370611190795898,
          -8.650077819824219,
          -3.460127353668213,
          4.415242671966553,
          0.4946167469024658,
          4.549184799194336,
          1.383697271347046,
          24.65918731689453,
          14.630481719970703,
          5.9954962730407715,
          4.05839729309082,
          14.22830581665039,
          15.590949058532715,
          28.22129249572754,
          1.5282171964645386,
          17.820850372314453,
          8.392126083374023,
          8.96383285522461,
          7.388221740722656,
          -12.593708992004395,
          -3.9554519653320312,
          7.447513580322266,
          3.1770451068878174,
          13.24051570892334,
          8.187317848205566,
          -12.346670150756836,
          -3.0043859481811523,
          -2.386298179626465,
          15.204628944396973,
          -14.310599327087402,
          -4.110841274261475,
          21.649274826049805,
          10.719209671020508,
          14.761813163757324,
          -1.4975017309188843,
          13.530869483947754,
          6.673150062561035,
          -1.000897765159607,
          -15.57146167755127,
          -13.792762756347656,
          -10.367053031921387,
          -13.90191650390625,
          13.981724739074707,
          17.0593204498291,
          -10.071980476379395,
          -10.7666015625,
          17.051088333129883,
          4.187465667724609,
          17.726728439331055,
          -24.07319450378418,
          -11.101950645446777,
          -6.386260509490967,
          -6.256593704223633,
          -11.048917770385742,
          -14.151323318481445,
          4.911654949188232,
          10.833724975585938,
          9.699532508850098,
          -11.553084373474121,
          -4.099305152893066,
          -1.1312505006790161,
          0.17724034190177917,
          -11.435011863708496,
          -12.675318717956543,
          -5.204224586486816,
          -24.66689109802246,
          3.596453905105591,
          -21.092153549194336,
          -2.085665225982666,
          -12.268881797790527,
          -16.856414794921875,
          -2.7650070190429688,
          -0.6811954975128174,
          -4.132513523101807,
          -12.913886070251465,
          -24.74469757080078,
          -6.8377251625061035,
          -13.850031852722168,
          -18.876401901245117,
          4.503326416015625,
          10.079216957092285,
          26.198345184326172,
          7.089661121368408,
          5.68763542175293,
          -13.180416107177734,
          -11.72154426574707,
          1.0570586919784546,
          -18.616092681884766,
          10.864232063293457,
          -7.419434070587158,
          -20.71442985534668,
          -3.228384017944336,
          0.4837787449359894,
          -7.918886661529541,
          -2.1878974437713623,
          -8.651729583740234,
          -19.57061004638672,
          -1.8965355157852173,
          -1.039759635925293,
          -1.0444130897521973,
          -4.6017985343933105,
          -1.8157962560653687,
          1.595648169517517,
          15.180577278137207,
          -11.636661529541016,
          12.967852592468262,
          9.825621604919434,
          14.522253036499023,
          -13.633805274963379,
          10.603121757507324,
          6.494970321655273,
          -0.5383798480033875,
          -3.8335275650024414,
          -5.146726608276367,
          17.142078399658203,
          5.238884925842285,
          -9.3937406539917,
          1.2537809610366821,
          -22.594736099243164,
          -25.496726989746094,
          -11.164121627807617,
          -7.559027671813965,
          -13.378058433532715,
          -5.333072662353516,
          -13.627586364746094,
          10.1111421585083,
          -18.557321548461914,
          -24.09613800048828,
          -12.610115051269531,
          -12.527247428894043,
          12.815488815307617,
          6.811155796051025,
          8.08288860321045,
          -9.665874481201172,
          3.361100435256958,
          15.027026176452637,
          5.019794940948486,
          8.83485221862793,
          12.753111839294434,
          7.94977331161499,
          8.223819732666016,
          17.895658493041992,
          -0.3464505672454834,
          1.8947222232818604,
          12.118334770202637,
          6.355609893798828,
          9.993947982788086,
          16.119586944580078,
          2.6500437259674072,
          6.537504196166992,
          -7.540503025054932,
          23.620452880859375,
          14.08777141571045,
          9.640759468078613,
          -6.057200908660889,
          9.736529350280762,
          2.4626355171203613,
          -16.936838150024414,
          -0.5948224663734436,
          18.51572036743164,
          -5.339136123657227,
          -16.412757873535156,
          1.509438395500183,
          9.079437255859375,
          -1.478021264076233,
          2.288861036300659,
          -2.2721710205078125,
          5.696914196014404,
          -6.013476371765137,
          -21.769784927368164,
          6.907369136810303,
          2.3902313709259033,
          -18.14751434326172,
          -2.258209228515625,
          10.911642074584961,
          12.19269847869873,
          -6.920024394989014,
          -15.8981294631958,
          0.12088829278945923,
          2.7789132595062256,
          4.548200607299805,
          -6.8352532386779785,
          1.2627586126327515,
          -17.09284019470215,
          -21.63283920288086,
          -13.590380668640137,
          -14.005594253540039,
          8.93797492980957,
          -8.129252433776855,
          16.015884399414062,
          3.650306224822998,
          -20.49159812927246,
          22.554889678955078,
          8.299503326416016,
          4.18440580368042,
          -4.083320140838623,
          15.562317848205566,
          2.866626262664795,
          -0.7650136947631836,
          10.353514671325684,
          0.8221979141235352,
          -4.451823711395264,
          7.578794956207275,
          -0.8106457591056824,
          3.720574378967285,
          -0.14027686417102814,
          15.59913444519043,
          17.120851516723633,
          21.74610710144043,
          -10.623651504516602,
          -6.361964225769043,
          -2.153259754180908,
          16.70689582824707,
          0.03109731152653694,
          8.75553035736084,
          -0.6609106659889221,
          -17.35373306274414,
          17.72732162475586,
          -2.9775099754333496,
          -16.130695343017578,
          4.669344425201416,
          1.0545599460601807,
          12.62494945526123,
          -17.56295394897461,
          1.3088842630386353,
          -8.333209037780762,
          0.19541515409946442,
          -13.173089981079102,
          -13.41226863861084,
          7.154755115509033,
          -17.224899291992188,
          -20.381807327270508,
          2.388794183731079,
          -12.77869987487793,
          -2.078490734100342,
          15.428817749023438,
          -9.237630844116211,
          11.453673362731934,
          -20.606504440307617,
          25.078857421875,
          20.990177154541016,
          -21.700891494750977,
          -4.767005443572998,
          -3.431885242462158,
          15.07295036315918,
          -15.868935585021973,
          -2.565645217895508,
          -9.522188186645508,
          13.742288589477539,
          30.60308074951172,
          13.182541847229004,
          16.097429275512695,
          17.044109344482422,
          -3.9306695461273193,
          -19.32207489013672,
          -12.405265808105469,
          1.254321575164795,
          -5.082984924316406,
          -7.680049896240234,
          9.070817947387695,
          -10.094504356384277,
          10.912479400634766,
          -11.158513069152832,
          8.018464088439941,
          5.297389507293701,
          -6.8091959953308105,
          6.80031156539917,
          -6.513345718383789,
          -15.885960578918457,
          9.044785499572754,
          -10.139763832092285,
          10.151074409484863,
          3.226388692855835,
          -15.973912239074707,
          -16.749826431274414,
          0.07119608670473099,
          -2.4497852325439453,
          -0.40097567439079285,
          -7.014926433563232,
          -8.542364120483398,
          -19.717998504638672,
          -8.214852333068848,
          -18.27036476135254,
          -7.601351737976074,
          4.740917205810547,
          -0.46459561586380005,
          -24.277612686157227,
          -6.842109680175781,
          20.248411178588867,
          -8.615761756896973,
          -0.7499327063560486,
          2.4790849685668945,
          -2.067781686782837,
          -16.89963150024414,
          -16.851511001586914,
          -7.059666633605957,
          -19.835962295532227,
          0.7157536149024963,
          14.889056205749512,
          1.4094016551971436,
          -9.054388999938965,
          -15.338323593139648,
          -9.662673950195312,
          -4.828426837921143,
          0.6082000136375427,
          16.668567657470703,
          -1.0261921882629395,
          -7.344579219818115,
          -20.912227630615234,
          -6.395881175994873,
          16.433101654052734,
          -10.062684059143066,
          19.968420028686523,
          -5.70888614654541,
          -13.109762191772461,
          7.593424320220947,
          -2.7217042446136475,
          9.494665145874023,
          -11.29316520690918,
          -12.366093635559082,
          -18.306270599365234,
          4.387147903442383,
          -5.607519626617432,
          5.618409633636475,
          -17.74725341796875,
          -10.100250244140625,
          -16.255870819091797,
          -13.299375534057617,
          -8.33658218383789,
          -1.1450766324996948,
          1.8965480327606201,
          -1.3997935056686401,
          -13.252724647521973,
          -16.131589889526367,
          21.506683349609375,
          4.413994312286377,
          1.6135435104370117,
          -5.186268329620361,
          -1.1789127588272095,
          -9.354605674743652,
          -0.06497964262962341,
          -5.542283058166504,
          -0.5066649913787842,
          11.703102111816406,
          -6.017855644226074,
          -6.281275749206543,
          -0.509566068649292,
          2.3692336082458496,
          -11.250253677368164,
          3.5070817470550537,
          11.65560531616211,
          -1.7577393054962158,
          11.413307189941406,
          11.340444564819336,
          13.408023834228516,
          16.626434326171875,
          2.0496487617492676,
          -3.804847002029419,
          1.470544695854187,
          1.3289564847946167,
          4.201645374298096,
          -14.428888320922852,
          7.2372307777404785,
          -3.345747470855713,
          16.20166015625,
          -17.9518985748291,
          10.672422409057617,
          7.354186534881592,
          -19.771677017211914,
          -6.421501636505127,
          -14.104811668395996,
          8.459089279174805,
          12.420042991638184,
          26.289932250976562,
          3.1273033618927,
          7.427104949951172,
          12.88847541809082,
          11.502098083496094,
          -7.906715393066406,
          24.2699031829834,
          7.474291801452637,
          20.30119514465332,
          17.021289825439453,
          19.13294219970703,
          10.085474014282227,
          12.87116527557373,
          23.452585220336914,
          17.375104904174805,
          24.235427856445312,
          -8.167495727539062,
          12.957730293273926,
          -19.93259620666504,
          -0.38525810837745667,
          9.395071983337402,
          -6.757327079772949,
          16.65337371826172,
          2.4295051097869873,
          26.205055236816406,
          18.688831329345703,
          14.875059127807617,
          2.4840688705444336,
          21.132122039794922,
          -6.532558917999268,
          18.73007583618164,
          -2.3392794132232666,
          10.590782165527344,
          -9.106061935424805,
          14.799229621887207,
          12.822763442993164,
          3.5519912242889404,
          2.6993589401245117,
          14.171590805053711,
          -1.3227654695510864,
          12.384358406066895,
          -7.409220218658447,
          15.471957206726074,
          -11.315498352050781,
          -18.08098602294922,
          8.960922241210938,
          2.6659324169158936,
          19.346115112304688,
          15.86572265625,
          17.218109130859375,
          -13.705487251281738,
          -4.792311191558838,
          -15.249079704284668,
          -12.120984077453613,
          -17.848886489868164,
          -4.982141017913818,
          -17.58011245727539,
          -4.701128005981445,
          -17.909631729125977,
          2.820716619491577,
          -15.928009986877441,
          -1.8730175495147705,
          -4.810714244842529,
          -4.865179061889648,
          13.167802810668945,
          -3.547747850418091,
          -0.9914343953132629,
          11.594165802001953,
          3.2030303478240967,
          2.9727184772491455,
          -15.70394229888916,
          13.777047157287598,
          -10.397558212280273,
          11.246382713317871,
          0.08792423456907272,
          0.20614352822303772,
          2.796400547027588,
          12.24781322479248,
          3.939293384552002,
          11.698158264160156,
          -11.042872428894043,
          14.821699142456055,
          2.885923385620117,
          2.000800848007202,
          21.73050880432129,
          1.8122919797897339,
          10.462754249572754,
          14.738811492919922,
          2.4674084186553955,
          -1.1422497034072876,
          9.00367546081543,
          11.828970909118652,
          -15.103110313415527,
          -16.04958152770996,
          2.041076421737671,
          20.303049087524414,
          9.83619213104248,
          15.207880020141602,
          11.08353328704834,
          0.43383532762527466,
          -11.261752128601074,
          -6.268501281738281,
          -3.746147871017456,
          -0.1691374033689499,
          6.888881206512451,
          -2.260244846343994,
          7.897500038146973,
          -6.295522689819336,
          5.964522838592529,
          -14.38829517364502,
          -16.305837631225586,
          12.063514709472656,
          -14.013940811157227,
          -3.1697134971618652,
          -15.885283470153809,
          3.63706111907959,
          15.906535148620605,
          5.873944282531738,
          -0.9844027161598206,
          -4.272157669067383,
          8.482220649719238,
          16.215530395507812,
          -14.316410064697266,
          0.10132036358118057,
          -5.241106986999512,
          -18.154211044311523,
          -3.8537580966949463,
          -9.591609954833984,
          -13.569602012634277,
          -3.265540838241577,
          -13.22542667388916,
          10.401744842529297,
          8.6580810546875,
          1.237633228302002,
          14.233885765075684,
          23.127582550048828,
          10.384605407714844,
          17.691417694091797,
          -4.546603679656982,
          11.376975059509277,
          3.602609395980835,
          0.6125285625457764,
          -9.707316398620605,
          3.8327877521514893,
          1.1505112648010254,
          6.591127395629883,
          2.68609619140625,
          10.864937782287598,
          0.710253119468689,
          -15.470465660095215,
          14.980622291564941,
          9.212076187133789,
          15.44943618774414,
          -5.887079238891602,
          -12.285928726196289,
          -8.892908096313477,
          -7.111876487731934,
          -19.989089965820312,
          -8.477341651916504,
          3.548787832260132,
          1.8026949167251587,
          -6.870344638824463,
          2.2950472831726074,
          -7.609222412109375,
          18.38159942626953,
          0.9920503497123718,
          -15.578505516052246,
          -15.613661766052246,
          -3.8196349143981934,
          -1.2952804565429688,
          13.558816909790039,
          5.169920444488525,
          -21.610240936279297,
          -14.534525871276855,
          1.2897884845733643,
          -15.079080581665039,
          0.5861943960189819,
          -11.20958423614502,
          2.6701762676239014,
          -17.236572265625,
          -17.601011276245117,
          -17.41973304748535,
          12.140517234802246,
          10.1970853805542,
          -6.029889106750488,
          21.333118438720703,
          5.329495906829834,
          -7.7569403648376465,
          23.539844512939453,
          -19.95736312866211,
          4.536874294281006,
          6.838266849517822,
          -4.487667560577393,
          8.825420379638672,
          15.892120361328125,
          13.641996383666992,
          4.783411979675293,
          7.910412311553955,
          -8.427355766296387,
          15.422063827514648,
          13.094334602355957,
          -2.2864885330200195,
          -7.507478713989258,
          21.064191818237305,
          -19.180891036987305,
          6.095127582550049,
          -4.80564546585083,
          7.2005743980407715,
          12.922471046447754,
          1.8449398279190063,
          12.43136978149414,
          9.6207275390625,
          4.592525959014893,
          -11.358160018920898,
          -2.6001691818237305,
          -7.14749813079834,
          -10.54514217376709,
          6.038008689880371,
          -11.768902778625488,
          23.12649154663086,
          4.6933770179748535,
          9.992201805114746,
          11.343109130859375,
          15.734467506408691,
          12.769762992858887,
          11.151457786560059,
          -9.14881706237793,
          21.15211296081543,
          -15.867731094360352,
          7.003301620483398,
          0.7211508750915527,
          -8.146373748779297,
          12.631599426269531,
          -11.867198944091797,
          10.649687767028809,
          16.629640579223633,
          12.334237098693848,
          3.7249529361724854,
          2.435023307800293,
          9.44996166229248,
          10.913896560668945,
          9.17617130279541,
          6.276297569274902,
          9.886541366577148,
          3.9817707538604736,
          -16.449626922607422,
          -1.49161958694458,
          12.871089935302734,
          6.547768592834473,
          -1.4846665859222412,
          -11.81081771850586,
          17.484886169433594,
          9.917743682861328,
          5.404165267944336,
          5.035091400146484,
          15.510104179382324,
          0.2840430438518524,
          12.454872131347656,
          3.7144858837127686,
          -7.644805431365967,
          13.31105899810791,
          3.950613260269165,
          -11.251602172851562,
          13.523285865783691,
          -16.001724243164062,
          -10.591126441955566,
          2.8752706050872803,
          -6.3684892654418945,
          20.891843795776367,
          8.28773307800293,
          17.091833114624023,
          -18.859060287475586,
          -6.615301132202148,
          6.114543437957764,
          9.305475234985352,
          6.537844181060791,
          1.8340808153152466,
          -1.6425951719284058,
          -4.170942306518555,
          -0.5695109367370605,
          23.077037811279297,
          -6.534377574920654,
          5.474921226501465,
          -6.796714782714844,
          14.611971855163574,
          6.769796848297119,
          12.489967346191406,
          -2.1248342990875244,
          -5.963083744049072,
          -9.940841674804688,
          1.3759922981262207,
          -7.656765937805176,
          -2.9673264026641846,
          2.3439056873321533,
          14.917525291442871,
          7.229891300201416,
          6.489849090576172,
          7.762775897979736,
          4.819991111755371,
          -9.081700325012207,
          -10.219359397888184,
          20.231660842895508,
          19.920509338378906,
          -0.6600305438041687,
          -6.133211612701416,
          -16.622644424438477,
          -13.122084617614746,
          -6.924314975738525,
          -4.422929763793945,
          -12.825179100036621,
          2.718522071838379,
          -17.959951400756836,
          -6.703525066375732,
          5.134291648864746,
          7.089673042297363,
          -15.33944034576416,
          -21.479217529296875,
          20.32378387451172,
          -7.122055530548096,
          18.724205017089844,
          16.495458602905273,
          13.714475631713867,
          -9.115470886230469,
          2.542330265045166,
          -6.12980318069458,
          1.5348953008651733,
          5.353196144104004,
          -4.080343246459961,
          13.296667098999023,
          10.726115226745605,
          5.805819034576416,
          -4.279021263122559,
          -3.7769312858581543,
          9.444080352783203,
          4.526823997497559,
          -12.981219291687012,
          -20.048702239990234,
          12.155896186828613,
          4.650545597076416,
          0.13901706039905548,
          1.5994220972061157,
          -0.8740630149841309,
          24.33218002319336,
          -15.940311431884766,
          -11.283818244934082,
          -0.39922529458999634,
          -9.16882610321045,
          -4.757601261138916,
          4.709427833557129,
          4.591795444488525,
          -2.678748607635498,
          -7.4808878898620605,
          -3.4697093963623047,
          3.6899466514587402,
          -19.52179718017578,
          -4.983511924743652,
          -7.9008097648620605,
          -2.9311389923095703,
          -10.016120910644531,
          -8.716352462768555,
          25.051916122436523,
          16.593297958374023,
          -7.2704081535339355,
          -2.846301555633545,
          5.163693904876709,
          -14.173871040344238,
          17.12161636352539,
          13.450067520141602,
          -6.174858093261719,
          16.833585739135742,
          -3.089010715484619,
          18.401697158813477,
          -6.690738677978516,
          -3.7078795433044434,
          -3.2625746726989746,
          -8.41092300415039,
          -8.179672241210938,
          21.037551879882812,
          17.166717529296875,
          -13.604561805725098,
          7.0463714599609375,
          -6.7094645500183105,
          3.9389233589172363,
          0.7844372391700745,
          2.7249648571014404,
          5.738527774810791,
          -1.6925047636032104,
          12.725404739379883,
          -10.508539199829102,
          9.828747749328613,
          -13.808244705200195,
          14.198509216308594,
          14.33599853515625,
          6.979673862457275,
          -1.8059695959091187,
          -20.106075286865234,
          -16.804079055786133,
          -4.447774410247803,
          7.257356643676758,
          -2.1321935653686523,
          -6.188962936401367,
          -3.642005205154419,
          -14.710410118103027,
          1.4796801805496216,
          -15.714925765991211,
          -3.4329144954681396,
          8.683343887329102,
          11.64941120147705,
          12.007977485656738,
          -16.998275756835938,
          -3.2478857040405273,
          -15.08445930480957,
          4.463751316070557,
          -13.138541221618652,
          5.506258964538574,
          4.6700005531311035,
          -8.14862060546875,
          21.423826217651367,
          10.237586975097656,
          18.11916732788086,
          17.01734161376953,
          3.160182237625122,
          17.38117027282715,
          -2.227046489715576,
          4.215195655822754,
          4.443530559539795,
          -18.06976890563965,
          -12.624846458435059,
          18.187484741210938,
          0.3679769039154053,
          -4.674546718597412,
          -8.908992767333984,
          7.947758674621582,
          -0.9208629727363586,
          -4.250125408172607,
          -3.9781227111816406,
          7.764387130737305,
          0.3352820873260498,
          -2.3044703006744385,
          2.5529046058654785,
          -5.539587497711182,
          -11.940403938293457,
          13.229924201965332,
          -10.820433616638184,
          -0.7157651782035828,
          -8.462119102478027,
          -12.678975105285645,
          -4.292276382446289,
          5.912729740142822,
          13.443589210510254,
          -1.2423744201660156,
          -11.54096508026123,
          4.8109660148620605,
          -3.4973199367523193,
          15.33228588104248,
          -4.359256744384766,
          -6.105714797973633,
          15.474308013916016,
          5.559712886810303,
          4.574349880218506,
          -11.54800796508789,
          1.0012458562850952,
          -12.143898963928223,
          -7.224589824676514,
          9.780282974243164,
          -11.848651885986328,
          -12.488977432250977,
          -11.893682479858398,
          -3.60056734085083,
          -12.447827339172363,
          17.958593368530273,
          -9.065770149230957,
          14.538605690002441,
          -0.15682001411914825,
          -12.4281644821167,
          -5.567166805267334,
          -12.44467830657959,
          -8.56836986541748,
          -12.371866226196289,
          8.140460968017578,
          -11.110719680786133,
          -12.65996265411377,
          -8.824139595031738,
          -6.399668216705322,
          13.901622772216797,
          -10.87606430053711,
          -1.5336838960647583,
          5.698037147521973,
          -11.9099702835083,
          -11.726183891296387,
          -4.554582595825195,
          -1.4617037773132324,
          -12.424468040466309,
          17.238534927368164,
          -3.4335453510284424,
          2.3447911739349365,
          14.514350891113281,
          -3.7597579956054688,
          13.658432960510254,
          -11.616849899291992,
          -12.450240135192871,
          15.046651840209961,
          0.045001596212387085,
          8.129838943481445,
          -2.381321430206299,
          -5.201295375823975,
          -7.135923385620117,
          -4.142683029174805,
          15.91084098815918,
          10.576961517333984,
          -6.375267028808594,
          13.743895530700684,
          -13.602762222290039,
          11.309369087219238,
          18.875076293945312,
          11.244105339050293,
          11.949600219726562,
          11.878393173217773,
          2.7802791595458984,
          -12.113848686218262,
          20.044649124145508,
          16.06073760986328,
          5.330446720123291,
          8.093855857849121,
          -0.333626389503479,
          5.232047080993652,
          -13.647377967834473,
          8.398510932922363,
          2.3354268074035645,
          -6.715281963348389,
          8.48425579071045,
          23.38827133178711,
          4.233952522277832,
          -10.537446975708008,
          0.018639471381902695,
          -4.669926166534424,
          -10.07819652557373,
          -2.456559181213379,
          1.0723680257797241,
          7.053474426269531,
          1.7103629112243652,
          -16.972946166992188,
          10.191618919372559,
          -7.940805435180664,
          -6.90706205368042,
          -4.727410793304443,
          3.3980932235717773,
          15.048616409301758,
          1.9698445796966553,
          0.4049394428730011,
          3.2685577869415283,
          2.271054267883301,
          22.85894775390625,
          -1.6474257707595825,
          16.889385223388672,
          0.6484043598175049,
          -2.358867883682251,
          18.8575496673584,
          -1.6517056226730347,
          13.093310356140137,
          11.33694839477539,
          -3.3840553760528564,
          2.4946393966674805,
          -3.591792106628418,
          4.2519330978393555,
          -1.3556054830551147,
          -7.195260047912598,
          0.20519457757472992,
          -13.55920696258545,
          -13.384010314941406,
          -21.018556594848633,
          9.60148811340332,
          -14.878412246704102,
          -7.359518051147461,
          -5.463234901428223,
          7.216165065765381,
          -7.2789483070373535,
          12.628371238708496,
          -7.235010623931885,
          -6.2080397605896,
          4.486336708068848,
          -2.677480697631836,
          8.87252140045166,
          -7.209095001220703,
          -7.312319278717041,
          7.8864521980285645,
          -5.957342147827148,
          1.5040664672851562,
          11.362421035766602,
          0.45931097865104675,
          13.921394348144531,
          6.449235439300537,
          23.756864547729492,
          17.03929901123047,
          -1.2815239429473877,
          -0.8891084790229797,
          -1.0951497554779053,
          2.0185303688049316,
          -5.553867340087891,
          -6.8990254402160645,
          -2.6645567417144775,
          25.586530685424805,
          -5.986433982849121,
          10.916072845458984,
          -1.3959708213806152,
          -1.3437163829803467,
          -12.975831985473633,
          -5.870477199554443,
          -1.0664857625961304,
          -17.856693267822266,
          3.0068788528442383,
          6.835079193115234,
          -1.230165958404541,
          1.803642749786377,
          8.178386688232422,
          -9.275798797607422,
          -5.267208576202393,
          -6.393222808837891,
          -5.306499481201172,
          -7.62684965133667,
          -0.9245227575302124,
          0.49007734656333923,
          -6.096458911895752,
          -2.691688299179077,
          -4.729515552520752,
          10.924457550048828,
          -0.839917004108429,
          -5.855249404907227,
          -5.888125419616699,
          -10.906180381774902,
          12.894388198852539,
          -5.330673694610596,
          6.074934482574463,
          0.9484199285507202,
          3.026088237762451,
          -3.057518482208252,
          -2.4297971725463867,
          12.959702491760254,
          7.400158405303955,
          -0.11731972545385361,
          11.973332405090332,
          5.4282732009887695,
          -14.591791152954102,
          -9.504932403564453,
          -16.920244216918945,
          -19.382762908935547,
          -13.76008129119873,
          6.003894329071045,
          -7.955586910247803,
          2.923089027404785,
          15.412819862365723,
          6.7611284255981445,
          -4.804603099822998,
          9.986898422241211,
          0.9161355495452881,
          6.414164066314697,
          -0.3385499119758606,
          -0.14176368713378906,
          2.8569743633270264,
          20.15528106689453,
          1.1276949644088745,
          13.173755645751953,
          14.08025074005127,
          19.626354217529297,
          -7.254704475402832,
          -3.2229971885681152,
          -15.190568923950195,
          2.896063804626465,
          -1.6064437627792358,
          -4.419164180755615,
          -3.2063851356506348,
          14.032341003417969,
          -5.651057720184326,
          -4.877895355224609,
          -5.635245323181152,
          -5.23167610168457,
          -6.815665245056152,
          -3.374516487121582,
          -7.678949356079102,
          9.111933708190918,
          -6.8530659675598145,
          11.141182899475098,
          -1.605176329612732,
          -5.85856294631958,
          12.60464859008789,
          -5.705803394317627,
          19.998510360717773,
          -5.97167444229126,
          -6.077437877655029,
          -4.784989356994629,
          -5.150853633880615,
          -3.962848424911499,
          -4.008857250213623,
          -6.2194342613220215,
          -5.432157516479492,
          -4.6319756507873535,
          -2.7198433876037598,
          -5.155666828155518,
          -5.896404266357422,
          -4.780681133270264,
          -6.35367488861084,
          -6.262345314025879,
          -4.852245330810547,
          -3.7006919384002686,
          -7.758045673370361,
          -5.152674198150635,
          -3.905715227127075,
          -3.337252140045166,
          -5.837521076202393,
          -5.508203506469727,
          -4.805960655212402,
          -8.123011589050293,
          -5.137835502624512,
          -5.364648818969727,
          11.903305053710938,
          17.0164737701416,
          11.899916648864746,
          14.13084888458252,
          17.0982723236084,
          -7.173079013824463,
          -14.949629783630371,
          -6.161312580108643,
          -3.0593483448028564,
          5.092611789703369,
          9.093165397644043,
          1.8239961862564087,
          -0.20057697594165802,
          -0.21777047216892242,
          20.271392822265625,
          -4.287007808685303,
          6.797654628753662,
          -14.856380462646484,
          1.9995143413543701,
          4.520818710327148,
          10.359869003295898,
          -0.5514768362045288,
          4.209750652313232,
          6.20028829574585,
          20.851308822631836,
          13.13534927368164,
          -4.592806816101074,
          -9.594403266906738,
          -6.772921562194824,
          17.78285789489746,
          -5.498408317565918,
          -1.0580459833145142,
          -13.262300491333008,
          -4.379283428192139,
          -1.4659137725830078,
          13.034353256225586,
          0.7881718873977661,
          16.202638626098633,
          -1.9734317064285278,
          -12.242118835449219,
          6.8614501953125,
          6.196487903594971,
          -8.332880973815918,
          -0.11549562960863113,
          -8.407785415649414,
          -8.132465362548828,
          2.7994604110717773,
          -8.36550521850586,
          -7.666312217712402,
          -8.416308403015137,
          -5.559179306030273,
          -8.60576343536377,
          -8.452324867248535,
          -6.633711338043213,
          16.79118537902832,
          11.245399475097656,
          -4.092170715332031,
          -4.8734517097473145,
          16.102746963500977,
          -8.197057723999023,
          -6.149967670440674,
          -7.979246616363525,
          -5.276193141937256,
          -4.264888763427734,
          4.237404823303223,
          -5.854507923126221,
          -6.946587562561035,
          -7.045856952667236,
          2.007200002670288,
          -10.340620994567871,
          11.735498428344727,
          -1.473988652229309,
          -2.330573320388794,
          -1.095701813697815,
          10.2722749710083,
          9.60650634765625,
          -1.296682357788086,
          -3.4011571407318115,
          10.448928833007812,
          11.652213096618652,
          11.504344940185547,
          9.488988876342773,
          11.331846237182617,
          -1.6671416759490967,
          0.45871636271476746,
          1.2717258930206299,
          5.794344902038574,
          -3.2285244464874268,
          0.22690480947494507,
          3.4449331760406494,
          -1.768640160560608,
          5.326735496520996,
          4.704891204833984,
          -2.6150894165039062,
          4.178142547607422
         ],
         "yaxis": "y"
        }
       ],
       "layout": {
        "coloraxis": {
         "colorbar": {
          "title": {
           "text": "popularity"
          }
         },
         "colorscale": [
          [
           0,
           "#0d0887"
          ],
          [
           0.1111111111111111,
           "#46039f"
          ],
          [
           0.2222222222222222,
           "#7201a8"
          ],
          [
           0.3333333333333333,
           "#9c179e"
          ],
          [
           0.4444444444444444,
           "#bd3786"
          ],
          [
           0.5555555555555556,
           "#d8576b"
          ],
          [
           0.6666666666666666,
           "#ed7953"
          ],
          [
           0.7777777777777778,
           "#fb9f3a"
          ],
          [
           0.8888888888888888,
           "#fdca26"
          ],
          [
           1,
           "#f0f921"
          ]
         ]
        },
        "legend": {
         "tracegroupgap": 0
        },
        "margin": {
         "t": 60
        },
        "template": {
         "data": {
          "bar": [
           {
            "error_x": {
             "color": "#2a3f5f"
            },
            "error_y": {
             "color": "#2a3f5f"
            },
            "marker": {
             "line": {
              "color": "#E5ECF6",
              "width": 0.5
             },
             "pattern": {
              "fillmode": "overlay",
              "size": 10,
              "solidity": 0.2
             }
            },
            "type": "bar"
           }
          ],
          "barpolar": [
           {
            "marker": {
             "line": {
              "color": "#E5ECF6",
              "width": 0.5
             },
             "pattern": {
              "fillmode": "overlay",
              "size": 10,
              "solidity": 0.2
             }
            },
            "type": "barpolar"
           }
          ],
          "carpet": [
           {
            "aaxis": {
             "endlinecolor": "#2a3f5f",
             "gridcolor": "white",
             "linecolor": "white",
             "minorgridcolor": "white",
             "startlinecolor": "#2a3f5f"
            },
            "baxis": {
             "endlinecolor": "#2a3f5f",
             "gridcolor": "white",
             "linecolor": "white",
             "minorgridcolor": "white",
             "startlinecolor": "#2a3f5f"
            },
            "type": "carpet"
           }
          ],
          "choropleth": [
           {
            "colorbar": {
             "outlinewidth": 0,
             "ticks": ""
            },
            "type": "choropleth"
           }
          ],
          "contour": [
           {
            "colorbar": {
             "outlinewidth": 0,
             "ticks": ""
            },
            "colorscale": [
             [
              0,
              "#0d0887"
             ],
             [
              0.1111111111111111,
              "#46039f"
             ],
             [
              0.2222222222222222,
              "#7201a8"
             ],
             [
              0.3333333333333333,
              "#9c179e"
             ],
             [
              0.4444444444444444,
              "#bd3786"
             ],
             [
              0.5555555555555556,
              "#d8576b"
             ],
             [
              0.6666666666666666,
              "#ed7953"
             ],
             [
              0.7777777777777778,
              "#fb9f3a"
             ],
             [
              0.8888888888888888,
              "#fdca26"
             ],
             [
              1,
              "#f0f921"
             ]
            ],
            "type": "contour"
           }
          ],
          "contourcarpet": [
           {
            "colorbar": {
             "outlinewidth": 0,
             "ticks": ""
            },
            "type": "contourcarpet"
           }
          ],
          "heatmap": [
           {
            "colorbar": {
             "outlinewidth": 0,
             "ticks": ""
            },
            "colorscale": [
             [
              0,
              "#0d0887"
             ],
             [
              0.1111111111111111,
              "#46039f"
             ],
             [
              0.2222222222222222,
              "#7201a8"
             ],
             [
              0.3333333333333333,
              "#9c179e"
             ],
             [
              0.4444444444444444,
              "#bd3786"
             ],
             [
              0.5555555555555556,
              "#d8576b"
             ],
             [
              0.6666666666666666,
              "#ed7953"
             ],
             [
              0.7777777777777778,
              "#fb9f3a"
             ],
             [
              0.8888888888888888,
              "#fdca26"
             ],
             [
              1,
              "#f0f921"
             ]
            ],
            "type": "heatmap"
           }
          ],
          "heatmapgl": [
           {
            "colorbar": {
             "outlinewidth": 0,
             "ticks": ""
            },
            "colorscale": [
             [
              0,
              "#0d0887"
             ],
             [
              0.1111111111111111,
              "#46039f"
             ],
             [
              0.2222222222222222,
              "#7201a8"
             ],
             [
              0.3333333333333333,
              "#9c179e"
             ],
             [
              0.4444444444444444,
              "#bd3786"
             ],
             [
              0.5555555555555556,
              "#d8576b"
             ],
             [
              0.6666666666666666,
              "#ed7953"
             ],
             [
              0.7777777777777778,
              "#fb9f3a"
             ],
             [
              0.8888888888888888,
              "#fdca26"
             ],
             [
              1,
              "#f0f921"
             ]
            ],
            "type": "heatmapgl"
           }
          ],
          "histogram": [
           {
            "marker": {
             "pattern": {
              "fillmode": "overlay",
              "size": 10,
              "solidity": 0.2
             }
            },
            "type": "histogram"
           }
          ],
          "histogram2d": [
           {
            "colorbar": {
             "outlinewidth": 0,
             "ticks": ""
            },
            "colorscale": [
             [
              0,
              "#0d0887"
             ],
             [
              0.1111111111111111,
              "#46039f"
             ],
             [
              0.2222222222222222,
              "#7201a8"
             ],
             [
              0.3333333333333333,
              "#9c179e"
             ],
             [
              0.4444444444444444,
              "#bd3786"
             ],
             [
              0.5555555555555556,
              "#d8576b"
             ],
             [
              0.6666666666666666,
              "#ed7953"
             ],
             [
              0.7777777777777778,
              "#fb9f3a"
             ],
             [
              0.8888888888888888,
              "#fdca26"
             ],
             [
              1,
              "#f0f921"
             ]
            ],
            "type": "histogram2d"
           }
          ],
          "histogram2dcontour": [
           {
            "colorbar": {
             "outlinewidth": 0,
             "ticks": ""
            },
            "colorscale": [
             [
              0,
              "#0d0887"
             ],
             [
              0.1111111111111111,
              "#46039f"
             ],
             [
              0.2222222222222222,
              "#7201a8"
             ],
             [
              0.3333333333333333,
              "#9c179e"
             ],
             [
              0.4444444444444444,
              "#bd3786"
             ],
             [
              0.5555555555555556,
              "#d8576b"
             ],
             [
              0.6666666666666666,
              "#ed7953"
             ],
             [
              0.7777777777777778,
              "#fb9f3a"
             ],
             [
              0.8888888888888888,
              "#fdca26"
             ],
             [
              1,
              "#f0f921"
             ]
            ],
            "type": "histogram2dcontour"
           }
          ],
          "mesh3d": [
           {
            "colorbar": {
             "outlinewidth": 0,
             "ticks": ""
            },
            "type": "mesh3d"
           }
          ],
          "parcoords": [
           {
            "line": {
             "colorbar": {
              "outlinewidth": 0,
              "ticks": ""
             }
            },
            "type": "parcoords"
           }
          ],
          "pie": [
           {
            "automargin": true,
            "type": "pie"
           }
          ],
          "scatter": [
           {
            "fillpattern": {
             "fillmode": "overlay",
             "size": 10,
             "solidity": 0.2
            },
            "type": "scatter"
           }
          ],
          "scatter3d": [
           {
            "line": {
             "colorbar": {
              "outlinewidth": 0,
              "ticks": ""
             }
            },
            "marker": {
             "colorbar": {
              "outlinewidth": 0,
              "ticks": ""
             }
            },
            "type": "scatter3d"
           }
          ],
          "scattercarpet": [
           {
            "marker": {
             "colorbar": {
              "outlinewidth": 0,
              "ticks": ""
             }
            },
            "type": "scattercarpet"
           }
          ],
          "scattergeo": [
           {
            "marker": {
             "colorbar": {
              "outlinewidth": 0,
              "ticks": ""
             }
            },
            "type": "scattergeo"
           }
          ],
          "scattergl": [
           {
            "marker": {
             "colorbar": {
              "outlinewidth": 0,
              "ticks": ""
             }
            },
            "type": "scattergl"
           }
          ],
          "scattermapbox": [
           {
            "marker": {
             "colorbar": {
              "outlinewidth": 0,
              "ticks": ""
             }
            },
            "type": "scattermapbox"
           }
          ],
          "scatterpolar": [
           {
            "marker": {
             "colorbar": {
              "outlinewidth": 0,
              "ticks": ""
             }
            },
            "type": "scatterpolar"
           }
          ],
          "scatterpolargl": [
           {
            "marker": {
             "colorbar": {
              "outlinewidth": 0,
              "ticks": ""
             }
            },
            "type": "scatterpolargl"
           }
          ],
          "scatterternary": [
           {
            "marker": {
             "colorbar": {
              "outlinewidth": 0,
              "ticks": ""
             }
            },
            "type": "scatterternary"
           }
          ],
          "surface": [
           {
            "colorbar": {
             "outlinewidth": 0,
             "ticks": ""
            },
            "colorscale": [
             [
              0,
              "#0d0887"
             ],
             [
              0.1111111111111111,
              "#46039f"
             ],
             [
              0.2222222222222222,
              "#7201a8"
             ],
             [
              0.3333333333333333,
              "#9c179e"
             ],
             [
              0.4444444444444444,
              "#bd3786"
             ],
             [
              0.5555555555555556,
              "#d8576b"
             ],
             [
              0.6666666666666666,
              "#ed7953"
             ],
             [
              0.7777777777777778,
              "#fb9f3a"
             ],
             [
              0.8888888888888888,
              "#fdca26"
             ],
             [
              1,
              "#f0f921"
             ]
            ],
            "type": "surface"
           }
          ],
          "table": [
           {
            "cells": {
             "fill": {
              "color": "#EBF0F8"
             },
             "line": {
              "color": "white"
             }
            },
            "header": {
             "fill": {
              "color": "#C8D4E3"
             },
             "line": {
              "color": "white"
             }
            },
            "type": "table"
           }
          ]
         },
         "layout": {
          "annotationdefaults": {
           "arrowcolor": "#2a3f5f",
           "arrowhead": 0,
           "arrowwidth": 1
          },
          "autotypenumbers": "strict",
          "coloraxis": {
           "colorbar": {
            "outlinewidth": 0,
            "ticks": ""
           }
          },
          "colorscale": {
           "diverging": [
            [
             0,
             "#8e0152"
            ],
            [
             0.1,
             "#c51b7d"
            ],
            [
             0.2,
             "#de77ae"
            ],
            [
             0.3,
             "#f1b6da"
            ],
            [
             0.4,
             "#fde0ef"
            ],
            [
             0.5,
             "#f7f7f7"
            ],
            [
             0.6,
             "#e6f5d0"
            ],
            [
             0.7,
             "#b8e186"
            ],
            [
             0.8,
             "#7fbc41"
            ],
            [
             0.9,
             "#4d9221"
            ],
            [
             1,
             "#276419"
            ]
           ],
           "sequential": [
            [
             0,
             "#0d0887"
            ],
            [
             0.1111111111111111,
             "#46039f"
            ],
            [
             0.2222222222222222,
             "#7201a8"
            ],
            [
             0.3333333333333333,
             "#9c179e"
            ],
            [
             0.4444444444444444,
             "#bd3786"
            ],
            [
             0.5555555555555556,
             "#d8576b"
            ],
            [
             0.6666666666666666,
             "#ed7953"
            ],
            [
             0.7777777777777778,
             "#fb9f3a"
            ],
            [
             0.8888888888888888,
             "#fdca26"
            ],
            [
             1,
             "#f0f921"
            ]
           ],
           "sequentialminus": [
            [
             0,
             "#0d0887"
            ],
            [
             0.1111111111111111,
             "#46039f"
            ],
            [
             0.2222222222222222,
             "#7201a8"
            ],
            [
             0.3333333333333333,
             "#9c179e"
            ],
            [
             0.4444444444444444,
             "#bd3786"
            ],
            [
             0.5555555555555556,
             "#d8576b"
            ],
            [
             0.6666666666666666,
             "#ed7953"
            ],
            [
             0.7777777777777778,
             "#fb9f3a"
            ],
            [
             0.8888888888888888,
             "#fdca26"
            ],
            [
             1,
             "#f0f921"
            ]
           ]
          },
          "colorway": [
           "#636efa",
           "#EF553B",
           "#00cc96",
           "#ab63fa",
           "#FFA15A",
           "#19d3f3",
           "#FF6692",
           "#B6E880",
           "#FF97FF",
           "#FECB52"
          ],
          "font": {
           "color": "#2a3f5f"
          },
          "geo": {
           "bgcolor": "white",
           "lakecolor": "white",
           "landcolor": "#E5ECF6",
           "showlakes": true,
           "showland": true,
           "subunitcolor": "white"
          },
          "hoverlabel": {
           "align": "left"
          },
          "hovermode": "closest",
          "mapbox": {
           "style": "light"
          },
          "paper_bgcolor": "white",
          "plot_bgcolor": "#E5ECF6",
          "polar": {
           "angularaxis": {
            "gridcolor": "white",
            "linecolor": "white",
            "ticks": ""
           },
           "bgcolor": "#E5ECF6",
           "radialaxis": {
            "gridcolor": "white",
            "linecolor": "white",
            "ticks": ""
           }
          },
          "scene": {
           "xaxis": {
            "backgroundcolor": "#E5ECF6",
            "gridcolor": "white",
            "gridwidth": 2,
            "linecolor": "white",
            "showbackground": true,
            "ticks": "",
            "zerolinecolor": "white"
           },
           "yaxis": {
            "backgroundcolor": "#E5ECF6",
            "gridcolor": "white",
            "gridwidth": 2,
            "linecolor": "white",
            "showbackground": true,
            "ticks": "",
            "zerolinecolor": "white"
           },
           "zaxis": {
            "backgroundcolor": "#E5ECF6",
            "gridcolor": "white",
            "gridwidth": 2,
            "linecolor": "white",
            "showbackground": true,
            "ticks": "",
            "zerolinecolor": "white"
           }
          },
          "shapedefaults": {
           "line": {
            "color": "#2a3f5f"
           }
          },
          "ternary": {
           "aaxis": {
            "gridcolor": "white",
            "linecolor": "white",
            "ticks": ""
           },
           "baxis": {
            "gridcolor": "white",
            "linecolor": "white",
            "ticks": ""
           },
           "bgcolor": "#E5ECF6",
           "caxis": {
            "gridcolor": "white",
            "linecolor": "white",
            "ticks": ""
           }
          },
          "title": {
           "x": 0.05
          },
          "xaxis": {
           "automargin": true,
           "gridcolor": "white",
           "linecolor": "white",
           "ticks": "",
           "title": {
            "standoff": 15
           },
           "zerolinecolor": "white",
           "zerolinewidth": 2
          },
          "yaxis": {
           "automargin": true,
           "gridcolor": "white",
           "linecolor": "white",
           "ticks": "",
           "title": {
            "standoff": 15
           },
           "zerolinecolor": "white",
           "zerolinewidth": 2
          }
         }
        },
        "xaxis": {
         "anchor": "y",
         "domain": [
          0,
          1
         ],
         "title": {
          "text": "tsne_1"
         }
        },
        "yaxis": {
         "anchor": "x",
         "domain": [
          0,
          1
         ],
         "title": {
          "text": "tsne_2"
         }
        }
       }
      },
      "text/html": [
       "<div>                            <div id=\"2f808ae9-9d22-43dd-85f0-0fbfcea3b9f4\" class=\"plotly-graph-div\" style=\"height:525px; width:100%;\"></div>            <script type=\"text/javascript\">                require([\"plotly\"], function(Plotly) {                    window.PLOTLYENV=window.PLOTLYENV || {};                                    if (document.getElementById(\"2f808ae9-9d22-43dd-85f0-0fbfcea3b9f4\")) {                    Plotly.newPlot(                        \"2f808ae9-9d22-43dd-85f0-0fbfcea3b9f4\",                        [{\"customdata\":[[1,\"Toy Story (1995)\",1995,452],[2,\"GoldenEye (1995)\",1995,131],[3,\"Four Rooms (1995)\",1995,90],[4,\"Get Shorty (1995)\",1995,209],[5,\"Copycat (1995)\",1995,86],[6,\"Shanghai Triad (Yao a yao yao dao waipo qiao) (1995)\",1995,26],[7,\"Twelve Monkeys (1995)\",1995,392],[8,\"Babe (1995)\",1995,219],[9,\"Dead Man Walking (1995)\",1995,299],[10,\"Richard III (1995)\",1996,89],[11,\"Seven (Se7en) (1995)\",1995,236],[12,\"Usual Suspects, The (1995)\",1995,267],[13,\"Mighty Aphrodite (1995)\",1995,184],[14,\"Postino, Il (1994)\",1994,183],[15,\"Mr. Holland's Opus (1995)\",1996,293],[16,\"French Twist (Gazon maudit) (1995)\",1995,39],[17,\"From Dusk Till Dawn (1996)\",1996,92],[18,\"White Balloon, The (1995)\",1995,10],[19,\"Antonia's Line (1995)\",1995,69],[20,\"Angels and Insects (1995)\",1995,72],[21,\"Muppet Treasure Island (1996)\",1996,84],[22,\"Braveheart (1995)\",1996,297],[23,\"Taxi Driver (1976)\",1996,182],[24,\"Rumble in the Bronx (1995)\",1996,174],[25,\"Birdcage, The (1996)\",1996,293],[26,\"Brothers McMullen, The (1995)\",1995,73],[27,\"Bad Boys (1995)\",1995,57],[28,\"Apollo 13 (1995)\",1995,276],[29,\"Batman Forever (1995)\",1995,114],[30,\"Belle de jour (1967)\",1967,37],[31,\"Crimson Tide (1995)\",1995,154],[32,\"Crumb (1994)\",1994,81],[33,\"Desperado (1995)\",1995,97],[34,\"Doom Generation, The (1995)\",1995,7],[35,\"Free Willy 2: The Adventure Home (1995)\",1995,11],[36,\"Mad Love (1995)\",1995,13],[37,\"Nadja (1994)\",1994,8],[38,\"Net, The (1995)\",1995,120],[39,\"Strange Days (1995)\",1995,87],[40,\"To Wong Foo, Thanks for Everything! Julie Newmar (1995)\",1995,57],[41,\"Billy Madison (1995)\",1995,37],[42,\"Clerks (1994)\",1994,148],[43,\"Disclosure (1994)\",1994,40],[44,\"Dolores Claiborne (1994)\",1994,79],[45,\"Eat Drink Man Woman (1994)\",1994,80],[46,\"Exotica (1994)\",1994,27],[47,\"Ed Wood (1994)\",1994,133],[48,\"Hoop Dreams (1994)\",1994,117],[49,\"I.Q. (1994)\",1994,81],[50,\"Star Wars (1977)\",1977,583],[51,\"Legends of the Fall (1994)\",1994,81],[52,\"Madness of King George, The (1994)\",1994,91],[53,\"Natural Born Killers (1994)\",1994,128],[54,\"Outbreak (1995)\",1995,104],[55,\"Professional, The (1994)\",1994,149],[56,\"Pulp Fiction (1994)\",1994,394],[57,\"Priest (1994)\",1994,40],[58,\"Quiz Show (1994)\",1994,175],[59,\"Three Colors: Red (1994)\",1994,83],[60,\"Three Colors: Blue (1993)\",1993,64],[61,\"Three Colors: White (1994)\",1994,59],[62,\"Stargate (1994)\",1994,127],[63,\"Santa Clause, The (1994)\",1994,82],[64,\"Shawshank Redemption, The (1994)\",1994,283],[65,\"What's Eating Gilbert Grape (1993)\",1993,115],[66,\"While You Were Sleeping (1995)\",1995,162],[67,\"Ace Ventura: Pet Detective (1994)\",1994,103],[68,\"Crow, The (1994)\",1994,134],[69,\"Forrest Gump (1994)\",1994,321],[70,\"Four Weddings and a Funeral (1994)\",1994,251],[71,\"Lion King, The (1994)\",1994,220],[72,\"Mask, The (1994)\",1994,129],[73,\"Maverick (1994)\",1994,128],[74,\"Faster Pussycat! Kill! Kill! (1965)\",1965,7],[75,\"Brother Minister: The Assassination of Malcolm X (1994)\",1994,5],[76,\"Carlito's Way (1993)\",1993,54],[77,\"Firm, The (1993)\",1993,151],[78,\"Free Willy (1993)\",1993,33],[79,\"Fugitive, The (1993)\",1993,336],[80,\"Hot Shots! Part Deux (1993)\",1993,68],[81,\"Hudsucker Proxy, The (1994)\",1994,110],[82,\"Jurassic Park (1993)\",1993,261],[83,\"Much Ado About Nothing (1993)\",1993,176],[84,\"Robert A. Heinlein's The Puppet Masters (1994)\",1994,18],[85,\"Ref, The (1994)\",1994,58],[86,\"Remains of the Day, The (1993)\",1993,150],[87,\"Searching for Bobby Fischer (1993)\",1993,138],[88,\"Sleepless in Seattle (1993)\",1993,213],[89,\"Blade Runner (1982)\",1982,275],[90,\"So I Married an Axe Murderer (1993)\",1993,95],[91,\"Nightmare Before Christmas, The (1993)\",1993,143],[92,\"True Romance (1993)\",1993,104],[93,\"Welcome to the Dollhouse (1995)\",1996,112],[94,\"Home Alone (1990)\",1990,137],[95,\"Aladdin (1992)\",1992,219],[96,\"Terminator 2: Judgment Day (1991)\",1991,295],[97,\"Dances with Wolves (1990)\",1990,256],[98,\"Silence of the Lambs, The (1991)\",1991,390],[99,\"Snow White and the Seven Dwarfs (1937)\",1937,172],[100,\"Fargo (1996)\",1997,508],[101,\"Heavy Metal (1981)\",1981,73],[102,\"Aristocats, The (1970)\",1970,54],[103,\"All Dogs Go to Heaven 2 (1996)\",1996,15],[104,\"Theodore Rex (1995)\",1996,5],[105,\"Sgt. Bilko (1996)\",1996,74],[106,\"Diabolique (1996)\",1996,71],[107,\"Moll Flanders (1996)\",1996,42],[108,\"Kids in the Hall: Brain Candy (1996)\",1996,65],[109,\"Mystery Science Theater 3000: The Movie (1996)\",1996,130],[110,\"Operation Dumbo Drop (1995)\",1995,31],[111,\"Truth About Cats & Dogs, The (1996)\",1996,272],[112,\"Flipper (1996)\",1996,20],[113,\"Horseman on the Roof, The (Hussard sur le toit, Le) (1995)\",1996,9],[114,\"Wallace & Gromit: The Best of Aardman Animation (1996)\",1996,67],[115,\"Haunted World of Edward D. Wood Jr., The (1995)\",1996,15],[116,\"Cold Comfort Farm (1995)\",1996,125],[117,\"Rock, The (1996)\",1996,378],[118,\"Twister (1996)\",1996,293],[119,\"Maya Lin: A Strong Clear Vision (1994)\",1994,4],[120,\"Striptease (1996)\",1996,67],[121,\"Independence Day (ID4) (1996)\",1996,429],[122,\"Cable Guy, The (1996)\",1996,106],[123,\"Frighteners, The (1996)\",1996,115],[124,\"Lone Star (1996)\",1996,187],[125,\"Phenomenon (1996)\",1996,244],[126,\"Spitfire Grill, The (1996)\",1996,97],[127,\"Godfather, The (1972)\",1972,413],[128,\"Supercop (1992)\",1996,65],[129,\"Bound (1996)\",1996,129],[130,\"Kansas City (1996)\",1996,23],[131,\"Breakfast at Tiffany's (1961)\",1961,95],[132,\"Wizard of Oz, The (1939)\",1939,246],[133,\"Gone with the Wind (1939)\",1939,171],[134,\"Citizen Kane (1941)\",1941,198],[135,\"2001: A Space Odyssey (1968)\",1968,259],[136,\"Mr. Smith Goes to Washington (1939)\",1939,105],[137,\"Big Night (1996)\",1996,171],[138,\"D3: The Mighty Ducks (1996)\",1996,19],[139,\"Love Bug, The (1969)\",1969,50],[140,\"Homeward Bound: The Incredible Journey (1993)\",1993,61],[141,\"20,000 Leagues Under the Sea (1954)\",1954,72],[142,\"Bedknobs and Broomsticks (1971)\",1971,57],[143,\"Sound of Music, The (1965)\",1965,222],[144,\"Die Hard (1988)\",1988,243],[145,\"Lawnmower Man, The (1992)\",1992,65],[146,\"Unhook the Stars (1996)\",1996,10],[147,\"Long Kiss Goodnight, The (1996)\",1996,185],[148,\"Ghost and the Darkness, The (1996)\",1996,128],[149,\"Jude (1996)\",1996,23],[150,\"Swingers (1996)\",1996,157],[151,\"Willy Wonka and the Chocolate Factory (1971)\",1971,326],[152,\"Sleeper (1973)\",1973,82],[153,\"Fish Called Wanda, A (1988)\",1988,247],[154,\"Monty Python's Life of Brian (1979)\",1979,174],[155,\"Dirty Dancing (1987)\",1987,98],[156,\"Reservoir Dogs (1992)\",1992,148],[157,\"Platoon (1986)\",1986,127],[158,\"Weekend at Bernie's (1989)\",1989,60],[159,\"Basic Instinct (1992)\",1992,101],[160,\"Glengarry Glen Ross (1992)\",1992,69],[161,\"Top Gun (1986)\",1986,220],[162,\"On Golden Pond (1981)\",1981,106],[163,\"Return of the Pink Panther, The (1974)\",1974,92],[164,\"Abyss, The (1989)\",1989,151],[165,\"Jean de Florette (1986)\",1986,64],[166,\"Manon of the Spring (Manon des sources) (1986)\",1986,58],[167,\"Private Benjamin (1980)\",1980,67],[168,\"Monty Python and the Holy Grail (1974)\",1974,316],[169,\"Wrong Trousers, The (1993)\",1993,118],[170,\"Cinema Paradiso (1988)\",1988,121],[171,\"Delicatessen (1991)\",1991,65],[172,\"Empire Strikes Back, The (1980)\",1980,367],[173,\"Princess Bride, The (1987)\",1987,324],[174,\"Raiders of the Lost Ark (1981)\",1981,420],[175,\"Brazil (1985)\",1985,208],[176,\"Aliens (1986)\",1986,284],[177,\"Good, The Bad and The Ugly, The (1966)\",1966,137],[178,\"12 Angry Men (1957)\",1957,125],[179,\"Clockwork Orange, A (1971)\",1971,221],[180,\"Apocalypse Now (1979)\",1979,221],[181,\"Return of the Jedi (1983)\",1997,507],[182,\"GoodFellas (1990)\",1990,226],[183,\"Alien (1979)\",1979,291],[184,\"Army of Darkness (1993)\",1993,116],[185,\"Psycho (1960)\",1960,239],[186,\"Blues Brothers, The (1980)\",1980,251],[187,\"Godfather: Part II, The (1974)\",1974,209],[188,\"Full Metal Jacket (1987)\",1987,170],[189,\"Grand Day Out, A (1992)\",1992,66],[190,\"Henry V (1989)\",1989,124],[191,\"Amadeus (1984)\",1984,276],[192,\"Raging Bull (1980)\",1980,116],[193,\"Right Stuff, The (1983)\",1983,157],[194,\"Sting, The (1973)\",1973,241],[195,\"Terminator, The (1984)\",1984,301],[196,\"Dead Poets Society (1989)\",1989,251],[197,\"Graduate, The (1967)\",1967,239],[198,\"Nikita (La Femme Nikita) (1990)\",1990,127],[199,\"Bridge on the River Kwai, The (1957)\",1957,165],[200,\"Shining, The (1980)\",1980,206],[201,\"Evil Dead II (1987)\",1987,89],[202,\"Groundhog Day (1993)\",1993,280],[203,\"Unforgiven (1992)\",1992,182],[204,\"Back to the Future (1985)\",1985,350],[205,\"Patton (1970)\",1970,136],[206,\"Akira (1988)\",1988,50],[207,\"Cyrano de Bergerac (1990)\",1990,66],[208,\"Young Frankenstein (1974)\",1974,200],[209,\"This Is Spinal Tap (1984)\",1984,191],[210,\"Indiana Jones and the Last Crusade (1989)\",1989,331],[211,\"M*A*S*H (1970)\",1970,206],[212,\"Unbearable Lightness of Being, The (1988)\",1988,92],[213,\"Room with a View, A (1986)\",1986,134],[214,\"Pink Floyd - The Wall (1982)\",1982,114],[215,\"Field of Dreams (1989)\",1989,212],[216,\"When Harry Met Sally... (1989)\",1989,290],[217,\"Bram Stoker's Dracula (1992)\",1992,120],[218,\"Cape Fear (1991)\",1991,171],[219,\"Nightmare on Elm Street, A (1984)\",1984,111],[220,\"Mirror Has Two Faces, The (1996)\",1996,66],[221,\"Breaking the Waves (1996)\",1996,74],[222,\"Star Trek: First Contact (1996)\",1996,365],[223,\"Sling Blade (1996)\",1996,136],[224,\"Ridicule (1996)\",1996,44],[225,\"101 Dalmatians (1996)\",1996,109],[226,\"Die Hard 2 (1990)\",1990,166],[227,\"Star Trek VI: The Undiscovered Country (1991)\",1991,161],[228,\"Star Trek: The Wrath of Khan (1982)\",1982,244],[229,\"Star Trek III: The Search for Spock (1984)\",1984,171],[230,\"Star Trek IV: The Voyage Home (1986)\",1986,199],[231,\"Batman Returns (1992)\",1992,142],[232,\"Young Guns (1988)\",1988,101],[233,\"Under Siege (1992)\",1992,124],[234,\"Jaws (1975)\",1975,280],[235,\"Mars Attacks! (1996)\",1996,217],[236,\"Citizen Ruth (1996)\",1996,45],[237,\"Jerry Maguire (1996)\",1996,384],[238,\"Raising Arizona (1987)\",1987,256],[239,\"Sneakers (1992)\",1992,150],[240,\"Beavis and Butt-head Do America (1996)\",1996,156],[241,\"Last of the Mohicans, The (1992)\",1992,128],[242,\"Kolya (1996)\",1997,117],[243,\"Jungle2Jungle (1997)\",1997,132],[244,\"Smilla's Sense of Snow (1997)\",1997,48],[245,\"Devil's Own, The (1997)\",1997,240],[246,\"Chasing Amy (1997)\",1997,124],[247,\"Turbo: A Power Rangers Movie (1997)\",1997,5],[248,\"Grosse Pointe Blank (1997)\",1997,160],[249,\"Austin Powers: International Man of Mystery (1997)\",1997,130],[250,\"Fifth Element, The (1997)\",1997,197],[251,\"Shall We Dance? (1996)\",1997,46],[252,\"Lost World: Jurassic Park, The (1997)\",1997,158],[253,\"Pillow Book, The (1995)\",1997,26],[254,\"Batman & Robin (1997)\",1997,62],[255,\"My Best Friend's Wedding (1997)\",1997,172],[256,\"When the Cats Away (Chacun cherche son chat) (1996)\",1997,16],[257,\"Men in Black (1997)\",1997,303],[258,\"Contact (1997)\",1997,509],[259,\"George of the Jungle (1997)\",1997,162],[260,\"Event Horizon (1997)\",1997,127],[261,\"Air Bud (1997)\",1997,43],[262,\"In the Company of Men (1997)\",1997,66],[263,\"Steel (1997)\",1997,19],[264,\"Mimic (1997)\",1997,101],[265,\"Hunt for Red October, The (1990)\",1990,227],[266,\"Kull the Conqueror (1997)\",1997,35],[267,\"unknown\",1920,9],[268,\"Chasing Amy (1997)\",1997,255],[269,\"Full Monty, The (1997)\",1997,315],[270,\"Gattaca (1997)\",1997,136],[271,\"Starship Troopers (1997)\",1997,211],[272,\"Good Will Hunting (1997)\",1997,198],[273,\"Heat (1995)\",1995,223],[274,\"Sabrina (1995)\",1995,190],[275,\"Sense and Sensibility (1995)\",1995,268],[276,\"Leaving Las Vegas (1995)\",1995,298],[277,\"Restoration (1995)\",1995,71],[278,\"Bed of Roses (1996)\",1996,60],[279,\"Once Upon a Time... When We Were Colored (1995)\",1995,28],[280,\"Up Close and Personal (1996)\",1996,85],[281,\"River Wild, The (1994)\",1994,146],[282,\"Time to Kill, A (1996)\",1996,232],[283,\"Emma (1996)\",1996,177],[284,\"Tin Cup (1996)\",1996,193],[285,\"Secrets & Lies (1996)\",1996,162],[286,\"English Patient, The (1996)\",1996,481],[287,\"Marvin's Room (1996)\",1996,78],[288,\"Scream (1996)\",1996,478],[289,\"Evita (1996)\",1996,259],[290,\"Fierce Creatures (1997)\",1997,96],[291,\"Absolute Power (1997)\",1997,127],[292,\"Rosewood (1997)\",1997,114],[293,\"Donnie Brasco (1997)\",1997,147],[294,\"Liar Liar (1997)\",1997,485],[295,\"Breakdown (1997)\",1997,77],[296,\"Promesse, La (1996)\",1997,6],[297,\"Ulee's Gold (1997)\",1997,50],[298,\"Face/Off (1997)\",1997,194],[299,\"Hoodlum (1997)\",1997,73],[300,\"Air Force One (1997)\",1997,431],[301,\"In & Out (1997)\",1997,230],[302,\"L.A. Confidential (1997)\",1997,297],[303,\"Ulee's Gold (1997)\",1997,134],[304,\"Fly Away Home (1996)\",1996,149],[305,\"Ice Storm, The (1997)\",1997,87],[306,\"Mrs. Brown (Her Majesty, Mrs. Brown) (1997)\",1997,96],[307,\"Devil's Advocate, The (1997)\",1997,188],[308,\"FairyTale: A True Story (1997)\",1997,30],[309,\"Deceiver (1997)\",1997,28],[310,\"Rainmaker, The (1997)\",1997,145],[311,\"Wings of the Dove, The (1997)\",1997,75],[312,\"Midnight in the Garden of Good and Evil (1997)\",1997,80],[313,\"Titanic (1997)\",1997,350],[314,\"3 Ninjas: High Noon At Mega Mountain (1998)\",1997,5],[315,\"Apt Pupil (1998)\",1998,160],[316,\"As Good As It Gets (1997)\",1997,112],[317,\"In the Name of the Father (1993)\",1993,102],[318,\"Schindler's List (1993)\",1993,298],[319,\"Everyone Says I Love You (1996)\",1996,168],[320,\"Paradise Lost: The Child Murders at Robin Hood Hills (1996)\",1996,20],[321,\"Mother (1996)\",1996,169],[322,\"Murder at 1600 (1997)\",1997,218],[323,\"Dante's Peak (1997)\",1997,240],[324,\"Lost Highway (1997)\",1997,125],[325,\"Crash (1996)\",1997,128],[326,\"G.I. Jane (1997)\",1997,175],[327,\"Cop Land (1997)\",1997,175],[328,\"Conspiracy Theory (1997)\",1997,295],[329,\"Desperate Measures (1998)\",1998,45],[330,\"187 (1997)\",1997,41],[331,\"Edge, The (1997)\",1997,113],[332,\"Kiss the Girls (1997)\",1997,143],[333,\"Game, The (1997)\",1997,251],[334,\"U Turn (1997)\",1997,64],[335,\"How to Be a Player (1997)\",1997,21],[336,\"Playing God (1997)\",1997,43],[337,\"House of Yes, The (1997)\",1997,18],[338,\"Bean (1997)\",1997,91],[339,\"Mad City (1997)\",1997,47],[340,\"Boogie Nights (1997)\",1997,189],[341,\"Critical Care (1997)\",1997,11],[342,\"Man Who Knew Too Little, The (1997)\",1997,52],[343,\"Alien: Resurrection (1997)\",1997,124],[344,\"Apostle, The (1997)\",1997,55],[345,\"Deconstructing Harry (1997)\",1997,65],[346,\"Jackie Brown (1997)\",1997,126],[347,\"Wag the Dog (1997)\",1998,137],[348,\"Desperate Measures (1998)\",1998,27],[349,\"Hard Rain (1998)\",1998,31],[350,\"Fallen (1998)\",1998,41],[351,\"Prophecy II, The (1998)\",1998,20],[352,\"Spice World (1997)\",1997,26],[353,\"Deep Rising (1998)\",1998,14],[354,\"Wedding Singer, The (1998)\",1998,72],[355,\"Sphere (1998)\",1998,41],[356,\"Client, The (1994)\",1994,97],[357,\"One Flew Over the Cuckoo's Nest (1975)\",1975,264],[358,\"Spawn (1997)\",1997,143],[359,\"Assignment, The (1997)\",1997,18],[360,\"Wonderland (1997)\",1997,10],[361,\"Incognito (1997)\",1997,10],[362,\"Blues Brothers 2000 (1998)\",1998,28],[363,\"Sudden Death (1995)\",1995,47],[364,\"Ace Ventura: When Nature Calls (1995)\",1995,37],[365,\"Powder (1995)\",1995,48],[366,\"Dangerous Minds (1995)\",1995,47],[367,\"Clueless (1995)\",1995,170],[368,\"Bio-Dome (1996)\",1996,31],[369,\"Black Sheep (1996)\",1996,55],[370,\"Mary Reilly (1996)\",1996,39],[371,\"Bridges of Madison County, The (1995)\",1996,67],[372,\"Jeffrey (1995)\",1995,34],[373,\"Judge Dredd (1995)\",1995,39],[374,\"Mighty Morphin Power Rangers: The Movie (1995)\",1995,11],[375,\"Showgirls (1995)\",1995,23],[376,\"Houseguest (1994)\",1994,24],[377,\"Heavyweights (1994)\",1994,13],[378,\"Miracle on 34th Street (1994)\",1994,101],[379,\"Tales From the Crypt Presents: Demon Knight (1995)\",1995,43],[380,\"Star Trek: Generations (1994)\",1994,116],[381,\"Muriel's Wedding (1994)\",1994,100],[382,\"Adventures of Priscilla, Queen of the Desert, The (1994)\",1994,111],[383,\"Flintstones, The (1994)\",1994,31],[384,\"Naked Gun 33 1/3: The Final Insult (1994)\",1994,69],[385,\"True Lies (1994)\",1994,208],[386,\"Addams Family Values (1993)\",1993,87],[387,\"Age of Innocence, The (1993)\",1993,65],[388,\"Beverly Hills Cop III (1994)\",1994,28],[389,\"Black Beauty (1994)\",1994,27],[390,\"Fear of a Black Hat (1993)\",1993,10],[391,\"Last Action Hero (1993)\",1993,59],[392,\"Man Without a Face, The (1993)\",1993,68],[393,\"Mrs. Doubtfire (1993)\",1993,192],[394,\"Radioland Murders (1994)\",1994,12],[395,\"Robin Hood: Men in Tights (1993)\",1993,56],[396,\"Serial Mom (1994)\",1994,54],[397,\"Striking Distance (1993)\",1993,12],[398,\"Super Mario Bros. (1993)\",1993,26],[399,\"Three Musketeers, The (1993)\",1993,89],[400,\"Little Rascals, The (1994)\",1994,18],[401,\"Brady Bunch Movie, The (1995)\",1995,76],[402,\"Ghost (1990)\",1990,170],[403,\"Batman (1989)\",1989,201],[404,\"Pinocchio (1940)\",1940,101],[405,\"Mission: Impossible (1996)\",1996,344],[406,\"Thinner (1996)\",1996,49],[407,\"Spy Hard (1996)\",1996,43],[408,\"Close Shave, A (1995)\",1996,112],[409,\"Jack (1996)\",1996,70],[410,\"Kingpin (1996)\",1996,162],[411,\"Nutty Professor, The (1996)\",1996,163],[412,\"Very Brady Sequel, A (1996)\",1996,93],[413,\"Tales from the Crypt Presents: Bordello of Blood (1996)\",1996,55],[414,\"My Favorite Year (1982)\",1982,62],[415,\"Apple Dumpling Gang, The (1975)\",1975,25],[416,\"Old Yeller (1957)\",1957,64],[417,\"Parent Trap, The (1961)\",1961,73],[418,\"Cinderella (1950)\",1950,129],[419,\"Mary Poppins (1964)\",1964,178],[420,\"Alice in Wonderland (1951)\",1951,81],[421,\"William Shakespeare's Romeo and Juliet (1996)\",1996,106],[422,\"Aladdin and the King of Thieves (1996)\",1996,26],[423,\"E.T. the Extra-Terrestrial (1982)\",1982,300],[424,\"Children of the Corn: The Gathering (1996)\",1996,19],[425,\"Bob Roberts (1992)\",1992,85],[426,\"Transformers: The Movie, The (1986)\",1986,32],[427,\"To Kill a Mockingbird (1962)\",1962,219],[428,\"Harold and Maude (1971)\",1971,121],[429,\"Day the Earth Stood Still, The (1951)\",1951,97],[430,\"Duck Soup (1933)\",1933,93],[431,\"Highlander (1986)\",1986,153],[432,\"Fantasia (1940)\",1940,174],[433,\"Heathers (1989)\",1989,171],[434,\"Forbidden Planet (1956)\",1956,67],[435,\"Butch Cassidy and the Sundance Kid (1969)\",1969,216],[436,\"American Werewolf in London, An (1981)\",1981,99],[437,\"Amityville 1992: It's About Time (1992)\",1992,5],[438,\"Amityville 3-D (1983)\",1983,6],[439,\"Amityville: A New Generation (1993)\",1993,5],[440,\"Amityville II: The Possession (1982)\",1982,14],[441,\"Amityville Horror, The (1979)\",1979,53],[442,\"Amityville Curse, The (1990)\",1990,4],[443,\"Birds, The (1963)\",1963,162],[444,\"Blob, The (1958)\",1958,46],[445,\"Body Snatcher, The (1945)\",1945,22],[446,\"Burnt Offerings (1976)\",1976,9],[447,\"Carrie (1976)\",1976,121],[448,\"Omen, The (1976)\",1976,85],[449,\"Star Trek: The Motion Picture (1979)\",1979,117],[450,\"Star Trek V: The Final Frontier (1989)\",1989,63],[451,\"Grease (1978)\",1978,170],[452,\"Jaws 2 (1978)\",1978,66],[453,\"Jaws 3-D (1983)\",1983,16],[454,\"Bastard Out of Carolina (1996)\",1996,16],[455,\"Jackie Chan's First Strike (1996)\",1997,145],[456,\"Beverly Hills Ninja (1997)\",1997,48],[457,\"Free Willy 3: The Rescue (1997)\",1997,27],[458,\"Nixon (1995)\",1995,90],[459,\"Cry, the Beloved Country (1995)\",1995,24],[460,\"Crossing Guard, The (1995)\",1995,28],[461,\"Smoke (1995)\",1995,74],[462,\"Like Water For Chocolate (Como agua para chocolate) (1992)\",1992,148],[463,\"Secret of Roan Inish, The (1994)\",1994,71],[464,\"Vanya on 42nd Street (1994)\",1994,27],[465,\"Jungle Book, The (1994)\",1994,85],[466,\"Red Rock West (1992)\",1992,52],[467,\"Bronx Tale, A (1993)\",1993,48],[468,\"Rudy (1993)\",1993,64],[469,\"Short Cuts (1993)\",1993,67],[470,\"Tombstone (1993)\",1993,108],[471,\"Courage Under Fire (1996)\",1996,221],[472,\"Dragonheart (1996)\",1996,158],[473,\"James and the Giant Peach (1996)\",1996,126],[474,\"Dr. Strangelove or: How I Learned to Stop Worrying and Love the Bomb (1963)\",1963,194],[475,\"Trainspotting (1996)\",1996,250],[476,\"First Wives Club, The (1996)\",1996,160],[477,\"Matilda (1996)\",1996,95],[478,\"Philadelphia Story, The (1940)\",1940,104],[479,\"Vertigo (1958)\",1958,179],[480,\"North by Northwest (1959)\",1959,179],[481,\"Apartment, The (1960)\",1960,63],[482,\"Some Like It Hot (1959)\",1959,128],[483,\"Casablanca (1942)\",1942,243],[484,\"Maltese Falcon, The (1941)\",1941,138],[485,\"My Fair Lady (1964)\",1964,125],[486,\"Sabrina (1954)\",1954,64],[487,\"Roman Holiday (1953)\",1953,68],[488,\"Sunset Blvd. (1950)\",1950,65],[489,\"Notorious (1946)\",1946,52],[490,\"To Catch a Thief (1955)\",1955,50],[491,\"Adventures of Robin Hood, The (1938)\",1938,67],[492,\"East of Eden (1955)\",1955,59],[493,\"Thin Man, The (1934)\",1934,60],[494,\"His Girl Friday (1940)\",1940,56],[495,\"Around the World in 80 Days (1956)\",1956,59],[496,\"It's a Wonderful Life (1946)\",1946,231],[497,\"Bringing Up Baby (1938)\",1938,68],[498,\"African Queen, The (1951)\",1951,152],[499,\"Cat on a Hot Tin Roof (1958)\",1958,62],[500,\"Fly Away Home (1996)\",1996,31],[501,\"Dumbo (1941)\",1941,123],[502,\"Bananas (1971)\",1971,57],[503,\"Candidate, The (1972)\",1972,39],[504,\"Bonnie and Clyde (1967)\",1967,122],[505,\"Dial M for Murder (1954)\",1954,68],[506,\"Rebel Without a Cause (1955)\",1955,90],[507,\"Streetcar Named Desire, A (1951)\",1951,98],[508,\"People vs. Larry Flynt, The (1996)\",1996,215],[509,\"My Left Foot (1989)\",1989,121],[510,\"Magnificent Seven, The (1954)\",1954,121],[511,\"Lawrence of Arabia (1962)\",1962,173],[512,\"Wings of Desire (1987)\",1987,57],[513,\"Third Man, The (1949)\",1949,72],[514,\"Annie Hall (1977)\",1977,180],[515,\"Boot, Das (1981)\",1997,201],[516,\"Local Hero (1983)\",1983,63],[517,\"Manhattan (1979)\",1979,91],[518,\"Miller's Crossing (1990)\",1990,89],[519,\"Treasure of the Sierra Madre, The (1948)\",1948,80],[520,\"Great Escape, The (1963)\",1963,124],[521,\"Deer Hunter, The (1978)\",1978,120],[522,\"Down by Law (1986)\",1986,35],[523,\"Cool Hand Luke (1967)\",1967,164],[524,\"Great Dictator, The (1940)\",1940,46],[525,\"Big Sleep, The (1946)\",1946,73],[526,\"Ben-Hur (1959)\",1959,124],[527,\"Gandhi (1982)\",1982,195],[528,\"Killing Fields, The (1984)\",1984,121],[529,\"My Life as a Dog (Mitt liv som hund) (1985)\",1985,93],[530,\"Man Who Would Be King, The (1975)\",1975,80],[531,\"Shine (1996)\",1996,129],[532,\"Kama Sutra: A Tale of Love (1996)\",1997,22],[533,\"Daytrippers, The (1996)\",1997,15],[534,\"Traveller (1997)\",1997,13],[535,\"Addicted to Love (1997)\",1997,54],[536,\"Ponette (1996)\",1997,10],[537,\"My Own Private Idaho (1991)\",1991,30],[538,\"Anastasia (1997)\",1997,66],[539,\"Mouse Hunt (1997)\",1997,44],[540,\"Money Train (1995)\",1995,43],[541,\"Mortal Kombat (1995)\",1995,49],[542,\"Pocahontas (1995)\",1995,51],[543,\"Mis\\u00e9rables, Les (1995)\",1995,21],[544,\"Things to Do in Denver when You're Dead (1995)\",1996,71],[545,\"Vampire in Brooklyn (1995)\",1995,12],[546,\"Broken Arrow (1996)\",1996,254],[547,\"Young Poisoner's Handbook, The (1995)\",1996,41],[548,\"NeverEnding Story III, The (1994)\",1996,12],[549,\"Rob Roy (1995)\",1995,92],[550,\"Die Hard: With a Vengeance (1995)\",1995,151],[551,\"Lord of Illusions (1995)\",1995,24],[552,\"Species (1995)\",1995,45],[553,\"Walk in the Clouds, A (1995)\",1995,63],[554,\"Waterworld (1995)\",1995,102],[555,\"White Man's Burden (1995)\",1995,10],[556,\"Wild Bill (1995)\",1995,12],[557,\"Farinelli: il castrato (1994)\",1994,17],[558,\"Heavenly Creatures (1994)\",1994,70],[559,\"Interview with the Vampire (1994)\",1994,137],[560,\"Kid in King Arthur's Court, A (1995)\",1995,22],[561,\"Mary Shelley's Frankenstein (1994)\",1994,59],[562,\"Quick and the Dead, The (1995)\",1995,48],[563,\"Stephen King's The Langoliers (1995)\",1995,29],[564,\"Tales from the Hood (1995)\",1995,27],[565,\"Village of the Damned (1995)\",1995,22],[566,\"Clear and Present Danger (1994)\",1994,179],[567,\"Wes Craven's New Nightmare (1994)\",1994,35],[568,\"Speed (1994)\",1994,230],[569,\"Wolf (1994)\",1994,67],[570,\"Wyatt Earp (1994)\",1994,50],[571,\"Another Stakeout (1993)\",1993,28],[572,\"Blown Away (1994)\",1994,29],[573,\"Body Snatchers (1993)\",1993,33],[574,\"Boxing Helena (1993)\",1993,15],[575,\"City Slickers II: The Legend of Curly's Gold (1994)\",1994,44],[576,\"Cliffhanger (1993)\",1993,93],[577,\"Coneheads (1993)\",1993,41],[578,\"Demolition Man (1993)\",1993,92],[579,\"Fatal Instinct (1993)\",1993,19],[580,\"Englishman Who Went Up a Hill, But Came Down a Mountain, The (1995)\",1995,32],[581,\"Kalifornia (1993)\",1993,59],[582,\"Piano, The (1993)\",1993,168],[583,\"Romeo Is Bleeding (1993)\",1993,37],[584,\"Secret Garden, The (1993)\",1993,79],[585,\"Son in Law (1993)\",1993,39],[586,\"Terminal Velocity (1994)\",1994,34],[587,\"Hour of the Pig, The (1993)\",1993,14],[588,\"Beauty and the Beast (1991)\",1991,202],[589,\"Wild Bunch, The (1969)\",1969,43],[590,\"Hellraiser: Bloodline (1996)\",1996,18],[591,\"Primal Fear (1996)\",1996,178],[592,\"True Crime (1995)\",1995,9],[593,\"Stalingrad (1993)\",1993,12],[594,\"Heavy (1995)\",1996,5],[595,\"Fan, The (1996)\",1996,64],[596,\"Hunchback of Notre Dame, The (1996)\",1996,127],[597,\"Eraser (1996)\",1996,206],[598,\"Big Squeeze, The (1996)\",1996,4],[599,\"Police Story 4: Project S (Chao ji ji hua) (1993)\",1996,1],[600,\"Daniel Defoe's Robinson Crusoe (1996)\",1996,2],[601,\"For Whom the Bell Tolls (1943)\",1943,20],[602,\"American in Paris, An (1951)\",1951,50],[603,\"Rear Window (1954)\",1954,209],[604,\"It Happened One Night (1934)\",1934,81],[605,\"Meet Me in St. Louis (1944)\",1944,31],[606,\"All About Eve (1950)\",1950,66],[607,\"Rebecca (1940)\",1940,66],[608,\"Spellbound (1945)\",1945,30],[609,\"Father of the Bride (1950)\",1950,60],[610,\"Gigi (1958)\",1958,41],[611,\"Laura (1944)\",1944,40],[612,\"Lost Horizon (1937)\",1937,34],[613,\"My Man Godfrey (1936)\",1936,27],[614,\"Giant (1956)\",1956,51],[615,\"39 Steps, The (1935)\",1935,59],[616,\"Night of the Living Dead (1968)\",1968,64],[617,\"Blue Angel, The (Blaue Engel, Der) (1930)\",1930,18],[618,\"Picnic (1955)\",1955,18],[619,\"Extreme Measures (1996)\",1996,64],[620,\"Chamber, The (1996)\",1996,43],[621,\"Davy Crockett, King of the Wild Frontier (1955)\",1955,11],[622,\"Swiss Family Robinson (1960)\",1960,39],[623,\"Angels in the Outfield (1994)\",1994,39],[624,\"Three Caballeros, The (1945)\",1945,22],[625,\"Sword in the Stone, The (1963)\",1963,82],[626,\"So Dear to My Heart (1949)\",1949,4],[627,\"Robin Hood: Prince of Thieves (1991)\",1991,75],[628,\"Sleepers (1996)\",1996,169],[629,\"Victor/Victoria (1982)\",1982,77],[630,\"Great Race, The (1965)\",1965,31],[631,\"Crying Game, The (1992)\",1992,119],[632,\"Sophie's Choice (1982)\",1982,58],[633,\"Christmas Carol, A (1938)\",1938,69],[634,\"Microcosmos: Le peuple de l'herbe (1996)\",1996,24],[635,\"Fog, The (1980)\",1980,23],[636,\"Escape from New York (1981)\",1981,91],[637,\"Howling, The (1981)\",1981,38],[638,\"Return of Martin Guerre, The (Retour de Martin Guerre, Le) (1982)\",1982,44],[639,\"Tin Drum, The (Blechtrommel, Die) (1979)\",1979,40],[640,\"Cook the Thief His Wife & Her Lover, The (1989)\",1989,82],[641,\"Paths of Glory (1957)\",1957,33],[642,\"Grifters, The (1990)\",1990,89],[643,\"The Innocent (1994)\",1994,4],[644,\"Thin Blue Line, The (1988)\",1988,35],[645,\"Paris Is Burning (1990)\",1990,27],[646,\"Once Upon a Time in the West (1969)\",1969,38],[647,\"Ran (1985)\",1985,70],[648,\"Quiet Man, The (1952)\",1952,67],[649,\"Once Upon a Time in America (1984)\",1984,50],[650,\"Seventh Seal, The (Sjunde inseglet, Det) (1957)\",1957,72],[651,\"Glory (1989)\",1989,171],[652,\"Rosencrantz and Guildenstern Are Dead (1990)\",1990,90],[653,\"Touch of Evil (1958)\",1958,34],[654,\"Chinatown (1974)\",1974,147],[655,\"Stand by Me (1986)\",1986,227],[656,\"M (1931)\",1931,44],[657,\"Manchurian Candidate, The (1962)\",1962,131],[658,\"Pump Up the Volume (1990)\",1990,79],[659,\"Arsenic and Old Lace (1944)\",1944,115],[660,\"Fried Green Tomatoes (1991)\",1991,153],[661,\"High Noon (1952)\",1952,88],[662,\"Somewhere in Time (1980)\",1980,82],[663,\"Being There (1979)\",1979,116],[664,\"Paris, Texas (1984)\",1984,46],[665,\"Alien 3 (1992)\",1992,100],[666,\"Blood For Dracula (Andy Warhol's Dracula) (1974)\",1974,5],[667,\"Audrey Rose (1977)\",1977,12],[668,\"Blood Beach (1981)\",1981,6],[669,\"Body Parts (1991)\",1991,13],[670,\"Body Snatchers (1993)\",1993,36],[671,\"Bride of Frankenstein (1935)\",1935,46],[672,\"Candyman (1992)\",1992,65],[673,\"Cape Fear (1962)\",1962,86],[674,\"Cat People (1982)\",1982,48],[675,\"Nosferatu (Nosferatu, eine Symphonie des Grauens) (1922)\",1922,54],[676,\"Crucible, The (1996)\",1996,77],[677,\"Fire on the Mountain (1996)\",1997,1],[678,\"Volcano (1997)\",1997,219],[679,\"Conan the Barbarian (1981)\",1981,107],[680,\"Kull the Conqueror (1997)\",1997,34],[681,\"Wishmaster (1997)\",1997,27],[682,\"I Know What You Did Last Summer (1997)\",1997,100],[683,\"Rocket Man (1997)\",1997,49],[684,\"In the Line of Fire (1993)\",1993,169],[685,\"Executive Decision (1996)\",1996,157],[686,\"Perfect World, A (1993)\",1993,50],[687,\"McHale's Navy (1997)\",1997,69],[688,\"Leave It to Beaver (1997)\",1997,44],[689,\"Jackal, The (1997)\",1997,87],[690,\"Seven Years in Tibet (1997)\",1997,155],[691,\"Dark City (1998)\",1998,16],[692,\"American President, The (1995)\",1995,164],[693,\"Casino (1995)\",1995,91],[694,\"Persuasion (1995)\",1995,44],[695,\"Kicking and Screaming (1995)\",1995,13],[696,\"City Hall (1996)\",1996,79],[697,\"Basketball Diaries, The (1995)\",1995,40],[698,\"Browning Version, The (1994)\",1994,10],[699,\"Little Women (1994)\",1994,102],[700,\"Miami Rhapsody (1995)\",1995,15],[701,\"Wonderful, Horrible Life of Leni Riefenstahl, The (1993)\",1993,10],[702,\"Barcelona (1994)\",1994,53],[703,\"Widows' Peak (1994)\",1994,19],[704,\"House of the Spirits, The (1993)\",1993,24],[705,\"Singin' in the Rain (1952)\",1952,137],[706,\"Bad Moon (1996)\",1996,6],[707,\"Enchanted April (1991)\",1991,70],[708,\"Sex, Lies, and Videotape (1989)\",1989,101],[709,\"Strictly Ballroom (1992)\",1992,104],[710,\"Better Off Dead... (1985)\",1985,79],[711,\"Substance of Fire, The (1996)\",1996,1],[712,\"Tin Men (1987)\",1987,51],[713,\"Othello (1995)\",1995,72],[714,\"Carrington (1995)\",1995,13],[715,\"To Die For (1995)\",1995,87],[716,\"Home for the Holidays (1995)\",1995,58],[717,\"Juror, The (1996)\",1996,82],[718,\"In the Bleak Midwinter (1995)\",1996,16],[719,\"Canadian Bacon (1994)\",1994,29],[720,\"First Knight (1995)\",1995,86],[721,\"Mallrats (1995)\",1995,54],[722,\"Nine Months (1995)\",1995,58],[723,\"Boys on the Side (1995)\",1995,34],[724,\"Circle of Friends (1995)\",1995,76],[725,\"Exit to Eden (1994)\",1994,16],[726,\"Fluke (1995)\",1995,14],[727,\"Immortal Beloved (1994)\",1994,63],[728,\"Junior (1994)\",1994,45],[729,\"Nell (1994)\",1994,81],[730,\"Queen Margot (Reine Margot, La) (1994)\",1996,24],[731,\"Corrina, Corrina (1994)\",1994,39],[732,\"Dave (1993)\",1993,180],[733,\"Go Fish (1994)\",1994,15],[734,\"Made in America (1993)\",1993,27],[735,\"Philadelphia (1993)\",1993,137],[736,\"Shadowlands (1993)\",1993,78],[737,\"Sirens (1994)\",1994,59],[738,\"Threesome (1994)\",1994,31],[739,\"Pretty Woman (1990)\",1990,164],[740,\"Jane Eyre (1996)\",1996,63],[741,\"Last Supper, The (1995)\",1996,58],[742,\"Ransom (1996)\",1996,267],[743,\"Crow: City of Angels, The (1996)\",1996,39],[744,\"Michael Collins (1996)\",1996,92],[745,\"Ruling Class, The (1972)\",1972,16],[746,\"Real Genius (1985)\",1985,119],[747,\"Benny & Joon (1993)\",1993,102],[748,\"Saint, The (1997)\",1997,316],[749,\"MatchMaker, The (1997)\",1997,51],[750,\"Amistad (1997)\",1997,124],[751,\"Tomorrow Never Dies (1997)\",1997,180],[752,\"Replacement Killers, The (1998)\",1998,39],[753,\"Burnt By the Sun (1994)\",1994,24],[754,\"Red Corner (1997)\",1997,57],[755,\"Jumanji (1995)\",1995,96],[756,\"Father of the Bride Part II (1995)\",1995,128],[757,\"Across the Sea of Time (1995)\",1995,4],[758,\"Lawnmower Man 2: Beyond Cyberspace (1996)\",1996,21],[759,\"Fair Game (1995)\",1995,11],[760,\"Screamers (1995)\",1995,46],[761,\"Nick of Time (1995)\",1995,44],[762,\"Beautiful Girls (1996)\",1996,115],[763,\"Happy Gilmore (1996)\",1996,149],[764,\"If Lucy Fell (1996)\",1996,29],[765,\"Boomerang (1992)\",1992,32],[766,\"Man of the Year (1995)\",1996,9],[767,\"Addiction, The (1995)\",1995,11],[768,\"Casper (1995)\",1995,52],[769,\"Congo (1995)\",1995,42],[770,\"Devil in a Blue Dress (1995)\",1995,57],[771,\"Johnny Mnemonic (1995)\",1995,41],[772,\"Kids (1995)\",1995,49],[773,\"Mute Witness (1994)\",1994,17],[774,\"Prophecy, The (1995)\",1995,32],[775,\"Something to Talk About (1995)\",1995,26],[776,\"Three Wishes (1995)\",1995,9],[777,\"Castle Freak (1995)\",1995,4],[778,\"Don Juan DeMarco (1995)\",1995,76],[779,\"Drop Zone (1994)\",1994,31],[780,\"Dumb & Dumber (1994)\",1994,69],[781,\"French Kiss (1995)\",1995,84],[782,\"Little Odessa (1994)\",1994,10],[783,\"Milk Money (1994)\",1994,37],[784,\"Beyond Bedlam (1993)\",1993,2],[785,\"Only You (1994)\",1994,39],[786,\"Perez Family, The (1995)\",1995,14],[787,\"Roommates (1995)\",1995,13],[788,\"Relative Fear (1994)\",1994,3],[789,\"Swimming with Sharks (1995)\",1995,47],[790,\"Tommy Boy (1995)\",1995,66],[791,\"Baby-Sitters Club, The (1995)\",1995,10],[792,\"Bullets Over Broadway (1994)\",1994,86],[793,\"Crooklyn (1994)\",1994,10],[794,\"It Could Happen to You (1994)\",1994,46],[795,\"Richie Rich (1994)\",1994,21],[796,\"Speechless (1994)\",1994,36],[797,\"Timecop (1994)\",1994,31],[798,\"Bad Company (1995)\",1995,9],[799,\"Boys Life (1995)\",1995,5],[800,\"In the Mouth of Madness (1995)\",1995,26],[801,\"Air Up There, The (1994)\",1994,16],[802,\"Hard Target (1993)\",1993,40],[803,\"Heaven & Earth (1993)\",1993,9],[804,\"Jimmy Hollywood (1994)\",1994,8],[805,\"Manhattan Murder Mystery (1993)\",1993,27],[806,\"Menace II Society (1993)\",1993,50],[807,\"Poetic Justice (1993)\",1993,9],[808,\"Program, The (1993)\",1993,31],[809,\"Rising Sun (1993)\",1993,43],[810,\"Shadow, The (1994)\",1994,45],[811,\"Thirty-Two Short Films About Glenn Gould (1993)\",1993,18],[812,\"Andre (1994)\",1994,18],[813,\"Celluloid Closet, The (1995)\",1996,56],[814,\"Great Day in Harlem, A (1994)\",1994,1],[815,\"One Fine Day (1996)\",1996,112],[816,\"Candyman: Farewell to the Flesh (1995)\",1995,21],[817,\"Frisk (1995)\",1996,3],[818,\"Girl 6 (1996)\",1996,25],[819,\"Eddie (1996)\",1996,40],[820,\"Space Jam (1996)\",1996,93],[821,\"Mrs. Winterbourne (1996)\",1996,22],[822,\"Faces (1968)\",1968,4],[823,\"Mulholland Falls (1996)\",1996,82],[824,\"Great White Hype, The (1996)\",1996,49],[825,\"Arrival, The (1996)\",1996,83],[826,\"Phantom, The (1996)\",1996,80],[827,\"Daylight (1996)\",1996,57],[828,\"Alaska (1996)\",1996,13],[829,\"Fled (1996)\",1996,34],[830,\"Power 98 (1995)\",1996,1],[831,\"Escape from L.A. (1996)\",1996,91],[832,\"Bogus (1996)\",1996,22],[833,\"Bulletproof (1996)\",1996,49],[834,\"Halloween: The Curse of Michael Myers (1995)\",1995,25],[835,\"Gay Divorcee, The (1934)\",1934,15],[836,\"Ninotchka (1939)\",1939,26],[837,\"Meet John Doe (1941)\",1941,25],[838,\"In the Line of Duty 2 (1987)\",1996,4],[839,\"Loch Ness (1995)\",1995,4],[840,\"Last Man Standing (1996)\",1996,53],[841,\"Glimmer Man, The (1996)\",1996,48],[842,\"Pollyanna (1960)\",1960,27],[843,\"Shaggy Dog, The (1959)\",1959,30],[844,\"Freeway (1996)\",1996,42],[845,\"That Thing You Do! (1996)\",1996,176],[846,\"To Gillian on Her 37th Birthday (1996)\",1996,44],[847,\"Looking for Richard (1996)\",1996,55],[848,\"Murder, My Sweet (1944)\",1944,9],[849,\"Days of Thunder (1990)\",1990,53],[850,\"Perfect Candidate, A (1996)\",1996,4],[851,\"Two or Three Things I Know About Her (1966)\",1966,4],[852,\"Bloody Child, The (1996)\",1996,1],[853,\"Braindead (1992)\",1992,14],[854,\"Bad Taste (1987)\",1987,16],[855,\"Diva (1981)\",1981,66],[856,\"Night on Earth (1991)\",1991,36],[857,\"Paris Was a Woman (1995)\",1996,1],[858,\"Amityville: Dollhouse (1996)\",1996,3],[859,\"April Fool's Day (1986)\",1986,15],[860,\"Believers, The (1987)\",1987,16],[861,\"Nosferatu a Venezia (1986)\",1986,3],[862,\"Jingle All the Way (1996)\",1996,18],[863,\"Garden of Finzi-Contini, The (Giardino dei Finzi-Contini, Il) (1970)\",1996,24],[864,\"My Fellow Americans (1996)\",1996,86],[865,\"Ice Storm, The (1997)\",1997,21],[866,\"Michael (1996)\",1996,119],[867,\"Whole Wide World, The (1996)\",1996,6],[868,\"Hearts and Minds (1996)\",1997,5],[869,\"Fools Rush In (1997)\",1997,24],[870,\"Touch (1997)\",1997,9],[871,\"Vegas Vacation (1997)\",1997,75],[872,\"Love Jones (1997)\",1997,42],[873,\"Picture Perfect (1997)\",1997,81],[874,\"Career Girls (1997)\",1997,39],[875,\"She's So Lovely (1997)\",1997,53],[876,\"Money Talks (1997)\",1997,47],[877,\"Excess Baggage (1997)\",1997,52],[878,\"That Darn Cat! (1997)\",1997,33],[879,\"Peacemaker, The (1997)\",1997,136],[880,\"Soul Food (1997)\",1997,59],[881,\"Money Talks (1997)\",1997,45],[882,\"Washington Square (1997)\",1997,34],[883,\"Telling Lies in America (1997)\",1997,13],[884,\"Year of the Horse (1997)\",1997,7],[885,\"Phantoms (1998)\",1998,13],[886,\"Life Less Ordinary, A (1997)\",1997,53],[887,\"Eve's Bayou (1997)\",1997,64],[888,\"One Night Stand (1997)\",1997,15],[889,\"Tango Lesson, The (1997)\",1997,13],[890,\"Mortal Kombat: Annihilation (1997)\",1997,43],[891,\"Bent (1997)\",1997,6],[892,\"Flubber (1997)\",1997,53],[893,\"For Richer or Poorer (1997)\",1997,14],[894,\"Home Alone 3 (1997)\",1997,19],[895,\"Scream 2 (1997)\",1997,106],[896,\"Sweet Hereafter, The (1997)\",1997,44],[897,\"Time Tracers (1995)\",1995,2],[898,\"Postman, The (1997)\",1997,58],[899,\"Winter Guest, The (1997)\",1997,9],[900,\"Kundun (1997)\",1997,42],[901,\"Mr. Magoo (1997)\",1997,12],[902,\"Big Lebowski, The (1998)\",1997,42],[903,\"Afterglow (1997)\",1997,18],[904,\"Ma vie en rose (My Life in Pink) (1997)\",1997,20],[905,\"Great Expectations (1998)\",1998,27],[906,\"Oscar & Lucinda (1997)\",1997,21],[907,\"Vermin (1998)\",1997,2],[908,\"Half Baked (1998)\",1998,20],[909,\"Dangerous Beauty (1998)\",1998,13],[910,\"Nil By Mouth (1997)\",1998,4],[911,\"Twilight (1998)\",1998,4],[912,\"U.S. Marshalls (1998)\",1998,9],[913,\"Love and Death on Long Island (1997)\",1998,2],[914,\"Wild Things (1998)\",1998,11],[915,\"Primary Colors (1998)\",1998,13],[916,\"Lost in Space (1998)\",1998,18],[917,\"Mercury Rising (1998)\",1998,7],[918,\"City of Angels (1998)\",1998,8],[919,\"City of Lost Children, The (1995)\",1995,96],[920,\"Two Bits (1995)\",1995,5],[921,\"Farewell My Concubine (1993)\",1993,46],[922,\"Dead Man (1995)\",1996,34],[923,\"Raise the Red Lantern (1991)\",1991,58],[924,\"White Squall (1996)\",1996,85],[925,\"Unforgettable (1996)\",1996,34],[926,\"Down Periscope (1996)\",1996,101],[927,\"Flower of My Secret, The (Flor de mi secreto, La) (1995)\",1996,6],[928,\"Craft, The (1996)\",1996,104],[929,\"Harriet the Spy (1996)\",1996,40],[930,\"Chain Reaction (1996)\",1996,80],[931,\"Island of Dr. Moreau, The (1996)\",1996,57],[932,\"First Kid (1996)\",1996,40],[933,\"Funeral, The (1996)\",1996,21],[934,\"Preacher's Wife, The (1996)\",1996,68],[935,\"Paradise Road (1997)\",1997,7],[936,\"Brassed Off (1996)\",1997,32],[937,\"Thousand Acres, A (1997)\",1997,37],[938,\"Smile Like Yours, A (1997)\",1997,25],[939,\"Murder in the First (1995)\",1995,60],[940,\"Airheads (1994)\",1994,32],[941,\"With Honors (1994)\",1994,46],[942,\"What's Love Got to Do with It (1993)\",1993,45],[943,\"Killing Zoe (1994)\",1994,40],[944,\"Renaissance Man (1994)\",1994,43],[945,\"Charade (1963)\",1963,40],[946,\"Fox and the Hound, The (1981)\",1981,61],[947,\"Big Blue, The (Grand bleu, Le) (1988)\",1988,17],[948,\"Booty Call (1997)\",1997,48],[949,\"How to Make an American Quilt (1995)\",1995,71],[950,\"Georgia (1995)\",1995,30],[951,\"Indian in the Cupboard, The (1995)\",1995,39],[952,\"Blue in the Face (1995)\",1995,45],[953,\"Unstrung Heroes (1995)\",1995,22],[954,\"Unzipped (1995)\",1995,11],[955,\"Before Sunrise (1995)\",1995,49],[956,\"Nobody's Fool (1994)\",1994,46],[957,\"Pushing Hands (1992)\",1992,2],[958,\"To Live (Huozhe) (1994)\",1994,14],[959,\"Dazed and Confused (1993)\",1993,64],[960,\"Naked (1993)\",1993,25],[961,\"Orlando (1993)\",1993,34],[962,\"Ruby in Paradise (1993)\",1993,23],[963,\"Some Folks Call It a Sling Blade (1993)\",1993,41],[964,\"Month by the Lake, A (1995)\",1995,9],[965,\"Funny Face (1957)\",1957,21],[966,\"Affair to Remember, An (1957)\",1957,26],[967,\"Little Lord Fauntleroy (1936)\",1936,12],[968,\"Inspector General, The (1949)\",1949,18],[969,\"Winnie the Pooh and the Blustery Day (1968)\",1968,75],[970,\"Hear My Song (1991)\",1991,8],[971,\"Mediterraneo (1991)\",1991,34],[972,\"Passion Fish (1992)\",1992,28],[973,\"Grateful Dead (1995)\",1996,4],[974,\"Eye for an Eye (1996)\",1996,32],[975,\"Fear (1996)\",1996,44],[976,\"Solo (1996)\",1996,12],[977,\"Substitute, The (1996)\",1996,49],[978,\"Heaven's Prisoners (1996)\",1996,27],[979,\"Trigger Effect, The (1996)\",1996,35],[980,\"Mother Night (1996)\",1996,22],[981,\"Dangerous Ground (1997)\",1996,8],[982,\"Maximum Risk (1996)\",1996,20],[983,\"Rich Man's Wife, The (1996)\",1996,15],[984,\"Shadow Conspiracy (1997)\",1997,44],[985,\"Blood & Wine (1997)\",1996,22],[986,\"Turbulence (1997)\",1997,23],[987,\"Underworld (1997)\",1997,4],[988,\"Beautician and the Beast, The (1997)\",1997,86],[989,\"Cats Don't Dance (1997)\",1997,32],[990,\"Anna Karenina (1997)\",1997,33],[991,\"Keys to Tulsa (1997)\",1997,25],[992,\"Head Above Water (1996)\",1997,4],[993,\"Hercules (1997)\",1997,66],[994,\"Last Time I Committed Suicide, The (1997)\",1997,7],[995,\"Kiss Me, Guido (1997)\",1997,31],[996,\"Big Green, The (1995)\",1995,14],[997,\"Stuart Saves His Family (1995)\",1995,16],[998,\"Cabin Boy (1994)\",1994,16],[999,\"Clean Slate (1994)\",1994,10],[1000,\"Lightning Jack (1994)\",1994,10],[1001,\"Stupids, The (1996)\",1996,17],[1002,\"Pest, The (1997)\",1997,8],[1003,\"That Darn Cat! (1997)\",1997,8],[1004,\"Geronimo: An American Legend (1993)\",1993,9],[1005,\"Double vie de V\\u00e9ronique, La (Double Life of Veronique, The) (1991)\",1991,22],[1006,\"Until the End of the World (Bis ans Ende der Welt) (1991)\",1991,23],[1007,\"Waiting for Guffman (1996)\",1997,47],[1008,\"I Shot Andy Warhol (1996)\",1996,37],[1009,\"Stealing Beauty (1996)\",1996,64],[1010,\"Basquiat (1996)\",1996,44],[1011,\"2 Days in the Valley (1996)\",1996,93],[1012,\"Private Parts (1997)\",1997,100],[1013,\"Anaconda (1997)\",1997,38],[1014,\"Romy and Michele's High School Reunion (1997)\",1997,98],[1015,\"Shiloh (1997)\",1997,12],[1016,\"Con Air (1997)\",1997,137],[1017,\"Trees Lounge (1996)\",1996,50],[1018,\"Tie Me Up! Tie Me Down! (1990)\",1990,32],[1019,\"Die xue shuang xiong (Killer, The) (1989)\",1989,31],[1020,\"Gaslight (1944)\",1944,35],[1021,\"8 1/2 (1963)\",1963,38],[1022,\"Fast, Cheap & Out of Control (1997)\",1997,32],[1023,\"Fathers' Day (1997)\",1997,31],[1024,\"Mrs. Dalloway (1997)\",1997,15],[1025,\"Fire Down Below (1997)\",1997,44],[1026,\"Lay of the Land, The (1997)\",1997,4],[1027,\"Shooter, The (1995)\",1995,3],[1028,\"Grumpier Old Men (1995)\",1995,148],[1029,\"Jury Duty (1995)\",1995,14],[1030,\"Beverly Hillbillies, The (1993)\",1993,20],[1031,\"Lassie (1994)\",1994,7],[1032,\"Little Big League (1994)\",1994,16],[1033,\"Homeward Bound II: Lost in San Francisco (1996)\",1996,32],[1034,\"Quest, The (1996)\",1996,27],[1035,\"Cool Runnings (1993)\",1993,68],[1036,\"Drop Dead Fred (1991)\",1991,24],[1037,\"Grease 2 (1982)\",1982,24],[1038,\"Switchback (1997)\",1997,17],[1039,\"Hamlet (1996)\",1997,90],[1040,\"Two if by Sea (1996)\",1996,25],[1041,\"Forget Paris (1995)\",1995,62],[1042,\"Just Cause (1995)\",1995,28],[1043,\"Rent-a-Kid (1995)\",1995,8],[1044,\"Paper, The (1994)\",1994,40],[1045,\"Fearless (1993)\",1993,25],[1046,\"Malice (1993)\",1993,46],[1047,\"Multiplicity (1996)\",1996,134],[1048,\"She's the One (1996)\",1996,73],[1049,\"House Arrest (1996)\",1996,25],[1050,\"Ghost and Mrs. Muir, The (1947)\",1947,43],[1051,\"Associate, The (1996)\",1996,41],[1052,\"Dracula: Dead and Loving It (1995)\",1995,25],[1053,\"Now and Then (1995)\",1995,24],[1054,\"Mr. Wrong (1996)\",1996,23],[1055,\"Simple Twist of Fate, A (1994)\",1994,10],[1056,\"Cronos (1992)\",1992,10],[1057,\"Pallbearer, The (1996)\",1996,22],[1058,\"War, The (1994)\",1994,15],[1059,\"Don't Be a Menace to South Central While Drinking Your Juice in the Hood (1996)\",1996,35],[1060,\"Adventures of Pinocchio, The (1996)\",1996,39],[1061,\"Evening Star, The (1996)\",1996,29],[1062,\"Four Days in September (1997)\",1998,12],[1063,\"Little Princess, A (1995)\",1995,41],[1064,\"Crossfire (1947)\",1947,4],[1065,\"Koyaanisqatsi (1983)\",1983,53],[1066,\"Balto (1995)\",1995,16],[1067,\"Bottle Rocket (1996)\",1996,44],[1068,\"Star Maker, The (Uomo delle stelle, L') (1995)\",1996,12],[1069,\"Amateur (1994)\",1994,18],[1070,\"Living in Oblivion (1995)\",1995,27],[1071,\"Party Girl (1995)\",1995,16],[1072,\"Pyromaniac's Love Story, A (1995)\",1995,7],[1073,\"Shallow Grave (1994)\",1994,66],[1074,\"Reality Bites (1994)\",1994,77],[1075,\"Man of No Importance, A (1994)\",1994,7],[1076,\"Pagemaster, The (1994)\",1994,12],[1077,\"Love and a .45 (1994)\",1994,8],[1078,\"Oliver & Company (1988)\",1988,22],[1079,\"Joe's Apartment (1996)\",1996,45],[1080,\"Celestial Clockwork (1994)\",1996,2],[1081,\"Curdled (1996)\",1996,8],[1082,\"Female Perversions (1996)\",1997,8],[1083,\"Albino Alligator (1996)\",1997,6],[1084,\"Anne Frank Remembered (1995)\",1996,21],[1085,\"Carried Away (1996)\",1996,11],[1086,\"It's My Party (1995)\",1996,21],[1087,\"Bloodsport 2 (1995)\",1996,10],[1088,\"Double Team (1997)\",1997,13],[1089,\"Speed 2: Cruise Control (1997)\",1997,38],[1090,\"Sliver (1993)\",1993,37],[1091,\"Pete's Dragon (1977)\",1977,43],[1092,\"Dear God (1996)\",1996,12],[1093,\"Live Nude Girls (1995)\",1996,23],[1094,\"Thin Line Between Love and Hate, A (1996)\",1996,12],[1095,\"High School High (1996)\",1996,29],[1096,\"Commandments (1997)\",1997,3],[1097,\"Hate (Haine, La) (1995)\",1996,18],[1098,\"Flirting With Disaster (1996)\",1996,42],[1099,\"Red Firecracker, Green Firecracker (1994)\",1994,13],[1100,\"What Happened Was... (1994)\",1994,8],[1101,\"Six Degrees of Separation (1993)\",1993,74],[1102,\"Two Much (1996)\",1996,7],[1103,\"Trust (1990)\",1990,19],[1104,\"C'est arriv\\u00e9 pr\\u00e8s de chez vous (1992)\",1992,4],[1105,\"Firestorm (1998)\",1998,18],[1106,\"Newton Boys, The (1998)\",1998,4],[1107,\"Beyond Rangoon (1995)\",1995,18],[1108,\"Feast of July (1995)\",1995,5],[1109,\"Death and the Maiden (1994)\",1994,28],[1110,\"Tank Girl (1995)\",1995,41],[1111,\"Double Happiness (1994)\",1996,7],[1112,\"Cobb (1994)\",1994,15],[1113,\"Mrs. Parker and the Vicious Circle (1994)\",1994,22],[1114,\"Faithful (1996)\",1996,10],[1115,\"Twelfth Night (1996)\",1996,29],[1116,\"Mark of Zorro, The (1940)\",1940,13],[1117,\"Surviving Picasso (1996)\",1996,19],[1118,\"Up in Smoke (1978)\",1978,47],[1119,\"Some Kind of Wonderful (1987)\",1987,59],[1120,\"I'm Not Rappaport (1996)\",1996,17],[1121,\"Umbrellas of Cherbourg, The (Parapluies de Cherbourg, Les) (1964)\",1996,21],[1122,\"They Made Me a Criminal (1939)\",1939,1],[1123,\"Last Time I Saw Paris, The (1954)\",1954,3],[1124,\"Farewell to Arms, A (1932)\",1932,12],[1125,\"Innocents, The (1961)\",1961,4],[1126,\"Old Man and the Sea, The (1958)\",1958,32],[1127,\"Truman Show, The (1998)\",1998,11],[1128,\"Heidi Fleiss: Hollywood Madam (1995) \",1996,13],[1129,\"Chungking Express (1994)\",1996,28],[1130,\"Jupiter's Wife (1994)\",1996,1],[1131,\"Safe (1995)\",1995,13],[1132,\"Feeling Minnesota (1996)\",1996,32],[1133,\"Escape to Witch Mountain (1975)\",1975,30],[1134,\"Get on the Bus (1996)\",1996,38],[1135,\"Doors, The (1991)\",1991,46],[1136,\"Ghosts of Mississippi (1996)\",1996,29],[1137,\"Beautiful Thing (1996)\",1996,29],[1138,\"Best Men (1997)\",1997,5],[1139,\"Hackers (1995)\",1995,33],[1140,\"Road to Wellville, The (1994)\",1994,17],[1141,\"War Room, The (1993)\",1993,9],[1142,\"When We Were Kings (1996)\",1997,44],[1143,\"Hard Eight (1996)\",1997,15],[1144,\"Quiet Room, The (1996)\",1997,3],[1145,\"Blue Chips (1994)\",1994,9],[1146,\"Calendar Girl (1993)\",1993,3],[1147,\"My Family (1995)\",1995,21],[1148,\"Tom & Viv (1994)\",1994,9],[1149,\"Walkabout (1971)\",1971,26],[1150,\"Last Dance (1996)\",1996,9],[1151,\"Original Gangstas (1996)\",1996,7],[1152,\"In Love and War (1996)\",1997,28],[1153,\"Backbeat (1993)\",1993,19],[1154,\"Alphaville (1965)\",1965,12],[1155,\"Rendezvous in Paris (Rendez-vous de Paris, Les) (1995)\",1996,3],[1156,\"Cyclo (1995)\",1996,1],[1157,\"Relic, The (1997)\",1997,25],[1158,\"Fille seule, La (A Single Girl) (1995)\",1996,4],[1159,\"Stalker (1979)\",1979,11],[1160,\"Love! Valour! Compassion! (1997)\",1997,26],[1161,\"Palookaville (1996)\",1996,13],[1162,\"Phat Beach (1996)\",1996,5],[1163,\"Portrait of a Lady, The (1996)\",1996,25],[1164,\"Zeus and Roxanne (1997)\",1997,6],[1165,\"Big Bully (1996)\",1996,14],[1166,\"Love & Human Remains (1993)\",1993,12],[1167,\"Sum of Us, The (1994)\",1994,11],[1168,\"Little Buddha (1993)\",1993,22],[1169,\"Fresh (1994)\",1994,10],[1170,\"Spanking the Monkey (1994)\",1994,27],[1171,\"Wild Reeds (1994)\",1994,14],[1172,\"Women, The (1939)\",1939,15],[1173,\"Bliss (1997)\",1997,7],[1174,\"Caught (1996)\",1996,8],[1175,\"Hugo Pool (1997)\",1997,5],[1176,\"Welcome To Sarajevo (1997)\",1997,22],[1177,\"Dunston Checks In (1996)\",1996,7],[1178,\"Major Payne (1994)\",1994,19],[1179,\"Man of the House (1995)\",1995,9],[1180,\"I Love Trouble (1994)\",1994,10],[1181,\"Low Down Dirty Shame, A (1994)\",1994,10],[1182,\"Cops and Robbersons (1994)\",1994,13],[1183,\"Cowboy Way, The (1994)\",1994,19],[1184,\"Endless Summer 2, The (1994)\",1994,10],[1185,\"In the Army Now (1994)\",1994,18],[1186,\"Inkwell, The (1994)\",1994,3],[1187,\"Switchblade Sisters (1975)\",1975,13],[1188,\"Young Guns II (1990)\",1990,44],[1189,\"Prefontaine (1997)\",1997,3],[1190,\"That Old Feeling (1997)\",1997,11],[1191,\"Letter From Death Row, A (1998)\",1998,3],[1192,\"Boys of St. Vincent, The (1993)\",1993,13],[1193,\"Before the Rain (Pred dozhdot) (1994)\",1994,10],[1194,\"Once Were Warriors (1994)\",1994,31],[1195,\"Strawberry and Chocolate (Fresa y chocolate) (1993)\",1993,11],[1196,\"Savage Nights (Nuits fauves, Les) (1992)\",1992,3],[1197,\"Family Thing, A (1996)\",1996,45],[1198,\"Purple Noon (1960)\",1960,7],[1199,\"Cemetery Man (Dellamorte Dellamore) (1994)\",1996,23],[1200,\"Kim (1950)\",1950,7],[1201,\"Marlene Dietrich: Shadow and Light (1996) \",1996,1],[1202,\"Maybe, Maybe Not (Bewegte Mann, Der) (1994)\",1996,8],[1203,\"Top Hat (1935)\",1935,21],[1204,\"To Be or Not to Be (1942)\",1942,18],[1205,\"Secret Agent, The (1996)\",1996,6],[1206,\"Amos & Andrew (1993)\",1993,19],[1207,\"Jade (1995)\",1995,17],[1208,\"Kiss of Death (1995)\",1995,20],[1209,\"Mixed Nuts (1994)\",1994,15],[1210,\"Virtuosity (1995)\",1995,38],[1211,\"Blue Sky (1994)\",1994,12],[1212,\"Flesh and Bone (1993)\",1993,6],[1213,\"Guilty as Sin (1993)\",1993,6],[1214,\"In the Realm of the Senses (Ai no corrida) (1976)\",1976,9],[1215,\"Barb Wire (1996)\",1996,30],[1216,\"Kissed (1996)\",1997,6],[1217,\"Assassins (1995)\",1995,39],[1218,\"Friday (1995)\",1995,26],[1219,\"Goofy Movie, A (1995)\",1995,20],[1220,\"Higher Learning (1995)\",1995,30],[1221,\"When a Man Loves a Woman (1994)\",1994,39],[1222,\"Judgment Night (1993)\",1993,25],[1223,\"King of the Hill (1993)\",1993,4],[1224,\"Scout, The (1994)\",1994,12],[1225,\"Angus (1995)\",1995,14],[1226,\"Night Falls on Manhattan (1997)\",1997,32],[1227,\"Awfully Big Adventure, An (1995)\",1995,8],[1228,\"Under Siege 2: Dark Territory (1995)\",1995,48],[1229,\"Poison Ivy II (1995)\",1995,13],[1230,\"Ready to Wear (Pret-A-Porter) (1994)\",1994,18],[1231,\"Marked for Death (1990)\",1990,22],[1232,\"Madonna: Truth or Dare (1991)\",1991,17],[1233,\"N\\u00e9nette et Boni (1996)\",1996,6],[1234,\"Chairman of the Board (1998)\",1998,8],[1235,\"Big Bang Theory, The (1994)\",1994,1],[1236,\"Other Voices, Other Rooms (1997)\",1997,1],[1237,\"Twisted (1996)\",1996,6],[1238,\"Full Speed (1996)\",1996,8],[1239,\"Cutthroat Island (1995)\",1995,18],[1240,\"Ghost in the Shell (Kokaku kidotai) (1995)\",1996,26],[1241,\"Van, The (1996)\",1997,6],[1242,\"Old Lady Who Walked in the Sea, The (Vieille qui marchait dans la mer, La) (1991)\",1991,5],[1243,\"Night Flier (1997)\",1998,7],[1244,\"Metro (1997)\",1997,36],[1245,\"Gridlock'd (1997)\",1997,19],[1246,\"Bushwhacked (1995)\",1995,7],[1247,\"Bad Girls (1994)\",1994,6],[1248,\"Blink (1994)\",1994,19],[1249,\"For Love or Money (1993)\",1993,12],[1250,\"Best of the Best 3: No Turning Back (1995)\",1995,6],[1251,\"A Chef in Love (1996)\",1997,8],[1252,\"Contempt (M\\u00e9pris, Le) (1963)\",1997,9],[1253,\"Tie That Binds, The (1995)\",1995,7],[1254,\"Gone Fishin' (1997)\",1997,11],[1255,\"Broken English (1996)\",1997,8],[1256,\"Designated Mourner, The (1997)\",1997,3],[1257,\"Designated Mourner, The (1997)\",1997,4],[1258,\"Trial and Error (1997)\",1997,23],[1259,\"Pie in the Sky (1995)\",1996,4],[1260,\"Total Eclipse (1995)\",1995,4],[1261,\"Run of the Country, The (1995)\",1995,4],[1262,\"Walking and Talking (1996)\",1996,8],[1263,\"Foxfire (1996)\",1996,15],[1264,\"Nothing to Lose (1994)\",1996,7],[1265,\"Star Maps (1997)\",1997,19],[1266,\"Bread and Chocolate (Pane e cioccolata) (1973)\",1973,12],[1267,\"Clockers (1995)\",1995,33],[1268,\"Bitter Moon (1992)\",1992,10],[1269,\"Love in the Afternoon (1957)\",1957,10],[1270,\"Life with Mikey (1993)\",1993,7],[1271,\"North (1994)\",1994,7],[1272,\"Talking About Sex (1994)\",1994,5],[1273,\"Color of Night (1994)\",1994,15],[1274,\"Robocop 3 (1993)\",1993,11],[1275,\"Killer (Bulletproof Heart) (1994)\",1994,4],[1276,\"Sunset Park (1996)\",1996,8],[1277,\"Set It Off (1996)\",1996,19],[1278,\"Selena (1997)\",1997,16],[1279,\"Wild America (1997)\",1997,9],[1280,\"Gang Related (1997)\",1997,16],[1281,\"Manny & Lo (1996)\",1996,13],[1282,\"Grass Harp, The (1995)\",1996,9],[1283,\"Out to Sea (1997)\",1997,19],[1284,\"Before and After (1996)\",1996,26],[1285,\"Princess Caraboo (1994)\",1994,15],[1286,\"Shall We Dance? (1937)\",1937,17],[1287,\"Ed (1996)\",1996,6],[1288,\"Denise Calls Up (1995)\",1996,7],[1289,\"Jack and Sarah (1995)\",1996,7],[1290,\"Country Life (1994)\",1994,2],[1291,\"Celtic Pride (1996)\",1996,15],[1292,\"Simple Wish, A (1997)\",1997,3],[1293,\"Star Kid (1997)\",1998,3],[1294,\"Ayn Rand: A Sense of Life (1997)\",1998,7],[1295,\"Kicked in the Head (1997)\",1997,7],[1296,\"Indian Summer (1996)\",1996,20],[1297,\"Love Affair (1994)\",1994,12],[1298,\"Band Wagon, The (1953)\",1953,9],[1299,\"Penny Serenade (1941)\",1941,8],[1300,\"'Til There Was You (1997)\",1997,9],[1301,\"Stripes (1981)\",1981,5],[1302,\"Late Bloomers (1996)\",1997,5],[1303,\"Getaway, The (1994)\",1994,18],[1304,\"New York Cop (1996)\",1996,2],[1305,\"National Lampoon's Senior Trip (1995)\",1995,7],[1306,\"Delta of Venus (1994)\",1994,2],[1307,\"Carmen Miranda: Bananas Is My Business (1994)\",1994,2],[1308,\"Babyfever (1994)\",1994,2],[1309,\"Very Natural Thing, A (1974)\",1974,1],[1310,\"Walk in the Sun, A (1945)\",1945,1],[1311,\"Waiting to Exhale (1995)\",1996,16],[1312,\"Pompatus of Love, The (1996)\",1996,7],[1313,\"Palmetto (1998)\",1998,14],[1314,\"Surviving the Game (1994)\",1994,11],[1315,\"Inventing the Abbotts (1997)\",1997,23],[1316,\"Horse Whisperer, The (1998)\",1997,7],[1317,\"Journey of August King, The (1995)\",1996,4],[1318,\"Catwalk (1995)\",1996,3],[1319,\"Neon Bible, The (1995)\",1996,4],[1320,\"Homage (1995)\",1996,1],[1321,\"Open Season (1996)\",1996,2],[1322,\"Metisse (Caf\\u00e9 au Lait) (1993)\",1993,6],[1323,\"Wooden Man's Bride, The (Wu Kui) (1994)\",1994,3],[1324,\"Loaded (1994)\",1996,5],[1325,\"August (1996)\",1996,1],[1326,\"Boys (1996)\",1996,6],[1327,\"Captives (1994)\",1994,3],[1328,\"Of Love and Shadows (1994)\",1996,6],[1329,\"Low Life, The (1994)\",1996,1],[1330,\"An Unforgettable Summer (1994)\",1994,4],[1331,\"Last Klezmer: Leopold Kozlowski, His Life and Music, The (1995)\",1995,4],[1332,\"My Life and Times With Antonin Artaud (En compagnie d'Antonin Artaud) (1993)\",1993,2],[1333,\"Midnight Dancers (Sibak) (1994)\",1994,5],[1334,\"Somebody to Love (1994)\",1996,2],[1335,\"American Buffalo (1996)\",1996,11],[1336,\"Kazaam (1996)\",1996,10],[1337,\"Larger Than Life (1996)\",1996,9],[1338,\"Two Deaths (1995)\",1996,4],[1339,\"Stefano Quantestorie (1993)\",1993,1],[1340,\"Crude Oasis, The (1995)\",1995,1],[1341,\"Hedd Wyn (1992)\",1992,1],[1342,\"Convent, The (Convento, O) (1995)\",1996,2],[1343,\"Lotto Land (1995)\",1995,1],[1344,\"Story of Xinghua, The (1993)\",1993,5],[1345,\"Day the Sun Turned Cold, The (Tianguo niezi) (1994)\",1994,2],[1346,\"Dingo (1992)\",1992,5],[1347,\"Ballad of Narayama, The (Narayama Bushiko) (1958)\",1958,4],[1348,\"Every Other Weekend (1990)\",1990,1],[1349,\"Mille bolle blu (1993)\",1993,1],[1350,\"Crows and Sparrows (1949)\",1949,2],[1351,\"Lover's Knot (1996)\",1996,3],[1352,\"Shadow of Angels (Schatten der Engel) (1976)\",1976,1],[1353,\"1-900 (1994)\",1994,5],[1354,\"Venice/Venice (1992)\",1992,2],[1355,\"Infinity (1996)\",1996,6],[1356,\"Ed's Next Move (1996)\",1996,3],[1357,\"For the Moment (1994)\",1994,3],[1358,\"The Deadly Cure (1996)\",1996,2],[1359,\"Boys in Venice (1996)\",1996,2],[1360,\"Sexual Life of the Belgians, The (1994)\",1994,2],[1361,\"Search for One-eye Jimmy, The (1996)\",1996,3],[1362,\"American Strays (1996)\",1996,2],[1363,\"Leopard Son, The (1996)\",1996,1],[1364,\"Bird of Prey (1996)\",1996,1],[1365,\"Johnny 100 Pesos (1993)\",1993,2],[1366,\"JLG/JLG - autoportrait de d\\u00e9cembre (1994)\",1994,1],[1367,\"Faust (1994)\",1994,5],[1368,\"Mina Tannenbaum (1994)\",1994,6],[1369,\"Forbidden Christ, The (Cristo proibito, Il) (1950)\",1950,4],[1370,\"I Can't Sleep (J'ai pas sommeil) (1994)\",1994,3],[1371,\"Machine, The (1994)\",1994,2],[1372,\"Stranger, The (1994)\",1994,3],[1373,\"Good Morning (1971)\",1971,1],[1374,\"Falling in Love Again (1980)\",1980,2],[1375,\"Cement Garden, The (1993)\",1993,10],[1376,\"Meet Wally Sparks (1997)\",1997,7],[1377,\"Hotel de Love (1996)\",1997,4],[1378,\"Rhyme & Reason (1997)\",1997,5],[1379,\"Love and Other Catastrophes (1996)\",1997,7],[1380,\"Hollow Reed (1996)\",1997,6],[1381,\"Losing Chase (1996)\",1996,8],[1382,\"Bonheur, Le (1965)\",1997,4],[1383,\"Second Jungle Book: Mowgli & Baloo, The (1997)\",1997,6],[1384,\"Squeeze (1996)\",1997,3],[1385,\"Roseanna's Grave (For Roseanna) (1997)\",1997,5],[1386,\"Tetsuo II: Body Hammer (1992)\",1997,6],[1387,\"Fall (1997)\",1997,3],[1388,\"Gabbeh (1996)\",1997,6],[1389,\"Mondo (1996)\",1997,3],[1390,\"Innocent Sleep, The (1995)\",1997,2],[1391,\"For Ever Mozart (1996)\",1997,3],[1392,\"Locusts, The (1997)\",1997,5],[1393,\"Stag (1997)\",1997,9],[1394,\"Swept from the Sea (1997)\",1997,7],[1395,\"Hurricane Streets (1998)\",1998,6],[1396,\"Stonewall (1995)\",1996,5],[1397,\"Of Human Bondage (1934)\",1934,5],[1398,\"Anna (1996)\",1996,2],[1399,\"Stranger in the House (1997)\",1997,7],[1400,\"Picture Bride (1995)\",1995,10],[1401,\"M. Butterfly (1993)\",1993,18],[1402,\"Ciao, Professore! (1993)\",1993,4],[1403,\"Caro Diario (Dear Diary) (1994)\",1994,4],[1404,\"Withnail and I (1987)\",1987,13],[1405,\"Boy's Life 2 (1997)\",1997,6],[1406,\"When Night Is Falling (1995)\",1995,5],[1407,\"Specialist, The (1994)\",1994,20],[1408,\"Gordy (1995)\",1995,3],[1409,\"Swan Princess, The (1994)\",1994,7],[1410,\"Harlem (1993)\",1993,4],[1411,\"Barbarella (1968)\",1968,28],[1412,\"Land Before Time III: The Time of the Great Giving (1995) (V)\",1995,6],[1413,\"Street Fighter (1994)\",1994,8],[1414,\"Coldblooded (1995)\",1995,1],[1415,\"Next Karate Kid, The (1994)\",1994,9],[1416,\"No Escape (1994)\",1994,5],[1417,\"Turning, The (1992)\",1997,2],[1418,\"Joy Luck Club, The (1993)\",1993,3],[1419,\"Highlander III: The Sorcerer (1994)\",1994,16],[1420,\"Gilligan's Island: The Movie (1998)\",1997,3],[1421,\"My Crazy Life (Mi vida loca) (1993)\",1993,11],[1422,\"Suture (1993)\",1993,4],[1423,\"Walking Dead, The (1995)\",1995,4],[1424,\"I Like It Like That (1994)\",1994,3],[1425,\"I'll Do Anything (1994)\",1994,10],[1426,\"Grace of My Heart (1996)\",1996,8],[1427,\"Drunks (1995)\",1996,5],[1428,\"SubUrbia (1997)\",1997,12],[1429,\"Sliding Doors (1998)\",1998,4],[1430,\"Ill Gotten Gains (1997)\",1997,3],[1431,\"Legal Deceit (1997)\",1997,5],[1432,\"Mighty, The (1998)\",1998,3],[1433,\"Men of Means (1998)\",1997,2],[1434,\"Shooting Fish (1997)\",1998,10],[1435,\"Steal Big, Steal Little (1995)\",1995,7],[1436,\"Mr. Jones (1993)\",1993,2],[1437,\"House Party 3 (1994)\",1994,9],[1438,\"Panther (1995)\",1995,5],[1439,\"Jason's Lyric (1994)\",1994,8],[1440,\"Above the Rim (1994)\",1994,5],[1441,\"Moonlight and Valentino (1995)\",1995,7],[1442,\"Scarlet Letter, The (1995)\",1995,5],[1443,\"8 Seconds (1994)\",1994,4],[1444,\"That Darn Cat! (1965)\",1965,19],[1445,\"Ladybird Ladybird (1994)\",1994,4],[1446,\"Bye Bye, Love (1995)\",1995,15],[1447,\"Century (1993)\",1993,1],[1448,\"My Favorite Season (1993)\",1996,3],[1449,\"Pather Panchali (1955)\",1996,8],[1450,\"Golden Earrings (1947)\",1947,2],[1451,\"Foreign Correspondent (1940)\",1940,15],[1452,\"Lady of Burlesque (1943)\",1943,1],[1453,\"Angel on My Shoulder (1946)\",1946,1],[1454,\"Angel and the Badman (1947)\",1947,6],[1455,\"Outlaw, The (1943)\",1943,2],[1456,\"Beat the Devil (1954)\",1954,7],[1457,\"Love Is All There Is (1996)\",1996,1],[1458,\"Damsel in Distress, A (1937)\",1937,1],[1459,\"Madame Butterfly (1995)\",1996,7],[1460,\"Sleepover (1995)\",1996,1],[1461,\"Here Comes Cookie (1935)\",1935,1],[1462,\"Thieves (Voleurs, Les) (1996)\",1996,7],[1463,\"Boys, Les (1997)\",1997,3],[1464,\"Stars Fell on Henrietta, The (1995)\",1995,3],[1465,\"Last Summer in the Hamptons (1995)\",1995,3],[1466,\"Margaret's Museum (1995)\",1995,6],[1467,\"Saint of Fort Washington, The (1993)\",1993,2],[1468,\"Cure, The (1995)\",1995,6],[1469,\"Tom and Huck (1995)\",1995,12],[1470,\"Gumby: The Movie (1995)\",1995,5],[1471,\"Hideaway (1995)\",1995,9],[1472,\"Visitors, The (Visiteurs, Les) (1993)\",1996,2],[1473,\"Little Princess, The (1939)\",1939,9],[1474,\"Nina Takes a Lover (1994)\",1994,6],[1475,\"Bhaji on the Beach (1993)\",1993,8],[1476,\"Raw Deal (1948)\",1948,1],[1477,\"Nightwatch (1997)\",1997,2],[1478,\"Dead Presidents (1995)\",1995,18],[1479,\"Reckless (1995)\",1995,8],[1480,\"Herbie Rides Again (1974)\",1974,11],[1481,\"S.F.W. (1994)\",1994,2],[1482,\"Gate of Heavenly Peace, The (1995)\",1996,1],[1483,\"Man in the Iron Mask, The (1998)\",1998,12],[1484,\"Jerky Boys, The (1994)\",1994,3],[1485,\"Colonel Chabert, Le (1994)\",1994,4],[1486,\"Girl in the Cadillac (1995)\",1995,1],[1487,\"Even Cowgirls Get the Blues (1993)\",1993,5],[1488,\"Germinal (1993)\",1993,4],[1489,\"Chasers (1994)\",1994,5],[1490,\"Fausto (1993)\",1993,3],[1491,\"Tough and Deadly (1995)\",1995,2],[1492,\"Window to Paris (1994)\",1994,1],[1493,\"Modern Affair, A (1995)\",1996,1],[1494,\"Mostro, Il (1994)\",1996,1],[1495,\"Flirt (1995)\",1996,5],[1496,\"Carpool (1996)\",1996,5],[1497,\"Line King: Al Hirschfeld, The (1996)\",1996,2],[1498,\"Farmer & Chase (1995)\",1997,1],[1499,\"Grosse Fatigue (1994)\",1994,4],[1500,\"Santa with Muscles (1996)\",1996,2],[1501,\"Prisoner of the Mountains (Kavkazsky Plennik) (1996)\",1997,5],[1502,\"Naked in New York (1994)\",1994,2],[1503,\"Gold Diggers: The Secret of Bear Mountain (1995)\",1995,10],[1504,\"Bewegte Mann, Der (1994)\",1996,3],[1505,\"Killer: A Journal of Murder (1995)\",1996,1],[1506,\"Nelly & Monsieur Arnaud (1995)\",1996,3],[1507,\"Three Lives and Only One Death (1996)\",1996,1],[1508,\"Babysitter, The (1995)\",1995,3],[1509,\"Getting Even with Dad (1994)\",1994,5],[1510,\"Mad Dog Time (1996)\",1996,1],[1511,\"Children of the Revolution (1996)\",1997,5],[1512,\"World of Apu, The (Apur Sansar) (1959)\",1996,6],[1513,\"Sprung (1997)\",1997,3],[1514,\"Dream With the Fishes (1997)\",1997,7],[1515,\"Wings of Courage (1995)\",1995,1],[1516,\"Wedding Gift, The (1994)\",1994,3],[1517,\"Race the Sun (1996)\",1996,5],[1518,\"Losing Isaiah (1995)\",1995,12],[1519,\"New Jersey Drive (1995)\",1995,2],[1520,\"Fear, The (1995)\",1995,1],[1521,\"Mr. Wonderful (1993)\",1993,4],[1522,\"Trial by Jury (1994)\",1994,7],[1523,\"Good Man in Africa, A (1994)\",1994,2],[1524,\"Kaspar Hauser (1993)\",1996,8],[1525,\"Object of My Affection, The (1998)\",1998,1],[1526,\"Witness (1985)\",1985,1],[1527,\"Senseless (1998)\",1998,7],[1528,\"Nowhere (1997)\",1997,3],[1529,\"Underground (1995)\",1996,5],[1530,\"Jefferson in Paris (1995)\",1995,5],[1531,\"Far From Home: The Adventures of Yellow Dog (1995)\",1995,7],[1532,\"Foreign Student (1994)\",1994,2],[1533,\"I Don't Want to Talk About It (De eso no se habla) (1993)\",1993,1],[1534,\"Twin Town (1997)\",1997,6],[1535,\"Enfer, L' (1994)\",1994,4],[1536,\"Aiqing wansui (1994)\",1996,1],[1537,\"Cosi (1996)\",1997,4],[1538,\"All Over Me (1997)\",1997,3],[1539,\"Being Human (1993)\",1993,4],[1540,\"Amazing Panda Adventure, The (1995)\",1995,10],[1541,\"Beans of Egypt, Maine, The (1994)\",1994,2],[1542,\"Scarlet Letter, The (1926)\",1926,2],[1543,\"Johns (1996)\",1996,1],[1544,\"It Takes Two (1995)\",1995,3],[1545,\"Frankie Starlight (1995)\",1995,4],[1546,\"Shadows (Cienie) (1988)\",1988,1],[1547,\"Show, The (1995)\",1995,2],[1548,\"The Courtyard (1995)\",1995,1],[1549,\"Dream Man (1995)\",1995,2],[1550,\"Destiny Turns on the Radio (1995)\",1995,2],[1551,\"Glass Shield, The (1994)\",1994,2],[1552,\"Hunted, The (1995)\",1995,3],[1553,\"Underneath, The (1995)\",1995,4],[1554,\"Safe Passage (1994)\",1994,2],[1555,\"Secret Adventures of Tom Thumb, The (1993)\",1993,5],[1556,\"Condition Red (1995)\",1995,2],[1557,\"Yankee Zulu (1994)\",1996,1],[1558,\"Aparajito (1956)\",1996,7],[1559,\"Hostile Intentions (1994)\",1994,1],[1560,\"Clean Slate (Coup de Torchon) (1981)\",1981,4],[1561,\"Tigrero: A Film That Was Never Made (1994)\",1994,1],[1562,\"Eye of Vichy, The (Oeil de Vichy, L') (1993)\",1993,1],[1563,\"Promise, The (Versprechen, Das) (1994)\",1994,1],[1564,\"To Cross the Rubicon (1991)\",1991,1],[1565,\"Daens (1992)\",1992,1],[1566,\"Man from Down Under, The (1943)\",1943,1],[1567,\"Careful (1992)\",1992,1],[1568,\"Vermont Is For Lovers (1992)\",1992,1],[1569,\"Vie est belle, La (Life is Rosey) (1987)\",1987,1],[1570,\"Quartier Mozart (1992)\",1992,1],[1571,\"Touki Bouki (Journey of the Hyena) (1973)\",1973,1],[1572,\"Wend Kuuni (God's Gift) (1982)\",1982,1],[1573,\"Spirits of the Dead (Tre passi nel delirio) (1968)\",1968,2],[1574,\"Pharaoh's Army (1995)\",1995,1],[1575,\"I, Worst of All (Yo, la peor de todas) (1990)\",1990,1],[1576,\"Hungarian Fairy Tale, A (1987)\",1987,1],[1577,\"Death in the Garden (Mort en ce jardin, La) (1956)\",1956,1],[1578,\"Collectionneuse, La (1967)\",1967,2],[1579,\"Baton Rouge (1988)\",1988,1],[1580,\"Liebelei (1933)\",1933,1],[1581,\"Woman in Question, The (1950)\",1950,1],[1582,\"T-Men (1947)\",1947,1],[1583,\"Invitation, The (Zaproszenie) (1986)\",1986,1],[1584,\"Symphonie pastorale, La (1946)\",1946,1],[1585,\"American Dream (1990)\",1990,2],[1586,\"Lashou shentan (1992)\",1992,1],[1587,\"Terror in a Texas Town (1958)\",1958,1],[1588,\"Salut cousin! (1996)\",1997,2],[1589,\"Schizopolis (1996)\",1997,4],[1590,\"To Have, or Not (1995)\",1997,2],[1591,\"Duoluo tianshi (1995)\",1998,6],[1592,\"Magic Hour, The (1998)\",1998,5],[1593,\"Death in Brunswick (1991)\",1996,1],[1594,\"Everest (1998)\",1998,2],[1595,\"Shopping (1994)\",1996,1],[1596,\"Nemesis 2: Nebula (1995)\",1995,1],[1597,\"Romper Stomper (1992)\",1992,5],[1598,\"City of Industry (1997)\",1997,6],[1599,\"Someone Else's America (1995)\",1996,1],[1600,\"Guantanamera (1994)\",1997,4],[1601,\"Office Killer (1997)\",1997,1],[1602,\"Price Above Rubies, A (1998)\",1998,3],[1603,\"Angela (1995)\",1996,1],[1604,\"He Walked by Night (1948)\",1948,1],[1605,\"Love Serenade (1996)\",1997,4],[1606,\"Deceiver (1997)\",1997,1],[1607,\"Hurricane Streets (1998)\",1998,3],[1608,\"Buddy (1997)\",1997,4],[1609,\"B*A*P*S (1997)\",1997,3],[1610,\"Truth or Consequences, N.M. (1997)\",1997,3],[1611,\"Intimate Relations (1996)\",1997,2],[1612,\"Leading Man, The (1996)\",1998,4],[1613,\"Tokyo Fist (1995)\",1998,1],[1614,\"Reluctant Debutante, The (1958)\",1958,1],[1615,\"Warriors of Virtue (1997)\",1997,10],[1616,\"Desert Winds (1995)\",1995,1],[1617,\"Hugo Pool (1997)\",1997,2],[1618,\"King of New York (1990)\",1990,1],[1619,\"All Things Fair (1996)\",1996,1],[1620,\"Sixth Man, The (1997)\",1997,9],[1621,\"Butterfly Kiss (1995)\",1996,1],[1622,\"Paris, France (1993)\",1993,3],[1623,\"C\\u00e9r\\u00e9monie, La (1995)\",1996,3],[1624,\"Hush (1998)\",1998,1],[1625,\"Nightwatch (1997)\",1997,1],[1626,\"Nobody Loves Me (Keiner liebt mich) (1994)\",1996,1],[1627,\"Wife, The (1995)\",1996,1],[1628,\"Lamerica (1994)\",1994,4],[1629,\"Nico Icon (1995)\",1995,2],[1630,\"Silence of the Palace, The (Saimt el Qusur) (1994)\",1996,1],[1631,\"Slingshot, The (1993)\",1993,2],[1632,\"Land and Freedom (Tierra y libertad) (1995)\",1996,1],[1633,\"\\u00c1 k\\u00f6ldum klaka (Cold Fever) (1994)\",1996,1],[1634,\"Etz Hadomim Tafus (Under the Domin Tree) (1994)\",1996,1],[1635,\"Two Friends (1986) \",1986,1],[1636,\"Brothers in Trouble (1995)\",1996,1],[1637,\"Girls Town (1996)\",1996,1],[1638,\"Normal Life (1996)\",1996,1],[1639,\"Bitter Sugar (Azucar Amargo) (1996)\",1996,3],[1640,\"Eighth Day, The (1996)\",1996,1],[1641,\"Dadetown (1995)\",1996,1],[1642,\"Some Mother's Son (1996)\",1996,2],[1643,\"Angel Baby (1995)\",1997,4],[1644,\"Sudden Manhattan (1996)\",1997,2],[1645,\"Butcher Boy, The (1998)\",1998,1],[1646,\"Men With Guns (1997)\",1998,2],[1647,\"Hana-bi (1997)\",1998,1],[1648,\"Niagara, Niagara (1997)\",1998,1],[1649,\"Big One, The (1997)\",1998,1],[1650,\"Butcher Boy, The (1998)\",1998,1],[1651,\"Spanish Prisoner, The (1997)\",1998,1],[1652,\"Temptress Moon (Feng Yue) (1996)\",1997,3],[1653,\"Entertaining Angels: The Dorothy Day Story (1996)\",1996,1],[1654,\"Chairman of the Board (1998)\",1998,1],[1655,\"Favor, The (1994)\",1994,1],[1656,\"Little City (1998)\",1998,2],[1657,\"Target (1995)\",1996,1],[1658,\"Substance of Fire, The (1996)\",1996,3],[1659,\"Getting Away With Murder (1996)\",1996,1],[1660,\"Small Faces (1995)\",1996,1],[1661,\"New Age, The (1994)\",1994,1],[1662,\"Rough Magic (1995)\",1997,2],[1663,\"Nothing Personal (1995)\",1997,1],[1664,\"8 Heads in a Duffel Bag (1997)\",1997,4],[1665,\"Brother's Kiss, A (1997)\",1997,1],[1666,\"Ripe (1996)\",1997,1],[1667,\"Next Step, The (1995)\",1997,1],[1668,\"Wedding Bell Blues (1996)\",1997,1],[1669,\"MURDER and murder (1996)\",1997,1],[1670,\"Tainted (1998)\",1998,1],[1671,\"Further Gesture, A (1996)\",1998,1],[1672,\"Kika (1993)\",1993,2],[1673,\"Mirage (1995)\",1995,1],[1674,\"Mamma Roma (1962)\",1962,1],[1675,\"Sunchaser, The (1996)\",1996,1],[1676,\"War at Home, The (1996)\",1996,1],[1677,\"Sweet Nothing (1995)\",1996,1],[1678,\"Mat' i syn (1997)\",1998,1],[1679,\"B. Monkey (1998)\",1998,1],[1680,\"Sliding Doors (1998)\",1998,1],[1681,\"You So Crazy (1994)\",1994,1],[1682,\"Scream of Stone (Schrei aus Stein) (1991)\",1996,1]],\"hovertemplate\":\"tsne_1=%{x}<br>tsne_2=%{y}<br>item_id=%{customdata[0]}<br>title=%{customdata[1]}<br>release_year=%{customdata[2]}<br>popularity=%{marker.color}<extra></extra>\",\"legendgroup\":\"\",\"marker\":{\"color\":[452,131,90,209,86,26,392,219,299,89,236,267,184,183,293,39,92,10,69,72,84,297,182,174,293,73,57,276,114,37,154,81,97,7,11,13,8,120,87,57,37,148,40,79,80,27,133,117,81,583,81,91,128,104,149,394,40,175,83,64,59,127,82,283,115,162,103,134,321,251,220,129,128,7,5,54,151,33,336,68,110,261,176,18,58,150,138,213,275,95,143,104,112,137,219,295,256,390,172,508,73,54,15,5,74,71,42,65,130,31,272,20,9,67,15,125,378,293,4,67,429,106,115,187,244,97,413,65,129,23,95,246,171,198,259,105,171,19,50,61,72,57,222,243,65,10,185,128,23,157,326,82,247,174,98,148,127,60,101,69,220,106,92,151,64,58,67,316,118,121,65,367,324,420,208,284,137,125,221,221,507,226,291,116,239,251,209,170,66,124,276,116,157,241,301,251,239,127,165,206,89,280,182,350,136,50,66,200,191,331,206,92,134,114,212,290,120,171,111,66,74,365,136,44,109,166,161,244,171,199,142,101,124,280,217,45,384,256,150,156,128,117,132,48,240,124,5,160,130,197,46,158,26,62,172,16,303,509,162,127,43,66,19,101,227,35,9,255,315,136,211,198,223,190,268,298,71,60,28,85,146,232,177,193,162,481,78,478,259,96,127,114,147,485,77,6,50,194,73,431,230,297,134,149,87,96,188,30,28,145,75,80,350,5,160,112,102,298,168,20,169,218,240,125,128,175,175,295,45,41,113,143,251,64,21,43,18,91,47,189,11,52,124,55,65,126,137,27,31,41,20,26,14,72,41,97,264,143,18,10,10,28,47,37,48,47,170,31,55,39,67,34,39,11,23,24,13,101,43,116,100,111,31,69,208,87,65,28,27,10,59,68,192,12,56,54,12,26,89,18,76,170,201,101,344,49,43,112,70,162,163,93,55,62,25,64,73,129,178,81,106,26,300,19,85,32,219,121,97,93,153,174,171,67,216,99,5,6,5,14,53,4,162,46,22,9,121,85,117,63,170,66,16,16,145,48,27,90,24,28,74,148,71,27,85,52,48,64,67,108,221,158,126,194,250,160,95,104,179,179,63,128,243,138,125,64,68,65,52,50,67,59,60,56,59,231,68,152,62,31,123,57,39,122,68,90,98,215,121,121,173,57,72,180,201,63,91,89,80,124,120,35,164,46,73,124,195,121,93,80,129,22,15,13,54,10,30,66,44,43,49,51,21,71,12,254,41,12,92,151,24,45,63,102,10,12,17,70,137,22,59,48,29,27,22,179,35,230,67,50,28,29,33,15,44,93,41,92,19,32,59,168,37,79,39,34,14,202,43,18,178,9,12,5,64,127,206,4,1,2,20,50,209,81,31,66,66,30,60,41,40,34,27,51,59,64,18,18,64,43,11,39,39,22,82,4,75,169,77,31,119,58,69,24,23,91,38,44,40,82,33,89,4,35,27,38,70,67,50,72,171,90,34,147,227,44,131,79,115,153,88,82,116,46,100,5,12,6,13,36,46,65,86,48,54,77,1,219,107,34,27,100,49,169,157,50,69,44,87,155,16,164,91,44,13,79,40,10,102,15,10,53,19,24,137,6,70,101,104,79,1,51,72,13,87,58,82,16,29,86,54,58,34,76,16,14,63,45,81,24,39,180,15,27,137,78,59,31,164,63,58,267,39,92,16,119,102,316,51,124,180,39,24,57,96,128,4,21,11,46,44,115,149,29,32,9,11,52,42,57,41,49,17,32,26,9,4,76,31,69,84,10,37,2,39,14,13,3,47,66,10,86,10,46,21,36,31,9,5,26,16,40,9,8,27,50,9,31,43,45,18,18,56,1,112,21,3,25,40,93,22,4,82,49,83,80,57,13,34,1,91,22,49,25,15,26,25,4,4,53,48,27,30,42,176,44,55,9,53,4,4,1,14,16,66,36,1,3,15,16,3,18,24,86,21,119,6,5,24,9,75,42,81,39,53,47,52,33,136,59,45,34,13,7,13,53,64,15,13,43,6,53,14,19,106,44,2,58,9,42,12,42,18,20,27,21,2,20,13,4,4,9,2,11,13,18,7,8,96,5,46,34,58,85,34,101,6,104,40,80,57,40,21,68,7,32,37,25,60,32,46,45,40,43,40,61,17,48,71,30,39,45,22,11,49,46,2,14,64,25,34,23,41,9,21,26,12,18,75,8,34,28,4,32,44,12,49,27,35,22,8,20,15,44,22,23,4,86,32,33,25,4,66,7,31,14,16,16,10,10,17,8,8,9,22,23,47,37,64,44,93,100,38,98,12,137,50,32,31,35,38,32,31,15,44,4,3,148,14,20,7,16,32,27,68,24,24,17,90,25,62,28,8,40,25,46,134,73,25,43,41,25,24,23,10,10,22,15,35,39,29,12,41,4,53,16,44,12,18,27,16,7,66,77,7,12,8,22,45,2,8,8,6,21,11,21,10,13,38,37,43,12,23,12,29,3,18,42,13,8,74,7,19,4,18,4,18,5,28,41,7,15,22,10,29,13,19,47,59,17,21,1,3,12,4,32,11,13,28,1,13,32,30,38,46,29,29,5,33,17,9,44,15,3,9,3,21,9,26,9,7,28,19,12,3,1,25,4,11,26,13,5,25,6,14,12,11,22,10,27,14,15,7,8,5,22,7,19,9,10,10,13,19,10,18,3,13,44,3,11,3,13,10,31,11,3,45,7,23,7,1,8,21,18,6,19,17,20,15,38,12,6,6,9,30,6,39,26,20,30,39,25,4,12,14,32,8,48,13,18,22,17,6,8,1,1,6,8,18,26,6,5,7,36,19,7,6,19,12,6,8,9,7,11,8,3,4,23,4,4,4,8,15,7,19,12,33,10,10,7,7,5,15,11,4,8,19,16,9,16,13,9,19,26,15,17,6,7,7,2,15,3,3,7,7,20,12,9,8,9,5,5,18,2,7,2,2,2,1,1,16,7,14,11,23,7,4,3,4,1,2,6,3,5,1,6,3,6,1,4,4,2,5,2,11,10,9,4,1,1,1,2,1,5,2,5,4,1,1,2,3,1,5,2,6,3,3,2,2,2,3,2,1,1,2,1,5,6,4,3,2,3,1,2,10,7,4,5,7,6,8,4,6,3,5,6,3,6,3,2,3,5,9,7,6,5,5,2,7,10,18,4,4,13,6,5,20,3,7,4,28,6,8,1,9,5,2,3,16,3,11,4,4,3,10,8,5,12,4,3,5,3,2,10,7,2,9,5,8,5,7,5,4,19,4,15,1,3,8,2,15,1,1,6,2,7,1,1,7,1,1,7,3,3,3,6,2,6,12,5,9,2,9,6,8,1,2,18,8,11,2,1,12,3,4,1,5,4,5,3,2,1,1,1,5,5,2,1,4,2,5,2,10,3,1,3,1,3,5,1,5,6,3,7,1,3,5,12,2,1,4,7,2,8,1,1,7,3,5,5,7,2,1,6,4,1,4,3,4,10,2,2,1,3,4,1,2,1,2,2,2,3,4,2,5,2,1,7,1,4,1,1,1,1,1,1,1,1,1,1,1,1,2,1,1,1,1,2,1,1,1,1,1,1,2,1,1,2,4,2,6,5,1,2,1,1,5,6,1,4,1,3,1,1,4,1,3,4,3,3,2,4,1,1,10,1,2,1,1,9,1,3,3,1,1,1,1,4,2,1,2,1,1,1,1,1,1,1,3,1,1,2,4,2,1,2,1,1,1,1,1,3,1,1,1,2,1,3,1,1,1,2,1,4,1,1,1,1,1,1,1,2,1,1,1,1,1,1,1,1,1,1],\"coloraxis\":\"coloraxis\",\"symbol\":\"circle\"},\"mode\":\"markers\",\"name\":\"\",\"showlegend\":false,\"x\":[-11.04897403717041,13.029210090637207,12.19970417022705,-22.498172760009766,4.625154972076416,-9.77253532409668,-21.702709197998047,-30.93461799621582,-13.981858253479004,-9.68647575378418,-22.65087127685547,-28.844676971435547,-22.12158966064453,-14.707242012023926,-6.296448707580566,-10.450872421264648,10.680602073669434,-5.807240009307861,-9.90071964263916,-7.150410175323486,13.37552261352539,-9.080097198486328,-23.854604721069336,10.072120666503906,3.872257709503174,-19.927671432495117,-7.198630332946777,-7.717521667480469,17.6928768157959,-19.26749038696289,-3.3675217628479004,-23.4447078704834,8.559951782226562,12.679206848144531,24.429237365722656,14.859808921813965,-0.14980703592300415,9.115933418273926,-3.938215970993042,14.138178825378418,7.657934188842773,-24.976675033569336,-2.6376330852508545,-0.5413957834243774,-14.857985496520996,-23.230533599853516,-10.256693840026855,-33.33584213256836,6.155951499938965,-12.258054733276367,-1.5813343524932861,-25.57302474975586,5.793332576751709,-0.23002450168132782,-22.633312225341797,-25.781070709228516,-15.284998893737793,-25.81435203552246,-16.220346450805664,-16.37090301513672,-15.996748924255371,12.321127891540527,11.24519157409668,-30.754762649536133,-7.963547706604004,-4.748106479644775,10.683222770690918,9.40648078918457,-9.99740219116211,-24.230993270874023,-15.133597373962402,5.975096225738525,3.916215658187866,-5.186159610748291,9.634193420410156,-18.343469619750977,-2.9600439071655273,23.278268814086914,-10.13892936706543,14.44421672821045,-14.943583488464355,-4.97290563583374,-25.03987693786621,-2.3951926231384277,9.714885711669922,-21.93462371826172,-6.833723068237305,-7.045543670654297,-20.386728286743164,4.531955718994141,-9.025640487670898,-21.36043357849121,-11.387782096862793,8.536788940429688,-10.091968536376953,-11.328438758850098,-24.813173294067383,-28.584989547729492,-16.939878463745117,-28.59173011779785,6.534116268157959,13.60433578491211,35.125492095947266,31.914981842041016,12.862222671508789,4.488419055938721,-9.526488304138184,-16.19409942626953,9.870828628540039,16.210739135742188,-0.4700962007045746,13.424586296081543,-11.204955101013184,-17.667964935302734,10.977703094482422,-12.870601654052734,3.6742043495178223,2.503779172897339,-13.4127836227417,24.453624725341797,3.244835138320923,11.643952369689941,6.277987957000732,-14.838397979736328,1.9649553298950195,1.4451569318771362,-27.449047088623047,8.063066482543945,-20.98813247680664,25.993083953857422,-25.02861213684082,-29.980833053588867,-30.02220916748047,-23.75845718383789,-32.97396469116211,-30.4538516998291,-12.462644577026367,18.37797737121582,8.90820598602295,-3.810088872909546,-19.179733276367188,-2.9830949306488037,-8.58598804473877,-10.883941650390625,13.200417518615723,3.501847982406616,-6.2528157234191895,4.076295852661133,-9.244848251342773,-13.898215293884277,-22.963327407836914,-20.378305435180664,-22.665246963500977,-10.22011661529541,-3.2228734493255615,-25.256845474243164,-27.88621711730957,20.135446548461914,2.5249557495117188,-11.795496940612793,2.56722092628479,-32.18950653076172,-19.57668113708496,-4.1335530281066895,-18.032588958740234,-24.857641220092773,-6.922647953033447,-21.558879852294922,-14.354843139648438,-20.211299896240234,-16.431352615356445,-12.1160306930542,-8.965774536132812,-11.774419784545898,-15.081284523010254,-21.44595718383789,-21.866016387939453,-31.667137145996094,-17.552160263061523,-25.19243049621582,-12.117457389831543,-22.7802734375,-21.596527099609375,-17.005311965942383,-32.705162048339844,-14.318680763244629,-27.152475357055664,-23.019018173217773,-13.501791000366211,-26.80362319946289,-28.654678344726562,-10.733099937438965,-26.100257873535156,-28.337356567382812,-13.930582046508789,-32.51039123535156,-27.566390991210938,-18.267364501953125,-27.712915420532227,-21.428136825561523,-12.119138717651367,-8.119607925415039,-21.130041122436523,-10.849602699279785,-21.22240447998047,-16.79161834716797,-12.873993873596191,-21.477983474731445,-18.961349487304688,-10.513348579406738,-27.692102432250977,-4.244631767272949,-31.305490493774414,-23.66072654724121,-9.140223503112793,-32.50537872314453,9.401876449584961,1.2671586275100708,6.208186149597168,-3.2156782150268555,-12.924031257629395,-2.7471654415130615,-20.81099510192871,-13.51722526550293,0.9712047576904297,-1.7892663478851318,-3.777344226837158,-4.088671684265137,12.265535354614258,-3.822256326675415,21.489416122436523,-7.619865894317627,-1.744876503944397,-26.828615188598633,5.38584566116333,-18.531742095947266,-8.674468040466309,-27.243337631225586,-7.7187113761901855,10.142826080322266,0.7285972237586975,-13.807018280029297,4.274492263793945,1.3650970458984375,2.2006475925445557,-17.618345260620117,24.449220657348633,-18.33052635192871,10.262785911560059,10.137210845947266,-15.876606941223145,8.715250968933105,-3.868452310562134,17.642017364501953,-0.5171890258789062,-12.222593307495117,-8.222108840942383,-16.76529884338379,2.499497890472412,9.190110206604004,22.395957946777344,-12.46584701538086,30.918092727661133,19.186620712280273,-9.917512893676758,4.380921840667725,0.3008175492286682,-17.6075496673584,-13.614432334899902,0.2164917290210724,9.725468635559082,-14.969533920288086,11.489639282226562,-0.2700112462043762,-26.433565139770508,-24.91038703918457,-12.626249313354492,-3.9920787811279297,-22.929012298583984,6.762686729431152,2.4485509395599365,1.562119483947754,-20.979541778564453,7.1925272941589355,-16.847766876220703,-7.596545219421387,2.5238451957702637,4.750815391540527,-3.221909761428833,10.224462509155273,1.9908467531204224,-25.37253189086914,-10.848447799682617,2.62113881111145,-3.535125970840454,0.8932584524154663,-18.73577117919922,1.1463119983673096,11.990711212158203,1.6460316181182861,6.821274280548096,-15.832755088806152,-11.998641014099121,-11.48609447479248,-9.810891151428223,-10.369126319885254,6.622443199157715,3.1417672634124756,4.8406662940979,-11.474809646606445,-7.460304260253906,3.6985323429107666,-11.410636901855469,34.61420440673828,-15.304892539978027,-15.405579566955566,-14.66684341430664,-29.6748104095459,-10.595067024230957,-9.453861236572266,0.8533456921577454,2.759249448776245,3.006338357925415,-4.221773624420166,14.28951644897461,4.4106221199035645,-13.721893310546875,3.1970467567443848,8.506612777709961,6.952296733856201,4.7482500076293945,-11.243528366088867,3.2571582794189453,-0.9498559236526489,5.892765045166016,11.556772232055664,-7.1599225997924805,7.131345272064209,2.112643003463745,-9.826095581054688,0.04075801372528076,17.500823974609375,6.430510520935059,-12.728824615478516,-10.080282211303711,-12.595695495605469,-24.771535873413086,8.942765235900879,2.4587905406951904,1.4133425951004028,19.563587188720703,20.91580581665039,19.621959686279297,0.1919674277305603,12.18289566040039,-11.67414379119873,-31.119953155517578,11.896111488342285,-7.400312900543213,-16.541955947875977,-4.743020534515381,-3.7142937183380127,9.892790794372559,15.416302680969238,10.781023025512695,7.578157424926758,-24.192100524902344,14.496417999267578,3.6137936115264893,4.486015319824219,-9.889969825744629,-10.856298446655273,20.88361930847168,13.532483100891113,29.22869110107422,17.423866271972656,7.5889410972595215,-15.081491470336914,2.4104466438293457,7.464622974395752,-3.5853402614593506,-10.830891609191895,23.59682846069336,22.488088607788086,-2.046529531478882,15.206262588500977,-2.308011054992676,21.555728912353516,-5.780694007873535,-6.324523448944092,15.040183067321777,0.06907623261213303,-5.825469017028809,6.9795379638671875,21.762840270996094,-8.636457443237305,15.574505805969238,19.432376861572266,9.107501029968262,20.722375869750977,-6.792532920837402,-6.637566089630127,-7.318063735961914,-25.72041130065918,5.8742146492004395,14.932299613952637,16.905500411987305,-14.492097854614258,-2.6616623401641846,9.367734909057617,2.2349259853363037,21.272022247314453,7.179088115692139,-20.887187957763672,-4.059865951538086,-16.5111083984375,-4.036917686462402,-15.179040908813477,-24.385168075561523,-22.81777000427246,-1.2108068466186523,-2.1151397228240967,-29.407384872436523,34.744590759277344,-16.221460342407227,4.573369026184082,-30.366764068603516,-24.141977310180664,-17.096235275268555,-20.656692504882812,7.015604496002197,-32.528846740722656,-10.196808815002441,-13.932361602783203,-20.348665237426758,-1.5878280401229858,35.39665985107422,33.29996871948242,34.77094650268555,29.91661834716797,8.671958923339844,24.44196891784668,-25.83932113647461,-8.1179838180542,-20.35555076599121,5.949582099914551,-23.759965896606445,-12.748745918273926,-5.211722373962402,16.114376068115234,-2.7073497772216797,9.116280555725098,16.411529541015625,1.7141051292419434,8.200618743896484,10.127524375915527,22.584184646606445,-1.6391912698745728,-8.147536277770996,-17.365327835083008,-9.09727954864502,-26.713851928710938,-15.837059020996094,-13.470298767089844,-15.452329635620117,-25.070159912109375,-7.756485462188721,-3.781259775161743,-12.091253280639648,-2.055691719055176,-5.826142311096191,-1.8532930612564087,-5.647537708282471,-20.332021713256836,-24.5185546875,0.9614881277084351,-11.858882904052734,-21.670894622802734,-28.8597354888916,-31.53736114501953,-18.72304916381836,-25.92229461669922,-28.74823760986328,-32.27605438232422,-28.009578704833984,-10.958100318908691,-31.008441925048828,-17.788408279418945,-14.634194374084473,-28.151718139648438,-19.446401596069336,-20.124311447143555,-28.698945999145508,-25.712709426879883,-19.767534255981445,-26.132022857666016,-20.826953887939453,-25.33469009399414,-17.89447021484375,-20.02860450744629,-25.723886489868164,-22.063098907470703,-18.5687198638916,-21.764123916625977,-17.09406280517578,-23.336149215698242,-28.57706069946289,-24.966943740844727,-26.359750747680664,-27.42234230041504,-28.904462814331055,-12.248794555664062,-13.314618110656738,-12.47403335571289,-30.26579475402832,-13.155132293701172,-20.94790267944336,-15.000786781311035,-30.005786895751953,-26.39805793762207,-19.31139373779297,-30.257429122924805,-28.63090705871582,-13.698603630065918,-15.545197486877441,-25.55340003967285,-29.731063842773438,-28.851072311401367,-24.2283878326416,-17.00505256652832,-7.628520488739014,-3.631976842880249,-16.845054626464844,-21.10759925842285,3.9884464740753174,-27.340246200561523,-22.946041107177734,3.737447500228882,5.8794121742248535,3.6299877166748047,7.7113165855407715,23.63724708557129,-24.292678833007812,-1.608168601989746,33.88380813598633,12.18319034576416,-3.0201022624969482,27.290769577026367,-6.660984039306641,-1.7135114669799805,-2.621032238006592,6.331001281738281,-1.0081747770309448,10.18427848815918,15.480878829956055,-7.395676612854004,-26.249309539794922,-14.007230758666992,20.08613395690918,17.15240478515625,7.222996234893799,14.051417350769043,-3.086423397064209,24.105039596557617,14.413398742675781,-4.496934413909912,7.237318992614746,-5.226491451263428,9.994890213012695,-8.07898998260498,22.969633102416992,9.683547019958496,12.763775825500488,24.336286544799805,17.788402557373047,9.906183242797852,32.32414245605469,2.0747578144073486,8.949786186218262,-14.831114768981934,-11.314138412475586,-15.107341766357422,-6.29012393951416,-13.003101348876953,21.63636016845703,23.210983276367188,-9.14632511138916,-9.278919219970703,-18.876201629638672,25.454465866088867,-4.388776779174805,-14.893776893615723,-15.293915748596191,-9.641691207885742,5.599187850952148,9.804000854492188,5.31296968460083,19.89647102355957,36.223670959472656,-6.220564365386963,-19.203948974609375,-15.116399765014648,-30.0577449798584,-26.337846755981445,-16.748464584350586,-25.39389991760254,-29.477413177490234,-14.472700119018555,-1.77070951461792,-28.604509353637695,-29.999507904052734,-17.796497344970703,-21.424144744873047,-19.22121238708496,-19.42244529724121,-18.275836944580078,-19.53598403930664,-18.250431060791016,1.3088958263397217,9.01268482208252,-18.766803741455078,-4.925772666931152,7.602950096130371,8.432395935058594,-3.0456836223602295,-28.239404678344727,10.866472244262695,1.5253525972366333,-5.942972660064697,-4.629668712615967,-24.19240379333496,-20.78859519958496,-27.5388126373291,-18.80814552307129,8.359310150146484,13.830849647521973,-6.739007472991943,-28.13239288330078,-18.604555130004883,-9.972951889038086,-25.656980514526367,-22.521533966064453,-9.443766593933105,-19.29232406616211,-14.79167652130127,-14.119241714477539,-18.976139068603516,-23.089914321899414,-17.593406677246094,-15.164258003234863,-25.44401741027832,-18.026634216308594,-23.501392364501953,-19.383440017700195,-27.740999221801758,-17.06170082092285,-28.164400100708008,-1.7017232179641724,-28.61646842956543,-20.391740798950195,-26.18448829650879,-7.026849746704102,-16.00433349609375,-26.958114624023438,11.082355499267578,20.883380889892578,18.961090087890625,-6.668158054351807,25.850128173828125,-1.5478861331939697,-17.554107666015625,-0.42890408635139465,-13.648528099060059,8.53726577758789,-28.958459854125977,5.223107814788818,49.50688934326172,3.4775443077087402,-4.8952460289001465,4.404806137084961,12.607975006103516,1.0914877653121948,8.604679107666016,-10.4717378616333,1.7072752714157104,-8.684326171875,8.459368705749512,24.49205207824707,2.491607904434204,5.38499116897583,-15.750223159790039,-6.111861705780029,-25.158245086669922,-30.635753631591797,-9.357057571411133,5.305632591247559,-5.098702907562256,-12.337156295776367,-10.478830337524414,6.555970668792725,-16.746356964111328,11.24111557006836,-4.622705936431885,-7.939156532287598,-30.512630462646484,5.8104166984558105,-8.14109992980957,-24.567676544189453,-15.088279724121094,-21.54271697998047,50.067230224609375,-11.399903297424316,2.461752414703369,-9.163076400756836,-20.518924713134766,-0.9865612387657166,6.743217945098877,-9.629356384277344,14.292581558227539,7.237716197967529,10.70982837677002,0.40128931403160095,3.2091970443725586,-18.065792083740234,13.062383651733398,-13.96663761138916,-12.420470237731934,19.630796432495117,-4.2489142417907715,-15.026241302490234,-0.3474288582801819,-8.229044914245605,-16.0950984954834,16.344228744506836,-19.06614875793457,-12.21096420288086,-7.68773889541626,15.530973434448242,-5.84087610244751,-1.7491884231567383,4.747815132141113,2.813426971435547,21.529199600219727,1.2258821725845337,-9.853650093078613,-20.394271850585938,-9.70416259765625,3.691751480102539,22.42638397216797,-14.070277214050293,11.138581275939941,8.787644386291504,-17.893314361572266,-0.3239959180355072,11.96529769897461,5.870584487915039,-14.050789833068848,31.63597869873047,18.812456130981445,1.305051565170288,8.896173477172852,10.793744087219238,10.017786026000977,-0.5625616312026978,8.516438484191895,-16.627412796020508,15.051924705505371,14.853784561157227,13.40319538116455,-13.425392150878906,20.81107521057129,-12.337749481201172,-8.166767120361328,11.276442527770996,-2.4833264350891113,3.4376814365386963,19.622745513916016,-16.018428802490234,9.806879997253418,9.395577430725098,10.179430961608887,-15.085652351379395,18.281906127929688,49.62517547607422,2.0615429878234863,-2.9936418533325195,8.098228454589844,47.81817626953125,-18.643230438232422,10.294053077697754,21.965410232543945,-22.75181770324707,-23.996362686157227,-2.360891103744507,17.291458129882812,11.11874008178711,9.088883399963379,26.681398391723633,-18.109954833984375,6.23159122467041,12.786760330200195,18.514320373535156,-9.32412338256836,13.319498062133789,-18.960712432861328,-21.405202865600586,2.694295644760132,5.647361755371094,6.000182151794434,-3.5778961181640625,-11.402091979980469,8.941974639892578,-10.652619361877441,51.02705383300781,19.564556121826172,17.171598434448242,11.753920555114746,-2.737677574157715,4.974040508270264,1.3529349565505981,-1.1884419918060303,-13.721086502075195,7.9133734703063965,-3.6996264457702637,11.661478042602539,19.234621047973633,7.081833362579346,5.908087253570557,5.338113307952881,36.54754638671875,19.01699447631836,-6.148359775543213,5.832955360412598,15.468168258666992,-0.811845600605011,-16.74103546142578,-16.97494125366211,22.282703399658203,34.80730056762695,11.910224914550781,7.569397449493408,-15.46652889251709,-6.376585483551025,-12.277542114257812,-1.2800652980804443,4.447407245635986,-10.726266860961914,-18.82163429260254,10.830117225646973,-15.181218147277832,-17.121992111206055,35.941471099853516,-9.330222129821777,-8.637630462646484,-12.251810073852539,-16.472923278808594,28.24953269958496,36.27036666870117,6.813953876495361,10.526762962341309,-6.926435947418213,22.39912986755371,-19.558320999145508,9.848725318908691,-10.472809791564941,2.934119939804077,-27.86747169494629,-16.52101707458496,0.5280680060386658,6.373086452484131,10.213394165039062,-7.312226295471191,21.33119773864746,-9.84864616394043,-4.2147626876831055,12.624275207519531,24.46471405029297,25.318660736083984,3.4676513671875,-8.788995742797852,12.607884407043457,-6.865297794342041,-8.30789566040039,-8.13890266418457,22.479516983032227,1.3125908374786377,-10.059941291809082,0.15081502497196198,-8.1285982131958,23.72507667541504,19.58761978149414,7.298839569091797,0.6116782426834106,25.392866134643555,0.9537840485572815,-11.409125328063965,22.46787452697754,-7.406536102294922,-0.9660443663597107,-8.43108081817627,25.28163719177246,-11.977582931518555,-10.389270782470703,-0.7994853854179382,4.732452392578125,3.1291394233703613,15.093003273010254,7.909821033477783,-13.496715545654297,29.135478973388672,28.544940948486328,2.6797292232513428,35.68766784667969,20.409351348876953,-24.01651382446289,-2.3423213958740234,-11.306554794311523,-4.036712169647217,-16.40226936340332,-18.206369400024414,-16.482908248901367,-19.035863876342773,-14.72886848449707,0.007060345262289047,3.7876782417297363,10.16273021697998,32.05867004394531,9.236322402954102,-3.762514114379883,5.712024688720703,20.032323837280273,18.94637680053711,8.868276596069336,1.9229037761688232,-16.203426361083984,-2.737818717956543,-9.464255332946777,22.149646759033203,3.8720595836639404,17.609153747558594,15.547101020812988,-19.62638282775879,-13.62511920928955,11.336349487304688,-6.43324089050293,-15.369573593139648,-13.525132179260254,11.992643356323242,-7.43446683883667,-7.669265270233154,2.50846791267395,-4.967282295227051,-22.201236724853516,-16.395370483398438,-20.01668357849121,-22.40403175354004,21.480186462402344,-10.15247631072998,-14.254349708557129,-21.66547203063965,-16.271913528442383,-8.534478187561035,-18.81451988220215,-28.272430419921875,-16.371734619140625,-9.163323402404785,-4.0341315269470215,-14.502209663391113,-21.433103561401367,-28.118083953857422,-10.929993629455566,-23.70298957824707,-13.540366172790527,-5.006452560424805,-19.612993240356445,22.65850067138672,7.100860595703125,1.6669797897338867,2.3087308406829834,-10.957807540893555,17.28217124938965,18.592327117919922,5.876204013824463,4.156691551208496,-0.4544205069541931,7.561239242553711,27.12110710144043,4.76080322265625,5.467827796936035,0.9168871641159058,23.7591552734375,21.342628479003906,3.7750325202941895,1.1652830839157104,-7.0970458984375,15.325492858886719,22.741662979125977,16.907690048217773,10.675444602966309,15.017539978027344,31.87689781188965,7.955371379852295,25.78228759765625,4.327801704406738,-10.769424438476562,-0.6446629762649536,-24.314605712890625,-13.25743293762207,-0.32757464051246643,-6.463059902191162,-24.819053649902344,-17.489276885986328,24.09463882446289,0.7074899077415466,3.437674045562744,5.868119716644287,-4.938161849975586,-10.941951751708984,-11.881425857543945,-27.21892547607422,-15.49209213256836,-1.4865814447402954,5.639206886291504,-17.814889907836914,3.2435450553894043,0.3821864426136017,35.25261306762695,3.225607395172119,21.770042419433594,18.512361526489258,13.993546485900879,13.61644172668457,13.854991912841797,16.061433792114258,8.88077163696289,14.883822441101074,33.288978576660156,1.5323511362075806,-26.21050453186035,14.035775184631348,20.150850296020508,7.326392650604248,5.2890825271606445,-3.2761104106903076,-10.796647071838379,10.675110816955566,10.017057418823242,-6.3272294998168945,16.955808639526367,-13.366279602050781,5.27151346206665,16.880104064941406,-0.7717236280441284,14.577455520629883,10.543559074401855,-10.921351432800293,11.503791809082031,-3.5803165435791016,5.546511173248291,-17.384851455688477,10.066563606262207,-11.965271949768066,-11.138702392578125,-27.486604690551758,-13.307753562927246,-14.370648384094238,4.606473922729492,-20.523778915405273,-6.757967472076416,-20.170421600341797,6.944521903991699,15.096206665039062,-17.285905838012695,7.528645992279053,0.09587171673774719,21.057037353515625,4.879785060882568,11.185786247253418,20.850683212280273,-10.13536262512207,7.060827732086182,23.226924896240234,-2.9641923904418945,-19.987077713012695,-7.427725791931152,-12.746379852294922,31.0049991607666,21.98116111755371,25.97999382019043,15.491043090820312,4.067768096923828,14.987508773803711,-7.599851131439209,15.528464317321777,21.508419036865234,4.470810413360596,-9.832968711853027,-10.251664161682129,-15.52714729309082,-8.59234619140625,-13.678961753845215,14.706622123718262,-24.848060607910156,24.277568817138672,2.101612091064453,-1.5686618089675903,-11.244818687438965,-24.2824649810791,-4.265714645385742,-5.639986991882324,-18.87455177307129,2.326078176498413,-2.852633237838745,-5.767552852630615,-9.029047012329102,-22.383089065551758,-4.822764873504639,-18.14252281188965,-7.098438739776611,-14.240862846374512,-19.014184951782227,-23.74880599975586,-17.915433883666992,-15.639131546020508,-14.002453804016113,-31.134899139404297,25.083433151245117,-7.761500358581543,-14.37076187133789,-21.77785301208496,-23.33827018737793,-1.2758768796920776,-4.7082295417785645,-9.791988372802734,-14.287933349609375,1.6803603172302246,-15.790186882019043,-5.772570610046387,17.948585510253906,27.166213989257812,-13.080331802368164,-19.193584442138672,-14.838671684265137,-13.74345874786377,0.5497134923934937,32.72423553466797,-18.21750259399414,-23.65371322631836,-24.347946166992188,-12.34416675567627,19.803634643554688,2.6681392192840576,-12.911705017089844,-0.41727617383003235,49.37868881225586,0.011649619787931442,15.788349151611328,-20.595020294189453,-13.993695259094238,-7.593864440917969,-12.905610084533691,20.2512149810791,14.142789840698242,10.394330024719238,18.862886428833008,0.2099887728691101,-11.147300720214844,-4.728721618652344,-25.35041618347168,-9.440467834472656,-12.98314094543457,-26.819211959838867,-4.824648380279541,-11.2906494140625,-7.430469036102295,-8.566267967224121,25.389741897583008,16.071556091308594,17.88349723815918,16.079713821411133,20.717803955078125,18.585742950439453,23.12215232849121,-5.626734733581543,17.85218620300293,-15.310629844665527,-8.472190856933594,10.0004243850708,-8.203680038452148,2.160379648208618,-9.476248741149902,-24.678356170654297,-18.7369441986084,-14.4833345413208,-25.103328704833984,-11.635616302490234,-10.994504928588867,-14.375293731689453,-4.897964954376221,-12.11689281463623,49.87482452392578,-25.273958206176758,-26.430442810058594,-16.476360321044922,15.196798324584961,14.263689041137695,15.064242362976074,-5.105545520782471,17.70213508605957,17.515941619873047,-22.609569549560547,14.781312942504883,13.9207763671875,28.780282974243164,27.18575668334961,-7.471851825714111,9.150064468383789,18.893604278564453,11.529996871948242,7.777431488037109,-2.9320051670074463,0.4386860728263855,-18.40021514892578,13.652892112731934,12.494089126586914,-8.608803749084473,20.766141891479492,15.437135696411133,16.196691513061523,22.695297241210938,15.368461608886719,-9.92671012878418,-9.265350341796875,-5.890445709228516,5.65403938293457,50.53807067871094,3.241762638092041,2.9964263439178467,13.003044128417969,-3.2102255821228027,-4.565094470977783,-6.965677261352539,5.20039701461792,12.806205749511719,-8.829902648925781,25.571943283081055,19.038259506225586,-11.272526741027832,10.148710250854492,33.560157775878906,-9.99884033203125,-0.13893915712833405,5.754983425140381,25.070812225341797,-8.891461372375488,29.319534301757812,23.962732315063477,11.655434608459473,2.6907143592834473,23.85375213623047,-11.918302536010742,-11.938485145568848,-23.15876007080078,-3.8144068717956543,0.3928452730178833,-23.532867431640625,-7.790013790130615,-13.312057495117188,-8.313260078430176,16.642454147338867,20.95803451538086,16.329004287719727,24.98029899597168,18.322967529296875,13.615631103515625,7.057143211364746,-10.426270484924316,-8.558293342590332,16.81493377685547,20.257661819458008,4.871918678283691,-3.264131784439087,14.990382194519043,6.504068851470947,-4.701393127441406,-27.55916404724121,32.799835205078125,-13.613607406616211,15.10416030883789,49.887855529785156,5.503387451171875,25.189050674438477,-4.048469543457031,5.52830696105957,23.082311630249023,-6.298655033111572,11.762883186340332,-16.42064094543457,-2.3555281162261963,13.943443298339844,1.2206342220306396,-8.720993041992188,16.035982131958008,47.373050689697266,22.428857803344727,-3.7856905460357666,24.548418045043945,36.96976089477539,49.02564239501953,-3.7914071083068848,18.72519302368164,-10.18134880065918,1.8105429410934448,12.342795372009277,-0.06236335262656212,2.446014404296875,32.613128662109375,22.54344367980957,-9.642658233642578,33.17384719848633,14.502429962158203,-3.3105576038360596,-8.387722969055176,-4.31943416595459,32.96843338012695,-2.102752923965454,32.16328048706055,-6.181716442108154,48.594268798828125,-15.009788513183594,-15.153011322021484,1.8907428979873657,-19.08885383605957,32.26203536987305,19.87005615234375,30.567562103271484,17.15867042541504,-0.2894692122936249,32.61078643798828,33.087120056152344,32.965572357177734,2.3283698558807373,32.64952087402344,-12.049094200134277,14.759647369384766,0.9957221150398254,19.767620086669922,32.81675720214844,48.35680389404297,33.33523178100586,-9.42822551727295,33.71664047241211,-1.6092005968093872,32.3581657409668,4.833966255187988,-10.317658424377441,24.86361312866211,-10.601941108703613,32.79843521118164,22.888290405273438,-19.145906448364258,33.32583236694336,33.2106819152832,50.78664779663086,23.519147872924805,32.90264892578125,-12.920464515686035,-24.366451263427734,-15.702592849731445,-11.03602409362793,22.846345901489258,-11.358748435974121,32.31144332885742,33.79545593261719,-11.699872016906738,32.54791259765625,-1.273799180984497,-11.209883689880371,-10.237685203552246,-11.33674144744873,2.294194459915161,-0.7588270902633667,24.763967514038086,34.976776123046875,-8.544206619262695,34.02717971801758,22.33881187438965,-9.673407554626465,22.58470344543457,22.538604736328125,22.078262329101562,22.497026443481445,14.615872383117676,-6.3892598152160645,-22.052309036254883,-14.865913391113281,-28.292373657226562,-21.649030685424805,23.981765747070312,-5.424129009246826,-8.897186279296875,23.833267211914062,-9.08557415008545,-13.078653335571289,-6.334347724914551,-14.970638275146484,15.44675350189209,35.554656982421875,15.38540267944336,7.017491817474365,15.150346755981445,25.3530330657959,6.937076568603516,23.218448638916016,17.58306121826172,11.544548034667969,-13.827957153320312,-24.658187866210938,18.206912994384766,21.696762084960938,5.901175022125244,-2.957385540008545,26.635555267333984,-7.36653470993042,-2.2870073318481445,-0.43222010135650635,21.316165924072266,-24.462390899658203,2.112705945968628,3.331712484359741,-5.001904010772705,31.677597045898438,2.6455557346343994,-7.091041088104248,17.96170425415039,28.726661682128906,15.274164199829102,-6.91139030456543,5.167803764343262,-4.865389347076416,1.2561627626419067,14.170933723449707,-4.918729305267334,5.861542224884033,-27.931861877441406,19.87950325012207,-14.796813011169434,47.46125411987305,-25.278303146362305,-14.711822509765625,-26.42633819580078,-15.615180015563965,49.00701141357422,-18.863101959228516,16.45975685119629,-23.63912010192871,-14.793492317199707,-15.602799415588379,-13.778660774230957,51.73244094848633,23.653257369995117,-12.768189430236816,21.49949073791504,-11.379312515258789,0.7217997908592224,-12.942704200744629,-13.200119018554688,11.55571460723877,7.877524375915527,18.670473098754883,11.777055740356445,48.98094940185547,-22.767690658569336,-13.353919982910156,-10.473910331726074,48.38735580444336,22.703107833862305,-3.05124568939209,13.863659858703613,23.081148147583008,17.012313842773438,-21.34634780883789,6.238779544830322,-14.26662826538086,-12.277338027954102,35.821144104003906,24.630830764770508,-19.020732879638672,17.15521812438965,15.072260856628418,47.25477600097656,14.377690315246582,48.56081008911133,35.8658561706543,-4.657153606414795,19.662641525268555,23.936979293823242,14.698039054870605,-16.91510581970215,-18.5250301361084,-9.482336044311523,46.126712799072266,-12.645600318908691,-3.216780424118042,50.277565002441406,-19.727636337280273,-8.081934928894043,13.155233383178711,23.54133415222168,-6.294511318206787,-7.7787370681762695,-27.164718627929688,20.462745666503906,-1.7928422689437866,-5.522251605987549,-7.721076011657715,10.42186450958252,9.73413372039795,0.1973986029624939,15.155842781066895,0.9786310791969299,13.862872123718262,-2.680865526199341,-10.535079002380371,-23.601682662963867,50.468475341796875,26.238645553588867,-7.892434120178223,-1.312205195426941,24.21808624267578,-14.184892654418945,28.42976951599121,-12.99732494354248,17.415176391601562,-21.052579879760742,-11.36255168914795,-9.341732025146484,-10.480602264404297,23.553096771240234,19.95005226135254,-15.474230766296387,12.487380027770996,48.90202713012695,3.7341272830963135,2.2130393981933594,33.65424346923828,49.690006256103516,35.1254997253418,33.62681198120117,30.905166625976562,48.86070251464844,12.558770179748535,-0.8571280837059021,30.815675735473633,-21.934362411499023,12.680962562561035,33.56368637084961,-20.188417434692383,34.41437911987305,-14.186636924743652,33.88166809082031,34.555721282958984,34.71096420288086,49.42287826538086,37.76415252685547,47.731346130371094,47.58726119995117,33.97837829589844,34.785213470458984,49.163822174072266,34.361976623535156,35.280357360839844,34.363258361816406,35.31779098510742,34.660858154296875,33.699012756347656,37.748661041259766,-11.42128849029541,34.52906799316406,37.664756774902344,48.136627197265625,35.82293701171875,49.16814041137695,51.56571960449219,-11.368753433227539,35.529788970947266,35.21145248413086,22.469602584838867,-5.650664329528809,22.146392822265625,-10.339978218078613,-16.009334564208984,49.371456146240234,-7.564798355102539,49.52297592163086,20.520944595336914,-8.8312349319458,23.55144691467285,-26.106285095214844,-24.57185173034668,27.67081069946289,-12.523953437805176,50.336341857910156,-14.34367561340332,-4.519806385040283,23.066444396972656,-15.362347602844238,24.448535919189453,36.37459945678711,18.329126358032227,0.9736633896827698,-8.904091835021973,1.3832156658172607,48.63235092163086,16.79239845275879,51.53956604003906,-9.038673400878906,49.679344177246094,-3.9834184646606445,4.493782997131348,45.59955978393555,16.56378173828125,-20.3973445892334,22.71003532409668,4.542534351348877,34.33929443359375,-4.388433456420898,-0.03831400349736214,-17.09396743774414,-9.990817070007324,20.758333206176758,-10.022234916687012,-10.583914756774902,28.602598190307617,-10.521950721740723,48.58601760864258,-10.71184253692627,50.73506546020508,-11.285150527954102,-10.4773530960083,48.2031135559082,-18.077354431152344,-0.2802177369594574,47.76735305786133,48.42525863647461,-21.531034469604492,-10.416869163513184,50.45194625854492,-10.750351905822754,47.742332458496094,51.07284927368164,18.348567962646484,50.5098762512207,48.472373962402344,50.59385681152344,21.226858139038086,18.96580696105957,-0.817828357219696,35.92277908325195,27.46133804321289,36.187686920166016,25.277690887451172,24.153100967407227,-24.79347038269043,49.51219940185547,23.216938018798828,22.807647705078125,22.951244354248047,23.882612228393555,22.940378189086914,31.51363182067871,20.17967987060547,22.848129272460938,-18.86577796936035,50.33916473388672,24.876646041870117,-8.08890151977539,31.644765853881836,24.43360710144043,24.351118087768555,-6.235579967498779,-7.434821128845215],\"xaxis\":\"x\",\"y\":[-22.445627212524414,-21.953519821166992,-5.949471950531006,-0.3693741261959076,-18.307416915893555,21.10889434814453,-1.924351453781128,-3.8778679370880127,23.882604598999023,16.140275955200195,-5.852769374847412,-0.8129596710205078,3.1740543842315674,23.597562789916992,-18.577430725097656,9.256746292114258,5.658565044403076,8.406906127929688,22.578744888305664,24.31279945373535,-10.852937698364258,-22.27006721496582,19.47638511657715,7.6399126052856445,-5.6302337646484375,-6.329462051391602,-14.228854179382324,-18.181777954101562,-11.173755645751953,3.598778009414673,-23.103515625,19.01393699645996,20.293123245239258,-1.7415019273757935,-16.547819137573242,3.691657304763794,10.325700759887695,-18.470449447631836,10.879610061645508,1.9052046537399292,-3.8338510990142822,22.847562789916992,-8.441465377807617,5.206902980804443,20.10760498046875,12.24423599243164,6.5057196617126465,-1.1196138858795166,-4.780727386474609,-24.565351486206055,-14.833959579467773,5.360158920288086,22.08794403076172,-21.23210906982422,7.578011512756348,23.315553665161133,15.456046104431152,-2.829817295074463,21.61814308166504,21.51727294921875,21.5952091217041,-14.246233940124512,-20.538429260253906,-0.8437545299530029,18.036590576171875,-18.925662994384766,5.625085353851318,-12.009689331054688,-21.133913040161133,2.877761125564575,-15.758621215820312,-26.358797073364258,-19.027324676513672,5.461409568786621,13.982665061950684,-5.3032355308532715,-22.543500900268555,-16.794538497924805,-24.24419593811035,-6.198249816894531,8.457541465759277,-24.067832946777344,-0.7115066647529602,-10.931146621704102,-4.998761177062988,13.759284019470215,-18.446462631225586,-19.548324584960938,1.6461200714111328,6.4889044761657715,10.327616691589355,0.6276832222938538,19.592912673950195,-20.033349990844727,-22.6297550201416,-24.619871139526367,-11.976336479187012,-6.869192123413086,-14.748883247375488,0.8799729943275452,-25.403121948242188,-5.877070426940918,-8.774346351623535,-12.703877449035645,-9.299519538879395,-5.367977142333984,-0.5788074731826782,-2.492973804473877,12.325023651123047,-22.711410522460938,-11.698339462280273,4.309245586395264,21.55042266845703,8.637566566467285,-5.635453701019287,23.876821517944336,-21.935314178466797,-20.289020538330078,17.350324630737305,-6.471724510192871,-20.401336669921875,10.02505111694336,-9.774394035339355,26.357006072998047,-21.527132034301758,-4.44297456741333,-3.7460780143737793,20.05063819885254,-7.401851654052734,-1.3107675313949585,14.79704475402832,-4.138694763183594,-4.8808274269104,4.430439472198486,5.77499532699585,3.761500597000122,28.331058502197266,-16.392253875732422,-25.066055297851562,-2.0517756938934326,-11.345318794250488,-15.751194953918457,-19.551908493041992,-25.37624168395996,-12.189064979553223,7.687217712402344,-23.410747528076172,-11.081361770629883,4.147632598876953,10.943548202514648,-0.3707279562950134,-2.2111330032348633,-9.710058212280273,6.424090385437012,-19.342538833618164,22.68146514892578,-6.0416035652160645,-8.500468254089355,-3.3861889839172363,8.859930992126465,-19.230716705322266,-3.7343013286590576,-11.48046588897705,-26.107336044311523,19.92324447631836,1.7738616466522217,-11.328722953796387,-3.6349849700927734,18.64072608947754,18.87503433227539,18.258333206176758,-24.51837730407715,-26.48710060119629,-24.418615341186523,9.560639381408691,-12.850330352783203,-5.852545738220215,2.7788894176483154,7.463450908660889,22.12024688720703,-24.53739356994629,-4.838048458099365,-12.76008415222168,-4.36099100112915,5.7337422370910645,-23.692859649658203,-4.0895466804504395,-3.976968765258789,15.668778419494629,0.3811120092868805,-2.8601067066192627,10.76177978515625,-7.975449085235596,-9.002547264099121,-23.97296714782715,-1.9504395723342896,13.818384170532227,22.06812858581543,-7.720128536224365,2.5547080039978027,7.8256072998046875,-24.324535369873047,0.8266816735267639,-25.22507667541504,-12.464112281799316,3.009618043899536,19.384052276611328,-10.343456268310547,6.991385459899902,-22.72295570373535,-7.740051746368408,27.278520584106445,-3.4357457160949707,-8.75948429107666,-20.17193603515625,-1.6858609914779663,13.751925468444824,-1.5623670816421509,-23.125375747680664,-5.661393642425537,24.733427047729492,-27.711875915527344,2.355290174484253,20.579452514648438,-13.085431098937988,-24.52663803100586,-27.68344497680664,-27.803720474243164,-22.52018165588379,-27.690937042236328,-11.868400573730469,-26.15679168701172,-24.844449996948242,-8.113006591796875,5.399109840393066,18.08696937561035,-22.227569580078125,21.159570693969727,-26.223796844482422,8.244457244873047,-18.29802894592285,26.158113479614258,-16.1602783203125,7.944973945617676,-7.791540145874023,27.776737213134766,-16.564502716064453,23.83075523376465,11.967789649963379,14.004108428955078,19.97696876525879,-20.920425415039062,21.534414291381836,-18.414512634277344,-19.536592483520508,11.012118339538574,-23.720012664794922,29.682254791259766,-9.11887264251709,16.704652786254883,7.683783054351807,28.25071907043457,3.061394214630127,10.53913688659668,-21.534442901611328,2.758634328842163,-9.93830394744873,27.750709533691406,26.167402267456055,-21.132753372192383,14.817363739013672,30.390777587890625,13.271514892578125,-12.247268676757812,16.08336067199707,24.544357299804688,1.6755009889602661,-20.511756896972656,-7.93022346496582,-18.401447296142578,-5.088953971862793,-24.16653823852539,22.360618591308594,-8.150924682617188,18.126033782958984,26.66680145263672,15.895874977111816,-26.28690528869629,13.820170402526855,-4.910276412963867,-22.05850601196289,11.73229694366455,-4.925467014312744,-25.06458282470703,-22.842098236083984,7.12598991394043,17.877378463745117,-22.94786834716797,18.319305419921875,-24.722015380859375,17.460468292236328,29.614587783813477,25.720779418945312,-13.788488388061523,28.720523834228516,23.640657424926758,17.17833137512207,18.50008201599121,-8.741327285766602,-13.769196510314941,26.160675048828125,13.831718444824219,-19.889019012451172,-0.5290582180023193,29.970333099365234,29.889755249023438,19.478195190429688,-2.8520092964172363,28.9921817779541,3.559717893600464,11.677330017089844,-7.725837707519531,-9.12045669555664,23.979148864746094,6.963675498962402,-25.132102966308594,30.839401245117188,-26.318784713745117,16.060266494750977,7.100311756134033,17.40769386291504,-13.344036102294922,-26.32203483581543,14.534645080566406,10.794981956481934,-12.482863426208496,13.536906242370605,-2.2644405364990234,14.767928123474121,26.56990623474121,18.429983139038086,-8.768988609313965,5.021904468536377,22.147884368896484,28.843690872192383,25.28740882873535,-5.126748085021973,15.685380935668945,-8.664093971252441,19.20026206970215,12.971723556518555,-2.785465955734253,2.914154529571533,-9.982088088989258,-4.847965240478516,-15.985097885131836,-0.10779502242803574,-6.896620273590088,19.391857147216797,12.768360137939453,18.760318756103516,1.0858038663864136,-0.4363107681274414,-2.175701141357422,-21.565757751464844,-21.570789337158203,1.147734522819519,-14.918963432312012,4.421097755432129,-10.734223365783691,-1.2141618728637695,18.292142868041992,-16.126537322998047,-13.85547924041748,-0.4380592405796051,-2.3813183307647705,-12.970481872558594,-12.904170989990234,2.4240543842315674,-18.634958267211914,8.526870727539062,18.29665756225586,-5.267675399780273,-10.53088092803955,-24.060209274291992,10.300544738769531,20.25095558166504,-9.584134101867676,-16.352378845214844,3.7504637241363525,-0.9542344808578491,-15.182137489318848,-14.904399871826172,-12.187068939208984,-12.961114883422852,5.921168327331543,-6.551884651184082,-6.364777088165283,-22.288005828857422,-3.724362373352051,2.294609785079956,-20.47231101989746,-27.100025177001953,-10.715801239013672,-18.630992889404297,-0.9361284971237183,2.458799362182617,18.666202545166016,-8.47024917602539,2.850977897644043,-12.543594360351562,-1.2764408588409424,3.707141637802124,3.940049171447754,-16.29508399963379,-8.108043670654297,-14.518553733825684,-15.700044631958008,-8.73991870880127,-2.4360618591308594,-7.60636043548584,6.270242691040039,-6.673813819885254,-11.36001205444336,17.895761489868164,0.9744406938552856,1.1484307050704956,9.34911823272705,-12.439943313598633,-4.216535568237305,-25.241050720214844,2.9738941192626953,9.788395881652832,-13.945182800292969,-5.388289451599121,-21.76750373840332,-3.8718342781066895,-5.845125198364258,-3.9738495349884033,-2.8304061889648438,-0.6625499129295349,-1.8681663274765015,-10.021571159362793,-7.831367015838623,-9.618961334228516,-1.0900814533233643,-3.3593382835388184,-9.4174222946167,-10.683135032653809,0.3393896818161011,-17.337133407592773,-6.864921569824219,-17.749614715576172,-17.666732788085938,20.153316497802734,-13.606282234191895,7.579917907714844,-2.710400104522705,14.804644584655762,-3.1789510250091553,10.472790718078613,4.657919406890869,15.680023193359375,9.390740394592285,-11.996800422668457,5.642450332641602,-4.019274711608887,-18.22865104675293,8.89084529876709,-9.359882354736328,-4.453322410583496,-19.029993057250977,22.277969360351562,10.095303535461426,23.60622787475586,-8.559467315673828,12.663727760314941,5.301456451416016,7.589071273803711,2.6857528686523438,9.999161720275879,-5.766843795776367,4.944046974182129,5.66898250579834,15.790407180786133,-16.501754760742188,-0.369804710149765,11.221936225891113,13.654894828796387,6.710170269012451,-8.83039379119873,6.017777919769287,5.773172855377197,-5.686304569244385,-9.827505111694336,-12.385385513305664,-8.88622760772705,3.2670862674713135,14.27504825592041,-12.725019454956055,-10.370611190795898,-8.650077819824219,-3.460127353668213,4.415242671966553,0.4946167469024658,4.549184799194336,1.383697271347046,24.65918731689453,14.630481719970703,5.9954962730407715,4.05839729309082,14.22830581665039,15.590949058532715,28.22129249572754,1.5282171964645386,17.820850372314453,8.392126083374023,8.96383285522461,7.388221740722656,-12.593708992004395,-3.9554519653320312,7.447513580322266,3.1770451068878174,13.24051570892334,8.187317848205566,-12.346670150756836,-3.0043859481811523,-2.386298179626465,15.204628944396973,-14.310599327087402,-4.110841274261475,21.649274826049805,10.719209671020508,14.761813163757324,-1.4975017309188843,13.530869483947754,6.673150062561035,-1.000897765159607,-15.57146167755127,-13.792762756347656,-10.367053031921387,-13.90191650390625,13.981724739074707,17.0593204498291,-10.071980476379395,-10.7666015625,17.051088333129883,4.187465667724609,17.726728439331055,-24.07319450378418,-11.101950645446777,-6.386260509490967,-6.256593704223633,-11.048917770385742,-14.151323318481445,4.911654949188232,10.833724975585938,9.699532508850098,-11.553084373474121,-4.099305152893066,-1.1312505006790161,0.17724034190177917,-11.435011863708496,-12.675318717956543,-5.204224586486816,-24.66689109802246,3.596453905105591,-21.092153549194336,-2.085665225982666,-12.268881797790527,-16.856414794921875,-2.7650070190429688,-0.6811954975128174,-4.132513523101807,-12.913886070251465,-24.74469757080078,-6.8377251625061035,-13.850031852722168,-18.876401901245117,4.503326416015625,10.079216957092285,26.198345184326172,7.089661121368408,5.68763542175293,-13.180416107177734,-11.72154426574707,1.0570586919784546,-18.616092681884766,10.864232063293457,-7.419434070587158,-20.71442985534668,-3.228384017944336,0.4837787449359894,-7.918886661529541,-2.1878974437713623,-8.651729583740234,-19.57061004638672,-1.8965355157852173,-1.039759635925293,-1.0444130897521973,-4.6017985343933105,-1.8157962560653687,1.595648169517517,15.180577278137207,-11.636661529541016,12.967852592468262,9.825621604919434,14.522253036499023,-13.633805274963379,10.603121757507324,6.494970321655273,-0.5383798480033875,-3.8335275650024414,-5.146726608276367,17.142078399658203,5.238884925842285,-9.3937406539917,1.2537809610366821,-22.594736099243164,-25.496726989746094,-11.164121627807617,-7.559027671813965,-13.378058433532715,-5.333072662353516,-13.627586364746094,10.1111421585083,-18.557321548461914,-24.09613800048828,-12.610115051269531,-12.527247428894043,12.815488815307617,6.811155796051025,8.08288860321045,-9.665874481201172,3.361100435256958,15.027026176452637,5.019794940948486,8.83485221862793,12.753111839294434,7.94977331161499,8.223819732666016,17.895658493041992,-0.3464505672454834,1.8947222232818604,12.118334770202637,6.355609893798828,9.993947982788086,16.119586944580078,2.6500437259674072,6.537504196166992,-7.540503025054932,23.620452880859375,14.08777141571045,9.640759468078613,-6.057200908660889,9.736529350280762,2.4626355171203613,-16.936838150024414,-0.5948224663734436,18.51572036743164,-5.339136123657227,-16.412757873535156,1.509438395500183,9.079437255859375,-1.478021264076233,2.288861036300659,-2.2721710205078125,5.696914196014404,-6.013476371765137,-21.769784927368164,6.907369136810303,2.3902313709259033,-18.14751434326172,-2.258209228515625,10.911642074584961,12.19269847869873,-6.920024394989014,-15.8981294631958,0.12088829278945923,2.7789132595062256,4.548200607299805,-6.8352532386779785,1.2627586126327515,-17.09284019470215,-21.63283920288086,-13.590380668640137,-14.005594253540039,8.93797492980957,-8.129252433776855,16.015884399414062,3.650306224822998,-20.49159812927246,22.554889678955078,8.299503326416016,4.18440580368042,-4.083320140838623,15.562317848205566,2.866626262664795,-0.7650136947631836,10.353514671325684,0.8221979141235352,-4.451823711395264,7.578794956207275,-0.8106457591056824,3.720574378967285,-0.14027686417102814,15.59913444519043,17.120851516723633,21.74610710144043,-10.623651504516602,-6.361964225769043,-2.153259754180908,16.70689582824707,0.03109731152653694,8.75553035736084,-0.6609106659889221,-17.35373306274414,17.72732162475586,-2.9775099754333496,-16.130695343017578,4.669344425201416,1.0545599460601807,12.62494945526123,-17.56295394897461,1.3088842630386353,-8.333209037780762,0.19541515409946442,-13.173089981079102,-13.41226863861084,7.154755115509033,-17.224899291992188,-20.381807327270508,2.388794183731079,-12.77869987487793,-2.078490734100342,15.428817749023438,-9.237630844116211,11.453673362731934,-20.606504440307617,25.078857421875,20.990177154541016,-21.700891494750977,-4.767005443572998,-3.431885242462158,15.07295036315918,-15.868935585021973,-2.565645217895508,-9.522188186645508,13.742288589477539,30.60308074951172,13.182541847229004,16.097429275512695,17.044109344482422,-3.9306695461273193,-19.32207489013672,-12.405265808105469,1.254321575164795,-5.082984924316406,-7.680049896240234,9.070817947387695,-10.094504356384277,10.912479400634766,-11.158513069152832,8.018464088439941,5.297389507293701,-6.8091959953308105,6.80031156539917,-6.513345718383789,-15.885960578918457,9.044785499572754,-10.139763832092285,10.151074409484863,3.226388692855835,-15.973912239074707,-16.749826431274414,0.07119608670473099,-2.4497852325439453,-0.40097567439079285,-7.014926433563232,-8.542364120483398,-19.717998504638672,-8.214852333068848,-18.27036476135254,-7.601351737976074,4.740917205810547,-0.46459561586380005,-24.277612686157227,-6.842109680175781,20.248411178588867,-8.615761756896973,-0.7499327063560486,2.4790849685668945,-2.067781686782837,-16.89963150024414,-16.851511001586914,-7.059666633605957,-19.835962295532227,0.7157536149024963,14.889056205749512,1.4094016551971436,-9.054388999938965,-15.338323593139648,-9.662673950195312,-4.828426837921143,0.6082000136375427,16.668567657470703,-1.0261921882629395,-7.344579219818115,-20.912227630615234,-6.395881175994873,16.433101654052734,-10.062684059143066,19.968420028686523,-5.70888614654541,-13.109762191772461,7.593424320220947,-2.7217042446136475,9.494665145874023,-11.29316520690918,-12.366093635559082,-18.306270599365234,4.387147903442383,-5.607519626617432,5.618409633636475,-17.74725341796875,-10.100250244140625,-16.255870819091797,-13.299375534057617,-8.33658218383789,-1.1450766324996948,1.8965480327606201,-1.3997935056686401,-13.252724647521973,-16.131589889526367,21.506683349609375,4.413994312286377,1.6135435104370117,-5.186268329620361,-1.1789127588272095,-9.354605674743652,-0.06497964262962341,-5.542283058166504,-0.5066649913787842,11.703102111816406,-6.017855644226074,-6.281275749206543,-0.509566068649292,2.3692336082458496,-11.250253677368164,3.5070817470550537,11.65560531616211,-1.7577393054962158,11.413307189941406,11.340444564819336,13.408023834228516,16.626434326171875,2.0496487617492676,-3.804847002029419,1.470544695854187,1.3289564847946167,4.201645374298096,-14.428888320922852,7.2372307777404785,-3.345747470855713,16.20166015625,-17.9518985748291,10.672422409057617,7.354186534881592,-19.771677017211914,-6.421501636505127,-14.104811668395996,8.459089279174805,12.420042991638184,26.289932250976562,3.1273033618927,7.427104949951172,12.88847541809082,11.502098083496094,-7.906715393066406,24.2699031829834,7.474291801452637,20.30119514465332,17.021289825439453,19.13294219970703,10.085474014282227,12.87116527557373,23.452585220336914,17.375104904174805,24.235427856445312,-8.167495727539062,12.957730293273926,-19.93259620666504,-0.38525810837745667,9.395071983337402,-6.757327079772949,16.65337371826172,2.4295051097869873,26.205055236816406,18.688831329345703,14.875059127807617,2.4840688705444336,21.132122039794922,-6.532558917999268,18.73007583618164,-2.3392794132232666,10.590782165527344,-9.106061935424805,14.799229621887207,12.822763442993164,3.5519912242889404,2.6993589401245117,14.171590805053711,-1.3227654695510864,12.384358406066895,-7.409220218658447,15.471957206726074,-11.315498352050781,-18.08098602294922,8.960922241210938,2.6659324169158936,19.346115112304688,15.86572265625,17.218109130859375,-13.705487251281738,-4.792311191558838,-15.249079704284668,-12.120984077453613,-17.848886489868164,-4.982141017913818,-17.58011245727539,-4.701128005981445,-17.909631729125977,2.820716619491577,-15.928009986877441,-1.8730175495147705,-4.810714244842529,-4.865179061889648,13.167802810668945,-3.547747850418091,-0.9914343953132629,11.594165802001953,3.2030303478240967,2.9727184772491455,-15.70394229888916,13.777047157287598,-10.397558212280273,11.246382713317871,0.08792423456907272,0.20614352822303772,2.796400547027588,12.24781322479248,3.939293384552002,11.698158264160156,-11.042872428894043,14.821699142456055,2.885923385620117,2.000800848007202,21.73050880432129,1.8122919797897339,10.462754249572754,14.738811492919922,2.4674084186553955,-1.1422497034072876,9.00367546081543,11.828970909118652,-15.103110313415527,-16.04958152770996,2.041076421737671,20.303049087524414,9.83619213104248,15.207880020141602,11.08353328704834,0.43383532762527466,-11.261752128601074,-6.268501281738281,-3.746147871017456,-0.1691374033689499,6.888881206512451,-2.260244846343994,7.897500038146973,-6.295522689819336,5.964522838592529,-14.38829517364502,-16.305837631225586,12.063514709472656,-14.013940811157227,-3.1697134971618652,-15.885283470153809,3.63706111907959,15.906535148620605,5.873944282531738,-0.9844027161598206,-4.272157669067383,8.482220649719238,16.215530395507812,-14.316410064697266,0.10132036358118057,-5.241106986999512,-18.154211044311523,-3.8537580966949463,-9.591609954833984,-13.569602012634277,-3.265540838241577,-13.22542667388916,10.401744842529297,8.6580810546875,1.237633228302002,14.233885765075684,23.127582550048828,10.384605407714844,17.691417694091797,-4.546603679656982,11.376975059509277,3.602609395980835,0.6125285625457764,-9.707316398620605,3.8327877521514893,1.1505112648010254,6.591127395629883,2.68609619140625,10.864937782287598,0.710253119468689,-15.470465660095215,14.980622291564941,9.212076187133789,15.44943618774414,-5.887079238891602,-12.285928726196289,-8.892908096313477,-7.111876487731934,-19.989089965820312,-8.477341651916504,3.548787832260132,1.8026949167251587,-6.870344638824463,2.2950472831726074,-7.609222412109375,18.38159942626953,0.9920503497123718,-15.578505516052246,-15.613661766052246,-3.8196349143981934,-1.2952804565429688,13.558816909790039,5.169920444488525,-21.610240936279297,-14.534525871276855,1.2897884845733643,-15.079080581665039,0.5861943960189819,-11.20958423614502,2.6701762676239014,-17.236572265625,-17.601011276245117,-17.41973304748535,12.140517234802246,10.1970853805542,-6.029889106750488,21.333118438720703,5.329495906829834,-7.7569403648376465,23.539844512939453,-19.95736312866211,4.536874294281006,6.838266849517822,-4.487667560577393,8.825420379638672,15.892120361328125,13.641996383666992,4.783411979675293,7.910412311553955,-8.427355766296387,15.422063827514648,13.094334602355957,-2.2864885330200195,-7.507478713989258,21.064191818237305,-19.180891036987305,6.095127582550049,-4.80564546585083,7.2005743980407715,12.922471046447754,1.8449398279190063,12.43136978149414,9.6207275390625,4.592525959014893,-11.358160018920898,-2.6001691818237305,-7.14749813079834,-10.54514217376709,6.038008689880371,-11.768902778625488,23.12649154663086,4.6933770179748535,9.992201805114746,11.343109130859375,15.734467506408691,12.769762992858887,11.151457786560059,-9.14881706237793,21.15211296081543,-15.867731094360352,7.003301620483398,0.7211508750915527,-8.146373748779297,12.631599426269531,-11.867198944091797,10.649687767028809,16.629640579223633,12.334237098693848,3.7249529361724854,2.435023307800293,9.44996166229248,10.913896560668945,9.17617130279541,6.276297569274902,9.886541366577148,3.9817707538604736,-16.449626922607422,-1.49161958694458,12.871089935302734,6.547768592834473,-1.4846665859222412,-11.81081771850586,17.484886169433594,9.917743682861328,5.404165267944336,5.035091400146484,15.510104179382324,0.2840430438518524,12.454872131347656,3.7144858837127686,-7.644805431365967,13.31105899810791,3.950613260269165,-11.251602172851562,13.523285865783691,-16.001724243164062,-10.591126441955566,2.8752706050872803,-6.3684892654418945,20.891843795776367,8.28773307800293,17.091833114624023,-18.859060287475586,-6.615301132202148,6.114543437957764,9.305475234985352,6.537844181060791,1.8340808153152466,-1.6425951719284058,-4.170942306518555,-0.5695109367370605,23.077037811279297,-6.534377574920654,5.474921226501465,-6.796714782714844,14.611971855163574,6.769796848297119,12.489967346191406,-2.1248342990875244,-5.963083744049072,-9.940841674804688,1.3759922981262207,-7.656765937805176,-2.9673264026641846,2.3439056873321533,14.917525291442871,7.229891300201416,6.489849090576172,7.762775897979736,4.819991111755371,-9.081700325012207,-10.219359397888184,20.231660842895508,19.920509338378906,-0.6600305438041687,-6.133211612701416,-16.622644424438477,-13.122084617614746,-6.924314975738525,-4.422929763793945,-12.825179100036621,2.718522071838379,-17.959951400756836,-6.703525066375732,5.134291648864746,7.089673042297363,-15.33944034576416,-21.479217529296875,20.32378387451172,-7.122055530548096,18.724205017089844,16.495458602905273,13.714475631713867,-9.115470886230469,2.542330265045166,-6.12980318069458,1.5348953008651733,5.353196144104004,-4.080343246459961,13.296667098999023,10.726115226745605,5.805819034576416,-4.279021263122559,-3.7769312858581543,9.444080352783203,4.526823997497559,-12.981219291687012,-20.048702239990234,12.155896186828613,4.650545597076416,0.13901706039905548,1.5994220972061157,-0.8740630149841309,24.33218002319336,-15.940311431884766,-11.283818244934082,-0.39922529458999634,-9.16882610321045,-4.757601261138916,4.709427833557129,4.591795444488525,-2.678748607635498,-7.4808878898620605,-3.4697093963623047,3.6899466514587402,-19.52179718017578,-4.983511924743652,-7.9008097648620605,-2.9311389923095703,-10.016120910644531,-8.716352462768555,25.051916122436523,16.593297958374023,-7.2704081535339355,-2.846301555633545,5.163693904876709,-14.173871040344238,17.12161636352539,13.450067520141602,-6.174858093261719,16.833585739135742,-3.089010715484619,18.401697158813477,-6.690738677978516,-3.7078795433044434,-3.2625746726989746,-8.41092300415039,-8.179672241210938,21.037551879882812,17.166717529296875,-13.604561805725098,7.0463714599609375,-6.7094645500183105,3.9389233589172363,0.7844372391700745,2.7249648571014404,5.738527774810791,-1.6925047636032104,12.725404739379883,-10.508539199829102,9.828747749328613,-13.808244705200195,14.198509216308594,14.33599853515625,6.979673862457275,-1.8059695959091187,-20.106075286865234,-16.804079055786133,-4.447774410247803,7.257356643676758,-2.1321935653686523,-6.188962936401367,-3.642005205154419,-14.710410118103027,1.4796801805496216,-15.714925765991211,-3.4329144954681396,8.683343887329102,11.64941120147705,12.007977485656738,-16.998275756835938,-3.2478857040405273,-15.08445930480957,4.463751316070557,-13.138541221618652,5.506258964538574,4.6700005531311035,-8.14862060546875,21.423826217651367,10.237586975097656,18.11916732788086,17.01734161376953,3.160182237625122,17.38117027282715,-2.227046489715576,4.215195655822754,4.443530559539795,-18.06976890563965,-12.624846458435059,18.187484741210938,0.3679769039154053,-4.674546718597412,-8.908992767333984,7.947758674621582,-0.9208629727363586,-4.250125408172607,-3.9781227111816406,7.764387130737305,0.3352820873260498,-2.3044703006744385,2.5529046058654785,-5.539587497711182,-11.940403938293457,13.229924201965332,-10.820433616638184,-0.7157651782035828,-8.462119102478027,-12.678975105285645,-4.292276382446289,5.912729740142822,13.443589210510254,-1.2423744201660156,-11.54096508026123,4.8109660148620605,-3.4973199367523193,15.33228588104248,-4.359256744384766,-6.105714797973633,15.474308013916016,5.559712886810303,4.574349880218506,-11.54800796508789,1.0012458562850952,-12.143898963928223,-7.224589824676514,9.780282974243164,-11.848651885986328,-12.488977432250977,-11.893682479858398,-3.60056734085083,-12.447827339172363,17.958593368530273,-9.065770149230957,14.538605690002441,-0.15682001411914825,-12.4281644821167,-5.567166805267334,-12.44467830657959,-8.56836986541748,-12.371866226196289,8.140460968017578,-11.110719680786133,-12.65996265411377,-8.824139595031738,-6.399668216705322,13.901622772216797,-10.87606430053711,-1.5336838960647583,5.698037147521973,-11.9099702835083,-11.726183891296387,-4.554582595825195,-1.4617037773132324,-12.424468040466309,17.238534927368164,-3.4335453510284424,2.3447911739349365,14.514350891113281,-3.7597579956054688,13.658432960510254,-11.616849899291992,-12.450240135192871,15.046651840209961,0.045001596212387085,8.129838943481445,-2.381321430206299,-5.201295375823975,-7.135923385620117,-4.142683029174805,15.91084098815918,10.576961517333984,-6.375267028808594,13.743895530700684,-13.602762222290039,11.309369087219238,18.875076293945312,11.244105339050293,11.949600219726562,11.878393173217773,2.7802791595458984,-12.113848686218262,20.044649124145508,16.06073760986328,5.330446720123291,8.093855857849121,-0.333626389503479,5.232047080993652,-13.647377967834473,8.398510932922363,2.3354268074035645,-6.715281963348389,8.48425579071045,23.38827133178711,4.233952522277832,-10.537446975708008,0.018639471381902695,-4.669926166534424,-10.07819652557373,-2.456559181213379,1.0723680257797241,7.053474426269531,1.7103629112243652,-16.972946166992188,10.191618919372559,-7.940805435180664,-6.90706205368042,-4.727410793304443,3.3980932235717773,15.048616409301758,1.9698445796966553,0.4049394428730011,3.2685577869415283,2.271054267883301,22.85894775390625,-1.6474257707595825,16.889385223388672,0.6484043598175049,-2.358867883682251,18.8575496673584,-1.6517056226730347,13.093310356140137,11.33694839477539,-3.3840553760528564,2.4946393966674805,-3.591792106628418,4.2519330978393555,-1.3556054830551147,-7.195260047912598,0.20519457757472992,-13.55920696258545,-13.384010314941406,-21.018556594848633,9.60148811340332,-14.878412246704102,-7.359518051147461,-5.463234901428223,7.216165065765381,-7.2789483070373535,12.628371238708496,-7.235010623931885,-6.2080397605896,4.486336708068848,-2.677480697631836,8.87252140045166,-7.209095001220703,-7.312319278717041,7.8864521980285645,-5.957342147827148,1.5040664672851562,11.362421035766602,0.45931097865104675,13.921394348144531,6.449235439300537,23.756864547729492,17.03929901123047,-1.2815239429473877,-0.8891084790229797,-1.0951497554779053,2.0185303688049316,-5.553867340087891,-6.8990254402160645,-2.6645567417144775,25.586530685424805,-5.986433982849121,10.916072845458984,-1.3959708213806152,-1.3437163829803467,-12.975831985473633,-5.870477199554443,-1.0664857625961304,-17.856693267822266,3.0068788528442383,6.835079193115234,-1.230165958404541,1.803642749786377,8.178386688232422,-9.275798797607422,-5.267208576202393,-6.393222808837891,-5.306499481201172,-7.62684965133667,-0.9245227575302124,0.49007734656333923,-6.096458911895752,-2.691688299179077,-4.729515552520752,10.924457550048828,-0.839917004108429,-5.855249404907227,-5.888125419616699,-10.906180381774902,12.894388198852539,-5.330673694610596,6.074934482574463,0.9484199285507202,3.026088237762451,-3.057518482208252,-2.4297971725463867,12.959702491760254,7.400158405303955,-0.11731972545385361,11.973332405090332,5.4282732009887695,-14.591791152954102,-9.504932403564453,-16.920244216918945,-19.382762908935547,-13.76008129119873,6.003894329071045,-7.955586910247803,2.923089027404785,15.412819862365723,6.7611284255981445,-4.804603099822998,9.986898422241211,0.9161355495452881,6.414164066314697,-0.3385499119758606,-0.14176368713378906,2.8569743633270264,20.15528106689453,1.1276949644088745,13.173755645751953,14.08025074005127,19.626354217529297,-7.254704475402832,-3.2229971885681152,-15.190568923950195,2.896063804626465,-1.6064437627792358,-4.419164180755615,-3.2063851356506348,14.032341003417969,-5.651057720184326,-4.877895355224609,-5.635245323181152,-5.23167610168457,-6.815665245056152,-3.374516487121582,-7.678949356079102,9.111933708190918,-6.8530659675598145,11.141182899475098,-1.605176329612732,-5.85856294631958,12.60464859008789,-5.705803394317627,19.998510360717773,-5.97167444229126,-6.077437877655029,-4.784989356994629,-5.150853633880615,-3.962848424911499,-4.008857250213623,-6.2194342613220215,-5.432157516479492,-4.6319756507873535,-2.7198433876037598,-5.155666828155518,-5.896404266357422,-4.780681133270264,-6.35367488861084,-6.262345314025879,-4.852245330810547,-3.7006919384002686,-7.758045673370361,-5.152674198150635,-3.905715227127075,-3.337252140045166,-5.837521076202393,-5.508203506469727,-4.805960655212402,-8.123011589050293,-5.137835502624512,-5.364648818969727,11.903305053710938,17.0164737701416,11.899916648864746,14.13084888458252,17.0982723236084,-7.173079013824463,-14.949629783630371,-6.161312580108643,-3.0593483448028564,5.092611789703369,9.093165397644043,1.8239961862564087,-0.20057697594165802,-0.21777047216892242,20.271392822265625,-4.287007808685303,6.797654628753662,-14.856380462646484,1.9995143413543701,4.520818710327148,10.359869003295898,-0.5514768362045288,4.209750652313232,6.20028829574585,20.851308822631836,13.13534927368164,-4.592806816101074,-9.594403266906738,-6.772921562194824,17.78285789489746,-5.498408317565918,-1.0580459833145142,-13.262300491333008,-4.379283428192139,-1.4659137725830078,13.034353256225586,0.7881718873977661,16.202638626098633,-1.9734317064285278,-12.242118835449219,6.8614501953125,6.196487903594971,-8.332880973815918,-0.11549562960863113,-8.407785415649414,-8.132465362548828,2.7994604110717773,-8.36550521850586,-7.666312217712402,-8.416308403015137,-5.559179306030273,-8.60576343536377,-8.452324867248535,-6.633711338043213,16.79118537902832,11.245399475097656,-4.092170715332031,-4.8734517097473145,16.102746963500977,-8.197057723999023,-6.149967670440674,-7.979246616363525,-5.276193141937256,-4.264888763427734,4.237404823303223,-5.854507923126221,-6.946587562561035,-7.045856952667236,2.007200002670288,-10.340620994567871,11.735498428344727,-1.473988652229309,-2.330573320388794,-1.095701813697815,10.2722749710083,9.60650634765625,-1.296682357788086,-3.4011571407318115,10.448928833007812,11.652213096618652,11.504344940185547,9.488988876342773,11.331846237182617,-1.6671416759490967,0.45871636271476746,1.2717258930206299,5.794344902038574,-3.2285244464874268,0.22690480947494507,3.4449331760406494,-1.768640160560608,5.326735496520996,4.704891204833984,-2.6150894165039062,4.178142547607422],\"yaxis\":\"y\",\"type\":\"scattergl\"}],                        {\"template\":{\"data\":{\"histogram2dcontour\":[{\"type\":\"histogram2dcontour\",\"colorbar\":{\"outlinewidth\":0,\"ticks\":\"\"},\"colorscale\":[[0.0,\"#0d0887\"],[0.1111111111111111,\"#46039f\"],[0.2222222222222222,\"#7201a8\"],[0.3333333333333333,\"#9c179e\"],[0.4444444444444444,\"#bd3786\"],[0.5555555555555556,\"#d8576b\"],[0.6666666666666666,\"#ed7953\"],[0.7777777777777778,\"#fb9f3a\"],[0.8888888888888888,\"#fdca26\"],[1.0,\"#f0f921\"]]}],\"choropleth\":[{\"type\":\"choropleth\",\"colorbar\":{\"outlinewidth\":0,\"ticks\":\"\"}}],\"histogram2d\":[{\"type\":\"histogram2d\",\"colorbar\":{\"outlinewidth\":0,\"ticks\":\"\"},\"colorscale\":[[0.0,\"#0d0887\"],[0.1111111111111111,\"#46039f\"],[0.2222222222222222,\"#7201a8\"],[0.3333333333333333,\"#9c179e\"],[0.4444444444444444,\"#bd3786\"],[0.5555555555555556,\"#d8576b\"],[0.6666666666666666,\"#ed7953\"],[0.7777777777777778,\"#fb9f3a\"],[0.8888888888888888,\"#fdca26\"],[1.0,\"#f0f921\"]]}],\"heatmap\":[{\"type\":\"heatmap\",\"colorbar\":{\"outlinewidth\":0,\"ticks\":\"\"},\"colorscale\":[[0.0,\"#0d0887\"],[0.1111111111111111,\"#46039f\"],[0.2222222222222222,\"#7201a8\"],[0.3333333333333333,\"#9c179e\"],[0.4444444444444444,\"#bd3786\"],[0.5555555555555556,\"#d8576b\"],[0.6666666666666666,\"#ed7953\"],[0.7777777777777778,\"#fb9f3a\"],[0.8888888888888888,\"#fdca26\"],[1.0,\"#f0f921\"]]}],\"heatmapgl\":[{\"type\":\"heatmapgl\",\"colorbar\":{\"outlinewidth\":0,\"ticks\":\"\"},\"colorscale\":[[0.0,\"#0d0887\"],[0.1111111111111111,\"#46039f\"],[0.2222222222222222,\"#7201a8\"],[0.3333333333333333,\"#9c179e\"],[0.4444444444444444,\"#bd3786\"],[0.5555555555555556,\"#d8576b\"],[0.6666666666666666,\"#ed7953\"],[0.7777777777777778,\"#fb9f3a\"],[0.8888888888888888,\"#fdca26\"],[1.0,\"#f0f921\"]]}],\"contourcarpet\":[{\"type\":\"contourcarpet\",\"colorbar\":{\"outlinewidth\":0,\"ticks\":\"\"}}],\"contour\":[{\"type\":\"contour\",\"colorbar\":{\"outlinewidth\":0,\"ticks\":\"\"},\"colorscale\":[[0.0,\"#0d0887\"],[0.1111111111111111,\"#46039f\"],[0.2222222222222222,\"#7201a8\"],[0.3333333333333333,\"#9c179e\"],[0.4444444444444444,\"#bd3786\"],[0.5555555555555556,\"#d8576b\"],[0.6666666666666666,\"#ed7953\"],[0.7777777777777778,\"#fb9f3a\"],[0.8888888888888888,\"#fdca26\"],[1.0,\"#f0f921\"]]}],\"surface\":[{\"type\":\"surface\",\"colorbar\":{\"outlinewidth\":0,\"ticks\":\"\"},\"colorscale\":[[0.0,\"#0d0887\"],[0.1111111111111111,\"#46039f\"],[0.2222222222222222,\"#7201a8\"],[0.3333333333333333,\"#9c179e\"],[0.4444444444444444,\"#bd3786\"],[0.5555555555555556,\"#d8576b\"],[0.6666666666666666,\"#ed7953\"],[0.7777777777777778,\"#fb9f3a\"],[0.8888888888888888,\"#fdca26\"],[1.0,\"#f0f921\"]]}],\"mesh3d\":[{\"type\":\"mesh3d\",\"colorbar\":{\"outlinewidth\":0,\"ticks\":\"\"}}],\"scatter\":[{\"fillpattern\":{\"fillmode\":\"overlay\",\"size\":10,\"solidity\":0.2},\"type\":\"scatter\"}],\"parcoords\":[{\"type\":\"parcoords\",\"line\":{\"colorbar\":{\"outlinewidth\":0,\"ticks\":\"\"}}}],\"scatterpolargl\":[{\"type\":\"scatterpolargl\",\"marker\":{\"colorbar\":{\"outlinewidth\":0,\"ticks\":\"\"}}}],\"bar\":[{\"error_x\":{\"color\":\"#2a3f5f\"},\"error_y\":{\"color\":\"#2a3f5f\"},\"marker\":{\"line\":{\"color\":\"#E5ECF6\",\"width\":0.5},\"pattern\":{\"fillmode\":\"overlay\",\"size\":10,\"solidity\":0.2}},\"type\":\"bar\"}],\"scattergeo\":[{\"type\":\"scattergeo\",\"marker\":{\"colorbar\":{\"outlinewidth\":0,\"ticks\":\"\"}}}],\"scatterpolar\":[{\"type\":\"scatterpolar\",\"marker\":{\"colorbar\":{\"outlinewidth\":0,\"ticks\":\"\"}}}],\"histogram\":[{\"marker\":{\"pattern\":{\"fillmode\":\"overlay\",\"size\":10,\"solidity\":0.2}},\"type\":\"histogram\"}],\"scattergl\":[{\"type\":\"scattergl\",\"marker\":{\"colorbar\":{\"outlinewidth\":0,\"ticks\":\"\"}}}],\"scatter3d\":[{\"type\":\"scatter3d\",\"line\":{\"colorbar\":{\"outlinewidth\":0,\"ticks\":\"\"}},\"marker\":{\"colorbar\":{\"outlinewidth\":0,\"ticks\":\"\"}}}],\"scattermapbox\":[{\"type\":\"scattermapbox\",\"marker\":{\"colorbar\":{\"outlinewidth\":0,\"ticks\":\"\"}}}],\"scatterternary\":[{\"type\":\"scatterternary\",\"marker\":{\"colorbar\":{\"outlinewidth\":0,\"ticks\":\"\"}}}],\"scattercarpet\":[{\"type\":\"scattercarpet\",\"marker\":{\"colorbar\":{\"outlinewidth\":0,\"ticks\":\"\"}}}],\"carpet\":[{\"aaxis\":{\"endlinecolor\":\"#2a3f5f\",\"gridcolor\":\"white\",\"linecolor\":\"white\",\"minorgridcolor\":\"white\",\"startlinecolor\":\"#2a3f5f\"},\"baxis\":{\"endlinecolor\":\"#2a3f5f\",\"gridcolor\":\"white\",\"linecolor\":\"white\",\"minorgridcolor\":\"white\",\"startlinecolor\":\"#2a3f5f\"},\"type\":\"carpet\"}],\"table\":[{\"cells\":{\"fill\":{\"color\":\"#EBF0F8\"},\"line\":{\"color\":\"white\"}},\"header\":{\"fill\":{\"color\":\"#C8D4E3\"},\"line\":{\"color\":\"white\"}},\"type\":\"table\"}],\"barpolar\":[{\"marker\":{\"line\":{\"color\":\"#E5ECF6\",\"width\":0.5},\"pattern\":{\"fillmode\":\"overlay\",\"size\":10,\"solidity\":0.2}},\"type\":\"barpolar\"}],\"pie\":[{\"automargin\":true,\"type\":\"pie\"}]},\"layout\":{\"autotypenumbers\":\"strict\",\"colorway\":[\"#636efa\",\"#EF553B\",\"#00cc96\",\"#ab63fa\",\"#FFA15A\",\"#19d3f3\",\"#FF6692\",\"#B6E880\",\"#FF97FF\",\"#FECB52\"],\"font\":{\"color\":\"#2a3f5f\"},\"hovermode\":\"closest\",\"hoverlabel\":{\"align\":\"left\"},\"paper_bgcolor\":\"white\",\"plot_bgcolor\":\"#E5ECF6\",\"polar\":{\"bgcolor\":\"#E5ECF6\",\"angularaxis\":{\"gridcolor\":\"white\",\"linecolor\":\"white\",\"ticks\":\"\"},\"radialaxis\":{\"gridcolor\":\"white\",\"linecolor\":\"white\",\"ticks\":\"\"}},\"ternary\":{\"bgcolor\":\"#E5ECF6\",\"aaxis\":{\"gridcolor\":\"white\",\"linecolor\":\"white\",\"ticks\":\"\"},\"baxis\":{\"gridcolor\":\"white\",\"linecolor\":\"white\",\"ticks\":\"\"},\"caxis\":{\"gridcolor\":\"white\",\"linecolor\":\"white\",\"ticks\":\"\"}},\"coloraxis\":{\"colorbar\":{\"outlinewidth\":0,\"ticks\":\"\"}},\"colorscale\":{\"sequential\":[[0.0,\"#0d0887\"],[0.1111111111111111,\"#46039f\"],[0.2222222222222222,\"#7201a8\"],[0.3333333333333333,\"#9c179e\"],[0.4444444444444444,\"#bd3786\"],[0.5555555555555556,\"#d8576b\"],[0.6666666666666666,\"#ed7953\"],[0.7777777777777778,\"#fb9f3a\"],[0.8888888888888888,\"#fdca26\"],[1.0,\"#f0f921\"]],\"sequentialminus\":[[0.0,\"#0d0887\"],[0.1111111111111111,\"#46039f\"],[0.2222222222222222,\"#7201a8\"],[0.3333333333333333,\"#9c179e\"],[0.4444444444444444,\"#bd3786\"],[0.5555555555555556,\"#d8576b\"],[0.6666666666666666,\"#ed7953\"],[0.7777777777777778,\"#fb9f3a\"],[0.8888888888888888,\"#fdca26\"],[1.0,\"#f0f921\"]],\"diverging\":[[0,\"#8e0152\"],[0.1,\"#c51b7d\"],[0.2,\"#de77ae\"],[0.3,\"#f1b6da\"],[0.4,\"#fde0ef\"],[0.5,\"#f7f7f7\"],[0.6,\"#e6f5d0\"],[0.7,\"#b8e186\"],[0.8,\"#7fbc41\"],[0.9,\"#4d9221\"],[1,\"#276419\"]]},\"xaxis\":{\"gridcolor\":\"white\",\"linecolor\":\"white\",\"ticks\":\"\",\"title\":{\"standoff\":15},\"zerolinecolor\":\"white\",\"automargin\":true,\"zerolinewidth\":2},\"yaxis\":{\"gridcolor\":\"white\",\"linecolor\":\"white\",\"ticks\":\"\",\"title\":{\"standoff\":15},\"zerolinecolor\":\"white\",\"automargin\":true,\"zerolinewidth\":2},\"scene\":{\"xaxis\":{\"backgroundcolor\":\"#E5ECF6\",\"gridcolor\":\"white\",\"linecolor\":\"white\",\"showbackground\":true,\"ticks\":\"\",\"zerolinecolor\":\"white\",\"gridwidth\":2},\"yaxis\":{\"backgroundcolor\":\"#E5ECF6\",\"gridcolor\":\"white\",\"linecolor\":\"white\",\"showbackground\":true,\"ticks\":\"\",\"zerolinecolor\":\"white\",\"gridwidth\":2},\"zaxis\":{\"backgroundcolor\":\"#E5ECF6\",\"gridcolor\":\"white\",\"linecolor\":\"white\",\"showbackground\":true,\"ticks\":\"\",\"zerolinecolor\":\"white\",\"gridwidth\":2}},\"shapedefaults\":{\"line\":{\"color\":\"#2a3f5f\"}},\"annotationdefaults\":{\"arrowcolor\":\"#2a3f5f\",\"arrowhead\":0,\"arrowwidth\":1},\"geo\":{\"bgcolor\":\"white\",\"landcolor\":\"#E5ECF6\",\"subunitcolor\":\"white\",\"showland\":true,\"showlakes\":true,\"lakecolor\":\"white\"},\"title\":{\"x\":0.05},\"mapbox\":{\"style\":\"light\"}}},\"xaxis\":{\"anchor\":\"y\",\"domain\":[0.0,1.0],\"title\":{\"text\":\"tsne_1\"}},\"yaxis\":{\"anchor\":\"x\",\"domain\":[0.0,1.0],\"title\":{\"text\":\"tsne_2\"}},\"coloraxis\":{\"colorbar\":{\"title\":{\"text\":\"popularity\"}},\"colorscale\":[[0.0,\"#0d0887\"],[0.1111111111111111,\"#46039f\"],[0.2222222222222222,\"#7201a8\"],[0.3333333333333333,\"#9c179e\"],[0.4444444444444444,\"#bd3786\"],[0.5555555555555556,\"#d8576b\"],[0.6666666666666666,\"#ed7953\"],[0.7777777777777778,\"#fb9f3a\"],[0.8888888888888888,\"#fdca26\"],[1.0,\"#f0f921\"]]},\"legend\":{\"tracegroupgap\":0},\"margin\":{\"t\":60}},                        {\"responsive\": true}                    ).then(function(){\n",
       "                            \n",
       "var gd = document.getElementById('2f808ae9-9d22-43dd-85f0-0fbfcea3b9f4');\n",
       "var x = new MutationObserver(function (mutations, observer) {{\n",
       "        var display = window.getComputedStyle(gd).display;\n",
       "        if (!display || display === 'none') {{\n",
       "            console.log([gd, 'removed!']);\n",
       "            Plotly.purge(gd);\n",
       "            observer.disconnect();\n",
       "        }}\n",
       "}});\n",
       "\n",
       "// Listen for the removal of the full notebook cells\n",
       "var notebookContainer = gd.closest('#notebook-container');\n",
       "if (notebookContainer) {{\n",
       "    x.observe(notebookContainer, {childList: true});\n",
       "}}\n",
       "\n",
       "// Listen for the clearing of the current output cell\n",
       "var outputEl = gd.closest('.output');\n",
       "if (outputEl) {{\n",
       "    x.observe(outputEl, {childList: true});\n",
       "}}\n",
       "\n",
       "                        })                };                });            </script>        </div>"
      ]
     },
     "metadata": {},
     "output_type": "display_data"
    }
   ],
   "source": [
    "import plotly.express as px\n",
    "\n",
    "tsne_df = pd.DataFrame(item_tsne, columns=[\"tsne_1\", \"tsne_2\"])\n",
    "tsne_df[\"item_id\"] = np.arange(item_tsne.shape[0])\n",
    "tsne_df = tsne_df.merge(items.reset_index())\n",
    "\n",
    "px.scatter(tsne_df, x=\"tsne_1\", y=\"tsne_2\",\n",
    "           color=\"popularity\",\n",
    "           hover_data=[\"item_id\", \"title\",\n",
    "                       \"release_year\", \"popularity\"])"
   ]
  },
  {
   "cell_type": "markdown",
   "metadata": {},
   "source": [
    "Alternatively with [Uniform Manifold Approximation and Projection](https://github.com/lmcinnes/umap):"
   ]
  },
  {
   "cell_type": "code",
   "execution_count": 68,
   "metadata": {},
   "outputs": [],
   "source": [
    "# %pip install umap-learn"
   ]
  },
  {
   "cell_type": "code",
   "execution_count": 69,
   "metadata": {},
   "outputs": [],
   "source": [
    "# import umap\n",
    "\n",
    "# item_umap = umap.UMAP().fit_transform(item_embeddings)\n",
    "# plt.figure(figsize=(10, 10))\n",
    "# plt.scatter(item_umap[:, 0], item_umap[:, 1]);\n",
    "# plt.xticks(()); plt.yticks(());\n",
    "# plt.show()"
   ]
  },
  {
   "cell_type": "markdown",
   "metadata": {},
   "source": [
    "## A Deep recommender model\n",
    "\n",
    "Using a similar framework as previously, the following deep model described in the course was built (with only two fully connected)\n",
    "\n",
    "<img src=\"images/rec_archi_2.svg\" style=\"width: 600px;\" />\n",
    "\n",
    "To build this model we will need a new kind of layer:"
   ]
  },
  {
   "cell_type": "code",
   "execution_count": 70,
   "metadata": {},
   "outputs": [],
   "source": [
    "from tensorflow.keras.layers import Concatenate"
   ]
  },
  {
   "cell_type": "markdown",
   "metadata": {},
   "source": [
    "\n",
    "### Exercise\n",
    "\n",
    "- The following code has **4 errors** that prevent it from working correctly. **Correct them and explain** why they are critical."
   ]
  },
  {
   "cell_type": "code",
   "execution_count": 71,
   "metadata": {},
   "outputs": [
    {
     "name": "stdout",
     "output_type": "stream",
     "text": [
      "2500/2500 [==============================] - 6s 2ms/step\n"
     ]
    }
   ],
   "source": [
    "class DeepRegressionModel(Model):\n",
    "\n",
    "    def __init__(self, embedding_size, max_user_id, max_item_id):\n",
    "        super().__init__()\n",
    "        \n",
    "        self.user_embedding = Embedding(output_dim=embedding_size,\n",
    "                                        input_dim=max_user_id + 1,\n",
    "                                        input_length=1,\n",
    "                                        name='user_embedding')\n",
    "        self.item_embedding = Embedding(output_dim=embedding_size,\n",
    "                                        input_dim=max_item_id + 1,\n",
    "                                        input_length=1,\n",
    "                                        name='item_embedding')\n",
    "        \n",
    "        # The following two layers don't have parameters.\n",
    "        self.flatten = Flatten()\n",
    "        self.concat = Concatenate()\n",
    "        \n",
    "        self.dropout = Dropout(0.99)\n",
    "        self.dense1 = Dense(64, activation=\"relu\")\n",
    "        self.dense2 = Dense(2, activation=\"tanh\")\n",
    "        \n",
    "    def call(self, inputs):\n",
    "        user_inputs = inputs[0]\n",
    "        item_inputs = inputs[1]\n",
    "        \n",
    "        user_vecs = self.flatten(self.user_embedding(user_inputs))\n",
    "        item_vecs = self.flatten(self.item_embedding(item_inputs))\n",
    "        \n",
    "        input_vecs = self.concat([user_vecs, item_vecs])\n",
    "        \n",
    "        y = self.dropout(input_vecs)\n",
    "        y = self.dense1(y)\n",
    "        y = self.dense2(y)\n",
    "        \n",
    "        return y\n",
    "        \n",
    "model = DeepRegressionModel(64, max_user_id, max_item_id)\n",
    "model.compile(optimizer='adam', loss='binary_crossentropy')\n",
    "\n",
    "initial_train_preds = model.predict([user_id_train, item_id_train])"
   ]
  },
  {
   "cell_type": "code",
   "execution_count": 72,
   "metadata": {},
   "outputs": [
    {
     "name": "stdout",
     "output_type": "stream",
     "text": [
      "2500/2500 [==============================] - 2s 674us/step\n"
     ]
    }
   ],
   "source": [
    "# %load solutions/deep_explicit_feedback_recsys.py\n",
    "# For each sample we input the integer identifiers\n",
    "# of a single user and a single item\n",
    "class DeepRegressionModel(Model):\n",
    "\n",
    "    def __init__(self, embedding_size, max_user_id, max_item_id):\n",
    "        super().__init__()\n",
    "\n",
    "        self.user_embedding = Embedding(\n",
    "            output_dim=embedding_size,\n",
    "            input_dim=max_user_id + 1,\n",
    "            input_length=1,\n",
    "            name='user_embedding'\n",
    "        )\n",
    "        self.item_embedding = Embedding(\n",
    "            output_dim=embedding_size,\n",
    "            input_dim=max_item_id + 1,\n",
    "            input_length=1,\n",
    "            name='item_embedding'\n",
    "        )\n",
    "\n",
    "        # The following two layers don't have parameters.\n",
    "        self.flatten = Flatten()\n",
    "        self.concat = Concatenate()\n",
    "\n",
    "        ## Error 1: Dropout was too high, preventing any training\n",
    "        self.dropout = Dropout(0.5)\n",
    "        self.dense1 = Dense(64, activation=\"relu\")\n",
    "        ## Error 2: output dimension was 2 where we predict only 1-d rating\n",
    "        ## Error 3: tanh activation squashes the outputs between -1 and 1\n",
    "        ## when we want to predict values between 1 and 5\n",
    "        self.dense2 = Dense(1)\n",
    "\n",
    "    def call(self, inputs, training=False):\n",
    "        user_inputs = inputs[0]\n",
    "        item_inputs = inputs[1]\n",
    "\n",
    "        user_vecs = self.flatten(self.user_embedding(user_inputs))\n",
    "        item_vecs = self.flatten(self.item_embedding(item_inputs))\n",
    "\n",
    "        input_vecs = self.concat([user_vecs, item_vecs])\n",
    "\n",
    "        y = self.dropout(input_vecs, training=training)\n",
    "        y = self.dense1(y)\n",
    "        y = self.dropout(y, training=training)\n",
    "        y = self.dense2(y)\n",
    "\n",
    "        return y\n",
    "\n",
    "\n",
    "model = DeepRegressionModel(64, max_user_id, max_item_id)\n",
    "## Error 4: A binary crossentropy loss is only useful for binary\n",
    "## classification, while we are in regression (use mse or mae)\n",
    "model.compile(optimizer='adam', loss='mae')\n",
    "\n",
    "initial_train_preds = model.predict([user_id_train, item_id_train])\n"
   ]
  },
  {
   "cell_type": "code",
   "execution_count": 73,
   "metadata": {},
   "outputs": [
    {
     "name": "stdout",
     "output_type": "stream",
     "text": [
      "Epoch 1/10\n",
      "1125/1125 [==============================] - 2s 2ms/step - loss: 1.1078 - val_loss: 0.7681\n",
      "Epoch 2/10\n",
      "1125/1125 [==============================] - 2s 1ms/step - loss: 0.8705 - val_loss: 0.7635\n",
      "Epoch 3/10\n",
      "1125/1125 [==============================] - 2s 1ms/step - loss: 0.8406 - val_loss: 0.7622\n",
      "Epoch 4/10\n",
      "1125/1125 [==============================] - 3s 3ms/step - loss: 0.8159 - val_loss: 0.7508\n",
      "Epoch 5/10\n",
      "1125/1125 [==============================] - 3s 3ms/step - loss: 0.7923 - val_loss: 0.7492\n",
      "Epoch 6/10\n",
      "1125/1125 [==============================] - 2s 2ms/step - loss: 0.7776 - val_loss: 0.7453\n",
      "Epoch 7/10\n",
      "1125/1125 [==============================] - 3s 3ms/step - loss: 0.7641 - val_loss: 0.7440\n",
      "Epoch 8/10\n",
      "1125/1125 [==============================] - 4s 3ms/step - loss: 0.7567 - val_loss: 0.7410\n",
      "Epoch 9/10\n",
      "1125/1125 [==============================] - 3s 3ms/step - loss: 0.7462 - val_loss: 0.7392\n",
      "Epoch 10/10\n",
      "1125/1125 [==============================] - 2s 2ms/step - loss: 0.7391 - val_loss: 0.7348\n",
      "CPU times: user 48.9 s, sys: 10.8 s, total: 59.8 s\n",
      "Wall time: 26.2 s\n"
     ]
    }
   ],
   "source": [
    "%%time\n",
    "history = model.fit([user_id_train, item_id_train], rating_train,\n",
    "                    batch_size=64, epochs=10, validation_split=0.1,\n",
    "                    shuffle=True)"
   ]
  },
  {
   "cell_type": "code",
   "execution_count": 74,
   "metadata": {},
   "outputs": [
    {
     "data": {
      "image/png": "[encoded data removed]",
      "text/plain": [
       "<Figure size 640x480 with 1 Axes>"
      ]
     },
     "metadata": {},
     "output_type": "display_data"
    }
   ],
   "source": [
    "plt.plot(history.history['loss'], label='train')\n",
    "plt.plot(history.history['val_loss'], label='validation')\n",
    "plt.ylim(0, 2)\n",
    "plt.legend(loc='best')\n",
    "plt.title('Loss');"
   ]
  },
  {
   "cell_type": "code",
   "execution_count": 75,
   "metadata": {},
   "outputs": [
    {
     "name": "stdout",
     "output_type": "stream",
     "text": [
      "2500/2500 [==============================] - 2s 637us/step\n",
      "Final train MSE: 0.827\n",
      "Final train MAE: 0.700\n"
     ]
    }
   ],
   "source": [
    "train_preds = model.predict([user_id_train, item_id_train])\n",
    "print(\"Final train MSE: %0.3f\" % mean_squared_error(train_preds, rating_train))\n",
    "print(\"Final train MAE: %0.3f\" % mean_absolute_error(train_preds, rating_train))"
   ]
  },
  {
   "cell_type": "code",
   "execution_count": 76,
   "metadata": {},
   "outputs": [
    {
     "name": "stdout",
     "output_type": "stream",
     "text": [
      "625/625 [==============================] - 0s 648us/step\n",
      "Final test MSE: 0.889\n",
      "Final test MAE: 0.732\n"
     ]
    }
   ],
   "source": [
    "test_preds = model.predict([user_id_test, item_id_test])\n",
    "print(\"Final test MSE: %0.3f\" % mean_squared_error(test_preds, rating_test))\n",
    "print(\"Final test MAE: %0.3f\" % mean_absolute_error(test_preds, rating_test))"
   ]
  },
  {
   "cell_type": "markdown",
   "metadata": {},
   "source": [
    "The performance of this model is not necessarily significantly better than the previous model but you can notice that the gap between train and test is lower, probably thanks to the use of dropout.\n",
    "\n",
    "Furthermore this model is more flexible in the sense that we can extend it to include metadata for hybrid recsys as we will see in the following."
   ]
  },
  {
   "cell_type": "markdown",
   "metadata": {},
   "source": [
    "### Home assignment: \n",
    " - Add another layer, compare train/test error.\n",
    " - Can you improve the test MAE? \n",
    " - Try adding more dropout and change layer sizes.\n",
    " \n",
    " \n",
    "Manual tuning of so many hyperparameters is tedious. In practice it's better to automate the design of the model using an hyperparameter search tool such as:\n",
    "\n",
    "- https://keras-team.github.io/keras-tuner/ (Keras specific)\n",
    "- https://optuna.org/ (any machine learning framework, Keras included)"
   ]
  },
  {
   "cell_type": "markdown",
   "metadata": {},
   "source": [
    "## Using item metadata in the model\n",
    "\n",
    "Using a similar framework as previously, we will build another deep model that can also leverage additional metadata. The resulting system is therefore an **Hybrid Recommender System** that does both **Collaborative Filtering** and **Content-based recommendations**.\n",
    "\n",
    "<img src=\"images/rec_archi_3.svg\" style=\"width: 600px;\" />\n"
   ]
  },
  {
   "cell_type": "code",
   "execution_count": 77,
   "metadata": {},
   "outputs": [],
   "source": [
    "from sklearn.preprocessing import QuantileTransformer\n",
    "\n",
    "meta_columns = ['popularity', 'release_year']\n",
    "\n",
    "scaler = QuantileTransformer()\n",
    "item_meta_train = scaler.fit_transform(ratings_train[meta_columns])\n",
    "item_meta_test = scaler.transform(ratings_test[meta_columns])"
   ]
  },
  {
   "cell_type": "code",
   "execution_count": 78,
   "metadata": {},
   "outputs": [
    {
     "name": "stdout",
     "output_type": "stream",
     "text": [
      "2500/2500 [==============================] - 2s 630us/step\n"
     ]
    }
   ],
   "source": [
    "class HybridModel(Model):\n",
    "\n",
    "    def __init__(self, embedding_size, max_user_id, max_item_id):\n",
    "        super().__init__()\n",
    "        \n",
    "        self.user_embedding = Embedding(output_dim=embedding_size,\n",
    "                                        input_dim=max_user_id + 1,\n",
    "                                        input_length=1,\n",
    "                                        name='user_embedding')\n",
    "        self.item_embedding = Embedding(output_dim=embedding_size,\n",
    "                                        input_dim=max_item_id + 1,\n",
    "                                        input_length=1,\n",
    "                                        name='item_embedding')\n",
    "        \n",
    "        # The following two layers don't have parameters.\n",
    "        self.flatten = Flatten()\n",
    "        self.concat = Concatenate()\n",
    "        \n",
    "        self.dense1 = Dense(64, activation=\"relu\")\n",
    "        self.dropout = Dropout(0.3)\n",
    "        self.dense2 = Dense(64, activation='relu')\n",
    "        self.dense3 = Dense(1)\n",
    "        \n",
    "    def call(self, inputs, training=False):\n",
    "        user_inputs = inputs[0]\n",
    "        item_inputs = inputs[1]\n",
    "        meta_inputs = inputs[2]\n",
    "\n",
    "        user_vecs = self.flatten(self.user_embedding(user_inputs))\n",
    "        user_vecs = self.dropout(user_vecs, training=training)\n",
    "\n",
    "        item_vecs = self.flatten(self.item_embedding(item_inputs))\n",
    "        item_vecs = self.dropout(item_vecs, training=training)\n",
    "\n",
    "        input_vecs = self.concat([user_vecs, item_vecs, meta_inputs])\n",
    "\n",
    "        y = self.dense1(input_vecs)\n",
    "        y = self.dropout(y, training=training)\n",
    "        y = self.dense2(y)\n",
    "        y = self.dropout(y, training=training)\n",
    "        y = self.dense3(y)\n",
    "        return y\n",
    "        \n",
    "model = HybridModel(64, max_user_id, max_item_id)\n",
    "model.compile(optimizer='adam', loss='mae')\n",
    "\n",
    "initial_train_preds = model.predict([user_id_train,\n",
    "                                     item_id_train,\n",
    "                                     item_meta_train])"
   ]
  },
  {
   "cell_type": "code",
   "execution_count": 58,
   "metadata": {},
   "outputs": [
    {
     "name": "stdout",
     "output_type": "stream",
     "text": [
      "Epoch 1/10\n",
      "1125/1125 [==============================] - 2s 2ms/step - loss: 0.9879 - val_loss: 0.7596\n",
      "Epoch 2/10\n",
      "1125/1125 [==============================] - 2s 2ms/step - loss: 0.8260 - val_loss: 0.7541\n",
      "Epoch 3/10\n",
      "1125/1125 [==============================] - 2s 2ms/step - loss: 0.7999 - val_loss: 0.7452\n",
      "Epoch 4/10\n",
      "1125/1125 [==============================] - 3s 2ms/step - loss: 0.7816 - val_loss: 0.7398\n",
      "Epoch 5/10\n",
      "1125/1125 [==============================] - 4s 3ms/step - loss: 0.7658 - val_loss: 0.7344\n",
      "Epoch 6/10\n",
      "1125/1125 [==============================] - 4s 3ms/step - loss: 0.7517 - val_loss: 0.7405\n",
      "Epoch 7/10\n",
      "1125/1125 [==============================] - 2s 2ms/step - loss: 0.7429 - val_loss: 0.7297\n",
      "Epoch 8/10\n",
      "1125/1125 [==============================] - 2s 2ms/step - loss: 0.7322 - val_loss: 0.7348\n",
      "Epoch 9/10\n",
      "1125/1125 [==============================] - 2s 2ms/step - loss: 0.7237 - val_loss: 0.7230\n",
      "Epoch 10/10\n",
      "1125/1125 [==============================] - 3s 2ms/step - loss: 0.7132 - val_loss: 0.7206\n",
      "CPU times: user 48.2 s, sys: 10.1 s, total: 58.3 s\n",
      "Wall time: 24 s\n"
     ]
    }
   ],
   "source": [
    "%%time\n",
    "history = model.fit([user_id_train, item_id_train, item_meta_train],\n",
    "                    rating_train,\n",
    "                    batch_size=64, epochs=10, validation_split=0.1,\n",
    "                    shuffle=True)"
   ]
  },
  {
   "cell_type": "code",
   "execution_count": 59,
   "metadata": {},
   "outputs": [
    {
     "name": "stdout",
     "output_type": "stream",
     "text": [
      "625/625 [==============================] - 1s 2ms/step\n",
      "Final test MSE: 0.884\n",
      "Final test MAE: 0.722\n"
     ]
    }
   ],
   "source": [
    "test_preds = model.predict([user_id_test, item_id_test, item_meta_test])\n",
    "print(\"Final test MSE: %0.3f\" % mean_squared_error(test_preds, rating_test))\n",
    "print(\"Final test MAE: %0.3f\" % mean_absolute_error(test_preds, rating_test))"
   ]
  },
  {
   "cell_type": "markdown",
   "metadata": {},
   "source": [
    "The additional metadata seems to improve the predictive power of the model a bit but this should be re-run several times to see the impact of the random initialization of the model.\n",
    "\n",
    "\n",
    "### A recommendation function for a given user\n",
    "\n",
    "Once the model is trained, the system can be used to recommend a few items for a user, that he/she hasn't already seen:\n",
    "- we use the `model.predict` to compute the ratings a user would have given to all items\n",
    "- we build a reco function that sorts these items and exclude those the user has already seen"
   ]
  },
  {
   "cell_type": "code",
   "execution_count": 60,
   "metadata": {
    "scrolled": true
   },
   "outputs": [],
   "source": [
    "def recommend(user_id, top_n=10):\n",
    "    item_ids = range(1, max_item_id)\n",
    "    seen_mask = all_ratings[\"user_id\"] == user_id\n",
    "    seen_movies = set(all_ratings[seen_mask][\"item_id\"])\n",
    "    item_ids = list(filter(lambda x: x not in seen_movies, item_ids))\n",
    "\n",
    "    print(\"User %d has seen %d movies, including:\" % (user_id, len(seen_movies)))\n",
    "    for title in all_ratings[seen_mask].nlargest(20, 'popularity')['title']:\n",
    "        print(\"   \", title)\n",
    "    print(\"Computing ratings for %d other movies:\" % len(item_ids))\n",
    "    \n",
    "    item_ids = np.array(item_ids)\n",
    "    user_ids = np.zeros_like(item_ids)\n",
    "    user_ids[:] = user_id\n",
    "    items_meta = scaler.transform(indexed_items[meta_columns].loc[item_ids])\n",
    "    \n",
    "    rating_preds = model.predict([user_ids, item_ids, items_meta])\n",
    "    \n",
    "    item_ids = np.argsort(rating_preds[:, 0])[::-1].tolist()\n",
    "    rec_items = item_ids[:top_n]\n",
    "    return [(items[\"title\"][movie], rating_preds[movie][0])\n",
    "            for movie in rec_items]"
   ]
  },
  {
   "cell_type": "code",
   "execution_count": 61,
   "metadata": {},
   "outputs": [
    {
     "name": "stdout",
     "output_type": "stream",
     "text": [
      "User 5 has seen 175 movies, including:\n",
      "    Star Wars (1977)\n",
      "    Fargo (1996)\n",
      "    Return of the Jedi (1983)\n",
      "    Toy Story (1995)\n",
      "    Independence Day (ID4) (1996)\n",
      "    Raiders of the Lost Ark (1981)\n",
      "    Silence of the Lambs, The (1991)\n",
      "    Empire Strikes Back, The (1980)\n",
      "    Star Trek: First Contact (1996)\n",
      "    Back to the Future (1985)\n",
      "    Mission: Impossible (1996)\n",
      "    Fugitive, The (1993)\n",
      "    Indiana Jones and the Last Crusade (1989)\n",
      "    Willy Wonka and the Chocolate Factory (1971)\n",
      "    Princess Bride, The (1987)\n",
      "    Forrest Gump (1994)\n",
      "    Monty Python and the Holy Grail (1974)\n",
      "    Men in Black (1997)\n",
      "    E.T. the Extra-Terrestrial (1982)\n",
      "    Birdcage, The (1996)\n",
      "Computing ratings for 1506 other movies:\n",
      "48/48 [==============================] - 0s 2ms/step\n",
      "    4.6: Richard III (1995)\n",
      "    4.5: Under Siege (1992)\n",
      "    4.5: Robocop 3 (1993)\n",
      "    4.5: Raging Bull (1980)\n",
      "    4.5: Raising Arizona (1987)\n",
      "    4.4: Madness of King George, The (1994)\n",
      "    4.4: Playing God (1997)\n",
      "    4.3: Romy and Michele's High School Reunion (1997)\n",
      "    4.3: Ref, The (1994)\n",
      "    4.3: Boogie Nights (1997)\n"
     ]
    }
   ],
   "source": [
    "for title, pred_rating in recommend(5):\n",
    "    print(\"    %0.1f: %s\" % (pred_rating, title))"
   ]
  },
  {
   "cell_type": "markdown",
   "metadata": {},
   "source": [
    "### Home assignment: Predicting ratings as a classification problem\n",
    "\n",
    "In this dataset, the ratings all belong to a finite set of possible values:"
   ]
  },
  {
   "cell_type": "code",
   "execution_count": 62,
   "metadata": {},
   "outputs": [
    {
     "data": {
      "text/plain": [
       "array([1, 2, 3, 4, 5])"
      ]
     },
     "execution_count": 62,
     "metadata": {},
     "output_type": "execute_result"
    }
   ],
   "source": [
    "import numpy as np\n",
    "\n",
    "np.unique(rating_train)"
   ]
  },
  {
   "cell_type": "markdown",
   "metadata": {},
   "source": [
    "Maybe we can help the model by forcing it to predict those values by treating the problem as a multiclassification problem. The only required changes are:\n",
    "\n",
    "- setting the final layer to output class membership probabities using a softmax activation with 5 outputs;\n",
    "- optimize the categorical cross-entropy classification loss instead of a regression loss such as MSE or MAE."
   ]
  },
  {
   "cell_type": "code",
   "execution_count": 63,
   "metadata": {},
   "outputs": [
    {
     "name": "stdout",
     "output_type": "stream",
     "text": [
      "2500/2500 [==============================] - 4s 2ms/step\n",
      "Random init MSE: 2.397\n",
      "Random init MAE: 1.211\n",
      "Epoch 1/15\n",
      "1125/1125 [==============================] - 2s 1ms/step - loss: 1.3681 - val_loss: 1.2814\n",
      "Epoch 2/15\n",
      "1125/1125 [==============================] - 2s 1ms/step - loss: 1.2830 - val_loss: 1.2601\n",
      "Epoch 3/15\n",
      "1125/1125 [==============================] - 2s 1ms/step - loss: 1.2628 - val_loss: 1.2541\n",
      "Epoch 4/15\n",
      "1125/1125 [==============================] - 2s 1ms/step - loss: 1.2525 - val_loss: 1.2488\n",
      "Epoch 5/15\n",
      "1125/1125 [==============================] - 2s 2ms/step - loss: 1.2437 - val_loss: 1.2444\n",
      "Epoch 6/15\n",
      "1125/1125 [==============================] - 3s 3ms/step - loss: 1.2374 - val_loss: 1.2420\n",
      "Epoch 7/15\n",
      "1125/1125 [==============================] - 3s 3ms/step - loss: 1.2330 - val_loss: 1.2460\n",
      "Epoch 8/15\n",
      "1125/1125 [==============================] - 2s 2ms/step - loss: 1.2283 - val_loss: 1.2440\n",
      "Epoch 9/15\n",
      "1125/1125 [==============================] - 2s 1ms/step - loss: 1.2250 - val_loss: 1.2453\n",
      "Epoch 10/15\n",
      "1125/1125 [==============================] - 2s 1ms/step - loss: 1.2222 - val_loss: 1.2403\n",
      "Epoch 11/15\n",
      "1125/1125 [==============================] - 2s 1ms/step - loss: 1.2188 - val_loss: 1.2406\n",
      "Epoch 12/15\n",
      "1125/1125 [==============================] - 2s 1ms/step - loss: 1.2170 - val_loss: 1.2400\n",
      "Epoch 13/15\n",
      "1125/1125 [==============================] - 2s 1ms/step - loss: 1.2135 - val_loss: 1.2402\n",
      "Epoch 14/15\n",
      "1125/1125 [==============================] - 2s 2ms/step - loss: 1.2112 - val_loss: 1.2398\n",
      "Epoch 15/15\n",
      "1125/1125 [==============================] - 3s 3ms/step - loss: 1.2115 - val_loss: 1.2397\n",
      "625/625 [==============================] - 1s 2ms/step\n",
      "Final test MSE: 1.162\n",
      "Final test MAE: 0.722\n"
     ]
    },
    {
     "data": {
      "image/png": "[encoded data removed]",
      "text/plain": [
       "<Figure size 640x480 with 1 Axes>"
      ]
     },
     "metadata": {},
     "output_type": "display_data"
    }
   ],
   "source": [
    "# %load solutions/classification.py\n",
    "class ClassificationModel(Model):\n",
    "    def __init__(self, embedding_size, max_user_id, max_item_id):\n",
    "        super().__init__()\n",
    "\n",
    "        self.user_embedding = Embedding(output_dim=embedding_size, input_dim=max_user_id + 1,\n",
    "                                        input_length=1, name='user_embedding')\n",
    "        self.item_embedding = Embedding(output_dim=embedding_size, input_dim=max_item_id + 1,\n",
    "                                        input_length=1, name='item_embedding')\n",
    "\n",
    "        # The following two layers don't have parameters.\n",
    "        self.flatten = Flatten()\n",
    "        self.concat = Concatenate()\n",
    "\n",
    "        self.dropout1 = Dropout(0.5)\n",
    "        self.dense1 = Dense(128, activation=\"relu\")\n",
    "        self.dropout2 = Dropout(0.2)\n",
    "        self.dense2 = Dense(128, activation='relu')\n",
    "        self.dense3 = Dense(5, activation=\"softmax\")\n",
    "\n",
    "    def call(self, inputs):\n",
    "        user_inputs = inputs[0]\n",
    "        item_inputs = inputs[1]\n",
    "\n",
    "        user_vecs = self.flatten(self.user_embedding(user_inputs))\n",
    "        item_vecs = self.flatten(self.item_embedding(item_inputs))\n",
    "\n",
    "        input_vecs = self.concat([user_vecs, item_vecs])\n",
    "\n",
    "        y = self.dropout1(input_vecs)\n",
    "        y = self.dense1(y)\n",
    "        y = self.dropout2(y)\n",
    "        y = self.dense2(y)\n",
    "        y = self.dense3(y)\n",
    "\n",
    "        return y\n",
    "\n",
    "model = ClassificationModel(16, max_user_id, max_item_id)\n",
    "model.compile(optimizer='adam', loss='sparse_categorical_crossentropy')\n",
    "\n",
    "initial_train_preds = model.predict([user_id_train, item_id_train]).argmax(axis=1) + 1\n",
    "print(\"Random init MSE: %0.3f\" % mean_squared_error(initial_train_preds, rating_train))\n",
    "print(\"Random init MAE: %0.3f\" % mean_absolute_error(initial_train_preds, rating_train))\n",
    "\n",
    "history = model.fit([user_id_train, item_id_train], rating_train - 1,\n",
    "                    batch_size=64, epochs=15, validation_split=0.1,\n",
    "                    shuffle=True)\n",
    "\n",
    "plt.plot(history.history['loss'], label='train')\n",
    "plt.plot(history.history['val_loss'], label='validation')\n",
    "plt.ylim(0, 2)\n",
    "plt.legend(loc='best')\n",
    "plt.title('loss');\n",
    "\n",
    "test_preds = model.predict([user_id_test, item_id_test]).argmax(axis=1) + 1\n",
    "print(\"Final test MSE: %0.3f\" % mean_squared_error(test_preds, rating_test))\n",
    "print(\"Final test MAE: %0.3f\" % mean_absolute_error(test_preds, rating_test))\n"
   ]
  },
  {
   "cell_type": "code",
   "execution_count": null,
   "metadata": {},
   "outputs": [],
   "source": []
  }
 ],
 "metadata": {
  "kernelspec": {
   "display_name": "Python 3 (ipykernel)",
   "language": "python",
   "name": "python3"
  },
  "language_info": {
   "codemirror_mode": {
    "name": "ipython",
    "version": 3
   },
   "file_extension": ".py",
   "mimetype": "text/x-python",
   "name": "python",
   "nbconvert_exporter": "python",
   "pygments_lexer": "ipython3",
   "version": "3.9.16"
  }
 },
 "nbformat": 4,
 "nbformat_minor": 4
}
