{
 "cells": [
  {
   "cell_type": "markdown",
   "metadata": {},
   "source": [
    "# Explicit Feedback Neural Recommender Systems\n",
    "\n",
    "Goals:\n",
    "- Understand recommender data\n",
    "- Build different models architectures using Keras\n",
    "- Retrieve Embeddings and visualize them\n",
    "- Add metadata information as input to the model"
   ]
  },
  {
   "cell_type": "code",
   "execution_count": 1,
   "metadata": {},
   "outputs": [],
   "source": [
    "%matplotlib inline\n",
    "import matplotlib.pyplot as plt\n",
    "import numpy as np\n",
    "import os.path as op\n",
    "\n",
    "from zipfile import ZipFile\n",
    "try:\n",
    "    from urllib.request import urlretrieve\n",
    "except ImportError:  # Python 2 compat\n",
    "    from urllib import urlretrieve\n",
    "\n",
    "\n",
    "ML_100K_URL = \"http://files.grouplens.org/datasets/movielens/ml-100k.zip\"\n",
    "ML_100K_FILENAME = ML_100K_URL.rsplit('/', 1)[1]\n",
    "ML_100K_FOLDER = 'ml-100k'\n",
    "\n",
    "if not op.exists(ML_100K_FILENAME):\n",
    "    print('Downloading %s to %s...' % (ML_100K_URL, ML_100K_FILENAME))\n",
    "    urlretrieve(ML_100K_URL, ML_100K_FILENAME)\n",
    "\n",
    "if not op.exists(ML_100K_FOLDER):\n",
    "    print('Extracting %s to %s...' % (ML_100K_FILENAME, ML_100K_FOLDER))\n",
    "    ZipFile(ML_100K_FILENAME).extractall('.')"
   ]
  },
  {
   "cell_type": "markdown",
   "metadata": {},
   "source": [
    "### Ratings file\n",
    "\n",
    "Each line contains a rated movie: \n",
    "- a user\n",
    "- an item\n",
    "- a rating from 1 to 5 stars"
   ]
  },
  {
   "cell_type": "code",
   "execution_count": 2,
   "metadata": {},
   "outputs": [
    {
     "data": {
      "text/html": [
       "<div>\n",
       "<style scoped>\n",
       "    .dataframe tbody tr th:only-of-type {\n",
       "        vertical-align: middle;\n",
       "    }\n",
       "\n",
       "    .dataframe tbody tr th {\n",
       "        vertical-align: top;\n",
       "    }\n",
       "\n",
       "    .dataframe thead th {\n",
       "        text-align: right;\n",
       "    }\n",
       "</style>\n",
       "<table border=\"1\" class=\"dataframe\">\n",
       "  <thead>\n",
       "    <tr style=\"text-align: right;\">\n",
       "      <th></th>\n",
       "      <th>user_id</th>\n",
       "      <th>item_id</th>\n",
       "      <th>rating</th>\n",
       "      <th>timestamp</th>\n",
       "    </tr>\n",
       "  </thead>\n",
       "  <tbody>\n",
       "    <tr>\n",
       "      <th>0</th>\n",
       "      <td>196</td>\n",
       "      <td>242</td>\n",
       "      <td>3</td>\n",
       "      <td>881250949</td>\n",
       "    </tr>\n",
       "    <tr>\n",
       "      <th>1</th>\n",
       "      <td>186</td>\n",
       "      <td>302</td>\n",
       "      <td>3</td>\n",
       "      <td>891717742</td>\n",
       "    </tr>\n",
       "    <tr>\n",
       "      <th>2</th>\n",
       "      <td>22</td>\n",
       "      <td>377</td>\n",
       "      <td>1</td>\n",
       "      <td>878887116</td>\n",
       "    </tr>\n",
       "    <tr>\n",
       "      <th>3</th>\n",
       "      <td>244</td>\n",
       "      <td>51</td>\n",
       "      <td>2</td>\n",
       "      <td>880606923</td>\n",
       "    </tr>\n",
       "    <tr>\n",
       "      <th>4</th>\n",
       "      <td>166</td>\n",
       "      <td>346</td>\n",
       "      <td>1</td>\n",
       "      <td>886397596</td>\n",
       "    </tr>\n",
       "  </tbody>\n",
       "</table>\n",
       "</div>"
      ],
      "text/plain": [
       "   user_id  item_id  rating  timestamp\n",
       "0      196      242       3  881250949\n",
       "1      186      302       3  891717742\n",
       "2       22      377       1  878887116\n",
       "3      244       51       2  880606923\n",
       "4      166      346       1  886397596"
      ]
     },
     "execution_count": 2,
     "metadata": {},
     "output_type": "execute_result"
    }
   ],
   "source": [
    "import pandas as pd\n",
    "\n",
    "raw_ratings = pd.read_csv(op.join(ML_100K_FOLDER, 'u.data'), sep='\\t',\n",
    "                      names=[\"user_id\", \"item_id\", \"rating\", \"timestamp\"])\n",
    "raw_ratings.head()"
   ]
  },
  {
   "cell_type": "markdown",
   "metadata": {},
   "source": [
    "### Item metadata file\n",
    "\n",
    "The item metadata file contains metadata like the name of the movie or the date it was released. The movies file contains columns indicating the movie's genres. Let's only load the first five columns of the file with `usecols`."
   ]
  },
  {
   "cell_type": "code",
   "execution_count": 3,
   "metadata": {},
   "outputs": [
    {
     "data": {
      "text/html": [
       "<div>\n",
       "<style scoped>\n",
       "    .dataframe tbody tr th:only-of-type {\n",
       "        vertical-align: middle;\n",
       "    }\n",
       "\n",
       "    .dataframe tbody tr th {\n",
       "        vertical-align: top;\n",
       "    }\n",
       "\n",
       "    .dataframe thead th {\n",
       "        text-align: right;\n",
       "    }\n",
       "</style>\n",
       "<table border=\"1\" class=\"dataframe\">\n",
       "  <thead>\n",
       "    <tr style=\"text-align: right;\">\n",
       "      <th></th>\n",
       "      <th>item_id</th>\n",
       "      <th>title</th>\n",
       "      <th>release_date</th>\n",
       "      <th>video_release_date</th>\n",
       "      <th>imdb_url</th>\n",
       "    </tr>\n",
       "  </thead>\n",
       "  <tbody>\n",
       "    <tr>\n",
       "      <th>0</th>\n",
       "      <td>1</td>\n",
       "      <td>Toy Story (1995)</td>\n",
       "      <td>01-Jan-1995</td>\n",
       "      <td>NaN</td>\n",
       "      <td>http://us.imdb.com/M/title-exact?Toy%20Story%2...</td>\n",
       "    </tr>\n",
       "    <tr>\n",
       "      <th>1</th>\n",
       "      <td>2</td>\n",
       "      <td>GoldenEye (1995)</td>\n",
       "      <td>01-Jan-1995</td>\n",
       "      <td>NaN</td>\n",
       "      <td>http://us.imdb.com/M/title-exact?GoldenEye%20(...</td>\n",
       "    </tr>\n",
       "    <tr>\n",
       "      <th>2</th>\n",
       "      <td>3</td>\n",
       "      <td>Four Rooms (1995)</td>\n",
       "      <td>01-Jan-1995</td>\n",
       "      <td>NaN</td>\n",
       "      <td>http://us.imdb.com/M/title-exact?Four%20Rooms%...</td>\n",
       "    </tr>\n",
       "    <tr>\n",
       "      <th>3</th>\n",
       "      <td>4</td>\n",
       "      <td>Get Shorty (1995)</td>\n",
       "      <td>01-Jan-1995</td>\n",
       "      <td>NaN</td>\n",
       "      <td>http://us.imdb.com/M/title-exact?Get%20Shorty%...</td>\n",
       "    </tr>\n",
       "    <tr>\n",
       "      <th>4</th>\n",
       "      <td>5</td>\n",
       "      <td>Copycat (1995)</td>\n",
       "      <td>01-Jan-1995</td>\n",
       "      <td>NaN</td>\n",
       "      <td>http://us.imdb.com/M/title-exact?Copycat%20(1995)</td>\n",
       "    </tr>\n",
       "  </tbody>\n",
       "</table>\n",
       "</div>"
      ],
      "text/plain": [
       "   item_id              title release_date  video_release_date  \\\n",
       "0        1   Toy Story (1995)  01-Jan-1995                 NaN   \n",
       "1        2   GoldenEye (1995)  01-Jan-1995                 NaN   \n",
       "2        3  Four Rooms (1995)  01-Jan-1995                 NaN   \n",
       "3        4  Get Shorty (1995)  01-Jan-1995                 NaN   \n",
       "4        5     Copycat (1995)  01-Jan-1995                 NaN   \n",
       "\n",
       "                                            imdb_url  \n",
       "0  http://us.imdb.com/M/title-exact?Toy%20Story%2...  \n",
       "1  http://us.imdb.com/M/title-exact?GoldenEye%20(...  \n",
       "2  http://us.imdb.com/M/title-exact?Four%20Rooms%...  \n",
       "3  http://us.imdb.com/M/title-exact?Get%20Shorty%...  \n",
       "4  http://us.imdb.com/M/title-exact?Copycat%20(1995)  "
      ]
     },
     "execution_count": 3,
     "metadata": {},
     "output_type": "execute_result"
    }
   ],
   "source": [
    "m_cols = ['item_id', 'title', 'release_date', 'video_release_date', 'imdb_url']\n",
    "items = pd.read_csv(op.join(ML_100K_FOLDER, 'u.item'), sep='|',\n",
    "                    names=m_cols, usecols=range(5), encoding='latin-1')\n",
    "items.head()"
   ]
  },
  {
   "cell_type": "markdown",
   "metadata": {},
   "source": [
    "Let's write a bit of Python preprocessing code to extract the release year as an integer value:"
   ]
  },
  {
   "cell_type": "code",
   "execution_count": 4,
   "metadata": {},
   "outputs": [
    {
     "data": {
      "image/png": "[encoded data removed]",
      "text/plain": [
       "<Figure size 640x480 with 1 Axes>"
      ]
     },
     "metadata": {},
     "output_type": "display_data"
    }
   ],
   "source": [
    "def extract_year(release_date):\n",
    "    if hasattr(release_date, 'split'):\n",
    "        components = release_date.split('-')\n",
    "        if len(components) == 3:\n",
    "            return int(components[2])\n",
    "    # Missing value marker\n",
    "    return 1920\n",
    "\n",
    "\n",
    "items['release_year'] = items['release_date'].map(extract_year)\n",
    "items.hist('release_year', bins=50);"
   ]
  },
  {
   "cell_type": "markdown",
   "metadata": {},
   "source": [
    "Enrich the raw ratings data with the collected items metadata:"
   ]
  },
  {
   "cell_type": "code",
   "execution_count": 5,
   "metadata": {},
   "outputs": [],
   "source": [
    "all_ratings = pd.merge(items, raw_ratings)"
   ]
  },
  {
   "cell_type": "code",
   "execution_count": 6,
   "metadata": {},
   "outputs": [
    {
     "data": {
      "text/html": [
       "<div>\n",
       "<style scoped>\n",
       "    .dataframe tbody tr th:only-of-type {\n",
       "        vertical-align: middle;\n",
       "    }\n",
       "\n",
       "    .dataframe tbody tr th {\n",
       "        vertical-align: top;\n",
       "    }\n",
       "\n",
       "    .dataframe thead th {\n",
       "        text-align: right;\n",
       "    }\n",
       "</style>\n",
       "<table border=\"1\" class=\"dataframe\">\n",
       "  <thead>\n",
       "    <tr style=\"text-align: right;\">\n",
       "      <th></th>\n",
       "      <th>item_id</th>\n",
       "      <th>title</th>\n",
       "      <th>release_date</th>\n",
       "      <th>video_release_date</th>\n",
       "      <th>imdb_url</th>\n",
       "      <th>release_year</th>\n",
       "      <th>user_id</th>\n",
       "      <th>rating</th>\n",
       "      <th>timestamp</th>\n",
       "    </tr>\n",
       "  </thead>\n",
       "  <tbody>\n",
       "    <tr>\n",
       "      <th>0</th>\n",
       "      <td>1</td>\n",
       "      <td>Toy Story (1995)</td>\n",
       "      <td>01-Jan-1995</td>\n",
       "      <td>NaN</td>\n",
       "      <td>http://us.imdb.com/M/title-exact?Toy%20Story%2...</td>\n",
       "      <td>1995</td>\n",
       "      <td>308</td>\n",
       "      <td>4</td>\n",
       "      <td>887736532</td>\n",
       "    </tr>\n",
       "    <tr>\n",
       "      <th>1</th>\n",
       "      <td>1</td>\n",
       "      <td>Toy Story (1995)</td>\n",
       "      <td>01-Jan-1995</td>\n",
       "      <td>NaN</td>\n",
       "      <td>http://us.imdb.com/M/title-exact?Toy%20Story%2...</td>\n",
       "      <td>1995</td>\n",
       "      <td>287</td>\n",
       "      <td>5</td>\n",
       "      <td>875334088</td>\n",
       "    </tr>\n",
       "    <tr>\n",
       "      <th>2</th>\n",
       "      <td>1</td>\n",
       "      <td>Toy Story (1995)</td>\n",
       "      <td>01-Jan-1995</td>\n",
       "      <td>NaN</td>\n",
       "      <td>http://us.imdb.com/M/title-exact?Toy%20Story%2...</td>\n",
       "      <td>1995</td>\n",
       "      <td>148</td>\n",
       "      <td>4</td>\n",
       "      <td>877019411</td>\n",
       "    </tr>\n",
       "    <tr>\n",
       "      <th>3</th>\n",
       "      <td>1</td>\n",
       "      <td>Toy Story (1995)</td>\n",
       "      <td>01-Jan-1995</td>\n",
       "      <td>NaN</td>\n",
       "      <td>http://us.imdb.com/M/title-exact?Toy%20Story%2...</td>\n",
       "      <td>1995</td>\n",
       "      <td>280</td>\n",
       "      <td>4</td>\n",
       "      <td>891700426</td>\n",
       "    </tr>\n",
       "    <tr>\n",
       "      <th>4</th>\n",
       "      <td>1</td>\n",
       "      <td>Toy Story (1995)</td>\n",
       "      <td>01-Jan-1995</td>\n",
       "      <td>NaN</td>\n",
       "      <td>http://us.imdb.com/M/title-exact?Toy%20Story%2...</td>\n",
       "      <td>1995</td>\n",
       "      <td>66</td>\n",
       "      <td>3</td>\n",
       "      <td>883601324</td>\n",
       "    </tr>\n",
       "  </tbody>\n",
       "</table>\n",
       "</div>"
      ],
      "text/plain": [
       "   item_id             title release_date  video_release_date  \\\n",
       "0        1  Toy Story (1995)  01-Jan-1995                 NaN   \n",
       "1        1  Toy Story (1995)  01-Jan-1995                 NaN   \n",
       "2        1  Toy Story (1995)  01-Jan-1995                 NaN   \n",
       "3        1  Toy Story (1995)  01-Jan-1995                 NaN   \n",
       "4        1  Toy Story (1995)  01-Jan-1995                 NaN   \n",
       "\n",
       "                                            imdb_url  release_year  user_id  \\\n",
       "0  http://us.imdb.com/M/title-exact?Toy%20Story%2...          1995      308   \n",
       "1  http://us.imdb.com/M/title-exact?Toy%20Story%2...          1995      287   \n",
       "2  http://us.imdb.com/M/title-exact?Toy%20Story%2...          1995      148   \n",
       "3  http://us.imdb.com/M/title-exact?Toy%20Story%2...          1995      280   \n",
       "4  http://us.imdb.com/M/title-exact?Toy%20Story%2...          1995       66   \n",
       "\n",
       "   rating  timestamp  \n",
       "0       4  887736532  \n",
       "1       5  875334088  \n",
       "2       4  877019411  \n",
       "3       4  891700426  \n",
       "4       3  883601324  "
      ]
     },
     "execution_count": 6,
     "metadata": {},
     "output_type": "execute_result"
    }
   ],
   "source": [
    "all_ratings.head()"
   ]
  },
  {
   "cell_type": "markdown",
   "metadata": {},
   "source": [
    "### Data preprocessing\n",
    "\n",
    "To understand well the distribution of the data, the following statistics are computed:\n",
    "- the number of users\n",
    "- the number of items\n",
    "- the rating distribution\n",
    "- the popularity of each movie"
   ]
  },
  {
   "cell_type": "code",
   "execution_count": 7,
   "metadata": {},
   "outputs": [
    {
     "data": {
      "text/plain": [
       "1"
      ]
     },
     "execution_count": 7,
     "metadata": {},
     "output_type": "execute_result"
    }
   ],
   "source": [
    "min_user_id = all_ratings['user_id'].min()\n",
    "min_user_id"
   ]
  },
  {
   "cell_type": "code",
   "execution_count": 8,
   "metadata": {},
   "outputs": [
    {
     "data": {
      "text/plain": [
       "943"
      ]
     },
     "execution_count": 8,
     "metadata": {},
     "output_type": "execute_result"
    }
   ],
   "source": [
    "max_user_id = all_ratings['user_id'].max()\n",
    "max_user_id"
   ]
  },
  {
   "cell_type": "code",
   "execution_count": 9,
   "metadata": {},
   "outputs": [
    {
     "data": {
      "text/plain": [
       "1"
      ]
     },
     "execution_count": 9,
     "metadata": {},
     "output_type": "execute_result"
    }
   ],
   "source": [
    "min_item_id = all_ratings['item_id'].min()\n",
    "min_item_id"
   ]
  },
  {
   "cell_type": "code",
   "execution_count": 10,
   "metadata": {},
   "outputs": [
    {
     "data": {
      "text/plain": [
       "1682"
      ]
     },
     "execution_count": 10,
     "metadata": {},
     "output_type": "execute_result"
    }
   ],
   "source": [
    "max_item_id = all_ratings['item_id'].max()\n",
    "max_item_id"
   ]
  },
  {
   "cell_type": "code",
   "execution_count": 11,
   "metadata": {},
   "outputs": [
    {
     "data": {
      "text/plain": [
       "count    100000.000000\n",
       "mean          3.529860\n",
       "std           1.125674\n",
       "min           1.000000\n",
       "25%           3.000000\n",
       "50%           4.000000\n",
       "75%           4.000000\n",
       "max           5.000000\n",
       "Name: rating, dtype: float64"
      ]
     },
     "execution_count": 11,
     "metadata": {},
     "output_type": "execute_result"
    }
   ],
   "source": [
    "all_ratings['rating'].describe()"
   ]
  },
  {
   "cell_type": "markdown",
   "metadata": {},
   "source": [
    "Let's do a bit more pandas magic compute the popularity of each movie (number of ratings):"
   ]
  },
  {
   "cell_type": "code",
   "execution_count": 12,
   "metadata": {},
   "outputs": [
    {
     "data": {
      "text/html": [
       "<div>\n",
       "<style scoped>\n",
       "    .dataframe tbody tr th:only-of-type {\n",
       "        vertical-align: middle;\n",
       "    }\n",
       "\n",
       "    .dataframe tbody tr th {\n",
       "        vertical-align: top;\n",
       "    }\n",
       "\n",
       "    .dataframe thead th {\n",
       "        text-align: right;\n",
       "    }\n",
       "</style>\n",
       "<table border=\"1\" class=\"dataframe\">\n",
       "  <thead>\n",
       "    <tr style=\"text-align: right;\">\n",
       "      <th></th>\n",
       "      <th>item_id</th>\n",
       "      <th>popularity</th>\n",
       "      <th>title</th>\n",
       "      <th>release_date</th>\n",
       "      <th>video_release_date</th>\n",
       "      <th>imdb_url</th>\n",
       "      <th>release_year</th>\n",
       "    </tr>\n",
       "  </thead>\n",
       "  <tbody>\n",
       "    <tr>\n",
       "      <th>49</th>\n",
       "      <td>50</td>\n",
       "      <td>583</td>\n",
       "      <td>Star Wars (1977)</td>\n",
       "      <td>01-Jan-1977</td>\n",
       "      <td>NaN</td>\n",
       "      <td>http://us.imdb.com/M/title-exact?Star%20Wars%2...</td>\n",
       "      <td>1977</td>\n",
       "    </tr>\n",
       "    <tr>\n",
       "      <th>257</th>\n",
       "      <td>258</td>\n",
       "      <td>509</td>\n",
       "      <td>Contact (1997)</td>\n",
       "      <td>11-Jul-1997</td>\n",
       "      <td>NaN</td>\n",
       "      <td>http://us.imdb.com/Title?Contact+(1997/I)</td>\n",
       "      <td>1997</td>\n",
       "    </tr>\n",
       "    <tr>\n",
       "      <th>99</th>\n",
       "      <td>100</td>\n",
       "      <td>508</td>\n",
       "      <td>Fargo (1996)</td>\n",
       "      <td>14-Feb-1997</td>\n",
       "      <td>NaN</td>\n",
       "      <td>http://us.imdb.com/M/title-exact?Fargo%20(1996)</td>\n",
       "      <td>1997</td>\n",
       "    </tr>\n",
       "    <tr>\n",
       "      <th>180</th>\n",
       "      <td>181</td>\n",
       "      <td>507</td>\n",
       "      <td>Return of the Jedi (1983)</td>\n",
       "      <td>14-Mar-1997</td>\n",
       "      <td>NaN</td>\n",
       "      <td>http://us.imdb.com/M/title-exact?Return%20of%2...</td>\n",
       "      <td>1997</td>\n",
       "    </tr>\n",
       "    <tr>\n",
       "      <th>293</th>\n",
       "      <td>294</td>\n",
       "      <td>485</td>\n",
       "      <td>Liar Liar (1997)</td>\n",
       "      <td>21-Mar-1997</td>\n",
       "      <td>NaN</td>\n",
       "      <td>http://us.imdb.com/Title?Liar+Liar+(1997)</td>\n",
       "      <td>1997</td>\n",
       "    </tr>\n",
       "    <tr>\n",
       "      <th>285</th>\n",
       "      <td>286</td>\n",
       "      <td>481</td>\n",
       "      <td>English Patient, The (1996)</td>\n",
       "      <td>15-Nov-1996</td>\n",
       "      <td>NaN</td>\n",
       "      <td>http://us.imdb.com/M/title-exact?English%20Pat...</td>\n",
       "      <td>1996</td>\n",
       "    </tr>\n",
       "    <tr>\n",
       "      <th>287</th>\n",
       "      <td>288</td>\n",
       "      <td>478</td>\n",
       "      <td>Scream (1996)</td>\n",
       "      <td>20-Dec-1996</td>\n",
       "      <td>NaN</td>\n",
       "      <td>http://us.imdb.com/M/title-exact?Scream%20(1996)</td>\n",
       "      <td>1996</td>\n",
       "    </tr>\n",
       "    <tr>\n",
       "      <th>0</th>\n",
       "      <td>1</td>\n",
       "      <td>452</td>\n",
       "      <td>Toy Story (1995)</td>\n",
       "      <td>01-Jan-1995</td>\n",
       "      <td>NaN</td>\n",
       "      <td>http://us.imdb.com/M/title-exact?Toy%20Story%2...</td>\n",
       "      <td>1995</td>\n",
       "    </tr>\n",
       "    <tr>\n",
       "      <th>299</th>\n",
       "      <td>300</td>\n",
       "      <td>431</td>\n",
       "      <td>Air Force One (1997)</td>\n",
       "      <td>01-Jan-1997</td>\n",
       "      <td>NaN</td>\n",
       "      <td>http://us.imdb.com/M/title-exact?Air+Force+One...</td>\n",
       "      <td>1997</td>\n",
       "    </tr>\n",
       "    <tr>\n",
       "      <th>120</th>\n",
       "      <td>121</td>\n",
       "      <td>429</td>\n",
       "      <td>Independence Day (ID4) (1996)</td>\n",
       "      <td>03-Jul-1996</td>\n",
       "      <td>NaN</td>\n",
       "      <td>http://us.imdb.com/M/title-exact?Independence%...</td>\n",
       "      <td>1996</td>\n",
       "    </tr>\n",
       "  </tbody>\n",
       "</table>\n",
       "</div>"
      ],
      "text/plain": [
       "     item_id  popularity                          title release_date  \\\n",
       "49        50         583               Star Wars (1977)  01-Jan-1977   \n",
       "257      258         509                 Contact (1997)  11-Jul-1997   \n",
       "99       100         508                   Fargo (1996)  14-Feb-1997   \n",
       "180      181         507      Return of the Jedi (1983)  14-Mar-1997   \n",
       "293      294         485               Liar Liar (1997)  21-Mar-1997   \n",
       "285      286         481    English Patient, The (1996)  15-Nov-1996   \n",
       "287      288         478                  Scream (1996)  20-Dec-1996   \n",
       "0          1         452               Toy Story (1995)  01-Jan-1995   \n",
       "299      300         431           Air Force One (1997)  01-Jan-1997   \n",
       "120      121         429  Independence Day (ID4) (1996)  03-Jul-1996   \n",
       "\n",
       "     video_release_date                                           imdb_url  \\\n",
       "49                  NaN  http://us.imdb.com/M/title-exact?Star%20Wars%2...   \n",
       "257                 NaN          http://us.imdb.com/Title?Contact+(1997/I)   \n",
       "99                  NaN    http://us.imdb.com/M/title-exact?Fargo%20(1996)   \n",
       "180                 NaN  http://us.imdb.com/M/title-exact?Return%20of%2...   \n",
       "293                 NaN          http://us.imdb.com/Title?Liar+Liar+(1997)   \n",
       "285                 NaN  http://us.imdb.com/M/title-exact?English%20Pat...   \n",
       "287                 NaN   http://us.imdb.com/M/title-exact?Scream%20(1996)   \n",
       "0                   NaN  http://us.imdb.com/M/title-exact?Toy%20Story%2...   \n",
       "299                 NaN  http://us.imdb.com/M/title-exact?Air+Force+One...   \n",
       "120                 NaN  http://us.imdb.com/M/title-exact?Independence%...   \n",
       "\n",
       "     release_year  \n",
       "49           1977  \n",
       "257          1997  \n",
       "99           1997  \n",
       "180          1997  \n",
       "293          1997  \n",
       "285          1996  \n",
       "287          1996  \n",
       "0            1995  \n",
       "299          1997  \n",
       "120          1996  "
      ]
     },
     "execution_count": 12,
     "metadata": {},
     "output_type": "execute_result"
    }
   ],
   "source": [
    "popularity = all_ratings.groupby('item_id').size().reset_index(name='popularity')\n",
    "items = pd.merge(popularity, items)\n",
    "items.nlargest(10, 'popularity')"
   ]
  },
  {
   "cell_type": "code",
   "execution_count": 13,
   "metadata": {},
   "outputs": [
    {
     "data": {
      "text/plain": [
       "'GoodFellas (1990)'"
      ]
     },
     "execution_count": 13,
     "metadata": {},
     "output_type": "execute_result"
    }
   ],
   "source": [
    "items[\"title\"][181]"
   ]
  },
  {
   "cell_type": "code",
   "execution_count": 14,
   "metadata": {},
   "outputs": [
    {
     "data": {
      "text/plain": [
       "'Return of the Jedi (1983)'"
      ]
     },
     "execution_count": 14,
     "metadata": {},
     "output_type": "execute_result"
    }
   ],
   "source": [
    "indexed_items = items.set_index('item_id')\n",
    "indexed_items[\"title\"][181]"
   ]
  },
  {
   "cell_type": "code",
   "execution_count": 15,
   "metadata": {},
   "outputs": [
    {
     "data": {
      "text/html": [
       "<div>\n",
       "<style scoped>\n",
       "    .dataframe tbody tr th:only-of-type {\n",
       "        vertical-align: middle;\n",
       "    }\n",
       "\n",
       "    .dataframe tbody tr th {\n",
       "        vertical-align: top;\n",
       "    }\n",
       "\n",
       "    .dataframe thead th {\n",
       "        text-align: right;\n",
       "    }\n",
       "</style>\n",
       "<table border=\"1\" class=\"dataframe\">\n",
       "  <thead>\n",
       "    <tr style=\"text-align: right;\">\n",
       "      <th></th>\n",
       "      <th>item_id</th>\n",
       "      <th>popularity</th>\n",
       "      <th>video_release_date</th>\n",
       "      <th>release_year</th>\n",
       "      <th>user_id</th>\n",
       "      <th>rating</th>\n",
       "      <th>timestamp</th>\n",
       "    </tr>\n",
       "  </thead>\n",
       "  <tbody>\n",
       "    <tr>\n",
       "      <th>count</th>\n",
       "      <td>100000.000000</td>\n",
       "      <td>100000.000000</td>\n",
       "      <td>0.0</td>\n",
       "      <td>100000.000000</td>\n",
       "      <td>100000.00000</td>\n",
       "      <td>100000.000000</td>\n",
       "      <td>1.000000e+05</td>\n",
       "    </tr>\n",
       "    <tr>\n",
       "      <th>mean</th>\n",
       "      <td>425.530130</td>\n",
       "      <td>168.071900</td>\n",
       "      <td>NaN</td>\n",
       "      <td>1987.950100</td>\n",
       "      <td>462.48475</td>\n",
       "      <td>3.529860</td>\n",
       "      <td>8.835289e+08</td>\n",
       "    </tr>\n",
       "    <tr>\n",
       "      <th>std</th>\n",
       "      <td>330.798356</td>\n",
       "      <td>121.784558</td>\n",
       "      <td>NaN</td>\n",
       "      <td>14.169558</td>\n",
       "      <td>266.61442</td>\n",
       "      <td>1.125674</td>\n",
       "      <td>5.343856e+06</td>\n",
       "    </tr>\n",
       "    <tr>\n",
       "      <th>min</th>\n",
       "      <td>1.000000</td>\n",
       "      <td>1.000000</td>\n",
       "      <td>NaN</td>\n",
       "      <td>1920.000000</td>\n",
       "      <td>1.00000</td>\n",
       "      <td>1.000000</td>\n",
       "      <td>8.747247e+08</td>\n",
       "    </tr>\n",
       "    <tr>\n",
       "      <th>25%</th>\n",
       "      <td>175.000000</td>\n",
       "      <td>71.000000</td>\n",
       "      <td>NaN</td>\n",
       "      <td>1986.000000</td>\n",
       "      <td>254.00000</td>\n",
       "      <td>3.000000</td>\n",
       "      <td>8.794487e+08</td>\n",
       "    </tr>\n",
       "    <tr>\n",
       "      <th>50%</th>\n",
       "      <td>322.000000</td>\n",
       "      <td>145.000000</td>\n",
       "      <td>NaN</td>\n",
       "      <td>1994.000000</td>\n",
       "      <td>447.00000</td>\n",
       "      <td>4.000000</td>\n",
       "      <td>8.828269e+08</td>\n",
       "    </tr>\n",
       "    <tr>\n",
       "      <th>75%</th>\n",
       "      <td>631.000000</td>\n",
       "      <td>239.000000</td>\n",
       "      <td>NaN</td>\n",
       "      <td>1996.000000</td>\n",
       "      <td>682.00000</td>\n",
       "      <td>4.000000</td>\n",
       "      <td>8.882600e+08</td>\n",
       "    </tr>\n",
       "    <tr>\n",
       "      <th>max</th>\n",
       "      <td>1682.000000</td>\n",
       "      <td>583.000000</td>\n",
       "      <td>NaN</td>\n",
       "      <td>1998.000000</td>\n",
       "      <td>943.00000</td>\n",
       "      <td>5.000000</td>\n",
       "      <td>8.932866e+08</td>\n",
       "    </tr>\n",
       "  </tbody>\n",
       "</table>\n",
       "</div>"
      ],
      "text/plain": [
       "             item_id     popularity  video_release_date   release_year  \\\n",
       "count  100000.000000  100000.000000                 0.0  100000.000000   \n",
       "mean      425.530130     168.071900                 NaN    1987.950100   \n",
       "std       330.798356     121.784558                 NaN      14.169558   \n",
       "min         1.000000       1.000000                 NaN    1920.000000   \n",
       "25%       175.000000      71.000000                 NaN    1986.000000   \n",
       "50%       322.000000     145.000000                 NaN    1994.000000   \n",
       "75%       631.000000     239.000000                 NaN    1996.000000   \n",
       "max      1682.000000     583.000000                 NaN    1998.000000   \n",
       "\n",
       "            user_id         rating     timestamp  \n",
       "count  100000.00000  100000.000000  1.000000e+05  \n",
       "mean      462.48475       3.529860  8.835289e+08  \n",
       "std       266.61442       1.125674  5.343856e+06  \n",
       "min         1.00000       1.000000  8.747247e+08  \n",
       "25%       254.00000       3.000000  8.794487e+08  \n",
       "50%       447.00000       4.000000  8.828269e+08  \n",
       "75%       682.00000       4.000000  8.882600e+08  \n",
       "max       943.00000       5.000000  8.932866e+08  "
      ]
     },
     "execution_count": 15,
     "metadata": {},
     "output_type": "execute_result"
    }
   ],
   "source": [
    "all_ratings = pd.merge(popularity, all_ratings)\n",
    "all_ratings.describe()"
   ]
  },
  {
   "cell_type": "code",
   "execution_count": 16,
   "metadata": {},
   "outputs": [
    {
     "data": {
      "text/html": [
       "<div>\n",
       "<style scoped>\n",
       "    .dataframe tbody tr th:only-of-type {\n",
       "        vertical-align: middle;\n",
       "    }\n",
       "\n",
       "    .dataframe tbody tr th {\n",
       "        vertical-align: top;\n",
       "    }\n",
       "\n",
       "    .dataframe thead th {\n",
       "        text-align: right;\n",
       "    }\n",
       "</style>\n",
       "<table border=\"1\" class=\"dataframe\">\n",
       "  <thead>\n",
       "    <tr style=\"text-align: right;\">\n",
       "      <th></th>\n",
       "      <th>item_id</th>\n",
       "      <th>popularity</th>\n",
       "      <th>title</th>\n",
       "      <th>release_date</th>\n",
       "      <th>video_release_date</th>\n",
       "      <th>imdb_url</th>\n",
       "      <th>release_year</th>\n",
       "      <th>user_id</th>\n",
       "      <th>rating</th>\n",
       "      <th>timestamp</th>\n",
       "    </tr>\n",
       "  </thead>\n",
       "  <tbody>\n",
       "    <tr>\n",
       "      <th>0</th>\n",
       "      <td>1</td>\n",
       "      <td>452</td>\n",
       "      <td>Toy Story (1995)</td>\n",
       "      <td>01-Jan-1995</td>\n",
       "      <td>NaN</td>\n",
       "      <td>http://us.imdb.com/M/title-exact?Toy%20Story%2...</td>\n",
       "      <td>1995</td>\n",
       "      <td>308</td>\n",
       "      <td>4</td>\n",
       "      <td>887736532</td>\n",
       "    </tr>\n",
       "    <tr>\n",
       "      <th>1</th>\n",
       "      <td>1</td>\n",
       "      <td>452</td>\n",
       "      <td>Toy Story (1995)</td>\n",
       "      <td>01-Jan-1995</td>\n",
       "      <td>NaN</td>\n",
       "      <td>http://us.imdb.com/M/title-exact?Toy%20Story%2...</td>\n",
       "      <td>1995</td>\n",
       "      <td>287</td>\n",
       "      <td>5</td>\n",
       "      <td>875334088</td>\n",
       "    </tr>\n",
       "    <tr>\n",
       "      <th>2</th>\n",
       "      <td>1</td>\n",
       "      <td>452</td>\n",
       "      <td>Toy Story (1995)</td>\n",
       "      <td>01-Jan-1995</td>\n",
       "      <td>NaN</td>\n",
       "      <td>http://us.imdb.com/M/title-exact?Toy%20Story%2...</td>\n",
       "      <td>1995</td>\n",
       "      <td>148</td>\n",
       "      <td>4</td>\n",
       "      <td>877019411</td>\n",
       "    </tr>\n",
       "    <tr>\n",
       "      <th>3</th>\n",
       "      <td>1</td>\n",
       "      <td>452</td>\n",
       "      <td>Toy Story (1995)</td>\n",
       "      <td>01-Jan-1995</td>\n",
       "      <td>NaN</td>\n",
       "      <td>http://us.imdb.com/M/title-exact?Toy%20Story%2...</td>\n",
       "      <td>1995</td>\n",
       "      <td>280</td>\n",
       "      <td>4</td>\n",
       "      <td>891700426</td>\n",
       "    </tr>\n",
       "    <tr>\n",
       "      <th>4</th>\n",
       "      <td>1</td>\n",
       "      <td>452</td>\n",
       "      <td>Toy Story (1995)</td>\n",
       "      <td>01-Jan-1995</td>\n",
       "      <td>NaN</td>\n",
       "      <td>http://us.imdb.com/M/title-exact?Toy%20Story%2...</td>\n",
       "      <td>1995</td>\n",
       "      <td>66</td>\n",
       "      <td>3</td>\n",
       "      <td>883601324</td>\n",
       "    </tr>\n",
       "  </tbody>\n",
       "</table>\n",
       "</div>"
      ],
      "text/plain": [
       "   item_id  popularity             title release_date  video_release_date  \\\n",
       "0        1         452  Toy Story (1995)  01-Jan-1995                 NaN   \n",
       "1        1         452  Toy Story (1995)  01-Jan-1995                 NaN   \n",
       "2        1         452  Toy Story (1995)  01-Jan-1995                 NaN   \n",
       "3        1         452  Toy Story (1995)  01-Jan-1995                 NaN   \n",
       "4        1         452  Toy Story (1995)  01-Jan-1995                 NaN   \n",
       "\n",
       "                                            imdb_url  release_year  user_id  \\\n",
       "0  http://us.imdb.com/M/title-exact?Toy%20Story%2...          1995      308   \n",
       "1  http://us.imdb.com/M/title-exact?Toy%20Story%2...          1995      287   \n",
       "2  http://us.imdb.com/M/title-exact?Toy%20Story%2...          1995      148   \n",
       "3  http://us.imdb.com/M/title-exact?Toy%20Story%2...          1995      280   \n",
       "4  http://us.imdb.com/M/title-exact?Toy%20Story%2...          1995       66   \n",
       "\n",
       "   rating  timestamp  \n",
       "0       4  887736532  \n",
       "1       5  875334088  \n",
       "2       4  877019411  \n",
       "3       4  891700426  \n",
       "4       3  883601324  "
      ]
     },
     "execution_count": 16,
     "metadata": {},
     "output_type": "execute_result"
    }
   ],
   "source": [
    "all_ratings.head()"
   ]
  },
  {
   "cell_type": "markdown",
   "metadata": {},
   "source": [
    "Later in the analysis we will assume that this popularity does not come from the ratings themselves but from an external metadata, e.g. box office numbers in the month after the release in movie theaters.\n",
    "\n",
    "Let's split the enriched data in a train / test split to make it possible to do predictive modeling:"
   ]
  },
  {
   "cell_type": "code",
   "execution_count": 17,
   "metadata": {},
   "outputs": [],
   "source": [
    "from sklearn.model_selection import train_test_split\n",
    "\n",
    "ratings_train, ratings_test = train_test_split(\n",
    "    all_ratings, test_size=0.2, random_state=0)\n",
    "\n",
    "user_id_train = np.array(ratings_train['user_id'])\n",
    "item_id_train = np.array(ratings_train['item_id'])\n",
    "rating_train = np.array(ratings_train['rating'])\n",
    "\n",
    "user_id_test = np.array(ratings_test['user_id'])\n",
    "item_id_test = np.array(ratings_test['item_id'])\n",
    "rating_test = np.array(ratings_test['rating'])"
   ]
  },
  {
   "cell_type": "markdown",
   "metadata": {},
   "source": [
    "# Explicit feedback: supervised ratings prediction\n",
    "\n",
    "For each pair of (user, item) try to predict the rating the user would give to the item.\n",
    "\n",
    "This is the classical setup for building recommender systems from offline data with explicit supervision signal. "
   ]
  },
  {
   "cell_type": "markdown",
   "metadata": {},
   "source": [
    "## Predictive ratings  as a regression problem\n",
    "\n",
    "The following code implements the following architecture:\n",
    "\n",
    "<img src=\"images/rec_archi_1.svg\" style=\"width: 600px;\" />"
   ]
  },
  {
   "cell_type": "code",
   "execution_count": 18,
   "metadata": {},
   "outputs": [
    {
     "name": "stderr",
     "output_type": "stream",
     "text": [
      "2023-03-08 10:40:09.130175: I tensorflow/core/platform/cpu_feature_guard.cc:193] This TensorFlow binary is optimized with oneAPI Deep Neural Network Library (oneDNN) to use the following CPU instructions in performance-critical operations:  SSE4.1 SSE4.2 AVX AVX2 FMA\n",
      "To enable them in other operations, rebuild TensorFlow with the appropriate compiler flags.\n"
     ]
    }
   ],
   "source": [
    "from tensorflow.keras.layers import Embedding, Flatten, Dense, Dropout\n",
    "from tensorflow.keras.layers import Dot\n",
    "from tensorflow.keras.models import Model"
   ]
  },
  {
   "cell_type": "code",
   "execution_count": 19,
   "metadata": {},
   "outputs": [
    {
     "name": "stderr",
     "output_type": "stream",
     "text": [
      "2023-03-08 10:40:26.611830: I tensorflow/core/platform/cpu_feature_guard.cc:193] This TensorFlow binary is optimized with oneAPI Deep Neural Network Library (oneDNN) to use the following CPU instructions in performance-critical operations:  SSE4.1 SSE4.2 AVX AVX2 FMA\n",
      "To enable them in other operations, rebuild TensorFlow with the appropriate compiler flags.\n"
     ]
    }
   ],
   "source": [
    "# For each sample we input the integer identifiers\n",
    "# of a single user and a single item\n",
    "class RegressionModel(Model):\n",
    "    def __init__(self, embedding_size, max_user_id, max_item_id):\n",
    "        super().__init__()\n",
    "        \n",
    "        self.user_embedding = Embedding(output_dim=embedding_size,\n",
    "                                        input_dim=max_user_id + 1,\n",
    "                                        input_length=1,\n",
    "                                        name='user_embedding')\n",
    "        self.item_embedding = Embedding(output_dim=embedding_size,\n",
    "                                        input_dim=max_item_id + 1,\n",
    "                                        input_length=1,\n",
    "                                        name='item_embedding')\n",
    "        \n",
    "        # The following two layers don't have parameters.\n",
    "        self.flatten = Flatten()\n",
    "        self.dot = Dot(axes=1)\n",
    "        \n",
    "    def call(self, inputs):\n",
    "        user_inputs = inputs[0]\n",
    "        item_inputs = inputs[1]\n",
    "        \n",
    "        user_vecs = self.flatten(self.user_embedding(user_inputs))\n",
    "        item_vecs = self.flatten(self.item_embedding(item_inputs))\n",
    "        \n",
    "        y = self.dot([user_vecs, item_vecs])\n",
    "        return y\n",
    "\n",
    "\n",
    "model = RegressionModel(64, max_user_id, max_item_id)\n",
    "model.compile(optimizer=\"adam\", loss='mae')"
   ]
  },
  {
   "cell_type": "code",
   "execution_count": 20,
   "metadata": {},
   "outputs": [
    {
     "name": "stdout",
     "output_type": "stream",
     "text": [
      "2500/2500 [==============================] - 2s 744us/step\n"
     ]
    },
    {
     "data": {
      "text/plain": [
       "(80000, 1)"
      ]
     },
     "execution_count": 20,
     "metadata": {},
     "output_type": "execute_result"
    }
   ],
   "source": [
    "# Useful for debugging the output shape of model\n",
    "initial_train_preds = model.predict([user_id_train, item_id_train])\n",
    "initial_train_preds.shape"
   ]
  },
  {
   "cell_type": "markdown",
   "metadata": {},
   "source": [
    "### Model error\n",
    "\n",
    "Using `initial_train_preds`, compute the model errors:\n",
    "- mean absolute error\n",
    "- mean squared error\n",
    "\n",
    "Converting a pandas Series to numpy array is usually implicit, but you may use `rating_train.values` to do so explicitly. Be sure to monitor the shapes of each object you deal with by using `object.shape`."
   ]
  },
  {
   "cell_type": "code",
   "execution_count": 21,
   "metadata": {},
   "outputs": [
    {
     "name": "stdout",
     "output_type": "stream",
     "text": [
      "Random init MSE: 13.719\n",
      "Random init MAE: 3.529\n",
      "Random init RMSE: 3.704\n",
      "Random init MAE: 3.529\n"
     ]
    }
   ],
   "source": [
    "# %load solutions/compute_errors.py\n",
    "squared_differences = np.square(initial_train_preds[:,0] - rating_train)\n",
    "absolute_differences = np.abs(initial_train_preds[:,0] - rating_train)\n",
    "\n",
    "print(\"Random init MSE: %0.3f\" % np.mean(squared_differences))\n",
    "print(\"Random init MAE: %0.3f\" % np.mean(absolute_differences))\n",
    "\n",
    "# You may also use sklearn metrics to do so using scikit-learn:\n",
    "\n",
    "from sklearn.metrics import mean_absolute_error, mean_squared_error\n",
    "\n",
    "print(\"Random init RMSE: %0.3f\" % mean_squared_error(initial_train_preds, rating_train, squared=False))\n",
    "print(\"Random init MAE: %0.3f\" % mean_absolute_error(initial_train_preds, rating_train))\n"
   ]
  },
  {
   "cell_type": "markdown",
   "metadata": {},
   "source": [
    "### Monitoring runs\n",
    "\n",
    "Keras enables to monitor various variables during training. \n",
    "\n",
    "`history.history` returned by the `model.fit` function is a dictionary\n",
    "containing the `'loss'` and validation loss `'val_loss'` after each epoch"
   ]
  },
  {
   "cell_type": "code",
   "execution_count": 22,
   "metadata": {},
   "outputs": [
    {
     "name": "stdout",
     "output_type": "stream",
     "text": [
      "Epoch 1/10\n",
      "1125/1125 [==============================] - 2s 1ms/step - loss: 2.6442 - val_loss: 1.0505\n",
      "Epoch 2/10\n",
      "1125/1125 [==============================] - 2s 1ms/step - loss: 0.8522 - val_loss: 0.7975\n",
      "Epoch 3/10\n",
      "1125/1125 [==============================] - 1s 1ms/step - loss: 0.7593 - val_loss: 0.7710\n",
      "Epoch 4/10\n",
      "1125/1125 [==============================] - 1s 1ms/step - loss: 0.7372 - val_loss: 0.7606\n",
      "Epoch 5/10\n",
      "1125/1125 [==============================] - 2s 1ms/step - loss: 0.7196 - val_loss: 0.7530\n",
      "Epoch 6/10\n",
      "1125/1125 [==============================] - 1s 1ms/step - loss: 0.7010 - val_loss: 0.7489\n",
      "Epoch 7/10\n",
      "1125/1125 [==============================] - 2s 1ms/step - loss: 0.6788 - val_loss: 0.7425\n",
      "Epoch 8/10\n",
      "1125/1125 [==============================] - 1s 1ms/step - loss: 0.6558 - val_loss: 0.7355\n",
      "Epoch 9/10\n",
      "1125/1125 [==============================] - 2s 1ms/step - loss: 0.6307 - val_loss: 0.7345\n",
      "Epoch 10/10\n",
      "1125/1125 [==============================] - 1s 1ms/step - loss: 0.6050 - val_loss: 0.7362\n",
      "CPU times: user 29.3 s, sys: 4.81 s, total: 34.1 s\n",
      "Wall time: 15.7 s\n"
     ]
    }
   ],
   "source": [
    "%%time\n",
    "# shuffle = batch par tirar aléatoire\n",
    "# Training the model\n",
    "history = model.fit([user_id_train, item_id_train], rating_train,\n",
    "                    batch_size=64, epochs=10, validation_split=0.1,\n",
    "                    shuffle=True)"
   ]
  },
  {
   "cell_type": "code",
   "execution_count": 23,
   "metadata": {},
   "outputs": [
    {
     "data": {
      "image/png": "[encoded data removed]",
      "text/plain": [
       "<Figure size 640x480 with 1 Axes>"
      ]
     },
     "metadata": {},
     "output_type": "display_data"
    }
   ],
   "source": [
    "plt.plot(history.history['loss'], label='train')\n",
    "plt.plot(history.history['val_loss'], label='validation')\n",
    "plt.ylim(0, 2)\n",
    "plt.legend(loc='best')\n",
    "plt.title('Loss');"
   ]
  },
  {
   "cell_type": "markdown",
   "metadata": {},
   "source": [
    "**Questions**:\n",
    "\n",
    "- Why is the train loss higher than the first loss in the first few epochs?\n",
    "- Why is Keras not computing the train loss on the full training set at the end of each epoch as it does on the validation set?\n",
    "\n",
    "\n",
    "Now that the model is trained, the model MSE and MAE look nicer:"
   ]
  },
  {
   "cell_type": "markdown",
   "metadata": {},
   "source": [
    "**Réponses**\n",
    "- le score de train s'améliore avec les batch, le score de validation est calculé à la fin d'une epoch et donc on a un peu convergé. Pourquoi? pas recalculer la loss de train a la fin de chaque epoch? cela prend du temps\n",
    "- "
   ]
  },
  {
   "cell_type": "code",
   "execution_count": 24,
   "metadata": {},
   "outputs": [],
   "source": [
    "def plot_predictions(y_true, y_pred):\n",
    "    plt.figure(figsize=(4, 4))\n",
    "    plt.xlim(-1, 6)\n",
    "    plt.xlabel(\"True rating\")\n",
    "    plt.ylim(-1, 6)\n",
    "    plt.xlabel(\"Predicted rating\")\n",
    "    plt.scatter(y_true, y_pred, s=60, alpha=0.01)"
   ]
  },
  {
   "cell_type": "code",
   "execution_count": 25,
   "metadata": {},
   "outputs": [
    {
     "name": "stdout",
     "output_type": "stream",
     "text": [
      "625/625 [==============================] - 0s 677us/step\n",
      "Final test MSE: 0.904\n",
      "Final test MAE: 0.735\n"
     ]
    },
    {
     "data": {
      "image/png": "[encoded data removed]",
      "text/plain": [
       "<Figure size 400x400 with 1 Axes>"
      ]
     },
     "metadata": {},
     "output_type": "display_data"
    }
   ],
   "source": [
    "from sklearn.metrics import mean_squared_error\n",
    "from sklearn.metrics import mean_absolute_error\n",
    "\n",
    "test_preds = model.predict([user_id_test, item_id_test])\n",
    "print(\"Final test MSE: %0.3f\" % mean_squared_error(test_preds, rating_test))\n",
    "print(\"Final test MAE: %0.3f\" % mean_absolute_error(test_preds, rating_test))\n",
    "plot_predictions(rating_test, test_preds)"
   ]
  },
  {
   "cell_type": "code",
   "execution_count": 26,
   "metadata": {},
   "outputs": [
    {
     "name": "stdout",
     "output_type": "stream",
     "text": [
      "2500/2500 [==============================] - 2s 683us/step\n",
      "Final train MSE: 0.635\n",
      "Final train MAE: 0.585\n"
     ]
    },
    {
     "data": {
      "image/png": "[encoded data removed]",
      "text/plain": [
       "<Figure size 400x400 with 1 Axes>"
      ]
     },
     "metadata": {},
     "output_type": "display_data"
    }
   ],
   "source": [
    "train_preds = model.predict([user_id_train, item_id_train])\n",
    "print(\"Final train MSE: %0.3f\" % mean_squared_error(train_preds, rating_train))\n",
    "print(\"Final train MAE: %0.3f\" % mean_absolute_error(train_preds, rating_train))\n",
    "plot_predictions(rating_train, train_preds)"
   ]
  },
  {
   "cell_type": "markdown",
   "metadata": {},
   "source": [
    "### Model Embeddings\n",
    "\n",
    "- It is possible to retrieve the embeddings by simply using the Keras function `model.get_weights` which returns all the model learnable parameters.\n",
    "- The weights are returned the same order as they were build in the model\n",
    "- What is the total number of parameters?"
   ]
  },
  {
   "cell_type": "code",
   "execution_count": 27,
   "metadata": {},
   "outputs": [
    {
     "data": {
      "text/plain": [
       "[(944, 64), (1683, 64)]"
      ]
     },
     "execution_count": 27,
     "metadata": {},
     "output_type": "execute_result"
    }
   ],
   "source": [
    "# weights and shape\n",
    "weights = model.get_weights()\n",
    "[w.shape for w in weights]"
   ]
  },
  {
   "cell_type": "code",
   "execution_count": 28,
   "metadata": {},
   "outputs": [],
   "source": [
    "# Solution: \n",
    "# model.summary()"
   ]
  },
  {
   "cell_type": "code",
   "execution_count": 29,
   "metadata": {},
   "outputs": [],
   "source": [
    "user_embeddings = weights[0]\n",
    "item_embeddings = weights[1]"
   ]
  },
  {
   "cell_type": "code",
   "execution_count": 30,
   "metadata": {},
   "outputs": [
    {
     "name": "stdout",
     "output_type": "stream",
     "text": [
      "Title for item_id=181: Return of the Jedi (1983)\n"
     ]
    }
   ],
   "source": [
    "item_id = 181\n",
    "print(f\"Title for item_id={item_id}: {indexed_items['title'][item_id]}\")"
   ]
  },
  {
   "cell_type": "code",
   "execution_count": 31,
   "metadata": {},
   "outputs": [
    {
     "name": "stdout",
     "output_type": "stream",
     "text": [
      "Embedding vector for item_id=181\n",
      "[-0.10554311 -0.05665788  0.42878312 -0.2248454   0.49833056 -0.3801798\n",
      "  0.46526936  0.3644333  -0.49046966  0.05852615  0.49876225  0.1638207\n",
      " -0.33363712  0.48207715 -0.09501815 -0.2628359   0.40655798 -0.5005414\n",
      "  0.04749915 -0.27596587 -0.09006637  0.10508589 -0.40914345 -0.13533978\n",
      " -0.24853013  0.50701624 -0.229093   -0.07282068 -0.25038242  0.4674511\n",
      " -0.04477191 -0.20906122  0.2409516  -0.03805115  0.44357517 -0.44910324\n",
      "  0.39326462 -0.05480314 -0.00468831 -0.29623228 -0.45814636  0.36836144\n",
      " -0.17858908  0.24483661 -0.20299385 -0.5859873  -0.4336283  -0.30135894\n",
      "  0.16468838 -0.23486462 -0.17033838  0.22317204 -0.3407069  -0.10635767\n",
      " -0.5125533   0.45793116  0.38134724  0.1680791  -0.41458392  0.34094605\n",
      "  0.3345165  -0.38823038 -0.01612879 -0.37144104]\n",
      "shape: (64,)\n"
     ]
    }
   ],
   "source": [
    "print(f\"Embedding vector for item_id={item_id}\")\n",
    "print(item_embeddings[item_id])\n",
    "print(\"shape:\", item_embeddings[item_id].shape)"
   ]
  },
  {
   "cell_type": "markdown",
   "metadata": {},
   "source": [
    "### Finding most similar items\n",
    "\n",
    "Finding k most similar items to a point in embedding space\n",
    "\n",
    "- Write in numpy a function to compute the cosine similarity between two points in embedding space.\n",
    "- Test it on the following cells to check the similarities between popular movies.\n",
    "- Bonus: try to generalize the function to compute the similarities between one movie and all the others and return the most related movies.\n",
    "\n",
    "Notes:\n",
    "- you may use `np.linalg.norm` to compute the norm of vector, and you may specify the `axis=`\n",
    "- the numpy function `np.argsort(...)` enables to compute the sorted indices of a vector\n",
    "- `items[\"name\"][idxs]` returns the names of the items indexed by array idxs"
   ]
  },
  {
   "cell_type": "code",
   "execution_count": 32,
   "metadata": {},
   "outputs": [],
   "source": [
    "EPSILON = 1e-07  # to avoid division by 0.\n",
    "\n",
    "\n",
    "def cosine(x, y):\n",
    "    # TODO: implement me!\n",
    "    \n",
    "    return 0."
   ]
  },
  {
   "cell_type": "code",
   "execution_count": 33,
   "metadata": {},
   "outputs": [],
   "source": [
    "# %load solutions/similarity.py\n",
    "EPSILON = 1e-07\n",
    "\n",
    "\n",
    "def cosine(x, y):\n",
    "    dot_products = np.dot(x, y.T)\n",
    "    norm_products = np.linalg.norm(x) * np.linalg.norm(y)\n",
    "    return dot_products / (norm_products + EPSILON)\n"
   ]
  },
  {
   "cell_type": "code",
   "execution_count": 34,
   "metadata": {},
   "outputs": [
    {
     "name": "stdout",
     "output_type": "stream",
     "text": [
      "Star Wars (1977)\n",
      "Return of the Jedi (1983)\n",
      "Cosine similarity: 0.905\n"
     ]
    }
   ],
   "source": [
    "def print_similarity(item_a, item_b, item_embeddings, titles):\n",
    "    print(titles[item_a])\n",
    "    print(titles[item_b])\n",
    "    similarity = cosine(item_embeddings[item_a],\n",
    "                        item_embeddings[item_b])\n",
    "    print(f\"Cosine similarity: {similarity:.3}\")\n",
    "    \n",
    "print_similarity(50, 181, item_embeddings, indexed_items[\"title\"])"
   ]
  },
  {
   "cell_type": "code",
   "execution_count": 35,
   "metadata": {},
   "outputs": [
    {
     "name": "stdout",
     "output_type": "stream",
     "text": [
      "Return of the Jedi (1983)\n",
      "Scream (1996)\n",
      "Cosine similarity: 0.716\n"
     ]
    }
   ],
   "source": [
    "print_similarity(181, 288, item_embeddings, indexed_items[\"title\"])"
   ]
  },
  {
   "cell_type": "code",
   "execution_count": 36,
   "metadata": {},
   "outputs": [
    {
     "name": "stdout",
     "output_type": "stream",
     "text": [
      "Return of the Jedi (1983)\n",
      "Toy Story (1995)\n",
      "Cosine similarity: 0.878\n"
     ]
    }
   ],
   "source": [
    "print_similarity(181, 1, item_embeddings, indexed_items[\"title\"])"
   ]
  },
  {
   "cell_type": "code",
   "execution_count": 37,
   "metadata": {},
   "outputs": [
    {
     "name": "stdout",
     "output_type": "stream",
     "text": [
      "Return of the Jedi (1983)\n",
      "Return of the Jedi (1983)\n",
      "Cosine similarity: 1.0\n"
     ]
    }
   ],
   "source": [
    "print_similarity(181, 181, item_embeddings, indexed_items[\"title\"])"
   ]
  },
  {
   "cell_type": "code",
   "execution_count": 38,
   "metadata": {},
   "outputs": [
    {
     "data": {
      "text/plain": [
       "array([-0.04695738,  0.87800807,  0.75077957, ...,  0.7063146 ,\n",
       "        0.77182484,  0.69053406], dtype=float32)"
      ]
     },
     "execution_count": 38,
     "metadata": {},
     "output_type": "execute_result"
    }
   ],
   "source": [
    "def cosine_similarities(item_id, item_embeddings):\n",
    "    \"\"\"Compute similarities between item_id and all items embeddings\"\"\"\n",
    "    query_vector = item_embeddings[item_id]\n",
    "    dot_products = item_embeddings @ query_vector\n",
    "\n",
    "    query_vector_norm = np.linalg.norm(query_vector)\n",
    "    all_item_norms = np.linalg.norm(item_embeddings, axis=1)\n",
    "    norm_products = query_vector_norm * all_item_norms\n",
    "    return dot_products / (norm_products + EPSILON)\n",
    "\n",
    "\n",
    "similarities = cosine_similarities(181, item_embeddings)\n",
    "similarities"
   ]
  },
  {
   "cell_type": "code",
   "execution_count": 39,
   "metadata": {},
   "outputs": [
    {
     "data": {
      "image/png": "[encoded data removed]",
      "text/plain": [
       "<Figure size 640x480 with 1 Axes>"
      ]
     },
     "metadata": {},
     "output_type": "display_data"
    }
   ],
   "source": [
    "plt.hist(similarities, bins=30);"
   ]
  },
  {
   "cell_type": "code",
   "execution_count": 40,
   "metadata": {},
   "outputs": [
    {
     "data": {
      "text/plain": [
       "[(50, 'Star Wars (1977)', 1.0000001),\n",
       " (172, 'Empire Strikes Back, The (1980)', 0.91520035),\n",
       " (181, 'Return of the Jedi (1983)', 0.90526277),\n",
       " (174, 'Raiders of the Lost Ark (1981)', 0.8891627),\n",
       " (12, 'Usual Suspects, The (1995)', 0.88565767),\n",
       " (214, 'Pink Floyd - The Wall (1982)', 0.87041134),\n",
       " (135, '2001: A Space Odyssey (1968)', 0.8665437),\n",
       " (173, 'Princess Bride, The (1987)', 0.8542229),\n",
       " (176, 'Aliens (1986)', 0.85223895),\n",
       " (432, 'Fantasia (1940)', 0.84965646)]"
      ]
     },
     "execution_count": 40,
     "metadata": {},
     "output_type": "execute_result"
    }
   ],
   "source": [
    "def most_similar(item_id, item_embeddings, titles,\n",
    "                 top_n=30):\n",
    "    sims = cosine_similarities(item_id, item_embeddings)\n",
    "    # [::-1] makes it possible to reverse the order of a numpy\n",
    "    # array, this is required because most similar items have\n",
    "    # a larger cosine similarity value\n",
    "    sorted_indexes = np.argsort(sims)[::-1]\n",
    "    idxs = sorted_indexes[0:top_n]\n",
    "    return list(zip(idxs, titles[idxs], sims[idxs]))\n",
    "\n",
    "\n",
    "most_similar(50, item_embeddings, indexed_items[\"title\"], top_n=10)"
   ]
  },
  {
   "cell_type": "code",
   "execution_count": 41,
   "metadata": {},
   "outputs": [],
   "source": [
    "# items[items['title'].str.contains(\"Star Trek\")]"
   ]
  },
  {
   "cell_type": "code",
   "execution_count": 42,
   "metadata": {},
   "outputs": [
    {
     "data": {
      "text/plain": [
       "[(227, 'Star Trek VI: The Undiscovered Country (1991)', 1.0000001),\n",
       " (230, 'Star Trek IV: The Voyage Home (1986)', 0.8970656),\n",
       " (228, 'Star Trek: The Wrath of Khan (1982)', 0.89205056),\n",
       " (222, 'Star Trek: First Contact (1996)', 0.8732127),\n",
       " (778, 'Don Juan DeMarco (1995)', 0.870731),\n",
       " (1, 'Toy Story (1995)', 0.8690621),\n",
       " (181, 'Return of the Jedi (1983)', 0.8643773),\n",
       " (1124, 'Farewell to Arms, A (1932)', 0.8601999),\n",
       " (169, 'Wrong Trousers, The (1993)', 0.85719806),\n",
       " (290, 'Fierce Creatures (1997)', 0.85548717)]"
      ]
     },
     "execution_count": 42,
     "metadata": {},
     "output_type": "execute_result"
    }
   ],
   "source": [
    "most_similar(227, item_embeddings, indexed_items[\"title\"], top_n=10)"
   ]
  },
  {
   "cell_type": "markdown",
   "metadata": {},
   "source": [
    "The similarities do not always make sense: the number of ratings is low and the embedding  does not automatically capture semantic relationships in that context. Better representations arise with higher number of ratings, and less overfitting  in models or maybe better loss function, such as those based on implicit feedback."
   ]
  },
  {
   "cell_type": "markdown",
   "metadata": {},
   "source": [
    "### Visualizing embeddings using TSNE\n",
    "\n",
    "- we use scikit learn to visualize items embeddings\n",
    "- Try different perplexities, and visualize user embeddings as well\n",
    "- What can you conclude ?"
   ]
  },
  {
   "cell_type": "code",
   "execution_count": 43,
   "metadata": {},
   "outputs": [],
   "source": [
    "from sklearn.manifold import TSNE\n",
    "\n",
    "item_tsne = TSNE(perplexity=30).fit_transform(item_embeddings)"
   ]
  },
  {
   "cell_type": "code",
   "execution_count": 44,
   "metadata": {},
   "outputs": [
    {
     "data": {
      "image/png": "[encoded data removed]",
      "text/plain": [
       "<Figure size 1000x1000 with 1 Axes>"
      ]
     },
     "metadata": {},
     "output_type": "display_data"
    }
   ],
   "source": [
    "import matplotlib.pyplot as plt\n",
    "\n",
    "plt.figure(figsize=(10, 10))\n",
    "plt.scatter(item_tsne[:, 0], item_tsne[:, 1]);\n",
    "plt.xticks(()); plt.yticks(());\n",
    "plt.show()"
   ]
  },
  {
   "cell_type": "code",
   "execution_count": 45,
   "metadata": {},
   "outputs": [
    {
     "name": "stdout",
     "output_type": "stream",
     "text": [
      "Note: you may need to restart the kernel to use updated packages.\n"
     ]
    }
   ],
   "source": [
    "%pip install -q plotly"
   ]
  },
  {
   "cell_type": "code",
   "execution_count": 46,
   "metadata": {},
   "outputs": [
    {
     "data": {
      "application/vnd.plotly.v1+json": {
       "config": {
        "plotlyServerURL": "https://plot.ly"
       },
       "data": [
        {
         "customdata": [
          [
           1,
           "Toy Story (1995)",
           1995,
           452
          ],
          [
           2,
           "GoldenEye (1995)",
           1995,
           131
          ],
          [
           3,
           "Four Rooms (1995)",
           1995,
           90
          ],
          [
           4,
           "Get Shorty (1995)",
           1995,
           209
          ],
          [
           5,
           "Copycat (1995)",
           1995,
           86
          ],
          [
           6,
           "Shanghai Triad (Yao a yao yao dao waipo qiao) (1995)",
           1995,
           26
          ],
          [
           7,
           "Twelve Monkeys (1995)",
           1995,
           392
          ],
          [
           8,
           "Babe (1995)",
           1995,
           219
          ],
          [
           9,
           "Dead Man Walking (1995)",
           1995,
           299
          ],
          [
           10,
           "Richard III (1995)",
           1996,
           89
          ],
          [
           11,
           "Seven (Se7en) (1995)",
           1995,
           236
          ],
          [
           12,
           "Usual Suspects, The (1995)",
           1995,
           267
          ],
          [
           13,
           "Mighty Aphrodite (1995)",
           1995,
           184
          ],
          [
           14,
           "Postino, Il (1994)",
           1994,
           183
          ],
          [
           15,
           "Mr. Holland's Opus (1995)",
           1996,
           293
          ],
          [
           16,
           "French Twist (Gazon maudit) (1995)",
           1995,
           39
          ],
          [
           17,
           "From Dusk Till Dawn (1996)",
           1996,
           92
          ],
          [
           18,
           "White Balloon, The (1995)",
           1995,
           10
          ],
          [
           19,
           "Antonia's Line (1995)",
           1995,
           69
          ],
          [
           20,
           "Angels and Insects (1995)",
           1995,
           72
          ],
          [
           21,
           "Muppet Treasure Island (1996)",
           1996,
           84
          ],
          [
           22,
           "Braveheart (1995)",
           1996,
           297
          ],
          [
           23,
           "Taxi Driver (1976)",
           1996,
           182
          ],
          [
           24,
           "Rumble in the Bronx (1995)",
           1996,
           174
          ],
          [
           25,
           "Birdcage, The (1996)",
           1996,
           293
          ],
          [
           26,
           "Brothers McMullen, The (1995)",
           1995,
           73
          ],
          [
           27,
           "Bad Boys (1995)",
           1995,
           57
          ],
          [
           28,
           "Apollo 13 (1995)",
           1995,
           276
          ],
          [
           29,
           "Batman Forever (1995)",
           1995,
           114
          ],
          [
           30,
           "Belle de jour (1967)",
           1967,
           37
          ],
          [
           31,
           "Crimson Tide (1995)",
           1995,
           154
          ],
          [
           32,
           "Crumb (1994)",
           1994,
           81
          ],
          [
           33,
           "Desperado (1995)",
           1995,
           97
          ],
          [
           34,
           "Doom Generation, The (1995)",
           1995,
           7
          ],
          [
           35,
           "Free Willy 2: The Adventure Home (1995)",
           1995,
           11
          ],
          [
           36,
           "Mad Love (1995)",
           1995,
           13
          ],
          [
           37,
           "Nadja (1994)",
           1994,
           8
          ],
          [
           38,
           "Net, The (1995)",
           1995,
           120
          ],
          [
           39,
           "Strange Days (1995)",
           1995,
           87
          ],
          [
           40,
           "To Wong Foo, Thanks for Everything! Julie Newmar (1995)",
           1995,
           57
          ],
          [
           41,
           "Billy Madison (1995)",
           1995,
           37
          ],
          [
           42,
           "Clerks (1994)",
           1994,
           148
          ],
          [
           43,
           "Disclosure (1994)",
           1994,
           40
          ],
          [
           44,
           "Dolores Claiborne (1994)",
           1994,
           79
          ],
          [
           45,
           "Eat Drink Man Woman (1994)",
           1994,
           80
          ],
          [
           46,
           "Exotica (1994)",
           1994,
           27
          ],
          [
           47,
           "Ed Wood (1994)",
           1994,
           133
          ],
          [
           48,
           "Hoop Dreams (1994)",
           1994,
           117
          ],
          [
           49,
           "I.Q. (1994)",
           1994,
           81
          ],
          [
           50,
           "Star Wars (1977)",
           1977,
           583
          ],
          [
           51,
           "Legends of the Fall (1994)",
           1994,
           81
          ],
          [
           52,
           "Madness of King George, The (1994)",
           1994,
           91
          ],
          [
           53,
           "Natural Born Killers (1994)",
           1994,
           128
          ],
          [
           54,
           "Outbreak (1995)",
           1995,
           104
          ],
          [
           55,
           "Professional, The (1994)",
           1994,
           149
          ],
          [
           56,
           "Pulp Fiction (1994)",
           1994,
           394
          ],
          [
           57,
           "Priest (1994)",
           1994,
           40
          ],
          [
           58,
           "Quiz Show (1994)",
           1994,
           175
          ],
          [
           59,
           "Three Colors: Red (1994)",
           1994,
           83
          ],
          [
           60,
           "Three Colors: Blue (1993)",
           1993,
           64
          ],
          [
           61,
           "Three Colors: White (1994)",
           1994,
           59
          ],
          [
           62,
           "Stargate (1994)",
           1994,
           127
          ],
          [
           63,
           "Santa Clause, The (1994)",
           1994,
           82
          ],
          [
           64,
           "Shawshank Redemption, The (1994)",
           1994,
           283
          ],
          [
           65,
           "What's Eating Gilbert Grape (1993)",
           1993,
           115
          ],
          [
           66,
           "While You Were Sleeping (1995)",
           1995,
           162
          ],
          [
           67,
           "Ace Ventura: Pet Detective (1994)",
           1994,
           103
          ],
          [
           68,
           "Crow, The (1994)",
           1994,
           134
          ],
          [
           69,
           "Forrest Gump (1994)",
           1994,
           321
          ],
          [
           70,
           "Four Weddings and a Funeral (1994)",
           1994,
           251
          ],
          [
           71,
           "Lion King, The (1994)",
           1994,
           220
          ],
          [
           72,
           "Mask, The (1994)",
           1994,
           129
          ],
          [
           73,
           "Maverick (1994)",
           1994,
           128
          ],
          [
           74,
           "Faster Pussycat! Kill! Kill! (1965)",
           1965,
           7
          ],
          [
           75,
           "Brother Minister: The Assassination of Malcolm X (1994)",
           1994,
           5
          ],
          [
           76,
           "Carlito's Way (1993)",
           1993,
           54
          ],
          [
           77,
           "Firm, The (1993)",
           1993,
           151
          ],
          [
           78,
           "Free Willy (1993)",
           1993,
           33
          ],
          [
           79,
           "Fugitive, The (1993)",
           1993,
           336
          ],
          [
           80,
           "Hot Shots! Part Deux (1993)",
           1993,
           68
          ],
          [
           81,
           "Hudsucker Proxy, The (1994)",
           1994,
           110
          ],
          [
           82,
           "Jurassic Park (1993)",
           1993,
           261
          ],
          [
           83,
           "Much Ado About Nothing (1993)",
           1993,
           176
          ],
          [
           84,
           "Robert A. Heinlein's The Puppet Masters (1994)",
           1994,
           18
          ],
          [
           85,
           "Ref, The (1994)",
           1994,
           58
          ],
          [
           86,
           "Remains of the Day, The (1993)",
           1993,
           150
          ],
          [
           87,
           "Searching for Bobby Fischer (1993)",
           1993,
           138
          ],
          [
           88,
           "Sleepless in Seattle (1993)",
           1993,
           213
          ],
          [
           89,
           "Blade Runner (1982)",
           1982,
           275
          ],
          [
           90,
           "So I Married an Axe Murderer (1993)",
           1993,
           95
          ],
          [
           91,
           "Nightmare Before Christmas, The (1993)",
           1993,
           143
          ],
          [
           92,
           "True Romance (1993)",
           1993,
           104
          ],
          [
           93,
           "Welcome to the Dollhouse (1995)",
           1996,
           112
          ],
          [
           94,
           "Home Alone (1990)",
           1990,
           137
          ],
          [
           95,
           "Aladdin (1992)",
           1992,
           219
          ],
          [
           96,
           "Terminator 2: Judgment Day (1991)",
           1991,
           295
          ],
          [
           97,
           "Dances with Wolves (1990)",
           1990,
           256
          ],
          [
           98,
           "Silence of the Lambs, The (1991)",
           1991,
           390
          ],
          [
           99,
           "Snow White and the Seven Dwarfs (1937)",
           1937,
           172
          ],
          [
           100,
           "Fargo (1996)",
           1997,
           508
          ],
          [
           101,
           "Heavy Metal (1981)",
           1981,
           73
          ],
          [
           102,
           "Aristocats, The (1970)",
           1970,
           54
          ],
          [
           103,
           "All Dogs Go to Heaven 2 (1996)",
           1996,
           15
          ],
          [
           104,
           "Theodore Rex (1995)",
           1996,
           5
          ],
          [
           105,
           "Sgt. Bilko (1996)",
           1996,
           74
          ],
          [
           106,
           "Diabolique (1996)",
           1996,
           71
          ],
          [
           107,
           "Moll Flanders (1996)",
           1996,
           42
          ],
          [
           108,
           "Kids in the Hall: Brain Candy (1996)",
           1996,
           65
          ],
          [
           109,
           "Mystery Science Theater 3000: The Movie (1996)",
           1996,
           130
          ],
          [
           110,
           "Operation Dumbo Drop (1995)",
           1995,
           31
          ],
          [
           111,
           "Truth About Cats & Dogs, The (1996)",
           1996,
           272
          ],
          [
           112,
           "Flipper (1996)",
           1996,
           20
          ],
          [
           113,
           "Horseman on the Roof, The (Hussard sur le toit, Le) (1995)",
           1996,
           9
          ],
          [
           114,
           "Wallace & Gromit: The Best of Aardman Animation (1996)",
           1996,
           67
          ],
          [
           115,
           "Haunted World of Edward D. Wood Jr., The (1995)",
           1996,
           15
          ],
          [
           116,
           "Cold Comfort Farm (1995)",
           1996,
           125
          ],
          [
           117,
           "Rock, The (1996)",
           1996,
           378
          ],
          [
           118,
           "Twister (1996)",
           1996,
           293
          ],
          [
           119,
           "Maya Lin: A Strong Clear Vision (1994)",
           1994,
           4
          ],
          [
           120,
           "Striptease (1996)",
           1996,
           67
          ],
          [
           121,
           "Independence Day (ID4) (1996)",
           1996,
           429
          ],
          [
           122,
           "Cable Guy, The (1996)",
           1996,
           106
          ],
          [
           123,
           "Frighteners, The (1996)",
           1996,
           115
          ],
          [
           124,
           "Lone Star (1996)",
           1996,
           187
          ],
          [
           125,
           "Phenomenon (1996)",
           1996,
           244
          ],
          [
           126,
           "Spitfire Grill, The (1996)",
           1996,
           97
          ],
          [
           127,
           "Godfather, The (1972)",
           1972,
           413
          ],
          [
           128,
           "Supercop (1992)",
           1996,
           65
          ],
          [
           129,
           "Bound (1996)",
           1996,
           129
          ],
          [
           130,
           "Kansas City (1996)",
           1996,
           23
          ],
          [
           131,
           "Breakfast at Tiffany's (1961)",
           1961,
           95
          ],
          [
           132,
           "Wizard of Oz, The (1939)",
           1939,
           246
          ],
          [
           133,
           "Gone with the Wind (1939)",
           1939,
           171
          ],
          [
           134,
           "Citizen Kane (1941)",
           1941,
           198
          ],
          [
           135,
           "2001: A Space Odyssey (1968)",
           1968,
           259
          ],
          [
           136,
           "Mr. Smith Goes to Washington (1939)",
           1939,
           105
          ],
          [
           137,
           "Big Night (1996)",
           1996,
           171
          ],
          [
           138,
           "D3: The Mighty Ducks (1996)",
           1996,
           19
          ],
          [
           139,
           "Love Bug, The (1969)",
           1969,
           50
          ],
          [
           140,
           "Homeward Bound: The Incredible Journey (1993)",
           1993,
           61
          ],
          [
           141,
           "20,000 Leagues Under the Sea (1954)",
           1954,
           72
          ],
          [
           142,
           "Bedknobs and Broomsticks (1971)",
           1971,
           57
          ],
          [
           143,
           "Sound of Music, The (1965)",
           1965,
           222
          ],
          [
           144,
           "Die Hard (1988)",
           1988,
           243
          ],
          [
           145,
           "Lawnmower Man, The (1992)",
           1992,
           65
          ],
          [
           146,
           "Unhook the Stars (1996)",
           1996,
           10
          ],
          [
           147,
           "Long Kiss Goodnight, The (1996)",
           1996,
           185
          ],
          [
           148,
           "Ghost and the Darkness, The (1996)",
           1996,
           128
          ],
          [
           149,
           "Jude (1996)",
           1996,
           23
          ],
          [
           150,
           "Swingers (1996)",
           1996,
           157
          ],
          [
           151,
           "Willy Wonka and the Chocolate Factory (1971)",
           1971,
           326
          ],
          [
           152,
           "Sleeper (1973)",
           1973,
           82
          ],
          [
           153,
           "Fish Called Wanda, A (1988)",
           1988,
           247
          ],
          [
           154,
           "Monty Python's Life of Brian (1979)",
           1979,
           174
          ],
          [
           155,
           "Dirty Dancing (1987)",
           1987,
           98
          ],
          [
           156,
           "Reservoir Dogs (1992)",
           1992,
           148
          ],
          [
           157,
           "Platoon (1986)",
           1986,
           127
          ],
          [
           158,
           "Weekend at Bernie's (1989)",
           1989,
           60
          ],
          [
           159,
           "Basic Instinct (1992)",
           1992,
           101
          ],
          [
           160,
           "Glengarry Glen Ross (1992)",
           1992,
           69
          ],
          [
           161,
           "Top Gun (1986)",
           1986,
           220
          ],
          [
           162,
           "On Golden Pond (1981)",
           1981,
           106
          ],
          [
           163,
           "Return of the Pink Panther, The (1974)",
           1974,
           92
          ],
          [
           164,
           "Abyss, The (1989)",
           1989,
           151
          ],
          [
           165,
           "Jean de Florette (1986)",
           1986,
           64
          ],
          [
           166,
           "Manon of the Spring (Manon des sources) (1986)",
           1986,
           58
          ],
          [
           167,
           "Private Benjamin (1980)",
           1980,
           67
          ],
          [
           168,
           "Monty Python and the Holy Grail (1974)",
           1974,
           316
          ],
          [
           169,
           "Wrong Trousers, The (1993)",
           1993,
           118
          ],
          [
           170,
           "Cinema Paradiso (1988)",
           1988,
           121
          ],
          [
           171,
           "Delicatessen (1991)",
           1991,
           65
          ],
          [
           172,
           "Empire Strikes Back, The (1980)",
           1980,
           367
          ],
          [
           173,
           "Princess Bride, The (1987)",
           1987,
           324
          ],
          [
           174,
           "Raiders of the Lost Ark (1981)",
           1981,
           420
          ],
          [
           175,
           "Brazil (1985)",
           1985,
           208
          ],
          [
           176,
           "Aliens (1986)",
           1986,
           284
          ],
          [
           177,
           "Good, The Bad and The Ugly, The (1966)",
           1966,
           137
          ],
          [
           178,
           "12 Angry Men (1957)",
           1957,
           125
          ],
          [
           179,
           "Clockwork Orange, A (1971)",
           1971,
           221
          ],
          [
           180,
           "Apocalypse Now (1979)",
           1979,
           221
          ],
          [
           181,
           "Return of the Jedi (1983)",
           1997,
           507
          ],
          [
           182,
           "GoodFellas (1990)",
           1990,
           226
          ],
          [
           183,
           "Alien (1979)",
           1979,
           291
          ],
          [
           184,
           "Army of Darkness (1993)",
           1993,
           116
          ],
          [
           185,
           "Psycho (1960)",
           1960,
           239
          ],
          [
           186,
           "Blues Brothers, The (1980)",
           1980,
           251
          ],
          [
           187,
           "Godfather: Part II, The (1974)",
           1974,
           209
          ],
          [
           188,
           "Full Metal Jacket (1987)",
           1987,
           170
          ],
          [
           189,
           "Grand Day Out, A (1992)",
           1992,
           66
          ],
          [
           190,
           "Henry V (1989)",
           1989,
           124
          ],
          [
           191,
           "Amadeus (1984)",
           1984,
           276
          ],
          [
           192,
           "Raging Bull (1980)",
           1980,
           116
          ],
          [
           193,
           "Right Stuff, The (1983)",
           1983,
           157
          ],
          [
           194,
           "Sting, The (1973)",
           1973,
           241
          ],
          [
           195,
           "Terminator, The (1984)",
           1984,
           301
          ],
          [
           196,
           "Dead Poets Society (1989)",
           1989,
           251
          ],
          [
           197,
           "Graduate, The (1967)",
           1967,
           239
          ],
          [
           198,
           "Nikita (La Femme Nikita) (1990)",
           1990,
           127
          ],
          [
           199,
           "Bridge on the River Kwai, The (1957)",
           1957,
           165
          ],
          [
           200,
           "Shining, The (1980)",
           1980,
           206
          ],
          [
           201,
           "Evil Dead II (1987)",
           1987,
           89
          ],
          [
           202,
           "Groundhog Day (1993)",
           1993,
           280
          ],
          [
           203,
           "Unforgiven (1992)",
           1992,
           182
          ],
          [
           204,
           "Back to the Future (1985)",
           1985,
           350
          ],
          [
           205,
           "Patton (1970)",
           1970,
           136
          ],
          [
           206,
           "Akira (1988)",
           1988,
           50
          ],
          [
           207,
           "Cyrano de Bergerac (1990)",
           1990,
           66
          ],
          [
           208,
           "Young Frankenstein (1974)",
           1974,
           200
          ],
          [
           209,
           "This Is Spinal Tap (1984)",
           1984,
           191
          ],
          [
           210,
           "Indiana Jones and the Last Crusade (1989)",
           1989,
           331
          ],
          [
           211,
           "M*A*S*H (1970)",
           1970,
           206
          ],
          [
           212,
           "Unbearable Lightness of Being, The (1988)",
           1988,
           92
          ],
          [
           213,
           "Room with a View, A (1986)",
           1986,
           134
          ],
          [
           214,
           "Pink Floyd - The Wall (1982)",
           1982,
           114
          ],
          [
           215,
           "Field of Dreams (1989)",
           1989,
           212
          ],
          [
           216,
           "When Harry Met Sally... (1989)",
           1989,
           290
          ],
          [
           217,
           "Bram Stoker's Dracula (1992)",
           1992,
           120
          ],
          [
           218,
           "Cape Fear (1991)",
           1991,
           171
          ],
          [
           219,
           "Nightmare on Elm Street, A (1984)",
           1984,
           111
          ],
          [
           220,
           "Mirror Has Two Faces, The (1996)",
           1996,
           66
          ],
          [
           221,
           "Breaking the Waves (1996)",
           1996,
           74
          ],
          [
           222,
           "Star Trek: First Contact (1996)",
           1996,
           365
          ],
          [
           223,
           "Sling Blade (1996)",
           1996,
           136
          ],
          [
           224,
           "Ridicule (1996)",
           1996,
           44
          ],
          [
           225,
           "101 Dalmatians (1996)",
           1996,
           109
          ],
          [
           226,
           "Die Hard 2 (1990)",
           1990,
           166
          ],
          [
           227,
           "Star Trek VI: The Undiscovered Country (1991)",
           1991,
           161
          ],
          [
           228,
           "Star Trek: The Wrath of Khan (1982)",
           1982,
           244
          ],
          [
           229,
           "Star Trek III: The Search for Spock (1984)",
           1984,
           171
          ],
          [
           230,
           "Star Trek IV: The Voyage Home (1986)",
           1986,
           199
          ],
          [
           231,
           "Batman Returns (1992)",
           1992,
           142
          ],
          [
           232,
           "Young Guns (1988)",
           1988,
           101
          ],
          [
           233,
           "Under Siege (1992)",
           1992,
           124
          ],
          [
           234,
           "Jaws (1975)",
           1975,
           280
          ],
          [
           235,
           "Mars Attacks! (1996)",
           1996,
           217
          ],
          [
           236,
           "Citizen Ruth (1996)",
           1996,
           45
          ],
          [
           237,
           "Jerry Maguire (1996)",
           1996,
           384
          ],
          [
           238,
           "Raising Arizona (1987)",
           1987,
           256
          ],
          [
           239,
           "Sneakers (1992)",
           1992,
           150
          ],
          [
           240,
           "Beavis and Butt-head Do America (1996)",
           1996,
           156
          ],
          [
           241,
           "Last of the Mohicans, The (1992)",
           1992,
           128
          ],
          [
           242,
           "Kolya (1996)",
           1997,
           117
          ],
          [
           243,
           "Jungle2Jungle (1997)",
           1997,
           132
          ],
          [
           244,
           "Smilla's Sense of Snow (1997)",
           1997,
           48
          ],
          [
           245,
           "Devil's Own, The (1997)",
           1997,
           240
          ],
          [
           246,
           "Chasing Amy (1997)",
           1997,
           124
          ],
          [
           247,
           "Turbo: A Power Rangers Movie (1997)",
           1997,
           5
          ],
          [
           248,
           "Grosse Pointe Blank (1997)",
           1997,
           160
          ],
          [
           249,
           "Austin Powers: International Man of Mystery (1997)",
           1997,
           130
          ],
          [
           250,
           "Fifth Element, The (1997)",
           1997,
           197
          ],
          [
           251,
           "Shall We Dance? (1996)",
           1997,
           46
          ],
          [
           252,
           "Lost World: Jurassic Park, The (1997)",
           1997,
           158
          ],
          [
           253,
           "Pillow Book, The (1995)",
           1997,
           26
          ],
          [
           254,
           "Batman & Robin (1997)",
           1997,
           62
          ],
          [
           255,
           "My Best Friend's Wedding (1997)",
           1997,
           172
          ],
          [
           256,
           "When the Cats Away (Chacun cherche son chat) (1996)",
           1997,
           16
          ],
          [
           257,
           "Men in Black (1997)",
           1997,
           303
          ],
          [
           258,
           "Contact (1997)",
           1997,
           509
          ],
          [
           259,
           "George of the Jungle (1997)",
           1997,
           162
          ],
          [
           260,
           "Event Horizon (1997)",
           1997,
           127
          ],
          [
           261,
           "Air Bud (1997)",
           1997,
           43
          ],
          [
           262,
           "In the Company of Men (1997)",
           1997,
           66
          ],
          [
           263,
           "Steel (1997)",
           1997,
           19
          ],
          [
           264,
           "Mimic (1997)",
           1997,
           101
          ],
          [
           265,
           "Hunt for Red October, The (1990)",
           1990,
           227
          ],
          [
           266,
           "Kull the Conqueror (1997)",
           1997,
           35
          ],
          [
           267,
           "unknown",
           1920,
           9
          ],
          [
           268,
           "Chasing Amy (1997)",
           1997,
           255
          ],
          [
           269,
           "Full Monty, The (1997)",
           1997,
           315
          ],
          [
           270,
           "Gattaca (1997)",
           1997,
           136
          ],
          [
           271,
           "Starship Troopers (1997)",
           1997,
           211
          ],
          [
           272,
           "Good Will Hunting (1997)",
           1997,
           198
          ],
          [
           273,
           "Heat (1995)",
           1995,
           223
          ],
          [
           274,
           "Sabrina (1995)",
           1995,
           190
          ],
          [
           275,
           "Sense and Sensibility (1995)",
           1995,
           268
          ],
          [
           276,
           "Leaving Las Vegas (1995)",
           1995,
           298
          ],
          [
           277,
           "Restoration (1995)",
           1995,
           71
          ],
          [
           278,
           "Bed of Roses (1996)",
           1996,
           60
          ],
          [
           279,
           "Once Upon a Time... When We Were Colored (1995)",
           1995,
           28
          ],
          [
           280,
           "Up Close and Personal (1996)",
           1996,
           85
          ],
          [
           281,
           "River Wild, The (1994)",
           1994,
           146
          ],
          [
           282,
           "Time to Kill, A (1996)",
           1996,
           232
          ],
          [
           283,
           "Emma (1996)",
           1996,
           177
          ],
          [
           284,
           "Tin Cup (1996)",
           1996,
           193
          ],
          [
           285,
           "Secrets & Lies (1996)",
           1996,
           162
          ],
          [
           286,
           "English Patient, The (1996)",
           1996,
           481
          ],
          [
           287,
           "Marvin's Room (1996)",
           1996,
           78
          ],
          [
           288,
           "Scream (1996)",
           1996,
           478
          ],
          [
           289,
           "Evita (1996)",
           1996,
           259
          ],
          [
           290,
           "Fierce Creatures (1997)",
           1997,
           96
          ],
          [
           291,
           "Absolute Power (1997)",
           1997,
           127
          ],
          [
           292,
           "Rosewood (1997)",
           1997,
           114
          ],
          [
           293,
           "Donnie Brasco (1997)",
           1997,
           147
          ],
          [
           294,
           "Liar Liar (1997)",
           1997,
           485
          ],
          [
           295,
           "Breakdown (1997)",
           1997,
           77
          ],
          [
           296,
           "Promesse, La (1996)",
           1997,
           6
          ],
          [
           297,
           "Ulee's Gold (1997)",
           1997,
           50
          ],
          [
           298,
           "Face/Off (1997)",
           1997,
           194
          ],
          [
           299,
           "Hoodlum (1997)",
           1997,
           73
          ],
          [
           300,
           "Air Force One (1997)",
           1997,
           431
          ],
          [
           301,
           "In & Out (1997)",
           1997,
           230
          ],
          [
           302,
           "L.A. Confidential (1997)",
           1997,
           297
          ],
          [
           303,
           "Ulee's Gold (1997)",
           1997,
           134
          ],
          [
           304,
           "Fly Away Home (1996)",
           1996,
           149
          ],
          [
           305,
           "Ice Storm, The (1997)",
           1997,
           87
          ],
          [
           306,
           "Mrs. Brown (Her Majesty, Mrs. Brown) (1997)",
           1997,
           96
          ],
          [
           307,
           "Devil's Advocate, The (1997)",
           1997,
           188
          ],
          [
           308,
           "FairyTale: A True Story (1997)",
           1997,
           30
          ],
          [
           309,
           "Deceiver (1997)",
           1997,
           28
          ],
          [
           310,
           "Rainmaker, The (1997)",
           1997,
           145
          ],
          [
           311,
           "Wings of the Dove, The (1997)",
           1997,
           75
          ],
          [
           312,
           "Midnight in the Garden of Good and Evil (1997)",
           1997,
           80
          ],
          [
           313,
           "Titanic (1997)",
           1997,
           350
          ],
          [
           314,
           "3 Ninjas: High Noon At Mega Mountain (1998)",
           1997,
           5
          ],
          [
           315,
           "Apt Pupil (1998)",
           1998,
           160
          ],
          [
           316,
           "As Good As It Gets (1997)",
           1997,
           112
          ],
          [
           317,
           "In the Name of the Father (1993)",
           1993,
           102
          ],
          [
           318,
           "Schindler's List (1993)",
           1993,
           298
          ],
          [
           319,
           "Everyone Says I Love You (1996)",
           1996,
           168
          ],
          [
           320,
           "Paradise Lost: The Child Murders at Robin Hood Hills (1996)",
           1996,
           20
          ],
          [
           321,
           "Mother (1996)",
           1996,
           169
          ],
          [
           322,
           "Murder at 1600 (1997)",
           1997,
           218
          ],
          [
           323,
           "Dante's Peak (1997)",
           1997,
           240
          ],
          [
           324,
           "Lost Highway (1997)",
           1997,
           125
          ],
          [
           325,
           "Crash (1996)",
           1997,
           128
          ],
          [
           326,
           "G.I. Jane (1997)",
           1997,
           175
          ],
          [
           327,
           "Cop Land (1997)",
           1997,
           175
          ],
          [
           328,
           "Conspiracy Theory (1997)",
           1997,
           295
          ],
          [
           329,
           "Desperate Measures (1998)",
           1998,
           45
          ],
          [
           330,
           "187 (1997)",
           1997,
           41
          ],
          [
           331,
           "Edge, The (1997)",
           1997,
           113
          ],
          [
           332,
           "Kiss the Girls (1997)",
           1997,
           143
          ],
          [
           333,
           "Game, The (1997)",
           1997,
           251
          ],
          [
           334,
           "U Turn (1997)",
           1997,
           64
          ],
          [
           335,
           "How to Be a Player (1997)",
           1997,
           21
          ],
          [
           336,
           "Playing God (1997)",
           1997,
           43
          ],
          [
           337,
           "House of Yes, The (1997)",
           1997,
           18
          ],
          [
           338,
           "Bean (1997)",
           1997,
           91
          ],
          [
           339,
           "Mad City (1997)",
           1997,
           47
          ],
          [
           340,
           "Boogie Nights (1997)",
           1997,
           189
          ],
          [
           341,
           "Critical Care (1997)",
           1997,
           11
          ],
          [
           342,
           "Man Who Knew Too Little, The (1997)",
           1997,
           52
          ],
          [
           343,
           "Alien: Resurrection (1997)",
           1997,
           124
          ],
          [
           344,
           "Apostle, The (1997)",
           1997,
           55
          ],
          [
           345,
           "Deconstructing Harry (1997)",
           1997,
           65
          ],
          [
           346,
           "Jackie Brown (1997)",
           1997,
           126
          ],
          [
           347,
           "Wag the Dog (1997)",
           1998,
           137
          ],
          [
           348,
           "Desperate Measures (1998)",
           1998,
           27
          ],
          [
           349,
           "Hard Rain (1998)",
           1998,
           31
          ],
          [
           350,
           "Fallen (1998)",
           1998,
           41
          ],
          [
           351,
           "Prophecy II, The (1998)",
           1998,
           20
          ],
          [
           352,
           "Spice World (1997)",
           1997,
           26
          ],
          [
           353,
           "Deep Rising (1998)",
           1998,
           14
          ],
          [
           354,
           "Wedding Singer, The (1998)",
           1998,
           72
          ],
          [
           355,
           "Sphere (1998)",
           1998,
           41
          ],
          [
           356,
           "Client, The (1994)",
           1994,
           97
          ],
          [
           357,
           "One Flew Over the Cuckoo's Nest (1975)",
           1975,
           264
          ],
          [
           358,
           "Spawn (1997)",
           1997,
           143
          ],
          [
           359,
           "Assignment, The (1997)",
           1997,
           18
          ],
          [
           360,
           "Wonderland (1997)",
           1997,
           10
          ],
          [
           361,
           "Incognito (1997)",
           1997,
           10
          ],
          [
           362,
           "Blues Brothers 2000 (1998)",
           1998,
           28
          ],
          [
           363,
           "Sudden Death (1995)",
           1995,
           47
          ],
          [
           364,
           "Ace Ventura: When Nature Calls (1995)",
           1995,
           37
          ],
          [
           365,
           "Powder (1995)",
           1995,
           48
          ],
          [
           366,
           "Dangerous Minds (1995)",
           1995,
           47
          ],
          [
           367,
           "Clueless (1995)",
           1995,
           170
          ],
          [
           368,
           "Bio-Dome (1996)",
           1996,
           31
          ],
          [
           369,
           "Black Sheep (1996)",
           1996,
           55
          ],
          [
           370,
           "Mary Reilly (1996)",
           1996,
           39
          ],
          [
           371,
           "Bridges of Madison County, The (1995)",
           1996,
           67
          ],
          [
           372,
           "Jeffrey (1995)",
           1995,
           34
          ],
          [
           373,
           "Judge Dredd (1995)",
           1995,
           39
          ],
          [
           374,
           "Mighty Morphin Power Rangers: The Movie (1995)",
           1995,
           11
          ],
          [
           375,
           "Showgirls (1995)",
           1995,
           23
          ],
          [
           376,
           "Houseguest (1994)",
           1994,
           24
          ],
          [
           377,
           "Heavyweights (1994)",
           1994,
           13
          ],
          [
           378,
           "Miracle on 34th Street (1994)",
           1994,
           101
          ],
          [
           379,
           "Tales From the Crypt Presents: Demon Knight (1995)",
           1995,
           43
          ],
          [
           380,
           "Star Trek: Generations (1994)",
           1994,
           116
          ],
          [
           381,
           "Muriel's Wedding (1994)",
           1994,
           100
          ],
          [
           382,
           "Adventures of Priscilla, Queen of the Desert, The (1994)",
           1994,
           111
          ],
          [
           383,
           "Flintstones, The (1994)",
           1994,
           31
          ],
          [
           384,
           "Naked Gun 33 1/3: The Final Insult (1994)",
           1994,
           69
          ],
          [
           385,
           "True Lies (1994)",
           1994,
           208
          ],
          [
           386,
           "Addams Family Values (1993)",
           1993,
           87
          ],
          [
           387,
           "Age of Innocence, The (1993)",
           1993,
           65
          ],
          [
           388,
           "Beverly Hills Cop III (1994)",
           1994,
           28
          ],
          [
           389,
           "Black Beauty (1994)",
           1994,
           27
          ],
          [
           390,
           "Fear of a Black Hat (1993)",
           1993,
           10
          ],
          [
           391,
           "Last Action Hero (1993)",
           1993,
           59
          ],
          [
           392,
           "Man Without a Face, The (1993)",
           1993,
           68
          ],
          [
           393,
           "Mrs. Doubtfire (1993)",
           1993,
           192
          ],
          [
           394,
           "Radioland Murders (1994)",
           1994,
           12
          ],
          [
           395,
           "Robin Hood: Men in Tights (1993)",
           1993,
           56
          ],
          [
           396,
           "Serial Mom (1994)",
           1994,
           54
          ],
          [
           397,
           "Striking Distance (1993)",
           1993,
           12
          ],
          [
           398,
           "Super Mario Bros. (1993)",
           1993,
           26
          ],
          [
           399,
           "Three Musketeers, The (1993)",
           1993,
           89
          ],
          [
           400,
           "Little Rascals, The (1994)",
           1994,
           18
          ],
          [
           401,
           "Brady Bunch Movie, The (1995)",
           1995,
           76
          ],
          [
           402,
           "Ghost (1990)",
           1990,
           170
          ],
          [
           403,
           "Batman (1989)",
           1989,
           201
          ],
          [
           404,
           "Pinocchio (1940)",
           1940,
           101
          ],
          [
           405,
           "Mission: Impossible (1996)",
           1996,
           344
          ],
          [
           406,
           "Thinner (1996)",
           1996,
           49
          ],
          [
           407,
           "Spy Hard (1996)",
           1996,
           43
          ],
          [
           408,
           "Close Shave, A (1995)",
           1996,
           112
          ],
          [
           409,
           "Jack (1996)",
           1996,
           70
          ],
          [
           410,
           "Kingpin (1996)",
           1996,
           162
          ],
          [
           411,
           "Nutty Professor, The (1996)",
           1996,
           163
          ],
          [
           412,
           "Very Brady Sequel, A (1996)",
           1996,
           93
          ],
          [
           413,
           "Tales from the Crypt Presents: Bordello of Blood (1996)",
           1996,
           55
          ],
          [
           414,
           "My Favorite Year (1982)",
           1982,
           62
          ],
          [
           415,
           "Apple Dumpling Gang, The (1975)",
           1975,
           25
          ],
          [
           416,
           "Old Yeller (1957)",
           1957,
           64
          ],
          [
           417,
           "Parent Trap, The (1961)",
           1961,
           73
          ],
          [
           418,
           "Cinderella (1950)",
           1950,
           129
          ],
          [
           419,
           "Mary Poppins (1964)",
           1964,
           178
          ],
          [
           420,
           "Alice in Wonderland (1951)",
           1951,
           81
          ],
          [
           421,
           "William Shakespeare's Romeo and Juliet (1996)",
           1996,
           106
          ],
          [
           422,
           "Aladdin and the King of Thieves (1996)",
           1996,
           26
          ],
          [
           423,
           "E.T. the Extra-Terrestrial (1982)",
           1982,
           300
          ],
          [
           424,
           "Children of the Corn: The Gathering (1996)",
           1996,
           19
          ],
          [
           425,
           "Bob Roberts (1992)",
           1992,
           85
          ],
          [
           426,
           "Transformers: The Movie, The (1986)",
           1986,
           32
          ],
          [
           427,
           "To Kill a Mockingbird (1962)",
           1962,
           219
          ],
          [
           428,
           "Harold and Maude (1971)",
           1971,
           121
          ],
          [
           429,
           "Day the Earth Stood Still, The (1951)",
           1951,
           97
          ],
          [
           430,
           "Duck Soup (1933)",
           1933,
           93
          ],
          [
           431,
           "Highlander (1986)",
           1986,
           153
          ],
          [
           432,
           "Fantasia (1940)",
           1940,
           174
          ],
          [
           433,
           "Heathers (1989)",
           1989,
           171
          ],
          [
           434,
           "Forbidden Planet (1956)",
           1956,
           67
          ],
          [
           435,
           "Butch Cassidy and the Sundance Kid (1969)",
           1969,
           216
          ],
          [
           436,
           "American Werewolf in London, An (1981)",
           1981,
           99
          ],
          [
           437,
           "Amityville 1992: It's About Time (1992)",
           1992,
           5
          ],
          [
           438,
           "Amityville 3-D (1983)",
           1983,
           6
          ],
          [
           439,
           "Amityville: A New Generation (1993)",
           1993,
           5
          ],
          [
           440,
           "Amityville II: The Possession (1982)",
           1982,
           14
          ],
          [
           441,
           "Amityville Horror, The (1979)",
           1979,
           53
          ],
          [
           442,
           "Amityville Curse, The (1990)",
           1990,
           4
          ],
          [
           443,
           "Birds, The (1963)",
           1963,
           162
          ],
          [
           444,
           "Blob, The (1958)",
           1958,
           46
          ],
          [
           445,
           "Body Snatcher, The (1945)",
           1945,
           22
          ],
          [
           446,
           "Burnt Offerings (1976)",
           1976,
           9
          ],
          [
           447,
           "Carrie (1976)",
           1976,
           121
          ],
          [
           448,
           "Omen, The (1976)",
           1976,
           85
          ],
          [
           449,
           "Star Trek: The Motion Picture (1979)",
           1979,
           117
          ],
          [
           450,
           "Star Trek V: The Final Frontier (1989)",
           1989,
           63
          ],
          [
           451,
           "Grease (1978)",
           1978,
           170
          ],
          [
           452,
           "Jaws 2 (1978)",
           1978,
           66
          ],
          [
           453,
           "Jaws 3-D (1983)",
           1983,
           16
          ],
          [
           454,
           "Bastard Out of Carolina (1996)",
           1996,
           16
          ],
          [
           455,
           "Jackie Chan's First Strike (1996)",
           1997,
           145
          ],
          [
           456,
           "Beverly Hills Ninja (1997)",
           1997,
           48
          ],
          [
           457,
           "Free Willy 3: The Rescue (1997)",
           1997,
           27
          ],
          [
           458,
           "Nixon (1995)",
           1995,
           90
          ],
          [
           459,
           "Cry, the Beloved Country (1995)",
           1995,
           24
          ],
          [
           460,
           "Crossing Guard, The (1995)",
           1995,
           28
          ],
          [
           461,
           "Smoke (1995)",
           1995,
           74
          ],
          [
           462,
           "Like Water For Chocolate (Como agua para chocolate) (1992)",
           1992,
           148
          ],
          [
           463,
           "Secret of Roan Inish, The (1994)",
           1994,
           71
          ],
          [
           464,
           "Vanya on 42nd Street (1994)",
           1994,
           27
          ],
          [
           465,
           "Jungle Book, The (1994)",
           1994,
           85
          ],
          [
           466,
           "Red Rock West (1992)",
           1992,
           52
          ],
          [
           467,
           "Bronx Tale, A (1993)",
           1993,
           48
          ],
          [
           468,
           "Rudy (1993)",
           1993,
           64
          ],
          [
           469,
           "Short Cuts (1993)",
           1993,
           67
          ],
          [
           470,
           "Tombstone (1993)",
           1993,
           108
          ],
          [
           471,
           "Courage Under Fire (1996)",
           1996,
           221
          ],
          [
           472,
           "Dragonheart (1996)",
           1996,
           158
          ],
          [
           473,
           "James and the Giant Peach (1996)",
           1996,
           126
          ],
          [
           474,
           "Dr. Strangelove or: How I Learned to Stop Worrying and Love the Bomb (1963)",
           1963,
           194
          ],
          [
           475,
           "Trainspotting (1996)",
           1996,
           250
          ],
          [
           476,
           "First Wives Club, The (1996)",
           1996,
           160
          ],
          [
           477,
           "Matilda (1996)",
           1996,
           95
          ],
          [
           478,
           "Philadelphia Story, The (1940)",
           1940,
           104
          ],
          [
           479,
           "Vertigo (1958)",
           1958,
           179
          ],
          [
           480,
           "North by Northwest (1959)",
           1959,
           179
          ],
          [
           481,
           "Apartment, The (1960)",
           1960,
           63
          ],
          [
           482,
           "Some Like It Hot (1959)",
           1959,
           128
          ],
          [
           483,
           "Casablanca (1942)",
           1942,
           243
          ],
          [
           484,
           "Maltese Falcon, The (1941)",
           1941,
           138
          ],
          [
           485,
           "My Fair Lady (1964)",
           1964,
           125
          ],
          [
           486,
           "Sabrina (1954)",
           1954,
           64
          ],
          [
           487,
           "Roman Holiday (1953)",
           1953,
           68
          ],
          [
           488,
           "Sunset Blvd. (1950)",
           1950,
           65
          ],
          [
           489,
           "Notorious (1946)",
           1946,
           52
          ],
          [
           490,
           "To Catch a Thief (1955)",
           1955,
           50
          ],
          [
           491,
           "Adventures of Robin Hood, The (1938)",
           1938,
           67
          ],
          [
           492,
           "East of Eden (1955)",
           1955,
           59
          ],
          [
           493,
           "Thin Man, The (1934)",
           1934,
           60
          ],
          [
           494,
           "His Girl Friday (1940)",
           1940,
           56
          ],
          [
           495,
           "Around the World in 80 Days (1956)",
           1956,
           59
          ],
          [
           496,
           "It's a Wonderful Life (1946)",
           1946,
           231
          ],
          [
           497,
           "Bringing Up Baby (1938)",
           1938,
           68
          ],
          [
           498,
           "African Queen, The (1951)",
           1951,
           152
          ],
          [
           499,
           "Cat on a Hot Tin Roof (1958)",
           1958,
           62
          ],
          [
           500,
           "Fly Away Home (1996)",
           1996,
           31
          ],
          [
           501,
           "Dumbo (1941)",
           1941,
           123
          ],
          [
           502,
           "Bananas (1971)",
           1971,
           57
          ],
          [
           503,
           "Candidate, The (1972)",
           1972,
           39
          ],
          [
           504,
           "Bonnie and Clyde (1967)",
           1967,
           122
          ],
          [
           505,
           "Dial M for Murder (1954)",
           1954,
           68
          ],
          [
           506,
           "Rebel Without a Cause (1955)",
           1955,
           90
          ],
          [
           507,
           "Streetcar Named Desire, A (1951)",
           1951,
           98
          ],
          [
           508,
           "People vs. Larry Flynt, The (1996)",
           1996,
           215
          ],
          [
           509,
           "My Left Foot (1989)",
           1989,
           121
          ],
          [
           510,
           "Magnificent Seven, The (1954)",
           1954,
           121
          ],
          [
           511,
           "Lawrence of Arabia (1962)",
           1962,
           173
          ],
          [
           512,
           "Wings of Desire (1987)",
           1987,
           57
          ],
          [
           513,
           "Third Man, The (1949)",
           1949,
           72
          ],
          [
           514,
           "Annie Hall (1977)",
           1977,
           180
          ],
          [
           515,
           "Boot, Das (1981)",
           1997,
           201
          ],
          [
           516,
           "Local Hero (1983)",
           1983,
           63
          ],
          [
           517,
           "Manhattan (1979)",
           1979,
           91
          ],
          [
           518,
           "Miller's Crossing (1990)",
           1990,
           89
          ],
          [
           519,
           "Treasure of the Sierra Madre, The (1948)",
           1948,
           80
          ],
          [
           520,
           "Great Escape, The (1963)",
           1963,
           124
          ],
          [
           521,
           "Deer Hunter, The (1978)",
           1978,
           120
          ],
          [
           522,
           "Down by Law (1986)",
           1986,
           35
          ],
          [
           523,
           "Cool Hand Luke (1967)",
           1967,
           164
          ],
          [
           524,
           "Great Dictator, The (1940)",
           1940,
           46
          ],
          [
           525,
           "Big Sleep, The (1946)",
           1946,
           73
          ],
          [
           526,
           "Ben-Hur (1959)",
           1959,
           124
          ],
          [
           527,
           "Gandhi (1982)",
           1982,
           195
          ],
          [
           528,
           "Killing Fields, The (1984)",
           1984,
           121
          ],
          [
           529,
           "My Life as a Dog (Mitt liv som hund) (1985)",
           1985,
           93
          ],
          [
           530,
           "Man Who Would Be King, The (1975)",
           1975,
           80
          ],
          [
           531,
           "Shine (1996)",
           1996,
           129
          ],
          [
           532,
           "Kama Sutra: A Tale of Love (1996)",
           1997,
           22
          ],
          [
           533,
           "Daytrippers, The (1996)",
           1997,
           15
          ],
          [
           534,
           "Traveller (1997)",
           1997,
           13
          ],
          [
           535,
           "Addicted to Love (1997)",
           1997,
           54
          ],
          [
           536,
           "Ponette (1996)",
           1997,
           10
          ],
          [
           537,
           "My Own Private Idaho (1991)",
           1991,
           30
          ],
          [
           538,
           "Anastasia (1997)",
           1997,
           66
          ],
          [
           539,
           "Mouse Hunt (1997)",
           1997,
           44
          ],
          [
           540,
           "Money Train (1995)",
           1995,
           43
          ],
          [
           541,
           "Mortal Kombat (1995)",
           1995,
           49
          ],
          [
           542,
           "Pocahontas (1995)",
           1995,
           51
          ],
          [
           543,
           "Misérables, Les (1995)",
           1995,
           21
          ],
          [
           544,
           "Things to Do in Denver when You're Dead (1995)",
           1996,
           71
          ],
          [
           545,
           "Vampire in Brooklyn (1995)",
           1995,
           12
          ],
          [
           546,
           "Broken Arrow (1996)",
           1996,
           254
          ],
          [
           547,
           "Young Poisoner's Handbook, The (1995)",
           1996,
           41
          ],
          [
           548,
           "NeverEnding Story III, The (1994)",
           1996,
           12
          ],
          [
           549,
           "Rob Roy (1995)",
           1995,
           92
          ],
          [
           550,
           "Die Hard: With a Vengeance (1995)",
           1995,
           151
          ],
          [
           551,
           "Lord of Illusions (1995)",
           1995,
           24
          ],
          [
           552,
           "Species (1995)",
           1995,
           45
          ],
          [
           553,
           "Walk in the Clouds, A (1995)",
           1995,
           63
          ],
          [
           554,
           "Waterworld (1995)",
           1995,
           102
          ],
          [
           555,
           "White Man's Burden (1995)",
           1995,
           10
          ],
          [
           556,
           "Wild Bill (1995)",
           1995,
           12
          ],
          [
           557,
           "Farinelli: il castrato (1994)",
           1994,
           17
          ],
          [
           558,
           "Heavenly Creatures (1994)",
           1994,
           70
          ],
          [
           559,
           "Interview with the Vampire (1994)",
           1994,
           137
          ],
          [
           560,
           "Kid in King Arthur's Court, A (1995)",
           1995,
           22
          ],
          [
           561,
           "Mary Shelley's Frankenstein (1994)",
           1994,
           59
          ],
          [
           562,
           "Quick and the Dead, The (1995)",
           1995,
           48
          ],
          [
           563,
           "Stephen King's The Langoliers (1995)",
           1995,
           29
          ],
          [
           564,
           "Tales from the Hood (1995)",
           1995,
           27
          ],
          [
           565,
           "Village of the Damned (1995)",
           1995,
           22
          ],
          [
           566,
           "Clear and Present Danger (1994)",
           1994,
           179
          ],
          [
           567,
           "Wes Craven's New Nightmare (1994)",
           1994,
           35
          ],
          [
           568,
           "Speed (1994)",
           1994,
           230
          ],
          [
           569,
           "Wolf (1994)",
           1994,
           67
          ],
          [
           570,
           "Wyatt Earp (1994)",
           1994,
           50
          ],
          [
           571,
           "Another Stakeout (1993)",
           1993,
           28
          ],
          [
           572,
           "Blown Away (1994)",
           1994,
           29
          ],
          [
           573,
           "Body Snatchers (1993)",
           1993,
           33
          ],
          [
           574,
           "Boxing Helena (1993)",
           1993,
           15
          ],
          [
           575,
           "City Slickers II: The Legend of Curly's Gold (1994)",
           1994,
           44
          ],
          [
           576,
           "Cliffhanger (1993)",
           1993,
           93
          ],
          [
           577,
           "Coneheads (1993)",
           1993,
           41
          ],
          [
           578,
           "Demolition Man (1993)",
           1993,
           92
          ],
          [
           579,
           "Fatal Instinct (1993)",
           1993,
           19
          ],
          [
           580,
           "Englishman Who Went Up a Hill, But Came Down a Mountain, The (1995)",
           1995,
           32
          ],
          [
           581,
           "Kalifornia (1993)",
           1993,
           59
          ],
          [
           582,
           "Piano, The (1993)",
           1993,
           168
          ],
          [
           583,
           "Romeo Is Bleeding (1993)",
           1993,
           37
          ],
          [
           584,
           "Secret Garden, The (1993)",
           1993,
           79
          ],
          [
           585,
           "Son in Law (1993)",
           1993,
           39
          ],
          [
           586,
           "Terminal Velocity (1994)",
           1994,
           34
          ],
          [
           587,
           "Hour of the Pig, The (1993)",
           1993,
           14
          ],
          [
           588,
           "Beauty and the Beast (1991)",
           1991,
           202
          ],
          [
           589,
           "Wild Bunch, The (1969)",
           1969,
           43
          ],
          [
           590,
           "Hellraiser: Bloodline (1996)",
           1996,
           18
          ],
          [
           591,
           "Primal Fear (1996)",
           1996,
           178
          ],
          [
           592,
           "True Crime (1995)",
           1995,
           9
          ],
          [
           593,
           "Stalingrad (1993)",
           1993,
           12
          ],
          [
           594,
           "Heavy (1995)",
           1996,
           5
          ],
          [
           595,
           "Fan, The (1996)",
           1996,
           64
          ],
          [
           596,
           "Hunchback of Notre Dame, The (1996)",
           1996,
           127
          ],
          [
           597,
           "Eraser (1996)",
           1996,
           206
          ],
          [
           598,
           "Big Squeeze, The (1996)",
           1996,
           4
          ],
          [
           599,
           "Police Story 4: Project S (Chao ji ji hua) (1993)",
           1996,
           1
          ],
          [
           600,
           "Daniel Defoe's Robinson Crusoe (1996)",
           1996,
           2
          ],
          [
           601,
           "For Whom the Bell Tolls (1943)",
           1943,
           20
          ],
          [
           602,
           "American in Paris, An (1951)",
           1951,
           50
          ],
          [
           603,
           "Rear Window (1954)",
           1954,
           209
          ],
          [
           604,
           "It Happened One Night (1934)",
           1934,
           81
          ],
          [
           605,
           "Meet Me in St. Louis (1944)",
           1944,
           31
          ],
          [
           606,
           "All About Eve (1950)",
           1950,
           66
          ],
          [
           607,
           "Rebecca (1940)",
           1940,
           66
          ],
          [
           608,
           "Spellbound (1945)",
           1945,
           30
          ],
          [
           609,
           "Father of the Bride (1950)",
           1950,
           60
          ],
          [
           610,
           "Gigi (1958)",
           1958,
           41
          ],
          [
           611,
           "Laura (1944)",
           1944,
           40
          ],
          [
           612,
           "Lost Horizon (1937)",
           1937,
           34
          ],
          [
           613,
           "My Man Godfrey (1936)",
           1936,
           27
          ],
          [
           614,
           "Giant (1956)",
           1956,
           51
          ],
          [
           615,
           "39 Steps, The (1935)",
           1935,
           59
          ],
          [
           616,
           "Night of the Living Dead (1968)",
           1968,
           64
          ],
          [
           617,
           "Blue Angel, The (Blaue Engel, Der) (1930)",
           1930,
           18
          ],
          [
           618,
           "Picnic (1955)",
           1955,
           18
          ],
          [
           619,
           "Extreme Measures (1996)",
           1996,
           64
          ],
          [
           620,
           "Chamber, The (1996)",
           1996,
           43
          ],
          [
           621,
           "Davy Crockett, King of the Wild Frontier (1955)",
           1955,
           11
          ],
          [
           622,
           "Swiss Family Robinson (1960)",
           1960,
           39
          ],
          [
           623,
           "Angels in the Outfield (1994)",
           1994,
           39
          ],
          [
           624,
           "Three Caballeros, The (1945)",
           1945,
           22
          ],
          [
           625,
           "Sword in the Stone, The (1963)",
           1963,
           82
          ],
          [
           626,
           "So Dear to My Heart (1949)",
           1949,
           4
          ],
          [
           627,
           "Robin Hood: Prince of Thieves (1991)",
           1991,
           75
          ],
          [
           628,
           "Sleepers (1996)",
           1996,
           169
          ],
          [
           629,
           "Victor/Victoria (1982)",
           1982,
           77
          ],
          [
           630,
           "Great Race, The (1965)",
           1965,
           31
          ],
          [
           631,
           "Crying Game, The (1992)",
           1992,
           119
          ],
          [
           632,
           "Sophie's Choice (1982)",
           1982,
           58
          ],
          [
           633,
           "Christmas Carol, A (1938)",
           1938,
           69
          ],
          [
           634,
           "Microcosmos: Le peuple de l'herbe (1996)",
           1996,
           24
          ],
          [
           635,
           "Fog, The (1980)",
           1980,
           23
          ],
          [
           636,
           "Escape from New York (1981)",
           1981,
           91
          ],
          [
           637,
           "Howling, The (1981)",
           1981,
           38
          ],
          [
           638,
           "Return of Martin Guerre, The (Retour de Martin Guerre, Le) (1982)",
           1982,
           44
          ],
          [
           639,
           "Tin Drum, The (Blechtrommel, Die) (1979)",
           1979,
           40
          ],
          [
           640,
           "Cook the Thief His Wife & Her Lover, The (1989)",
           1989,
           82
          ],
          [
           641,
           "Paths of Glory (1957)",
           1957,
           33
          ],
          [
           642,
           "Grifters, The (1990)",
           1990,
           89
          ],
          [
           643,
           "The Innocent (1994)",
           1994,
           4
          ],
          [
           644,
           "Thin Blue Line, The (1988)",
           1988,
           35
          ],
          [
           645,
           "Paris Is Burning (1990)",
           1990,
           27
          ],
          [
           646,
           "Once Upon a Time in the West (1969)",
           1969,
           38
          ],
          [
           647,
           "Ran (1985)",
           1985,
           70
          ],
          [
           648,
           "Quiet Man, The (1952)",
           1952,
           67
          ],
          [
           649,
           "Once Upon a Time in America (1984)",
           1984,
           50
          ],
          [
           650,
           "Seventh Seal, The (Sjunde inseglet, Det) (1957)",
           1957,
           72
          ],
          [
           651,
           "Glory (1989)",
           1989,
           171
          ],
          [
           652,
           "Rosencrantz and Guildenstern Are Dead (1990)",
           1990,
           90
          ],
          [
           653,
           "Touch of Evil (1958)",
           1958,
           34
          ],
          [
           654,
           "Chinatown (1974)",
           1974,
           147
          ],
          [
           655,
           "Stand by Me (1986)",
           1986,
           227
          ],
          [
           656,
           "M (1931)",
           1931,
           44
          ],
          [
           657,
           "Manchurian Candidate, The (1962)",
           1962,
           131
          ],
          [
           658,
           "Pump Up the Volume (1990)",
           1990,
           79
          ],
          [
           659,
           "Arsenic and Old Lace (1944)",
           1944,
           115
          ],
          [
           660,
           "Fried Green Tomatoes (1991)",
           1991,
           153
          ],
          [
           661,
           "High Noon (1952)",
           1952,
           88
          ],
          [
           662,
           "Somewhere in Time (1980)",
           1980,
           82
          ],
          [
           663,
           "Being There (1979)",
           1979,
           116
          ],
          [
           664,
           "Paris, Texas (1984)",
           1984,
           46
          ],
          [
           665,
           "Alien 3 (1992)",
           1992,
           100
          ],
          [
           666,
           "Blood For Dracula (Andy Warhol's Dracula) (1974)",
           1974,
           5
          ],
          [
           667,
           "Audrey Rose (1977)",
           1977,
           12
          ],
          [
           668,
           "Blood Beach (1981)",
           1981,
           6
          ],
          [
           669,
           "Body Parts (1991)",
           1991,
           13
          ],
          [
           670,
           "Body Snatchers (1993)",
           1993,
           36
          ],
          [
           671,
           "Bride of Frankenstein (1935)",
           1935,
           46
          ],
          [
           672,
           "Candyman (1992)",
           1992,
           65
          ],
          [
           673,
           "Cape Fear (1962)",
           1962,
           86
          ],
          [
           674,
           "Cat People (1982)",
           1982,
           48
          ],
          [
           675,
           "Nosferatu (Nosferatu, eine Symphonie des Grauens) (1922)",
           1922,
           54
          ],
          [
           676,
           "Crucible, The (1996)",
           1996,
           77
          ],
          [
           677,
           "Fire on the Mountain (1996)",
           1997,
           1
          ],
          [
           678,
           "Volcano (1997)",
           1997,
           219
          ],
          [
           679,
           "Conan the Barbarian (1981)",
           1981,
           107
          ],
          [
           680,
           "Kull the Conqueror (1997)",
           1997,
           34
          ],
          [
           681,
           "Wishmaster (1997)",
           1997,
           27
          ],
          [
           682,
           "I Know What You Did Last Summer (1997)",
           1997,
           100
          ],
          [
           683,
           "Rocket Man (1997)",
           1997,
           49
          ],
          [
           684,
           "In the Line of Fire (1993)",
           1993,
           169
          ],
          [
           685,
           "Executive Decision (1996)",
           1996,
           157
          ],
          [
           686,
           "Perfect World, A (1993)",
           1993,
           50
          ],
          [
           687,
           "McHale's Navy (1997)",
           1997,
           69
          ],
          [
           688,
           "Leave It to Beaver (1997)",
           1997,
           44
          ],
          [
           689,
           "Jackal, The (1997)",
           1997,
           87
          ],
          [
           690,
           "Seven Years in Tibet (1997)",
           1997,
           155
          ],
          [
           691,
           "Dark City (1998)",
           1998,
           16
          ],
          [
           692,
           "American President, The (1995)",
           1995,
           164
          ],
          [
           693,
           "Casino (1995)",
           1995,
           91
          ],
          [
           694,
           "Persuasion (1995)",
           1995,
           44
          ],
          [
           695,
           "Kicking and Screaming (1995)",
           1995,
           13
          ],
          [
           696,
           "City Hall (1996)",
           1996,
           79
          ],
          [
           697,
           "Basketball Diaries, The (1995)",
           1995,
           40
          ],
          [
           698,
           "Browning Version, The (1994)",
           1994,
           10
          ],
          [
           699,
           "Little Women (1994)",
           1994,
           102
          ],
          [
           700,
           "Miami Rhapsody (1995)",
           1995,
           15
          ],
          [
           701,
           "Wonderful, Horrible Life of Leni Riefenstahl, The (1993)",
           1993,
           10
          ],
          [
           702,
           "Barcelona (1994)",
           1994,
           53
          ],
          [
           703,
           "Widows' Peak (1994)",
           1994,
           19
          ],
          [
           704,
           "House of the Spirits, The (1993)",
           1993,
           24
          ],
          [
           705,
           "Singin' in the Rain (1952)",
           1952,
           137
          ],
          [
           706,
           "Bad Moon (1996)",
           1996,
           6
          ],
          [
           707,
           "Enchanted April (1991)",
           1991,
           70
          ],
          [
           708,
           "Sex, Lies, and Videotape (1989)",
           1989,
           101
          ],
          [
           709,
           "Strictly Ballroom (1992)",
           1992,
           104
          ],
          [
           710,
           "Better Off Dead... (1985)",
           1985,
           79
          ],
          [
           711,
           "Substance of Fire, The (1996)",
           1996,
           1
          ],
          [
           712,
           "Tin Men (1987)",
           1987,
           51
          ],
          [
           713,
           "Othello (1995)",
           1995,
           72
          ],
          [
           714,
           "Carrington (1995)",
           1995,
           13
          ],
          [
           715,
           "To Die For (1995)",
           1995,
           87
          ],
          [
           716,
           "Home for the Holidays (1995)",
           1995,
           58
          ],
          [
           717,
           "Juror, The (1996)",
           1996,
           82
          ],
          [
           718,
           "In the Bleak Midwinter (1995)",
           1996,
           16
          ],
          [
           719,
           "Canadian Bacon (1994)",
           1994,
           29
          ],
          [
           720,
           "First Knight (1995)",
           1995,
           86
          ],
          [
           721,
           "Mallrats (1995)",
           1995,
           54
          ],
          [
           722,
           "Nine Months (1995)",
           1995,
           58
          ],
          [
           723,
           "Boys on the Side (1995)",
           1995,
           34
          ],
          [
           724,
           "Circle of Friends (1995)",
           1995,
           76
          ],
          [
           725,
           "Exit to Eden (1994)",
           1994,
           16
          ],
          [
           726,
           "Fluke (1995)",
           1995,
           14
          ],
          [
           727,
           "Immortal Beloved (1994)",
           1994,
           63
          ],
          [
           728,
           "Junior (1994)",
           1994,
           45
          ],
          [
           729,
           "Nell (1994)",
           1994,
           81
          ],
          [
           730,
           "Queen Margot (Reine Margot, La) (1994)",
           1996,
           24
          ],
          [
           731,
           "Corrina, Corrina (1994)",
           1994,
           39
          ],
          [
           732,
           "Dave (1993)",
           1993,
           180
          ],
          [
           733,
           "Go Fish (1994)",
           1994,
           15
          ],
          [
           734,
           "Made in America (1993)",
           1993,
           27
          ],
          [
           735,
           "Philadelphia (1993)",
           1993,
           137
          ],
          [
           736,
           "Shadowlands (1993)",
           1993,
           78
          ],
          [
           737,
           "Sirens (1994)",
           1994,
           59
          ],
          [
           738,
           "Threesome (1994)",
           1994,
           31
          ],
          [
           739,
           "Pretty Woman (1990)",
           1990,
           164
          ],
          [
           740,
           "Jane Eyre (1996)",
           1996,
           63
          ],
          [
           741,
           "Last Supper, The (1995)",
           1996,
           58
          ],
          [
           742,
           "Ransom (1996)",
           1996,
           267
          ],
          [
           743,
           "Crow: City of Angels, The (1996)",
           1996,
           39
          ],
          [
           744,
           "Michael Collins (1996)",
           1996,
           92
          ],
          [
           745,
           "Ruling Class, The (1972)",
           1972,
           16
          ],
          [
           746,
           "Real Genius (1985)",
           1985,
           119
          ],
          [
           747,
           "Benny & Joon (1993)",
           1993,
           102
          ],
          [
           748,
           "Saint, The (1997)",
           1997,
           316
          ],
          [
           749,
           "MatchMaker, The (1997)",
           1997,
           51
          ],
          [
           750,
           "Amistad (1997)",
           1997,
           124
          ],
          [
           751,
           "Tomorrow Never Dies (1997)",
           1997,
           180
          ],
          [
           752,
           "Replacement Killers, The (1998)",
           1998,
           39
          ],
          [
           753,
           "Burnt By the Sun (1994)",
           1994,
           24
          ],
          [
           754,
           "Red Corner (1997)",
           1997,
           57
          ],
          [
           755,
           "Jumanji (1995)",
           1995,
           96
          ],
          [
           756,
           "Father of the Bride Part II (1995)",
           1995,
           128
          ],
          [
           757,
           "Across the Sea of Time (1995)",
           1995,
           4
          ],
          [
           758,
           "Lawnmower Man 2: Beyond Cyberspace (1996)",
           1996,
           21
          ],
          [
           759,
           "Fair Game (1995)",
           1995,
           11
          ],
          [
           760,
           "Screamers (1995)",
           1995,
           46
          ],
          [
           761,
           "Nick of Time (1995)",
           1995,
           44
          ],
          [
           762,
           "Beautiful Girls (1996)",
           1996,
           115
          ],
          [
           763,
           "Happy Gilmore (1996)",
           1996,
           149
          ],
          [
           764,
           "If Lucy Fell (1996)",
           1996,
           29
          ],
          [
           765,
           "Boomerang (1992)",
           1992,
           32
          ],
          [
           766,
           "Man of the Year (1995)",
           1996,
           9
          ],
          [
           767,
           "Addiction, The (1995)",
           1995,
           11
          ],
          [
           768,
           "Casper (1995)",
           1995,
           52
          ],
          [
           769,
           "Congo (1995)",
           1995,
           42
          ],
          [
           770,
           "Devil in a Blue Dress (1995)",
           1995,
           57
          ],
          [
           771,
           "Johnny Mnemonic (1995)",
           1995,
           41
          ],
          [
           772,
           "Kids (1995)",
           1995,
           49
          ],
          [
           773,
           "Mute Witness (1994)",
           1994,
           17
          ],
          [
           774,
           "Prophecy, The (1995)",
           1995,
           32
          ],
          [
           775,
           "Something to Talk About (1995)",
           1995,
           26
          ],
          [
           776,
           "Three Wishes (1995)",
           1995,
           9
          ],
          [
           777,
           "Castle Freak (1995)",
           1995,
           4
          ],
          [
           778,
           "Don Juan DeMarco (1995)",
           1995,
           76
          ],
          [
           779,
           "Drop Zone (1994)",
           1994,
           31
          ],
          [
           780,
           "Dumb & Dumber (1994)",
           1994,
           69
          ],
          [
           781,
           "French Kiss (1995)",
           1995,
           84
          ],
          [
           782,
           "Little Odessa (1994)",
           1994,
           10
          ],
          [
           783,
           "Milk Money (1994)",
           1994,
           37
          ],
          [
           784,
           "Beyond Bedlam (1993)",
           1993,
           2
          ],
          [
           785,
           "Only You (1994)",
           1994,
           39
          ],
          [
           786,
           "Perez Family, The (1995)",
           1995,
           14
          ],
          [
           787,
           "Roommates (1995)",
           1995,
           13
          ],
          [
           788,
           "Relative Fear (1994)",
           1994,
           3
          ],
          [
           789,
           "Swimming with Sharks (1995)",
           1995,
           47
          ],
          [
           790,
           "Tommy Boy (1995)",
           1995,
           66
          ],
          [
           791,
           "Baby-Sitters Club, The (1995)",
           1995,
           10
          ],
          [
           792,
           "Bullets Over Broadway (1994)",
           1994,
           86
          ],
          [
           793,
           "Crooklyn (1994)",
           1994,
           10
          ],
          [
           794,
           "It Could Happen to You (1994)",
           1994,
           46
          ],
          [
           795,
           "Richie Rich (1994)",
           1994,
           21
          ],
          [
           796,
           "Speechless (1994)",
           1994,
           36
          ],
          [
           797,
           "Timecop (1994)",
           1994,
           31
          ],
          [
           798,
           "Bad Company (1995)",
           1995,
           9
          ],
          [
           799,
           "Boys Life (1995)",
           1995,
           5
          ],
          [
           800,
           "In the Mouth of Madness (1995)",
           1995,
           26
          ],
          [
           801,
           "Air Up There, The (1994)",
           1994,
           16
          ],
          [
           802,
           "Hard Target (1993)",
           1993,
           40
          ],
          [
           803,
           "Heaven & Earth (1993)",
           1993,
           9
          ],
          [
           804,
           "Jimmy Hollywood (1994)",
           1994,
           8
          ],
          [
           805,
           "Manhattan Murder Mystery (1993)",
           1993,
           27
          ],
          [
           806,
           "Menace II Society (1993)",
           1993,
           50
          ],
          [
           807,
           "Poetic Justice (1993)",
           1993,
           9
          ],
          [
           808,
           "Program, The (1993)",
           1993,
           31
          ],
          [
           809,
           "Rising Sun (1993)",
           1993,
           43
          ],
          [
           810,
           "Shadow, The (1994)",
           1994,
           45
          ],
          [
           811,
           "Thirty-Two Short Films About Glenn Gould (1993)",
           1993,
           18
          ],
          [
           812,
           "Andre (1994)",
           1994,
           18
          ],
          [
           813,
           "Celluloid Closet, The (1995)",
           1996,
           56
          ],
          [
           814,
           "Great Day in Harlem, A (1994)",
           1994,
           1
          ],
          [
           815,
           "One Fine Day (1996)",
           1996,
           112
          ],
          [
           816,
           "Candyman: Farewell to the Flesh (1995)",
           1995,
           21
          ],
          [
           817,
           "Frisk (1995)",
           1996,
           3
          ],
          [
           818,
           "Girl 6 (1996)",
           1996,
           25
          ],
          [
           819,
           "Eddie (1996)",
           1996,
           40
          ],
          [
           820,
           "Space Jam (1996)",
           1996,
           93
          ],
          [
           821,
           "Mrs. Winterbourne (1996)",
           1996,
           22
          ],
          [
           822,
           "Faces (1968)",
           1968,
           4
          ],
          [
           823,
           "Mulholland Falls (1996)",
           1996,
           82
          ],
          [
           824,
           "Great White Hype, The (1996)",
           1996,
           49
          ],
          [
           825,
           "Arrival, The (1996)",
           1996,
           83
          ],
          [
           826,
           "Phantom, The (1996)",
           1996,
           80
          ],
          [
           827,
           "Daylight (1996)",
           1996,
           57
          ],
          [
           828,
           "Alaska (1996)",
           1996,
           13
          ],
          [
           829,
           "Fled (1996)",
           1996,
           34
          ],
          [
           830,
           "Power 98 (1995)",
           1996,
           1
          ],
          [
           831,
           "Escape from L.A. (1996)",
           1996,
           91
          ],
          [
           832,
           "Bogus (1996)",
           1996,
           22
          ],
          [
           833,
           "Bulletproof (1996)",
           1996,
           49
          ],
          [
           834,
           "Halloween: The Curse of Michael Myers (1995)",
           1995,
           25
          ],
          [
           835,
           "Gay Divorcee, The (1934)",
           1934,
           15
          ],
          [
           836,
           "Ninotchka (1939)",
           1939,
           26
          ],
          [
           837,
           "Meet John Doe (1941)",
           1941,
           25
          ],
          [
           838,
           "In the Line of Duty 2 (1987)",
           1996,
           4
          ],
          [
           839,
           "Loch Ness (1995)",
           1995,
           4
          ],
          [
           840,
           "Last Man Standing (1996)",
           1996,
           53
          ],
          [
           841,
           "Glimmer Man, The (1996)",
           1996,
           48
          ],
          [
           842,
           "Pollyanna (1960)",
           1960,
           27
          ],
          [
           843,
           "Shaggy Dog, The (1959)",
           1959,
           30
          ],
          [
           844,
           "Freeway (1996)",
           1996,
           42
          ],
          [
           845,
           "That Thing You Do! (1996)",
           1996,
           176
          ],
          [
           846,
           "To Gillian on Her 37th Birthday (1996)",
           1996,
           44
          ],
          [
           847,
           "Looking for Richard (1996)",
           1996,
           55
          ],
          [
           848,
           "Murder, My Sweet (1944)",
           1944,
           9
          ],
          [
           849,
           "Days of Thunder (1990)",
           1990,
           53
          ],
          [
           850,
           "Perfect Candidate, A (1996)",
           1996,
           4
          ],
          [
           851,
           "Two or Three Things I Know About Her (1966)",
           1966,
           4
          ],
          [
           852,
           "Bloody Child, The (1996)",
           1996,
           1
          ],
          [
           853,
           "Braindead (1992)",
           1992,
           14
          ],
          [
           854,
           "Bad Taste (1987)",
           1987,
           16
          ],
          [
           855,
           "Diva (1981)",
           1981,
           66
          ],
          [
           856,
           "Night on Earth (1991)",
           1991,
           36
          ],
          [
           857,
           "Paris Was a Woman (1995)",
           1996,
           1
          ],
          [
           858,
           "Amityville: Dollhouse (1996)",
           1996,
           3
          ],
          [
           859,
           "April Fool's Day (1986)",
           1986,
           15
          ],
          [
           860,
           "Believers, The (1987)",
           1987,
           16
          ],
          [
           861,
           "Nosferatu a Venezia (1986)",
           1986,
           3
          ],
          [
           862,
           "Jingle All the Way (1996)",
           1996,
           18
          ],
          [
           863,
           "Garden of Finzi-Contini, The (Giardino dei Finzi-Contini, Il) (1970)",
           1996,
           24
          ],
          [
           864,
           "My Fellow Americans (1996)",
           1996,
           86
          ],
          [
           865,
           "Ice Storm, The (1997)",
           1997,
           21
          ],
          [
           866,
           "Michael (1996)",
           1996,
           119
          ],
          [
           867,
           "Whole Wide World, The (1996)",
           1996,
           6
          ],
          [
           868,
           "Hearts and Minds (1996)",
           1997,
           5
          ],
          [
           869,
           "Fools Rush In (1997)",
           1997,
           24
          ],
          [
           870,
           "Touch (1997)",
           1997,
           9
          ],
          [
           871,
           "Vegas Vacation (1997)",
           1997,
           75
          ],
          [
           872,
           "Love Jones (1997)",
           1997,
           42
          ],
          [
           873,
           "Picture Perfect (1997)",
           1997,
           81
          ],
          [
           874,
           "Career Girls (1997)",
           1997,
           39
          ],
          [
           875,
           "She's So Lovely (1997)",
           1997,
           53
          ],
          [
           876,
           "Money Talks (1997)",
           1997,
           47
          ],
          [
           877,
           "Excess Baggage (1997)",
           1997,
           52
          ],
          [
           878,
           "That Darn Cat! (1997)",
           1997,
           33
          ],
          [
           879,
           "Peacemaker, The (1997)",
           1997,
           136
          ],
          [
           880,
           "Soul Food (1997)",
           1997,
           59
          ],
          [
           881,
           "Money Talks (1997)",
           1997,
           45
          ],
          [
           882,
           "Washington Square (1997)",
           1997,
           34
          ],
          [
           883,
           "Telling Lies in America (1997)",
           1997,
           13
          ],
          [
           884,
           "Year of the Horse (1997)",
           1997,
           7
          ],
          [
           885,
           "Phantoms (1998)",
           1998,
           13
          ],
          [
           886,
           "Life Less Ordinary, A (1997)",
           1997,
           53
          ],
          [
           887,
           "Eve's Bayou (1997)",
           1997,
           64
          ],
          [
           888,
           "One Night Stand (1997)",
           1997,
           15
          ],
          [
           889,
           "Tango Lesson, The (1997)",
           1997,
           13
          ],
          [
           890,
           "Mortal Kombat: Annihilation (1997)",
           1997,
           43
          ],
          [
           891,
           "Bent (1997)",
           1997,
           6
          ],
          [
           892,
           "Flubber (1997)",
           1997,
           53
          ],
          [
           893,
           "For Richer or Poorer (1997)",
           1997,
           14
          ],
          [
           894,
           "Home Alone 3 (1997)",
           1997,
           19
          ],
          [
           895,
           "Scream 2 (1997)",
           1997,
           106
          ],
          [
           896,
           "Sweet Hereafter, The (1997)",
           1997,
           44
          ],
          [
           897,
           "Time Tracers (1995)",
           1995,
           2
          ],
          [
           898,
           "Postman, The (1997)",
           1997,
           58
          ],
          [
           899,
           "Winter Guest, The (1997)",
           1997,
           9
          ],
          [
           900,
           "Kundun (1997)",
           1997,
           42
          ],
          [
           901,
           "Mr. Magoo (1997)",
           1997,
           12
          ],
          [
           902,
           "Big Lebowski, The (1998)",
           1997,
           42
          ],
          [
           903,
           "Afterglow (1997)",
           1997,
           18
          ],
          [
           904,
           "Ma vie en rose (My Life in Pink) (1997)",
           1997,
           20
          ],
          [
           905,
           "Great Expectations (1998)",
           1998,
           27
          ],
          [
           906,
           "Oscar & Lucinda (1997)",
           1997,
           21
          ],
          [
           907,
           "Vermin (1998)",
           1997,
           2
          ],
          [
           908,
           "Half Baked (1998)",
           1998,
           20
          ],
          [
           909,
           "Dangerous Beauty (1998)",
           1998,
           13
          ],
          [
           910,
           "Nil By Mouth (1997)",
           1998,
           4
          ],
          [
           911,
           "Twilight (1998)",
           1998,
           4
          ],
          [
           912,
           "U.S. Marshalls (1998)",
           1998,
           9
          ],
          [
           913,
           "Love and Death on Long Island (1997)",
           1998,
           2
          ],
          [
           914,
           "Wild Things (1998)",
           1998,
           11
          ],
          [
           915,
           "Primary Colors (1998)",
           1998,
           13
          ],
          [
           916,
           "Lost in Space (1998)",
           1998,
           18
          ],
          [
           917,
           "Mercury Rising (1998)",
           1998,
           7
          ],
          [
           918,
           "City of Angels (1998)",
           1998,
           8
          ],
          [
           919,
           "City of Lost Children, The (1995)",
           1995,
           96
          ],
          [
           920,
           "Two Bits (1995)",
           1995,
           5
          ],
          [
           921,
           "Farewell My Concubine (1993)",
           1993,
           46
          ],
          [
           922,
           "Dead Man (1995)",
           1996,
           34
          ],
          [
           923,
           "Raise the Red Lantern (1991)",
           1991,
           58
          ],
          [
           924,
           "White Squall (1996)",
           1996,
           85
          ],
          [
           925,
           "Unforgettable (1996)",
           1996,
           34
          ],
          [
           926,
           "Down Periscope (1996)",
           1996,
           101
          ],
          [
           927,
           "Flower of My Secret, The (Flor de mi secreto, La) (1995)",
           1996,
           6
          ],
          [
           928,
           "Craft, The (1996)",
           1996,
           104
          ],
          [
           929,
           "Harriet the Spy (1996)",
           1996,
           40
          ],
          [
           930,
           "Chain Reaction (1996)",
           1996,
           80
          ],
          [
           931,
           "Island of Dr. Moreau, The (1996)",
           1996,
           57
          ],
          [
           932,
           "First Kid (1996)",
           1996,
           40
          ],
          [
           933,
           "Funeral, The (1996)",
           1996,
           21
          ],
          [
           934,
           "Preacher's Wife, The (1996)",
           1996,
           68
          ],
          [
           935,
           "Paradise Road (1997)",
           1997,
           7
          ],
          [
           936,
           "Brassed Off (1996)",
           1997,
           32
          ],
          [
           937,
           "Thousand Acres, A (1997)",
           1997,
           37
          ],
          [
           938,
           "Smile Like Yours, A (1997)",
           1997,
           25
          ],
          [
           939,
           "Murder in the First (1995)",
           1995,
           60
          ],
          [
           940,
           "Airheads (1994)",
           1994,
           32
          ],
          [
           941,
           "With Honors (1994)",
           1994,
           46
          ],
          [
           942,
           "What's Love Got to Do with It (1993)",
           1993,
           45
          ],
          [
           943,
           "Killing Zoe (1994)",
           1994,
           40
          ],
          [
           944,
           "Renaissance Man (1994)",
           1994,
           43
          ],
          [
           945,
           "Charade (1963)",
           1963,
           40
          ],
          [
           946,
           "Fox and the Hound, The (1981)",
           1981,
           61
          ],
          [
           947,
           "Big Blue, The (Grand bleu, Le) (1988)",
           1988,
           17
          ],
          [
           948,
           "Booty Call (1997)",
           1997,
           48
          ],
          [
           949,
           "How to Make an American Quilt (1995)",
           1995,
           71
          ],
          [
           950,
           "Georgia (1995)",
           1995,
           30
          ],
          [
           951,
           "Indian in the Cupboard, The (1995)",
           1995,
           39
          ],
          [
           952,
           "Blue in the Face (1995)",
           1995,
           45
          ],
          [
           953,
           "Unstrung Heroes (1995)",
           1995,
           22
          ],
          [
           954,
           "Unzipped (1995)",
           1995,
           11
          ],
          [
           955,
           "Before Sunrise (1995)",
           1995,
           49
          ],
          [
           956,
           "Nobody's Fool (1994)",
           1994,
           46
          ],
          [
           957,
           "Pushing Hands (1992)",
           1992,
           2
          ],
          [
           958,
           "To Live (Huozhe) (1994)",
           1994,
           14
          ],
          [
           959,
           "Dazed and Confused (1993)",
           1993,
           64
          ],
          [
           960,
           "Naked (1993)",
           1993,
           25
          ],
          [
           961,
           "Orlando (1993)",
           1993,
           34
          ],
          [
           962,
           "Ruby in Paradise (1993)",
           1993,
           23
          ],
          [
           963,
           "Some Folks Call It a Sling Blade (1993)",
           1993,
           41
          ],
          [
           964,
           "Month by the Lake, A (1995)",
           1995,
           9
          ],
          [
           965,
           "Funny Face (1957)",
           1957,
           21
          ],
          [
           966,
           "Affair to Remember, An (1957)",
           1957,
           26
          ],
          [
           967,
           "Little Lord Fauntleroy (1936)",
           1936,
           12
          ],
          [
           968,
           "Inspector General, The (1949)",
           1949,
           18
          ],
          [
           969,
           "Winnie the Pooh and the Blustery Day (1968)",
           1968,
           75
          ],
          [
           970,
           "Hear My Song (1991)",
           1991,
           8
          ],
          [
           971,
           "Mediterraneo (1991)",
           1991,
           34
          ],
          [
           972,
           "Passion Fish (1992)",
           1992,
           28
          ],
          [
           973,
           "Grateful Dead (1995)",
           1996,
           4
          ],
          [
           974,
           "Eye for an Eye (1996)",
           1996,
           32
          ],
          [
           975,
           "Fear (1996)",
           1996,
           44
          ],
          [
           976,
           "Solo (1996)",
           1996,
           12
          ],
          [
           977,
           "Substitute, The (1996)",
           1996,
           49
          ],
          [
           978,
           "Heaven's Prisoners (1996)",
           1996,
           27
          ],
          [
           979,
           "Trigger Effect, The (1996)",
           1996,
           35
          ],
          [
           980,
           "Mother Night (1996)",
           1996,
           22
          ],
          [
           981,
           "Dangerous Ground (1997)",
           1996,
           8
          ],
          [
           982,
           "Maximum Risk (1996)",
           1996,
           20
          ],
          [
           983,
           "Rich Man's Wife, The (1996)",
           1996,
           15
          ],
          [
           984,
           "Shadow Conspiracy (1997)",
           1997,
           44
          ],
          [
           985,
           "Blood & Wine (1997)",
           1996,
           22
          ],
          [
           986,
           "Turbulence (1997)",
           1997,
           23
          ],
          [
           987,
           "Underworld (1997)",
           1997,
           4
          ],
          [
           988,
           "Beautician and the Beast, The (1997)",
           1997,
           86
          ],
          [
           989,
           "Cats Don't Dance (1997)",
           1997,
           32
          ],
          [
           990,
           "Anna Karenina (1997)",
           1997,
           33
          ],
          [
           991,
           "Keys to Tulsa (1997)",
           1997,
           25
          ],
          [
           992,
           "Head Above Water (1996)",
           1997,
           4
          ],
          [
           993,
           "Hercules (1997)",
           1997,
           66
          ],
          [
           994,
           "Last Time I Committed Suicide, The (1997)",
           1997,
           7
          ],
          [
           995,
           "Kiss Me, Guido (1997)",
           1997,
           31
          ],
          [
           996,
           "Big Green, The (1995)",
           1995,
           14
          ],
          [
           997,
           "Stuart Saves His Family (1995)",
           1995,
           16
          ],
          [
           998,
           "Cabin Boy (1994)",
           1994,
           16
          ],
          [
           999,
           "Clean Slate (1994)",
           1994,
           10
          ],
          [
           1000,
           "Lightning Jack (1994)",
           1994,
           10
          ],
          [
           1001,
           "Stupids, The (1996)",
           1996,
           17
          ],
          [
           1002,
           "Pest, The (1997)",
           1997,
           8
          ],
          [
           1003,
           "That Darn Cat! (1997)",
           1997,
           8
          ],
          [
           1004,
           "Geronimo: An American Legend (1993)",
           1993,
           9
          ],
          [
           1005,
           "Double vie de Véronique, La (Double Life of Veronique, The) (1991)",
           1991,
           22
          ],
          [
           1006,
           "Until the End of the World (Bis ans Ende der Welt) (1991)",
           1991,
           23
          ],
          [
           1007,
           "Waiting for Guffman (1996)",
           1997,
           47
          ],
          [
           1008,
           "I Shot Andy Warhol (1996)",
           1996,
           37
          ],
          [
           1009,
           "Stealing Beauty (1996)",
           1996,
           64
          ],
          [
           1010,
           "Basquiat (1996)",
           1996,
           44
          ],
          [
           1011,
           "2 Days in the Valley (1996)",
           1996,
           93
          ],
          [
           1012,
           "Private Parts (1997)",
           1997,
           100
          ],
          [
           1013,
           "Anaconda (1997)",
           1997,
           38
          ],
          [
           1014,
           "Romy and Michele's High School Reunion (1997)",
           1997,
           98
          ],
          [
           1015,
           "Shiloh (1997)",
           1997,
           12
          ],
          [
           1016,
           "Con Air (1997)",
           1997,
           137
          ],
          [
           1017,
           "Trees Lounge (1996)",
           1996,
           50
          ],
          [
           1018,
           "Tie Me Up! Tie Me Down! (1990)",
           1990,
           32
          ],
          [
           1019,
           "Die xue shuang xiong (Killer, The) (1989)",
           1989,
           31
          ],
          [
           1020,
           "Gaslight (1944)",
           1944,
           35
          ],
          [
           1021,
           "8 1/2 (1963)",
           1963,
           38
          ],
          [
           1022,
           "Fast, Cheap & Out of Control (1997)",
           1997,
           32
          ],
          [
           1023,
           "Fathers' Day (1997)",
           1997,
           31
          ],
          [
           1024,
           "Mrs. Dalloway (1997)",
           1997,
           15
          ],
          [
           1025,
           "Fire Down Below (1997)",
           1997,
           44
          ],
          [
           1026,
           "Lay of the Land, The (1997)",
           1997,
           4
          ],
          [
           1027,
           "Shooter, The (1995)",
           1995,
           3
          ],
          [
           1028,
           "Grumpier Old Men (1995)",
           1995,
           148
          ],
          [
           1029,
           "Jury Duty (1995)",
           1995,
           14
          ],
          [
           1030,
           "Beverly Hillbillies, The (1993)",
           1993,
           20
          ],
          [
           1031,
           "Lassie (1994)",
           1994,
           7
          ],
          [
           1032,
           "Little Big League (1994)",
           1994,
           16
          ],
          [
           1033,
           "Homeward Bound II: Lost in San Francisco (1996)",
           1996,
           32
          ],
          [
           1034,
           "Quest, The (1996)",
           1996,
           27
          ],
          [
           1035,
           "Cool Runnings (1993)",
           1993,
           68
          ],
          [
           1036,
           "Drop Dead Fred (1991)",
           1991,
           24
          ],
          [
           1037,
           "Grease 2 (1982)",
           1982,
           24
          ],
          [
           1038,
           "Switchback (1997)",
           1997,
           17
          ],
          [
           1039,
           "Hamlet (1996)",
           1997,
           90
          ],
          [
           1040,
           "Two if by Sea (1996)",
           1996,
           25
          ],
          [
           1041,
           "Forget Paris (1995)",
           1995,
           62
          ],
          [
           1042,
           "Just Cause (1995)",
           1995,
           28
          ],
          [
           1043,
           "Rent-a-Kid (1995)",
           1995,
           8
          ],
          [
           1044,
           "Paper, The (1994)",
           1994,
           40
          ],
          [
           1045,
           "Fearless (1993)",
           1993,
           25
          ],
          [
           1046,
           "Malice (1993)",
           1993,
           46
          ],
          [
           1047,
           "Multiplicity (1996)",
           1996,
           134
          ],
          [
           1048,
           "She's the One (1996)",
           1996,
           73
          ],
          [
           1049,
           "House Arrest (1996)",
           1996,
           25
          ],
          [
           1050,
           "Ghost and Mrs. Muir, The (1947)",
           1947,
           43
          ],
          [
           1051,
           "Associate, The (1996)",
           1996,
           41
          ],
          [
           1052,
           "Dracula: Dead and Loving It (1995)",
           1995,
           25
          ],
          [
           1053,
           "Now and Then (1995)",
           1995,
           24
          ],
          [
           1054,
           "Mr. Wrong (1996)",
           1996,
           23
          ],
          [
           1055,
           "Simple Twist of Fate, A (1994)",
           1994,
           10
          ],
          [
           1056,
           "Cronos (1992)",
           1992,
           10
          ],
          [
           1057,
           "Pallbearer, The (1996)",
           1996,
           22
          ],
          [
           1058,
           "War, The (1994)",
           1994,
           15
          ],
          [
           1059,
           "Don't Be a Menace to South Central While Drinking Your Juice in the Hood (1996)",
           1996,
           35
          ],
          [
           1060,
           "Adventures of Pinocchio, The (1996)",
           1996,
           39
          ],
          [
           1061,
           "Evening Star, The (1996)",
           1996,
           29
          ],
          [
           1062,
           "Four Days in September (1997)",
           1998,
           12
          ],
          [
           1063,
           "Little Princess, A (1995)",
           1995,
           41
          ],
          [
           1064,
           "Crossfire (1947)",
           1947,
           4
          ],
          [
           1065,
           "Koyaanisqatsi (1983)",
           1983,
           53
          ],
          [
           1066,
           "Balto (1995)",
           1995,
           16
          ],
          [
           1067,
           "Bottle Rocket (1996)",
           1996,
           44
          ],
          [
           1068,
           "Star Maker, The (Uomo delle stelle, L') (1995)",
           1996,
           12
          ],
          [
           1069,
           "Amateur (1994)",
           1994,
           18
          ],
          [
           1070,
           "Living in Oblivion (1995)",
           1995,
           27
          ],
          [
           1071,
           "Party Girl (1995)",
           1995,
           16
          ],
          [
           1072,
           "Pyromaniac's Love Story, A (1995)",
           1995,
           7
          ],
          [
           1073,
           "Shallow Grave (1994)",
           1994,
           66
          ],
          [
           1074,
           "Reality Bites (1994)",
           1994,
           77
          ],
          [
           1075,
           "Man of No Importance, A (1994)",
           1994,
           7
          ],
          [
           1076,
           "Pagemaster, The (1994)",
           1994,
           12
          ],
          [
           1077,
           "Love and a .45 (1994)",
           1994,
           8
          ],
          [
           1078,
           "Oliver & Company (1988)",
           1988,
           22
          ],
          [
           1079,
           "Joe's Apartment (1996)",
           1996,
           45
          ],
          [
           1080,
           "Celestial Clockwork (1994)",
           1996,
           2
          ],
          [
           1081,
           "Curdled (1996)",
           1996,
           8
          ],
          [
           1082,
           "Female Perversions (1996)",
           1997,
           8
          ],
          [
           1083,
           "Albino Alligator (1996)",
           1997,
           6
          ],
          [
           1084,
           "Anne Frank Remembered (1995)",
           1996,
           21
          ],
          [
           1085,
           "Carried Away (1996)",
           1996,
           11
          ],
          [
           1086,
           "It's My Party (1995)",
           1996,
           21
          ],
          [
           1087,
           "Bloodsport 2 (1995)",
           1996,
           10
          ],
          [
           1088,
           "Double Team (1997)",
           1997,
           13
          ],
          [
           1089,
           "Speed 2: Cruise Control (1997)",
           1997,
           38
          ],
          [
           1090,
           "Sliver (1993)",
           1993,
           37
          ],
          [
           1091,
           "Pete's Dragon (1977)",
           1977,
           43
          ],
          [
           1092,
           "Dear God (1996)",
           1996,
           12
          ],
          [
           1093,
           "Live Nude Girls (1995)",
           1996,
           23
          ],
          [
           1094,
           "Thin Line Between Love and Hate, A (1996)",
           1996,
           12
          ],
          [
           1095,
           "High School High (1996)",
           1996,
           29
          ],
          [
           1096,
           "Commandments (1997)",
           1997,
           3
          ],
          [
           1097,
           "Hate (Haine, La) (1995)",
           1996,
           18
          ],
          [
           1098,
           "Flirting With Disaster (1996)",
           1996,
           42
          ],
          [
           1099,
           "Red Firecracker, Green Firecracker (1994)",
           1994,
           13
          ],
          [
           1100,
           "What Happened Was... (1994)",
           1994,
           8
          ],
          [
           1101,
           "Six Degrees of Separation (1993)",
           1993,
           74
          ],
          [
           1102,
           "Two Much (1996)",
           1996,
           7
          ],
          [
           1103,
           "Trust (1990)",
           1990,
           19
          ],
          [
           1104,
           "C'est arrivé près de chez vous (1992)",
           1992,
           4
          ],
          [
           1105,
           "Firestorm (1998)",
           1998,
           18
          ],
          [
           1106,
           "Newton Boys, The (1998)",
           1998,
           4
          ],
          [
           1107,
           "Beyond Rangoon (1995)",
           1995,
           18
          ],
          [
           1108,
           "Feast of July (1995)",
           1995,
           5
          ],
          [
           1109,
           "Death and the Maiden (1994)",
           1994,
           28
          ],
          [
           1110,
           "Tank Girl (1995)",
           1995,
           41
          ],
          [
           1111,
           "Double Happiness (1994)",
           1996,
           7
          ],
          [
           1112,
           "Cobb (1994)",
           1994,
           15
          ],
          [
           1113,
           "Mrs. Parker and the Vicious Circle (1994)",
           1994,
           22
          ],
          [
           1114,
           "Faithful (1996)",
           1996,
           10
          ],
          [
           1115,
           "Twelfth Night (1996)",
           1996,
           29
          ],
          [
           1116,
           "Mark of Zorro, The (1940)",
           1940,
           13
          ],
          [
           1117,
           "Surviving Picasso (1996)",
           1996,
           19
          ],
          [
           1118,
           "Up in Smoke (1978)",
           1978,
           47
          ],
          [
           1119,
           "Some Kind of Wonderful (1987)",
           1987,
           59
          ],
          [
           1120,
           "I'm Not Rappaport (1996)",
           1996,
           17
          ],
          [
           1121,
           "Umbrellas of Cherbourg, The (Parapluies de Cherbourg, Les) (1964)",
           1996,
           21
          ],
          [
           1122,
           "They Made Me a Criminal (1939)",
           1939,
           1
          ],
          [
           1123,
           "Last Time I Saw Paris, The (1954)",
           1954,
           3
          ],
          [
           1124,
           "Farewell to Arms, A (1932)",
           1932,
           12
          ],
          [
           1125,
           "Innocents, The (1961)",
           1961,
           4
          ],
          [
           1126,
           "Old Man and the Sea, The (1958)",
           1958,
           32
          ],
          [
           1127,
           "Truman Show, The (1998)",
           1998,
           11
          ],
          [
           1128,
           "Heidi Fleiss: Hollywood Madam (1995) ",
           1996,
           13
          ],
          [
           1129,
           "Chungking Express (1994)",
           1996,
           28
          ],
          [
           1130,
           "Jupiter's Wife (1994)",
           1996,
           1
          ],
          [
           1131,
           "Safe (1995)",
           1995,
           13
          ],
          [
           1132,
           "Feeling Minnesota (1996)",
           1996,
           32
          ],
          [
           1133,
           "Escape to Witch Mountain (1975)",
           1975,
           30
          ],
          [
           1134,
           "Get on the Bus (1996)",
           1996,
           38
          ],
          [
           1135,
           "Doors, The (1991)",
           1991,
           46
          ],
          [
           1136,
           "Ghosts of Mississippi (1996)",
           1996,
           29
          ],
          [
           1137,
           "Beautiful Thing (1996)",
           1996,
           29
          ],
          [
           1138,
           "Best Men (1997)",
           1997,
           5
          ],
          [
           1139,
           "Hackers (1995)",
           1995,
           33
          ],
          [
           1140,
           "Road to Wellville, The (1994)",
           1994,
           17
          ],
          [
           1141,
           "War Room, The (1993)",
           1993,
           9
          ],
          [
           1142,
           "When We Were Kings (1996)",
           1997,
           44
          ],
          [
           1143,
           "Hard Eight (1996)",
           1997,
           15
          ],
          [
           1144,
           "Quiet Room, The (1996)",
           1997,
           3
          ],
          [
           1145,
           "Blue Chips (1994)",
           1994,
           9
          ],
          [
           1146,
           "Calendar Girl (1993)",
           1993,
           3
          ],
          [
           1147,
           "My Family (1995)",
           1995,
           21
          ],
          [
           1148,
           "Tom & Viv (1994)",
           1994,
           9
          ],
          [
           1149,
           "Walkabout (1971)",
           1971,
           26
          ],
          [
           1150,
           "Last Dance (1996)",
           1996,
           9
          ],
          [
           1151,
           "Original Gangstas (1996)",
           1996,
           7
          ],
          [
           1152,
           "In Love and War (1996)",
           1997,
           28
          ],
          [
           1153,
           "Backbeat (1993)",
           1993,
           19
          ],
          [
           1154,
           "Alphaville (1965)",
           1965,
           12
          ],
          [
           1155,
           "Rendezvous in Paris (Rendez-vous de Paris, Les) (1995)",
           1996,
           3
          ],
          [
           1156,
           "Cyclo (1995)",
           1996,
           1
          ],
          [
           1157,
           "Relic, The (1997)",
           1997,
           25
          ],
          [
           1158,
           "Fille seule, La (A Single Girl) (1995)",
           1996,
           4
          ],
          [
           1159,
           "Stalker (1979)",
           1979,
           11
          ],
          [
           1160,
           "Love! Valour! Compassion! (1997)",
           1997,
           26
          ],
          [
           1161,
           "Palookaville (1996)",
           1996,
           13
          ],
          [
           1162,
           "Phat Beach (1996)",
           1996,
           5
          ],
          [
           1163,
           "Portrait of a Lady, The (1996)",
           1996,
           25
          ],
          [
           1164,
           "Zeus and Roxanne (1997)",
           1997,
           6
          ],
          [
           1165,
           "Big Bully (1996)",
           1996,
           14
          ],
          [
           1166,
           "Love & Human Remains (1993)",
           1993,
           12
          ],
          [
           1167,
           "Sum of Us, The (1994)",
           1994,
           11
          ],
          [
           1168,
           "Little Buddha (1993)",
           1993,
           22
          ],
          [
           1169,
           "Fresh (1994)",
           1994,
           10
          ],
          [
           1170,
           "Spanking the Monkey (1994)",
           1994,
           27
          ],
          [
           1171,
           "Wild Reeds (1994)",
           1994,
           14
          ],
          [
           1172,
           "Women, The (1939)",
           1939,
           15
          ],
          [
           1173,
           "Bliss (1997)",
           1997,
           7
          ],
          [
           1174,
           "Caught (1996)",
           1996,
           8
          ],
          [
           1175,
           "Hugo Pool (1997)",
           1997,
           5
          ],
          [
           1176,
           "Welcome To Sarajevo (1997)",
           1997,
           22
          ],
          [
           1177,
           "Dunston Checks In (1996)",
           1996,
           7
          ],
          [
           1178,
           "Major Payne (1994)",
           1994,
           19
          ],
          [
           1179,
           "Man of the House (1995)",
           1995,
           9
          ],
          [
           1180,
           "I Love Trouble (1994)",
           1994,
           10
          ],
          [
           1181,
           "Low Down Dirty Shame, A (1994)",
           1994,
           10
          ],
          [
           1182,
           "Cops and Robbersons (1994)",
           1994,
           13
          ],
          [
           1183,
           "Cowboy Way, The (1994)",
           1994,
           19
          ],
          [
           1184,
           "Endless Summer 2, The (1994)",
           1994,
           10
          ],
          [
           1185,
           "In the Army Now (1994)",
           1994,
           18
          ],
          [
           1186,
           "Inkwell, The (1994)",
           1994,
           3
          ],
          [
           1187,
           "Switchblade Sisters (1975)",
           1975,
           13
          ],
          [
           1188,
           "Young Guns II (1990)",
           1990,
           44
          ],
          [
           1189,
           "Prefontaine (1997)",
           1997,
           3
          ],
          [
           1190,
           "That Old Feeling (1997)",
           1997,
           11
          ],
          [
           1191,
           "Letter From Death Row, A (1998)",
           1998,
           3
          ],
          [
           1192,
           "Boys of St. Vincent, The (1993)",
           1993,
           13
          ],
          [
           1193,
           "Before the Rain (Pred dozhdot) (1994)",
           1994,
           10
          ],
          [
           1194,
           "Once Were Warriors (1994)",
           1994,
           31
          ],
          [
           1195,
           "Strawberry and Chocolate (Fresa y chocolate) (1993)",
           1993,
           11
          ],
          [
           1196,
           "Savage Nights (Nuits fauves, Les) (1992)",
           1992,
           3
          ],
          [
           1197,
           "Family Thing, A (1996)",
           1996,
           45
          ],
          [
           1198,
           "Purple Noon (1960)",
           1960,
           7
          ],
          [
           1199,
           "Cemetery Man (Dellamorte Dellamore) (1994)",
           1996,
           23
          ],
          [
           1200,
           "Kim (1950)",
           1950,
           7
          ],
          [
           1201,
           "Marlene Dietrich: Shadow and Light (1996) ",
           1996,
           1
          ],
          [
           1202,
           "Maybe, Maybe Not (Bewegte Mann, Der) (1994)",
           1996,
           8
          ],
          [
           1203,
           "Top Hat (1935)",
           1935,
           21
          ],
          [
           1204,
           "To Be or Not to Be (1942)",
           1942,
           18
          ],
          [
           1205,
           "Secret Agent, The (1996)",
           1996,
           6
          ],
          [
           1206,
           "Amos & Andrew (1993)",
           1993,
           19
          ],
          [
           1207,
           "Jade (1995)",
           1995,
           17
          ],
          [
           1208,
           "Kiss of Death (1995)",
           1995,
           20
          ],
          [
           1209,
           "Mixed Nuts (1994)",
           1994,
           15
          ],
          [
           1210,
           "Virtuosity (1995)",
           1995,
           38
          ],
          [
           1211,
           "Blue Sky (1994)",
           1994,
           12
          ],
          [
           1212,
           "Flesh and Bone (1993)",
           1993,
           6
          ],
          [
           1213,
           "Guilty as Sin (1993)",
           1993,
           6
          ],
          [
           1214,
           "In the Realm of the Senses (Ai no corrida) (1976)",
           1976,
           9
          ],
          [
           1215,
           "Barb Wire (1996)",
           1996,
           30
          ],
          [
           1216,
           "Kissed (1996)",
           1997,
           6
          ],
          [
           1217,
           "Assassins (1995)",
           1995,
           39
          ],
          [
           1218,
           "Friday (1995)",
           1995,
           26
          ],
          [
           1219,
           "Goofy Movie, A (1995)",
           1995,
           20
          ],
          [
           1220,
           "Higher Learning (1995)",
           1995,
           30
          ],
          [
           1221,
           "When a Man Loves a Woman (1994)",
           1994,
           39
          ],
          [
           1222,
           "Judgment Night (1993)",
           1993,
           25
          ],
          [
           1223,
           "King of the Hill (1993)",
           1993,
           4
          ],
          [
           1224,
           "Scout, The (1994)",
           1994,
           12
          ],
          [
           1225,
           "Angus (1995)",
           1995,
           14
          ],
          [
           1226,
           "Night Falls on Manhattan (1997)",
           1997,
           32
          ],
          [
           1227,
           "Awfully Big Adventure, An (1995)",
           1995,
           8
          ],
          [
           1228,
           "Under Siege 2: Dark Territory (1995)",
           1995,
           48
          ],
          [
           1229,
           "Poison Ivy II (1995)",
           1995,
           13
          ],
          [
           1230,
           "Ready to Wear (Pret-A-Porter) (1994)",
           1994,
           18
          ],
          [
           1231,
           "Marked for Death (1990)",
           1990,
           22
          ],
          [
           1232,
           "Madonna: Truth or Dare (1991)",
           1991,
           17
          ],
          [
           1233,
           "Nénette et Boni (1996)",
           1996,
           6
          ],
          [
           1234,
           "Chairman of the Board (1998)",
           1998,
           8
          ],
          [
           1235,
           "Big Bang Theory, The (1994)",
           1994,
           1
          ],
          [
           1236,
           "Other Voices, Other Rooms (1997)",
           1997,
           1
          ],
          [
           1237,
           "Twisted (1996)",
           1996,
           6
          ],
          [
           1238,
           "Full Speed (1996)",
           1996,
           8
          ],
          [
           1239,
           "Cutthroat Island (1995)",
           1995,
           18
          ],
          [
           1240,
           "Ghost in the Shell (Kokaku kidotai) (1995)",
           1996,
           26
          ],
          [
           1241,
           "Van, The (1996)",
           1997,
           6
          ],
          [
           1242,
           "Old Lady Who Walked in the Sea, The (Vieille qui marchait dans la mer, La) (1991)",
           1991,
           5
          ],
          [
           1243,
           "Night Flier (1997)",
           1998,
           7
          ],
          [
           1244,
           "Metro (1997)",
           1997,
           36
          ],
          [
           1245,
           "Gridlock'd (1997)",
           1997,
           19
          ],
          [
           1246,
           "Bushwhacked (1995)",
           1995,
           7
          ],
          [
           1247,
           "Bad Girls (1994)",
           1994,
           6
          ],
          [
           1248,
           "Blink (1994)",
           1994,
           19
          ],
          [
           1249,
           "For Love or Money (1993)",
           1993,
           12
          ],
          [
           1250,
           "Best of the Best 3: No Turning Back (1995)",
           1995,
           6
          ],
          [
           1251,
           "A Chef in Love (1996)",
           1997,
           8
          ],
          [
           1252,
           "Contempt (Mépris, Le) (1963)",
           1997,
           9
          ],
          [
           1253,
           "Tie That Binds, The (1995)",
           1995,
           7
          ],
          [
           1254,
           "Gone Fishin' (1997)",
           1997,
           11
          ],
          [
           1255,
           "Broken English (1996)",
           1997,
           8
          ],
          [
           1256,
           "Designated Mourner, The (1997)",
           1997,
           3
          ],
          [
           1257,
           "Designated Mourner, The (1997)",
           1997,
           4
          ],
          [
           1258,
           "Trial and Error (1997)",
           1997,
           23
          ],
          [
           1259,
           "Pie in the Sky (1995)",
           1996,
           4
          ],
          [
           1260,
           "Total Eclipse (1995)",
           1995,
           4
          ],
          [
           1261,
           "Run of the Country, The (1995)",
           1995,
           4
          ],
          [
           1262,
           "Walking and Talking (1996)",
           1996,
           8
          ],
          [
           1263,
           "Foxfire (1996)",
           1996,
           15
          ],
          [
           1264,
           "Nothing to Lose (1994)",
           1996,
           7
          ],
          [
           1265,
           "Star Maps (1997)",
           1997,
           19
          ],
          [
           1266,
           "Bread and Chocolate (Pane e cioccolata) (1973)",
           1973,
           12
          ],
          [
           1267,
           "Clockers (1995)",
           1995,
           33
          ],
          [
           1268,
           "Bitter Moon (1992)",
           1992,
           10
          ],
          [
           1269,
           "Love in the Afternoon (1957)",
           1957,
           10
          ],
          [
           1270,
           "Life with Mikey (1993)",
           1993,
           7
          ],
          [
           1271,
           "North (1994)",
           1994,
           7
          ],
          [
           1272,
           "Talking About Sex (1994)",
           1994,
           5
          ],
          [
           1273,
           "Color of Night (1994)",
           1994,
           15
          ],
          [
           1274,
           "Robocop 3 (1993)",
           1993,
           11
          ],
          [
           1275,
           "Killer (Bulletproof Heart) (1994)",
           1994,
           4
          ],
          [
           1276,
           "Sunset Park (1996)",
           1996,
           8
          ],
          [
           1277,
           "Set It Off (1996)",
           1996,
           19
          ],
          [
           1278,
           "Selena (1997)",
           1997,
           16
          ],
          [
           1279,
           "Wild America (1997)",
           1997,
           9
          ],
          [
           1280,
           "Gang Related (1997)",
           1997,
           16
          ],
          [
           1281,
           "Manny & Lo (1996)",
           1996,
           13
          ],
          [
           1282,
           "Grass Harp, The (1995)",
           1996,
           9
          ],
          [
           1283,
           "Out to Sea (1997)",
           1997,
           19
          ],
          [
           1284,
           "Before and After (1996)",
           1996,
           26
          ],
          [
           1285,
           "Princess Caraboo (1994)",
           1994,
           15
          ],
          [
           1286,
           "Shall We Dance? (1937)",
           1937,
           17
          ],
          [
           1287,
           "Ed (1996)",
           1996,
           6
          ],
          [
           1288,
           "Denise Calls Up (1995)",
           1996,
           7
          ],
          [
           1289,
           "Jack and Sarah (1995)",
           1996,
           7
          ],
          [
           1290,
           "Country Life (1994)",
           1994,
           2
          ],
          [
           1291,
           "Celtic Pride (1996)",
           1996,
           15
          ],
          [
           1292,
           "Simple Wish, A (1997)",
           1997,
           3
          ],
          [
           1293,
           "Star Kid (1997)",
           1998,
           3
          ],
          [
           1294,
           "Ayn Rand: A Sense of Life (1997)",
           1998,
           7
          ],
          [
           1295,
           "Kicked in the Head (1997)",
           1997,
           7
          ],
          [
           1296,
           "Indian Summer (1996)",
           1996,
           20
          ],
          [
           1297,
           "Love Affair (1994)",
           1994,
           12
          ],
          [
           1298,
           "Band Wagon, The (1953)",
           1953,
           9
          ],
          [
           1299,
           "Penny Serenade (1941)",
           1941,
           8
          ],
          [
           1300,
           "'Til There Was You (1997)",
           1997,
           9
          ],
          [
           1301,
           "Stripes (1981)",
           1981,
           5
          ],
          [
           1302,
           "Late Bloomers (1996)",
           1997,
           5
          ],
          [
           1303,
           "Getaway, The (1994)",
           1994,
           18
          ],
          [
           1304,
           "New York Cop (1996)",
           1996,
           2
          ],
          [
           1305,
           "National Lampoon's Senior Trip (1995)",
           1995,
           7
          ],
          [
           1306,
           "Delta of Venus (1994)",
           1994,
           2
          ],
          [
           1307,
           "Carmen Miranda: Bananas Is My Business (1994)",
           1994,
           2
          ],
          [
           1308,
           "Babyfever (1994)",
           1994,
           2
          ],
          [
           1309,
           "Very Natural Thing, A (1974)",
           1974,
           1
          ],
          [
           1310,
           "Walk in the Sun, A (1945)",
           1945,
           1
          ],
          [
           1311,
           "Waiting to Exhale (1995)",
           1996,
           16
          ],
          [
           1312,
           "Pompatus of Love, The (1996)",
           1996,
           7
          ],
          [
           1313,
           "Palmetto (1998)",
           1998,
           14
          ],
          [
           1314,
           "Surviving the Game (1994)",
           1994,
           11
          ],
          [
           1315,
           "Inventing the Abbotts (1997)",
           1997,
           23
          ],
          [
           1316,
           "Horse Whisperer, The (1998)",
           1997,
           7
          ],
          [
           1317,
           "Journey of August King, The (1995)",
           1996,
           4
          ],
          [
           1318,
           "Catwalk (1995)",
           1996,
           3
          ],
          [
           1319,
           "Neon Bible, The (1995)",
           1996,
           4
          ],
          [
           1320,
           "Homage (1995)",
           1996,
           1
          ],
          [
           1321,
           "Open Season (1996)",
           1996,
           2
          ],
          [
           1322,
           "Metisse (Café au Lait) (1993)",
           1993,
           6
          ],
          [
           1323,
           "Wooden Man's Bride, The (Wu Kui) (1994)",
           1994,
           3
          ],
          [
           1324,
           "Loaded (1994)",
           1996,
           5
          ],
          [
           1325,
           "August (1996)",
           1996,
           1
          ],
          [
           1326,
           "Boys (1996)",
           1996,
           6
          ],
          [
           1327,
           "Captives (1994)",
           1994,
           3
          ],
          [
           1328,
           "Of Love and Shadows (1994)",
           1996,
           6
          ],
          [
           1329,
           "Low Life, The (1994)",
           1996,
           1
          ],
          [
           1330,
           "An Unforgettable Summer (1994)",
           1994,
           4
          ],
          [
           1331,
           "Last Klezmer: Leopold Kozlowski, His Life and Music, The (1995)",
           1995,
           4
          ],
          [
           1332,
           "My Life and Times With Antonin Artaud (En compagnie d'Antonin Artaud) (1993)",
           1993,
           2
          ],
          [
           1333,
           "Midnight Dancers (Sibak) (1994)",
           1994,
           5
          ],
          [
           1334,
           "Somebody to Love (1994)",
           1996,
           2
          ],
          [
           1335,
           "American Buffalo (1996)",
           1996,
           11
          ],
          [
           1336,
           "Kazaam (1996)",
           1996,
           10
          ],
          [
           1337,
           "Larger Than Life (1996)",
           1996,
           9
          ],
          [
           1338,
           "Two Deaths (1995)",
           1996,
           4
          ],
          [
           1339,
           "Stefano Quantestorie (1993)",
           1993,
           1
          ],
          [
           1340,
           "Crude Oasis, The (1995)",
           1995,
           1
          ],
          [
           1341,
           "Hedd Wyn (1992)",
           1992,
           1
          ],
          [
           1342,
           "Convent, The (Convento, O) (1995)",
           1996,
           2
          ],
          [
           1343,
           "Lotto Land (1995)",
           1995,
           1
          ],
          [
           1344,
           "Story of Xinghua, The (1993)",
           1993,
           5
          ],
          [
           1345,
           "Day the Sun Turned Cold, The (Tianguo niezi) (1994)",
           1994,
           2
          ],
          [
           1346,
           "Dingo (1992)",
           1992,
           5
          ],
          [
           1347,
           "Ballad of Narayama, The (Narayama Bushiko) (1958)",
           1958,
           4
          ],
          [
           1348,
           "Every Other Weekend (1990)",
           1990,
           1
          ],
          [
           1349,
           "Mille bolle blu (1993)",
           1993,
           1
          ],
          [
           1350,
           "Crows and Sparrows (1949)",
           1949,
           2
          ],
          [
           1351,
           "Lover's Knot (1996)",
           1996,
           3
          ],
          [
           1352,
           "Shadow of Angels (Schatten der Engel) (1976)",
           1976,
           1
          ],
          [
           1353,
           "1-900 (1994)",
           1994,
           5
          ],
          [
           1354,
           "Venice/Venice (1992)",
           1992,
           2
          ],
          [
           1355,
           "Infinity (1996)",
           1996,
           6
          ],
          [
           1356,
           "Ed's Next Move (1996)",
           1996,
           3
          ],
          [
           1357,
           "For the Moment (1994)",
           1994,
           3
          ],
          [
           1358,
           "The Deadly Cure (1996)",
           1996,
           2
          ],
          [
           1359,
           "Boys in Venice (1996)",
           1996,
           2
          ],
          [
           1360,
           "Sexual Life of the Belgians, The (1994)",
           1994,
           2
          ],
          [
           1361,
           "Search for One-eye Jimmy, The (1996)",
           1996,
           3
          ],
          [
           1362,
           "American Strays (1996)",
           1996,
           2
          ],
          [
           1363,
           "Leopard Son, The (1996)",
           1996,
           1
          ],
          [
           1364,
           "Bird of Prey (1996)",
           1996,
           1
          ],
          [
           1365,
           "Johnny 100 Pesos (1993)",
           1993,
           2
          ],
          [
           1366,
           "JLG/JLG - autoportrait de décembre (1994)",
           1994,
           1
          ],
          [
           1367,
           "Faust (1994)",
           1994,
           5
          ],
          [
           1368,
           "Mina Tannenbaum (1994)",
           1994,
           6
          ],
          [
           1369,
           "Forbidden Christ, The (Cristo proibito, Il) (1950)",
           1950,
           4
          ],
          [
           1370,
           "I Can't Sleep (J'ai pas sommeil) (1994)",
           1994,
           3
          ],
          [
           1371,
           "Machine, The (1994)",
           1994,
           2
          ],
          [
           1372,
           "Stranger, The (1994)",
           1994,
           3
          ],
          [
           1373,
           "Good Morning (1971)",
           1971,
           1
          ],
          [
           1374,
           "Falling in Love Again (1980)",
           1980,
           2
          ],
          [
           1375,
           "Cement Garden, The (1993)",
           1993,
           10
          ],
          [
           1376,
           "Meet Wally Sparks (1997)",
           1997,
           7
          ],
          [
           1377,
           "Hotel de Love (1996)",
           1997,
           4
          ],
          [
           1378,
           "Rhyme & Reason (1997)",
           1997,
           5
          ],
          [
           1379,
           "Love and Other Catastrophes (1996)",
           1997,
           7
          ],
          [
           1380,
           "Hollow Reed (1996)",
           1997,
           6
          ],
          [
           1381,
           "Losing Chase (1996)",
           1996,
           8
          ],
          [
           1382,
           "Bonheur, Le (1965)",
           1997,
           4
          ],
          [
           1383,
           "Second Jungle Book: Mowgli & Baloo, The (1997)",
           1997,
           6
          ],
          [
           1384,
           "Squeeze (1996)",
           1997,
           3
          ],
          [
           1385,
           "Roseanna's Grave (For Roseanna) (1997)",
           1997,
           5
          ],
          [
           1386,
           "Tetsuo II: Body Hammer (1992)",
           1997,
           6
          ],
          [
           1387,
           "Fall (1997)",
           1997,
           3
          ],
          [
           1388,
           "Gabbeh (1996)",
           1997,
           6
          ],
          [
           1389,
           "Mondo (1996)",
           1997,
           3
          ],
          [
           1390,
           "Innocent Sleep, The (1995)",
           1997,
           2
          ],
          [
           1391,
           "For Ever Mozart (1996)",
           1997,
           3
          ],
          [
           1392,
           "Locusts, The (1997)",
           1997,
           5
          ],
          [
           1393,
           "Stag (1997)",
           1997,
           9
          ],
          [
           1394,
           "Swept from the Sea (1997)",
           1997,
           7
          ],
          [
           1395,
           "Hurricane Streets (1998)",
           1998,
           6
          ],
          [
           1396,
           "Stonewall (1995)",
           1996,
           5
          ],
          [
           1397,
           "Of Human Bondage (1934)",
           1934,
           5
          ],
          [
           1398,
           "Anna (1996)",
           1996,
           2
          ],
          [
           1399,
           "Stranger in the House (1997)",
           1997,
           7
          ],
          [
           1400,
           "Picture Bride (1995)",
           1995,
           10
          ],
          [
           1401,
           "M. Butterfly (1993)",
           1993,
           18
          ],
          [
           1402,
           "Ciao, Professore! (1993)",
           1993,
           4
          ],
          [
           1403,
           "Caro Diario (Dear Diary) (1994)",
           1994,
           4
          ],
          [
           1404,
           "Withnail and I (1987)",
           1987,
           13
          ],
          [
           1405,
           "Boy's Life 2 (1997)",
           1997,
           6
          ],
          [
           1406,
           "When Night Is Falling (1995)",
           1995,
           5
          ],
          [
           1407,
           "Specialist, The (1994)",
           1994,
           20
          ],
          [
           1408,
           "Gordy (1995)",
           1995,
           3
          ],
          [
           1409,
           "Swan Princess, The (1994)",
           1994,
           7
          ],
          [
           1410,
           "Harlem (1993)",
           1993,
           4
          ],
          [
           1411,
           "Barbarella (1968)",
           1968,
           28
          ],
          [
           1412,
           "Land Before Time III: The Time of the Great Giving (1995) (V)",
           1995,
           6
          ],
          [
           1413,
           "Street Fighter (1994)",
           1994,
           8
          ],
          [
           1414,
           "Coldblooded (1995)",
           1995,
           1
          ],
          [
           1415,
           "Next Karate Kid, The (1994)",
           1994,
           9
          ],
          [
           1416,
           "No Escape (1994)",
           1994,
           5
          ],
          [
           1417,
           "Turning, The (1992)",
           1997,
           2
          ],
          [
           1418,
           "Joy Luck Club, The (1993)",
           1993,
           3
          ],
          [
           1419,
           "Highlander III: The Sorcerer (1994)",
           1994,
           16
          ],
          [
           1420,
           "Gilligan's Island: The Movie (1998)",
           1997,
           3
          ],
          [
           1421,
           "My Crazy Life (Mi vida loca) (1993)",
           1993,
           11
          ],
          [
           1422,
           "Suture (1993)",
           1993,
           4
          ],
          [
           1423,
           "Walking Dead, The (1995)",
           1995,
           4
          ],
          [
           1424,
           "I Like It Like That (1994)",
           1994,
           3
          ],
          [
           1425,
           "I'll Do Anything (1994)",
           1994,
           10
          ],
          [
           1426,
           "Grace of My Heart (1996)",
           1996,
           8
          ],
          [
           1427,
           "Drunks (1995)",
           1996,
           5
          ],
          [
           1428,
           "SubUrbia (1997)",
           1997,
           12
          ],
          [
           1429,
           "Sliding Doors (1998)",
           1998,
           4
          ],
          [
           1430,
           "Ill Gotten Gains (1997)",
           1997,
           3
          ],
          [
           1431,
           "Legal Deceit (1997)",
           1997,
           5
          ],
          [
           1432,
           "Mighty, The (1998)",
           1998,
           3
          ],
          [
           1433,
           "Men of Means (1998)",
           1997,
           2
          ],
          [
           1434,
           "Shooting Fish (1997)",
           1998,
           10
          ],
          [
           1435,
           "Steal Big, Steal Little (1995)",
           1995,
           7
          ],
          [
           1436,
           "Mr. Jones (1993)",
           1993,
           2
          ],
          [
           1437,
           "House Party 3 (1994)",
           1994,
           9
          ],
          [
           1438,
           "Panther (1995)",
           1995,
           5
          ],
          [
           1439,
           "Jason's Lyric (1994)",
           1994,
           8
          ],
          [
           1440,
           "Above the Rim (1994)",
           1994,
           5
          ],
          [
           1441,
           "Moonlight and Valentino (1995)",
           1995,
           7
          ],
          [
           1442,
           "Scarlet Letter, The (1995)",
           1995,
           5
          ],
          [
           1443,
           "8 Seconds (1994)",
           1994,
           4
          ],
          [
           1444,
           "That Darn Cat! (1965)",
           1965,
           19
          ],
          [
           1445,
           "Ladybird Ladybird (1994)",
           1994,
           4
          ],
          [
           1446,
           "Bye Bye, Love (1995)",
           1995,
           15
          ],
          [
           1447,
           "Century (1993)",
           1993,
           1
          ],
          [
           1448,
           "My Favorite Season (1993)",
           1996,
           3
          ],
          [
           1449,
           "Pather Panchali (1955)",
           1996,
           8
          ],
          [
           1450,
           "Golden Earrings (1947)",
           1947,
           2
          ],
          [
           1451,
           "Foreign Correspondent (1940)",
           1940,
           15
          ],
          [
           1452,
           "Lady of Burlesque (1943)",
           1943,
           1
          ],
          [
           1453,
           "Angel on My Shoulder (1946)",
           1946,
           1
          ],
          [
           1454,
           "Angel and the Badman (1947)",
           1947,
           6
          ],
          [
           1455,
           "Outlaw, The (1943)",
           1943,
           2
          ],
          [
           1456,
           "Beat the Devil (1954)",
           1954,
           7
          ],
          [
           1457,
           "Love Is All There Is (1996)",
           1996,
           1
          ],
          [
           1458,
           "Damsel in Distress, A (1937)",
           1937,
           1
          ],
          [
           1459,
           "Madame Butterfly (1995)",
           1996,
           7
          ],
          [
           1460,
           "Sleepover (1995)",
           1996,
           1
          ],
          [
           1461,
           "Here Comes Cookie (1935)",
           1935,
           1
          ],
          [
           1462,
           "Thieves (Voleurs, Les) (1996)",
           1996,
           7
          ],
          [
           1463,
           "Boys, Les (1997)",
           1997,
           3
          ],
          [
           1464,
           "Stars Fell on Henrietta, The (1995)",
           1995,
           3
          ],
          [
           1465,
           "Last Summer in the Hamptons (1995)",
           1995,
           3
          ],
          [
           1466,
           "Margaret's Museum (1995)",
           1995,
           6
          ],
          [
           1467,
           "Saint of Fort Washington, The (1993)",
           1993,
           2
          ],
          [
           1468,
           "Cure, The (1995)",
           1995,
           6
          ],
          [
           1469,
           "Tom and Huck (1995)",
           1995,
           12
          ],
          [
           1470,
           "Gumby: The Movie (1995)",
           1995,
           5
          ],
          [
           1471,
           "Hideaway (1995)",
           1995,
           9
          ],
          [
           1472,
           "Visitors, The (Visiteurs, Les) (1993)",
           1996,
           2
          ],
          [
           1473,
           "Little Princess, The (1939)",
           1939,
           9
          ],
          [
           1474,
           "Nina Takes a Lover (1994)",
           1994,
           6
          ],
          [
           1475,
           "Bhaji on the Beach (1993)",
           1993,
           8
          ],
          [
           1476,
           "Raw Deal (1948)",
           1948,
           1
          ],
          [
           1477,
           "Nightwatch (1997)",
           1997,
           2
          ],
          [
           1478,
           "Dead Presidents (1995)",
           1995,
           18
          ],
          [
           1479,
           "Reckless (1995)",
           1995,
           8
          ],
          [
           1480,
           "Herbie Rides Again (1974)",
           1974,
           11
          ],
          [
           1481,
           "S.F.W. (1994)",
           1994,
           2
          ],
          [
           1482,
           "Gate of Heavenly Peace, The (1995)",
           1996,
           1
          ],
          [
           1483,
           "Man in the Iron Mask, The (1998)",
           1998,
           12
          ],
          [
           1484,
           "Jerky Boys, The (1994)",
           1994,
           3
          ],
          [
           1485,
           "Colonel Chabert, Le (1994)",
           1994,
           4
          ],
          [
           1486,
           "Girl in the Cadillac (1995)",
           1995,
           1
          ],
          [
           1487,
           "Even Cowgirls Get the Blues (1993)",
           1993,
           5
          ],
          [
           1488,
           "Germinal (1993)",
           1993,
           4
          ],
          [
           1489,
           "Chasers (1994)",
           1994,
           5
          ],
          [
           1490,
           "Fausto (1993)",
           1993,
           3
          ],
          [
           1491,
           "Tough and Deadly (1995)",
           1995,
           2
          ],
          [
           1492,
           "Window to Paris (1994)",
           1994,
           1
          ],
          [
           1493,
           "Modern Affair, A (1995)",
           1996,
           1
          ],
          [
           1494,
           "Mostro, Il (1994)",
           1996,
           1
          ],
          [
           1495,
           "Flirt (1995)",
           1996,
           5
          ],
          [
           1496,
           "Carpool (1996)",
           1996,
           5
          ],
          [
           1497,
           "Line King: Al Hirschfeld, The (1996)",
           1996,
           2
          ],
          [
           1498,
           "Farmer & Chase (1995)",
           1997,
           1
          ],
          [
           1499,
           "Grosse Fatigue (1994)",
           1994,
           4
          ],
          [
           1500,
           "Santa with Muscles (1996)",
           1996,
           2
          ],
          [
           1501,
           "Prisoner of the Mountains (Kavkazsky Plennik) (1996)",
           1997,
           5
          ],
          [
           1502,
           "Naked in New York (1994)",
           1994,
           2
          ],
          [
           1503,
           "Gold Diggers: The Secret of Bear Mountain (1995)",
           1995,
           10
          ],
          [
           1504,
           "Bewegte Mann, Der (1994)",
           1996,
           3
          ],
          [
           1505,
           "Killer: A Journal of Murder (1995)",
           1996,
           1
          ],
          [
           1506,
           "Nelly & Monsieur Arnaud (1995)",
           1996,
           3
          ],
          [
           1507,
           "Three Lives and Only One Death (1996)",
           1996,
           1
          ],
          [
           1508,
           "Babysitter, The (1995)",
           1995,
           3
          ],
          [
           1509,
           "Getting Even with Dad (1994)",
           1994,
           5
          ],
          [
           1510,
           "Mad Dog Time (1996)",
           1996,
           1
          ],
          [
           1511,
           "Children of the Revolution (1996)",
           1997,
           5
          ],
          [
           1512,
           "World of Apu, The (Apur Sansar) (1959)",
           1996,
           6
          ],
          [
           1513,
           "Sprung (1997)",
           1997,
           3
          ],
          [
           1514,
           "Dream With the Fishes (1997)",
           1997,
           7
          ],
          [
           1515,
           "Wings of Courage (1995)",
           1995,
           1
          ],
          [
           1516,
           "Wedding Gift, The (1994)",
           1994,
           3
          ],
          [
           1517,
           "Race the Sun (1996)",
           1996,
           5
          ],
          [
           1518,
           "Losing Isaiah (1995)",
           1995,
           12
          ],
          [
           1519,
           "New Jersey Drive (1995)",
           1995,
           2
          ],
          [
           1520,
           "Fear, The (1995)",
           1995,
           1
          ],
          [
           1521,
           "Mr. Wonderful (1993)",
           1993,
           4
          ],
          [
           1522,
           "Trial by Jury (1994)",
           1994,
           7
          ],
          [
           1523,
           "Good Man in Africa, A (1994)",
           1994,
           2
          ],
          [
           1524,
           "Kaspar Hauser (1993)",
           1996,
           8
          ],
          [
           1525,
           "Object of My Affection, The (1998)",
           1998,
           1
          ],
          [
           1526,
           "Witness (1985)",
           1985,
           1
          ],
          [
           1527,
           "Senseless (1998)",
           1998,
           7
          ],
          [
           1528,
           "Nowhere (1997)",
           1997,
           3
          ],
          [
           1529,
           "Underground (1995)",
           1996,
           5
          ],
          [
           1530,
           "Jefferson in Paris (1995)",
           1995,
           5
          ],
          [
           1531,
           "Far From Home: The Adventures of Yellow Dog (1995)",
           1995,
           7
          ],
          [
           1532,
           "Foreign Student (1994)",
           1994,
           2
          ],
          [
           1533,
           "I Don't Want to Talk About It (De eso no se habla) (1993)",
           1993,
           1
          ],
          [
           1534,
           "Twin Town (1997)",
           1997,
           6
          ],
          [
           1535,
           "Enfer, L' (1994)",
           1994,
           4
          ],
          [
           1536,
           "Aiqing wansui (1994)",
           1996,
           1
          ],
          [
           1537,
           "Cosi (1996)",
           1997,
           4
          ],
          [
           1538,
           "All Over Me (1997)",
           1997,
           3
          ],
          [
           1539,
           "Being Human (1993)",
           1993,
           4
          ],
          [
           1540,
           "Amazing Panda Adventure, The (1995)",
           1995,
           10
          ],
          [
           1541,
           "Beans of Egypt, Maine, The (1994)",
           1994,
           2
          ],
          [
           1542,
           "Scarlet Letter, The (1926)",
           1926,
           2
          ],
          [
           1543,
           "Johns (1996)",
           1996,
           1
          ],
          [
           1544,
           "It Takes Two (1995)",
           1995,
           3
          ],
          [
           1545,
           "Frankie Starlight (1995)",
           1995,
           4
          ],
          [
           1546,
           "Shadows (Cienie) (1988)",
           1988,
           1
          ],
          [
           1547,
           "Show, The (1995)",
           1995,
           2
          ],
          [
           1548,
           "The Courtyard (1995)",
           1995,
           1
          ],
          [
           1549,
           "Dream Man (1995)",
           1995,
           2
          ],
          [
           1550,
           "Destiny Turns on the Radio (1995)",
           1995,
           2
          ],
          [
           1551,
           "Glass Shield, The (1994)",
           1994,
           2
          ],
          [
           1552,
           "Hunted, The (1995)",
           1995,
           3
          ],
          [
           1553,
           "Underneath, The (1995)",
           1995,
           4
          ],
          [
           1554,
           "Safe Passage (1994)",
           1994,
           2
          ],
          [
           1555,
           "Secret Adventures of Tom Thumb, The (1993)",
           1993,
           5
          ],
          [
           1556,
           "Condition Red (1995)",
           1995,
           2
          ],
          [
           1557,
           "Yankee Zulu (1994)",
           1996,
           1
          ],
          [
           1558,
           "Aparajito (1956)",
           1996,
           7
          ],
          [
           1559,
           "Hostile Intentions (1994)",
           1994,
           1
          ],
          [
           1560,
           "Clean Slate (Coup de Torchon) (1981)",
           1981,
           4
          ],
          [
           1561,
           "Tigrero: A Film That Was Never Made (1994)",
           1994,
           1
          ],
          [
           1562,
           "Eye of Vichy, The (Oeil de Vichy, L') (1993)",
           1993,
           1
          ],
          [
           1563,
           "Promise, The (Versprechen, Das) (1994)",
           1994,
           1
          ],
          [
           1564,
           "To Cross the Rubicon (1991)",
           1991,
           1
          ],
          [
           1565,
           "Daens (1992)",
           1992,
           1
          ],
          [
           1566,
           "Man from Down Under, The (1943)",
           1943,
           1
          ],
          [
           1567,
           "Careful (1992)",
           1992,
           1
          ],
          [
           1568,
           "Vermont Is For Lovers (1992)",
           1992,
           1
          ],
          [
           1569,
           "Vie est belle, La (Life is Rosey) (1987)",
           1987,
           1
          ],
          [
           1570,
           "Quartier Mozart (1992)",
           1992,
           1
          ],
          [
           1571,
           "Touki Bouki (Journey of the Hyena) (1973)",
           1973,
           1
          ],
          [
           1572,
           "Wend Kuuni (God's Gift) (1982)",
           1982,
           1
          ],
          [
           1573,
           "Spirits of the Dead (Tre passi nel delirio) (1968)",
           1968,
           2
          ],
          [
           1574,
           "Pharaoh's Army (1995)",
           1995,
           1
          ],
          [
           1575,
           "I, Worst of All (Yo, la peor de todas) (1990)",
           1990,
           1
          ],
          [
           1576,
           "Hungarian Fairy Tale, A (1987)",
           1987,
           1
          ],
          [
           1577,
           "Death in the Garden (Mort en ce jardin, La) (1956)",
           1956,
           1
          ],
          [
           1578,
           "Collectionneuse, La (1967)",
           1967,
           2
          ],
          [
           1579,
           "Baton Rouge (1988)",
           1988,
           1
          ],
          [
           1580,
           "Liebelei (1933)",
           1933,
           1
          ],
          [
           1581,
           "Woman in Question, The (1950)",
           1950,
           1
          ],
          [
           1582,
           "T-Men (1947)",
           1947,
           1
          ],
          [
           1583,
           "Invitation, The (Zaproszenie) (1986)",
           1986,
           1
          ],
          [
           1584,
           "Symphonie pastorale, La (1946)",
           1946,
           1
          ],
          [
           1585,
           "American Dream (1990)",
           1990,
           2
          ],
          [
           1586,
           "Lashou shentan (1992)",
           1992,
           1
          ],
          [
           1587,
           "Terror in a Texas Town (1958)",
           1958,
           1
          ],
          [
           1588,
           "Salut cousin! (1996)",
           1997,
           2
          ],
          [
           1589,
           "Schizopolis (1996)",
           1997,
           4
          ],
          [
           1590,
           "To Have, or Not (1995)",
           1997,
           2
          ],
          [
           1591,
           "Duoluo tianshi (1995)",
           1998,
           6
          ],
          [
           1592,
           "Magic Hour, The (1998)",
           1998,
           5
          ],
          [
           1593,
           "Death in Brunswick (1991)",
           1996,
           1
          ],
          [
           1594,
           "Everest (1998)",
           1998,
           2
          ],
          [
           1595,
           "Shopping (1994)",
           1996,
           1
          ],
          [
           1596,
           "Nemesis 2: Nebula (1995)",
           1995,
           1
          ],
          [
           1597,
           "Romper Stomper (1992)",
           1992,
           5
          ],
          [
           1598,
           "City of Industry (1997)",
           1997,
           6
          ],
          [
           1599,
           "Someone Else's America (1995)",
           1996,
           1
          ],
          [
           1600,
           "Guantanamera (1994)",
           1997,
           4
          ],
          [
           1601,
           "Office Killer (1997)",
           1997,
           1
          ],
          [
           1602,
           "Price Above Rubies, A (1998)",
           1998,
           3
          ],
          [
           1603,
           "Angela (1995)",
           1996,
           1
          ],
          [
           1604,
           "He Walked by Night (1948)",
           1948,
           1
          ],
          [
           1605,
           "Love Serenade (1996)",
           1997,
           4
          ],
          [
           1606,
           "Deceiver (1997)",
           1997,
           1
          ],
          [
           1607,
           "Hurricane Streets (1998)",
           1998,
           3
          ],
          [
           1608,
           "Buddy (1997)",
           1997,
           4
          ],
          [
           1609,
           "B*A*P*S (1997)",
           1997,
           3
          ],
          [
           1610,
           "Truth or Consequences, N.M. (1997)",
           1997,
           3
          ],
          [
           1611,
           "Intimate Relations (1996)",
           1997,
           2
          ],
          [
           1612,
           "Leading Man, The (1996)",
           1998,
           4
          ],
          [
           1613,
           "Tokyo Fist (1995)",
           1998,
           1
          ],
          [
           1614,
           "Reluctant Debutante, The (1958)",
           1958,
           1
          ],
          [
           1615,
           "Warriors of Virtue (1997)",
           1997,
           10
          ],
          [
           1616,
           "Desert Winds (1995)",
           1995,
           1
          ],
          [
           1617,
           "Hugo Pool (1997)",
           1997,
           2
          ],
          [
           1618,
           "King of New York (1990)",
           1990,
           1
          ],
          [
           1619,
           "All Things Fair (1996)",
           1996,
           1
          ],
          [
           1620,
           "Sixth Man, The (1997)",
           1997,
           9
          ],
          [
           1621,
           "Butterfly Kiss (1995)",
           1996,
           1
          ],
          [
           1622,
           "Paris, France (1993)",
           1993,
           3
          ],
          [
           1623,
           "Cérémonie, La (1995)",
           1996,
           3
          ],
          [
           1624,
           "Hush (1998)",
           1998,
           1
          ],
          [
           1625,
           "Nightwatch (1997)",
           1997,
           1
          ],
          [
           1626,
           "Nobody Loves Me (Keiner liebt mich) (1994)",
           1996,
           1
          ],
          [
           1627,
           "Wife, The (1995)",
           1996,
           1
          ],
          [
           1628,
           "Lamerica (1994)",
           1994,
           4
          ],
          [
           1629,
           "Nico Icon (1995)",
           1995,
           2
          ],
          [
           1630,
           "Silence of the Palace, The (Saimt el Qusur) (1994)",
           1996,
           1
          ],
          [
           1631,
           "Slingshot, The (1993)",
           1993,
           2
          ],
          [
           1632,
           "Land and Freedom (Tierra y libertad) (1995)",
           1996,
           1
          ],
          [
           1633,
           "Á köldum klaka (Cold Fever) (1994)",
           1996,
           1
          ],
          [
           1634,
           "Etz Hadomim Tafus (Under the Domin Tree) (1994)",
           1996,
           1
          ],
          [
           1635,
           "Two Friends (1986) ",
           1986,
           1
          ],
          [
           1636,
           "Brothers in Trouble (1995)",
           1996,
           1
          ],
          [
           1637,
           "Girls Town (1996)",
           1996,
           1
          ],
          [
           1638,
           "Normal Life (1996)",
           1996,
           1
          ],
          [
           1639,
           "Bitter Sugar (Azucar Amargo) (1996)",
           1996,
           3
          ],
          [
           1640,
           "Eighth Day, The (1996)",
           1996,
           1
          ],
          [
           1641,
           "Dadetown (1995)",
           1996,
           1
          ],
          [
           1642,
           "Some Mother's Son (1996)",
           1996,
           2
          ],
          [
           1643,
           "Angel Baby (1995)",
           1997,
           4
          ],
          [
           1644,
           "Sudden Manhattan (1996)",
           1997,
           2
          ],
          [
           1645,
           "Butcher Boy, The (1998)",
           1998,
           1
          ],
          [
           1646,
           "Men With Guns (1997)",
           1998,
           2
          ],
          [
           1647,
           "Hana-bi (1997)",
           1998,
           1
          ],
          [
           1648,
           "Niagara, Niagara (1997)",
           1998,
           1
          ],
          [
           1649,
           "Big One, The (1997)",
           1998,
           1
          ],
          [
           1650,
           "Butcher Boy, The (1998)",
           1998,
           1
          ],
          [
           1651,
           "Spanish Prisoner, The (1997)",
           1998,
           1
          ],
          [
           1652,
           "Temptress Moon (Feng Yue) (1996)",
           1997,
           3
          ],
          [
           1653,
           "Entertaining Angels: The Dorothy Day Story (1996)",
           1996,
           1
          ],
          [
           1654,
           "Chairman of the Board (1998)",
           1998,
           1
          ],
          [
           1655,
           "Favor, The (1994)",
           1994,
           1
          ],
          [
           1656,
           "Little City (1998)",
           1998,
           2
          ],
          [
           1657,
           "Target (1995)",
           1996,
           1
          ],
          [
           1658,
           "Substance of Fire, The (1996)",
           1996,
           3
          ],
          [
           1659,
           "Getting Away With Murder (1996)",
           1996,
           1
          ],
          [
           1660,
           "Small Faces (1995)",
           1996,
           1
          ],
          [
           1661,
           "New Age, The (1994)",
           1994,
           1
          ],
          [
           1662,
           "Rough Magic (1995)",
           1997,
           2
          ],
          [
           1663,
           "Nothing Personal (1995)",
           1997,
           1
          ],
          [
           1664,
           "8 Heads in a Duffel Bag (1997)",
           1997,
           4
          ],
          [
           1665,
           "Brother's Kiss, A (1997)",
           1997,
           1
          ],
          [
           1666,
           "Ripe (1996)",
           1997,
           1
          ],
          [
           1667,
           "Next Step, The (1995)",
           1997,
           1
          ],
          [
           1668,
           "Wedding Bell Blues (1996)",
           1997,
           1
          ],
          [
           1669,
           "MURDER and murder (1996)",
           1997,
           1
          ],
          [
           1670,
           "Tainted (1998)",
           1998,
           1
          ],
          [
           1671,
           "Further Gesture, A (1996)",
           1998,
           1
          ],
          [
           1672,
           "Kika (1993)",
           1993,
           2
          ],
          [
           1673,
           "Mirage (1995)",
           1995,
           1
          ],
          [
           1674,
           "Mamma Roma (1962)",
           1962,
           1
          ],
          [
           1675,
           "Sunchaser, The (1996)",
           1996,
           1
          ],
          [
           1676,
           "War at Home, The (1996)",
           1996,
           1
          ],
          [
           1677,
           "Sweet Nothing (1995)",
           1996,
           1
          ],
          [
           1678,
           "Mat' i syn (1997)",
           1998,
           1
          ],
          [
           1679,
           "B. Monkey (1998)",
           1998,
           1
          ],
          [
           1680,
           "Sliding Doors (1998)",
           1998,
           1
          ],
          [
           1681,
           "You So Crazy (1994)",
           1994,
           1
          ],
          [
           1682,
           "Scream of Stone (Schrei aus Stein) (1991)",
           1996,
           1
          ]
         ],
         "hovertemplate": "tsne_1=%{x}<br>tsne_2=%{y}<br>item_id=%{customdata[0]}<br>title=%{customdata[1]}<br>release_year=%{customdata[2]}<br>popularity=%{marker.color}<extra></extra>",
         "legendgroup": "",
         "marker": {
          "color": [
           452,
           131,
           90,
           209,
           86,
           26,
           392,
           219,
           299,
           89,
           236,
           267,
           184,
           183,
           293,
           39,
           92,
           10,
           69,
           72,
           84,
           297,
           182,
           174,
           293,
           73,
           57,
           276,
           114,
           37,
           154,
           81,
           97,
           7,
           11,
           13,
           8,
           120,
           87,
           57,
           37,
           148,
           40,
           79,
           80,
           27,
           133,
           117,
           81,
           583,
           81,
           91,
           128,
           104,
           149,
           394,
           40,
           175,
           83,
           64,
           59,
           127,
           82,
           283,
           115,
           162,
           103,
           134,
           321,
           251,
           220,
           129,
           128,
           7,
           5,
           54,
           151,
           33,
           336,
           68,
           110,
           261,
           176,
           18,
           58,
           150,
           138,
           213,
           275,
           95,
           143,
           104,
           112,
           137,
           219,
           295,
           256,
           390,
           172,
           508,
           73,
           54,
           15,
           5,
           74,
           71,
           42,
           65,
           130,
           31,
           272,
           20,
           9,
           67,
           15,
           125,
           378,
           293,
           4,
           67,
           429,
           106,
           115,
           187,
           244,
           97,
           413,
           65,
           129,
           23,
           95,
           246,
           171,
           198,
           259,
           105,
           171,
           19,
           50,
           61,
           72,
           57,
           222,
           243,
           65,
           10,
           185,
           128,
           23,
           157,
           326,
           82,
           247,
           174,
           98,
           148,
           127,
           60,
           101,
           69,
           220,
           106,
           92,
           151,
           64,
           58,
           67,
           316,
           118,
           121,
           65,
           367,
           324,
           420,
           208,
           284,
           137,
           125,
           221,
           221,
           507,
           226,
           291,
           116,
           239,
           251,
           209,
           170,
           66,
           124,
           276,
           116,
           157,
           241,
           301,
           251,
           239,
           127,
           165,
           206,
           89,
           280,
           182,
           350,
           136,
           50,
           66,
           200,
           191,
           331,
           206,
           92,
           134,
           114,
           212,
           290,
           120,
           171,
           111,
           66,
           74,
           365,
           136,
           44,
           109,
           166,
           161,
           244,
           171,
           199,
           142,
           101,
           124,
           280,
           217,
           45,
           384,
           256,
           150,
           156,
           128,
           117,
           132,
           48,
           240,
           124,
           5,
           160,
           130,
           197,
           46,
           158,
           26,
           62,
           172,
           16,
           303,
           509,
           162,
           127,
           43,
           66,
           19,
           101,
           227,
           35,
           9,
           255,
           315,
           136,
           211,
           198,
           223,
           190,
           268,
           298,
           71,
           60,
           28,
           85,
           146,
           232,
           177,
           193,
           162,
           481,
           78,
           478,
           259,
           96,
           127,
           114,
           147,
           485,
           77,
           6,
           50,
           194,
           73,
           431,
           230,
           297,
           134,
           149,
           87,
           96,
           188,
           30,
           28,
           145,
           75,
           80,
           350,
           5,
           160,
           112,
           102,
           298,
           168,
           20,
           169,
           218,
           240,
           125,
           128,
           175,
           175,
           295,
           45,
           41,
           113,
           143,
           251,
           64,
           21,
           43,
           18,
           91,
           47,
           189,
           11,
           52,
           124,
           55,
           65,
           126,
           137,
           27,
           31,
           41,
           20,
           26,
           14,
           72,
           41,
           97,
           264,
           143,
           18,
           10,
           10,
           28,
           47,
           37,
           48,
           47,
           170,
           31,
           55,
           39,
           67,
           34,
           39,
           11,
           23,
           24,
           13,
           101,
           43,
           116,
           100,
           111,
           31,
           69,
           208,
           87,
           65,
           28,
           27,
           10,
           59,
           68,
           192,
           12,
           56,
           54,
           12,
           26,
           89,
           18,
           76,
           170,
           201,
           101,
           344,
           49,
           43,
           112,
           70,
           162,
           163,
           93,
           55,
           62,
           25,
           64,
           73,
           129,
           178,
           81,
           106,
           26,
           300,
           19,
           85,
           32,
           219,
           121,
           97,
           93,
           153,
           174,
           171,
           67,
           216,
           99,
           5,
           6,
           5,
           14,
           53,
           4,
           162,
           46,
           22,
           9,
           121,
           85,
           117,
           63,
           170,
           66,
           16,
           16,
           145,
           48,
           27,
           90,
           24,
           28,
           74,
           148,
           71,
           27,
           85,
           52,
           48,
           64,
           67,
           108,
           221,
           158,
           126,
           194,
           250,
           160,
           95,
           104,
           179,
           179,
           63,
           128,
           243,
           138,
           125,
           64,
           68,
           65,
           52,
           50,
           67,
           59,
           60,
           56,
           59,
           231,
           68,
           152,
           62,
           31,
           123,
           57,
           39,
           122,
           68,
           90,
           98,
           215,
           121,
           121,
           173,
           57,
           72,
           180,
           201,
           63,
           91,
           89,
           80,
           124,
           120,
           35,
           164,
           46,
           73,
           124,
           195,
           121,
           93,
           80,
           129,
           22,
           15,
           13,
           54,
           10,
           30,
           66,
           44,
           43,
           49,
           51,
           21,
           71,
           12,
           254,
           41,
           12,
           92,
           151,
           24,
           45,
           63,
           102,
           10,
           12,
           17,
           70,
           137,
           22,
           59,
           48,
           29,
           27,
           22,
           179,
           35,
           230,
           67,
           50,
           28,
           29,
           33,
           15,
           44,
           93,
           41,
           92,
           19,
           32,
           59,
           168,
           37,
           79,
           39,
           34,
           14,
           202,
           43,
           18,
           178,
           9,
           12,
           5,
           64,
           127,
           206,
           4,
           1,
           2,
           20,
           50,
           209,
           81,
           31,
           66,
           66,
           30,
           60,
           41,
           40,
           34,
           27,
           51,
           59,
           64,
           18,
           18,
           64,
           43,
           11,
           39,
           39,
           22,
           82,
           4,
           75,
           169,
           77,
           31,
           119,
           58,
           69,
           24,
           23,
           91,
           38,
           44,
           40,
           82,
           33,
           89,
           4,
           35,
           27,
           38,
           70,
           67,
           50,
           72,
           171,
           90,
           34,
           147,
           227,
           44,
           131,
           79,
           115,
           153,
           88,
           82,
           116,
           46,
           100,
           5,
           12,
           6,
           13,
           36,
           46,
           65,
           86,
           48,
           54,
           77,
           1,
           219,
           107,
           34,
           27,
           100,
           49,
           169,
           157,
           50,
           69,
           44,
           87,
           155,
           16,
           164,
           91,
           44,
           13,
           79,
           40,
           10,
           102,
           15,
           10,
           53,
           19,
           24,
           137,
           6,
           70,
           101,
           104,
           79,
           1,
           51,
           72,
           13,
           87,
           58,
           82,
           16,
           29,
           86,
           54,
           58,
           34,
           76,
           16,
           14,
           63,
           45,
           81,
           24,
           39,
           180,
           15,
           27,
           137,
           78,
           59,
           31,
           164,
           63,
           58,
           267,
           39,
           92,
           16,
           119,
           102,
           316,
           51,
           124,
           180,
           39,
           24,
           57,
           96,
           128,
           4,
           21,
           11,
           46,
           44,
           115,
           149,
           29,
           32,
           9,
           11,
           52,
           42,
           57,
           41,
           49,
           17,
           32,
           26,
           9,
           4,
           76,
           31,
           69,
           84,
           10,
           37,
           2,
           39,
           14,
           13,
           3,
           47,
           66,
           10,
           86,
           10,
           46,
           21,
           36,
           31,
           9,
           5,
           26,
           16,
           40,
           9,
           8,
           27,
           50,
           9,
           31,
           43,
           45,
           18,
           18,
           56,
           1,
           112,
           21,
           3,
           25,
           40,
           93,
           22,
           4,
           82,
           49,
           83,
           80,
           57,
           13,
           34,
           1,
           91,
           22,
           49,
           25,
           15,
           26,
           25,
           4,
           4,
           53,
           48,
           27,
           30,
           42,
           176,
           44,
           55,
           9,
           53,
           4,
           4,
           1,
           14,
           16,
           66,
           36,
           1,
           3,
           15,
           16,
           3,
           18,
           24,
           86,
           21,
           119,
           6,
           5,
           24,
           9,
           75,
           42,
           81,
           39,
           53,
           47,
           52,
           33,
           136,
           59,
           45,
           34,
           13,
           7,
           13,
           53,
           64,
           15,
           13,
           43,
           6,
           53,
           14,
           19,
           106,
           44,
           2,
           58,
           9,
           42,
           12,
           42,
           18,
           20,
           27,
           21,
           2,
           20,
           13,
           4,
           4,
           9,
           2,
           11,
           13,
           18,
           7,
           8,
           96,
           5,
           46,
           34,
           58,
           85,
           34,
           101,
           6,
           104,
           40,
           80,
           57,
           40,
           21,
           68,
           7,
           32,
           37,
           25,
           60,
           32,
           46,
           45,
           40,
           43,
           40,
           61,
           17,
           48,
           71,
           30,
           39,
           45,
           22,
           11,
           49,
           46,
           2,
           14,
           64,
           25,
           34,
           23,
           41,
           9,
           21,
           26,
           12,
           18,
           75,
           8,
           34,
           28,
           4,
           32,
           44,
           12,
           49,
           27,
           35,
           22,
           8,
           20,
           15,
           44,
           22,
           23,
           4,
           86,
           32,
           33,
           25,
           4,
           66,
           7,
           31,
           14,
           16,
           16,
           10,
           10,
           17,
           8,
           8,
           9,
           22,
           23,
           47,
           37,
           64,
           44,
           93,
           100,
           38,
           98,
           12,
           137,
           50,
           32,
           31,
           35,
           38,
           32,
           31,
           15,
           44,
           4,
           3,
           148,
           14,
           20,
           7,
           16,
           32,
           27,
           68,
           24,
           24,
           17,
           90,
           25,
           62,
           28,
           8,
           40,
           25,
           46,
           134,
           73,
           25,
           43,
           41,
           25,
           24,
           23,
           10,
           10,
           22,
           15,
           35,
           39,
           29,
           12,
           41,
           4,
           53,
           16,
           44,
           12,
           18,
           27,
           16,
           7,
           66,
           77,
           7,
           12,
           8,
           22,
           45,
           2,
           8,
           8,
           6,
           21,
           11,
           21,
           10,
           13,
           38,
           37,
           43,
           12,
           23,
           12,
           29,
           3,
           18,
           42,
           13,
           8,
           74,
           7,
           19,
           4,
           18,
           4,
           18,
           5,
           28,
           41,
           7,
           15,
           22,
           10,
           29,
           13,
           19,
           47,
           59,
           17,
           21,
           1,
           3,
           12,
           4,
           32,
           11,
           13,
           28,
           1,
           13,
           32,
           30,
           38,
           46,
           29,
           29,
           5,
           33,
           17,
           9,
           44,
           15,
           3,
           9,
           3,
           21,
           9,
           26,
           9,
           7,
           28,
           19,
           12,
           3,
           1,
           25,
           4,
           11,
           26,
           13,
           5,
           25,
           6,
           14,
           12,
           11,
           22,
           10,
           27,
           14,
           15,
           7,
           8,
           5,
           22,
           7,
           19,
           9,
           10,
           10,
           13,
           19,
           10,
           18,
           3,
           13,
           44,
           3,
           11,
           3,
           13,
           10,
           31,
           11,
           3,
           45,
           7,
           23,
           7,
           1,
           8,
           21,
           18,
           6,
           19,
           17,
           20,
           15,
           38,
           12,
           6,
           6,
           9,
           30,
           6,
           39,
           26,
           20,
           30,
           39,
           25,
           4,
           12,
           14,
           32,
           8,
           48,
           13,
           18,
           22,
           17,
           6,
           8,
           1,
           1,
           6,
           8,
           18,
           26,
           6,
           5,
           7,
           36,
           19,
           7,
           6,
           19,
           12,
           6,
           8,
           9,
           7,
           11,
           8,
           3,
           4,
           23,
           4,
           4,
           4,
           8,
           15,
           7,
           19,
           12,
           33,
           10,
           10,
           7,
           7,
           5,
           15,
           11,
           4,
           8,
           19,
           16,
           9,
           16,
           13,
           9,
           19,
           26,
           15,
           17,
           6,
           7,
           7,
           2,
           15,
           3,
           3,
           7,
           7,
           20,
           12,
           9,
           8,
           9,
           5,
           5,
           18,
           2,
           7,
           2,
           2,
           2,
           1,
           1,
           16,
           7,
           14,
           11,
           23,
           7,
           4,
           3,
           4,
           1,
           2,
           6,
           3,
           5,
           1,
           6,
           3,
           6,
           1,
           4,
           4,
           2,
           5,
           2,
           11,
           10,
           9,
           4,
           1,
           1,
           1,
           2,
           1,
           5,
           2,
           5,
           4,
           1,
           1,
           2,
           3,
           1,
           5,
           2,
           6,
           3,
           3,
           2,
           2,
           2,
           3,
           2,
           1,
           1,
           2,
           1,
           5,
           6,
           4,
           3,
           2,
           3,
           1,
           2,
           10,
           7,
           4,
           5,
           7,
           6,
           8,
           4,
           6,
           3,
           5,
           6,
           3,
           6,
           3,
           2,
           3,
           5,
           9,
           7,
           6,
           5,
           5,
           2,
           7,
           10,
           18,
           4,
           4,
           13,
           6,
           5,
           20,
           3,
           7,
           4,
           28,
           6,
           8,
           1,
           9,
           5,
           2,
           3,
           16,
           3,
           11,
           4,
           4,
           3,
           10,
           8,
           5,
           12,
           4,
           3,
           5,
           3,
           2,
           10,
           7,
           2,
           9,
           5,
           8,
           5,
           7,
           5,
           4,
           19,
           4,
           15,
           1,
           3,
           8,
           2,
           15,
           1,
           1,
           6,
           2,
           7,
           1,
           1,
           7,
           1,
           1,
           7,
           3,
           3,
           3,
           6,
           2,
           6,
           12,
           5,
           9,
           2,
           9,
           6,
           8,
           1,
           2,
           18,
           8,
           11,
           2,
           1,
           12,
           3,
           4,
           1,
           5,
           4,
           5,
           3,
           2,
           1,
           1,
           1,
           5,
           5,
           2,
           1,
           4,
           2,
           5,
           2,
           10,
           3,
           1,
           3,
           1,
           3,
           5,
           1,
           5,
           6,
           3,
           7,
           1,
           3,
           5,
           12,
           2,
           1,
           4,
           7,
           2,
           8,
           1,
           1,
           7,
           3,
           5,
           5,
           7,
           2,
           1,
           6,
           4,
           1,
           4,
           3,
           4,
           10,
           2,
           2,
           1,
           3,
           4,
           1,
           2,
           1,
           2,
           2,
           2,
           3,
           4,
           2,
           5,
           2,
           1,
           7,
           1,
           4,
           1,
           1,
           1,
           1,
           1,
           1,
           1,
           1,
           1,
           1,
           1,
           1,
           2,
           1,
           1,
           1,
           1,
           2,
           1,
           1,
           1,
           1,
           1,
           1,
           2,
           1,
           1,
           2,
           4,
           2,
           6,
           5,
           1,
           2,
           1,
           1,
           5,
           6,
           1,
           4,
           1,
           3,
           1,
           1,
           4,
           1,
           3,
           4,
           3,
           3,
           2,
           4,
           1,
           1,
           10,
           1,
           2,
           1,
           1,
           9,
           1,
           3,
           3,
           1,
           1,
           1,
           1,
           4,
           2,
           1,
           2,
           1,
           1,
           1,
           1,
           1,
           1,
           1,
           3,
           1,
           1,
           2,
           4,
           2,
           1,
           2,
           1,
           1,
           1,
           1,
           1,
           3,
           1,
           1,
           1,
           2,
           1,
           3,
           1,
           1,
           1,
           2,
           1,
           4,
           1,
           1,
           1,
           1,
           1,
           1,
           1,
           2,
           1,
           1,
           1,
           1,
           1,
           1,
           1,
           1,
           1,
           1
          ],
          "coloraxis": "coloraxis",
          "symbol": "circle"
         },
         "mode": "markers",
         "name": "",
         "showlegend": false,
         "type": "scattergl",
         "x": [
          -8.410849571228027,
          0.1409110724925995,
          2.8283371925354004,
          -14.029669761657715,
          1.0561745166778564,
          -20.18255043029785,
          -17.24337387084961,
          -14.397642135620117,
          -23.48407745361328,
          -24.68625831604004,
          -12.814388275146484,
          -14.833088874816895,
          -7.0807905197143555,
          -29.493011474609375,
          -7.09681510925293,
          -10.41466999053955,
          2.2741031646728516,
          -0.577978253364563,
          -23.220457077026367,
          -20.34025764465332,
          8.775239944458008,
          -7.373764991760254,
          -24.15408706665039,
          4.699763774871826,
          15.53422737121582,
          -11.197612762451172,
          -9.623406410217285,
          -11.26550579071045,
          13.0794038772583,
          -14.707691192626953,
          -6.1638970375061035,
          -28.91008949279785,
          3.4657411575317383,
          -4.1200337409973145,
          23.798593521118164,
          18.47686195373535,
          -4.724030017852783,
          2.15583872795105,
          -18.067350387573242,
          5.901983261108398,
          -7.6120734214782715,
          -13.220446586608887,
          -8.87600326538086,
          -5.418273448944092,
          -23.34683609008789,
          -30.973114013671875,
          -7.145387172698975,
          -19.883071899414062,
          -8.208734512329102,
          -10.514801025390625,
          -4.610055446624756,
          -15.132820129394531,
          -6.567714214324951,
          5.724992275238037,
          -9.666313171386719,
          -13.641846656799316,
          -21.645742416381836,
          -12.744043350219727,
          -24.17003059387207,
          -24.241228103637695,
          -24.930673599243164,
          6.877012252807617,
          -1.811453938484192,
          -18.17130470275879,
          -19.640018463134766,
          -3.700413227081299,
          8.788582801818848,
          4.490912437438965,
          -7.8164381980896,
          -12.10046100616455,
          -12.191760063171387,
          -1.1431339979171753,
          -4.617538928985596,
          13.55960750579834,
          -9.524100303649902,
          -5.377305030822754,
          -4.635080814361572,
          14.869414329528809,
          -7.954189777374268,
          0.6415544152259827,
          -13.37424087524414,
          -4.428370475769043,
          -11.823050498962402,
          -2.223097324371338,
          7.007643222808838,
          -30.03875160217285,
          -7.871366024017334,
          -4.255625247955322,
          -20.11067771911621,
          2.792834758758545,
          -6.815133094787598,
          -14.112434387207031,
          -20.736482620239258,
          0.08652811497449875,
          -8.619614601135254,
          -9.820853233337402,
          -8.976463317871094,
          -16.370943069458008,
          -10.407644271850586,
          -17.458026885986328,
          4.683549404144287,
          -2.5670833587646484,
          31.95859718322754,
          31.426616668701172,
          12.504470825195312,
          16.390295028686523,
          -5.7033820152282715,
          1.8329068422317505,
          3.7478840351104736,
          14.115310668945312,
          -6.357582092285156,
          15.373678207397461,
          -20.232158660888672,
          -19.93092155456543,
          -3.7916650772094727,
          -23.801244735717773,
          3.9925034046173096,
          7.38454532623291,
          -22.620359420776367,
          13.896628379821777,
          9.907120704650879,
          7.383160591125488,
          4.101653575897217,
          -25.54859733581543,
          2.7032361030578613,
          -7.453238010406494,
          -19.99367904663086,
          3.4161717891693115,
          -11.269159317016602,
          8.952348709106445,
          -27.808835983276367,
          -19.252988815307617,
          -9.933822631835938,
          -25.30084228515625,
          -20.778249740600586,
          -10.742310523986816,
          -21.78331184387207,
          14.395439147949219,
          17.04423713684082,
          -0.06910212337970734,
          -15.863922119140625,
          -1.528467059135437,
          -9.924291610717773,
          -10.147294998168945,
          12.98037338256836,
          -1.4401006698608398,
          3.838822603225708,
          8.574236869812012,
          -3.7588999271392822,
          -12.908761024475098,
          -16.910873413085938,
          -16.415740966796875,
          -14.511653900146484,
          -10.272425651550293,
          -3.534308671951294,
          -13.39139175415039,
          -15.406131744384766,
          10.559906959533691,
          -0.7953077554702759,
          -7.321949481964111,
          4.858713626861572,
          -9.310423851013184,
          2.9361371994018555,
          -1.6427905559539795,
          -23.652999877929688,
          -25.016910552978516,
          9.840056419372559,
          -10.42082691192627,
          -31.048112869262695,
          -24.882556915283203,
          -13.846222877502441,
          -10.319948196411133,
          -12.601458549499512,
          -9.866753578186035,
          -7.003520965576172,
          -13.619794845581055,
          -18.491926193237305,
          -26.173503875732422,
          -23.828720092773438,
          -14.244880676269531,
          -10.170788764953613,
          -15.530339241027832,
          -13.585034370422363,
          5.691251277923584,
          -23.119977951049805,
          -9.962786674499512,
          -20.45636558532715,
          -9.068554878234863,
          -20.871984481811523,
          -16.062599182128906,
          -19.012733459472656,
          -20.913721084594727,
          -17.81569480895996,
          -12.669402122497559,
          -9.873719215393066,
          -11.578205108642578,
          -21.317678451538086,
          -8.726420402526855,
          -18.08121109008789,
          -11.03306770324707,
          -10.436990737915039,
          -8.462642669677734,
          -16.332927703857422,
          -9.00880241394043,
          -16.248878479003906,
          -6.695906162261963,
          -20.121246337890625,
          -8.32689094543457,
          -20.822593688964844,
          -7.383604049682617,
          -18.135221481323242,
          -20.11809539794922,
          -21.777938842773438,
          -12.90561294555664,
          -8.523837089538574,
          -10.97715950012207,
          5.155261516571045,
          12.299356460571289,
          5.979331970214844,
          -4.479031562805176,
          -20.88321304321289,
          -8.339446067810059,
          -19.345970153808594,
          -20.600799560546875,
          11.769619941711426,
          3.7911298274993896,
          -8.259600639343262,
          -9.140366554260254,
          -7.189633369445801,
          -8.170825004577637,
          22.92052459716797,
          17.25187110900879,
          -3.434743881225586,
          -20.431377410888672,
          8.662755966186523,
          -16.488666534423828,
          -5.852705001831055,
          -11.39741039276123,
          -1.7046982049942017,
          7.426130771636963,
          -7.1541666984558105,
          -29.689903259277344,
          16.254287719726562,
          1.011189341545105,
          4.253784656524658,
          -5.214239597320557,
          23.940298080444336,
          -9.745903968811035,
          5.358011245727539,
          -17.227981567382812,
          -25.641780853271484,
          0.34695786237716675,
          -22.882469177246094,
          21.01566505432129,
          2.6464548110961914,
          -27.120359420776367,
          -5.052615165710449,
          -16.636343002319336,
          12.018190383911133,
          11.184170722961426,
          11.769198417663574,
          -25.353893280029297,
          22.595272064208984,
          14.901251792907715,
          -6.61869478225708,
          2.5610451698303223,
          -15.146388053894043,
          -5.209580898284912,
          -31.717727661132812,
          -8.970434188842773,
          5.764031887054443,
          -21.098247528076172,
          6.311768531799316,
          5.393808841705322,
          -27.453123092651367,
          -6.630084037780762,
          -11.373146057128906,
          5.870871067047119,
          -10.275218963623047,
          -3.2680439949035645,
          12.131413459777832,
          3.3666744232177734,
          -16.951854705810547,
          5.186607837677002,
          -24.917905807495117,
          -32.09510040283203,
          11.80529499053955,
          10.70944881439209,
          -5.3474860191345215,
          -13.372942924499512,
          6.470537185668945,
          -18.499614715576172,
          -13.43598461151123,
          9.626873016357422,
          3.988419771194458,
          0.07571599632501602,
          -24.766984939575195,
          6.590502738952637,
          3.7179784774780273,
          7.397341728210449,
          -4.937752723693848,
          -20.006240844726562,
          -28.46527671813965,
          11.333001136779785,
          -19.4114933013916,
          -17.386898040771484,
          -14.569700241088867,
          -2.935046672821045,
          11.615293502807617,
          11.56543254852295,
          -14.411831855773926,
          -16.97728729248047,
          -14.668668746948242,
          27.526206970214844,
          -21.53841209411621,
          -21.795448303222656,
          -15.790703773498535,
          -18.175765991210938,
          -25.09196662902832,
          -10.285431861877441,
          -5.075878143310547,
          16.87040901184082,
          16.054224014282227,
          -5.1826066970825195,
          9.804413795471191,
          8.596138000488281,
          -9.072330474853516,
          7.942614555358887,
          10.7488374710083,
          -2.70581316947937,
          -17.44210433959961,
          13.471473693847656,
          8.775252342224121,
          -12.441729545593262,
          15.069588661193848,
          13.073986053466797,
          -12.667401313781738,
          17.37798309326172,
          -4.028887748718262,
          -19.324838638305664,
          -5.113061904907227,
          7.258005619049072,
          3.463165521621704,
          -21.466894149780273,
          -19.263904571533203,
          -27.362545013427734,
          29.622509002685547,
          8.780319213867188,
          10.891891479492188,
          -6.330705165863037,
          10.649765968322754,
          17.483360290527344,
          6.919473171234131,
          6.42505407333374,
          7.094059944152832,
          -7.925082206726074,
          -20.72895050048828,
          15.343864440917969,
          -6.951785564422607,
          -23.756771087646484,
          -11.907377243041992,
          2.3262078762054443,
          13.646316528320312,
          6.677587985992432,
          -3.719169855117798,
          0.06286174058914185,
          -13.855340003967285,
          15.966158866882324,
          -11.169992446899414,
          7.796450614929199,
          -28.625200271606445,
          -18.777469635009766,
          7.744373798370361,
          12.95641040802002,
          20.18264389038086,
          16.282886505126953,
          14.087857246398926,
          -7.293566703796387,
          -5.6690497398376465,
          2.015573263168335,
          -13.229863166809082,
          -11.426863670349121,
          20.968975067138672,
          15.03758430480957,
          -1.7278803586959839,
          -6.017662525177002,
          -21.12548828125,
          21.824201583862305,
          -5.728003978729248,
          -3.9090468883514404,
          1.7099919319152832,
          -5.1479668617248535,
          -7.446418285369873,
          13.976251602172852,
          22.76810646057129,
          -0.32619941234588623,
          8.911863327026367,
          22.444217681884766,
          -4.158417224884033,
          5.40642786026001,
          1.2637370824813843,
          -4.260279178619385,
          17.658828735351562,
          -18.033851623535156,
          6.340973854064941,
          14.081010818481445,
          14.422225952148438,
          -31.05277442932129,
          -1.2597218751907349,
          1.9595857858657837,
          14.573616027832031,
          -0.05530611425638199,
          11.215620040893555,
          -8.307693481445312,
          10.077340126037598,
          -10.313760757446289,
          1.295612096786499,
          -11.450906753540039,
          -10.58914566040039,
          -18.199438095092773,
          -7.234111309051514,
          -0.6222144961357117,
          -10.596189498901367,
          30.8935604095459,
          -19.98021697998047,
          5.06251335144043,
          -22.17530632019043,
          -23.202377319335938,
          -11.346664428710938,
          -12.56759262084961,
          -2.393512010574341,
          -14.324438095092773,
          2.0747103691101074,
          -15.423334121704102,
          -16.985990524291992,
          0.43676650524139404,
          30.17443084716797,
          29.63499641418457,
          32.355648040771484,
          26.797658920288086,
          17.28032684326172,
          32.27492904663086,
          -21.6231746673584,
          0.14970669150352478,
          -17.215301513671875,
          11.080230712890625,
          -15.982246398925781,
          -11.063227653503418,
          5.685153961181641,
          27.169944763183594,
          -1.7953532934188843,
          2.838733673095703,
          24.450727462768555,
          7.899228096008301,
          5.213143348693848,
          14.423982620239258,
          17.651081085205078,
          3.960205078125,
          -7.871272563934326,
          -1.7580045461654663,
          -10.774251937866211,
          -27.44894790649414,
          -19.530517578125,
          -9.823784828186035,
          -10.218921661376953,
          -17.54465103149414,
          -17.093236923217773,
          -7.235048294067383,
          -9.663727760314941,
          -11.371033668518066,
          4.41474723815918,
          -1.5359784364700317,
          -1.9441895484924316,
          -22.558849334716797,
          -6.636066913604736,
          13.37589168548584,
          -4.56361722946167,
          -17.994972229003906,
          -26.248106002807617,
          -20.8709774017334,
          -22.788414001464844,
          -18.25899314880371,
          -24.157264709472656,
          -20.690170288085938,
          -23.052602767944336,
          -11.927384376525879,
          -14.40021800994873,
          -21.21699333190918,
          -16.11308479309082,
          -29.12043571472168,
          -16.764511108398438,
          -21.25029754638672,
          -24.970521926879883,
          -16.293703079223633,
          -11.842214584350586,
          -12.936148643493652,
          -19.11029052734375,
          -22.322465896606445,
          -21.201950073242188,
          -12.341843605041504,
          -18.222862243652344,
          -11.863591194152832,
          -0.2428148090839386,
          -16.94640350341797,
          -18.569957733154297,
          -22.810903549194336,
          -29.62689781188965,
          -5.717748641967773,
          -27.4609375,
          -18.484392166137695,
          -21.762941360473633,
          -16.494686126708984,
          -19.365659713745117,
          -25.658788681030273,
          -21.91623878479004,
          -18.787593841552734,
          -25.630338668823242,
          -12.076284408569336,
          -19.84066390991211,
          -16.170434951782227,
          -15.103208541870117,
          -22.453929901123047,
          -17.63775634765625,
          -22.53860855102539,
          -20.46249008178711,
          -9.14447021484375,
          -17.32659149169922,
          -22.196781158447266,
          -28.37344741821289,
          -18.924543380737305,
          -15.525764465332031,
          -20.077463150024414,
          -17.978042602539062,
          -15.300641059875488,
          1.0872899293899536,
          -28.14972686767578,
          -14.56185531616211,
          13.772006034851074,
          12.847715377807617,
          9.579259872436523,
          6.172329425811768,
          13.652643203735352,
          -24.804704666137695,
          -13.585326194763184,
          22.22380828857422,
          4.511197090148926,
          -9.504758834838867,
          18.799531936645508,
          -17.40637969970703,
          3.8039097785949707,
          16.629093170166016,
          3.5293328762054443,
          -0.5998547673225403,
          0.9398692846298218,
          20.775432586669922,
          -1.0996184349060059,
          -26.818973541259766,
          -19.50710678100586,
          5.95566463470459,
          10.016876220703125,
          2.4495058059692383,
          -5.155101299285889,
          2.9627902507781982,
          20.70518684387207,
          8.387922286987305,
          -6.027621269226074,
          1.8593977689743042,
          -4.824749946594238,
          3.5132317543029785,
          -1.2756987810134888,
          23.496295928955078,
          -0.2441239207983017,
          -2.9098596572875977,
          20.826400756835938,
          14.428863525390625,
          1.876606822013855,
          28.157447814941406,
          13.952954292297363,
          -0.2580963373184204,
          -17.50014305114746,
          -8.005799293518066,
          -26.754928588867188,
          -14.193131446838379,
          -15.968038558959961,
          1.3929575681686401,
          15.026605606079102,
          -13.534061431884766,
          -10.850500106811523,
          -27.851818084716797,
          20.836267471313477,
          -8.04641342163086,
          -10.226186752319336,
          -26.36309051513672,
          27.065326690673828,
          9.99087905883789,
          4.888172626495361,
          10.620962142944336,
          17.75029754638672,
          28.88223648071289,
          -1.336546778678894,
          -15.829782485961914,
          -17.15571403503418,
          -26.23921775817871,
          -27.056684494018555,
          -9.218093872070312,
          -26.26936912536621,
          -27.4375057220459,
          -24.695669174194336,
          -7.98431396484375,
          -30.02780532836914,
          -22.72290802001953,
          -17.237037658691406,
          -16.302234649658203,
          -12.203084945678711,
          -25.588470458984375,
          -20.078723907470703,
          -10.29460620880127,
          -7.458568096160889,
          5.805347919464111,
          7.591501235961914,
          -8.46651840209961,
          -14.511672019958496,
          0.15330803394317627,
          3.7815563678741455,
          -2.785393476486206,
          -30.779888153076172,
          -3.794825792312622,
          4.372986793518066,
          -12.821211814880371,
          -0.8220821619033813,
          -30.42074966430664,
          -22.830713272094727,
          -26.445594787597656,
          -12.415721893310547,
          -2.973677396774292,
          -0.04226516932249069,
          -3.7215077877044678,
          -24.743562698364258,
          -18.398958206176758,
          -4.689300060272217,
          -28.866552352905273,
          -9.06827163696289,
          -16.369123458862305,
          -22.57259750366211,
          -18.77785301208496,
          -11.183545112609863,
          -20.951457977294922,
          -29.081207275390625,
          -21.104833602905273,
          -24.892229080200195,
          -14.51906681060791,
          -9.660958290100098,
          -28.653600692749023,
          -22.749561309814453,
          -14.445442199707031,
          -24.778623580932617,
          -24.486467361450195,
          -10.465859413146973,
          -14.756616592407227,
          -16.230607986450195,
          -22.084514617919922,
          -9.13404655456543,
          -18.84805679321289,
          -16.321475982666016,
          -0.5901054739952087,
          10.797599792480469,
          9.603967666625977,
          12.846259117126465,
          19.810850143432617,
          6.178714275360107,
          -17.691679000854492,
          -0.49201536178588867,
          -10.552887916564941,
          -0.1500035524368286,
          -20.0927734375,
          9.214868545532227,
          51.07951736450195,
          16.091867446899414,
          2.4581544399261475,
          2.5438852310180664,
          0.6886416077613831,
          13.334294319152832,
          15.828201293945312,
          -7.508382320404053,
          5.548365592956543,
          -16.804399490356445,
          15.76612377166748,
          18.420000076293945,
          8.517328262329102,
          -16.884428024291992,
          -17.671667098999023,
          -7.980845928192139,
          -8.623761177062988,
          -26.01471519470215,
          -5.091012954711914,
          2.628070116043091,
          -17.3497314453125,
          -6.6066060066223145,
          -11.876175880432129,
          2.4229321479797363,
          -19.74845314025879,
          3.3066258430480957,
          -16.40460968017578,
          3.8327746391296387,
          -24.028966903686523,
          9.890376091003418,
          -25.321060180664062,
          -21.594823837280273,
          -26.359651565551758,
          4.128587245941162,
          55.013214111328125,
          -4.901880264282227,
          -17.96506118774414,
          -22.821210861206055,
          -8.450963020324707,
          -7.289984226226807,
          9.842556953430176,
          -24.575136184692383,
          6.226707935333252,
          1.1332786083221436,
          3.653181552886963,
          7.567363262176514,
          -2.5038528442382812,
          -10.061277389526367,
          5.429494857788086,
          1.1501399278640747,
          -4.235850811004639,
          0.04604439437389374,
          2.418562412261963,
          -19.1076602935791,
          -5.2090559005737305,
          -8.071980476379395,
          -13.089842796325684,
          7.57307767868042,
          -12.149734497070312,
          -26.44350814819336,
          -3.9315381050109863,
          -1.599269986152649,
          -4.084915637969971,
          -7.0254292488098145,
          -3.7223031520843506,
          4.824868202209473,
          19.422508239746094,
          -17.328113555908203,
          -22.811771392822266,
          -5.062286853790283,
          -4.3594889640808105,
          10.349528312683105,
          12.060462951660156,
          -23.61067008972168,
          -4.9627604484558105,
          -15.096343994140625,
          -18.394128799438477,
          -1.2012676000595093,
          -3.396618604660034,
          13.479235649108887,
          -21.33823013305664,
          25.015729904174805,
          16.332204818725586,
          -1.7263991832733154,
          -1.3478446006774902,
          6.813034534454346,
          5.614712715148926,
          -10.76071834564209,
          -6.220989227294922,
          -15.6154203414917,
          3.393249034881592,
          1.2277812957763672,
          14.161617279052734,
          -8.767287254333496,
          19.607152938842773,
          -8.482497215270996,
          -2.5383665561676025,
          7.865564823150635,
          10.29720401763916,
          -14.130533218383789,
          18.597524642944336,
          -13.6947660446167,
          14.581230163574219,
          -7.037599563598633,
          -1.635512113571167,
          -5.296957492828369,
          21.055225372314453,
          52.75010299682617,
          -6.025552749633789,
          8.683805465698242,
          17.02634048461914,
          53.577064514160156,
          -14.979291915893555,
          -7.334545135498047,
          20.226806640625,
          -23.23834991455078,
          5.873849868774414,
          -9.99156665802002,
          22.79817771911621,
          -3.50137996673584,
          -3.1279420852661133,
          20.32248306274414,
          -18.202468872070312,
          -1.7676697969436646,
          3.9145143032073975,
          -1.928021788597107,
          28.00102996826172,
          8.493617057800293,
          -17.43483543395996,
          -16.60352897644043,
          9.32899284362793,
          3.0363049507141113,
          -0.41584497690200806,
          2.332287549972534,
          -20.89104652404785,
          0.13665743172168732,
          -12.43455696105957,
          52.859920501708984,
          5.154037952423096,
          14.362251281738281,
          6.313294887542725,
          -2.9344868659973145,
          5.621449947357178,
          9.18485164642334,
          -2.577382802963257,
          -1.5889700651168823,
          5.258321762084961,
          -1.9963879585266113,
          -1.6093263626098633,
          4.4203901290893555,
          11.65737247467041,
          14.114855766296387,
          6.475481033325195,
          27.150760650634766,
          15.563931465148926,
          19.014522552490234,
          2.5575129985809326,
          14.166399002075195,
          -19.849218368530273,
          -23.342042922973633,
          -16.241756439208984,
          18.993310928344727,
          26.856931686401367,
          7.013794422149658,
          19.09373664855957,
          -3.3187313079833984,
          -5.337896347045898,
          -18.048538208007812,
          -7.444267272949219,
          14.266976356506348,
          -13.451894760131836,
          -11.311624526977539,
          3.5934462547302246,
          -18.135974884033203,
          -25.83660316467285,
          28.206907272338867,
          -7.145566463470459,
          -6.840196132659912,
          -25.094924926757812,
          -18.3826847076416,
          -5.584994792938232,
          31.759017944335938,
          -6.308848857879639,
          10.208868026733398,
          -13.116666793823242,
          34.72270965576172,
          -8.539069175720215,
          0.6074974536895752,
          -25.119281768798828,
          -1.4157689809799194,
          -30.281267166137695,
          -19.895233154296875,
          4.476745128631592,
          5.194082260131836,
          14.66356086730957,
          -1.057456374168396,
          13.921257019042969,
          -16.726736068725586,
          -0.44628170132637024,
          12.029132843017578,
          16.29476547241211,
          17.123266220092773,
          7.626721382141113,
          -14.506028175354004,
          12.024316787719727,
          -28.33319664001465,
          -21.96247100830078,
          -28.370426177978516,
          15.843755722045898,
          1.3133295774459839,
          -20.002851486206055,
          -5.297445297241211,
          -4.814936637878418,
          20.064889907836914,
          17.132709503173828,
          2.203822135925293,
          3.657331943511963,
          29.85101318359375,
          13.221692085266113,
          -20.725215911865234,
          20.879735946655273,
          -15.428261756896973,
          -15.801502227783203,
          -15.284768104553223,
          24.59295082092285,
          -20.6666259765625,
          28.67544937133789,
          -18.795801162719727,
          10.940315246582031,
          -10.74851131439209,
          18.33403968811035,
          10.545761108398438,
          -23.95677947998047,
          29.560646057128906,
          21.90481185913086,
          27.364038467407227,
          28.054519653320312,
          13.431973457336426,
          -18.491043090820312,
          3.564990758895874,
          -19.022541046142578,
          6.4560394287109375,
          -17.019161224365234,
          -16.30341911315918,
          -23.28890037536621,
          -19.650190353393555,
          -22.38241195678711,
          9.077957153320312,
          5.065896511077881,
          10.959647178649902,
          31.879167556762695,
          9.691397666931152,
          0.16409584879875183,
          11.455638885498047,
          15.73171615600586,
          -0.8236647844314575,
          -1.8717225790023804,
          20.400978088378906,
          -17.714645385742188,
          -13.714356422424316,
          -18.011825561523438,
          15.906450271606445,
          -6.113471031188965,
          17.0111026763916,
          -2.0871589183807373,
          -10.732216835021973,
          -15.511250495910645,
          11.495285987854004,
          -13.324296951293945,
          -0.6442431211471558,
          -23.72107696533203,
          17.010879516601562,
          2.5738043785095215,
          29.6754150390625,
          10.380367279052734,
          3.4408178329467773,
          -8.577471733093262,
          -15.170831680297852,
          -30.878854751586914,
          -7.490559101104736,
          13.371302604675293,
          -22.691913604736328,
          -18.1054744720459,
          -9.92159652709961,
          -19.310056686401367,
          5.862997055053711,
          -22.397048950195312,
          -30.778562545776367,
          -20.50204849243164,
          -12.595114707946777,
          -11.026069641113281,
          -18.201908111572266,
          -24.90593910217285,
          -30.83394432067871,
          -18.684677124023438,
          -28.241790771484375,
          -4.110955715179443,
          10.587156295776367,
          6.164531230926514,
          23.657548904418945,
          12.168935775756836,
          17.110759735107422,
          3.2063660621643066,
          -14.117074012756348,
          10.948198318481445,
          13.59846305847168,
          16.6368350982666,
          16.49956703186035,
          -0.7643527984619141,
          14.3802490234375,
          28.78717041015625,
          16.345348358154297,
          -4.282094955444336,
          -12.364706993103027,
          17.513404846191406,
          17.020172119140625,
          -0.053385332226753235,
          -1.1887108087539673,
          -15.131631851196289,
          10.953473091125488,
          18.52808380126953,
          10.60473918914795,
          -3.1347854137420654,
          4.252774238586426,
          23.998153686523438,
          15.603072166442871,
          19.709951400756836,
          -1.9158178567886353,
          -10.931017875671387,
          -7.224764347076416,
          -16.026668548583984,
          -17.536352157592773,
          -22.69709587097168,
          0.6600708365440369,
          -1.375482201576233,
          -11.334217071533203,
          17.562231063842773,
          0.7316043972969055,
          -10.343225479125977,
          4.042942047119141,
          -8.850465774536133,
          -2.879635810852051,
          -16.858604431152344,
          -25.216400146484375,
          -19.07476234436035,
          -14.140132904052734,
          11.362346649169922,
          -21.375370025634766,
          9.12492561340332,
          -3.2526004314422607,
          34.37580871582031,
          2.9847373962402344,
          24.927377700805664,
          15.830109596252441,
          1.271605372428894,
          7.272697925567627,
          15.224385261535645,
          19.701366424560547,
          0.013528242707252502,
          11.788290977478027,
          19.775800704956055,
          10.219413757324219,
          -15.346620559692383,
          13.94190788269043,
          -3.1847705841064453,
          -13.290839195251465,
          -5.000110626220703,
          -19.25851058959961,
          -9.888858795166016,
          -6.544151782989502,
          10.432424545288086,
          -2.8771486282348633,
          19.416229248046875,
          -8.306023597717285,
          2.162412405014038,
          15.563176155090332,
          6.364168643951416,
          13.310823440551758,
          -2.1528308391571045,
          -16.919788360595703,
          7.252779960632324,
          -6.845983982086182,
          0.9915505051612854,
          -14.274848937988281,
          5.22362756729126,
          -22.36227798461914,
          -13.127467155456543,
          -23.372236251831055,
          -18.42831802368164,
          -14.035555839538574,
          -11.318575859069824,
          -14.909200668334961,
          -17.315465927124023,
          -26.922359466552734,
          -12.320158004760742,
          3.1704750061035156,
          -20.569211959838867,
          3.2548160552978516,
          -10.229698181152344,
          17.541419982910156,
          -6.543455600738525,
          2.5749478340148926,
          21.73122215270996,
          -8.341170310974121,
          -6.387039661407471,
          25.576519012451172,
          6.128539085388184,
          -26.19403076171875,
          -4.004693508148193,
          -0.2165425419807434,
          30.101654052734375,
          22.24500846862793,
          29.15464210510254,
          8.690393447875977,
          11.981131553649902,
          10.671366691589355,
          -17.595212936401367,
          20.907432556152344,
          17.322837829589844,
          -0.23106999695301056,
          -21.548992156982422,
          -18.693973541259766,
          -19.969375610351562,
          28.549869537353516,
          -18.22947883605957,
          25.62773895263672,
          -21.685333251953125,
          18.209009170532227,
          -0.34062689542770386,
          -22.497846603393555,
          26.26436424255371,
          -24.091529846191406,
          -13.716419219970703,
          -11.962034225463867,
          -18.1167049407959,
          -1.0392171144485474,
          -1.8512142896652222,
          -6.6890692710876465,
          -20.46126937866211,
          -14.48250961303711,
          -3.8351733684539795,
          -10.093775749206543,
          -15.580458641052246,
          -13.390018463134766,
          -20.749380111694336,
          -17.918621063232422,
          -15.867506980895996,
          -14.472034454345703,
          -21.98471450805664,
          -6.897940635681152,
          12.707950592041016,
          -3.2661993503570557,
          -21.899394989013672,
          -9.790024757385254,
          -27.56128692626953,
          -0.30376067757606506,
          -3.9551167488098145,
          -10.191658973693848,
          -2.899021625518799,
          -13.54296588897705,
          -20.624298095703125,
          -9.66755485534668,
          8.440566062927246,
          22.581308364868164,
          -27.740659713745117,
          -12.432086944580078,
          -18.647661209106445,
          -15.514008522033691,
          2.1862475872039795,
          34.68562316894531,
          -17.91356658935547,
          -2.9874143600463867,
          -17.08623695373535,
          -18.51344108581543,
          10.04495620727539,
          -6.9745683670043945,
          -23.05628776550293,
          -21.979917526245117,
          54.53509521484375,
          -2.523463726043701,
          1.6612482070922852,
          -22.257593154907227,
          -16.866785049438477,
          -6.045297622680664,
          -7.69850492477417,
          24.202804565429688,
          16.323623657226562,
          6.509733200073242,
          18.781558990478516,
          -17.088350296020508,
          -6.789834499359131,
          -1.1322681903839111,
          -23.516277313232422,
          -1.903611660003662,
          -3.478961229324341,
          -29.749340057373047,
          5.603289604187012,
          26.9472713470459,
          -27.689775466918945,
          -24.034622192382812,
          25.91538429260254,
          8.663326263427734,
          19.46013832092285,
          0.3676699995994568,
          32.77968978881836,
          10.122997283935547,
          18.03572654724121,
          3.025566816329956,
          -0.3590344488620758,
          -7.573502063751221,
          -5.179482936859131,
          -8.229869842529297,
          -12.8444242477417,
          5.5587310791015625,
          -21.949356079101562,
          -12.269222259521484,
          -23.19463539123535,
          -16.812576293945312,
          -4.252583980560303,
          -8.453694343566895,
          -17.755809783935547,
          -9.03474235534668,
          9.23275375366211,
          -16.17869758605957,
          54.070491790771484,
          -21.46833038330078,
          -28.60193634033203,
          -15.18792724609375,
          8.170011520385742,
          7.283681392669678,
          17.279203414916992,
          16.851072311401367,
          20.8536434173584,
          -6.328873634338379,
          -24.26150131225586,
          -5.2407755851745605,
          9.137837409973145,
          20.242258071899414,
          20.729150772094727,
          8.906497955322266,
          13.587067604064941,
          -2.2781498432159424,
          -6.160606861114502,
          6.5640692710876465,
          -8.727254867553711,
          24.98493003845215,
          -3.5125889778137207,
          -2.8189010620117188,
          8.890731811523438,
          -3.736806869506836,
          14.235710144042969,
          -0.3920917212963104,
          23.003711700439453,
          16.66293716430664,
          9.276341438293457,
          10.763326644897461,
          27.444337844848633,
          -12.34853458404541,
          -15.84123706817627,
          54.45965576171875,
          1.047953724861145,
          -0.5099818706512451,
          13.42485237121582,
          -17.993371963500977,
          -20.44385528564453,
          22.774478912353516,
          -9.26347827911377,
          5.217628002166748,
          -23.396791458129883,
          19.89292335510254,
          17.618999481201172,
          23.869186401367188,
          0.2737920880317688,
          30.25113296508789,
          -15.87911319732666,
          -15.593937873840332,
          1.4781172275543213,
          30.508258819580078,
          26.723791122436523,
          29.205486297607422,
          19.263731002807617,
          10.958179473876953,
          1.775431513786316,
          19.48862648010254,
          -19.335784912109375,
          -3.958538055419922,
          -6.6204915046691895,
          -8.653404235839844,
          -15.277253150939941,
          -19.20050811767578,
          -7.992664337158203,
          -5.404003143310547,
          -8.118596076965332,
          13.578428268432617,
          14.361090660095215,
          20.10504722595215,
          21.93158721923828,
          16.43494987487793,
          5.091582775115967,
          11.616662979125977,
          4.1630072593688965,
          12.253588676452637,
          10.233370780944824,
          15.630718231201172,
          26.468536376953125,
          -10.010537147521973,
          12.469338417053223,
          1.0368797779083252,
          -4.379645347595215,
          -28.391010284423828,
          30.446874618530273,
          3.859030246734619,
          16.711109161376953,
          51.481414794921875,
          -0.4462410807609558,
          17.63947868347168,
          -17.505577087402344,
          -5.177009105682373,
          1.4005229473114014,
          -5.3896942138671875,
          -4.846800804138184,
          -25.294052124023438,
          -24.490365982055664,
          20.492345809936523,
          -11.481547355651855,
          -19.877721786499023,
          12.3346529006958,
          54.102413177490234,
          18.135761260986328,
          -14.580062866210938,
          19.105716705322266,
          32.2008171081543,
          54.17607116699219,
          -4.134137153625488,
          13.886724472045898,
          -9.560184478759766,
          -1.567845344543457,
          12.429003715515137,
          -4.854119777679443,
          -2.1075520515441895,
          30.59601402282715,
          19.538909912109375,
          27.489154815673828,
          31.161907196044922,
          4.376000881195068,
          -3.700193405151367,
          -10.815715789794922,
          13.747815132141113,
          31.70548439025879,
          -14.988919258117676,
          21.842668533325195,
          -15.030997276306152,
          54.59362030029297,
          -7.480780601501465,
          -11.132085800170898,
          12.678888320922852,
          -2.7273287773132324,
          30.400754928588867,
          0.6900609731674194,
          27.289443969726562,
          14.29520034790039,
          -4.059345245361328,
          31.012754440307617,
          30.874298095703125,
          30.998001098632812,
          -4.100606441497803,
          31.84819793701172,
          -16.431339263916016,
          6.5573954582214355,
          -11.571965217590332,
          15.063076972961426,
          30.24869155883789,
          52.25358963012695,
          31.834815979003906,
          27.006500244140625,
          31.382793426513672,
          -20.11355209350586,
          31.105981826782227,
          -0.4821396768093109,
          27.439390182495117,
          21.489152908325195,
          -15.73598861694336,
          28.04972267150879,
          19.336347579956055,
          -22.237266540527344,
          31.396093368530273,
          31.336137771606445,
          52.08766174316406,
          20.829246520996094,
          30.466323852539062,
          -22.81798553466797,
          -25.64110565185547,
          -16.320953369140625,
          -10.182765007019043,
          19.707738876342773,
          -16.33055305480957,
          31.400388717651367,
          31.695838928222656,
          -11.386404037475586,
          25.86866569519043,
          -10.477952003479004,
          -8.67543888092041,
          -3.533189058303833,
          27.13426399230957,
          -16.68612289428711,
          -15.676506042480469,
          16.877084732055664,
          33.25196075439453,
          -20.094867706298828,
          29.047130584716797,
          15.101664543151855,
          -21.293554306030273,
          15.953349113464355,
          14.808157920837402,
          14.581535339355469,
          14.139660835266113,
          11.864072799682617,
          -15.90902042388916,
          -28.05939483642578,
          -14.267745971679688,
          -24.5096435546875,
          -2.562997817993164,
          14.24223804473877,
          -3.264038324356079,
          -9.573702812194824,
          23.02102279663086,
          26.7488956451416,
          -18.754844665527344,
          -19.00014877319336,
          -16.4348201751709,
          11.915552139282227,
          27.551441192626953,
          2.3507676124572754,
          7.807493686676025,
          6.287793159484863,
          18.615819931030273,
          7.693727493286133,
          16.0496768951416,
          12.0405912399292,
          11.689200401306152,
          -2.694578170776367,
          -30.348697662353516,
          12.577990531921387,
          18.776939392089844,
          23.334993362426758,
          1.44997239112854,
          17.651399612426758,
          -2.4841911792755127,
          -2.1764490604400635,
          -11.04651927947998,
          12.586148262023926,
          -26.34809112548828,
          -6.008163928985596,
          -1.8591618537902832,
          -15.411273956298828,
          28.12002182006836,
          -2.143094539642334,
          -15.517772674560547,
          0.9137616157531738,
          21.798120498657227,
          16.667972564697266,
          -3.1124753952026367,
          2.4253740310668945,
          -4.028768062591553,
          -1.9778001308441162,
          1.048137903213501,
          -11.580168724060059,
          -0.39727452397346497,
          -30.805463790893555,
          6.55057430267334,
          -6.8811259269714355,
          52.8365478515625,
          -23.94722557067871,
          -6.543355464935303,
          -9.866508483886719,
          -7.920263767242432,
          51.044307708740234,
          -4.128407955169678,
          -1.5807534456253052,
          -8.447647094726562,
          -6.900390625,
          -7.902754306793213,
          -16.165515899658203,
          52.597225189208984,
          19.3153133392334,
          -18.869638442993164,
          16.385351181030273,
          -14.613712310791016,
          -3.5797901153564453,
          -13.84309196472168,
          -22.332340240478516,
          -16.53826141357422,
          -0.0760849192738533,
          13.116609573364258,
          7.945886611938477,
          51.75705337524414,
          -14.58305835723877,
          -13.7129487991333,
          -13.828132629394531,
          52.50381088256836,
          15.645094871520996,
          -6.537962436676025,
          0.654352605342865,
          22.711864471435547,
          9.290007591247559,
          -8.562337875366211,
          -6.297543048858643,
          -5.933072090148926,
          2.619079828262329,
          26.764842987060547,
          18.740901947021484,
          -20.987060546875,
          10.746748924255371,
          4.191014766693115,
          55.1264533996582,
          4.250441074371338,
          52.63859939575195,
          28.00741958618164,
          4.118536472320557,
          23.797435760498047,
          16.693252563476562,
          4.361946105957031,
          -20.924665451049805,
          -22.369556427001953,
          -3.3786582946777344,
          28.48172378540039,
          -2.303870677947998,
          -4.574723720550537,
          52.79299545288086,
          -21.17287254333496,
          -1.4150913953781128,
          14.600112915039062,
          19.33346939086914,
          17.671804428100586,
          -21.251192092895508,
          -23.970300674438477,
          15.537528038024902,
          0.46062734723091125,
          -13.0518159866333,
          -12.753880500793457,
          6.450302600860596,
          3.481419086456299,
          -10.195747375488281,
          1.9285279512405396,
          0.07261157780885696,
          1.6271737813949585,
          15.119616508483887,
          -21.63324737548828,
          -10.665237426757812,
          53.38758850097656,
          29.832971572875977,
          -5.502131938934326,
          -14.041816711425781,
          19.091737747192383,
          -25.331850051879883,
          21.07032012939453,
          -17.390626907348633,
          20.16790771484375,
          -25.814769744873047,
          -15.689750671386719,
          -21.86065101623535,
          11.470121383666992,
          18.562400817871094,
          0.012865367345511913,
          -16.315092086791992,
          -8.830717086791992,
          52.50495147705078,
          -5.855816841125488,
          -5.771304607391357,
          33.67109680175781,
          53.4631462097168,
          33.28455352783203,
          33.849422454833984,
          17.922119140625,
          52.201210021972656,
          8.713025093078613,
          -5.107504844665527,
          17.975996017456055,
          -17.826828002929688,
          -0.1546754539012909,
          33.44031524658203,
          -26.184497833251953,
          33.10237121582031,
          -12.462075233459473,
          32.44681930541992,
          33.46229553222656,
          33.26787567138672,
          52.83010482788086,
          33.599632263183594,
          52.75836181640625,
          53.695735931396484,
          33.776058197021484,
          33.593162536621094,
          54.387149810791016,
          32.798858642578125,
          33.80949020385742,
          34.36549377441406,
          33.28193283081055,
          33.978721618652344,
          31.140960693359375,
          32.656044006347656,
          27.878498077392578,
          34.016090393066406,
          33.467411041259766,
          53.58961868286133,
          32.776512145996094,
          54.94080352783203,
          52.28192901611328,
          27.948455810546875,
          34.043521881103516,
          33.08454895019531,
          16.687355041503906,
          -16.28562355041504,
          14.598665237426758,
          -16.638019561767578,
          -19.5247859954834,
          53.807979583740234,
          -10.038479804992676,
          53.54536056518555,
          15.645278930664062,
          -6.0980024337768555,
          17.643028259277344,
          -20.982376098632812,
          -16.32379722595215,
          26.701950073242188,
          -14.024951934814453,
          53.85723114013672,
          -17.20844268798828,
          -1.4138398170471191,
          19.21409034729004,
          -15.731529235839844,
          16.35405731201172,
          27.713159561157227,
          14.505094528198242,
          -2.5213723182678223,
          -21.75887680053711,
          -0.046928517520427704,
          53.39745330810547,
          12.444511413574219,
          52.301856994628906,
          -16.16861915588379,
          51.78008270263672,
          -1.108377456665039,
          -3.0822770595550537,
          28.569276809692383,
          -0.006096285302191973,
          -25.148313522338867,
          18.413034439086914,
          11.728342056274414,
          26.362548828125,
          3.7854998111724854,
          -6.758353233337402,
          -18.358009338378906,
          27.724117279052734,
          15.952293395996094,
          27.993988037109375,
          27.881818771362305,
          21.661487579345703,
          28.008024215698242,
          53.24137496948242,
          27.904272079467773,
          53.38554763793945,
          28.607133865356445,
          27.757253646850586,
          52.092041015625,
          -15.198813438415527,
          9.21071720123291,
          51.57528305053711,
          53.94998550415039,
          -13.574932098388672,
          27.991472244262695,
          52.62983322143555,
          28.045541763305664,
          51.09916305541992,
          52.6380729675293,
          14.718039512634277,
          51.911720275878906,
          52.03692626953125,
          51.74909591674805,
          -2.321373701095581,
          13.113838195800781,
          -1.2236368656158447,
          28.755159378051758,
          26.690446853637695,
          28.344379425048828,
          16.54458236694336,
          17.012359619140625,
          12.057950019836426,
          53.72214126586914,
          17.150596618652344,
          15.432435989379883,
          15.509247779846191,
          17.404470443725586,
          15.774446487426758,
          28.119741439819336,
          16.645967483520508,
          15.97756290435791,
          -18.454036712646484,
          53.9947624206543,
          19.974384307861328,
          -2.81701922416687,
          27.742521286010742,
          11.176126480102539,
          17.843671798706055,
          17.049549102783203,
          -1.6867245435714722
         ],
         "xaxis": "x",
         "y": [
          -21.128883361816406,
          -15.51546859741211,
          -4.137202739715576,
          17.9352970123291,
          -14.785726547241211,
          -1.4534165859222412,
          -20.047025680541992,
          22.743072509765625,
          17.051721572875977,
          -3.7713122367858887,
          26.980098724365234,
          17.44240379333496,
          13.792771339416504,
          9.563121795654297,
          -12.238621711730957,
          5.504068374633789,
          7.432456970214844,
          10.56407642364502,
          1.1040199995040894,
          12.362295150756836,
          -4.682064533233643,
          -18.71263313293457,
          20.4876708984375,
          8.48517894744873,
          -10.018011093139648,
          18.90797996520996,
          -14.234604835510254,
          0.1528489589691162,
          -8.201804161071777,
          -1.2904893159866333,
          -17.712629318237305,
          7.830895900726318,
          -5.080595016479492,
          -7.780546188354492,
          6.6405930519104,
          1.2536301612854004,
          -0.3123534321784973,
          -10.953326225280762,
          -5.112818717956543,
          -21.635473251342773,
          2.7389931678771973,
          27.16160011291504,
          -3.819714307785034,
          4.931149959564209,
          2.7661495208740234,
          10.528648376464844,
          14.735860824584961,
          19.522891998291016,
          -1.8852137327194214,
          -22.80314064025879,
          -11.776055335998535,
          8.804411888122559,
          9.06650447845459,
          -11.029725074768066,
          8.926735877990723,
          27.23855209350586,
          1.2041747570037842,
          17.651809692382812,
          -1.3241260051727295,
          -1.3312503099441528,
          -1.1155757904052734,
          -17.840641021728516,
          -12.194664001464844,
          27.30400848388672,
          4.463057041168213,
          -21.002944946289062,
          -8.358281135559082,
          -3.8426690101623535,
          -18.434663772583008,
          9.550836563110352,
          -7.568702220916748,
          -17.641101837158203,
          -10.993728637695312,
          10.127638816833496,
          5.926074981689453,
          14.793980598449707,
          -17.121601104736328,
          3.3172316551208496,
          -19.44611167907715,
          -17.00225067138672,
          12.108917236328125,
          -17.990665435791016,
          -3.892457962036133,
          2.6709139347076416,
          -5.148801803588867,
          11.123193740844727,
          -14.096111297607422,
          -20.417621612548828,
          20.71656036376953,
          9.385666847229004,
          12.411460876464844,
          14.589681625366211,
          10.760748863220215,
          -18.187829971313477,
          -19.53500747680664,
          -21.527408599853516,
          -16.309982299804688,
          23.28646469116211,
          23.84760284423828,
          24.943527221679688,
          -13.329010009765625,
          -9.591170310974121,
          0.8576152920722961,
          -0.4020461440086365,
          -13.246597290039062,
          -9.63099193572998,
          5.786257266998291,
          15.53758430480957,
          10.847352027893066,
          6.845297336578369,
          -12.241113662719727,
          -19.582059860229492,
          4.324914455413818,
          14.221794128417969,
          -9.979262351989746,
          0.4061693549156189,
          -15.437031745910645,
          -15.562602043151855,
          4.136532783508301,
          -14.219014167785645,
          -13.937676429748535,
          12.304305076599121,
          9.66132640838623,
          17.644481658935547,
          -15.340750694274902,
          -6.37359619140625,
          23.571950912475586,
          9.449501991271973,
          15.922117233276367,
          11.436980247497559,
          15.108428955078125,
          21.954734802246094,
          25.496639251708984,
          12.735860824584961,
          21.824050903320312,
          -1.2559787034988403,
          14.331007957458496,
          -15.419209480285645,
          11.850024223327637,
          -21.875057220458984,
          20.528167724609375,
          -0.8249912858009338,
          -14.22308349609375,
          -19.804536819458008,
          -17.581239700317383,
          -6.802211284637451,
          3.136899471282959,
          -16.67945671081543,
          15.881195068359375,
          11.810680389404297,
          24.830406188964844,
          18.785778045654297,
          19.720001220703125,
          12.244732856750488,
          -21.23448944091797,
          27.14569664001465,
          25.679027557373047,
          -9.279522895812988,
          -4.919842720031738,
          11.224257469177246,
          -16.639217376708984,
          20.022497177124023,
          7.420997619628906,
          -17.937564849853516,
          4.397461891174316,
          9.313141822814941,
          -1.733027458190918,
          12.7456693649292,
          0.31815603375434875,
          8.97822093963623,
          9.637375831604004,
          -22.655216217041016,
          16.114397048950195,
          -22.61216926574707,
          12.820863723754883,
          20.665557861328125,
          15.6277437210083,
          19.634706497192383,
          20.539276123046875,
          26.911834716796875,
          -22.58928680419922,
          25.91383934020996,
          20.753345489501953,
          9.09033203125,
          21.318105697631836,
          -19.758710861206055,
          23.0745906829834,
          11.876725196838379,
          3.0930933952331543,
          17.37262725830078,
          24.027429580688477,
          14.841715812683105,
          23.232152938842773,
          23.30609893798828,
          -21.508655548095703,
          14.835247993469238,
          24.416271209716797,
          10.874540328979492,
          24.07295799255371,
          14.38162612915039,
          6.9718241691589355,
          -20.245010375976562,
          23.97861671447754,
          -18.443737030029297,
          20.99449920654297,
          9.830276489257812,
          2.185965061187744,
          23.26522445678711,
          16.753812789916992,
          -21.310134887695312,
          23.89508628845215,
          9.379582405090332,
          11.723127365112305,
          19.200942993164062,
          -17.859966278076172,
          20.746971130371094,
          3.941671371459961,
          -8.340147972106934,
          9.288484573364258,
          -7.861223220825195,
          10.983988761901855,
          -21.44154167175293,
          18.920011520385742,
          4.159764289855957,
          -2.5357863903045654,
          -19.0028076171875,
          -22.879560470581055,
          -22.768917083740234,
          -9.735047340393066,
          -22.784475326538086,
          -6.133765697479248,
          12.745256423950195,
          -13.981096267700195,
          22.89116096496582,
          10.15063190460205,
          -2.2944157123565674,
          -14.48161506652832,
          12.661903381347656,
          -17.53307342529297,
          12.552360534667969,
          -7.1548542976379395,
          9.624791145324707,
          -13.842217445373535,
          -4.792190074920654,
          -4.856359958648682,
          13.437788963317871,
          2.1994810104370117,
          9.383028030395508,
          14.92345142364502,
          -20.04656219482422,
          8.718759536743164,
          -19.495187759399414,
          -2.512316942214966,
          -10.706254959106445,
          -16.500001907348633,
          1.6112382411956787,
          -13.259931564331055,
          -15.408482551574707,
          -17.42930793762207,
          11.419891357421875,
          -18.803882598876953,
          14.468253135681152,
          1.2436251640319824,
          -6.848577976226807,
          -18.238025665283203,
          -23.75961685180664,
          1.5909188985824585,
          13.446993827819824,
          9.395096778869629,
          -8.84618854522705,
          15.17194938659668,
          -12.155387878417969,
          1.3277955055236816,
          -14.899116516113281,
          12.922103881835938,
          16.26031494140625,
          1.5499597787857056,
          -12.618429183959961,
          -1.0746750831604004,
          -19.671470642089844,
          -9.52457046508789,
          -15.497466087341309,
          -0.9700433015823364,
          0.21603785455226898,
          12.158182144165039,
          9.373735427856445,
          -5.000688076019287,
          -6.149343967437744,
          -10.228386878967285,
          15.59181022644043,
          -13.739225387573242,
          7.3815226554870605,
          13.429656982421875,
          -15.25660228729248,
          2.812845468521118,
          -0.4758607745170593,
          1.818137764930725,
          0.9979204535484314,
          8.220625877380371,
          -14.98767375946045,
          -24.435810089111328,
          -12.131246566772461,
          11.208959579467773,
          -6.2217488288879395,
          -12.115494728088379,
          5.597801685333252,
          -16.336729049682617,
          2.5207746028900146,
          -17.20302391052246,
          -6.91591215133667,
          7.540099143981934,
          -9.161529541015625,
          -16.28884506225586,
          5.702218532562256,
          -11.414276123046875,
          -11.453184127807617,
          3.7667489051818848,
          27.29341697692871,
          17.80202293395996,
          17.338092803955078,
          6.990260124206543,
          -13.647674560546875,
          -13.286282539367676,
          10.790919303894043,
          9.36278247833252,
          -14.733814239501953,
          -9.340792655944824,
          -14.518682479858398,
          -22.44805335998535,
          -6.879553318023682,
          -15.855939865112305,
          -6.4625678062438965,
          -14.674049377441406,
          6.04151725769043,
          7.66376256942749,
          1.1820690631866455,
          3.5360970497131348,
          -16.31602668762207,
          -7.732702255249023,
          -12.378645896911621,
          -7.444163799285889,
          -11.471917152404785,
          -3.7746434211730957,
          -10.756559371948242,
          9.109190940856934,
          16.65161895751953,
          -16.87929344177246,
          -6.470937728881836,
          -16.734468460083008,
          3.14314341545105,
          -22.57694435119629,
          3.4634315967559814,
          -7.945030212402344,
          0.8859391808509827,
          2.812474012374878,
          -16.333860397338867,
          24.190895080566406,
          -7.6355438232421875,
          -3.1276001930236816,
          6.47920560836792,
          -5.829336643218994,
          3.125274419784546,
          12.864115715026855,
          7.093268394470215,
          -11.30604076385498,
          -16.943790435791016,
          -13.252177238464355,
          2.342529535293579,
          -11.911115646362305,
          -21.021221160888672,
          -5.313228130340576,
          4.7295660972595215,
          -6.034596920013428,
          -14.545023918151855,
          7.195937633514404,
          9.775483131408691,
          -20.38036346435547,
          -14.042518615722656,
          3.814300537109375,
          -18.022964477539062,
          8.225637435913086,
          5.156749725341797,
          -2.8464431762695312,
          12.644953727722168,
          -15.7391996383667,
          20.55673599243164,
          -7.927491664886475,
          -8.053452491760254,
          -14.627124786376953,
          10.295969009399414,
          0.13578395545482635,
          -4.606293678283691,
          -15.47213077545166,
          -20.639446258544922,
          -8.605576515197754,
          14.16507625579834,
          -8.803627014160156,
          -6.67040491104126,
          -16.326923370361328,
          -7.45741605758667,
          12.782224655151367,
          -20.286056518554688,
          14.723893165588379,
          21.61983299255371,
          -15.00451946258545,
          2.464008092880249,
          0.5292778611183167,
          0.3145960569381714,
          8.017879486083984,
          15.641261100769043,
          -8.89013957977295,
          14.33199691772461,
          11.427118301391602,
          16.27480125427246,
          -2.0627946853637695,
          23.837709426879883,
          1.6323473453521729,
          -7.4665937423706055,
          21.745113372802734,
          20.976436614990234,
          -8.20938777923584,
          9.051458358764648,
          24.2276554107666,
          -2.850189208984375,
          6.921075820922852,
          6.441162109375,
          22.681203842163086,
          15.949418067932129,
          0.7169366478919983,
          0.4707813858985901,
          -17.825244903564453,
          16.5534610748291,
          10.260003089904785,
          -2.135444402694702,
          19.858844757080078,
          6.2300801277160645,
          5.342256546020508,
          5.139316082000732,
          6.510166645050049,
          2.0496985912323,
          -16.312910079956055,
          3.6706180572509766,
          19.428258895874023,
          13.110198974609375,
          16.72994041442871,
          -17.49150848388672,
          24.565120697021484,
          18.246992111206055,
          -8.36963176727295,
          -11.605753898620605,
          -22.97979736328125,
          -9.650683403015137,
          -5.755897045135498,
          -15.822113037109375,
          6.468953609466553,
          -11.18282413482666,
          -12.266664505004883,
          17.824384689331055,
          -2.8329014778137207,
          4.127305507659912,
          10.975818634033203,
          5.1341328620910645,
          6.222545623779297,
          14.904077529907227,
          -1.93533194065094,
          15.834779739379883,
          8.58008098602295,
          -11.08156681060791,
          7.844174861907959,
          -7.470434665679932,
          1.5588343143463135,
          -19.736921310424805,
          10.946414947509766,
          19.73285675048828,
          16.268203735351562,
          -10.88892650604248,
          4.191648006439209,
          9.544669151306152,
          19.54017448425293,
          22.64517593383789,
          8.911088943481445,
          17.739185333251953,
          14.536330223083496,
          17.152877807617188,
          -6.7889933586120605,
          -1.9024908542633057,
          -0.16458356380462646,
          13.474623680114746,
          6.538327693939209,
          12.707877159118652,
          19.23164939880371,
          19.1214542388916,
          14.007408142089844,
          17.827098846435547,
          22.35837745666504,
          23.872587203979492,
          14.890148162841797,
          11.816929817199707,
          13.353584289550781,
          0.6259790658950806,
          21.478803634643555,
          -5.624240398406982,
          19.4937744140625,
          13.347311973571777,
          15.76260757446289,
          15.860929489135742,
          16.010927200317383,
          14.867948532104492,
          10.455174446105957,
          13.355685234069824,
          21.024707794189453,
          2.0728979110717773,
          3.1716883182525635,
          13.025031089782715,
          22.646076202392578,
          2.7489168643951416,
          13.268406867980957,
          11.320169448852539,
          16.444110870361328,
          23.1105899810791,
          18.65850830078125,
          19.602758407592773,
          14.459321022033691,
          1.8596765995025635,
          16.815689086914062,
          -16.840055465698242,
          24.222929000854492,
          16.614973068237305,
          9.300271034240723,
          16.444597244262695,
          0.5049117803573608,
          -5.4495849609375,
          11.698476791381836,
          15.077556610107422,
          -5.607214450836182,
          3.1060659885406494,
          -0.05435791611671448,
          -4.683119297027588,
          -15.570223808288574,
          2.5955896377563477,
          -21.46710777282715,
          -13.8240385055542,
          -4.912384986877441,
          -10.393614768981934,
          -0.170860156416893,
          -11.827005386352539,
          4.3951897621154785,
          7.653234958648682,
          2.875007152557373,
          -19.08053970336914,
          3.088407516479492,
          -9.531874656677246,
          -8.350048065185547,
          -11.99297046661377,
          4.023108005523682,
          14.204726219177246,
          3.1608574390411377,
          5.561201572418213,
          9.265547752380371,
          -1.7940837144851685,
          -7.57416296005249,
          3.1011874675750732,
          -9.62435531616211,
          -6.528591632843018,
          1.3668479919433594,
          -16.975772857666016,
          -4.309305191040039,
          -18.243202209472656,
          -1.4905728101730347,
          -2.594055414199829,
          -7.2110772132873535,
          1.6959776878356934,
          5.046181678771973,
          -5.186925888061523,
          1.940056562423706,
          -18.620756149291992,
          -0.11401614546775818,
          -17.128652572631836,
          -15.217418670654297,
          4.869463920593262,
          9.79055118560791,
          11.797466278076172,
          3.47898006439209,
          11.100360870361328,
          -12.635318756103516,
          12.65979290008545,
          8.06042194366455,
          -16.483177185058594,
          7.184075832366943,
          -1.049252986907959,
          5.008681297302246,
          -3.104736089706421,
          3.606057643890381,
          -14.8853178024292,
          -16.87037467956543,
          -1.7940212488174438,
          -12.756404876708984,
          4.786859512329102,
          5.016414165496826,
          1.524781584739685,
          0.22090262174606323,
          13.406769752502441,
          19.82273292541504,
          4.919791221618652,
          0.2868468165397644,
          15.049398422241211,
          14.40577220916748,
          -1.8335728645324707,
          18.611385345458984,
          15.338973045349121,
          12.396522521972656,
          19.560684204101562,
          2.7150774002075195,
          -3.237851142883301,
          -0.22284464538097382,
          -3.6030702590942383,
          -4.057692527770996,
          18.788137435913086,
          1.6342445611953735,
          -6.35232400894165,
          20.506834030151367,
          -4.905048847198486,
          -11.152315139770508,
          6.444723606109619,
          -2.914860963821411,
          14.298135757446289,
          -12.385698318481445,
          0.38298243284225464,
          14.320893287658691,
          -15.466017723083496,
          15.017513275146484,
          13.75054931640625,
          7.958923816680908,
          22.841510772705078,
          8.59186840057373,
          19.422016143798828,
          8.897865295410156,
          13.961259841918945,
          -3.763843297958374,
          12.237237930297852,
          8.01791000366211,
          13.84111213684082,
          13.96003246307373,
          17.789594650268555,
          -0.058634448796510696,
          12.092474937438965,
          14.606911659240723,
          4.301792621612549,
          19.032384872436523,
          4.352843284606934,
          22.783489227294922,
          7.935531139373779,
          8.405303001403809,
          9.242980003356934,
          19.504812240600586,
          17.704654693603516,
          18.457338333129883,
          -5.71736478805542,
          18.80547523498535,
          9.930150985717773,
          17.735254287719727,
          -15.931854248046875,
          12.612089157104492,
          11.50731086730957,
          4.5763750076293945,
          2.616286516189575,
          2.156609058380127,
          7.842135906219482,
          -5.977982997894287,
          4.281918525695801,
          19.73328399658203,
          4.907848834991455,
          -16.293155670166016,
          -3.7047762870788574,
          -3.9172143936157227,
          -0.17510227859020233,
          -6.661003589630127,
          -14.196131706237793,
          11.467315673828125,
          -23.745107650756836,
          -8.090666770935059,
          -5.165524959564209,
          -16.777816772460938,
          -17.273300170898438,
          -15.642221450805664,
          9.472996711730957,
          -15.987696647644043,
          -4.618568420410156,
          -11.615621566772461,
          -13.994260787963867,
          16.729900360107422,
          -17.166316986083984,
          12.216200828552246,
          7.001796245574951,
          0.6883495450019836,
          -5.877954006195068,
          -5.431730270385742,
          -4.931356906890869,
          9.483696937561035,
          4.851379871368408,
          3.0157883167266846,
          10.67176342010498,
          8.231620788574219,
          13.94485092163086,
          14.477741241455078,
          -20.765138626098633,
          2.0914177894592285,
          9.540144920349121,
          -0.549883246421814,
          5.7306013107299805,
          -6.563480377197266,
          -3.108734130859375,
          -11.232421875,
          -6.58005428314209,
          15.545248985290527,
          0.6682468056678772,
          -11.510981559753418,
          2.979285478591919,
          7.174053192138672,
          -11.822035789489746,
          12.796862602233887,
          5.201602935791016,
          0.19314518570899963,
          22.353191375732422,
          -5.494848728179932,
          -1.2324742078781128,
          -5.035472869873047,
          -14.736196517944336,
          -15.092046737670898,
          7.4166693687438965,
          -15.034958839416504,
          -16.7369441986084,
          5.05817174911499,
          -0.48238933086395264,
          2.2044289112091064,
          0.6444150805473328,
          19.026660919189453,
          -23.038999557495117,
          -20.07582664489746,
          -5.505149841308594,
          -1.8774229288101196,
          -14.475130081176758,
          -1.1902459859848022,
          -11.065008163452148,
          -0.5294798612594604,
          8.812735557556152,
          5.906627655029297,
          -15.700569152832031,
          1.130448341369629,
          2.0706570148468018,
          -24.350187301635742,
          -10.949675559997559,
          0.7918303608894348,
          -4.000344276428223,
          -13.928183555603027,
          -11.237680435180664,
          1.0225834846496582,
          -0.026622161269187927,
          -0.9116880297660828,
          3.394739866256714,
          -9.407183647155762,
          11.26363754272461,
          -4.254361629486084,
          3.5992848873138428,
          -0.5052043199539185,
          4.816115379333496,
          17.601341247558594,
          -10.273040771484375,
          -16.040245056152344,
          15.762184143066406,
          -8.456192016601562,
          8.468003273010254,
          14.373781204223633,
          -10.263023376464844,
          2.9836833477020264,
          1.0952990055084229,
          3.5166401863098145,
          15.881770133972168,
          -18.681529998779297,
          6.087528705596924,
          -5.297115802764893,
          21.12158203125,
          -10.207281112670898,
          -5.299266338348389,
          -3.5251739025115967,
          5.6882219314575195,
          12.16995906829834,
          -4.853129863739014,
          4.119503498077393,
          3.9279825687408447,
          4.401203155517578,
          18.400035858154297,
          3.2971839904785156,
          -6.334400653839111,
          -8.544851303100586,
          -15.623655319213867,
          -9.894822120666504,
          6.519123077392578,
          16.792301177978516,
          -7.970703125,
          -8.488266944885254,
          -13.613900184631348,
          -12.490225791931152,
          -9.849233627319336,
          12.009702682495117,
          5.843871593475342,
          -21.26431655883789,
          -9.549659729003906,
          -18.277151107788086,
          -2.7273366451263428,
          3.8850748538970947,
          -10.033822059631348,
          8.060934066772461,
          -8.910110473632812,
          -0.2668220102787018,
          -2.864727735519409,
          -21.42786407470703,
          12.543902397155762,
          -14.275350570678711,
          -2.789029598236084,
          -19.68380355834961,
          6.040362358093262,
          2.173581600189209,
          5.202088356018066,
          -15.495939254760742,
          -8.188436508178711,
          -13.98575210571289,
          -7.769227504730225,
          -16.86701202392578,
          3.930795431137085,
          0.884399950504303,
          10.052136421203613,
          -11.092592239379883,
          -9.680211067199707,
          -7.518336772918701,
          13.366915702819824,
          16.234619140625,
          -6.336682319641113,
          3.8657305240631104,
          -7.681163311004639,
          -7.971293926239014,
          1.316864013671875,
          18.307126998901367,
          -1.718156337738037,
          -4.100444793701172,
          -10.230843544006348,
          -0.33471083641052246,
          11.368671417236328,
          -7.319443225860596,
          2.900387763977051,
          6.437972068786621,
          4.990235805511475,
          9.067484855651855,
          9.121273040771484,
          -2.4799106121063232,
          4.059266090393066,
          19.409381866455078,
          6.007709980010986,
          2.072920799255371,
          -20.16367530822754,
          5.677636623382568,
          4.036204814910889,
          -0.48938313126564026,
          5.81118106842041,
          -4.760633945465088,
          -10.97648811340332,
          4.634791374206543,
          18.170759201049805,
          -9.671581268310547,
          1.9903643131256104,
          -11.609576225280762,
          9.98404598236084,
          -6.337679386138916,
          -7.711386680603027,
          -1.1816741228103638,
          -16.150535583496094,
          -4.408957481384277,
          -12.213265419006348,
          -12.402475357055664,
          4.767095565795898,
          -15.466445922851562,
          -1.7600460052490234,
          -1.804707646369934,
          -1.707175612449646,
          -3.356011390686035,
          4.137907028198242,
          8.321168899536133,
          -7.347667694091797,
          1.083132266998291,
          -6.79179573059082,
          -7.3409552574157715,
          -18.204265594482422,
          -2.2257001399993896,
          1.3497109413146973,
          -5.265385627746582,
          -2.4524037837982178,
          -0.5121093988418579,
          -10.029203414916992,
          -6.911113262176514,
          2.478451728820801,
          4.3353047370910645,
          6.5301079750061035,
          -15.361576080322266,
          -7.375859260559082,
          -4.43018102645874,
          -9.189496040344238,
          -6.188483715057373,
          9.442096710205078,
          6.482025146484375,
          -12.508265495300293,
          2.6737587451934814,
          -15.76518440246582,
          4.822513103485107,
          -5.026501178741455,
          17.472002029418945,
          -4.53155517578125,
          17.84234046936035,
          -5.451015949249268,
          4.070245742797852,
          15.401848793029785,
          0.3278741240501404,
          -3.038132667541504,
          6.818628787994385,
          -0.23116320371627808,
          -2.807894468307495,
          -12.619429588317871,
          -1.5105687379837036,
          -13.11613655090332,
          -9.443828582763672,
          -13.314379692077637,
          2.4954311847686768,
          -13.85485553741455,
          9.343525886535645,
          -12.085447311401367,
          6.606130123138428,
          -5.913820743560791,
          -11.18796157836914,
          -6.795259475708008,
          -6.984910011291504,
          0.8566508293151855,
          -9.234637260437012,
          17.888690948486328,
          5.825953483581543,
          -11.902227401733398,
          -2.7994132041931152,
          17.305763244628906,
          7.867868423461914,
          -1.1294020414352417,
          13.750722885131836,
          -14.93786907196045,
          5.626087665557861,
          13.257774353027344,
          1.9227381944656372,
          7.720468997955322,
          10.348862648010254,
          14.745491981506348,
          4.2653727531433105,
          2.6823956966400146,
          2.1240015029907227,
          14.294361114501953,
          1.3419654369354248,
          12.639713287353516,
          5.77737283706665,
          13.864627838134766,
          0.10873760282993317,
          -7.023553371429443,
          -4.476100444793701,
          5.964352130889893,
          0.44795727729797363,
          13.928915977478027,
          -2.1050405502319336,
          11.258399963378906,
          -5.385560989379883,
          -8.24112319946289,
          3.28491473197937,
          -2.399031400680542,
          -20.517066955566406,
          -19.27802085876465,
          1.2999275922775269,
          10.555305480957031,
          -9.541069984436035,
          -2.156414747238159,
          -9.288384437561035,
          -13.519234657287598,
          7.046714782714844,
          -10.908697128295898,
          6.6126556396484375,
          -12.065937042236328,
          -6.470128059387207,
          -9.811161041259766,
          -3.4395437240600586,
          3.184295177459717,
          -6.977355480194092,
          8.04250431060791,
          12.84123420715332,
          4.410100936889648,
          3.3189759254455566,
          0.9027261137962341,
          -5.852229595184326,
          6.921525478363037,
          -3.6197328567504883,
          -19.03603172302246,
          5.0706892013549805,
          -8.293464660644531,
          14.587352752685547,
          -0.9724533557891846,
          8.324729919433594,
          0.963884711265564,
          -3.675415515899658,
          9.154379844665527,
          12.249526977539062,
          8.220638275146484,
          -5.4375433921813965,
          11.294425010681152,
          -10.567838668823242,
          -14.5156888961792,
          2.883481025695801,
          6.033918380737305,
          1.0876128673553467,
          15.989140510559082,
          10.565152168273926,
          2.5538737773895264,
          -15.717248916625977,
          8.119630813598633,
          -18.68572998046875,
          -4.467637062072754,
          6.108673095703125,
          -13.207829475402832,
          0.4357329308986664,
          -1.062796950340271,
          1.5948647260665894,
          -2.925903797149658,
          -19.88384246826172,
          -3.101419687271118,
          -10.147382736206055,
          -0.6777145862579346,
          5.991117000579834,
          -23.174753189086914,
          21.827022552490234,
          -16.11737823486328,
          -13.726189613342285,
          2.172013282775879,
          1.845761775970459,
          -8.958932876586914,
          14.73444652557373,
          -13.808375358581543,
          -13.729259490966797,
          10.138933181762695,
          -10.365113258361816,
          6.030386924743652,
          -6.03518533706665,
          -0.8632038831710815,
          -5.923140048980713,
          0.13848675787448883,
          -8.462409973144531,
          1.5198583602905273,
          11.602888107299805,
          -2.638702392578125,
          8.053030014038086,
          6.701535224914551,
          -0.31872931122779846,
          0.8752743601799011,
          18.56822395324707,
          12.1848726272583,
          -1.0084149837493896,
          5.799579620361328,
          6.899316310882568,
          12.3652982711792,
          3.8349015712738037,
          16.178308486938477,
          -11.27780818939209,
          -5.552104949951172,
          1.059588074684143,
          -2.877389669418335,
          -8.226223945617676,
          10.9639310836792,
          1.2173089981079102,
          -0.677200198173523,
          5.24668025970459,
          -6.516391754150391,
          1.2090071439743042,
          -14.551400184631348,
          -6.9433393478393555,
          7.284261226654053,
          11.28547477722168,
          -4.230804443359375,
          -2.1824028491973877,
          -2.411625862121582,
          -1.9010168313980103,
          -18.714111328125,
          -0.6183149814605713,
          -3.026003122329712,
          -3.2261202335357666,
          2.0038390159606934,
          2.0874383449554443,
          11.632633209228516,
          -0.7538744807243347,
          6.136899471282959,
          1.3164628744125366,
          -12.807344436645508,
          -0.7365295886993408,
          2.0803136825561523,
          4.277644634246826,
          6.4623260498046875,
          -5.32625675201416,
          -3.476477861404419,
          -13.165532112121582,
          -8.676694869995117,
          -8.464505195617676,
          -9.91310977935791,
          -0.7558913230895996,
          2.712606430053711,
          10.44733715057373,
          4.846456050872803,
          11.431757926940918,
          9.89638900756836,
          7.2665276527404785,
          17.144208908081055,
          15.884764671325684,
          6.694550037384033,
          -0.5520667433738708,
          2.94047212600708,
          15.3862943649292,
          16.365264892578125,
          2.8829870223999023,
          22.125225067138672,
          8.040471076965332,
          14.96435546875,
          -0.24416746199131012,
          10.166109085083008,
          14.282734870910645,
          -2.5960147380828857,
          2.997117519378662,
          2.068605899810791,
          -1.2995429039001465,
          1.2734929323196411,
          5.242511749267578,
          -4.221572399139404,
          -5.267741680145264,
          2.8391196727752686,
          13.755644798278809,
          10.97520637512207,
          12.145060539245605,
          -0.6526826024055481,
          -8.014704704284668,
          6.763827800750732,
          8.527938842773438,
          12.275190353393555,
          2.5423102378845215,
          1.608940601348877,
          -18.411880493164062,
          -11.562224388122559,
          -6.078470230102539,
          -4.096164703369141,
          -5.746426582336426,
          4.1229047775268555,
          -2.1635119915008545,
          5.383861541748047,
          1.851381540298462,
          -4.985374450683594,
          0.95496666431427,
          -2.1891767978668213,
          -9.438636779785156,
          -2.6745541095733643,
          -0.07769222557544708,
          -5.575671672821045,
          -6.741980075836182,
          -6.761507987976074,
          11.0228271484375,
          13.485636711120605,
          -4.356093406677246,
          4.484842777252197,
          -9.751751899719238,
          -14.731550216674805,
          -2.4567580223083496,
          6.08214807510376,
          4.621294021606445,
          3.8506202697753906,
          -8.043399810791016,
          -2.094693183898926,
          7.630131244659424,
          -10.069231033325195,
          4.940819263458252,
          5.624660491943359,
          -12.465686798095703,
          21.565841674804688,
          10.671341896057129,
          -1.8284400701522827,
          -5.857875823974609,
          -14.745266914367676,
          2.442033052444458,
          -4.7844038009643555,
          3.1166439056396484,
          -0.1921730786561966,
          4.902636528015137,
          20.29901123046875,
          7.655887126922607,
          19.96477699279785,
          7.433034420013428,
          9.447497367858887,
          -6.0483245849609375,
          7.99446439743042,
          9.631354331970215,
          14.315228462219238,
          -4.023183345794678,
          -1.4723012447357178,
          8.028483390808105,
          6.5830912590026855,
          -9.654557228088379,
          -1.885943055152893,
          -8.748266220092773,
          7.331230640411377,
          3.5843112468719482,
          1.510004997253418,
          0.8611674308776855,
          14.799641609191895,
          -16.89875602722168,
          -17.3786563873291,
          0.8764878511428833,
          -17.771209716796875,
          -7.26124906539917,
          -13.02104377746582,
          1.2093919515609741,
          -5.828505516052246,
          -4.346604347229004,
          -0.04622655734419823,
          4.5717973709106445,
          -12.785869598388672,
          -8.793484687805176,
          -0.045989181846380234,
          9.149195671081543,
          -0.4200911223888397,
          -14.362449645996094,
          -1.0409122705459595,
          -4.0457634925842285,
          -7.654609203338623,
          -4.825708866119385,
          -1.4541537761688232,
          -14.21243953704834,
          -7.002348899841309,
          -7.691283702850342,
          4.376201152801514,
          -8.566287994384766,
          -6.550181865692139,
          10.544575691223145,
          -6.660573482513428,
          4.155878067016602,
          -15.70510482788086,
          -11.26807975769043,
          6.736717224121094,
          -1.2155075073242188,
          -5.742469787597656,
          -8.717249870300293,
          3.2417802810668945,
          -15.312873840332031,
          -13.155055046081543,
          6.519174575805664,
          13.00313663482666,
          9.175982475280762,
          -0.08086731284856796,
          1.4622793197631836,
          -2.8324687480926514,
          21.7991886138916,
          -4.701104164123535,
          -10.132933616638184,
          0.33685731887817383,
          7.535901069641113,
          -5.409799098968506,
          -16.77971076965332,
          -16.71357536315918,
          2.42242431640625,
          2.6192219257354736,
          6.882546424865723,
          0.27253201603889465,
          -6.5469512939453125,
          -16.915159225463867,
          1.9540009498596191,
          -6.120020389556885,
          -7.48141622543335,
          6.095646858215332,
          -15.118414878845215,
          10.165703773498535,
          -11.893183708190918,
          -6.506969451904297,
          -15.90582275390625,
          9.266935348510742,
          -0.5791224837303162,
          7.071618556976318,
          -19.21476173400879,
          -7.100812911987305,
          4.971698760986328,
          -4.993964672088623,
          3.103545665740967,
          -9.461692810058594,
          -5.031928539276123,
          -6.379279613494873,
          -1.631099820137024,
          3.2361276149749756,
          -3.9591169357299805,
          -8.605990409851074,
          -4.021117210388184,
          -1.2318792343139648,
          4.471391201019287,
          -7.113277435302734,
          -1.5736205577850342,
          6.383227825164795,
          3.6069698333740234,
          5.625356674194336,
          -4.9037652015686035,
          4.357243061065674,
          9.7671537399292,
          -1.1844403743743896,
          0.6552640199661255,
          6.0429253578186035,
          -9.848163604736328,
          -1.8708064556121826,
          -0.3392444849014282,
          1.9492086172103882,
          -14.622299194335938,
          -0.9259772896766663,
          7.698278903961182,
          5.85180139541626,
          4.5030517578125,
          9.782671928405762,
          -0.9011750221252441,
          4.577389240264893,
          1.5291054248809814,
          -8.177361488342285,
          -7.823676109313965,
          21.14338493347168,
          4.5401506423950195,
          1.1546919345855713,
          7.133068084716797,
          -1.1486258506774902,
          0.8537485003471375,
          -1.8365224599838257,
          -17.364177703857422,
          4.462566375732422,
          -1.8883687257766724,
          -1.2042129039764404,
          -0.848146378993988,
          3.808473587036133,
          -1.3140054941177368,
          -3.1613643169403076,
          -6.744803428649902,
          -9.323348045349121,
          4.214540958404541,
          -0.9826647043228149,
          -8.42241382598877,
          -1.4694195985794067,
          -14.07690143585205,
          -1.041273832321167,
          0.9529920816421509,
          -0.8762897849082947,
          -7.961662769317627,
          -13.353238105773926,
          0.6276907920837402,
          3.329859972000122,
          -0.20147553086280823,
          2.6700990200042725,
          14.343511581420898,
          -1.0380439758300781,
          -1.0557228326797485,
          -7.909740447998047,
          0.9900686144828796,
          -1.3373384475708008,
          4.220676898956299,
          10.621953964233398,
          14.82541561126709,
          5.321554660797119,
          0.6659950017929077,
          8.210037231445312,
          -1.7504130601882935,
          -1.5646108388900757,
          4.058770656585693,
          3.3563029766082764,
          4.5187087059021,
          1.4957937002182007,
          -2.804631471633911,
          -14.639144897460938,
          -0.6133666634559631,
          -5.526438236236572,
          -6.031571865081787,
          5.778163909912109,
          0.554315447807312,
          -0.8046621680259705,
          -5.267627239227295,
          2.4718403816223145,
          -4.8835015296936035,
          -6.064685344696045,
          -5.186855792999268,
          4.745118618011475,
          -10.679977416992188,
          -4.471129894256592,
          1.1013789176940918,
          -2.6152138710021973,
          16.00623893737793,
          14.948914527893066,
          8.622063636779785,
          -1.0925291776657104,
          -5.051647663116455,
          4.3720502853393555,
          -16.120159149169922,
          5.513385772705078,
          8.415040016174316,
          3.775390148162842,
          3.334256649017334,
          4.0037360191345215,
          -0.752293586730957,
          -12.26252269744873,
          -1.8955206871032715,
          4.752047538757324,
          -2.237833023071289,
          4.289013862609863,
          -12.48310661315918,
          6.783522129058838,
          3.38535737991333,
          4.436369895935059,
          5.8888092041015625,
          1.0136990547180176,
          -15.419892311096191,
          -2.8256123065948486,
          5.697052001953125,
          14.624897956848145,
          15.560874938964844,
          -11.895294189453125,
          2.0577073097229004,
          16.149229049682617,
          -2.939758539199829,
          -4.961688995361328,
          -2.908909797668457,
          3.185178279876709,
          -4.964888095855713,
          2.386089324951172,
          8.809612274169922,
          2.7985637187957764,
          0.020858464762568474,
          3.708617925643921,
          -7.714494228363037,
          2.338054895401001,
          -3.2764580249786377,
          -3.6410317420959473,
          0.5474374294281006,
          0.6455643773078918,
          14.07894515991211,
          -9.932205200195312,
          21.098012924194336,
          -7.47905158996582,
          12.03233814239502,
          20.824054718017578,
          0.20367726683616638,
          21.844669342041016,
          -7.888773441314697,
          -0.8774076700210571,
          0.2312174141407013,
          22.08429718017578,
          21.08692741394043,
          21.837743759155273,
          7.032955646514893,
          -7.546412944793701,
          5.788327217102051,
          10.464689254760742,
          3.6825435161590576,
          6.446013927459717,
          3.804764986038208,
          -2.24273681640625,
          4.075713634490967,
          -6.818652629852295,
          -6.556723594665527,
          3.328781843185425,
          -3.217618465423584,
          -6.5975518226623535,
          18.29014015197754,
          3.82865834236145,
          -4.159478664398193,
          -7.172366619110107,
          -5.849819183349609,
          -0.6414068341255188,
          -0.961453378200531,
          -6.685749053955078,
          -9.212112426757812,
          11.106230735778809,
          -9.373884201049805,
          -3.063278913497925,
          9.842462539672852,
          3.869621753692627,
          6.976167678833008,
          6.955745697021484,
          -9.430508613586426,
          7.216155529022217,
          -6.802737236022949,
          7.75598669052124,
          -6.977086544036865,
          4.303136825561523,
          7.564995288848877,
          -2.3932738304138184,
          0.7574599981307983,
          7.716224670410156,
          -0.0003959608729928732,
          4.947542190551758,
          -2.947340250015259,
          4.963579177856445,
          1.1909549236297607,
          -6.806786060333252,
          -6.017518997192383,
          11.593951225280762,
          10.098372459411621,
          -18.42880630493164,
          4.316982746124268,
          6.484617233276367,
          -6.230214595794678,
          11.475171089172363,
          4.275223731994629,
          3.181234121322632,
          17.172733306884766,
          -5.823548316955566,
          -3.1263396739959717,
          -12.792436599731445,
          -5.351893901824951,
          -2.933617353439331,
          13.018987655639648,
          -0.1354634016752243,
          5.153554916381836,
          -0.15149904787540436,
          9.272078514099121,
          -6.202935695648193,
          1.2849620580673218,
          19.141830444335938,
          10.144124984741211,
          4.02092981338501,
          5.199459075927734,
          2.846921682357788,
          7.227863788604736,
          -0.21209296584129333,
          3.2784423828125,
          6.100231170654297,
          3.131721019744873,
          -4.705782890319824,
          2.899287700653076,
          -17.11282730102539,
          14.989496231079102,
          -5.904769420623779,
          -4.856328964233398,
          -5.3150763511657715,
          2.8027901649475098,
          5.843672275543213,
          -6.357118606567383,
          5.448256492614746,
          5.428555488586426,
          14.102075576782227,
          -6.085369110107422,
          -4.529697895050049,
          -1.3426872491836548,
          14.114006996154785,
          11.193915367126465,
          -2.86259126663208,
          4.9715986251831055,
          4.346815586090088,
          4.774743556976318,
          3.7139837741851807,
          5.629767417907715,
          6.27238130569458,
          5.143904685974121,
          -7.1821746826171875,
          5.1619062423706055,
          -8.334798812866211,
          -5.789752960205078,
          6.450066566467285,
          4.856810569763184,
          -8.179120063781738,
          5.74996280670166,
          4.8153157234191895,
          5.6179518699646,
          5.883570671081543,
          6.142422676086426,
          5.51738166809082,
          5.05952787399292,
          -15.276313781738281,
          4.9824042320251465,
          5.247432708740234,
          -8.463359832763672,
          5.675500869750977,
          -6.508266448974609,
          -8.54622745513916,
          -15.384861946105957,
          5.4974045753479,
          4.877813816070557,
          -4.971904277801514,
          -6.966030120849609,
          -5.713367462158203,
          4.594685077667236,
          -3.324730396270752,
          -7.013256072998047,
          -5.273044586181641,
          -4.902591705322266,
          4.588219165802002,
          10.955824851989746,
          -4.320693016052246,
          12.178994178771973,
          -0.3129883110523224,
          3.1845223903656006,
          -3.8523800373077393,
          -6.1583251953125,
          8.229728698730469,
          -0.4217403829097748,
          1.7906193733215332,
          -2.1067521572113037,
          -5.580257415771484,
          3.5317838191986084,
          5.577240467071533,
          8.194706916809082,
          2.0503008365631104,
          -4.311767578125,
          -7.007546901702881,
          -8.364714622497559,
          -6.659224033355713,
          3.637087345123291,
          -5.911899089813232,
          1.2140047550201416,
          -8.227166175842285,
          4.766222953796387,
          3.035013437271118,
          3.4407057762145996,
          1.5536396503448486,
          -4.80273962020874,
          3.04541015625,
          2.0736591815948486,
          6.64483118057251,
          3.5387825965881348,
          -14.315145492553711,
          4.550181865692139,
          -13.723711013793945,
          -14.140654563903809,
          2.815690517425537,
          -14.031877517700195,
          -7.219951152801514,
          -13.95674991607666,
          -5.91903018951416,
          -14.50827693939209,
          -14.228202819824219,
          -5.1631574630737305,
          12.755435943603516,
          7.471400737762451,
          -5.325182914733887,
          -7.72347354888916,
          -2.651209592819214,
          -14.169617652893066,
          -6.469118595123291,
          -13.708491325378418,
          -7.445766925811768,
          -6.017491817474365,
          5.3847832679748535,
          -6.369865417480469,
          -5.345638751983643,
          -7.841033935546875,
          3.02949857711792,
          -2.1100587844848633,
          11.940079689025879,
          4.7336249351501465,
          3.8162128925323486,
          4.716987609863281,
          -5.811359405517578,
          -4.8269805908203125,
          -5.808072090148926,
          -8.092814445495605,
          -4.821860313415527,
          -5.781242370605469,
          -5.890988826751709,
          -4.5943922996521,
          -5.676081657409668,
          4.856504917144775,
          5.57960319519043,
          5.047755241394043,
          6.7970051765441895,
          -8.909740447998047,
          3.1019515991210938,
          4.293649673461914,
          4.714522838592529,
          -0.8297444581985474,
          2.3918988704681396,
          6.442058086395264,
          9.74583625793457
         ],
         "yaxis": "y"
        }
       ],
       "layout": {
        "coloraxis": {
         "colorbar": {
          "title": {
           "text": "popularity"
          }
         },
         "colorscale": [
          [
           0,
           "#0d0887"
          ],
          [
           0.1111111111111111,
           "#46039f"
          ],
          [
           0.2222222222222222,
           "#7201a8"
          ],
          [
           0.3333333333333333,
           "#9c179e"
          ],
          [
           0.4444444444444444,
           "#bd3786"
          ],
          [
           0.5555555555555556,
           "#d8576b"
          ],
          [
           0.6666666666666666,
           "#ed7953"
          ],
          [
           0.7777777777777778,
           "#fb9f3a"
          ],
          [
           0.8888888888888888,
           "#fdca26"
          ],
          [
           1,
           "#f0f921"
          ]
         ]
        },
        "legend": {
         "tracegroupgap": 0
        },
        "margin": {
         "t": 60
        },
        "template": {
         "data": {
          "bar": [
           {
            "error_x": {
             "color": "#2a3f5f"
            },
            "error_y": {
             "color": "#2a3f5f"
            },
            "marker": {
             "line": {
              "color": "#E5ECF6",
              "width": 0.5
             },
             "pattern": {
              "fillmode": "overlay",
              "size": 10,
              "solidity": 0.2
             }
            },
            "type": "bar"
           }
          ],
          "barpolar": [
           {
            "marker": {
             "line": {
              "color": "#E5ECF6",
              "width": 0.5
             },
             "pattern": {
              "fillmode": "overlay",
              "size": 10,
              "solidity": 0.2
             }
            },
            "type": "barpolar"
           }
          ],
          "carpet": [
           {
            "aaxis": {
             "endlinecolor": "#2a3f5f",
             "gridcolor": "white",
             "linecolor": "white",
             "minorgridcolor": "white",
             "startlinecolor": "#2a3f5f"
            },
            "baxis": {
             "endlinecolor": "#2a3f5f",
             "gridcolor": "white",
             "linecolor": "white",
             "minorgridcolor": "white",
             "startlinecolor": "#2a3f5f"
            },
            "type": "carpet"
           }
          ],
          "choropleth": [
           {
            "colorbar": {
             "outlinewidth": 0,
             "ticks": ""
            },
            "type": "choropleth"
           }
          ],
          "contour": [
           {
            "colorbar": {
             "outlinewidth": 0,
             "ticks": ""
            },
            "colorscale": [
             [
              0,
              "#0d0887"
             ],
             [
              0.1111111111111111,
              "#46039f"
             ],
             [
              0.2222222222222222,
              "#7201a8"
             ],
             [
              0.3333333333333333,
              "#9c179e"
             ],
             [
              0.4444444444444444,
              "#bd3786"
             ],
             [
              0.5555555555555556,
              "#d8576b"
             ],
             [
              0.6666666666666666,
              "#ed7953"
             ],
             [
              0.7777777777777778,
              "#fb9f3a"
             ],
             [
              0.8888888888888888,
              "#fdca26"
             ],
             [
              1,
              "#f0f921"
             ]
            ],
            "type": "contour"
           }
          ],
          "contourcarpet": [
           {
            "colorbar": {
             "outlinewidth": 0,
             "ticks": ""
            },
            "type": "contourcarpet"
           }
          ],
          "heatmap": [
           {
            "colorbar": {
             "outlinewidth": 0,
             "ticks": ""
            },
            "colorscale": [
             [
              0,
              "#0d0887"
             ],
             [
              0.1111111111111111,
              "#46039f"
             ],
             [
              0.2222222222222222,
              "#7201a8"
             ],
             [
              0.3333333333333333,
              "#9c179e"
             ],
             [
              0.4444444444444444,
              "#bd3786"
             ],
             [
              0.5555555555555556,
              "#d8576b"
             ],
             [
              0.6666666666666666,
              "#ed7953"
             ],
             [
              0.7777777777777778,
              "#fb9f3a"
             ],
             [
              0.8888888888888888,
              "#fdca26"
             ],
             [
              1,
              "#f0f921"
             ]
            ],
            "type": "heatmap"
           }
          ],
          "heatmapgl": [
           {
            "colorbar": {
             "outlinewidth": 0,
             "ticks": ""
            },
            "colorscale": [
             [
              0,
              "#0d0887"
             ],
             [
              0.1111111111111111,
              "#46039f"
             ],
             [
              0.2222222222222222,
              "#7201a8"
             ],
             [
              0.3333333333333333,
              "#9c179e"
             ],
             [
              0.4444444444444444,
              "#bd3786"
             ],
             [
              0.5555555555555556,
              "#d8576b"
             ],
             [
              0.6666666666666666,
              "#ed7953"
             ],
             [
              0.7777777777777778,
              "#fb9f3a"
             ],
             [
              0.8888888888888888,
              "#fdca26"
             ],
             [
              1,
              "#f0f921"
             ]
            ],
            "type": "heatmapgl"
           }
          ],
          "histogram": [
           {
            "marker": {
             "pattern": {
              "fillmode": "overlay",
              "size": 10,
              "solidity": 0.2
             }
            },
            "type": "histogram"
           }
          ],
          "histogram2d": [
           {
            "colorbar": {
             "outlinewidth": 0,
             "ticks": ""
            },
            "colorscale": [
             [
              0,
              "#0d0887"
             ],
             [
              0.1111111111111111,
              "#46039f"
             ],
             [
              0.2222222222222222,
              "#7201a8"
             ],
             [
              0.3333333333333333,
              "#9c179e"
             ],
             [
              0.4444444444444444,
              "#bd3786"
             ],
             [
              0.5555555555555556,
              "#d8576b"
             ],
             [
              0.6666666666666666,
              "#ed7953"
             ],
             [
              0.7777777777777778,
              "#fb9f3a"
             ],
             [
              0.8888888888888888,
              "#fdca26"
             ],
             [
              1,
              "#f0f921"
             ]
            ],
            "type": "histogram2d"
           }
          ],
          "histogram2dcontour": [
           {
            "colorbar": {
             "outlinewidth": 0,
             "ticks": ""
            },
            "colorscale": [
             [
              0,
              "#0d0887"
             ],
             [
              0.1111111111111111,
              "#46039f"
             ],
             [
              0.2222222222222222,
              "#7201a8"
             ],
             [
              0.3333333333333333,
              "#9c179e"
             ],
             [
              0.4444444444444444,
              "#bd3786"
             ],
             [
              0.5555555555555556,
              "#d8576b"
             ],
             [
              0.6666666666666666,
              "#ed7953"
             ],
             [
              0.7777777777777778,
              "#fb9f3a"
             ],
             [
              0.8888888888888888,
              "#fdca26"
             ],
             [
              1,
              "#f0f921"
             ]
            ],
            "type": "histogram2dcontour"
           }
          ],
          "mesh3d": [
           {
            "colorbar": {
             "outlinewidth": 0,
             "ticks": ""
            },
            "type": "mesh3d"
           }
          ],
          "parcoords": [
           {
            "line": {
             "colorbar": {
              "outlinewidth": 0,
              "ticks": ""
             }
            },
            "type": "parcoords"
           }
          ],
          "pie": [
           {
            "automargin": true,
            "type": "pie"
           }
          ],
          "scatter": [
           {
            "fillpattern": {
             "fillmode": "overlay",
             "size": 10,
             "solidity": 0.2
            },
            "type": "scatter"
           }
          ],
          "scatter3d": [
           {
            "line": {
             "colorbar": {
              "outlinewidth": 0,
              "ticks": ""
             }
            },
            "marker": {
             "colorbar": {
              "outlinewidth": 0,
              "ticks": ""
             }
            },
            "type": "scatter3d"
           }
          ],
          "scattercarpet": [
           {
            "marker": {
             "colorbar": {
              "outlinewidth": 0,
              "ticks": ""
             }
            },
            "type": "scattercarpet"
           }
          ],
          "scattergeo": [
           {
            "marker": {
             "colorbar": {
              "outlinewidth": 0,
              "ticks": ""
             }
            },
            "type": "scattergeo"
           }
          ],
          "scattergl": [
           {
            "marker": {
             "colorbar": {
              "outlinewidth": 0,
              "ticks": ""
             }
            },
            "type": "scattergl"
           }
          ],
          "scattermapbox": [
           {
            "marker": {
             "colorbar": {
              "outlinewidth": 0,
              "ticks": ""
             }
            },
            "type": "scattermapbox"
           }
          ],
          "scatterpolar": [
           {
            "marker": {
             "colorbar": {
              "outlinewidth": 0,
              "ticks": ""
             }
            },
            "type": "scatterpolar"
           }
          ],
          "scatterpolargl": [
           {
            "marker": {
             "colorbar": {
              "outlinewidth": 0,
              "ticks": ""
             }
            },
            "type": "scatterpolargl"
           }
          ],
          "scatterternary": [
           {
            "marker": {
             "colorbar": {
              "outlinewidth": 0,
              "ticks": ""
             }
            },
            "type": "scatterternary"
           }
          ],
          "surface": [
           {
            "colorbar": {
             "outlinewidth": 0,
             "ticks": ""
            },
            "colorscale": [
             [
              0,
              "#0d0887"
             ],
             [
              0.1111111111111111,
              "#46039f"
             ],
             [
              0.2222222222222222,
              "#7201a8"
             ],
             [
              0.3333333333333333,
              "#9c179e"
             ],
             [
              0.4444444444444444,
              "#bd3786"
             ],
             [
              0.5555555555555556,
              "#d8576b"
             ],
             [
              0.6666666666666666,
              "#ed7953"
             ],
             [
              0.7777777777777778,
              "#fb9f3a"
             ],
             [
              0.8888888888888888,
              "#fdca26"
             ],
             [
              1,
              "#f0f921"
             ]
            ],
            "type": "surface"
           }
          ],
          "table": [
           {
            "cells": {
             "fill": {
              "color": "#EBF0F8"
             },
             "line": {
              "color": "white"
             }
            },
            "header": {
             "fill": {
              "color": "#C8D4E3"
             },
             "line": {
              "color": "white"
             }
            },
            "type": "table"
           }
          ]
         },
         "layout": {
          "annotationdefaults": {
           "arrowcolor": "#2a3f5f",
           "arrowhead": 0,
           "arrowwidth": 1
          },
          "autotypenumbers": "strict",
          "coloraxis": {
           "colorbar": {
            "outlinewidth": 0,
            "ticks": ""
           }
          },
          "colorscale": {
           "diverging": [
            [
             0,
             "#8e0152"
            ],
            [
             0.1,
             "#c51b7d"
            ],
            [
             0.2,
             "#de77ae"
            ],
            [
             0.3,
             "#f1b6da"
            ],
            [
             0.4,
             "#fde0ef"
            ],
            [
             0.5,
             "#f7f7f7"
            ],
            [
             0.6,
             "#e6f5d0"
            ],
            [
             0.7,
             "#b8e186"
            ],
            [
             0.8,
             "#7fbc41"
            ],
            [
             0.9,
             "#4d9221"
            ],
            [
             1,
             "#276419"
            ]
           ],
           "sequential": [
            [
             0,
             "#0d0887"
            ],
            [
             0.1111111111111111,
             "#46039f"
            ],
            [
             0.2222222222222222,
             "#7201a8"
            ],
            [
             0.3333333333333333,
             "#9c179e"
            ],
            [
             0.4444444444444444,
             "#bd3786"
            ],
            [
             0.5555555555555556,
             "#d8576b"
            ],
            [
             0.6666666666666666,
             "#ed7953"
            ],
            [
             0.7777777777777778,
             "#fb9f3a"
            ],
            [
             0.8888888888888888,
             "#fdca26"
            ],
            [
             1,
             "#f0f921"
            ]
           ],
           "sequentialminus": [
            [
             0,
             "#0d0887"
            ],
            [
             0.1111111111111111,
             "#46039f"
            ],
            [
             0.2222222222222222,
             "#7201a8"
            ],
            [
             0.3333333333333333,
             "#9c179e"
            ],
            [
             0.4444444444444444,
             "#bd3786"
            ],
            [
             0.5555555555555556,
             "#d8576b"
            ],
            [
             0.6666666666666666,
             "#ed7953"
            ],
            [
             0.7777777777777778,
             "#fb9f3a"
            ],
            [
             0.8888888888888888,
             "#fdca26"
            ],
            [
             1,
             "#f0f921"
            ]
           ]
          },
          "colorway": [
           "#636efa",
           "#EF553B",
           "#00cc96",
           "#ab63fa",
           "#FFA15A",
           "#19d3f3",
           "#FF6692",
           "#B6E880",
           "#FF97FF",
           "#FECB52"
          ],
          "font": {
           "color": "#2a3f5f"
          },
          "geo": {
           "bgcolor": "white",
           "lakecolor": "white",
           "landcolor": "#E5ECF6",
           "showlakes": true,
           "showland": true,
           "subunitcolor": "white"
          },
          "hoverlabel": {
           "align": "left"
          },
          "hovermode": "closest",
          "mapbox": {
           "style": "light"
          },
          "paper_bgcolor": "white",
          "plot_bgcolor": "#E5ECF6",
          "polar": {
           "angularaxis": {
            "gridcolor": "white",
            "linecolor": "white",
            "ticks": ""
           },
           "bgcolor": "#E5ECF6",
           "radialaxis": {
            "gridcolor": "white",
            "linecolor": "white",
            "ticks": ""
           }
          },
          "scene": {
           "xaxis": {
            "backgroundcolor": "#E5ECF6",
            "gridcolor": "white",
            "gridwidth": 2,
            "linecolor": "white",
            "showbackground": true,
            "ticks": "",
            "zerolinecolor": "white"
           },
           "yaxis": {
            "backgroundcolor": "#E5ECF6",
            "gridcolor": "white",
            "gridwidth": 2,
            "linecolor": "white",
            "showbackground": true,
            "ticks": "",
            "zerolinecolor": "white"
           },
           "zaxis": {
            "backgroundcolor": "#E5ECF6",
            "gridcolor": "white",
            "gridwidth": 2,
            "linecolor": "white",
            "showbackground": true,
            "ticks": "",
            "zerolinecolor": "white"
           }
          },
          "shapedefaults": {
           "line": {
            "color": "#2a3f5f"
           }
          },
          "ternary": {
           "aaxis": {
            "gridcolor": "white",
            "linecolor": "white",
            "ticks": ""
           },
           "baxis": {
            "gridcolor": "white",
            "linecolor": "white",
            "ticks": ""
           },
           "bgcolor": "#E5ECF6",
           "caxis": {
            "gridcolor": "white",
            "linecolor": "white",
            "ticks": ""
           }
          },
          "title": {
           "x": 0.05
          },
          "xaxis": {
           "automargin": true,
           "gridcolor": "white",
           "linecolor": "white",
           "ticks": "",
           "title": {
            "standoff": 15
           },
           "zerolinecolor": "white",
           "zerolinewidth": 2
          },
          "yaxis": {
           "automargin": true,
           "gridcolor": "white",
           "linecolor": "white",
           "ticks": "",
           "title": {
            "standoff": 15
           },
           "zerolinecolor": "white",
           "zerolinewidth": 2
          }
         }
        },
        "xaxis": {
         "anchor": "y",
         "domain": [
          0,
          1
         ],
         "title": {
          "text": "tsne_1"
         }
        },
        "yaxis": {
         "anchor": "x",
         "domain": [
          0,
          1
         ],
         "title": {
          "text": "tsne_2"
         }
        }
       }
      }
     },
     "metadata": {},
     "output_type": "display_data"
    }
   ],
   "source": [
    "import plotly.express as px\n",
    "\n",
    "tsne_df = pd.DataFrame(item_tsne, columns=[\"tsne_1\", \"tsne_2\"])\n",
    "tsne_df[\"item_id\"] = np.arange(item_tsne.shape[0])\n",
    "tsne_df = tsne_df.merge(items.reset_index())\n",
    "\n",
    "px.scatter(tsne_df, x=\"tsne_1\", y=\"tsne_2\",\n",
    "           color=\"popularity\",\n",
    "           hover_data=[\"item_id\", \"title\",\n",
    "                       \"release_year\", \"popularity\"])"
   ]
  },
  {
   "cell_type": "markdown",
   "metadata": {},
   "source": [
    "Alternatively with [Uniform Manifold Approximation and Projection](https://github.com/lmcinnes/umap):"
   ]
  },
  {
   "cell_type": "code",
   "execution_count": 47,
   "metadata": {},
   "outputs": [],
   "source": [
    "# %pip install umap-learn"
   ]
  },
  {
   "cell_type": "code",
   "execution_count": 48,
   "metadata": {},
   "outputs": [],
   "source": [
    "# import umap\n",
    "\n",
    "# item_umap = umap.UMAP().fit_transform(item_embeddings)\n",
    "# plt.figure(figsize=(10, 10))\n",
    "# plt.scatter(item_umap[:, 0], item_umap[:, 1]);\n",
    "# plt.xticks(()); plt.yticks(());\n",
    "# plt.show()"
   ]
  },
  {
   "cell_type": "markdown",
   "metadata": {},
   "source": [
    "## A Deep recommender model\n",
    "\n",
    "Using a similar framework as previously, the following deep model described in the course was built (with only two fully connected)\n",
    "\n",
    "<img src=\"images/rec_archi_2.svg\" style=\"width: 600px;\" />\n",
    "\n",
    "To build this model we will need a new kind of layer:"
   ]
  },
  {
   "cell_type": "code",
   "execution_count": 49,
   "metadata": {},
   "outputs": [],
   "source": [
    "from tensorflow.keras.layers import Concatenate"
   ]
  },
  {
   "cell_type": "markdown",
   "metadata": {},
   "source": [
    "\n",
    "### Exercise\n",
    "\n",
    "- The following code has **4 errors** that prevent it from working correctly. **Correct them and explain** why they are critical."
   ]
  },
  {
   "cell_type": "code",
   "execution_count": 50,
   "metadata": {},
   "outputs": [
    {
     "name": "stdout",
     "output_type": "stream",
     "text": [
      "2500/2500 [==============================] - 2s 672us/step\n"
     ]
    }
   ],
   "source": [
    "class DeepRegressionModel(Model):\n",
    "\n",
    "    def __init__(self, embedding_size, max_user_id, max_item_id):\n",
    "        super().__init__()\n",
    "        \n",
    "        self.user_embedding = Embedding(output_dim=embedding_size,\n",
    "                                        input_dim=max_user_id + 1,\n",
    "                                        input_length=1,\n",
    "                                        name='user_embedding')\n",
    "        self.item_embedding = Embedding(output_dim=embedding_size,\n",
    "                                        input_dim=max_item_id + 1,\n",
    "                                        input_length=1,\n",
    "                                        name='item_embedding')\n",
    "        \n",
    "        # The following two layers don't have parameters.\n",
    "        self.flatten = Flatten()\n",
    "        self.concat = Concatenate()\n",
    "        \n",
    "        self.dropout = Dropout(0.99)\n",
    "        self.dense1 = Dense(64, activation=\"relu\")\n",
    "        self.dense2 = Dense(2, activation=\"tanh\")\n",
    "        \n",
    "    def call(self, inputs):\n",
    "        user_inputs = inputs[0]\n",
    "        item_inputs = inputs[1]\n",
    "        \n",
    "        user_vecs = self.flatten(self.user_embedding(user_inputs))\n",
    "        item_vecs = self.flatten(self.item_embedding(item_inputs))\n",
    "        \n",
    "        input_vecs = self.concat([user_vecs, item_vecs])\n",
    "        \n",
    "        y = self.dropout(input_vecs)\n",
    "        y = self.dense1(y)\n",
    "        y = self.dense2(y)\n",
    "        \n",
    "        return y\n",
    "        \n",
    "model = DeepRegressionModel(64, max_user_id, max_item_id)\n",
    "model.compile(optimizer='adam', loss='binary_crossentropy')\n",
    "\n",
    "initial_train_preds = model.predict([user_id_train, item_id_train])"
   ]
  },
  {
   "cell_type": "code",
   "execution_count": 51,
   "metadata": {},
   "outputs": [
    {
     "name": "stdout",
     "output_type": "stream",
     "text": [
      "2500/2500 [==============================] - 2s 705us/step\n"
     ]
    }
   ],
   "source": [
    "# %load solutions/deep_explicit_feedback_recsys.py\n",
    "# For each sample we input the integer identifiers\n",
    "# of a single user and a single item\n",
    "class DeepRegressionModel(Model):\n",
    "\n",
    "    def __init__(self, embedding_size, max_user_id, max_item_id):\n",
    "        super().__init__()\n",
    "\n",
    "        self.user_embedding = Embedding(\n",
    "            output_dim=embedding_size,\n",
    "            input_dim=max_user_id + 1,\n",
    "            input_length=1,\n",
    "            name='user_embedding'\n",
    "        )\n",
    "        self.item_embedding = Embedding(\n",
    "            output_dim=embedding_size,\n",
    "            input_dim=max_item_id + 1,\n",
    "            input_length=1,\n",
    "            name='item_embedding'\n",
    "        )\n",
    "\n",
    "        # The following two layers don't have parameters.\n",
    "        self.flatten = Flatten()\n",
    "        self.concat = Concatenate()\n",
    "\n",
    "        ## Error 1: Dropout was too high, preventing any training\n",
    "        self.dropout = Dropout(0.5)\n",
    "        self.dense1 = Dense(64, activation=\"relu\")\n",
    "        ## Error 2: output dimension was 2 where we predict only 1-d rating\n",
    "        ## Error 3: tanh activation squashes the outputs between -1 and 1\n",
    "        ## when we want to predict values between 1 and 5\n",
    "        self.dense2 = Dense(1)\n",
    "\n",
    "    def call(self, inputs, training=False):\n",
    "        user_inputs = inputs[0]\n",
    "        item_inputs = inputs[1]\n",
    "\n",
    "        user_vecs = self.flatten(self.user_embedding(user_inputs))\n",
    "        item_vecs = self.flatten(self.item_embedding(item_inputs))\n",
    "\n",
    "        input_vecs = self.concat([user_vecs, item_vecs])\n",
    "\n",
    "        y = self.dropout(input_vecs, training=training)\n",
    "        y = self.dense1(y)\n",
    "        y = self.dropout(y, training=training)\n",
    "        y = self.dense2(y)\n",
    "\n",
    "        return y\n",
    "\n",
    "\n",
    "model = DeepRegressionModel(64, max_user_id, max_item_id)\n",
    "## Error 4: A binary crossentropy loss is only useful for binary\n",
    "## classification, while we are in regression (use mse or mae)\n",
    "model.compile(optimizer='adam', loss='mae')\n",
    "\n",
    "initial_train_preds = model.predict([user_id_train, item_id_train])\n"
   ]
  },
  {
   "cell_type": "code",
   "execution_count": 52,
   "metadata": {},
   "outputs": [
    {
     "name": "stdout",
     "output_type": "stream",
     "text": [
      "Epoch 1/10\n",
      "1125/1125 [==============================] - 2s 2ms/step - loss: 1.0952 - val_loss: 0.7672\n",
      "Epoch 2/10\n",
      "1125/1125 [==============================] - 2s 2ms/step - loss: 0.8690 - val_loss: 0.7605\n",
      "Epoch 3/10\n",
      "1125/1125 [==============================] - 2s 1ms/step - loss: 0.8382 - val_loss: 0.7547\n",
      "Epoch 4/10\n",
      "1125/1125 [==============================] - 2s 2ms/step - loss: 0.8138 - val_loss: 0.7539\n",
      "Epoch 5/10\n",
      "1125/1125 [==============================] - 2s 2ms/step - loss: 0.7983 - val_loss: 0.7520\n",
      "Epoch 6/10\n",
      "1125/1125 [==============================] - 2s 2ms/step - loss: 0.7805 - val_loss: 0.7459\n",
      "Epoch 7/10\n",
      "1125/1125 [==============================] - 2s 2ms/step - loss: 0.7673 - val_loss: 0.7427\n",
      "Epoch 8/10\n",
      "1125/1125 [==============================] - 2s 2ms/step - loss: 0.7557 - val_loss: 0.7418\n",
      "Epoch 9/10\n",
      "1125/1125 [==============================] - 2s 2ms/step - loss: 0.7454 - val_loss: 0.7364\n",
      "Epoch 10/10\n",
      "1125/1125 [==============================] - 2s 2ms/step - loss: 0.7386 - val_loss: 0.7333\n",
      "CPU times: user 36.6 s, sys: 6.88 s, total: 43.4 s\n",
      "Wall time: 18.3 s\n"
     ]
    }
   ],
   "source": [
    "%%time\n",
    "history = model.fit([user_id_train, item_id_train], rating_train,\n",
    "                    batch_size=64, epochs=10, validation_split=0.1,\n",
    "                    shuffle=True)"
   ]
  },
  {
   "cell_type": "code",
   "execution_count": 53,
   "metadata": {},
   "outputs": [
    {
     "data": {
      "image/png": "[encoded data removed]",
      "text/plain": [
       "<Figure size 640x480 with 1 Axes>"
      ]
     },
     "metadata": {},
     "output_type": "display_data"
    }
   ],
   "source": [
    "plt.plot(history.history['loss'], label='train')\n",
    "plt.plot(history.history['val_loss'], label='validation')\n",
    "plt.ylim(0, 2)\n",
    "plt.legend(loc='best')\n",
    "plt.title('Loss');"
   ]
  },
  {
   "cell_type": "code",
   "execution_count": 54,
   "metadata": {},
   "outputs": [
    {
     "name": "stdout",
     "output_type": "stream",
     "text": [
      "2500/2500 [==============================] - 2s 737us/step\n",
      "Final train MSE: 0.828\n",
      "Final train MAE: 0.699\n"
     ]
    }
   ],
   "source": [
    "train_preds = model.predict([user_id_train, item_id_train])\n",
    "print(\"Final train MSE: %0.3f\" % mean_squared_error(train_preds, rating_train))\n",
    "print(\"Final train MAE: %0.3f\" % mean_absolute_error(train_preds, rating_train))"
   ]
  },
  {
   "cell_type": "code",
   "execution_count": 55,
   "metadata": {},
   "outputs": [
    {
     "name": "stdout",
     "output_type": "stream",
     "text": [
      "625/625 [==============================] - 0s 692us/step\n",
      "Final test MSE: 0.890\n",
      "Final test MAE: 0.731\n"
     ]
    }
   ],
   "source": [
    "test_preds = model.predict([user_id_test, item_id_test])\n",
    "print(\"Final test MSE: %0.3f\" % mean_squared_error(test_preds, rating_test))\n",
    "print(\"Final test MAE: %0.3f\" % mean_absolute_error(test_preds, rating_test))"
   ]
  },
  {
   "cell_type": "markdown",
   "metadata": {},
   "source": [
    "The performance of this model is not necessarily significantly better than the previous model but you can notice that the gap between train and test is lower, probably thanks to the use of dropout.\n",
    "\n",
    "Furthermore this model is more flexible in the sense that we can extend it to include metadata for hybrid recsys as we will see in the following."
   ]
  },
  {
   "cell_type": "markdown",
   "metadata": {},
   "source": [
    "### Home assignment: \n",
    " - Add another layer, compare train/test error.\n",
    " - Can you improve the test MAE? \n",
    " - Try adding more dropout and change layer sizes.\n",
    " \n",
    " \n",
    "Manual tuning of so many hyperparameters is tedious. In practice it's better to automate the design of the model using an hyperparameter search tool such as:\n",
    "\n",
    "- https://keras-team.github.io/keras-tuner/ (Keras specific)\n",
    "- https://optuna.org/ (any machine learning framework, Keras included)"
   ]
  },
  {
   "cell_type": "markdown",
   "metadata": {},
   "source": [
    "## Using item metadata in the model\n",
    "\n",
    "Using a similar framework as previously, we will build another deep model that can also leverage additional metadata. The resulting system is therefore an **Hybrid Recommender System** that does both **Collaborative Filtering** and **Content-based recommendations**.\n",
    "\n",
    "<img src=\"images/rec_archi_3.svg\" style=\"width: 600px;\" />\n"
   ]
  },
  {
   "cell_type": "code",
   "execution_count": 56,
   "metadata": {},
   "outputs": [],
   "source": [
    "from sklearn.preprocessing import QuantileTransformer\n",
    "\n",
    "meta_columns = ['popularity', 'release_year']\n",
    "\n",
    "scaler = QuantileTransformer()\n",
    "item_meta_train = scaler.fit_transform(ratings_train[meta_columns])\n",
    "item_meta_test = scaler.transform(ratings_test[meta_columns])"
   ]
  },
  {
   "cell_type": "code",
   "execution_count": 57,
   "metadata": {},
   "outputs": [
    {
     "name": "stdout",
     "output_type": "stream",
     "text": [
      "2500/2500 [==============================] - 2s 741us/step\n"
     ]
    }
   ],
   "source": [
    "class HybridModel(Model):\n",
    "\n",
    "    def __init__(self, embedding_size, max_user_id, max_item_id):\n",
    "        super().__init__()\n",
    "        \n",
    "        self.user_embedding = Embedding(output_dim=embedding_size,\n",
    "                                        input_dim=max_user_id + 1,\n",
    "                                        input_length=1,\n",
    "                                        name='user_embedding')\n",
    "        self.item_embedding = Embedding(output_dim=embedding_size,\n",
    "                                        input_dim=max_item_id + 1,\n",
    "                                        input_length=1,\n",
    "                                        name='item_embedding')\n",
    "        \n",
    "        # The following two layers don't have parameters.\n",
    "        self.flatten = Flatten()\n",
    "        self.concat = Concatenate()\n",
    "        \n",
    "        self.dense1 = Dense(64, activation=\"relu\")\n",
    "        self.dropout = Dropout(0.3)\n",
    "        self.dense2 = Dense(64, activation='relu')\n",
    "        self.dense3 = Dense(1)\n",
    "        \n",
    "    def call(self, inputs, training=False):\n",
    "        user_inputs = inputs[0]\n",
    "        item_inputs = inputs[1]\n",
    "        meta_inputs = inputs[2]\n",
    "\n",
    "        user_vecs = self.flatten(self.user_embedding(user_inputs))\n",
    "        user_vecs = self.dropout(user_vecs, training=training)\n",
    "\n",
    "        item_vecs = self.flatten(self.item_embedding(item_inputs))\n",
    "        item_vecs = self.dropout(item_vecs, training=training)\n",
    "\n",
    "        input_vecs = self.concat([user_vecs, item_vecs, meta_inputs])\n",
    "\n",
    "        y = self.dense1(input_vecs)\n",
    "        y = self.dropout(y, training=training)\n",
    "        y = self.dense2(y)\n",
    "        y = self.dropout(y, training=training)\n",
    "        y = self.dense3(y)\n",
    "        return y\n",
    "        \n",
    "model = HybridModel(64, max_user_id, max_item_id)\n",
    "model.compile(optimizer='adam', loss='mae')\n",
    "\n",
    "initial_train_preds = model.predict([user_id_train,\n",
    "                                     item_id_train,\n",
    "                                     item_meta_train])"
   ]
  },
  {
   "cell_type": "code",
   "execution_count": 58,
   "metadata": {},
   "outputs": [
    {
     "name": "stdout",
     "output_type": "stream",
     "text": [
      "Epoch 1/10\n",
      "1125/1125 [==============================] - 2s 2ms/step - loss: 0.9943 - val_loss: 0.7598\n",
      "Epoch 2/10\n",
      "1125/1125 [==============================] - 2s 2ms/step - loss: 0.8283 - val_loss: 0.7469\n",
      "Epoch 3/10\n",
      "1125/1125 [==============================] - 2s 2ms/step - loss: 0.8025 - val_loss: 0.7398\n",
      "Epoch 4/10\n",
      "1125/1125 [==============================] - 2s 2ms/step - loss: 0.7790 - val_loss: 0.7394\n",
      "Epoch 5/10\n",
      "1125/1125 [==============================] - 2s 2ms/step - loss: 0.7634 - val_loss: 0.7300\n",
      "Epoch 6/10\n",
      "1125/1125 [==============================] - 2s 2ms/step - loss: 0.7482 - val_loss: 0.7348\n",
      "Epoch 7/10\n",
      "1125/1125 [==============================] - 2s 2ms/step - loss: 0.7365 - val_loss: 0.7242\n",
      "Epoch 8/10\n",
      "1125/1125 [==============================] - 2s 2ms/step - loss: 0.7284 - val_loss: 0.7256\n",
      "Epoch 9/10\n",
      "1125/1125 [==============================] - 2s 2ms/step - loss: 0.7193 - val_loss: 0.7218\n",
      "Epoch 10/10\n",
      "1125/1125 [==============================] - 2s 2ms/step - loss: 0.7093 - val_loss: 0.7153\n",
      "CPU times: user 42.3 s, sys: 8.34 s, total: 50.6 s\n",
      "Wall time: 20.5 s\n"
     ]
    }
   ],
   "source": [
    "%%time\n",
    "history = model.fit([user_id_train, item_id_train, item_meta_train],\n",
    "                    rating_train,\n",
    "                    batch_size=64, epochs=10, validation_split=0.1,\n",
    "                    shuffle=True)"
   ]
  },
  {
   "cell_type": "code",
   "execution_count": 59,
   "metadata": {},
   "outputs": [
    {
     "name": "stdout",
     "output_type": "stream",
     "text": [
      "625/625 [==============================] - 1s 809us/step\n",
      "Final test MSE: 0.876\n",
      "Final test MAE: 0.719\n"
     ]
    }
   ],
   "source": [
    "test_preds = model.predict([user_id_test, item_id_test, item_meta_test])\n",
    "print(\"Final test MSE: %0.3f\" % mean_squared_error(test_preds, rating_test))\n",
    "print(\"Final test MAE: %0.3f\" % mean_absolute_error(test_preds, rating_test))"
   ]
  },
  {
   "cell_type": "markdown",
   "metadata": {},
   "source": [
    "The additional metadata seems to improve the predictive power of the model a bit but this should be re-run several times to see the impact of the random initialization of the model.\n",
    "\n",
    "\n",
    "### A recommendation function for a given user\n",
    "\n",
    "Once the model is trained, the system can be used to recommend a few items for a user, that he/she hasn't already seen:\n",
    "- we use the `model.predict` to compute the ratings a user would have given to all items\n",
    "- we build a reco function that sorts these items and exclude those the user has already seen"
   ]
  },
  {
   "cell_type": "code",
   "execution_count": 60,
   "metadata": {
    "scrolled": true
   },
   "outputs": [],
   "source": [
    "def recommend(user_id, top_n=10):\n",
    "    item_ids = range(1, max_item_id)\n",
    "    seen_mask = all_ratings[\"user_id\"] == user_id\n",
    "    seen_movies = set(all_ratings[seen_mask][\"item_id\"])\n",
    "    item_ids = list(filter(lambda x: x not in seen_movies, item_ids))\n",
    "\n",
    "    print(\"User %d has seen %d movies, including:\" % (user_id, len(seen_movies)))\n",
    "    for title in all_ratings[seen_mask].nlargest(20, 'popularity')['title']:\n",
    "        print(\"   \", title)\n",
    "    print(\"Computing ratings for %d other movies:\" % len(item_ids))\n",
    "    \n",
    "    item_ids = np.array(item_ids)\n",
    "    user_ids = np.zeros_like(item_ids)\n",
    "    user_ids[:] = user_id\n",
    "    items_meta = scaler.transform(indexed_items[meta_columns].loc[item_ids])\n",
    "    \n",
    "    rating_preds = model.predict([user_ids, item_ids, items_meta])\n",
    "    \n",
    "    item_ids = np.argsort(rating_preds[:, 0])[::-1].tolist()\n",
    "    rec_items = item_ids[:top_n]\n",
    "    return [(items[\"title\"][movie], rating_preds[movie][0])\n",
    "            for movie in rec_items]"
   ]
  },
  {
   "cell_type": "code",
   "execution_count": 61,
   "metadata": {},
   "outputs": [
    {
     "name": "stdout",
     "output_type": "stream",
     "text": [
      "User 5 has seen 175 movies, including:\n",
      "    Star Wars (1977)\n",
      "    Fargo (1996)\n",
      "    Return of the Jedi (1983)\n",
      "    Toy Story (1995)\n",
      "    Independence Day (ID4) (1996)\n",
      "    Raiders of the Lost Ark (1981)\n",
      "    Silence of the Lambs, The (1991)\n",
      "    Empire Strikes Back, The (1980)\n",
      "    Star Trek: First Contact (1996)\n",
      "    Back to the Future (1985)\n",
      "    Mission: Impossible (1996)\n",
      "    Fugitive, The (1993)\n",
      "    Indiana Jones and the Last Crusade (1989)\n",
      "    Willy Wonka and the Chocolate Factory (1971)\n",
      "    Princess Bride, The (1987)\n",
      "    Forrest Gump (1994)\n",
      "    Monty Python and the Holy Grail (1974)\n",
      "    Men in Black (1997)\n",
      "    E.T. the Extra-Terrestrial (1982)\n",
      "    Birdcage, The (1996)\n",
      "Computing ratings for 1506 other movies:\n",
      "48/48 [==============================] - 0s 800us/step\n",
      "    5.1: August (1996)\n",
      "    5.0: Romy and Michele's High School Reunion (1997)\n",
      "    4.9: Simple Wish, A (1997)\n",
      "    4.8: Robocop 3 (1993)\n",
      "    4.8: Raising Arizona (1987)\n",
      "    4.7: Ref, The (1994)\n",
      "    4.7: Boys of St. Vincent, The (1993)\n",
      "    4.7: So I Married an Axe Murderer (1993)\n",
      "    4.7: Saint of Fort Washington, The (1993)\n",
      "    4.7: Highlander III: The Sorcerer (1994)\n"
     ]
    }
   ],
   "source": [
    "for title, pred_rating in recommend(5):\n",
    "    print(\"    %0.1f: %s\" % (pred_rating, title))"
   ]
  },
  {
   "cell_type": "markdown",
   "metadata": {},
   "source": [
    "### Home assignment: Predicting ratings as a classification problem\n",
    "\n",
    "In this dataset, the ratings all belong to a finite set of possible values:"
   ]
  },
  {
   "cell_type": "code",
   "execution_count": 62,
   "metadata": {},
   "outputs": [
    {
     "data": {
      "text/plain": [
       "array([1, 2, 3, 4, 5])"
      ]
     },
     "execution_count": 62,
     "metadata": {},
     "output_type": "execute_result"
    }
   ],
   "source": [
    "import numpy as np\n",
    "\n",
    "np.unique(rating_train)"
   ]
  },
  {
   "cell_type": "markdown",
   "metadata": {},
   "source": [
    "Maybe we can help the model by forcing it to predict those values by treating the problem as a multiclassification problem. The only required changes are:\n",
    "\n",
    "- setting the final layer to output class membership probabities using a softmax activation with 5 outputs;\n",
    "- optimize the categorical cross-entropy classification loss instead of a regression loss such as MSE or MAE."
   ]
  },
  {
   "cell_type": "code",
   "execution_count": 63,
   "metadata": {},
   "outputs": [
    {
     "name": "stdout",
     "output_type": "stream",
     "text": [
      "2500/2500 [==============================] - 2s 702us/step\n",
      "Random init MSE: 6.178\n",
      "Random init MAE: 2.177\n",
      "Epoch 1/15\n",
      "1125/1125 [==============================] - 2s 2ms/step - loss: 1.3659 - val_loss: 1.2761\n",
      "Epoch 2/15\n",
      "1125/1125 [==============================] - 2s 2ms/step - loss: 1.2815 - val_loss: 1.2627\n",
      "Epoch 3/15\n",
      "1125/1125 [==============================] - 3s 2ms/step - loss: 1.2617 - val_loss: 1.2561\n",
      "Epoch 4/15\n",
      "1125/1125 [==============================] - 2s 2ms/step - loss: 1.2539 - val_loss: 1.2504\n",
      "Epoch 5/15\n",
      "1125/1125 [==============================] - 3s 3ms/step - loss: 1.2445 - val_loss: 1.2480\n",
      "Epoch 6/15\n",
      "1125/1125 [==============================] - 3s 3ms/step - loss: 1.2361 - val_loss: 1.2438\n",
      "Epoch 7/15\n",
      "1125/1125 [==============================] - 2s 2ms/step - loss: 1.2348 - val_loss: 1.2438\n",
      "Epoch 8/15\n",
      "1125/1125 [==============================] - 3s 2ms/step - loss: 1.2304 - val_loss: 1.2431\n",
      "Epoch 9/15\n",
      "1125/1125 [==============================] - 3s 2ms/step - loss: 1.2263 - val_loss: 1.2397\n",
      "Epoch 10/15\n",
      "1125/1125 [==============================] - 2s 2ms/step - loss: 1.2223 - val_loss: 1.2396\n",
      "Epoch 11/15\n",
      "1125/1125 [==============================] - 3s 3ms/step - loss: 1.2204 - val_loss: 1.2387\n",
      "Epoch 12/15\n",
      "1125/1125 [==============================] - 4s 4ms/step - loss: 1.2177 - val_loss: 1.2418\n",
      "Epoch 13/15\n",
      "1125/1125 [==============================] - 3s 2ms/step - loss: 1.2162 - val_loss: 1.2369\n",
      "Epoch 14/15\n",
      "1125/1125 [==============================] - 3s 3ms/step - loss: 1.2130 - val_loss: 1.2391\n",
      "Epoch 15/15\n",
      "1125/1125 [==============================] - 3s 3ms/step - loss: 1.2107 - val_loss: 1.2413\n",
      "625/625 [==============================] - 1s 1ms/step\n",
      "Final test MSE: 1.181\n",
      "Final test MAE: 0.728\n"
     ]
    },
    {
     "data": {
      "image/png": "[encoded data removed]",
      "text/plain": [
       "<Figure size 640x480 with 1 Axes>"
      ]
     },
     "metadata": {},
     "output_type": "display_data"
    }
   ],
   "source": [
    "# %load solutions/classification.py\n",
    "class ClassificationModel(Model):\n",
    "    def __init__(self, embedding_size, max_user_id, max_item_id):\n",
    "        super().__init__()\n",
    "\n",
    "        self.user_embedding = Embedding(output_dim=embedding_size, input_dim=max_user_id + 1,\n",
    "                                        input_length=1, name='user_embedding')\n",
    "        self.item_embedding = Embedding(output_dim=embedding_size, input_dim=max_item_id + 1,\n",
    "                                        input_length=1, name='item_embedding')\n",
    "\n",
    "        # The following two layers don't have parameters.\n",
    "        self.flatten = Flatten()\n",
    "        self.concat = Concatenate()\n",
    "\n",
    "        self.dropout1 = Dropout(0.5)\n",
    "        self.dense1 = Dense(128, activation=\"relu\")\n",
    "        self.dropout2 = Dropout(0.2)\n",
    "        self.dense2 = Dense(128, activation='relu')\n",
    "        self.dense3 = Dense(5, activation=\"softmax\")\n",
    "\n",
    "    def call(self, inputs):\n",
    "        user_inputs = inputs[0]\n",
    "        item_inputs = inputs[1]\n",
    "\n",
    "        user_vecs = self.flatten(self.user_embedding(user_inputs))\n",
    "        item_vecs = self.flatten(self.item_embedding(item_inputs))\n",
    "\n",
    "        input_vecs = self.concat([user_vecs, item_vecs])\n",
    "\n",
    "        y = self.dropout1(input_vecs)\n",
    "        y = self.dense1(y)\n",
    "        y = self.dropout2(y)\n",
    "        y = self.dense2(y)\n",
    "        y = self.dense3(y)\n",
    "\n",
    "        return y\n",
    "\n",
    "model = ClassificationModel(16, max_user_id, max_item_id)\n",
    "model.compile(optimizer='adam', loss='sparse_categorical_crossentropy')\n",
    "\n",
    "initial_train_preds = model.predict([user_id_train, item_id_train]).argmax(axis=1) + 1\n",
    "print(\"Random init MSE: %0.3f\" % mean_squared_error(initial_train_preds, rating_train))\n",
    "print(\"Random init MAE: %0.3f\" % mean_absolute_error(initial_train_preds, rating_train))\n",
    "\n",
    "history = model.fit([user_id_train, item_id_train], rating_train - 1,\n",
    "                    batch_size=64, epochs=15, validation_split=0.1,\n",
    "                    shuffle=True)\n",
    "\n",
    "plt.plot(history.history['loss'], label='train')\n",
    "plt.plot(history.history['val_loss'], label='validation')\n",
    "plt.ylim(0, 2)\n",
    "plt.legend(loc='best')\n",
    "plt.title('loss');\n",
    "\n",
    "test_preds = model.predict([user_id_test, item_id_test]).argmax(axis=1) + 1\n",
    "print(\"Final test MSE: %0.3f\" % mean_squared_error(test_preds, rating_test))\n",
    "print(\"Final test MAE: %0.3f\" % mean_absolute_error(test_preds, rating_test))\n"
   ]
  }
 ],
 "metadata": {
  "kernelspec": {
   "display_name": "dlclass",
   "language": "python",
   "name": "python3"
  },
  "language_info": {
   "codemirror_mode": {
    "name": "ipython",
    "version": 3
   },
   "file_extension": ".py",
   "mimetype": "text/x-python",
   "name": "python",
   "nbconvert_exporter": "python",
   "pygments_lexer": "ipython3",
   "version": "3.9.16"
  },
  "vscode": {
   "interpreter": {
    "hash": "d0c16f18b5f3970cba7a02f2eee75beed71986acb56b8dc8665145ebd186e63c"
   }
  }
 },
 "nbformat": 4,
 "nbformat_minor": 4
}
